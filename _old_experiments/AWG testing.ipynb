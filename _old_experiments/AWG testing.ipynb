{
 "cells": [
  {
   "cell_type": "code",
   "execution_count": 1,
   "metadata": {},
   "outputs": [
    {
     "name": "stdout",
     "output_type": "stream",
     "text": [
      "pyqtgraph plotting not supported, try \"from qcodes.plots.pyqtgraph import QtPlot\" to see the full error\n"
     ]
    },
    {
     "data": {
      "text/plain": [
       "<module 'pulsar.util.view' from 'C:\\\\Users\\\\Administrator\\\\Code\\\\pulsar\\\\pulsar\\\\util\\\\view.py'>"
      ]
     },
     "execution_count": 1,
     "metadata": {},
     "output_type": "execute_result"
    }
   ],
   "source": [
    "import sys\n",
    "import numpy as np\n",
    "from matplotlib import pyplot as plt\n",
    "\n",
    "%matplotlib notebook\n",
    "\n",
    "paths = [\n",
    "    r\"C:\\Users\\Administrator\\Code\\qcodes_jens\",\n",
    "    r\"C:\\Users\\Administrator\\Code\\pulsar\",\n",
    "]\n",
    "\n",
    "for p in paths:\n",
    "    if p not in sys.path:\n",
    "        sys.path.append(p)\n",
    "\n",
    "import qcodes as qc\n",
    "from pulsar import pulse, element\n",
    "from pulsar.util import view\n",
    "\n",
    "from importlib import reload\n",
    "reload(pulse)\n",
    "reload(element)\n",
    "reload(view)"
   ]
  },
  {
   "cell_type": "code",
   "execution_count": 2,
   "metadata": {},
   "outputs": [
    {
     "name": "stdout",
     "output_type": "stream",
     "text": [
      "Connected to: TEKTRONIX AWG5014C (serial:B051388, firmware:SCPI:99.0 FW:4.6.0.7) in 0.10s\n"
     ]
    }
   ],
   "source": [
    "from qcodes.instrument_drivers.tektronix.AWG5014 import Tektronix_AWG5014\n",
    "awg = Tektronix_AWG5014('awg', address=\"TCPIP0::169.254.183.196::inst0::INSTR\")"
   ]
  },
  {
   "cell_type": "code",
   "execution_count": 3,
   "metadata": {
    "collapsed": true
   },
   "outputs": [],
   "source": [
    "# view.show_element(e)\n",
    "# view.show_element(f)"
   ]
  },
  {
   "cell_type": "code",
   "execution_count": 3,
   "metadata": {},
   "outputs": [],
   "source": [
    "def prepare_wfs(elements, channel_map):\n",
    "    allwfs = []\n",
    "    allm1s = []\n",
    "    allm2s = []\n",
    "    \n",
    "    chans = []\n",
    "    for ch in channel_map.keys():\n",
    "        if channel_map[ch] == 3 * [None]:\n",
    "            continue\n",
    "        chans.append(ch)\n",
    "        \n",
    "        wfs = []\n",
    "        m1s = []\n",
    "        m2s = []\n",
    "        \n",
    "        for i, elt in enumerate(elements):\n",
    "            ts, ws = elt.waveforms()\n",
    "            fzeros = 0.0 * ts\n",
    "            izeros = np.zeros(ts.size, dtype=np.int)\n",
    "        \n",
    "            wfs.append(ws.pop(channel_map[ch][0], fzeros))\n",
    "            m1s.append(ws.pop(channel_map[ch][1], izeros))\n",
    "            m2s.append(ws.pop(channel_map[ch][2], izeros))\n",
    "            \n",
    "        allwfs.append(wfs)\n",
    "        allm1s.append(m1s)\n",
    "        allm2s.append(m2s)\n",
    "                    \n",
    "    return allwfs, allm1s, allm2s"
   ]
  },
  {
   "cell_type": "code",
   "execution_count": null,
   "metadata": {
    "collapsed": true
   },
   "outputs": [],
   "source": [
    "# w, m1, m2 = prepare_wfs(elements, chan_map)\n",
    "# w"
   ]
  },
  {
   "cell_type": "markdown",
   "metadata": {},
   "source": [
    "#For singlge line scan use length = 500e-6, length2 = 2e-3, 120mVpp on AWG, 10MS/s.  This gives signal from blockade oscillations ~ 340Hz in FFT\n",
    "#For 2D scan use length = 90e-6, 50mVpp on AWG, 10MS/s"
   ]
  },
  {
   "cell_type": "code",
   "execution_count": 5,
   "metadata": {},
   "outputs": [],
   "source": [
    "chan_map = {\n",
    "    1 : [None, None, None],\n",
    "    2 : ['G', 'trig', None],\n",
    "    3 : [None] * 3,\n",
    "    4 : [None] * 3,\n",
    "}\n",
    "\n",
    "elements = []\n",
    "npts = 200\n",
    "npts2 = 100\n",
    "length = 90e-6\n",
    "length2 = 2e-3/npts2\n",
    "amps = np.linspace(0, 1, npts)\n",
    "amps2 = np.linspace(1, 0, npts2)\n",
    "\n",
    "e = element.Element('elt1', clock=1e7, min_samples=2500)\n",
    "e.define_channel('G', delay=0, type='analog', high=1, low=-1, offset=0)\n",
    "e.define_channel('trig', type='marker', high=1, low=0, delay=0)\n",
    "\n",
    "name = None\n",
    "for i, amp in enumerate(amps):\n",
    "    name = e.add(\n",
    "        pulse.cp(pulse.SquarePulse('G', 'gate'), \n",
    "                 amplitude=amp, length=length),\n",
    "        refpulse=name, refpoint='end',\n",
    "    )\n",
    "    \n",
    "    _ = e.add(\n",
    "        pulse.cp(pulse.SquarePulse('trig', 'trigger'),\n",
    "                 amplitude=1, length=1e-6),\n",
    "        refpulse=name, refpoint='start', start=1e-6,\n",
    "    )\n",
    "    \n",
    "for i, amp in enumerate(amps2):\n",
    "    name = e.add(\n",
    "        pulse.cp(pulse.SquarePulse('G', 'gate'),\n",
    "                 amplitude=amp, length=length2),\n",
    "        refpulse=name, refpoint='end',\n",
    "    )\n",
    "\n",
    "elements.append(e)\n",
    "\n",
    "nelts = len(elements)\n",
    "w, m1, m2 = prepare_wfs(elements, chan_map)\n",
    "awg.make_send_and_load_awg_file(w, m1, m2, nelts * [1], nelts * [0], (nelts-1)*[0] + [1], nelts*[0], nelts*[2], \n",
    "                                \"ramp.awg\")"
   ]
  },
  {
   "cell_type": "code",
   "execution_count": null,
   "metadata": {
    "collapsed": true
   },
   "outputs": [],
   "source": [
    "# e.print_overview()\n",
    "print(e.length())\n",
    "print(e.samples())"
   ]
  },
  {
   "cell_type": "code",
   "execution_count": null,
   "metadata": {
    "collapsed": true,
    "scrolled": true
   },
   "outputs": [],
   "source": [
    "(500 * 0.2)"
   ]
  }
 ],
 "metadata": {
  "kernelspec": {
   "display_name": "Python 3",
   "language": "python",
   "name": "python3"
  },
  "language_info": {
   "codemirror_mode": {
    "name": "ipython",
    "version": 3
   },
   "file_extension": ".py",
   "mimetype": "text/x-python",
   "name": "python",
   "nbconvert_exporter": "python",
   "pygments_lexer": "ipython3",
   "version": "3.6.3"
  }
 },
 "nbformat": 4,
 "nbformat_minor": 2
}
