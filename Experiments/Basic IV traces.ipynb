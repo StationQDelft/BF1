{
 "cells": [
  {
   "cell_type": "code",
   "execution_count": 1,
   "metadata": {},
   "outputs": [],
   "source": [
    "%matplotlib notebook\n",
    "\n",
    "import os\n",
    "import time\n",
    "import numpy as np\n",
    "import matplotlib as mpl\n",
    "\n",
    "from collections import OrderedDict\n",
    "from importlib import reload\n",
    "from matplotlib import pyplot as plt"
   ]
  },
  {
   "cell_type": "code",
   "execution_count": 2,
   "metadata": {},
   "outputs": [],
   "source": [
    "import qcodes as qc\n",
    "from qcodes import load_by_id\n",
    "from qcodes import validators\n",
    "from qcodes.dataset.measurements import Measurement\n",
    "from qcodes.instrument.base import Instrument\n",
    "from qcodes.instrument.parameter import Parameter"
   ]
  },
  {
   "cell_type": "code",
   "execution_count": 3,
   "metadata": {},
   "outputs": [],
   "source": [
    "from pytopo.qctools.instruments import create_inst\n",
    "from pytopo.qctools.dataset2 import select_experiment\n",
    "\n",
    "from plottr import client\n",
    "from plottr.qcodes_dataset import QcodesDatasetSubscriber\n",
    "\n",
    "from pytopo.mplplots.init_nb_plotting import *\n",
    "\n",
    "qc.config['core']['db_location'] = r\"d:/OneDrive/BF1/Data/experiments.db\""
   ]
  },
  {
   "cell_type": "code",
   "execution_count": null,
   "metadata": {},
   "outputs": [],
   "source": []
  },
  {
   "cell_type": "code",
   "execution_count": 4,
   "metadata": {},
   "outputs": [
    {
     "name": "stdout",
     "output_type": "stream",
     "text": [
      "Initialized IVVI-rack in 0.08s\n",
      "Connected to: Keysight Technologies 34465A (serial:MY57503135, firmware:A.02.14-02.40-02.14-00.49-03-01) in 0.12s\n",
      "Connected to: Keysight Technologies 34465A (serial:MY57503556, firmware:A.02.14-02.40-02.14-00.49-03-01) in 0.12s\n",
      "Connected to: Keysight Technologies 34465A (serial:MY57503596, firmware:A.02.14-02.40-02.14-00.49-03-01) in 0.17s\n",
      "Connected to: Keysight Technologies 34465A (serial:MY57504203, firmware:A.02.16-02.40-02.16-00.51-03-01) in 0.13s\n",
      "Connected to: Stanford_Research_Systems SR860 (serial:003104, firmware:V1.47) in 0.10s\n",
      "Connected to: Stanford_Research_Systems SR860 (serial:003102, firmware:V1.47) in 0.05s\n",
      "Connected to: Stanford_Research_Systems SR860 (serial:003106, firmware:V1.47) in 0.03s\n"
     ]
    },
    {
     "name": "stderr",
     "output_type": "stream",
     "text": [
      "d:\\onedrive\\bf1\\code\\qcodes\\qcodes\\instrument\\parameter.py:518: UserWarning: set_step is deprecated use step property as in `inst.step = stepvalue` instead\n",
      "  \"set_step is deprecated use step property as in `inst.step = \"\n",
      "d:\\onedrive\\bf1\\code\\qcodes\\qcodes\\instrument\\parameter.py:530: UserWarning: set_delay is deprecated use inter_delay or post_delay property as in `inst.inter_delay = delayvalue` instead\n",
      "  \"set_delay is deprecated use inter_delay or post_delay property \"\n"
     ]
    },
    {
     "name": "stdout",
     "output_type": "stream",
     "text": [
      "Connected to: AMERICAN MAGNETICS INC. 430 (serial:170025, firmware:2.50) in 0.99s\n",
      "Connected to: AMERICAN MAGNETICS INC. 430 (serial:170026, firmware:2.50) in 0.82s\n",
      "Connected to: AMERICAN MAGNETICS INC. 430 (serial:170024, firmware:2.50) in 1.03s\n"
     ]
    }
   ],
   "source": [
    "from qcodes.instrument_drivers.QuTech.IVVI import IVVI\n",
    "ivvi = create_inst(IVVI, \"ivvi\", \"ASRL5::INSTR\")\n",
    "\n",
    "from qcodes.instrument_drivers.Keysight.Keysight_34465A import Keysight_34465A\n",
    "key1 = create_inst(Keysight_34465A, \"key1\", \"TCPIP::169.254.4.62::INSTR\", force_new_instance=True)\n",
    "key2 = create_inst(Keysight_34465A, \"key2\", \"TCPIP::169.254.4.61::INSTR\", force_new_instance=True)\n",
    "key3 = create_inst(Keysight_34465A, \"key3\", \"TCPIP::169.254.21.92::INSTR\", force_new_instance=True)\n",
    "key4 = create_inst(Keysight_34465A, \"key4\", \"TCPIP::169.254.130.42::INSTR\", force_new_instance=True)\n",
    "\n",
    "from qcodes.instrument_drivers.stanford_research.SR860 import SR860\n",
    "lockin1 = create_inst(SR860, \"lockin1\", \"GPIB0::3::INSTR\")\n",
    "lockin2 = create_inst(SR860, \"lockin2\", \"GPIB0::4::INSTR\")\n",
    "lockin3 = create_inst(SR860, \"lockin3\", \"GPIB0::5::INSTR\")\n",
    "\n",
    "for i in range(1,16):\n",
    "    ivvi.parameters['dac{}'.format(i)].set_step(0.5)\n",
    "    ivvi.parameters['dac{}'.format(i)].set_delay(0.001)\n",
    "    \n",
    "ivvi.dac1.set_delay(0.001)\n",
    "ivvi.dac1.set_step(20)\n",
    "\n",
    "ivvi.dac2.set_delay(0.001)\n",
    "ivvi.dac2.set_step(20)\n",
    "\n",
    "ivvi.dac3.set_delay(0.001)\n",
    "ivvi.dac3.set_step(2)\n",
    "\n",
    "ivvi.dac4.set_delay(0.001)\n",
    "ivvi.dac4.set_step(20)\n",
    "\n",
    "ivvi.dac5.set_delay(0.001)\n",
    "ivvi.dac5.set_step(20)\n",
    "\n",
    "ivvi.dac6.set_delay(0.001)\n",
    "ivvi.dac6.set_step(2)\n",
    "\n",
    "\n",
    "\n",
    "\n",
    "from qcodes.instrument_drivers.american_magnetics.AMI430 import AMI430,AMI430_3D\n",
    "ami_x = create_inst(AMI430, \"AMI430_x\", \"169.254.3.64\", port = 7180, has_current_rating=True)\n",
    "ami_y = create_inst(AMI430, \"AMI430_y\", \"169.254.54.62\", port = 7180, has_current_rating=True)\n",
    "ami_z = create_inst(AMI430, \"AMI430_z\", \"169.254.73.58\", port = 7180, has_current_rating=True)\n",
    "\n",
    "#ramp_limit_multiplier = 0.6\n",
    "#ami_x.current_ramp_limit(0.1742*ramp_limit_multiplier)\n",
    "#ami_x.coil_constant(0.01491)\n",
    "#ami_x.current_rating(67.07)\n",
    "\n",
    "#ami_y.current_ramp_limit(0.1762*ramp_limit_multiplier)\n",
    "#ami_y.coil_constant(0.01490)\n",
    "#ami_y.current_rating(67.11)\n",
    "\n",
    "#ami_z.current_ramp_limit(0.0756*ramp_limit_multiplier)\n",
    "#ami_z.coil_constant(0.0834)\n",
    "#ami_z.current_rating(71.94)\n",
    "\n",
    "ami = create_inst(AMI430_3D, \"AMI430\", ami_x, ami_y, ami_z, 2)\n",
    "\n",
    "\n"
   ]
  },
  {
   "cell_type": "code",
   "execution_count": 5,
   "metadata": {
    "scrolled": false
   },
   "outputs": [],
   "source": [
    "ami.x(0.0)\n",
    "ami.y(0.0)\n",
    "ami.z(0.0)"
   ]
  },
  {
   "cell_type": "code",
   "execution_count": 12,
   "metadata": {},
   "outputs": [],
   "source": [
    "ami.spherical([0.0,90,90])"
   ]
  },
  {
   "cell_type": "code",
   "execution_count": 13,
   "metadata": {},
   "outputs": [
    {
     "data": {
      "text/plain": [
       "[0.0, 90.0, 90.0]"
      ]
     },
     "execution_count": 13,
     "metadata": {},
     "output_type": "execute_result"
    }
   ],
   "source": [
    "ami.spherical()"
   ]
  },
  {
   "cell_type": "code",
   "execution_count": 107,
   "metadata": {},
   "outputs": [],
   "source": [
    "ivvi.set_dacs_zero()"
   ]
  },
  {
   "cell_type": "code",
   "execution_count": 110,
   "metadata": {},
   "outputs": [],
   "source": [
    "class ConversionParameter(Parameter):\n",
    "    \n",
    "    def __init__(self, name, src_param, get_conv, set_conv=None, **kw):\n",
    "        super().__init__(name, **kw)\n",
    "        self.src_param = src_param\n",
    "        self.get_conv = get_conv\n",
    "        self.set_conv = set_conv\n",
    "    \n",
    "    def get_raw(self):\n",
    "        return self.get_conv(self.src_param())\n",
    "    \n",
    "    def set_raw(self, value):\n",
    "        if self.set_conv is None:\n",
    "            raise NotImplementedError(\"No set conversion implemented.\")\n",
    "        \n",
    "        return self.src_param(self.set_conv(value))\n",
    "    \n",
    "\n",
    "class IVVISetup(Instrument):\n",
    "    \n",
    "    def __init__(self, name, ivvi, **kw):\n",
    "        super().__init__(name, **kw)\n",
    "        \n",
    "        self.ivvi = ivvi\n",
    "        \n",
    "        self.add_parameter('voltage_multiplier', get_cmd=None, set_cmd=None, \n",
    "                           initial_value=1e-3)\n",
    "        self.add_parameter('current_multiplier', get_cmd=None, set_cmd=None, \n",
    "                           initial_value=1e-7)\n",
    "        self.add_parameter('iso_in_multiplier', get_cmd=None, set_cmd=None,\n",
    "                           initial_value=1e-2)\n",
    "        self.add_parameter('gate_multiplier', get_cmd=None, set_cmd=None, \n",
    "                           initial_value=15)\n",
    "        \n",
    "        self.add_parameter('M1b_gain', get_cmd=None, set_cmd=None, initial_value=1e6)\n",
    "        self.add_parameter('M1b_mode', get_cmd=None, set_cmd=None, \n",
    "                           vals=validators.Enum('low_noise', 'low_R_in'), \n",
    "                           initial_value='low_noise')\n",
    "        self.add_parameter('M1b_R_in', get_cmd=self._get_M1b_R_in)\n",
    "        \n",
    "        self.add_parameter('M2m_Vgain', get_cmd=None, set_cmd=None, initial_value=1e3)\n",
    "\n",
    "        for i in range(1, self.ivvi._numdacs + 1):       \n",
    "            self.add_parameter('dac{}'.format(i), unit='V',\n",
    "                               get_cmd=self.ivvi._gen_ch_get_func(self._get_dac, i),\n",
    "                               set_cmd=self.ivvi._gen_ch_set_func(self._set_dac, i))\n",
    "            \n",
    "    def _get_M1b_R_in(self):\n",
    "        if self.M1b_mode() == 'low_noise':\n",
    "            return 2e3 + 1e-3 * self.M1b_gain()\n",
    "        elif self.M1b_mode() == 'low_R_in':\n",
    "            return 2e3 + 1e-4 * self.M1b_gain()\n",
    "            \n",
    "    def _get_dac(self, ch):\n",
    "        if ch == 6:\n",
    "            return self.ivvi.set('dac{}'.format(ch)) * 1e-3 * self.gate_multiplier()\n",
    "        else:\n",
    "            return self.ivvi.get('dac{}'.format(ch)) * 1e-3 * self.voltage_multiplier()\n",
    "    \n",
    "    def _set_dac(self, ch, val):\n",
    "        if ch == 6:\n",
    "            return self.ivvi.set('dac{}'.format(ch), val * 1e3 / self.gate_multiplier())\n",
    "        else:\n",
    "            return self.ivvi.set('dac{}'.format(ch), val * 1e3 / self.voltage_multiplier())\n",
    "    \n",
    "\n",
    "\n"
   ]
  },
  {
   "cell_type": "code",
   "execution_count": 133,
   "metadata": {},
   "outputs": [
    {
     "name": "stdout",
     "output_type": "stream",
     "text": [
      "Instrument ivvi_setup already exists.\n"
     ]
    }
   ],
   "source": [
    "ivvi_setup = create_inst(IVVISetup, 'ivvi_setup', ivvi=ivvi, force_new_instance=True)\n",
    "#ivvi_setup.voltage_multiplier(10e-3)\n",
    "ivvi_setup.voltage_multiplier(100e-9)\n",
    "ivvi_setup.gate_multiplier(15)\n",
    "ivvi_setup.M2m_Vgain(1000)\n",
    "\n",
    "\n",
    "dev1_line_r = 20e3 + 3.4e3 #1.7e3 from Qfilter, 5e3 for DC-only on PCB, 10e3 for RF on PCB, 3e3 for 8x MUX bias-T\n",
    "dev2_line_r = 15e3 + 3.4e3\n",
    "dev3_line_r = 15e3 + 3.4e3\n",
    "\n",
    "dev1_rs = dev1_line_r + ivvi_setup.M1b_R_in()\n",
    "dev2_rs = dev2_line_r + ivvi_setup.M1b_R_in()\n",
    "dev3_rs = dev3_line_r + ivvi_setup.M1b_R_in()\n",
    "\n",
    "dev1_Vac = lockin1.amplitude()*ivvi_setup.iso_in_multiplier()*ivvi_setup.voltage_multiplier()\n",
    "dev2_Vac = lockin1.amplitude()*ivvi_setup.iso_in_multiplier()*ivvi_setup.voltage_multiplier()\n",
    "dev3_Vac = lockin1.amplitude()*ivvi_setup.iso_in_multiplier()*ivvi_setup.voltage_multiplier()\n",
    "\n",
    "dev1_Iac = lockin1.amplitude()*ivvi_setup.iso_in_multiplier()*ivvi_setup.current_multiplier()\n",
    "dev2_Iac = lockin2.amplitude()*ivvi_setup.iso_in_multiplier()*ivvi_setup.current_multiplier()\n",
    "\n",
    "ivvi_setup.add_parameter('v1_measurement', parameter_class=ConversionParameter, unit='V',\n",
    "                          src_param=key1.volt, get_conv=lambda x: x/ivvi_setup.M2m_Vgain())\n",
    "ivvi_setup.add_parameter('v2_measurement', parameter_class=ConversionParameter, unit='V',\n",
    "                          src_param=key2.volt, get_conv=lambda x: x/(ivvi_setup.M2m_Vgain()))\n",
    "ivvi_setup.add_parameter('i1_measurement', parameter_class=ConversionParameter, unit='A',\n",
    "                         src_param=key1.volt, get_conv=lambda x: x / ivvi_setup.M1b_gain())\n",
    "ivvi_setup.add_parameter('i2_measurement', parameter_class=ConversionParameter, unit='A',\n",
    "                         src_param=key2.volt, get_conv=lambda x: x / ivvi_setup.M1b_gain())\n",
    "ivvi_setup.add_parameter('i3_measurement', parameter_class=ConversionParameter, unit='A',\n",
    "                         src_param=key3.volt, get_conv=lambda x: x / ivvi_setup.M1b_gain())\n",
    "ivvi_setup.add_parameter('ig_measurement', parameter_class=ConversionParameter, unit='A',\n",
    "                         src_param=key4.volt, get_conv=lambda x: x / ivvi_setup.M1b_gain())\n",
    "\n",
    "ivvi_setup.add_parameter('g1_measurement', parameter_class=ConversionParameter, unit='2e2/h',\n",
    "                         src_param=lockin1.X, get_conv=lambda x: 12906/(dev1_Vac*ivvi_setup.M1b_gain()/x - dev1_rs))\n",
    "ivvi_setup.add_parameter('g2_measurement', parameter_class=ConversionParameter, unit='2e2/h',\n",
    "                         src_param=lockin2.X, get_conv=lambda x: 12906/(dev2_Vac*ivvi_setup.M1b_gain()/x - dev2_rs))\n",
    "ivvi_setup.add_parameter('g3_measurement', parameter_class=ConversionParameter, unit='2e2/h',\n",
    "                         src_param=lockin3.X, get_conv=lambda x: 12906/(dev3_Vac*ivvi_setup.M1b_gain()/x - dev3_rs))\n",
    "\n",
    "ivvi_setup.add_parameter('r_ac1_measurement', parameter_class=ConversionParameter, unit='Ohms',\n",
    "                         src_param=lockin1.X, get_conv=lambda x: x/(dev1_Iac*ivvi_setup.M2m_Vgain()))\n",
    "ivvi_setup.add_parameter('r_ac2_measurement', parameter_class=ConversionParameter, unit='Ohms',\n",
    "                         src_param=lockin2.X, get_conv=lambda x: x/(dev2_Iac*ivvi_setup.M2m_Vgain()))"
   ]
  },
  {
   "cell_type": "code",
   "execution_count": 7,
   "metadata": {},
   "outputs": [
    {
     "name": "stdout",
     "output_type": "stream",
     "text": [
      "R_in:  3000.0\n",
      "Rs_1:  16400.0\n",
      "Rs_2:  21400.0\n",
      "Rs_3:  21400.0\n"
     ]
    }
   ],
   "source": [
    "ivvi_setup.M1b_gain(1e6)\n",
    "ivvi_setup.M1b_mode('low_noise')\n",
    "\n",
    "key1.NPLC(1)\n",
    "key2.NPLC(1)\n",
    "key3.NPLC(1)\n",
    "\n",
    "print('R_in: ', ivvi_setup.M1b_R_in())\n",
    "print('Rs_1: ', dev1_rs)\n",
    "print('Rs_2: ', dev2_rs)\n",
    "print('Rs_3: ', dev3_rs)"
   ]
  },
  {
   "cell_type": "markdown",
   "metadata": {},
   "source": [
    "## Pinchoff curves"
   ]
  },
  {
   "cell_type": "code",
   "execution_count": 62,
   "metadata": {},
   "outputs": [],
   "source": [
    "ivvi_setup.dac5(10e-3)"
   ]
  },
  {
   "cell_type": "code",
   "execution_count": 26,
   "metadata": {},
   "outputs": [
    {
     "name": "stdout",
     "output_type": "stream",
     "text": [
      "Starting experimental run with id: 295\n"
     ]
    }
   ],
   "source": [
    "exp = select_experiment('V0_0112A', 'DEV_51')\n",
    "\n",
    "meas = Measurement(exp=exp)\n",
    "meas.write_period = 1\n",
    "meas.register_parameter(ivvi_setup.dac6)\n",
    "# meas.register_parameter(ivvi_setup.v_measurement, setpoints=[ivvi_setup.dac5, ])\n",
    "meas.register_parameter(ivvi_setup.i1_measurement, setpoints=[ivvi_setup.dac6, ])\n",
    "#meas.register_parameter(ivvi_setup.i2_measurement, setpoints=[ivvi_setup.dac6, ])\n",
    "#meas.register_parameter(ivvi_setup.i3_measurement, setpoints=[ivvi_setup.dac6, ])\n",
    "meas.register_parameter(ivvi_setup.ig_measurement, setpoints=[ivvi_setup.dac6, ])\n",
    "meas.register_parameter(ivvi_setup.g1_measurement, setpoints=[ivvi_setup.dac6, ])\n",
    "#meas.register_parameter(ivvi_setup.g2_measurement, setpoints=[ivvi_setup.dac6, ])\n",
    "#meas.register_parameter(ivvi_setup.g3_measurement, setpoints=[ivvi_setup.dac6, ])\n",
    "\n",
    "\n",
    "ivvi_setup.dac5(10e-3)\n",
    "srcvals = np.linspace(6, -10, 401)\n",
    "with meas.run() as datasaver:\n",
    "    datasaver.dataset.subscribe(QcodesDatasetSubscriber(datasaver.dataset), state=[], \n",
    "                                min_wait=0, min_count=1)\n",
    "    \n",
    "    for s in srcvals:\n",
    "        ivvi_setup.dac6(s)\n",
    "        datasaver.add_result((ivvi_setup.dac6, s), \n",
    "                             (ivvi_setup.i1_measurement, ivvi_setup.i1_measurement()),\n",
    "                             #(ivvi_setup.i2_measurement, ivvi_setup.i2_measurement()),\n",
    "                             #(ivvi_setup.i3_measurement, ivvi_setup.i3_measurement()),\n",
    "                             (ivvi_setup.ig_measurement, ivvi_setup.ig_measurement()),\n",
    "                             (ivvi_setup.g1_measurement, ivvi_setup.g1_measurement()))#,\n",
    "                             #(ivvi_setup.g2_measurement, ivvi_setup.g2_measurement()),\n",
    "                             #(ivvi_setup.g3_measurement, ivvi_setup.g3_measurement()))"
   ]
  },
  {
   "cell_type": "code",
   "execution_count": 27,
   "metadata": {},
   "outputs": [
    {
     "name": "stdout",
     "output_type": "stream",
     "text": [
      "Starting experimental run with id: 296\n"
     ]
    }
   ],
   "source": [
    "exp = select_experiment('V0_0112A', 'DEV_51')\n",
    "\n",
    "meas = Measurement(exp=exp)\n",
    "meas.write_period = 1\n",
    "meas.register_parameter(ivvi_setup.dac6)\n",
    "# meas.register_parameter(ivvi_setup.v_measurement, setpoints=[ivvi_setup.dac5, ])\n",
    "meas.register_parameter(ivvi_setup.i1_measurement, setpoints=[ivvi_setup.dac6, ])\n",
    "#meas.register_parameter(ivvi_setup.i2_measurement, setpoints=[ivvi_setup.dac6, ])\n",
    "#meas.register_parameter(ivvi_setup.i3_measurement, setpoints=[ivvi_setup.dac6, ])\n",
    "meas.register_parameter(ivvi_setup.ig_measurement, setpoints=[ivvi_setup.dac6, ])\n",
    "meas.register_parameter(ivvi_setup.g1_measurement, setpoints=[ivvi_setup.dac6, ])\n",
    "#meas.register_parameter(ivvi_setup.g2_measurement, setpoints=[ivvi_setup.dac6, ])\n",
    "#meas.register_parameter(ivvi_setup.g3_measurement, setpoints=[ivvi_setup.dac6, ])\n",
    "\n",
    "\n",
    "ivvi_setup.dac5(10e-3)\n",
    "srcvals = np.linspace(-10, 6, 401)\n",
    "with meas.run() as datasaver:\n",
    "    datasaver.dataset.subscribe(QcodesDatasetSubscriber(datasaver.dataset), state=[], \n",
    "                                min_wait=0, min_count=1)\n",
    "    \n",
    "    for s in srcvals:\n",
    "        ivvi_setup.dac6(s)\n",
    "        datasaver.add_result((ivvi_setup.dac6, s), \n",
    "                             (ivvi_setup.i1_measurement, ivvi_setup.i1_measurement()),\n",
    "                             #(ivvi_setup.i2_measurement, ivvi_setup.i2_measurement()),\n",
    "                             #(ivvi_setup.i3_measurement, ivvi_setup.i3_measurement()),\n",
    "                             (ivvi_setup.ig_measurement, ivvi_setup.ig_measurement()),\n",
    "                             (ivvi_setup.g1_measurement, ivvi_setup.g1_measurement()))#,\n",
    "                             #(ivvi_setup.g2_measurement, ivvi_setup.g2_measurement()),\n",
    "                             #(ivvi_setup.g3_measurement, ivvi_setup.g3_measurement()))"
   ]
  },
  {
   "cell_type": "code",
   "execution_count": 1,
   "metadata": {},
   "outputs": [
    {
     "ename": "NameError",
     "evalue": "name 'ivvi' is not defined",
     "output_type": "error",
     "traceback": [
      "\u001b[1;31m---------------------------------------------------------------------------\u001b[0m",
      "\u001b[1;31mNameError\u001b[0m                                 Traceback (most recent call last)",
      "\u001b[1;32m<ipython-input-1-1b0bcebe4483>\u001b[0m in \u001b[0;36m<module>\u001b[1;34m()\u001b[0m\n\u001b[1;32m----> 1\u001b[1;33m \u001b[0mivvi\u001b[0m\u001b[1;33m.\u001b[0m\u001b[0mset_dacs_zero\u001b[0m\u001b[1;33m(\u001b[0m\u001b[1;33m)\u001b[0m\u001b[1;33m\u001b[0m\u001b[0m\n\u001b[0m",
      "\u001b[1;31mNameError\u001b[0m: name 'ivvi' is not defined"
     ]
    }
   ],
   "source": [
    "ivvi.set_dacs_zero()"
   ]
  },
  {
   "cell_type": "markdown",
   "metadata": {},
   "source": [
    "## Bias vs gate"
   ]
  },
  {
   "cell_type": "code",
   "execution_count": 106,
   "metadata": {},
   "outputs": [
    {
     "name": "stdout",
     "output_type": "stream",
     "text": [
      "Starting experimental run with id: 317\n"
     ]
    },
    {
     "ename": "KeyboardInterrupt",
     "evalue": "",
     "output_type": "error",
     "traceback": [
      "\u001b[1;31m---------------------------------------------------------------------------\u001b[0m",
      "\u001b[1;31mKeyboardInterrupt\u001b[0m                         Traceback (most recent call last)",
      "\u001b[1;32m<ipython-input-106-b031ab05445f>\u001b[0m in \u001b[0;36m<module>\u001b[1;34m()\u001b[0m\n\u001b[0;32m     34\u001b[0m                                  \u001b[1;33m(\u001b[0m\u001b[0mivvi_setup\u001b[0m\u001b[1;33m.\u001b[0m\u001b[0mg1_measurement\u001b[0m\u001b[1;33m,\u001b[0m \u001b[0mivvi_setup\u001b[0m\u001b[1;33m.\u001b[0m\u001b[0mg1_measurement\u001b[0m\u001b[1;33m(\u001b[0m\u001b[1;33m)\u001b[0m\u001b[1;33m)\u001b[0m\u001b[1;33m,\u001b[0m\u001b[1;33m\u001b[0m\u001b[0m\n\u001b[0;32m     35\u001b[0m                                  \u001b[1;33m(\u001b[0m\u001b[0mivvi_setup\u001b[0m\u001b[1;33m.\u001b[0m\u001b[0mg2_measurement\u001b[0m\u001b[1;33m,\u001b[0m \u001b[0mivvi_setup\u001b[0m\u001b[1;33m.\u001b[0m\u001b[0mg2_measurement\u001b[0m\u001b[1;33m(\u001b[0m\u001b[1;33m)\u001b[0m\u001b[1;33m)\u001b[0m\u001b[1;33m,\u001b[0m\u001b[1;33m\u001b[0m\u001b[0m\n\u001b[1;32m---> 36\u001b[1;33m                                  (ivvi_setup.g3_measurement, ivvi_setup.g3_measurement()))\n\u001b[0m",
      "\u001b[1;32md:\\onedrive\\bf1\\code\\qcodes\\qcodes\\dataset\\measurements.py\u001b[0m in \u001b[0;36madd_result\u001b[1;34m(self, *res_tuple)\u001b[0m\n\u001b[0;32m    162\u001b[0m \u001b[1;33m\u001b[0m\u001b[0m\n\u001b[0;32m    163\u001b[0m         \u001b[1;32mif\u001b[0m \u001b[0mmonotonic\u001b[0m\u001b[1;33m(\u001b[0m\u001b[1;33m)\u001b[0m \u001b[1;33m-\u001b[0m \u001b[0mself\u001b[0m\u001b[1;33m.\u001b[0m\u001b[0m_last_save_time\u001b[0m \u001b[1;33m>\u001b[0m \u001b[0mself\u001b[0m\u001b[1;33m.\u001b[0m\u001b[0mwrite_period\u001b[0m\u001b[1;33m:\u001b[0m\u001b[1;33m\u001b[0m\u001b[0m\n\u001b[1;32m--> 164\u001b[1;33m             \u001b[0mself\u001b[0m\u001b[1;33m.\u001b[0m\u001b[0mflush_data_to_database\u001b[0m\u001b[1;33m(\u001b[0m\u001b[1;33m)\u001b[0m\u001b[1;33m\u001b[0m\u001b[0m\n\u001b[0m\u001b[0;32m    165\u001b[0m             \u001b[0mself\u001b[0m\u001b[1;33m.\u001b[0m\u001b[0m_last_save_time\u001b[0m \u001b[1;33m=\u001b[0m \u001b[0mmonotonic\u001b[0m\u001b[1;33m(\u001b[0m\u001b[1;33m)\u001b[0m\u001b[1;33m\u001b[0m\u001b[0m\n\u001b[0;32m    166\u001b[0m \u001b[1;33m\u001b[0m\u001b[0m\n",
      "\u001b[1;32md:\\onedrive\\bf1\\code\\qcodes\\qcodes\\dataset\\measurements.py\u001b[0m in \u001b[0;36mflush_data_to_database\u001b[1;34m(self)\u001b[0m\n\u001b[0;32m    172\u001b[0m         \u001b[1;32mif\u001b[0m \u001b[0mself\u001b[0m\u001b[1;33m.\u001b[0m\u001b[0m_results\u001b[0m \u001b[1;33m!=\u001b[0m \u001b[1;33m[\u001b[0m\u001b[1;33m]\u001b[0m\u001b[1;33m:\u001b[0m\u001b[1;33m\u001b[0m\u001b[0m\n\u001b[0;32m    173\u001b[0m             \u001b[1;32mtry\u001b[0m\u001b[1;33m:\u001b[0m\u001b[1;33m\u001b[0m\u001b[0m\n\u001b[1;32m--> 174\u001b[1;33m                 \u001b[0mwrite_point\u001b[0m \u001b[1;33m=\u001b[0m \u001b[0mself\u001b[0m\u001b[1;33m.\u001b[0m\u001b[0m_dataset\u001b[0m\u001b[1;33m.\u001b[0m\u001b[0madd_results\u001b[0m\u001b[1;33m(\u001b[0m\u001b[0mself\u001b[0m\u001b[1;33m.\u001b[0m\u001b[0m_results\u001b[0m\u001b[1;33m)\u001b[0m\u001b[1;33m\u001b[0m\u001b[0m\n\u001b[0m\u001b[0;32m    175\u001b[0m                 \u001b[0mlog\u001b[0m\u001b[1;33m.\u001b[0m\u001b[0mdebug\u001b[0m\u001b[1;33m(\u001b[0m\u001b[1;34mf'Successfully wrote from index {write_point}'\u001b[0m\u001b[1;33m)\u001b[0m\u001b[1;33m\u001b[0m\u001b[0m\n\u001b[0;32m    176\u001b[0m                 \u001b[0mself\u001b[0m\u001b[1;33m.\u001b[0m\u001b[0m_results\u001b[0m \u001b[1;33m=\u001b[0m \u001b[1;33m[\u001b[0m\u001b[1;33m]\u001b[0m\u001b[1;33m\u001b[0m\u001b[0m\n",
      "\u001b[1;32md:\\onedrive\\bf1\\code\\qcodes\\qcodes\\dataset\\data_set.py\u001b[0m in \u001b[0;36madd_results\u001b[1;34m(self, results)\u001b[0m\n\u001b[0;32m    374\u001b[0m         \u001b[0mlen_before_add\u001b[0m \u001b[1;33m=\u001b[0m \u001b[0mlength\u001b[0m\u001b[1;33m(\u001b[0m\u001b[0mself\u001b[0m\u001b[1;33m.\u001b[0m\u001b[0mconn\u001b[0m\u001b[1;33m,\u001b[0m \u001b[0mself\u001b[0m\u001b[1;33m.\u001b[0m\u001b[0mtable_name\u001b[0m\u001b[1;33m)\u001b[0m\u001b[1;33m\u001b[0m\u001b[0m\n\u001b[0;32m    375\u001b[0m         insert_many_values(self.conn, self.table_name, list(results[0].keys()),\n\u001b[1;32m--> 376\u001b[1;33m                            values)\n\u001b[0m\u001b[0;32m    377\u001b[0m         \u001b[1;31m# TODO: should this not be made atomic?\u001b[0m\u001b[1;33m\u001b[0m\u001b[1;33m\u001b[0m\u001b[0m\n\u001b[0;32m    378\u001b[0m         \u001b[0mself\u001b[0m\u001b[1;33m.\u001b[0m\u001b[0mconn\u001b[0m\u001b[1;33m.\u001b[0m\u001b[0mcommit\u001b[0m\u001b[1;33m(\u001b[0m\u001b[1;33m)\u001b[0m\u001b[1;33m\u001b[0m\u001b[0m\n",
      "\u001b[1;32md:\\onedrive\\bf1\\code\\qcodes\\qcodes\\dataset\\sqlite_base.py\u001b[0m in \u001b[0;36minsert_many_values\u001b[1;34m(conn, formatted_name, columns, values)\u001b[0m\n\u001b[0;32m    444\u001b[0m                             for item in sublist]\n\u001b[0;32m    445\u001b[0m \u001b[1;33m\u001b[0m\u001b[0m\n\u001b[1;32m--> 446\u001b[1;33m         \u001b[0mc\u001b[0m \u001b[1;33m=\u001b[0m \u001b[0matomic_transaction\u001b[0m\u001b[1;33m(\u001b[0m\u001b[0mconn\u001b[0m\u001b[1;33m,\u001b[0m \u001b[0mquery\u001b[0m\u001b[1;33m,\u001b[0m \u001b[1;33m*\u001b[0m\u001b[0mflattened_values\u001b[0m\u001b[1;33m)\u001b[0m\u001b[1;33m\u001b[0m\u001b[0m\n\u001b[0m\u001b[0;32m    447\u001b[0m \u001b[1;33m\u001b[0m\u001b[0m\n\u001b[0;32m    448\u001b[0m         \u001b[1;32mif\u001b[0m \u001b[0mii\u001b[0m \u001b[1;33m==\u001b[0m \u001b[1;36m0\u001b[0m\u001b[1;33m:\u001b[0m\u001b[1;33m\u001b[0m\u001b[0m\n",
      "\u001b[1;32md:\\onedrive\\bf1\\code\\qcodes\\qcodes\\dataset\\sqlite_base.py\u001b[0m in \u001b[0;36matomic_transaction\u001b[1;34m(conn, sql, *args)\u001b[0m\n\u001b[0;32m    243\u001b[0m         \u001b[1;32mraise\u001b[0m \u001b[0me\u001b[0m\u001b[1;33m\u001b[0m\u001b[0m\n\u001b[0;32m    244\u001b[0m \u001b[1;33m\u001b[0m\u001b[0m\n\u001b[1;32m--> 245\u001b[1;33m     \u001b[0mconn\u001b[0m\u001b[1;33m.\u001b[0m\u001b[0mcommit\u001b[0m\u001b[1;33m(\u001b[0m\u001b[1;33m)\u001b[0m\u001b[1;33m\u001b[0m\u001b[0m\n\u001b[0m\u001b[0;32m    246\u001b[0m     \u001b[1;32mreturn\u001b[0m \u001b[0mc\u001b[0m\u001b[1;33m\u001b[0m\u001b[0m\n\u001b[0;32m    247\u001b[0m \u001b[1;33m\u001b[0m\u001b[0m\n",
      "\u001b[1;31mKeyboardInterrupt\u001b[0m: "
     ]
    }
   ],
   "source": [
    "exp = select_experiment('V0_0112A', 'DEV_30_33_35')\n",
    "\n",
    "meas = Measurement(exp=exp)\n",
    "meas.write_period = 1\n",
    "meas.register_parameter(ivvi_setup.dac6)\n",
    "meas.register_parameter(ivvi_setup.dac5)\n",
    "#meas.register_parameter(ivvi_setup.v_measurement, setpoints=[ivvi_setup.dac5, ])\n",
    "meas.register_parameter(ivvi_setup.i1_measurement, setpoints=[ivvi_setup.dac6, ivvi_setup.dac5])\n",
    "meas.register_parameter(ivvi_setup.i2_measurement, setpoints=[ivvi_setup.dac6, ivvi_setup.dac5])\n",
    "meas.register_parameter(ivvi_setup.i3_measurement, setpoints=[ivvi_setup.dac6, ivvi_setup.dac5])\n",
    "meas.register_parameter(ivvi_setup.ig_measurement, setpoints=[ivvi_setup.dac6, ivvi_setup.dac5])\n",
    "meas.register_parameter(ivvi_setup.g1_measurement, setpoints=[ivvi_setup.dac6, ivvi_setup.dac5])\n",
    "meas.register_parameter(ivvi_setup.g2_measurement, setpoints=[ivvi_setup.dac6, ivvi_setup.dac5])\n",
    "meas.register_parameter(ivvi_setup.g3_measurement, setpoints=[ivvi_setup.dac6, ivvi_setup.dac5])\n",
    "\n",
    "lockin1.amplitude(0.1)\n",
    "\n",
    "srcvals = np.linspace(6, -10, 1000)\n",
    "bias_values = np.linspace(-.8e-3, .8e-3, 121)\n",
    "with meas.run() as datasaver:\n",
    "    datasaver.dataset.subscribe(QcodesDatasetSubscriber(datasaver.dataset), state=[], \n",
    "                                min_wait=0, min_count=1)\n",
    "    \n",
    "    for s1 in srcvals:\n",
    "        ivvi_setup.dac6(s1)\n",
    "        for s2 in bias_values:\n",
    "            ivvi_setup.dac5(s2)\n",
    "            datasaver.add_result((ivvi_setup.dac6, s1),\n",
    "                                 (ivvi_setup.dac5, s2), \n",
    "                                 (ivvi_setup.i1_measurement, ivvi_setup.i1_measurement()),\n",
    "                                 (ivvi_setup.i2_measurement, ivvi_setup.i2_measurement()),\n",
    "                                 (ivvi_setup.i3_measurement, ivvi_setup.i3_measurement()),\n",
    "                                 (ivvi_setup.ig_measurement, ivvi_setup.ig_measurement()),\n",
    "                                 (ivvi_setup.g1_measurement, ivvi_setup.g1_measurement()),\n",
    "                                 (ivvi_setup.g2_measurement, ivvi_setup.g2_measurement()),\n",
    "                                 (ivvi_setup.g3_measurement, ivvi_setup.g3_measurement()))"
   ]
  },
  {
   "cell_type": "markdown",
   "metadata": {},
   "source": [
    "## Bias vs theta scans"
   ]
  },
  {
   "cell_type": "code",
   "execution_count": 42,
   "metadata": {},
   "outputs": [],
   "source": [
    "ami.spherical([0.3,0,0])"
   ]
  },
  {
   "cell_type": "code",
   "execution_count": 167,
   "metadata": {},
   "outputs": [
    {
     "data": {
      "text/plain": [
       "1.3e-06"
      ]
     },
     "execution_count": 167,
     "metadata": {},
     "output_type": "execute_result"
    }
   ],
   "source": [
    "ami.z_measured()"
   ]
  },
  {
   "cell_type": "code",
   "execution_count": 44,
   "metadata": {},
   "outputs": [
    {
     "name": "stdout",
     "output_type": "stream",
     "text": [
      "Starting experimental run with id: 301\n"
     ]
    }
   ],
   "source": [
    "exp = select_experiment('V0_0112A', 'DEV_30_33_35')\n",
    "\n",
    "meas = Measurement(exp=exp)\n",
    "meas.write_period = 1\n",
    "#meas.register_parameter(ivvi_setup.dac6)\n",
    "meas.register_parameter(ivvi_setup.dac5)\n",
    "meas.register_parameter(ami.theta)\n",
    "# meas.register_parameter(ivvi_setup.v_measurement, setpoints=[ivvi_setup.dac5, ])\n",
    "#meas.register_parameter(ivvi_setup.i1_measurement, setpoints=[ami.theta, ivvi_setup.dac5])\n",
    "#meas.register_parameter(ivvi_setup.i2_measurement, setpoints=[ami.theta, ivvi_setup.dac5])\n",
    "#meas.register_parameter(ivvi_setup.i3_measurement, setpoints=[ami.theta, ivvi_setup.dac5])\n",
    "#meas.register_parameter(ivvi_setup.ig_measurement, setpoints=[ami.theta, ivvi_setup.dac5])\n",
    "meas.register_parameter(ivvi_setup.g1_measurement, setpoints=[ami.theta, ivvi_setup.dac5])\n",
    "meas.register_parameter(ivvi_setup.g2_measurement, setpoints=[ami.theta, ivvi_setup.dac5])\n",
    "meas.register_parameter(ivvi_setup.g3_measurement, setpoints=[ami.theta, ivvi_setup.dac5])\n",
    "\n",
    "lockin1.amplitude(0.1)\n",
    "\n",
    "theta_vals = np.linspace(0, 180, 90)\n",
    "bias_values = np.linspace(-.6e-3, .6e-3, 101)\n",
    "with meas.run() as datasaver:\n",
    "    datasaver.dataset.subscribe(QcodesDatasetSubscriber(datasaver.dataset), state=[], \n",
    "                                min_wait=0, min_count=1)\n",
    "    \n",
    "    for s1 in theta_vals:\n",
    "        ami.theta(s1)\n",
    "        for s2 in bias_values:\n",
    "            ivvi_setup.dac5(s2)\n",
    "            datasaver.add_result((ami.theta, s1),\n",
    "                                 (ivvi_setup.dac5, s2), \n",
    "                                 #(ivvi_setup.i1_measurement, ivvi_setup.i1_measurement()),\n",
    "                                 #(ivvi_setup.i2_measurement, ivvi_setup.i2_measurement()),\n",
    "                                 #(ivvi_setup.i3_measurement, ivvi_setup.i3_measurement()),\n",
    "                                 #(ivvi_setup.ig_measurement, ivvi_setup.ig_measurement()),\n",
    "                                 (ivvi_setup.g1_measurement, ivvi_setup.g1_measurement()),\n",
    "                                 (ivvi_setup.g2_measurement, ivvi_setup.g2_measurement()),\n",
    "                                 (ivvi_setup.g3_measurement, ivvi_setup.g3_measurement()))"
   ]
  },
  {
   "cell_type": "code",
   "execution_count": 45,
   "metadata": {},
   "outputs": [],
   "source": [
    "ami.spherical([0.3,180,150])"
   ]
  },
  {
   "cell_type": "code",
   "execution_count": 46,
   "metadata": {},
   "outputs": [
    {
     "name": "stdout",
     "output_type": "stream",
     "text": [
      "Starting experimental run with id: 302\n"
     ]
    }
   ],
   "source": [
    "exp = select_experiment('V0_0112A', 'DEV_30_33_35')\n",
    "\n",
    "meas = Measurement(exp=exp)\n",
    "meas.write_period = 1\n",
    "#meas.register_parameter(ivvi_setup.dac6)\n",
    "meas.register_parameter(ivvi_setup.dac5)\n",
    "meas.register_parameter(ami.theta)\n",
    "# meas.register_parameter(ivvi_setup.v_measurement, setpoints=[ivvi_setup.dac5, ])\n",
    "#meas.register_parameter(ivvi_setup.i1_measurement, setpoints=[ami.theta, ivvi_setup.dac5])\n",
    "#meas.register_parameter(ivvi_setup.i2_measurement, setpoints=[ami.theta, ivvi_setup.dac5])\n",
    "#meas.register_parameter(ivvi_setup.i3_measurement, setpoints=[ami.theta, ivvi_setup.dac5])\n",
    "#meas.register_parameter(ivvi_setup.ig_measurement, setpoints=[ami.theta, ivvi_setup.dac5])\n",
    "meas.register_parameter(ivvi_setup.g1_measurement, setpoints=[ami.theta, ivvi_setup.dac5])\n",
    "meas.register_parameter(ivvi_setup.g2_measurement, setpoints=[ami.theta, ivvi_setup.dac5])\n",
    "meas.register_parameter(ivvi_setup.g3_measurement, setpoints=[ami.theta, ivvi_setup.dac5])\n",
    "\n",
    "lockin1.amplitude(0.1)\n",
    "\n",
    "theta_vals = np.linspace(180, 0, 90)\n",
    "bias_values = np.linspace(-.6e-3, .6e-3, 101)\n",
    "with meas.run() as datasaver:\n",
    "    datasaver.dataset.subscribe(QcodesDatasetSubscriber(datasaver.dataset), state=[], \n",
    "                                min_wait=0, min_count=1)\n",
    "    \n",
    "    for s1 in theta_vals:\n",
    "        ami.theta(s1)\n",
    "        for s2 in bias_values:\n",
    "            ivvi_setup.dac5(s2)\n",
    "            datasaver.add_result((ami.theta, s1),\n",
    "                                 (ivvi_setup.dac5, s2), \n",
    "                                 #(ivvi_setup.i1_measurement, ivvi_setup.i1_measurement()),\n",
    "                                 #(ivvi_setup.i2_measurement, ivvi_setup.i2_measurement()),\n",
    "                                 #(ivvi_setup.i3_measurement, ivvi_setup.i3_measurement()),\n",
    "                                 #(ivvi_setup.ig_measurement, ivvi_setup.ig_measurement()),\n",
    "                                 (ivvi_setup.g1_measurement, ivvi_setup.g1_measurement()),\n",
    "                                 (ivvi_setup.g2_measurement, ivvi_setup.g2_measurement()),\n",
    "                                 (ivvi_setup.g3_measurement, ivvi_setup.g3_measurement()))"
   ]
  },
  {
   "cell_type": "code",
   "execution_count": 47,
   "metadata": {},
   "outputs": [],
   "source": [
    "ami.spherical([0.3,0,30])"
   ]
  },
  {
   "cell_type": "code",
   "execution_count": 48,
   "metadata": {},
   "outputs": [
    {
     "name": "stdout",
     "output_type": "stream",
     "text": [
      "Starting experimental run with id: 303\n"
     ]
    }
   ],
   "source": [
    "exp = select_experiment('V0_0112A', 'DEV_30_33_35')\n",
    "\n",
    "meas = Measurement(exp=exp)\n",
    "meas.write_period = 1\n",
    "#meas.register_parameter(ivvi_setup.dac6)\n",
    "meas.register_parameter(ivvi_setup.dac5)\n",
    "meas.register_parameter(ami.theta)\n",
    "# meas.register_parameter(ivvi_setup.v_measurement, setpoints=[ivvi_setup.dac5, ])\n",
    "#meas.register_parameter(ivvi_setup.i1_measurement, setpoints=[ami.theta, ivvi_setup.dac5])\n",
    "#meas.register_parameter(ivvi_setup.i2_measurement, setpoints=[ami.theta, ivvi_setup.dac5])\n",
    "#meas.register_parameter(ivvi_setup.i3_measurement, setpoints=[ami.theta, ivvi_setup.dac5])\n",
    "#meas.register_parameter(ivvi_setup.ig_measurement, setpoints=[ami.theta, ivvi_setup.dac5])\n",
    "meas.register_parameter(ivvi_setup.g1_measurement, setpoints=[ami.theta, ivvi_setup.dac5])\n",
    "meas.register_parameter(ivvi_setup.g2_measurement, setpoints=[ami.theta, ivvi_setup.dac5])\n",
    "meas.register_parameter(ivvi_setup.g3_measurement, setpoints=[ami.theta, ivvi_setup.dac5])\n",
    "\n",
    "lockin1.amplitude(0.1)\n",
    "\n",
    "theta_vals = np.linspace(0, 180, 90)\n",
    "bias_values = np.linspace(-.6e-3, .6e-3, 101)\n",
    "with meas.run() as datasaver:\n",
    "    datasaver.dataset.subscribe(QcodesDatasetSubscriber(datasaver.dataset), state=[], \n",
    "                                min_wait=0, min_count=1)\n",
    "    \n",
    "    for s1 in theta_vals:\n",
    "        ami.theta(s1)\n",
    "        for s2 in bias_values:\n",
    "            ivvi_setup.dac5(s2)\n",
    "            datasaver.add_result((ami.theta, s1),\n",
    "                                 (ivvi_setup.dac5, s2), \n",
    "                                 #(ivvi_setup.i1_measurement, ivvi_setup.i1_measurement()),\n",
    "                                 #(ivvi_setup.i2_measurement, ivvi_setup.i2_measurement()),\n",
    "                                 #(ivvi_setup.i3_measurement, ivvi_setup.i3_measurement()),\n",
    "                                 #(ivvi_setup.ig_measurement, ivvi_setup.ig_measurement()),\n",
    "                                 (ivvi_setup.g1_measurement, ivvi_setup.g1_measurement()),\n",
    "                                 (ivvi_setup.g2_measurement, ivvi_setup.g2_measurement()),\n",
    "                                 (ivvi_setup.g3_measurement, ivvi_setup.g3_measurement()))"
   ]
  },
  {
   "cell_type": "code",
   "execution_count": 49,
   "metadata": {},
   "outputs": [],
   "source": [
    "ami.spherical([0.3,180,60])"
   ]
  },
  {
   "cell_type": "code",
   "execution_count": 50,
   "metadata": {},
   "outputs": [
    {
     "name": "stdout",
     "output_type": "stream",
     "text": [
      "Starting experimental run with id: 304\n"
     ]
    }
   ],
   "source": [
    "exp = select_experiment('V0_0112A', 'DEV_30_33_35')\n",
    "\n",
    "meas = Measurement(exp=exp)\n",
    "meas.write_period = 1\n",
    "#meas.register_parameter(ivvi_setup.dac6)\n",
    "meas.register_parameter(ivvi_setup.dac5)\n",
    "meas.register_parameter(ami.theta)\n",
    "# meas.register_parameter(ivvi_setup.v_measurement, setpoints=[ivvi_setup.dac5, ])\n",
    "#meas.register_parameter(ivvi_setup.i1_measurement, setpoints=[ami.theta, ivvi_setup.dac5])\n",
    "#meas.register_parameter(ivvi_setup.i2_measurement, setpoints=[ami.theta, ivvi_setup.dac5])\n",
    "#meas.register_parameter(ivvi_setup.i3_measurement, setpoints=[ami.theta, ivvi_setup.dac5])\n",
    "#meas.register_parameter(ivvi_setup.ig_measurement, setpoints=[ami.theta, ivvi_setup.dac5])\n",
    "meas.register_parameter(ivvi_setup.g1_measurement, setpoints=[ami.theta, ivvi_setup.dac5])\n",
    "meas.register_parameter(ivvi_setup.g2_measurement, setpoints=[ami.theta, ivvi_setup.dac5])\n",
    "meas.register_parameter(ivvi_setup.g3_measurement, setpoints=[ami.theta, ivvi_setup.dac5])\n",
    "\n",
    "lockin1.amplitude(0.1)\n",
    "\n",
    "theta_vals = np.linspace(180, 0, 90)\n",
    "bias_values = np.linspace(-.6e-3, .6e-3, 101)\n",
    "with meas.run() as datasaver:\n",
    "    datasaver.dataset.subscribe(QcodesDatasetSubscriber(datasaver.dataset), state=[], \n",
    "                                min_wait=0, min_count=1)\n",
    "    \n",
    "    for s1 in theta_vals:\n",
    "        ami.theta(s1)\n",
    "        for s2 in bias_values:\n",
    "            ivvi_setup.dac5(s2)\n",
    "            datasaver.add_result((ami.theta, s1),\n",
    "                                 (ivvi_setup.dac5, s2), \n",
    "                                 #(ivvi_setup.i1_measurement, ivvi_setup.i1_measurement()),\n",
    "                                 #(ivvi_setup.i2_measurement, ivvi_setup.i2_measurement()),\n",
    "                                 #(ivvi_setup.i3_measurement, ivvi_setup.i3_measurement()),\n",
    "                                 #(ivvi_setup.ig_measurement, ivvi_setup.ig_measurement()),\n",
    "                                 (ivvi_setup.g1_measurement, ivvi_setup.g1_measurement()),\n",
    "                                 (ivvi_setup.g2_measurement, ivvi_setup.g2_measurement()),\n",
    "                                 (ivvi_setup.g3_measurement, ivvi_setup.g3_measurement()))"
   ]
  },
  {
   "cell_type": "code",
   "execution_count": 51,
   "metadata": {},
   "outputs": [],
   "source": [
    "ami.spherical([0.3,0,90])"
   ]
  },
  {
   "cell_type": "code",
   "execution_count": 54,
   "metadata": {},
   "outputs": [
    {
     "name": "stdout",
     "output_type": "stream",
     "text": [
      "Starting experimental run with id: 306\n"
     ]
    }
   ],
   "source": [
    "exp = select_experiment('V0_0112A', 'DEV_30_33_35')\n",
    "\n",
    "meas = Measurement(exp=exp)\n",
    "meas.write_period = 1\n",
    "#meas.register_parameter(ivvi_setup.dac6)\n",
    "meas.register_parameter(ivvi_setup.dac5)\n",
    "meas.register_parameter(ami.theta)\n",
    "# meas.register_parameter(ivvi_setup.v_measurement, setpoints=[ivvi_setup.dac5, ])\n",
    "#meas.register_parameter(ivvi_setup.i1_measurement, setpoints=[ami.theta, ivvi_setup.dac5])\n",
    "#meas.register_parameter(ivvi_setup.i2_measurement, setpoints=[ami.theta, ivvi_setup.dac5])\n",
    "#meas.register_parameter(ivvi_setup.i3_measurement, setpoints=[ami.theta, ivvi_setup.dac5])\n",
    "#meas.register_parameter(ivvi_setup.ig_measurement, setpoints=[ami.theta, ivvi_setup.dac5])\n",
    "meas.register_parameter(ivvi_setup.g1_measurement, setpoints=[ami.theta, ivvi_setup.dac5])\n",
    "meas.register_parameter(ivvi_setup.g2_measurement, setpoints=[ami.theta, ivvi_setup.dac5])\n",
    "meas.register_parameter(ivvi_setup.g3_measurement, setpoints=[ami.theta, ivvi_setup.dac5])\n",
    "\n",
    "lockin1.amplitude(0.1)\n",
    "\n",
    "theta_vals = np.linspace(0, 180, 90)\n",
    "bias_values = np.linspace(-.6e-3, .6e-3, 101)\n",
    "with meas.run() as datasaver:\n",
    "    datasaver.dataset.subscribe(QcodesDatasetSubscriber(datasaver.dataset), state=[], \n",
    "                                min_wait=0, min_count=1)\n",
    "    \n",
    "    for s1 in theta_vals:\n",
    "        ami.theta(s1)\n",
    "        for s2 in bias_values:\n",
    "            ivvi_setup.dac5(s2)\n",
    "            datasaver.add_result((ami.theta, s1),\n",
    "                                 (ivvi_setup.dac5, s2), \n",
    "                                 #(ivvi_setup.i1_measurement, ivvi_setup.i1_measurement()),\n",
    "                                 #(ivvi_setup.i2_measurement, ivvi_setup.i2_measurement()),\n",
    "                                 #(ivvi_setup.i3_measurement, ivvi_setup.i3_measurement()),\n",
    "                                 #(ivvi_setup.ig_measurement, ivvi_setup.ig_measurement()),\n",
    "                                 (ivvi_setup.g1_measurement, ivvi_setup.g1_measurement()),\n",
    "                                 (ivvi_setup.g2_measurement, ivvi_setup.g2_measurement()),\n",
    "                                 (ivvi_setup.g3_measurement, ivvi_setup.g3_measurement()))"
   ]
  },
  {
   "cell_type": "code",
   "execution_count": 55,
   "metadata": {},
   "outputs": [],
   "source": [
    "ami.spherical([0.3,180,120])"
   ]
  },
  {
   "cell_type": "code",
   "execution_count": 56,
   "metadata": {},
   "outputs": [
    {
     "name": "stdout",
     "output_type": "stream",
     "text": [
      "Starting experimental run with id: 307\n"
     ]
    }
   ],
   "source": [
    "exp = select_experiment('V0_0112A', 'DEV_30_33_35')\n",
    "\n",
    "meas = Measurement(exp=exp)\n",
    "meas.write_period = 1\n",
    "#meas.register_parameter(ivvi_setup.dac6)\n",
    "meas.register_parameter(ivvi_setup.dac5)\n",
    "meas.register_parameter(ami.theta)\n",
    "# meas.register_parameter(ivvi_setup.v_measurement, setpoints=[ivvi_setup.dac5, ])\n",
    "#meas.register_parameter(ivvi_setup.i1_measurement, setpoints=[ami.theta, ivvi_setup.dac5])\n",
    "#meas.register_parameter(ivvi_setup.i2_measurement, setpoints=[ami.theta, ivvi_setup.dac5])\n",
    "#meas.register_parameter(ivvi_setup.i3_measurement, setpoints=[ami.theta, ivvi_setup.dac5])\n",
    "#meas.register_parameter(ivvi_setup.ig_measurement, setpoints=[ami.theta, ivvi_setup.dac5])\n",
    "meas.register_parameter(ivvi_setup.g1_measurement, setpoints=[ami.theta, ivvi_setup.dac5])\n",
    "meas.register_parameter(ivvi_setup.g2_measurement, setpoints=[ami.theta, ivvi_setup.dac5])\n",
    "meas.register_parameter(ivvi_setup.g3_measurement, setpoints=[ami.theta, ivvi_setup.dac5])\n",
    "\n",
    "lockin1.amplitude(0.1)\n",
    "\n",
    "theta_vals = np.linspace(180, 0, 90)\n",
    "bias_values = np.linspace(-.6e-3, .6e-3, 101)\n",
    "with meas.run() as datasaver:\n",
    "    datasaver.dataset.subscribe(QcodesDatasetSubscriber(datasaver.dataset), state=[], \n",
    "                                min_wait=0, min_count=1)\n",
    "    \n",
    "    for s1 in theta_vals:\n",
    "        ami.theta(s1)\n",
    "        for s2 in bias_values:\n",
    "            ivvi_setup.dac5(s2)\n",
    "            datasaver.add_result((ami.theta, s1),\n",
    "                                 (ivvi_setup.dac5, s2), \n",
    "                                 #(ivvi_setup.i1_measurement, ivvi_setup.i1_measurement()),\n",
    "                                 #(ivvi_setup.i2_measurement, ivvi_setup.i2_measurement()),\n",
    "                                 #(ivvi_setup.i3_measurement, ivvi_setup.i3_measurement()),\n",
    "                                 #(ivvi_setup.ig_measurement, ivvi_setup.ig_measurement()),\n",
    "                                 (ivvi_setup.g1_measurement, ivvi_setup.g1_measurement()),\n",
    "                                 (ivvi_setup.g2_measurement, ivvi_setup.g2_measurement()),\n",
    "                                 (ivvi_setup.g3_measurement, ivvi_setup.g3_measurement()))"
   ]
  },
  {
   "cell_type": "code",
   "execution_count": 57,
   "metadata": {},
   "outputs": [],
   "source": [
    "ami.spherical([0,180,120])"
   ]
  },
  {
   "cell_type": "code",
   "execution_count": null,
   "metadata": {},
   "outputs": [],
   "source": []
  },
  {
   "cell_type": "markdown",
   "metadata": {},
   "source": [
    "## Bias vs Br sweep"
   ]
  },
  {
   "cell_type": "code",
   "execution_count": 58,
   "metadata": {},
   "outputs": [],
   "source": [
    "ami.spherical([0,17,0])"
   ]
  },
  {
   "cell_type": "code",
   "execution_count": 61,
   "metadata": {
    "scrolled": true
   },
   "outputs": [
    {
     "name": "stdout",
     "output_type": "stream",
     "text": [
      "Starting experimental run with id: 308\n"
     ]
    }
   ],
   "source": [
    "exp = select_experiment('V0_0112A', 'DEV_30_33_35')\n",
    "\n",
    "meas = Measurement(exp=exp)\n",
    "meas.write_period = 1\n",
    "#meas.register_parameter(ivvi_setup.dac6)\n",
    "meas.register_parameter(ivvi_setup.dac5)\n",
    "meas.register_parameter(ami.field)\n",
    "# meas.register_parameter(ivvi_setup.v_measurement, setpoints=[ivvi_setup.dac5, ])\n",
    "#meas.register_parameter(ivvi_setup.i1_measurement, setpoints=[ami.field, ivvi_setup.dac5])\n",
    "#meas.register_parameter(ivvi_setup.i2_measurement, setpoints=[ami.field, ivvi_setup.dac5])\n",
    "#meas.register_parameter(ivvi_setup.i3_measurement, setpoints=[ami.field, ivvi_setup.dac5])\n",
    "#meas.register_parameter(ivvi_setup.ig_measurement, setpoints=[ami.field, ivvi_setup.dac5])\n",
    "meas.register_parameter(ivvi_setup.g1_measurement, setpoints=[ami.field, ivvi_setup.dac5])\n",
    "meas.register_parameter(ivvi_setup.g2_measurement, setpoints=[ami.field, ivvi_setup.dac5])\n",
    "meas.register_parameter(ivvi_setup.g3_measurement, setpoints=[ami.field, ivvi_setup.dac5])\n",
    "\n",
    "lockin1.amplitude(0.1)\n",
    "\n",
    "Br_vals = np.linspace(0, 1, 101)\n",
    "bias_values = np.linspace(-.6e-3, .6e-3, 101)\n",
    "with meas.run() as datasaver:\n",
    "    datasaver.dataset.subscribe(QcodesDatasetSubscriber(datasaver.dataset), state=[], \n",
    "                                min_wait=0, min_count=1)\n",
    "    \n",
    "    for s1 in Br_vals:\n",
    "        ami.field(s1)\n",
    "        for s2 in bias_values:\n",
    "            ivvi_setup.dac5(s2)\n",
    "            datasaver.add_result((ami.field, s1),\n",
    "                                 (ivvi_setup.dac5, s2), \n",
    "                                 #(ivvi_setup.i1_measurement, ivvi_setup.i1_measurement()),\n",
    "                                 #(ivvi_setup.i2_measurement, ivvi_setup.i2_measurement()),\n",
    "                                 #(ivvi_setup.i3_measurement, ivvi_setup.i3_measurement()),\n",
    "                                 #(ivvi_setup.ig_measurement, ivvi_setup.ig_measurement()),\n",
    "                                 (ivvi_setup.g1_measurement, ivvi_setup.g1_measurement()),\n",
    "                                 (ivvi_setup.g2_measurement, ivvi_setup.g2_measurement()),\n",
    "                                 (ivvi_setup.g3_measurement, ivvi_setup.g3_measurement()))"
   ]
  },
  {
   "cell_type": "code",
   "execution_count": 62,
   "metadata": {},
   "outputs": [],
   "source": [
    "ami.spherical([1,17,150])"
   ]
  },
  {
   "cell_type": "code",
   "execution_count": 63,
   "metadata": {},
   "outputs": [
    {
     "name": "stdout",
     "output_type": "stream",
     "text": [
      "Starting experimental run with id: 309\n"
     ]
    }
   ],
   "source": [
    "exp = select_experiment('V0_0112A', 'DEV_30_33_35')\n",
    "\n",
    "meas = Measurement(exp=exp)\n",
    "meas.write_period = 1\n",
    "#meas.register_parameter(ivvi_setup.dac6)\n",
    "meas.register_parameter(ivvi_setup.dac5)\n",
    "meas.register_parameter(ami.field)\n",
    "# meas.register_parameter(ivvi_setup.v_measurement, setpoints=[ivvi_setup.dac5, ])\n",
    "#meas.register_parameter(ivvi_setup.i1_measurement, setpoints=[ami.field, ivvi_setup.dac5])\n",
    "#meas.register_parameter(ivvi_setup.i2_measurement, setpoints=[ami.field, ivvi_setup.dac5])\n",
    "#meas.register_parameter(ivvi_setup.i3_measurement, setpoints=[ami.field, ivvi_setup.dac5])\n",
    "#meas.register_parameter(ivvi_setup.ig_measurement, setpoints=[ami.field, ivvi_setup.dac5])\n",
    "meas.register_parameter(ivvi_setup.g1_measurement, setpoints=[ami.field, ivvi_setup.dac5])\n",
    "meas.register_parameter(ivvi_setup.g2_measurement, setpoints=[ami.field, ivvi_setup.dac5])\n",
    "meas.register_parameter(ivvi_setup.g3_measurement, setpoints=[ami.field, ivvi_setup.dac5])\n",
    "\n",
    "lockin1.amplitude(0.1)\n",
    "\n",
    "Br_vals = np.linspace(1, 0, 101)\n",
    "bias_values = np.linspace(-.6e-3, .6e-3, 101)\n",
    "with meas.run() as datasaver:\n",
    "    datasaver.dataset.subscribe(QcodesDatasetSubscriber(datasaver.dataset), state=[], \n",
    "                                min_wait=0, min_count=1)\n",
    "    \n",
    "    for s1 in Br_vals:\n",
    "        ami.field(s1)\n",
    "        for s2 in bias_values:\n",
    "            ivvi_setup.dac5(s2)\n",
    "            datasaver.add_result((ami.field, s1),\n",
    "                                 (ivvi_setup.dac5, s2), \n",
    "                                 #(ivvi_setup.i1_measurement, ivvi_setup.i1_measurement()),\n",
    "                                 #(ivvi_setup.i2_measurement, ivvi_setup.i2_measurement()),\n",
    "                                 #(ivvi_setup.i3_measurement, ivvi_setup.i3_measurement()),\n",
    "                                 #(ivvi_setup.ig_measurement, ivvi_setup.ig_measurement()),\n",
    "                                 (ivvi_setup.g1_measurement, ivvi_setup.g1_measurement()),\n",
    "                                 (ivvi_setup.g2_measurement, ivvi_setup.g2_measurement()),\n",
    "                                 (ivvi_setup.g3_measurement, ivvi_setup.g3_measurement()))"
   ]
  },
  {
   "cell_type": "code",
   "execution_count": 64,
   "metadata": {},
   "outputs": [],
   "source": [
    "ami.spherical([0,69,0])"
   ]
  },
  {
   "cell_type": "code",
   "execution_count": 65,
   "metadata": {},
   "outputs": [
    {
     "name": "stdout",
     "output_type": "stream",
     "text": [
      "Starting experimental run with id: 310\n"
     ]
    }
   ],
   "source": [
    "exp = select_experiment('V0_0112A', 'DEV_30_33_35')\n",
    "\n",
    "meas = Measurement(exp=exp)\n",
    "meas.write_period = 1\n",
    "#meas.register_parameter(ivvi_setup.dac6)\n",
    "meas.register_parameter(ivvi_setup.dac5)\n",
    "meas.register_parameter(ami.field)\n",
    "# meas.register_parameter(ivvi_setup.v_measurement, setpoints=[ivvi_setup.dac5, ])\n",
    "#meas.register_parameter(ivvi_setup.i1_measurement, setpoints=[ami.field, ivvi_setup.dac5])\n",
    "#meas.register_parameter(ivvi_setup.i2_measurement, setpoints=[ami.field, ivvi_setup.dac5])\n",
    "#meas.register_parameter(ivvi_setup.i3_measurement, setpoints=[ami.field, ivvi_setup.dac5])\n",
    "#meas.register_parameter(ivvi_setup.ig_measurement, setpoints=[ami.field, ivvi_setup.dac5])\n",
    "meas.register_parameter(ivvi_setup.g1_measurement, setpoints=[ami.field, ivvi_setup.dac5])\n",
    "meas.register_parameter(ivvi_setup.g2_measurement, setpoints=[ami.field, ivvi_setup.dac5])\n",
    "meas.register_parameter(ivvi_setup.g3_measurement, setpoints=[ami.field, ivvi_setup.dac5])\n",
    "\n",
    "lockin1.amplitude(0.1)\n",
    "\n",
    "Br_vals = np.linspace(0, 1, 101)\n",
    "bias_values = np.linspace(-.6e-3, .6e-3, 101)\n",
    "with meas.run() as datasaver:\n",
    "    datasaver.dataset.subscribe(QcodesDatasetSubscriber(datasaver.dataset), state=[], \n",
    "                                min_wait=0, min_count=1)\n",
    "    \n",
    "    for s1 in Br_vals:\n",
    "        ami.field(s1)\n",
    "        for s2 in bias_values:\n",
    "            ivvi_setup.dac5(s2)\n",
    "            datasaver.add_result((ami.field, s1),\n",
    "                                 (ivvi_setup.dac5, s2), \n",
    "                                 #(ivvi_setup.i1_measurement, ivvi_setup.i1_measurement()),\n",
    "                                 #(ivvi_setup.i2_measurement, ivvi_setup.i2_measurement()),\n",
    "                                 #(ivvi_setup.i3_measurement, ivvi_setup.i3_measurement()),\n",
    "                                 #(ivvi_setup.ig_measurement, ivvi_setup.ig_measurement()),\n",
    "                                 (ivvi_setup.g1_measurement, ivvi_setup.g1_measurement()),\n",
    "                                 (ivvi_setup.g2_measurement, ivvi_setup.g2_measurement()),\n",
    "                                 (ivvi_setup.g3_measurement, ivvi_setup.g3_measurement()))"
   ]
  },
  {
   "cell_type": "code",
   "execution_count": 73,
   "metadata": {},
   "outputs": [
    {
     "name": "stdout",
     "output_type": "stream",
     "text": [
      "Bx set: -0.764655045626\n",
      "By set: 0.441473796429\n",
      "Bz set: 0.469471562786\n"
     ]
    }
   ],
   "source": [
    "x = 1*np.sin(62*np.pi/180)*np.cos(150*np.pi/180)\n",
    "y = 1*np.sin(62*np.pi/180)*np.sin(150*np.pi/180)\n",
    "z = 1*np.cos(62*np.pi/180)\n",
    "print('Bx set: ' + str(x))\n",
    "print('By set: ' + str(y))\n",
    "print('Bz set: ' + str(z))"
   ]
  },
  {
   "cell_type": "code",
   "execution_count": 90,
   "metadata": {},
   "outputs": [
    {
     "name": "stdout",
     "output_type": "stream",
     "text": [
      "Bx measured: 0.3462617\n",
      "By measured: -4.2e-06\n",
      "Bz measured: 0.3583391\n"
     ]
    }
   ],
   "source": [
    "print('Bx measured: ' + str(ami.x_measured()))\n",
    "print('By measured: ' + str(ami.y_measured()))\n",
    "print('Bz measured: ' + str(ami.z_measured()))"
   ]
  },
  {
   "cell_type": "code",
   "execution_count": 87,
   "metadata": {},
   "outputs": [],
   "source": [
    "ami_x.pause()"
   ]
  },
  {
   "cell_type": "code",
   "execution_count": 91,
   "metadata": {},
   "outputs": [],
   "source": [
    "ami.spherical([1,62,150])"
   ]
  },
  {
   "cell_type": "code",
   "execution_count": 92,
   "metadata": {},
   "outputs": [
    {
     "name": "stdout",
     "output_type": "stream",
     "text": [
      "Starting experimental run with id: 311\n"
     ]
    }
   ],
   "source": [
    "exp = select_experiment('V0_0112A', 'DEV_30_33_35')\n",
    "\n",
    "meas = Measurement(exp=exp)\n",
    "meas.write_period = 1\n",
    "#meas.register_parameter(ivvi_setup.dac6)\n",
    "meas.register_parameter(ivvi_setup.dac5)\n",
    "meas.register_parameter(ami.field)\n",
    "# meas.register_parameter(ivvi_setup.v_measurement, setpoints=[ivvi_setup.dac5, ])\n",
    "#meas.register_parameter(ivvi_setup.i1_measurement, setpoints=[ami.field, ivvi_setup.dac5])\n",
    "#meas.register_parameter(ivvi_setup.i2_measurement, setpoints=[ami.field, ivvi_setup.dac5])\n",
    "#meas.register_parameter(ivvi_setup.i3_measurement, setpoints=[ami.field, ivvi_setup.dac5])\n",
    "#meas.register_parameter(ivvi_setup.ig_measurement, setpoints=[ami.field, ivvi_setup.dac5])\n",
    "meas.register_parameter(ivvi_setup.g1_measurement, setpoints=[ami.field, ivvi_setup.dac5])\n",
    "meas.register_parameter(ivvi_setup.g2_measurement, setpoints=[ami.field, ivvi_setup.dac5])\n",
    "meas.register_parameter(ivvi_setup.g3_measurement, setpoints=[ami.field, ivvi_setup.dac5])\n",
    "\n",
    "lockin1.amplitude(0.1)\n",
    "\n",
    "Br_vals = np.linspace(1, 0, 101)\n",
    "bias_values = np.linspace(-.6e-3, .6e-3, 101)\n",
    "with meas.run() as datasaver:\n",
    "    datasaver.dataset.subscribe(QcodesDatasetSubscriber(datasaver.dataset), state=[], \n",
    "                                min_wait=0, min_count=1)\n",
    "    \n",
    "    for s1 in Br_vals:\n",
    "        ami.field(s1)\n",
    "        for s2 in bias_values:\n",
    "            ivvi_setup.dac5(s2)\n",
    "            datasaver.add_result((ami.field, s1),\n",
    "                                 (ivvi_setup.dac5, s2), \n",
    "                                 #(ivvi_setup.i1_measurement, ivvi_setup.i1_measurement()),\n",
    "                                 #(ivvi_setup.i2_measurement, ivvi_setup.i2_measurement()),\n",
    "                                 #(ivvi_setup.i3_measurement, ivvi_setup.i3_measurement()),\n",
    "                                 #(ivvi_setup.ig_measurement, ivvi_setup.ig_measurement()),\n",
    "                                 (ivvi_setup.g1_measurement, ivvi_setup.g1_measurement()),\n",
    "                                 (ivvi_setup.g2_measurement, ivvi_setup.g2_measurement()),\n",
    "                                 (ivvi_setup.g3_measurement, ivvi_setup.g3_measurement()))"
   ]
  },
  {
   "cell_type": "code",
   "execution_count": 93,
   "metadata": {},
   "outputs": [],
   "source": [
    "ami.spherical([0,17,90])"
   ]
  },
  {
   "cell_type": "code",
   "execution_count": 94,
   "metadata": {},
   "outputs": [
    {
     "name": "stdout",
     "output_type": "stream",
     "text": [
      "Starting experimental run with id: 312\n"
     ]
    }
   ],
   "source": [
    "exp = select_experiment('V0_0112A', 'DEV_30_33_35')\n",
    "\n",
    "meas = Measurement(exp=exp)\n",
    "meas.write_period = 1\n",
    "#meas.register_parameter(ivvi_setup.dac6)\n",
    "meas.register_parameter(ivvi_setup.dac5)\n",
    "meas.register_parameter(ami.field)\n",
    "# meas.register_parameter(ivvi_setup.v_measurement, setpoints=[ivvi_setup.dac5, ])\n",
    "#meas.register_parameter(ivvi_setup.i1_measurement, setpoints=[ami.field, ivvi_setup.dac5])\n",
    "#meas.register_parameter(ivvi_setup.i2_measurement, setpoints=[ami.field, ivvi_setup.dac5])\n",
    "#meas.register_parameter(ivvi_setup.i3_measurement, setpoints=[ami.field, ivvi_setup.dac5])\n",
    "#meas.register_parameter(ivvi_setup.ig_measurement, setpoints=[ami.field, ivvi_setup.dac5])\n",
    "meas.register_parameter(ivvi_setup.g1_measurement, setpoints=[ami.field, ivvi_setup.dac5])\n",
    "meas.register_parameter(ivvi_setup.g2_measurement, setpoints=[ami.field, ivvi_setup.dac5])\n",
    "meas.register_parameter(ivvi_setup.g3_measurement, setpoints=[ami.field, ivvi_setup.dac5])\n",
    "\n",
    "lockin1.amplitude(0.1)\n",
    "\n",
    "Br_vals = np.linspace(0, 1, 101)\n",
    "bias_values = np.linspace(-.6e-3, .6e-3, 101)\n",
    "with meas.run() as datasaver:\n",
    "    datasaver.dataset.subscribe(QcodesDatasetSubscriber(datasaver.dataset), state=[], \n",
    "                                min_wait=0, min_count=1)\n",
    "    \n",
    "    for s1 in Br_vals:\n",
    "        ami.field(s1)\n",
    "        for s2 in bias_values:\n",
    "            ivvi_setup.dac5(s2)\n",
    "            datasaver.add_result((ami.field, s1),\n",
    "                                 (ivvi_setup.dac5, s2), \n",
    "                                 #(ivvi_setup.i1_measurement, ivvi_setup.i1_measurement()),\n",
    "                                 #(ivvi_setup.i2_measurement, ivvi_setup.i2_measurement()),\n",
    "                                 #(ivvi_setup.i3_measurement, ivvi_setup.i3_measurement()),\n",
    "                                 #(ivvi_setup.ig_measurement, ivvi_setup.ig_measurement()),\n",
    "                                 (ivvi_setup.g1_measurement, ivvi_setup.g1_measurement()),\n",
    "                                 (ivvi_setup.g2_measurement, ivvi_setup.g2_measurement()),\n",
    "                                 (ivvi_setup.g3_measurement, ivvi_setup.g3_measurement()))"
   ]
  },
  {
   "cell_type": "code",
   "execution_count": 95,
   "metadata": {},
   "outputs": [],
   "source": [
    "ami.spherical([1,35,90])"
   ]
  },
  {
   "cell_type": "code",
   "execution_count": 96,
   "metadata": {},
   "outputs": [
    {
     "name": "stdout",
     "output_type": "stream",
     "text": [
      "Starting experimental run with id: 313\n"
     ]
    }
   ],
   "source": [
    "exp = select_experiment('V0_0112A', 'DEV_30_33_35')\n",
    "\n",
    "meas = Measurement(exp=exp)\n",
    "meas.write_period = 1\n",
    "#meas.register_parameter(ivvi_setup.dac6)\n",
    "meas.register_parameter(ivvi_setup.dac5)\n",
    "meas.register_parameter(ami.field)\n",
    "# meas.register_parameter(ivvi_setup.v_measurement, setpoints=[ivvi_setup.dac5, ])\n",
    "#meas.register_parameter(ivvi_setup.i1_measurement, setpoints=[ami.field, ivvi_setup.dac5])\n",
    "#meas.register_parameter(ivvi_setup.i2_measurement, setpoints=[ami.field, ivvi_setup.dac5])\n",
    "#meas.register_parameter(ivvi_setup.i3_measurement, setpoints=[ami.field, ivvi_setup.dac5])\n",
    "#meas.register_parameter(ivvi_setup.ig_measurement, setpoints=[ami.field, ivvi_setup.dac5])\n",
    "meas.register_parameter(ivvi_setup.g1_measurement, setpoints=[ami.field, ivvi_setup.dac5])\n",
    "meas.register_parameter(ivvi_setup.g2_measurement, setpoints=[ami.field, ivvi_setup.dac5])\n",
    "meas.register_parameter(ivvi_setup.g3_measurement, setpoints=[ami.field, ivvi_setup.dac5])\n",
    "\n",
    "lockin1.amplitude(0.1)\n",
    "\n",
    "Br_vals = np.linspace(1, 0, 101)\n",
    "bias_values = np.linspace(-.6e-3, .6e-3, 101)\n",
    "with meas.run() as datasaver:\n",
    "    datasaver.dataset.subscribe(QcodesDatasetSubscriber(datasaver.dataset), state=[], \n",
    "                                min_wait=0, min_count=1)\n",
    "    \n",
    "    for s1 in Br_vals:\n",
    "        ami.field(s1)\n",
    "        for s2 in bias_values:\n",
    "            ivvi_setup.dac5(s2)\n",
    "            datasaver.add_result((ami.field, s1),\n",
    "                                 (ivvi_setup.dac5, s2), \n",
    "                                 #(ivvi_setup.i1_measurement, ivvi_setup.i1_measurement()),\n",
    "                                 #(ivvi_setup.i2_measurement, ivvi_setup.i2_measurement()),\n",
    "                                 #(ivvi_setup.i3_measurement, ivvi_setup.i3_measurement()),\n",
    "                                 #(ivvi_setup.ig_measurement, ivvi_setup.ig_measurement()),\n",
    "                                 (ivvi_setup.g1_measurement, ivvi_setup.g1_measurement()),\n",
    "                                 (ivvi_setup.g2_measurement, ivvi_setup.g2_measurement()),\n",
    "                                 (ivvi_setup.g3_measurement, ivvi_setup.g3_measurement()))"
   ]
  },
  {
   "cell_type": "markdown",
   "metadata": {},
   "source": [
    "## Bias vs phi sweeps"
   ]
  },
  {
   "cell_type": "code",
   "execution_count": 101,
   "metadata": {},
   "outputs": [],
   "source": [
    "ami.spherical([0.6,17,0])"
   ]
  },
  {
   "cell_type": "code",
   "execution_count": 102,
   "metadata": {},
   "outputs": [
    {
     "name": "stdout",
     "output_type": "stream",
     "text": [
      "Starting experimental run with id: 315\n"
     ]
    }
   ],
   "source": [
    "exp = select_experiment('V0_0112A', 'DEV_30_33_35')\n",
    "\n",
    "meas = Measurement(exp=exp)\n",
    "meas.write_period = 1\n",
    "#meas.register_parameter(ivvi_setup.dac6)\n",
    "meas.register_parameter(ivvi_setup.dac5)\n",
    "meas.register_parameter(ami.phi)\n",
    "# meas.register_parameter(ivvi_setup.v_measurement, setpoints=[ivvi_setup.dac5, ])\n",
    "#meas.register_parameter(ivvi_setup.i1_measurement, setpoints=[ami.phi, ivvi_setup.dac5])\n",
    "#meas.register_parameter(ivvi_setup.i2_measurement, setpoints=[ami.phi, ivvi_setup.dac5])\n",
    "#meas.register_parameter(ivvi_setup.i3_measurement, setpoints=[ami.phi, ivvi_setup.dac5])\n",
    "#meas.register_parameter(ivvi_setup.ig_measurement, setpoints=[ami.phi, ivvi_setup.dac5])\n",
    "meas.register_parameter(ivvi_setup.g1_measurement, setpoints=[ami.phi, ivvi_setup.dac5])\n",
    "meas.register_parameter(ivvi_setup.g2_measurement, setpoints=[ami.phi, ivvi_setup.dac5])\n",
    "meas.register_parameter(ivvi_setup.g3_measurement, setpoints=[ami.phi, ivvi_setup.dac5])\n",
    "\n",
    "lockin1.amplitude(0.1)\n",
    "\n",
    "phi_vals = np.linspace(0, 180, 91)\n",
    "bias_values = np.linspace(-.6e-3, .6e-3, 101)\n",
    "with meas.run() as datasaver:\n",
    "    datasaver.dataset.subscribe(QcodesDatasetSubscriber(datasaver.dataset), state=[], \n",
    "                                min_wait=0, min_count=1)\n",
    "    \n",
    "    for s1 in phi_vals:\n",
    "        ami.phi(s1)\n",
    "        for s2 in bias_values:\n",
    "            ivvi_setup.dac5(s2)\n",
    "            datasaver.add_result((ami.phi, s1),\n",
    "                                 (ivvi_setup.dac5, s2), \n",
    "                                 #(ivvi_setup.i1_measurement, ivvi_setup.i1_measurement()),\n",
    "                                 #(ivvi_setup.i2_measurement, ivvi_setup.i2_measurement()),\n",
    "                                 #(ivvi_setup.i3_measurement, ivvi_setup.i3_measurement()),\n",
    "                                 #(ivvi_setup.ig_measurement, ivvi_setup.ig_measurement()),\n",
    "                                 (ivvi_setup.g1_measurement, ivvi_setup.g1_measurement()),\n",
    "                                 (ivvi_setup.g2_measurement, ivvi_setup.g2_measurement()),\n",
    "                                 (ivvi_setup.g3_measurement, ivvi_setup.g3_measurement()))"
   ]
  },
  {
   "cell_type": "code",
   "execution_count": 103,
   "metadata": {},
   "outputs": [],
   "source": [
    "ami.spherical([0.6,35,180])"
   ]
  },
  {
   "cell_type": "code",
   "execution_count": 104,
   "metadata": {},
   "outputs": [
    {
     "name": "stdout",
     "output_type": "stream",
     "text": [
      "Starting experimental run with id: 316\n"
     ]
    }
   ],
   "source": [
    "exp = select_experiment('V0_0112A', 'DEV_30_33_35')\n",
    "\n",
    "meas = Measurement(exp=exp)\n",
    "meas.write_period = 1\n",
    "#meas.register_parameter(ivvi_setup.dac6)\n",
    "meas.register_parameter(ivvi_setup.dac5)\n",
    "meas.register_parameter(ami.phi)\n",
    "# meas.register_parameter(ivvi_setup.v_measurement, setpoints=[ivvi_setup.dac5, ])\n",
    "#meas.register_parameter(ivvi_setup.i1_measurement, setpoints=[ami.phi, ivvi_setup.dac5])\n",
    "#meas.register_parameter(ivvi_setup.i2_measurement, setpoints=[ami.phi, ivvi_setup.dac5])\n",
    "#meas.register_parameter(ivvi_setup.i3_measurement, setpoints=[ami.phi, ivvi_setup.dac5])\n",
    "#meas.register_parameter(ivvi_setup.ig_measurement, setpoints=[ami.phi, ivvi_setup.dac5])\n",
    "meas.register_parameter(ivvi_setup.g1_measurement, setpoints=[ami.phi, ivvi_setup.dac5])\n",
    "meas.register_parameter(ivvi_setup.g2_measurement, setpoints=[ami.phi, ivvi_setup.dac5])\n",
    "meas.register_parameter(ivvi_setup.g3_measurement, setpoints=[ami.phi, ivvi_setup.dac5])\n",
    "\n",
    "lockin1.amplitude(0.1)\n",
    "\n",
    "phi_vals = np.linspace(180, 0, 91)\n",
    "bias_values = np.linspace(-.6e-3, .6e-3, 101)\n",
    "with meas.run() as datasaver:\n",
    "    datasaver.dataset.subscribe(QcodesDatasetSubscriber(datasaver.dataset), state=[], \n",
    "                                min_wait=0, min_count=1)\n",
    "    \n",
    "    for s1 in phi_vals:\n",
    "        ami.phi(s1)\n",
    "        for s2 in bias_values:\n",
    "            ivvi_setup.dac5(s2)\n",
    "            datasaver.add_result((ami.phi, s1),\n",
    "                                 (ivvi_setup.dac5, s2), \n",
    "                                 #(ivvi_setup.i1_measurement, ivvi_setup.i1_measurement()),\n",
    "                                 #(ivvi_setup.i2_measurement, ivvi_setup.i2_measurement()),\n",
    "                                 #(ivvi_setup.i3_measurement, ivvi_setup.i3_measurement()),\n",
    "                                 #(ivvi_setup.ig_measurement, ivvi_setup.ig_measurement()),\n",
    "                                 (ivvi_setup.g1_measurement, ivvi_setup.g1_measurement()),\n",
    "                                 (ivvi_setup.g2_measurement, ivvi_setup.g2_measurement()),\n",
    "                                 (ivvi_setup.g3_measurement, ivvi_setup.g3_measurement()))"
   ]
  },
  {
   "cell_type": "code",
   "execution_count": 105,
   "metadata": {},
   "outputs": [],
   "source": [
    "ami.field(0)"
   ]
  },
  {
   "cell_type": "code",
   "execution_count": 206,
   "metadata": {},
   "outputs": [],
   "source": [
    "ivvi_setup.dac4(0)"
   ]
  },
  {
   "cell_type": "markdown",
   "metadata": {},
   "source": [
    "## I bias sweep"
   ]
  },
  {
   "cell_type": "code",
   "execution_count": 205,
   "metadata": {},
   "outputs": [
    {
     "name": "stdout",
     "output_type": "stream",
     "text": [
      "Starting experimental run with id: 354\n"
     ]
    }
   ],
   "source": [
    "exp = select_experiment('V0_0112A', 'DEV_29_NC')\n",
    "\n",
    "meas = Measurement(exp=exp)\n",
    "meas.write_period = 1\n",
    "meas.register_parameter(ivvi_setup.dac4)\n",
    "meas.register_parameter(ivvi_setup.v1_measurement, setpoints=[ivvi_setup.dac4, ])\n",
    "meas.register_parameter(ivvi_setup.v2_measurement, setpoints=[ivvi_setup.dac4, ])\n",
    "meas.register_parameter(ivvi_setup.r_ac1_measurement, setpoints=[ivvi_setup.dac4, ])\n",
    "meas.register_parameter(ivvi_setup.r_ac2_measurement, setpoints=[ivvi_setup.dac4, ])\n",
    "#meas.register_parameter(ivvi_setup.g2_measurement, setpoints=[ivvi_setup.dac6, ])\n",
    "#meas.register_parameter(ivvi_setup.g3_measurement, setpoints=[ivvi_setup.dac6, ])\n",
    "\n",
    "\n",
    "\n",
    "srcvals = np.linspace(-25e-9, 25e-9, 301)\n",
    "with meas.run() as datasaver:\n",
    "    datasaver.dataset.subscribe(QcodesDatasetSubscriber(datasaver.dataset), state=[], \n",
    "                                min_wait=0, min_count=1)\n",
    "    \n",
    "    for s in srcvals:\n",
    "        ivvi_setup.dac4(s)\n",
    "        time.sleep(0.2)\n",
    "        datasaver.add_result((ivvi_setup.dac4, s), \n",
    "                             (ivvi_setup.v1_measurement, ivvi_setup.v1_measurement()),\n",
    "                             (ivvi_setup.v2_measurement, ivvi_setup.v2_measurement()),\n",
    "                             (ivvi_setup.r_ac1_measurement, ivvi_setup.r_ac1_measurement()),\n",
    "                             (ivvi_setup.r_ac2_measurement, ivvi_setup.r_ac2_measurement()))"
   ]
  },
  {
   "cell_type": "markdown",
   "metadata": {},
   "source": [
    "## I bias vs gate"
   ]
  },
  {
   "cell_type": "code",
   "execution_count": 165,
   "metadata": {},
   "outputs": [
    {
     "name": "stdout",
     "output_type": "stream",
     "text": [
      "Starting experimental run with id: 338\n"
     ]
    },
    {
     "ename": "KeyboardInterrupt",
     "evalue": "",
     "output_type": "error",
     "traceback": [
      "\u001b[1;31m---------------------------------------------------------------------------\u001b[0m",
      "\u001b[1;31mKeyboardInterrupt\u001b[0m                         Traceback (most recent call last)",
      "\u001b[1;32m<ipython-input-165-2dfc0ab9979a>\u001b[0m in \u001b[0;36m<module>\u001b[1;34m()\u001b[0m\n\u001b[0;32m     29\u001b[0m                                  \u001b[1;33m(\u001b[0m\u001b[0mivvi_setup\u001b[0m\u001b[1;33m.\u001b[0m\u001b[0mdac6\u001b[0m\u001b[1;33m,\u001b[0m \u001b[0ms\u001b[0m\u001b[1;33m)\u001b[0m\u001b[1;33m,\u001b[0m\u001b[1;33m\u001b[0m\u001b[0m\n\u001b[0;32m     30\u001b[0m                                  \u001b[1;33m(\u001b[0m\u001b[0mivvi_setup\u001b[0m\u001b[1;33m.\u001b[0m\u001b[0mv1_measurement\u001b[0m\u001b[1;33m,\u001b[0m \u001b[0mivvi_setup\u001b[0m\u001b[1;33m.\u001b[0m\u001b[0mv1_measurement\u001b[0m\u001b[1;33m(\u001b[0m\u001b[1;33m)\u001b[0m\u001b[1;33m)\u001b[0m\u001b[1;33m,\u001b[0m\u001b[1;33m\u001b[0m\u001b[0m\n\u001b[1;32m---> 31\u001b[1;33m                                  \u001b[1;33m(\u001b[0m\u001b[0mivvi_setup\u001b[0m\u001b[1;33m.\u001b[0m\u001b[0mv2_measurement\u001b[0m\u001b[1;33m,\u001b[0m \u001b[0mivvi_setup\u001b[0m\u001b[1;33m.\u001b[0m\u001b[0mv2_measurement\u001b[0m\u001b[1;33m(\u001b[0m\u001b[1;33m)\u001b[0m\u001b[1;33m)\u001b[0m\u001b[1;33m,\u001b[0m\u001b[1;33m\u001b[0m\u001b[0m\n\u001b[0m\u001b[0;32m     32\u001b[0m                                  \u001b[1;33m(\u001b[0m\u001b[0mivvi_setup\u001b[0m\u001b[1;33m.\u001b[0m\u001b[0mr_ac1_measurement\u001b[0m\u001b[1;33m,\u001b[0m \u001b[0mivvi_setup\u001b[0m\u001b[1;33m.\u001b[0m\u001b[0mr_ac1_measurement\u001b[0m\u001b[1;33m(\u001b[0m\u001b[1;33m)\u001b[0m\u001b[1;33m)\u001b[0m\u001b[1;33m,\u001b[0m\u001b[1;33m\u001b[0m\u001b[0m\n\u001b[0;32m     33\u001b[0m                                  (ivvi_setup.r_ac2_measurement, ivvi_setup.r_ac2_measurement()))\n",
      "\u001b[1;32md:\\onedrive\\bf1\\code\\qcodes\\qcodes\\instrument\\parameter.py\u001b[0m in \u001b[0;36m__call__\u001b[1;34m(self, *args, **kwargs)\u001b[0m\n\u001b[0;32m    244\u001b[0m         \u001b[1;32mif\u001b[0m \u001b[0mlen\u001b[0m\u001b[1;33m(\u001b[0m\u001b[0margs\u001b[0m\u001b[1;33m)\u001b[0m \u001b[1;33m==\u001b[0m \u001b[1;36m0\u001b[0m\u001b[1;33m:\u001b[0m\u001b[1;33m\u001b[0m\u001b[0m\n\u001b[0;32m    245\u001b[0m             \u001b[1;32mif\u001b[0m \u001b[0mhasattr\u001b[0m\u001b[1;33m(\u001b[0m\u001b[0mself\u001b[0m\u001b[1;33m,\u001b[0m \u001b[1;34m'get'\u001b[0m\u001b[1;33m)\u001b[0m\u001b[1;33m:\u001b[0m\u001b[1;33m\u001b[0m\u001b[0m\n\u001b[1;32m--> 246\u001b[1;33m                 \u001b[1;32mreturn\u001b[0m \u001b[0mself\u001b[0m\u001b[1;33m.\u001b[0m\u001b[0mget\u001b[0m\u001b[1;33m(\u001b[0m\u001b[1;33m)\u001b[0m\u001b[1;33m\u001b[0m\u001b[0m\n\u001b[0m\u001b[0;32m    247\u001b[0m             \u001b[1;32melse\u001b[0m\u001b[1;33m:\u001b[0m\u001b[1;33m\u001b[0m\u001b[0m\n\u001b[0;32m    248\u001b[0m                 raise NotImplementedError('no get cmd found in' +\n",
      "\u001b[1;32md:\\onedrive\\bf1\\code\\qcodes\\qcodes\\instrument\\parameter.py\u001b[0m in \u001b[0;36mget_wrapper\u001b[1;34m(*args, **kwargs)\u001b[0m\n\u001b[0;32m    322\u001b[0m             \u001b[1;32mtry\u001b[0m\u001b[1;33m:\u001b[0m\u001b[1;33m\u001b[0m\u001b[0m\n\u001b[0;32m    323\u001b[0m                 \u001b[1;31m# There might be cases where a .get also has args/kwargs\u001b[0m\u001b[1;33m\u001b[0m\u001b[1;33m\u001b[0m\u001b[0m\n\u001b[1;32m--> 324\u001b[1;33m                 \u001b[0mvalue\u001b[0m \u001b[1;33m=\u001b[0m \u001b[0mget_function\u001b[0m\u001b[1;33m(\u001b[0m\u001b[1;33m*\u001b[0m\u001b[0margs\u001b[0m\u001b[1;33m,\u001b[0m \u001b[1;33m**\u001b[0m\u001b[0mkwargs\u001b[0m\u001b[1;33m)\u001b[0m\u001b[1;33m\u001b[0m\u001b[0m\n\u001b[0m\u001b[0;32m    325\u001b[0m                 \u001b[0mself\u001b[0m\u001b[1;33m.\u001b[0m\u001b[0mraw_value\u001b[0m \u001b[1;33m=\u001b[0m \u001b[0mvalue\u001b[0m\u001b[1;33m\u001b[0m\u001b[0m\n\u001b[0;32m    326\u001b[0m \u001b[1;33m\u001b[0m\u001b[0m\n",
      "\u001b[1;32m<ipython-input-110-a2d2293c791a>\u001b[0m in \u001b[0;36mget_raw\u001b[1;34m(self)\u001b[0m\n\u001b[0;32m      8\u001b[0m \u001b[1;33m\u001b[0m\u001b[0m\n\u001b[0;32m      9\u001b[0m     \u001b[1;32mdef\u001b[0m \u001b[0mget_raw\u001b[0m\u001b[1;33m(\u001b[0m\u001b[0mself\u001b[0m\u001b[1;33m)\u001b[0m\u001b[1;33m:\u001b[0m\u001b[1;33m\u001b[0m\u001b[0m\n\u001b[1;32m---> 10\u001b[1;33m         \u001b[1;32mreturn\u001b[0m \u001b[0mself\u001b[0m\u001b[1;33m.\u001b[0m\u001b[0mget_conv\u001b[0m\u001b[1;33m(\u001b[0m\u001b[0mself\u001b[0m\u001b[1;33m.\u001b[0m\u001b[0msrc_param\u001b[0m\u001b[1;33m(\u001b[0m\u001b[1;33m)\u001b[0m\u001b[1;33m)\u001b[0m\u001b[1;33m\u001b[0m\u001b[0m\n\u001b[0m\u001b[0;32m     11\u001b[0m \u001b[1;33m\u001b[0m\u001b[0m\n\u001b[0;32m     12\u001b[0m     \u001b[1;32mdef\u001b[0m \u001b[0mset_raw\u001b[0m\u001b[1;33m(\u001b[0m\u001b[0mself\u001b[0m\u001b[1;33m,\u001b[0m \u001b[0mvalue\u001b[0m\u001b[1;33m)\u001b[0m\u001b[1;33m:\u001b[0m\u001b[1;33m\u001b[0m\u001b[0m\n",
      "\u001b[1;32md:\\onedrive\\bf1\\code\\qcodes\\qcodes\\instrument\\parameter.py\u001b[0m in \u001b[0;36m__call__\u001b[1;34m(self, *args, **kwargs)\u001b[0m\n\u001b[0;32m    244\u001b[0m         \u001b[1;32mif\u001b[0m \u001b[0mlen\u001b[0m\u001b[1;33m(\u001b[0m\u001b[0margs\u001b[0m\u001b[1;33m)\u001b[0m \u001b[1;33m==\u001b[0m \u001b[1;36m0\u001b[0m\u001b[1;33m:\u001b[0m\u001b[1;33m\u001b[0m\u001b[0m\n\u001b[0;32m    245\u001b[0m             \u001b[1;32mif\u001b[0m \u001b[0mhasattr\u001b[0m\u001b[1;33m(\u001b[0m\u001b[0mself\u001b[0m\u001b[1;33m,\u001b[0m \u001b[1;34m'get'\u001b[0m\u001b[1;33m)\u001b[0m\u001b[1;33m:\u001b[0m\u001b[1;33m\u001b[0m\u001b[0m\n\u001b[1;32m--> 246\u001b[1;33m                 \u001b[1;32mreturn\u001b[0m \u001b[0mself\u001b[0m\u001b[1;33m.\u001b[0m\u001b[0mget\u001b[0m\u001b[1;33m(\u001b[0m\u001b[1;33m)\u001b[0m\u001b[1;33m\u001b[0m\u001b[0m\n\u001b[0m\u001b[0;32m    247\u001b[0m             \u001b[1;32melse\u001b[0m\u001b[1;33m:\u001b[0m\u001b[1;33m\u001b[0m\u001b[0m\n\u001b[0;32m    248\u001b[0m                 raise NotImplementedError('no get cmd found in' +\n",
      "\u001b[1;32md:\\onedrive\\bf1\\code\\qcodes\\qcodes\\instrument\\parameter.py\u001b[0m in \u001b[0;36mget_wrapper\u001b[1;34m(*args, **kwargs)\u001b[0m\n\u001b[0;32m    322\u001b[0m             \u001b[1;32mtry\u001b[0m\u001b[1;33m:\u001b[0m\u001b[1;33m\u001b[0m\u001b[0m\n\u001b[0;32m    323\u001b[0m                 \u001b[1;31m# There might be cases where a .get also has args/kwargs\u001b[0m\u001b[1;33m\u001b[0m\u001b[1;33m\u001b[0m\u001b[0m\n\u001b[1;32m--> 324\u001b[1;33m                 \u001b[0mvalue\u001b[0m \u001b[1;33m=\u001b[0m \u001b[0mget_function\u001b[0m\u001b[1;33m(\u001b[0m\u001b[1;33m*\u001b[0m\u001b[0margs\u001b[0m\u001b[1;33m,\u001b[0m \u001b[1;33m**\u001b[0m\u001b[0mkwargs\u001b[0m\u001b[1;33m)\u001b[0m\u001b[1;33m\u001b[0m\u001b[0m\n\u001b[0m\u001b[0;32m    325\u001b[0m                 \u001b[0mself\u001b[0m\u001b[1;33m.\u001b[0m\u001b[0mraw_value\u001b[0m \u001b[1;33m=\u001b[0m \u001b[0mvalue\u001b[0m\u001b[1;33m\u001b[0m\u001b[0m\n\u001b[0;32m    326\u001b[0m \u001b[1;33m\u001b[0m\u001b[0m\n",
      "\u001b[1;32md:\\onedrive\\bf1\\code\\qcodes\\qcodes\\utils\\command.py\u001b[0m in \u001b[0;36m__call__\u001b[1;34m(self, *args)\u001b[0m\n\u001b[0;32m    175\u001b[0m             raise TypeError(\n\u001b[0;32m    176\u001b[0m                 'command takes exactly {} args'.format(self.arg_count))\n\u001b[1;32m--> 177\u001b[1;33m         \u001b[1;32mreturn\u001b[0m \u001b[0mself\u001b[0m\u001b[1;33m.\u001b[0m\u001b[0mexec_function\u001b[0m\u001b[1;33m(\u001b[0m\u001b[1;33m*\u001b[0m\u001b[0margs\u001b[0m\u001b[1;33m)\u001b[0m\u001b[1;33m\u001b[0m\u001b[0m\n\u001b[0m",
      "\u001b[1;32md:\\onedrive\\bf1\\code\\qcodes\\qcodes\\instrument_drivers\\Keysight\\Keysight_34465A.py\u001b[0m in \u001b[0;36m_get_voltage\u001b[1;34m(self)\u001b[0m\n\u001b[0;32m    370\u001b[0m         \u001b[1;31m# should be aware of the configuration.\u001b[0m\u001b[1;33m\u001b[0m\u001b[1;33m\u001b[0m\u001b[0m\n\u001b[0;32m    371\u001b[0m \u001b[1;33m\u001b[0m\u001b[0m\n\u001b[1;32m--> 372\u001b[1;33m         \u001b[0mresponse\u001b[0m \u001b[1;33m=\u001b[0m \u001b[0mself\u001b[0m\u001b[1;33m.\u001b[0m\u001b[0mask\u001b[0m\u001b[1;33m(\u001b[0m\u001b[1;34m'READ?'\u001b[0m\u001b[1;33m)\u001b[0m\u001b[1;33m\u001b[0m\u001b[0m\n\u001b[0m\u001b[0;32m    373\u001b[0m \u001b[1;33m\u001b[0m\u001b[0m\n\u001b[0;32m    374\u001b[0m         \u001b[1;32mreturn\u001b[0m \u001b[0mfloat\u001b[0m\u001b[1;33m(\u001b[0m\u001b[0mresponse\u001b[0m\u001b[1;33m)\u001b[0m\u001b[1;33m\u001b[0m\u001b[0m\n",
      "\u001b[1;32md:\\onedrive\\bf1\\code\\qcodes\\qcodes\\instrument\\base.py\u001b[0m in \u001b[0;36mask\u001b[1;34m(self, cmd)\u001b[0m\n\u001b[0;32m    654\u001b[0m         \"\"\"\n\u001b[0;32m    655\u001b[0m         \u001b[1;32mtry\u001b[0m\u001b[1;33m:\u001b[0m\u001b[1;33m\u001b[0m\u001b[0m\n\u001b[1;32m--> 656\u001b[1;33m             \u001b[0manswer\u001b[0m \u001b[1;33m=\u001b[0m \u001b[0mself\u001b[0m\u001b[1;33m.\u001b[0m\u001b[0mask_raw\u001b[0m\u001b[1;33m(\u001b[0m\u001b[0mcmd\u001b[0m\u001b[1;33m)\u001b[0m\u001b[1;33m\u001b[0m\u001b[0m\n\u001b[0m\u001b[0;32m    657\u001b[0m \u001b[1;33m\u001b[0m\u001b[0m\n\u001b[0;32m    658\u001b[0m             \u001b[1;32mreturn\u001b[0m \u001b[0manswer\u001b[0m\u001b[1;33m\u001b[0m\u001b[0m\n",
      "\u001b[1;32md:\\onedrive\\bf1\\code\\qcodes\\qcodes\\instrument\\visa.py\u001b[0m in \u001b[0;36mask_raw\u001b[1;34m(self, cmd)\u001b[0m\n\u001b[0;32m    213\u001b[0m         \"\"\"\n\u001b[0;32m    214\u001b[0m         \u001b[0mlog\u001b[0m\u001b[1;33m.\u001b[0m\u001b[0mdebug\u001b[0m\u001b[1;33m(\u001b[0m\u001b[1;34m\"Querying instrument {}: {}\"\u001b[0m\u001b[1;33m.\u001b[0m\u001b[0mformat\u001b[0m\u001b[1;33m(\u001b[0m\u001b[0mself\u001b[0m\u001b[1;33m.\u001b[0m\u001b[0mname\u001b[0m\u001b[1;33m,\u001b[0m \u001b[0mcmd\u001b[0m\u001b[1;33m)\u001b[0m\u001b[1;33m)\u001b[0m\u001b[1;33m\u001b[0m\u001b[0m\n\u001b[1;32m--> 215\u001b[1;33m         \u001b[0mresponse\u001b[0m \u001b[1;33m=\u001b[0m \u001b[0mself\u001b[0m\u001b[1;33m.\u001b[0m\u001b[0mvisa_handle\u001b[0m\u001b[1;33m.\u001b[0m\u001b[0mquery\u001b[0m\u001b[1;33m(\u001b[0m\u001b[0mcmd\u001b[0m\u001b[1;33m)\u001b[0m\u001b[1;33m\u001b[0m\u001b[0m\n\u001b[0m\u001b[0;32m    216\u001b[0m         \u001b[0mlog\u001b[0m\u001b[1;33m.\u001b[0m\u001b[0mdebug\u001b[0m\u001b[1;33m(\u001b[0m\u001b[1;34mf\"Got instrument response: {response}\"\u001b[0m\u001b[1;33m)\u001b[0m\u001b[1;33m\u001b[0m\u001b[0m\n\u001b[0;32m    217\u001b[0m         \u001b[1;32mreturn\u001b[0m \u001b[0mresponse\u001b[0m\u001b[1;33m\u001b[0m\u001b[0m\n",
      "\u001b[1;32m~\\Anaconda3\\envs\\qcodes\\lib\\site-packages\\pyvisa\\resources\\messagebased.py\u001b[0m in \u001b[0;36mquery\u001b[1;34m(self, message, delay)\u001b[0m\n\u001b[0;32m    405\u001b[0m         \u001b[1;32mif\u001b[0m \u001b[0mdelay\u001b[0m \u001b[1;33m>\u001b[0m \u001b[1;36m0.0\u001b[0m\u001b[1;33m:\u001b[0m\u001b[1;33m\u001b[0m\u001b[0m\n\u001b[0;32m    406\u001b[0m             \u001b[0mtime\u001b[0m\u001b[1;33m.\u001b[0m\u001b[0msleep\u001b[0m\u001b[1;33m(\u001b[0m\u001b[0mdelay\u001b[0m\u001b[1;33m)\u001b[0m\u001b[1;33m\u001b[0m\u001b[0m\n\u001b[1;32m--> 407\u001b[1;33m         \u001b[1;32mreturn\u001b[0m \u001b[0mself\u001b[0m\u001b[1;33m.\u001b[0m\u001b[0mread\u001b[0m\u001b[1;33m(\u001b[0m\u001b[1;33m)\u001b[0m\u001b[1;33m\u001b[0m\u001b[0m\n\u001b[0m\u001b[0;32m    408\u001b[0m \u001b[1;33m\u001b[0m\u001b[0m\n\u001b[0;32m    409\u001b[0m     \u001b[1;31m# Kept for backwards compatibility.\u001b[0m\u001b[1;33m\u001b[0m\u001b[1;33m\u001b[0m\u001b[0m\n",
      "\u001b[1;32m~\\Anaconda3\\envs\\qcodes\\lib\\site-packages\\pyvisa\\resources\\messagebased.py\u001b[0m in \u001b[0;36mread\u001b[1;34m(self, termination, encoding)\u001b[0m\n\u001b[0;32m    330\u001b[0m         \u001b[1;32mif\u001b[0m \u001b[0mtermination\u001b[0m \u001b[1;32mis\u001b[0m \u001b[1;32mNone\u001b[0m\u001b[1;33m:\u001b[0m\u001b[1;33m\u001b[0m\u001b[0m\n\u001b[0;32m    331\u001b[0m             \u001b[0mtermination\u001b[0m \u001b[1;33m=\u001b[0m \u001b[0mself\u001b[0m\u001b[1;33m.\u001b[0m\u001b[0m_read_termination\u001b[0m\u001b[1;33m\u001b[0m\u001b[0m\n\u001b[1;32m--> 332\u001b[1;33m             \u001b[0mmessage\u001b[0m \u001b[1;33m=\u001b[0m \u001b[0mself\u001b[0m\u001b[1;33m.\u001b[0m\u001b[0mread_raw\u001b[0m\u001b[1;33m(\u001b[0m\u001b[1;33m)\u001b[0m\u001b[1;33m.\u001b[0m\u001b[0mdecode\u001b[0m\u001b[1;33m(\u001b[0m\u001b[0menco\u001b[0m\u001b[1;33m)\u001b[0m\u001b[1;33m\u001b[0m\u001b[0m\n\u001b[0m\u001b[0;32m    333\u001b[0m         \u001b[1;32melse\u001b[0m\u001b[1;33m:\u001b[0m\u001b[1;33m\u001b[0m\u001b[0m\n\u001b[0;32m    334\u001b[0m             \u001b[1;32mwith\u001b[0m \u001b[0mself\u001b[0m\u001b[1;33m.\u001b[0m\u001b[0mread_termination_context\u001b[0m\u001b[1;33m(\u001b[0m\u001b[0mtermination\u001b[0m\u001b[1;33m)\u001b[0m\u001b[1;33m:\u001b[0m\u001b[1;33m\u001b[0m\u001b[0m\n",
      "\u001b[1;32m~\\Anaconda3\\envs\\qcodes\\lib\\site-packages\\pyvisa\\resources\\messagebased.py\u001b[0m in \u001b[0;36mread_raw\u001b[1;34m(self, size)\u001b[0m\n\u001b[0;32m    304\u001b[0m                     logger.debug('%s - reading %d bytes (last status %r)',\n\u001b[0;32m    305\u001b[0m                                  self._resource_name, size, status)\n\u001b[1;32m--> 306\u001b[1;33m                     \u001b[0mchunk\u001b[0m\u001b[1;33m,\u001b[0m \u001b[0mstatus\u001b[0m \u001b[1;33m=\u001b[0m \u001b[0mself\u001b[0m\u001b[1;33m.\u001b[0m\u001b[0mvisalib\u001b[0m\u001b[1;33m.\u001b[0m\u001b[0mread\u001b[0m\u001b[1;33m(\u001b[0m\u001b[0mself\u001b[0m\u001b[1;33m.\u001b[0m\u001b[0msession\u001b[0m\u001b[1;33m,\u001b[0m \u001b[0msize\u001b[0m\u001b[1;33m)\u001b[0m\u001b[1;33m\u001b[0m\u001b[0m\n\u001b[0m\u001b[0;32m    307\u001b[0m                     \u001b[0mret\u001b[0m \u001b[1;33m+=\u001b[0m \u001b[0mchunk\u001b[0m\u001b[1;33m\u001b[0m\u001b[0m\n\u001b[0;32m    308\u001b[0m             \u001b[1;32mexcept\u001b[0m \u001b[0merrors\u001b[0m\u001b[1;33m.\u001b[0m\u001b[0mVisaIOError\u001b[0m \u001b[1;32mas\u001b[0m \u001b[0me\u001b[0m\u001b[1;33m:\u001b[0m\u001b[1;33m\u001b[0m\u001b[0m\n",
      "\u001b[1;32m~\\Anaconda3\\envs\\qcodes\\lib\\site-packages\\pyvisa\\ctwrapper\\functions.py\u001b[0m in \u001b[0;36mread\u001b[1;34m(library, session, count)\u001b[0m\n\u001b[0;32m   1580\u001b[0m     \u001b[0mbuffer\u001b[0m \u001b[1;33m=\u001b[0m \u001b[0mcreate_string_buffer\u001b[0m\u001b[1;33m(\u001b[0m\u001b[0mcount\u001b[0m\u001b[1;33m)\u001b[0m\u001b[1;33m\u001b[0m\u001b[0m\n\u001b[0;32m   1581\u001b[0m     \u001b[0mreturn_count\u001b[0m \u001b[1;33m=\u001b[0m \u001b[0mViUInt32\u001b[0m\u001b[1;33m(\u001b[0m\u001b[1;33m)\u001b[0m\u001b[1;33m\u001b[0m\u001b[0m\n\u001b[1;32m-> 1582\u001b[1;33m     \u001b[0mret\u001b[0m \u001b[1;33m=\u001b[0m \u001b[0mlibrary\u001b[0m\u001b[1;33m.\u001b[0m\u001b[0mviRead\u001b[0m\u001b[1;33m(\u001b[0m\u001b[0msession\u001b[0m\u001b[1;33m,\u001b[0m \u001b[0mbuffer\u001b[0m\u001b[1;33m,\u001b[0m \u001b[0mcount\u001b[0m\u001b[1;33m,\u001b[0m \u001b[0mbyref\u001b[0m\u001b[1;33m(\u001b[0m\u001b[0mreturn_count\u001b[0m\u001b[1;33m)\u001b[0m\u001b[1;33m)\u001b[0m\u001b[1;33m\u001b[0m\u001b[0m\n\u001b[0m\u001b[0;32m   1583\u001b[0m     \u001b[1;32mreturn\u001b[0m \u001b[0mbuffer\u001b[0m\u001b[1;33m.\u001b[0m\u001b[0mraw\u001b[0m\u001b[1;33m[\u001b[0m\u001b[1;33m:\u001b[0m\u001b[0mreturn_count\u001b[0m\u001b[1;33m.\u001b[0m\u001b[0mvalue\u001b[0m\u001b[1;33m]\u001b[0m\u001b[1;33m,\u001b[0m \u001b[0mret\u001b[0m\u001b[1;33m\u001b[0m\u001b[0m\n\u001b[0;32m   1584\u001b[0m \u001b[1;33m\u001b[0m\u001b[0m\n",
      "\u001b[1;32m~\\Anaconda3\\envs\\qcodes\\lib\\site-packages\\pyvisa\\ctwrapper\\highlevel.py\u001b[0m in \u001b[0;36m_return_handler\u001b[1;34m(self, ret_value, func, arguments)\u001b[0m\n\u001b[0;32m    147\u001b[0m             \u001b[0msetattr\u001b[0m\u001b[1;33m(\u001b[0m\u001b[0mself\u001b[0m\u001b[1;33m,\u001b[0m \u001b[0mmethod_name\u001b[0m\u001b[1;33m,\u001b[0m \u001b[0mgetattr\u001b[0m\u001b[1;33m(\u001b[0m\u001b[0mself\u001b[0m\u001b[1;33m.\u001b[0m\u001b[0mlib\u001b[0m\u001b[1;33m,\u001b[0m \u001b[0mmethod_name\u001b[0m\u001b[1;33m)\u001b[0m\u001b[1;33m)\u001b[0m\u001b[1;33m\u001b[0m\u001b[0m\n\u001b[0;32m    148\u001b[0m \u001b[1;33m\u001b[0m\u001b[0m\n\u001b[1;32m--> 149\u001b[1;33m     \u001b[1;32mdef\u001b[0m \u001b[0m_return_handler\u001b[0m\u001b[1;33m(\u001b[0m\u001b[0mself\u001b[0m\u001b[1;33m,\u001b[0m \u001b[0mret_value\u001b[0m\u001b[1;33m,\u001b[0m \u001b[0mfunc\u001b[0m\u001b[1;33m,\u001b[0m \u001b[0marguments\u001b[0m\u001b[1;33m)\u001b[0m\u001b[1;33m:\u001b[0m\u001b[1;33m\u001b[0m\u001b[0m\n\u001b[0m\u001b[0;32m    150\u001b[0m         \"\"\"Check return values for errors and warnings.\n\u001b[0;32m    151\u001b[0m         \"\"\"\n",
      "\u001b[1;31mKeyboardInterrupt\u001b[0m: "
     ]
    }
   ],
   "source": [
    "exp = select_experiment('V0_0112A', 'DEV_37_45')\n",
    "\n",
    "meas = Measurement(exp=exp)\n",
    "meas.write_period = 1\n",
    "meas.register_parameter(ivvi_setup.dac4)\n",
    "meas.register_parameter(ivvi_setup.dac6)\n",
    "meas.register_parameter(ivvi_setup.v1_measurement, setpoints=[ivvi_setup.dac4, ivvi_setup.dac6])\n",
    "meas.register_parameter(ivvi_setup.v2_measurement, setpoints=[ivvi_setup.dac4, ivvi_setup.dac6])\n",
    "meas.register_parameter(ivvi_setup.r_ac1_measurement, setpoints=[ivvi_setup.dac4, ivvi_setup.dac6])\n",
    "meas.register_parameter(ivvi_setup.r_ac2_measurement, setpoints=[ivvi_setup.dac4, ivvi_setup.dac6])\n",
    "#meas.register_parameter(ivvi_setup.g2_measurement, setpoints=[ivvi_setup.dac6, ])\n",
    "#meas.register_parameter(ivvi_setup.g3_measurement, setpoints=[ivvi_setup.dac6, ])\n",
    "\n",
    "\n",
    "\n",
    "srcvals = np.linspace(-100e-9, 100e-9, 601)\n",
    "gatevals = np.linspace(10,0,101)\n",
    "\n",
    "with meas.run() as datasaver:\n",
    "    datasaver.dataset.subscribe(QcodesDatasetSubscriber(datasaver.dataset), state=[], \n",
    "                                min_wait=0, min_count=1)\n",
    "    \n",
    "    for s in gatevals:\n",
    "        ivvi_setup.dac6(s)\n",
    "        for s2 in srcvals:\n",
    "            ivvi_setup.dac4(s2)\n",
    "            #time.sleep(0.2)\n",
    "            datasaver.add_result((ivvi_setup.dac4, s2), \n",
    "                                 (ivvi_setup.dac6, s),\n",
    "                                 (ivvi_setup.v1_measurement, ivvi_setup.v1_measurement()),\n",
    "                                 (ivvi_setup.v2_measurement, ivvi_setup.v2_measurement()),\n",
    "                                 (ivvi_setup.r_ac1_measurement, ivvi_setup.r_ac1_measurement()),\n",
    "                                 (ivvi_setup.r_ac2_measurement, ivvi_setup.r_ac2_measurement()))"
   ]
  },
  {
   "cell_type": "code",
   "execution_count": 217,
   "metadata": {},
   "outputs": [],
   "source": [
    "ivvi_setup.dac4(0)"
   ]
  },
  {
   "cell_type": "code",
   "execution_count": 211,
   "metadata": {},
   "outputs": [],
   "source": [
    "ami_z.pause()"
   ]
  },
  {
   "cell_type": "markdown",
   "metadata": {},
   "source": [
    "## Ibias vs theta scan"
   ]
  },
  {
   "cell_type": "code",
   "execution_count": 223,
   "metadata": {},
   "outputs": [],
   "source": [
    "ami_x.pause()\n",
    "ami_y.pause()\n",
    "ami_z.pause()"
   ]
  },
  {
   "cell_type": "code",
   "execution_count": 224,
   "metadata": {},
   "outputs": [
    {
     "ename": "KeyboardInterrupt",
     "evalue": "",
     "output_type": "error",
     "traceback": [
      "\u001b[1;31m---------------------------------------------------------------------------\u001b[0m",
      "\u001b[1;31mKeyboardInterrupt\u001b[0m                         Traceback (most recent call last)",
      "\u001b[1;32m<ipython-input-224-5961c1653eea>\u001b[0m in \u001b[0;36m<module>\u001b[1;34m()\u001b[0m\n\u001b[1;32m----> 1\u001b[1;33m \u001b[0mami\u001b[0m\u001b[1;33m.\u001b[0m\u001b[0mspherical\u001b[0m\u001b[1;33m(\u001b[0m\u001b[1;33m[\u001b[0m\u001b[1;36m0\u001b[0m\u001b[1;33m,\u001b[0m\u001b[1;36m41\u001b[0m\u001b[1;33m,\u001b[0m\u001b[1;36m90\u001b[0m\u001b[1;33m]\u001b[0m\u001b[1;33m)\u001b[0m\u001b[1;33m\u001b[0m\u001b[0m\n\u001b[0m",
      "\u001b[1;32md:\\onedrive\\bf1\\code\\qcodes\\qcodes\\instrument\\parameter.py\u001b[0m in \u001b[0;36m__call__\u001b[1;34m(self, *args, **kwargs)\u001b[0m\n\u001b[0;32m    250\u001b[0m         \u001b[1;32melse\u001b[0m\u001b[1;33m:\u001b[0m\u001b[1;33m\u001b[0m\u001b[0m\n\u001b[0;32m    251\u001b[0m             \u001b[1;32mif\u001b[0m \u001b[0mhasattr\u001b[0m\u001b[1;33m(\u001b[0m\u001b[0mself\u001b[0m\u001b[1;33m,\u001b[0m \u001b[1;34m'set'\u001b[0m\u001b[1;33m)\u001b[0m\u001b[1;33m:\u001b[0m\u001b[1;33m\u001b[0m\u001b[0m\n\u001b[1;32m--> 252\u001b[1;33m                 \u001b[0mself\u001b[0m\u001b[1;33m.\u001b[0m\u001b[0mset\u001b[0m\u001b[1;33m(\u001b[0m\u001b[1;33m*\u001b[0m\u001b[0margs\u001b[0m\u001b[1;33m,\u001b[0m \u001b[1;33m**\u001b[0m\u001b[0mkwargs\u001b[0m\u001b[1;33m)\u001b[0m\u001b[1;33m\u001b[0m\u001b[0m\n\u001b[0m\u001b[0;32m    253\u001b[0m             \u001b[1;32melse\u001b[0m\u001b[1;33m:\u001b[0m\u001b[1;33m\u001b[0m\u001b[0m\n\u001b[0;32m    254\u001b[0m                 raise NotImplementedError('no set cmd found in' +\n",
      "\u001b[1;32md:\\onedrive\\bf1\\code\\qcodes\\qcodes\\instrument\\parameter.py\u001b[0m in \u001b[0;36mset_wrapper\u001b[1;34m(value, **kwargs)\u001b[0m\n\u001b[0;32m    400\u001b[0m                     \u001b[0mt0\u001b[0m \u001b[1;33m=\u001b[0m \u001b[0mtime\u001b[0m\u001b[1;33m.\u001b[0m\u001b[0mperf_counter\u001b[0m\u001b[1;33m(\u001b[0m\u001b[1;33m)\u001b[0m\u001b[1;33m\u001b[0m\u001b[0m\n\u001b[0;32m    401\u001b[0m \u001b[1;33m\u001b[0m\u001b[0m\n\u001b[1;32m--> 402\u001b[1;33m                     \u001b[0mset_function\u001b[0m\u001b[1;33m(\u001b[0m\u001b[0mparsed_scaled_mapped_value\u001b[0m\u001b[1;33m,\u001b[0m \u001b[1;33m**\u001b[0m\u001b[0mkwargs\u001b[0m\u001b[1;33m)\u001b[0m\u001b[1;33m\u001b[0m\u001b[0m\n\u001b[0m\u001b[0;32m    403\u001b[0m                     \u001b[0mself\u001b[0m\u001b[1;33m.\u001b[0m\u001b[0mraw_value\u001b[0m \u001b[1;33m=\u001b[0m \u001b[0mparsed_scaled_mapped_value\u001b[0m\u001b[1;33m\u001b[0m\u001b[0m\n\u001b[0;32m    404\u001b[0m                     self._save_val(val_step,\n",
      "\u001b[1;32md:\\onedrive\\bf1\\code\\qcodes\\qcodes\\utils\\command.py\u001b[0m in \u001b[0;36m__call__\u001b[1;34m(self, *args)\u001b[0m\n\u001b[0;32m    175\u001b[0m             raise TypeError(\n\u001b[0;32m    176\u001b[0m                 'command takes exactly {} args'.format(self.arg_count))\n\u001b[1;32m--> 177\u001b[1;33m         \u001b[1;32mreturn\u001b[0m \u001b[0mself\u001b[0m\u001b[1;33m.\u001b[0m\u001b[0mexec_function\u001b[0m\u001b[1;33m(\u001b[0m\u001b[1;33m*\u001b[0m\u001b[0margs\u001b[0m\u001b[1;33m)\u001b[0m\u001b[1;33m\u001b[0m\u001b[0m\n\u001b[0m",
      "\u001b[1;32md:\\onedrive\\bf1\\code\\qcodes\\qcodes\\instrument_drivers\\american_magnetics\\AMI430.py\u001b[0m in \u001b[0;36m_set_spherical\u001b[1;34m(self, values)\u001b[0m\n\u001b[0;32m    787\u001b[0m         \u001b[0mr\u001b[0m\u001b[1;33m,\u001b[0m \u001b[0mtheta\u001b[0m\u001b[1;33m,\u001b[0m \u001b[0mphi\u001b[0m \u001b[1;33m=\u001b[0m \u001b[0mvalues\u001b[0m\u001b[1;33m\u001b[0m\u001b[0m\n\u001b[0;32m    788\u001b[0m         \u001b[0mself\u001b[0m\u001b[1;33m.\u001b[0m\u001b[0m_set_point\u001b[0m\u001b[1;33m.\u001b[0m\u001b[0mset_vector\u001b[0m\u001b[1;33m(\u001b[0m\u001b[0mr\u001b[0m\u001b[1;33m=\u001b[0m\u001b[0mr\u001b[0m\u001b[1;33m,\u001b[0m \u001b[0mtheta\u001b[0m\u001b[1;33m=\u001b[0m\u001b[0mtheta\u001b[0m\u001b[1;33m,\u001b[0m \u001b[0mphi\u001b[0m\u001b[1;33m=\u001b[0m\u001b[0mphi\u001b[0m\u001b[1;33m)\u001b[0m\u001b[1;33m\u001b[0m\u001b[0m\n\u001b[1;32m--> 789\u001b[1;33m         \u001b[0mself\u001b[0m\u001b[1;33m.\u001b[0m\u001b[0m_set_fields\u001b[0m\u001b[1;33m(\u001b[0m\u001b[0mself\u001b[0m\u001b[1;33m.\u001b[0m\u001b[0m_set_point\u001b[0m\u001b[1;33m.\u001b[0m\u001b[0mget_components\u001b[0m\u001b[1;33m(\u001b[0m\u001b[1;34m\"x\"\u001b[0m\u001b[1;33m,\u001b[0m \u001b[1;34m\"y\"\u001b[0m\u001b[1;33m,\u001b[0m \u001b[1;34m\"z\"\u001b[0m\u001b[1;33m)\u001b[0m\u001b[1;33m)\u001b[0m\u001b[1;33m\u001b[0m\u001b[0m\n\u001b[0m\u001b[0;32m    790\u001b[0m \u001b[1;33m\u001b[0m\u001b[0m\n\u001b[0;32m    791\u001b[0m     \u001b[1;32mdef\u001b[0m \u001b[0m_set_r\u001b[0m\u001b[1;33m(\u001b[0m\u001b[0mself\u001b[0m\u001b[1;33m,\u001b[0m \u001b[0mr\u001b[0m\u001b[1;33m)\u001b[0m\u001b[1;33m:\u001b[0m\u001b[1;33m\u001b[0m\u001b[0m\n",
      "\u001b[1;32md:\\onedrive\\bf1\\code\\qcodes\\qcodes\\instrument_drivers\\american_magnetics\\AMI430.py\u001b[0m in \u001b[0;36m_set_fields\u001b[1;34m(self, values)\u001b[0m\n\u001b[0;32m    713\u001b[0m                     \u001b[1;32mcontinue\u001b[0m\u001b[1;33m\u001b[0m\u001b[0m\n\u001b[0;32m    714\u001b[0m \u001b[1;33m\u001b[0m\u001b[0m\n\u001b[1;32m--> 715\u001b[1;33m                 \u001b[0minstrument\u001b[0m\u001b[1;33m.\u001b[0m\u001b[0mset_field\u001b[0m\u001b[1;33m(\u001b[0m\u001b[0mvalue\u001b[0m\u001b[1;33m,\u001b[0m \u001b[0mperform_safety_check\u001b[0m\u001b[1;33m=\u001b[0m\u001b[1;32mFalse\u001b[0m\u001b[1;33m)\u001b[0m\u001b[1;33m\u001b[0m\u001b[0m\n\u001b[0m\u001b[0;32m    716\u001b[0m \u001b[1;33m\u001b[0m\u001b[0m\n\u001b[0;32m    717\u001b[0m     \u001b[1;32mdef\u001b[0m \u001b[0m_request_field_change\u001b[0m\u001b[1;33m(\u001b[0m\u001b[0mself\u001b[0m\u001b[1;33m,\u001b[0m \u001b[0minstrument\u001b[0m\u001b[1;33m,\u001b[0m \u001b[0mvalue\u001b[0m\u001b[1;33m)\u001b[0m\u001b[1;33m:\u001b[0m\u001b[1;33m\u001b[0m\u001b[0m\n",
      "\u001b[1;32md:\\onedrive\\bf1\\code\\qcodes\\qcodes\\instrument_drivers\\american_magnetics\\AMI430.py\u001b[0m in \u001b[0;36mset_field\u001b[1;34m(self, value, block, perform_safety_check)\u001b[0m\n\u001b[0;32m    332\u001b[0m         \u001b[1;31m# Otherwise, wait until no longer ramping\u001b[0m\u001b[1;33m\u001b[0m\u001b[1;33m\u001b[0m\u001b[0m\n\u001b[0;32m    333\u001b[0m         \u001b[1;32mwhile\u001b[0m \u001b[0mself\u001b[0m\u001b[1;33m.\u001b[0m\u001b[0mramping_state\u001b[0m\u001b[1;33m(\u001b[0m\u001b[1;33m)\u001b[0m \u001b[1;33m==\u001b[0m \u001b[1;34m'ramping'\u001b[0m\u001b[1;33m:\u001b[0m\u001b[1;33m\u001b[0m\u001b[0m\n\u001b[1;32m--> 334\u001b[1;33m             \u001b[0mself\u001b[0m\u001b[1;33m.\u001b[0m\u001b[0m_sleep\u001b[0m\u001b[1;33m(\u001b[0m\u001b[1;36m0.3\u001b[0m\u001b[1;33m)\u001b[0m\u001b[1;33m\u001b[0m\u001b[0m\n\u001b[0m\u001b[0;32m    335\u001b[0m         \u001b[0mself\u001b[0m\u001b[1;33m.\u001b[0m\u001b[0m_sleep\u001b[0m\u001b[1;33m(\u001b[0m\u001b[1;36m2.0\u001b[0m\u001b[1;33m)\u001b[0m\u001b[1;33m\u001b[0m\u001b[0m\n\u001b[0;32m    336\u001b[0m         \u001b[0mstate\u001b[0m \u001b[1;33m=\u001b[0m \u001b[0mself\u001b[0m\u001b[1;33m.\u001b[0m\u001b[0mramping_state\u001b[0m\u001b[1;33m(\u001b[0m\u001b[1;33m)\u001b[0m\u001b[1;33m\u001b[0m\u001b[0m\n",
      "\u001b[1;32md:\\onedrive\\bf1\\code\\qcodes\\qcodes\\instrument_drivers\\american_magnetics\\AMI430.py\u001b[0m in \u001b[0;36m_sleep\u001b[1;34m(self, t)\u001b[0m\n\u001b[0;32m    263\u001b[0m             \u001b[1;32mreturn\u001b[0m\u001b[1;33m\u001b[0m\u001b[0m\n\u001b[0;32m    264\u001b[0m         \u001b[1;32melse\u001b[0m\u001b[1;33m:\u001b[0m\u001b[1;33m\u001b[0m\u001b[0m\n\u001b[1;32m--> 265\u001b[1;33m             \u001b[0mtime\u001b[0m\u001b[1;33m.\u001b[0m\u001b[0msleep\u001b[0m\u001b[1;33m(\u001b[0m\u001b[0mt\u001b[0m\u001b[1;33m)\u001b[0m\u001b[1;33m\u001b[0m\u001b[0m\n\u001b[0m\u001b[0;32m    266\u001b[0m \u001b[1;33m\u001b[0m\u001b[0m\n\u001b[0;32m    267\u001b[0m     \u001b[1;32mdef\u001b[0m \u001b[0m_can_start_ramping\u001b[0m\u001b[1;33m(\u001b[0m\u001b[0mself\u001b[0m\u001b[1;33m)\u001b[0m\u001b[1;33m:\u001b[0m\u001b[1;33m\u001b[0m\u001b[0m\n",
      "\u001b[1;31mKeyboardInterrupt\u001b[0m: "
     ]
    }
   ],
   "source": [
    "ami.spherical([0,41,90])"
   ]
  },
  {
   "cell_type": "code",
   "execution_count": 220,
   "metadata": {},
   "outputs": [
    {
     "name": "stdout",
     "output_type": "stream",
     "text": [
      "Starting experimental run with id: 358\n"
     ]
    },
    {
     "ename": "KeyboardInterrupt",
     "evalue": "",
     "output_type": "error",
     "traceback": [
      "\u001b[1;31m---------------------------------------------------------------------------\u001b[0m",
      "\u001b[1;31mKeyboardInterrupt\u001b[0m                         Traceback (most recent call last)",
      "\u001b[1;32m<ipython-input-220-1cf5346f94cc>\u001b[0m in \u001b[0;36m<module>\u001b[1;34m()\u001b[0m\n\u001b[0;32m     27\u001b[0m                                  \u001b[1;33m(\u001b[0m\u001b[0mivvi_setup\u001b[0m\u001b[1;33m.\u001b[0m\u001b[0mdac4\u001b[0m\u001b[1;33m,\u001b[0m \u001b[0ms2\u001b[0m\u001b[1;33m)\u001b[0m\u001b[1;33m,\u001b[0m\u001b[1;33m\u001b[0m\u001b[0m\n\u001b[0;32m     28\u001b[0m                                  \u001b[1;33m(\u001b[0m\u001b[0mivvi_setup\u001b[0m\u001b[1;33m.\u001b[0m\u001b[0mv1_measurement\u001b[0m\u001b[1;33m,\u001b[0m \u001b[0mivvi_setup\u001b[0m\u001b[1;33m.\u001b[0m\u001b[0mv1_measurement\u001b[0m\u001b[1;33m(\u001b[0m\u001b[1;33m)\u001b[0m\u001b[1;33m)\u001b[0m\u001b[1;33m,\u001b[0m\u001b[1;33m\u001b[0m\u001b[0m\n\u001b[1;32m---> 29\u001b[1;33m                                  (ivvi_setup.v2_measurement, ivvi_setup.v2_measurement()))\n\u001b[0m\u001b[0;32m     30\u001b[0m \u001b[1;31m#                                  (ivvi_setup.r_ac1_measurement, ivvi_setup.r_ac1_measurement()),\u001b[0m\u001b[1;33m\u001b[0m\u001b[1;33m\u001b[0m\u001b[0m\n\u001b[0;32m     31\u001b[0m \u001b[1;31m#                                  (ivvi_setup.r_ac2_measurement, ivvi_setup.r_ac2_measurement()))\u001b[0m\u001b[1;33m\u001b[0m\u001b[1;33m\u001b[0m\u001b[0m\n",
      "\u001b[1;32md:\\onedrive\\bf1\\code\\qcodes\\qcodes\\instrument\\parameter.py\u001b[0m in \u001b[0;36m__call__\u001b[1;34m(self, *args, **kwargs)\u001b[0m\n\u001b[0;32m    244\u001b[0m         \u001b[1;32mif\u001b[0m \u001b[0mlen\u001b[0m\u001b[1;33m(\u001b[0m\u001b[0margs\u001b[0m\u001b[1;33m)\u001b[0m \u001b[1;33m==\u001b[0m \u001b[1;36m0\u001b[0m\u001b[1;33m:\u001b[0m\u001b[1;33m\u001b[0m\u001b[0m\n\u001b[0;32m    245\u001b[0m             \u001b[1;32mif\u001b[0m \u001b[0mhasattr\u001b[0m\u001b[1;33m(\u001b[0m\u001b[0mself\u001b[0m\u001b[1;33m,\u001b[0m \u001b[1;34m'get'\u001b[0m\u001b[1;33m)\u001b[0m\u001b[1;33m:\u001b[0m\u001b[1;33m\u001b[0m\u001b[0m\n\u001b[1;32m--> 246\u001b[1;33m                 \u001b[1;32mreturn\u001b[0m \u001b[0mself\u001b[0m\u001b[1;33m.\u001b[0m\u001b[0mget\u001b[0m\u001b[1;33m(\u001b[0m\u001b[1;33m)\u001b[0m\u001b[1;33m\u001b[0m\u001b[0m\n\u001b[0m\u001b[0;32m    247\u001b[0m             \u001b[1;32melse\u001b[0m\u001b[1;33m:\u001b[0m\u001b[1;33m\u001b[0m\u001b[0m\n\u001b[0;32m    248\u001b[0m                 raise NotImplementedError('no get cmd found in' +\n",
      "\u001b[1;32md:\\onedrive\\bf1\\code\\qcodes\\qcodes\\instrument\\parameter.py\u001b[0m in \u001b[0;36mget_wrapper\u001b[1;34m(*args, **kwargs)\u001b[0m\n\u001b[0;32m    322\u001b[0m             \u001b[1;32mtry\u001b[0m\u001b[1;33m:\u001b[0m\u001b[1;33m\u001b[0m\u001b[0m\n\u001b[0;32m    323\u001b[0m                 \u001b[1;31m# There might be cases where a .get also has args/kwargs\u001b[0m\u001b[1;33m\u001b[0m\u001b[1;33m\u001b[0m\u001b[0m\n\u001b[1;32m--> 324\u001b[1;33m                 \u001b[0mvalue\u001b[0m \u001b[1;33m=\u001b[0m \u001b[0mget_function\u001b[0m\u001b[1;33m(\u001b[0m\u001b[1;33m*\u001b[0m\u001b[0margs\u001b[0m\u001b[1;33m,\u001b[0m \u001b[1;33m**\u001b[0m\u001b[0mkwargs\u001b[0m\u001b[1;33m)\u001b[0m\u001b[1;33m\u001b[0m\u001b[0m\n\u001b[0m\u001b[0;32m    325\u001b[0m                 \u001b[0mself\u001b[0m\u001b[1;33m.\u001b[0m\u001b[0mraw_value\u001b[0m \u001b[1;33m=\u001b[0m \u001b[0mvalue\u001b[0m\u001b[1;33m\u001b[0m\u001b[0m\n\u001b[0;32m    326\u001b[0m \u001b[1;33m\u001b[0m\u001b[0m\n",
      "\u001b[1;32m<ipython-input-110-a2d2293c791a>\u001b[0m in \u001b[0;36mget_raw\u001b[1;34m(self)\u001b[0m\n\u001b[0;32m      8\u001b[0m \u001b[1;33m\u001b[0m\u001b[0m\n\u001b[0;32m      9\u001b[0m     \u001b[1;32mdef\u001b[0m \u001b[0mget_raw\u001b[0m\u001b[1;33m(\u001b[0m\u001b[0mself\u001b[0m\u001b[1;33m)\u001b[0m\u001b[1;33m:\u001b[0m\u001b[1;33m\u001b[0m\u001b[0m\n\u001b[1;32m---> 10\u001b[1;33m         \u001b[1;32mreturn\u001b[0m \u001b[0mself\u001b[0m\u001b[1;33m.\u001b[0m\u001b[0mget_conv\u001b[0m\u001b[1;33m(\u001b[0m\u001b[0mself\u001b[0m\u001b[1;33m.\u001b[0m\u001b[0msrc_param\u001b[0m\u001b[1;33m(\u001b[0m\u001b[1;33m)\u001b[0m\u001b[1;33m)\u001b[0m\u001b[1;33m\u001b[0m\u001b[0m\n\u001b[0m\u001b[0;32m     11\u001b[0m \u001b[1;33m\u001b[0m\u001b[0m\n\u001b[0;32m     12\u001b[0m     \u001b[1;32mdef\u001b[0m \u001b[0mset_raw\u001b[0m\u001b[1;33m(\u001b[0m\u001b[0mself\u001b[0m\u001b[1;33m,\u001b[0m \u001b[0mvalue\u001b[0m\u001b[1;33m)\u001b[0m\u001b[1;33m:\u001b[0m\u001b[1;33m\u001b[0m\u001b[0m\n",
      "\u001b[1;32md:\\onedrive\\bf1\\code\\qcodes\\qcodes\\instrument\\parameter.py\u001b[0m in \u001b[0;36m__call__\u001b[1;34m(self, *args, **kwargs)\u001b[0m\n\u001b[0;32m    244\u001b[0m         \u001b[1;32mif\u001b[0m \u001b[0mlen\u001b[0m\u001b[1;33m(\u001b[0m\u001b[0margs\u001b[0m\u001b[1;33m)\u001b[0m \u001b[1;33m==\u001b[0m \u001b[1;36m0\u001b[0m\u001b[1;33m:\u001b[0m\u001b[1;33m\u001b[0m\u001b[0m\n\u001b[0;32m    245\u001b[0m             \u001b[1;32mif\u001b[0m \u001b[0mhasattr\u001b[0m\u001b[1;33m(\u001b[0m\u001b[0mself\u001b[0m\u001b[1;33m,\u001b[0m \u001b[1;34m'get'\u001b[0m\u001b[1;33m)\u001b[0m\u001b[1;33m:\u001b[0m\u001b[1;33m\u001b[0m\u001b[0m\n\u001b[1;32m--> 246\u001b[1;33m                 \u001b[1;32mreturn\u001b[0m \u001b[0mself\u001b[0m\u001b[1;33m.\u001b[0m\u001b[0mget\u001b[0m\u001b[1;33m(\u001b[0m\u001b[1;33m)\u001b[0m\u001b[1;33m\u001b[0m\u001b[0m\n\u001b[0m\u001b[0;32m    247\u001b[0m             \u001b[1;32melse\u001b[0m\u001b[1;33m:\u001b[0m\u001b[1;33m\u001b[0m\u001b[0m\n\u001b[0;32m    248\u001b[0m                 raise NotImplementedError('no get cmd found in' +\n",
      "\u001b[1;32md:\\onedrive\\bf1\\code\\qcodes\\qcodes\\instrument\\parameter.py\u001b[0m in \u001b[0;36mget_wrapper\u001b[1;34m(*args, **kwargs)\u001b[0m\n\u001b[0;32m    322\u001b[0m             \u001b[1;32mtry\u001b[0m\u001b[1;33m:\u001b[0m\u001b[1;33m\u001b[0m\u001b[0m\n\u001b[0;32m    323\u001b[0m                 \u001b[1;31m# There might be cases where a .get also has args/kwargs\u001b[0m\u001b[1;33m\u001b[0m\u001b[1;33m\u001b[0m\u001b[0m\n\u001b[1;32m--> 324\u001b[1;33m                 \u001b[0mvalue\u001b[0m \u001b[1;33m=\u001b[0m \u001b[0mget_function\u001b[0m\u001b[1;33m(\u001b[0m\u001b[1;33m*\u001b[0m\u001b[0margs\u001b[0m\u001b[1;33m,\u001b[0m \u001b[1;33m**\u001b[0m\u001b[0mkwargs\u001b[0m\u001b[1;33m)\u001b[0m\u001b[1;33m\u001b[0m\u001b[0m\n\u001b[0m\u001b[0;32m    325\u001b[0m                 \u001b[0mself\u001b[0m\u001b[1;33m.\u001b[0m\u001b[0mraw_value\u001b[0m \u001b[1;33m=\u001b[0m \u001b[0mvalue\u001b[0m\u001b[1;33m\u001b[0m\u001b[0m\n\u001b[0;32m    326\u001b[0m \u001b[1;33m\u001b[0m\u001b[0m\n",
      "\u001b[1;32md:\\onedrive\\bf1\\code\\qcodes\\qcodes\\utils\\command.py\u001b[0m in \u001b[0;36m__call__\u001b[1;34m(self, *args)\u001b[0m\n\u001b[0;32m    175\u001b[0m             raise TypeError(\n\u001b[0;32m    176\u001b[0m                 'command takes exactly {} args'.format(self.arg_count))\n\u001b[1;32m--> 177\u001b[1;33m         \u001b[1;32mreturn\u001b[0m \u001b[0mself\u001b[0m\u001b[1;33m.\u001b[0m\u001b[0mexec_function\u001b[0m\u001b[1;33m(\u001b[0m\u001b[1;33m*\u001b[0m\u001b[0margs\u001b[0m\u001b[1;33m)\u001b[0m\u001b[1;33m\u001b[0m\u001b[0m\n\u001b[0m",
      "\u001b[1;32md:\\onedrive\\bf1\\code\\qcodes\\qcodes\\instrument_drivers\\Keysight\\Keysight_34465A.py\u001b[0m in \u001b[0;36m_get_voltage\u001b[1;34m(self)\u001b[0m\n\u001b[0;32m    370\u001b[0m         \u001b[1;31m# should be aware of the configuration.\u001b[0m\u001b[1;33m\u001b[0m\u001b[1;33m\u001b[0m\u001b[0m\n\u001b[0;32m    371\u001b[0m \u001b[1;33m\u001b[0m\u001b[0m\n\u001b[1;32m--> 372\u001b[1;33m         \u001b[0mresponse\u001b[0m \u001b[1;33m=\u001b[0m \u001b[0mself\u001b[0m\u001b[1;33m.\u001b[0m\u001b[0mask\u001b[0m\u001b[1;33m(\u001b[0m\u001b[1;34m'READ?'\u001b[0m\u001b[1;33m)\u001b[0m\u001b[1;33m\u001b[0m\u001b[0m\n\u001b[0m\u001b[0;32m    373\u001b[0m \u001b[1;33m\u001b[0m\u001b[0m\n\u001b[0;32m    374\u001b[0m         \u001b[1;32mreturn\u001b[0m \u001b[0mfloat\u001b[0m\u001b[1;33m(\u001b[0m\u001b[0mresponse\u001b[0m\u001b[1;33m)\u001b[0m\u001b[1;33m\u001b[0m\u001b[0m\n",
      "\u001b[1;32md:\\onedrive\\bf1\\code\\qcodes\\qcodes\\instrument\\base.py\u001b[0m in \u001b[0;36mask\u001b[1;34m(self, cmd)\u001b[0m\n\u001b[0;32m    654\u001b[0m         \"\"\"\n\u001b[0;32m    655\u001b[0m         \u001b[1;32mtry\u001b[0m\u001b[1;33m:\u001b[0m\u001b[1;33m\u001b[0m\u001b[0m\n\u001b[1;32m--> 656\u001b[1;33m             \u001b[0manswer\u001b[0m \u001b[1;33m=\u001b[0m \u001b[0mself\u001b[0m\u001b[1;33m.\u001b[0m\u001b[0mask_raw\u001b[0m\u001b[1;33m(\u001b[0m\u001b[0mcmd\u001b[0m\u001b[1;33m)\u001b[0m\u001b[1;33m\u001b[0m\u001b[0m\n\u001b[0m\u001b[0;32m    657\u001b[0m \u001b[1;33m\u001b[0m\u001b[0m\n\u001b[0;32m    658\u001b[0m             \u001b[1;32mreturn\u001b[0m \u001b[0manswer\u001b[0m\u001b[1;33m\u001b[0m\u001b[0m\n",
      "\u001b[1;32md:\\onedrive\\bf1\\code\\qcodes\\qcodes\\instrument\\visa.py\u001b[0m in \u001b[0;36mask_raw\u001b[1;34m(self, cmd)\u001b[0m\n\u001b[0;32m    213\u001b[0m         \"\"\"\n\u001b[0;32m    214\u001b[0m         \u001b[0mlog\u001b[0m\u001b[1;33m.\u001b[0m\u001b[0mdebug\u001b[0m\u001b[1;33m(\u001b[0m\u001b[1;34m\"Querying instrument {}: {}\"\u001b[0m\u001b[1;33m.\u001b[0m\u001b[0mformat\u001b[0m\u001b[1;33m(\u001b[0m\u001b[0mself\u001b[0m\u001b[1;33m.\u001b[0m\u001b[0mname\u001b[0m\u001b[1;33m,\u001b[0m \u001b[0mcmd\u001b[0m\u001b[1;33m)\u001b[0m\u001b[1;33m)\u001b[0m\u001b[1;33m\u001b[0m\u001b[0m\n\u001b[1;32m--> 215\u001b[1;33m         \u001b[0mresponse\u001b[0m \u001b[1;33m=\u001b[0m \u001b[0mself\u001b[0m\u001b[1;33m.\u001b[0m\u001b[0mvisa_handle\u001b[0m\u001b[1;33m.\u001b[0m\u001b[0mquery\u001b[0m\u001b[1;33m(\u001b[0m\u001b[0mcmd\u001b[0m\u001b[1;33m)\u001b[0m\u001b[1;33m\u001b[0m\u001b[0m\n\u001b[0m\u001b[0;32m    216\u001b[0m         \u001b[0mlog\u001b[0m\u001b[1;33m.\u001b[0m\u001b[0mdebug\u001b[0m\u001b[1;33m(\u001b[0m\u001b[1;34mf\"Got instrument response: {response}\"\u001b[0m\u001b[1;33m)\u001b[0m\u001b[1;33m\u001b[0m\u001b[0m\n\u001b[0;32m    217\u001b[0m         \u001b[1;32mreturn\u001b[0m \u001b[0mresponse\u001b[0m\u001b[1;33m\u001b[0m\u001b[0m\n",
      "\u001b[1;32m~\\Anaconda3\\envs\\qcodes\\lib\\site-packages\\pyvisa\\resources\\messagebased.py\u001b[0m in \u001b[0;36mquery\u001b[1;34m(self, message, delay)\u001b[0m\n\u001b[0;32m    405\u001b[0m         \u001b[1;32mif\u001b[0m \u001b[0mdelay\u001b[0m \u001b[1;33m>\u001b[0m \u001b[1;36m0.0\u001b[0m\u001b[1;33m:\u001b[0m\u001b[1;33m\u001b[0m\u001b[0m\n\u001b[0;32m    406\u001b[0m             \u001b[0mtime\u001b[0m\u001b[1;33m.\u001b[0m\u001b[0msleep\u001b[0m\u001b[1;33m(\u001b[0m\u001b[0mdelay\u001b[0m\u001b[1;33m)\u001b[0m\u001b[1;33m\u001b[0m\u001b[0m\n\u001b[1;32m--> 407\u001b[1;33m         \u001b[1;32mreturn\u001b[0m \u001b[0mself\u001b[0m\u001b[1;33m.\u001b[0m\u001b[0mread\u001b[0m\u001b[1;33m(\u001b[0m\u001b[1;33m)\u001b[0m\u001b[1;33m\u001b[0m\u001b[0m\n\u001b[0m\u001b[0;32m    408\u001b[0m \u001b[1;33m\u001b[0m\u001b[0m\n\u001b[0;32m    409\u001b[0m     \u001b[1;31m# Kept for backwards compatibility.\u001b[0m\u001b[1;33m\u001b[0m\u001b[1;33m\u001b[0m\u001b[0m\n",
      "\u001b[1;32m~\\Anaconda3\\envs\\qcodes\\lib\\site-packages\\pyvisa\\resources\\messagebased.py\u001b[0m in \u001b[0;36mread\u001b[1;34m(self, termination, encoding)\u001b[0m\n\u001b[0;32m    330\u001b[0m         \u001b[1;32mif\u001b[0m \u001b[0mtermination\u001b[0m \u001b[1;32mis\u001b[0m \u001b[1;32mNone\u001b[0m\u001b[1;33m:\u001b[0m\u001b[1;33m\u001b[0m\u001b[0m\n\u001b[0;32m    331\u001b[0m             \u001b[0mtermination\u001b[0m \u001b[1;33m=\u001b[0m \u001b[0mself\u001b[0m\u001b[1;33m.\u001b[0m\u001b[0m_read_termination\u001b[0m\u001b[1;33m\u001b[0m\u001b[0m\n\u001b[1;32m--> 332\u001b[1;33m             \u001b[0mmessage\u001b[0m \u001b[1;33m=\u001b[0m \u001b[0mself\u001b[0m\u001b[1;33m.\u001b[0m\u001b[0mread_raw\u001b[0m\u001b[1;33m(\u001b[0m\u001b[1;33m)\u001b[0m\u001b[1;33m.\u001b[0m\u001b[0mdecode\u001b[0m\u001b[1;33m(\u001b[0m\u001b[0menco\u001b[0m\u001b[1;33m)\u001b[0m\u001b[1;33m\u001b[0m\u001b[0m\n\u001b[0m\u001b[0;32m    333\u001b[0m         \u001b[1;32melse\u001b[0m\u001b[1;33m:\u001b[0m\u001b[1;33m\u001b[0m\u001b[0m\n\u001b[0;32m    334\u001b[0m             \u001b[1;32mwith\u001b[0m \u001b[0mself\u001b[0m\u001b[1;33m.\u001b[0m\u001b[0mread_termination_context\u001b[0m\u001b[1;33m(\u001b[0m\u001b[0mtermination\u001b[0m\u001b[1;33m)\u001b[0m\u001b[1;33m:\u001b[0m\u001b[1;33m\u001b[0m\u001b[0m\n",
      "\u001b[1;32m~\\Anaconda3\\envs\\qcodes\\lib\\site-packages\\pyvisa\\resources\\messagebased.py\u001b[0m in \u001b[0;36mread_raw\u001b[1;34m(self, size)\u001b[0m\n\u001b[0;32m    304\u001b[0m                     logger.debug('%s - reading %d bytes (last status %r)',\n\u001b[0;32m    305\u001b[0m                                  self._resource_name, size, status)\n\u001b[1;32m--> 306\u001b[1;33m                     \u001b[0mchunk\u001b[0m\u001b[1;33m,\u001b[0m \u001b[0mstatus\u001b[0m \u001b[1;33m=\u001b[0m \u001b[0mself\u001b[0m\u001b[1;33m.\u001b[0m\u001b[0mvisalib\u001b[0m\u001b[1;33m.\u001b[0m\u001b[0mread\u001b[0m\u001b[1;33m(\u001b[0m\u001b[0mself\u001b[0m\u001b[1;33m.\u001b[0m\u001b[0msession\u001b[0m\u001b[1;33m,\u001b[0m \u001b[0msize\u001b[0m\u001b[1;33m)\u001b[0m\u001b[1;33m\u001b[0m\u001b[0m\n\u001b[0m\u001b[0;32m    307\u001b[0m                     \u001b[0mret\u001b[0m \u001b[1;33m+=\u001b[0m \u001b[0mchunk\u001b[0m\u001b[1;33m\u001b[0m\u001b[0m\n\u001b[0;32m    308\u001b[0m             \u001b[1;32mexcept\u001b[0m \u001b[0merrors\u001b[0m\u001b[1;33m.\u001b[0m\u001b[0mVisaIOError\u001b[0m \u001b[1;32mas\u001b[0m \u001b[0me\u001b[0m\u001b[1;33m:\u001b[0m\u001b[1;33m\u001b[0m\u001b[0m\n",
      "\u001b[1;32m~\\Anaconda3\\envs\\qcodes\\lib\\site-packages\\pyvisa\\ctwrapper\\functions.py\u001b[0m in \u001b[0;36mread\u001b[1;34m(library, session, count)\u001b[0m\n\u001b[0;32m   1580\u001b[0m     \u001b[0mbuffer\u001b[0m \u001b[1;33m=\u001b[0m \u001b[0mcreate_string_buffer\u001b[0m\u001b[1;33m(\u001b[0m\u001b[0mcount\u001b[0m\u001b[1;33m)\u001b[0m\u001b[1;33m\u001b[0m\u001b[0m\n\u001b[0;32m   1581\u001b[0m     \u001b[0mreturn_count\u001b[0m \u001b[1;33m=\u001b[0m \u001b[0mViUInt32\u001b[0m\u001b[1;33m(\u001b[0m\u001b[1;33m)\u001b[0m\u001b[1;33m\u001b[0m\u001b[0m\n\u001b[1;32m-> 1582\u001b[1;33m     \u001b[0mret\u001b[0m \u001b[1;33m=\u001b[0m \u001b[0mlibrary\u001b[0m\u001b[1;33m.\u001b[0m\u001b[0mviRead\u001b[0m\u001b[1;33m(\u001b[0m\u001b[0msession\u001b[0m\u001b[1;33m,\u001b[0m \u001b[0mbuffer\u001b[0m\u001b[1;33m,\u001b[0m \u001b[0mcount\u001b[0m\u001b[1;33m,\u001b[0m \u001b[0mbyref\u001b[0m\u001b[1;33m(\u001b[0m\u001b[0mreturn_count\u001b[0m\u001b[1;33m)\u001b[0m\u001b[1;33m)\u001b[0m\u001b[1;33m\u001b[0m\u001b[0m\n\u001b[0m\u001b[0;32m   1583\u001b[0m     \u001b[1;32mreturn\u001b[0m \u001b[0mbuffer\u001b[0m\u001b[1;33m.\u001b[0m\u001b[0mraw\u001b[0m\u001b[1;33m[\u001b[0m\u001b[1;33m:\u001b[0m\u001b[0mreturn_count\u001b[0m\u001b[1;33m.\u001b[0m\u001b[0mvalue\u001b[0m\u001b[1;33m]\u001b[0m\u001b[1;33m,\u001b[0m \u001b[0mret\u001b[0m\u001b[1;33m\u001b[0m\u001b[0m\n\u001b[0;32m   1584\u001b[0m \u001b[1;33m\u001b[0m\u001b[0m\n",
      "\u001b[1;32m~\\Anaconda3\\envs\\qcodes\\lib\\site-packages\\pyvisa\\ctwrapper\\highlevel.py\u001b[0m in \u001b[0;36m_return_handler\u001b[1;34m(self, ret_value, func, arguments)\u001b[0m\n\u001b[0;32m    147\u001b[0m             \u001b[0msetattr\u001b[0m\u001b[1;33m(\u001b[0m\u001b[0mself\u001b[0m\u001b[1;33m,\u001b[0m \u001b[0mmethod_name\u001b[0m\u001b[1;33m,\u001b[0m \u001b[0mgetattr\u001b[0m\u001b[1;33m(\u001b[0m\u001b[0mself\u001b[0m\u001b[1;33m.\u001b[0m\u001b[0mlib\u001b[0m\u001b[1;33m,\u001b[0m \u001b[0mmethod_name\u001b[0m\u001b[1;33m)\u001b[0m\u001b[1;33m)\u001b[0m\u001b[1;33m\u001b[0m\u001b[0m\n\u001b[0;32m    148\u001b[0m \u001b[1;33m\u001b[0m\u001b[0m\n\u001b[1;32m--> 149\u001b[1;33m     \u001b[1;32mdef\u001b[0m \u001b[0m_return_handler\u001b[0m\u001b[1;33m(\u001b[0m\u001b[0mself\u001b[0m\u001b[1;33m,\u001b[0m \u001b[0mret_value\u001b[0m\u001b[1;33m,\u001b[0m \u001b[0mfunc\u001b[0m\u001b[1;33m,\u001b[0m \u001b[0marguments\u001b[0m\u001b[1;33m)\u001b[0m\u001b[1;33m:\u001b[0m\u001b[1;33m\u001b[0m\u001b[0m\n\u001b[0m\u001b[0;32m    150\u001b[0m         \"\"\"Check return values for errors and warnings.\n\u001b[0;32m    151\u001b[0m         \"\"\"\n",
      "\u001b[1;31mKeyboardInterrupt\u001b[0m: "
     ]
    }
   ],
   "source": [
    "exp = select_experiment('V0_0112A', 'DEV_31_34')\n",
    "\n",
    "meas = Measurement(exp=exp)\n",
    "meas.write_period = 1\n",
    "meas.register_parameter(ivvi_setup.dac4)\n",
    "meas.register_parameter(ami.theta)\n",
    "meas.register_parameter(ivvi_setup.v1_measurement, setpoints=[ivvi_setup.dac4, ami.theta])\n",
    "meas.register_parameter(ivvi_setup.v2_measurement, setpoints=[ivvi_setup.dac4, ami.theta])\n",
    "# meas.register_parameter(ivvi_setup.r_ac1_measurement, setpoints=[ivvi_setup.dac4, ami.theta])\n",
    "# meas.register_parameter(ivvi_setup.r_ac2_measurement, setpoints=[ivvi_setup.dac4, ami.theta])\n",
    "\n",
    "lockin1.amplitude(0.1)\n",
    "\n",
    "\n",
    "\n",
    "theta_vals = np.linspace(0, 180, 60)\n",
    "bias_values = np.linspace(-50e-9, 50e-9, 101)\n",
    "with meas.run() as datasaver:\n",
    "    datasaver.dataset.subscribe(QcodesDatasetSubscriber(datasaver.dataset), state=[], \n",
    "                                min_wait=0, min_count=1)\n",
    "    \n",
    "    for s1 in theta_vals:\n",
    "        ami.theta(s1)\n",
    "        for s2 in bias_values:\n",
    "            ivvi_setup.dac4(s2)\n",
    "            datasaver.add_result((ami.theta, s1),\n",
    "                                 (ivvi_setup.dac4, s2), \n",
    "                                 (ivvi_setup.v1_measurement, ivvi_setup.v1_measurement()),\n",
    "                                 (ivvi_setup.v2_measurement, ivvi_setup.v2_measurement()))\n",
    "#                                  (ivvi_setup.r_ac1_measurement, ivvi_setup.r_ac1_measurement()),\n",
    "#                                  (ivvi_setup.r_ac2_measurement, ivvi_setup.r_ac2_measurement()))"
   ]
  },
  {
   "cell_type": "markdown",
   "metadata": {},
   "source": [
    "## I bias vs field magnitude"
   ]
  },
  {
   "cell_type": "code",
   "execution_count": 231,
   "metadata": {},
   "outputs": [],
   "source": [
    "ami_x.pause()\n",
    "ami_y.pause()\n",
    "ami_z.pause()\n",
    "ami.spherical([0,41,90])\n",
    "ivvi.set_dacs_zero()"
   ]
  },
  {
   "cell_type": "code",
   "execution_count": 230,
   "metadata": {},
   "outputs": [
    {
     "name": "stdout",
     "output_type": "stream",
     "text": [
      "Starting experimental run with id: 361\n"
     ]
    }
   ],
   "source": [
    "exp = select_experiment('V0_0112A', 'DEV_31_34')\n",
    "\n",
    "meas = Measurement(exp=exp)\n",
    "meas.write_period = 1\n",
    "meas.register_parameter(ivvi_setup.dac4)\n",
    "meas.register_parameter(ami.field)\n",
    "meas.register_parameter(ivvi_setup.v1_measurement, setpoints=[ivvi_setup.dac4, ami.field])\n",
    "meas.register_parameter(ivvi_setup.v2_measurement, setpoints=[ivvi_setup.dac4, ami.field])\n",
    "#meas.register_parameter(ivvi_setup.r_ac1_measurement, setpoints=[ivvi_setup.dac4, ami.field])\n",
    "#meas.register_parameter(ivvi_setup.r_ac2_measurement, setpoints=[ivvi_setup.dac4, ami.field])\n",
    "\n",
    "lockin1.amplitude(0.1)\n",
    "\n",
    "Br_vals_fw = np.linspace(0, 1, 41)\n",
    "Br_vals_bw = np.linspace(0, 1, 41)\n",
    "bias_values = np.linspace(-.5e-7, .5e-7, 101)\n",
    "bg_vals = [10]\n",
    "\n",
    "for s0 in bg_vals: \n",
    "    if s0%2 == 0: \n",
    "        with meas.run() as datasaver:\n",
    "            datasaver.dataset.subscribe(QcodesDatasetSubscriber(datasaver.dataset), state=[], \n",
    "                                        min_wait=0, min_count=1)\n",
    "\n",
    "            for s1 in Br_vals_fw:\n",
    "                ami.field(s1)\n",
    "                for s2 in bias_values:\n",
    "                    ivvi_setup.dac4(s2)\n",
    "                    datasaver.add_result((ami.field, s1),\n",
    "                                         (ivvi_setup.dac4, s2), \n",
    "                                         (ivvi_setup.v1_measurement, ivvi_setup.v1_measurement()),\n",
    "                                         (ivvi_setup.v2_measurement, ivvi_setup.v2_measurement()))#,\n",
    "                                         #(ivvi_setup.r_ac1_measurement, ivvi_setup.r_ac1_measurement()),\n",
    "                                         #(ivvi_setup.r_ac2_measurement, ivvi_setup.r_ac2_measurement()))\n",
    "    if s0%2 == 1:\n",
    "        with meas.run() as datasaver:\n",
    "            datasaver.dataset.subscribe(QcodesDatasetSubscriber(datasaver.dataset), state=[], \n",
    "                                        min_wait=0, min_count=1)\n",
    "\n",
    "            for s1 in Br_vals_bw:\n",
    "                ami.field(s1)\n",
    "                for s2 in bias_values:\n",
    "                    ivvi_setup.dac4(s2)\n",
    "                    datasaver.add_result((ami.field, s1),\n",
    "                                         (ivvi_setup.dac4, s2), \n",
    "                                         (ivvi_setup.v1_measurement, ivvi_setup.v1_measurement()),\n",
    "                                         (ivvi_setup.v2_measurement, ivvi_setup.v2_measurement()))#,\n",
    "                                         #(ivvi_setup.r_ac1_measurement, ivvi_setup.r_ac1_measurement()),\n",
    "                                         #(ivvi_setup.r_ac2_measurement, ivvi_setup.r_ac2_measurement()))"
   ]
  },
  {
   "cell_type": "code",
   "execution_count": null,
   "metadata": {},
   "outputs": [],
   "source": []
  },
  {
   "cell_type": "code",
   "execution_count": null,
   "metadata": {},
   "outputs": [],
   "source": []
  },
  {
   "cell_type": "code",
   "execution_count": null,
   "metadata": {},
   "outputs": [],
   "source": []
  },
  {
   "cell_type": "code",
   "execution_count": null,
   "metadata": {},
   "outputs": [],
   "source": []
  },
  {
   "cell_type": "code",
   "execution_count": null,
   "metadata": {},
   "outputs": [],
   "source": [
    "exp = select_experiment('V0_0112A', 'DEV_2_3_4')\n",
    "\n",
    "meas = Measurement(exp=exp)\n",
    "meas.write_period = 1\n",
    "meas.register_parameter(ivvi_setup.dac5)\n",
    "# meas.register_parameter(ivvi_setup.v_measurement, setpoints=[ivvi_setup.dac5, ])\n",
    "meas.register_parameter(ivvi_setup.i1_measurement, setpoints=[ivvi_setup.dac5, ])\n",
    "meas.register_parameter(ivvi_setup.i2_measurement, setpoints=[ivvi_setup.dac5, ])\n",
    "meas.register_parameter(ivvi_setup.i3_measurement, setpoints=[ivvi_setup.dac5, ])\n",
    "meas.register_parameter(ivvi_setup.ig_measurement, setpoints=[ivvi_setup.dac5, ])\n",
    "meas.register_parameter(ivvi_setup.g1_measurement, setpoints=[ivvi_setup.dac5, ])\n",
    "meas.register_parameter(ivvi_setup.g2_measurement, setpoints=[ivvi_setup.dac5, ])\n",
    "meas.register_parameter(ivvi_setup.g3_measurement, setpoints=[ivvi_setup.dac5, ])\n",
    "\n",
    "\n",
    "srcvals = np.linspace(-10e-3, 10e-3, 101)\n",
    "with meas.run() as datasaver:\n",
    "    datasaver.dataset.subscribe(QcodesDatasetSubscriber(datasaver.dataset), state=[], \n",
    "                                min_wait=0, min_count=1)\n",
    "    \n",
    "    for s in srcvals:\n",
    "        ivvi_setup.dac5(s)\n",
    "        datasaver.add_result((ivvi_setup.dac5, s), \n",
    "                             (ivvi_setup.i1_measurement, ivvi_setup.i1_measurement()),\n",
    "                             (ivvi_setup.i2_measurement, ivvi_setup.i2_measurement()),\n",
    "                             (ivvi_setup.i3_measurement, ivvi_setup.i3_measurement()),\n",
    "                             (ivvi_setup.ig_measurement, ivvi_setup.ig_measurement()),\n",
    "                             (ivvi_setup.g1_measurement, ivvi_setup.g1_measurement()),\n",
    "                             (ivvi_setup.g2_measurement, ivvi_setup.g2_measurement()),\n",
    "                             (ivvi_setup.g3_measurement, ivvi_setup.g3_measurement()))"
   ]
  },
  {
   "cell_type": "code",
   "execution_count": null,
   "metadata": {},
   "outputs": [],
   "source": [
    "ivvi_setup = create_inst(IVVISetup, 'ivvi_setup', ivvi=ivvi, force_new_instance=True)\n",
    "ivvi_setup.voltage_multiplier(100e-9)\n",
    "\n",
    "ivvi_setup.add_parameter('v_measurement', parameter_class=ConversionParameter, unit='V',\n",
    "                         src_param=key2.volt, get_conv=lambda x: x/200)\n",
    "ivvi_setup.add_parameter('i_measurement', parameter_class=ConversionParameter, unit='A',\n",
    "                         src_param=key1.volt, get_conv=lambda x: x / ivvi_setup.M1b_gain())"
   ]
  },
  {
   "cell_type": "code",
   "execution_count": null,
   "metadata": {},
   "outputs": [],
   "source": [
    "exp = select_experiment('DEV43 Isw test', 'V0_0112A')\n",
    "\n",
    "meas = Measurement(exp=exp)\n",
    "meas.write_period = 1\n",
    "meas.register_parameter(ivvi_setup.dac2)\n",
    "meas.register_parameter(ivvi_setup.v_measurement, setpoints=[ivvi_setup.dac2, ])\n",
    "meas.register_parameter(ivvi_setup.i_measurement, setpoints=[ivvi_setup.dac2, ])\n",
    "\n",
    "\n",
    "srcvals = np.linspace(-30e-9, 30e-9, 151)\n",
    "with meas.run() as datasaver:\n",
    "    datasaver.dataset.subscribe(QcodesDatasetSubscriber(datasaver.dataset), state=[], \n",
    "                                min_wait=0, min_count=1)\n",
    "    \n",
    "    for s in srcvals:\n",
    "        ivvi_setup.dac2(s)\n",
    "        datasaver.add_result((ivvi_setup.dac2, s), \n",
    "                             (ivvi_setup.v_measurement, ivvi_setup.v_measurement()),\n",
    "                             (ivvi_setup.i_measurement, ivvi_setup.i_measurement()))"
   ]
  },
  {
   "cell_type": "code",
   "execution_count": null,
   "metadata": {},
   "outputs": [],
   "source": [
    "ivvi.dac2(100)"
   ]
  },
  {
   "cell_type": "code",
   "execution_count": null,
   "metadata": {},
   "outputs": [],
   "source": [
    "key2.volt()"
   ]
  },
  {
   "cell_type": "code",
   "execution_count": 232,
   "metadata": {},
   "outputs": [],
   "source": [
    "ivvi.set_dacs_zero()"
   ]
  },
  {
   "cell_type": "code",
   "execution_count": null,
   "metadata": {},
   "outputs": [],
   "source": [
    "from qcodes.instrument_drivers.tektronix.Keithley_2600_channels import Keithley_2600"
   ]
  },
  {
   "cell_type": "code",
   "execution_count": null,
   "metadata": {},
   "outputs": [],
   "source": [
    "keithley = create_inst(Keithley_2600, \"keithley\", \"USB0::0x05E6::0x2614::4345885::INSTR\")"
   ]
  },
  {
   "cell_type": "code",
   "execution_count": null,
   "metadata": {},
   "outputs": [],
   "source": [
    "keithley.smua.res()"
   ]
  },
  {
   "cell_type": "code",
   "execution_count": null,
   "metadata": {},
   "outputs": [],
   "source": [
    "exp = select_experiment('V0_0112A', 'Cooldown')\n",
    "\n",
    "meas = Measurement(exp=exp)\n",
    "meas.write_period = 1\n",
    "meas.register_parameter(ivvi_setup.dac1)\n",
    "meas.register_parameter(ivvi_setup.v_measurement, setpoints=[ivvi_setup.dac1, ])\n",
    "meas.register_parameter(ivvi_setup.i_measurement, setpoints=[ivvi_setup.dac1, ])\n",
    "\n",
    "\n",
    "srcvals = np.linspace(0, 0, 3e5)\n",
    "with meas.run() as datasaver:\n",
    "    datasaver.dataset.subscribe(QcodesDatasetSubscriber(datasaver.dataset), state=[], \n",
    "                                min_wait=0, min_count=1)\n",
    "    i = 0 \n",
    "    for s in srcvals:\n",
    "        i += 1\n",
    "#         ivvi_setup.dac1(s)\n",
    "        time.sleep(1)\n",
    "        datasaver.add_result((ivvi_setup.dac1, i), \n",
    "                             (ivvi_setup.v_measurement, keithley.smua.res()),\n",
    "                             (ivvi_setup.i_measurement, ivvi_setup.i_measurement()))"
   ]
  },
  {
   "cell_type": "code",
   "execution_count": null,
   "metadata": {},
   "outputs": [],
   "source": [
    "Br = 2\n",
    "theta = 17\n",
    "phi = 90\n",
    "\n",
    "Bx = Br*np.sin(theta*np.pi/180)*np.cos(phi*np.pi/180)\n",
    "By = Br*np.sin(theta*np.pi/180)*np.sin(phi*np.pi/180)\n",
    "Bz = Br*np.cos(theta*np.pi/180)\n",
    "print('Bx = ' + str(Bx) + ' T')\n",
    "print('By = ' + str(By) + ' T')\n",
    "print('Bz = ' + str(Bz) + ' T')"
   ]
  },
  {
   "cell_type": "code",
   "execution_count": null,
   "metadata": {},
   "outputs": [],
   "source": []
  }
 ],
 "metadata": {
  "kernelspec": {
   "display_name": "Python 3",
   "language": "python",
   "name": "python3"
  },
  "language_info": {
   "codemirror_mode": {
    "name": "ipython",
    "version": 3
   },
   "file_extension": ".py",
   "mimetype": "text/x-python",
   "name": "python",
   "nbconvert_exporter": "python",
   "pygments_lexer": "ipython3",
   "version": "3.6.5"
  }
 },
 "nbformat": 4,
 "nbformat_minor": 2
}
