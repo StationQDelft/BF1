{
 "cells": [
  {
   "cell_type": "code",
   "execution_count": 1,
   "metadata": {
    "collapsed": true
   },
   "outputs": [],
   "source": [
    "import time\n",
    "import sys\n",
    "import os\n",
    "from collections import OrderedDict\n",
    "from importlib import reload\n",
    "\n",
    "import h5py\n",
    "import numpy as np\n",
    "from matplotlib import pyplot as plt\n",
    "\n",
    "%matplotlib notebook"
   ]
  },
  {
   "cell_type": "code",
   "execution_count": 2,
   "metadata": {
    "collapsed": true
   },
   "outputs": [],
   "source": [
    "import qcodes\n",
    "qc = qcodes"
   ]
  },
  {
   "cell_type": "markdown",
   "metadata": {
    "collapsed": true
   },
   "source": [
    "# Basic configuration"
   ]
  },
  {
   "cell_type": "code",
   "execution_count": 32,
   "metadata": {},
   "outputs": [
    {
     "name": "stderr",
     "output_type": "stream",
     "text": [
      "2017-12-30 20:18:52,190 : measurement : INFO : Logger set up!\n",
      "C:\\Users\\Administrator\\Code\\Qcodes\\qcodes\\instrument\\parameter.py:514: UserWarning: set_step is deprecated use step property as in `inst.step = stepvalue` instead\n",
      "  \"set_step is deprecated use step property as in `inst.step = \"\n",
      "C:\\Users\\Administrator\\Code\\Qcodes\\qcodes\\instrument\\parameter.py:526: UserWarning: set_delay is deprecated use inter_delay or post_delay property as in `inst.inter_delay = delayvalue` instead\n",
      "  \"set_delay is deprecated use inter_delay or post_delay property \"\n"
     ]
    },
    {
     "name": "stdout",
     "output_type": "stream",
     "text": [
      "Instrument ivvi already exists.\n",
      "Instrument key1 already exists.\n",
      "Instrument RF already exists.\n",
      "Instrument LO already exists.\n",
      "Instrument alazar already exists.\n",
      "Instrument awg already exists.\n",
      "Instrument fg already exists.\n"
     ]
    }
   ],
   "source": [
    "%run -n init_vars.py\n",
    "%run -n init_instruments.py\n",
    "%run -n init_defs.py\n",
    "\n",
    "station = qcodes.Station(key, ivvi, RF, LO, alazar, fg, awg)"
   ]
  },
  {
   "cell_type": "code",
   "execution_count": 36,
   "metadata": {},
   "outputs": [
    {
     "name": "stderr",
     "output_type": "stream",
     "text": [
      "C:\\Users\\Administrator\\Code\\Qcodes\\qcodes\\instrument\\parameter.py:526: UserWarning: set_delay is deprecated use inter_delay or post_delay property as in `inst.inter_delay = delayvalue` instead\n",
      "  \"set_delay is deprecated use inter_delay or post_delay property \"\n",
      "C:\\Users\\Administrator\\Code\\Qcodes\\qcodes\\instrument\\parameter.py:514: UserWarning: set_step is deprecated use step property as in `inst.step = stepvalue` instead\n",
      "  \"set_step is deprecated use step property as in `inst.step = \"\n"
     ]
    }
   ],
   "source": [
    "ivvi.dac1.set_delay(0.001)\n",
    "ivvi.dac1.set_step(20)\n",
    "ivvi.dac6.set_delay(0.001)\n",
    "ivvi.dac6.set_step(5)\n",
    "ivvi.dac8.set_delay(0.001)\n",
    "ivvi.dac8.set_step(5)\n",
    "ivvi.dac12.set_delay(0.001)\n",
    "ivvi.dac12.set_step(5)\n",
    "ivvi.dac4.set_delay(0.001)\n",
    "ivvi.dac4.set_step(5)\n",
    "ivvi.dac7.set_delay(0.001)\n",
    "ivvi.dac7.set_step(5)"
   ]
  },
  {
   "cell_type": "markdown",
   "metadata": {},
   "source": [
    "# Experiments"
   ]
  },
  {
   "cell_type": "markdown",
   "metadata": {},
   "source": [
    "## Test: alazar time trace"
   ]
  },
  {
   "cell_type": "code",
   "execution_count": null,
   "metadata": {
    "scrolled": false
   },
   "outputs": [],
   "source": [
    "%run -i snippets/alazar_timetrace.py"
   ]
  },
  {
   "cell_type": "markdown",
   "metadata": {},
   "source": [
    "## RF conductance on the bias resonator"
   ]
  },
  {
   "cell_type": "code",
   "execution_count": 37,
   "metadata": {
    "collapsed": true
   },
   "outputs": [],
   "source": [
    "station.ivvi.dac4(-905)\n",
    "station.ivvi.dac5(-615)\n",
    "station.ivvi.dac6(-850)"
   ]
  },
  {
   "cell_type": "code",
   "execution_count": null,
   "metadata": {
    "collapsed": true
   },
   "outputs": [],
   "source": []
  },
  {
   "cell_type": "code",
   "execution_count": 42,
   "metadata": {},
   "outputs": [],
   "source": [
    "ivvi.dac7(-2000)"
   ]
  },
  {
   "cell_type": "code",
   "execution_count": 44,
   "metadata": {},
   "outputs": [
    {
     "name": "stderr",
     "output_type": "stream",
     "text": [
      "2017-12-30 20:35:06,008 : measurement : INFO : Ready to measure, file location: d:\\data\\2017-12\\2017-12-30\\2017-12-30_AWGGateSweep-#0003...\n"
     ]
    },
    {
     "name": "stdout",
     "output_type": "stream",
     "text": [
      "Instrument alazar_ctl already exists.\n"
     ]
    },
    {
     "name": "stderr",
     "output_type": "stream",
     "text": [
      "delay is less than recommended for filter choice: (expect delay >= 1e-06)\n",
      "2017-12-30 20:35:06,545 : measurement : INFO : Samples per record: 8192\n"
     ]
    },
    {
     "name": "stdout",
     "output_type": "stream",
     "text": [
      "Instrument alazar_ctl already exists.\n"
     ]
    },
    {
     "name": "stderr",
     "output_type": "stream",
     "text": [
      "delay is less than recommended for filter choice: (expect delay >= 1e-06)\n",
      "2017-12-30 20:35:07,086 : measurement : INFO : Updated integration time: 8.0875e-05\n",
      "2017-12-30 20:35:07,087 : measurement : INFO : Updated samples per record: 8192\n",
      "2017-12-30 20:35:07,088 : measurement : INFO : Time per gate voltage: 9e-05 s\n",
      "2017-12-30 20:35:07,089 : measurement : INFO : Time per AWG sweep: 0.01802 s\n"
     ]
    },
    {
     "name": "stdout",
     "output_type": "stream",
     "text": [
      "Instrument alazar_ctl already exists.\n"
     ]
    },
    {
     "name": "stderr",
     "output_type": "stream",
     "text": [
      "delay is less than recommended for filter choice: (expect delay >= 1e-06)\n",
      "C:\\Users\\Administrator\\Code\\Qcodes\\qcodes\\instrument\\parameter.py:1097: UserWarning: MultiParameters do not support set at this time.\n",
      "  warnings.warn('MultiParameters do not support set at this time.')\n",
      "2017-12-30 20:37:53,804 : measurement : INFO : Measurement finished, cleaning up...\n",
      "2017-12-30 20:37:53,894 : measurement : INFO : All done!\n"
     ]
    }
   ],
   "source": [
    "# make sure we trigger externally\n",
    "namespace.ats_settings['trigger_source1'] = 'EXTERNAL'\n",
    "\n",
    "# set sampling rate of the alazar\n",
    "namespace.ats_settings['sample_rate'] = int(1e8)\n",
    "\n",
    "# awg as low sampling as possible\n",
    "namespace.awg_settings['sampling_rate'] = int(1e7)\n",
    "\n",
    "# limit awg output\n",
    "namespace.awg_settings['channel_2']['analog_amplitude'] = 0.1\n",
    "\n",
    "# set the funcgen frequency\n",
    "# TODO: should be done automatically\n",
    "station.fg.ch1_frequency(40)\n",
    "\n",
    "# create measurement class and run\n",
    "m = AWGGateSweep(station, namespace)\n",
    "m.awg_chan(2)\n",
    "m.ramp_pts(200)\n",
    "m.max_val(0.025)\n",
    "m.ramp_down_len(20e-6)\n",
    "m.ats_int_time(50e-6)\n",
    "m.navgs(1)\n",
    "m.IF(8e6)\n",
    "m.sweep = [\n",
    "    (m.station.ivvi.dac7, np.linspace(-2000, 2000, 101))\n",
    "]\n",
    "m.run()"
   ]
  },
  {
   "cell_type": "code",
   "execution_count": null,
   "metadata": {
    "collapsed": true
   },
   "outputs": [],
   "source": []
  },
  {
   "cell_type": "code",
   "execution_count": null,
   "metadata": {
    "collapsed": true
   },
   "outputs": [],
   "source": []
  }
 ],
 "metadata": {
  "kernelspec": {
   "display_name": "Python 3",
   "language": "python",
   "name": "python3"
  },
  "language_info": {
   "codemirror_mode": {
    "name": "ipython",
    "version": 3
   },
   "file_extension": ".py",
   "mimetype": "text/x-python",
   "name": "python",
   "nbconvert_exporter": "python",
   "pygments_lexer": "ipython3",
   "version": "3.6.2"
  }
 },
 "nbformat": 4,
 "nbformat_minor": 2
}
