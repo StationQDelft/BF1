{
 "cells": [
  {
   "cell_type": "code",
   "execution_count": null,
   "metadata": {
    "collapsed": true
   },
   "outputs": [],
   "source": [
    "import time\n",
    "import sys\n",
    "import os\n",
    "from collections import OrderedDict\n",
    "from importlib import reload\n",
    "\n",
    "import h5py\n",
    "import numpy as np\n",
    "from matplotlib import pyplot as plt\n",
    "\n",
    "%matplotlib notebook"
   ]
  },
  {
   "cell_type": "code",
   "execution_count": null,
   "metadata": {
    "collapsed": true
   },
   "outputs": [],
   "source": [
    "import qcodes\n",
    "qc = qcodes"
   ]
  },
  {
   "cell_type": "markdown",
   "metadata": {
    "collapsed": true
   },
   "source": [
    "# Basic configuration"
   ]
  },
  {
   "cell_type": "code",
   "execution_count": null,
   "metadata": {},
   "outputs": [],
   "source": [
    "%run -n init_vars.py\n",
    "%run -n init_instruments.py\n",
    "%run -n init_classes.py\n",
    "\n",
    "GridData.autowrite_griddata = False\n",
    "\n",
    "station = qcodes.Station(key, ivvi, RF, LO, alazar, fg)\n",
    "\n",
    "ivvi.dac1.set_delay(0.001)\n",
    "ivvi.dac1.set_step(20)\n",
    "ivvi.dac6.set_delay(0.001)\n",
    "ivvi.dac6.set_step(5)\n",
    "ivvi.dac8.set_delay(0.001)\n",
    "ivvi.dac8.set_step(5)\n",
    "ivvi.dac12.set_delay(0.001)\n",
    "ivvi.dac12.set_step(5)\n",
    "ivvi.dac4.set_delay(0.001)\n",
    "ivvi.dac4.set_step(5)\n",
    "ivvi.dac7.set_delay(0.001)\n",
    "ivvi.dac7.set_step(5)"
   ]
  },
  {
   "cell_type": "markdown",
   "metadata": {},
   "source": [
    "# Experiments"
   ]
  },
  {
   "cell_type": "markdown",
   "metadata": {},
   "source": [
    "## Test: alazar time trace"
   ]
  },
  {
   "cell_type": "code",
   "execution_count": null,
   "metadata": {
    "scrolled": false
   },
   "outputs": [],
   "source": [
    "%run -i snippets/alazar_timetrace.py"
   ]
  },
  {
   "cell_type": "markdown",
   "metadata": {},
   "source": [
    "## RF conductance on the bias resonator"
   ]
  },
  {
   "cell_type": "code",
   "execution_count": null,
   "metadata": {
    "collapsed": true
   },
   "outputs": [],
   "source": [
    "station.ivvi.dac4(-905)\n",
    "station.ivvi.dac5(-615)\n",
    "station.ivvi.dac6(-850)"
   ]
  },
  {
   "cell_type": "code",
   "execution_count": null,
   "metadata": {},
   "outputs": [],
   "source": [
    "# make sure we trigger externally\n",
    "namespace.ats_settings['trigger_source1'] = 'EXTERNAL'\n",
    "\n",
    "# set sampling rate of the alazar\n",
    "namespace.ats_settings['sample_rate'] = int(1e8)\n",
    "\n",
    "# set the funcgen frequency\n",
    "# TODO: should be done automatically\n",
    "station.fg.ch1_frequency(40)\n",
    "\n",
    "# create measurement class and run\n",
    "m = AWGGateSweep(station, namespace)\n",
    "m.gate_pts(200)\n",
    "m.ats_int_time(50e-6)\n",
    "m.navgs(1)\n",
    "m.IF(8e6)\n",
    "m.sweep = [\n",
    "    (m.station.ivvi.dac7, np.linspace(-2000, 2000, 101))\n",
    "]\n",
    "m.run()"
   ]
  },
  {
   "cell_type": "code",
   "execution_count": null,
   "metadata": {
    "collapsed": true
   },
   "outputs": [],
   "source": [
    "       "
   ]
  },
  {
   "cell_type": "code",
   "execution_count": null,
   "metadata": {},
   "outputs": [],
   "source": []
  },
  {
   "cell_type": "code",
   "execution_count": null,
   "metadata": {
    "collapsed": true
   },
   "outputs": [],
   "source": []
  },
  {
   "cell_type": "code",
   "execution_count": null,
   "metadata": {
    "collapsed": true
   },
   "outputs": [],
   "source": [
    "class AWGMeasurement(BaseMeasurement):\n",
    "    \n",
    "    def setup(self):\n",
    "        self.awg_sequence()\n",
    "        super().setup()\n",
    "        \n",
    "    \n",
    "    def awg_sequence(self):\n",
    "        raise NotImplementedError\n",
    "      "
   ]
  },
  {
   "cell_type": "code",
   "execution_count": null,
   "metadata": {
    "collapsed": true
   },
   "outputs": [],
   "source": []
  },
  {
   "cell_type": "code",
   "execution_count": null,
   "metadata": {
    "collapsed": true
   },
   "outputs": [],
   "source": []
  },
  {
   "cell_type": "code",
   "execution_count": null,
   "metadata": {},
   "outputs": [],
   "source": [
    "\n",
    "\n"
   ]
  }
 ],
 "metadata": {
  "kernelspec": {
   "display_name": "Python 3",
   "language": "python",
   "name": "python3"
  },
  "language_info": {
   "codemirror_mode": {
    "name": "ipython",
    "version": 3
   },
   "file_extension": ".py",
   "mimetype": "text/x-python",
   "name": "python",
   "nbconvert_exporter": "python",
   "pygments_lexer": "ipython3",
   "version": "3.6.2"
  }
 },
 "nbformat": 4,
 "nbformat_minor": 2
}
