{
 "cells": [
  {
   "cell_type": "code",
   "execution_count": 25,
   "metadata": {
    "collapsed": true
   },
   "outputs": [],
   "source": [
    "import time\n",
    "import sys\n",
    "import os\n",
    "from collections import OrderedDict\n",
    "from importlib import reload\n",
    "\n",
    "import h5py\n",
    "import numpy as np\n",
    "from matplotlib import pyplot as plt\n",
    "\n",
    "%matplotlib inline"
   ]
  },
  {
   "cell_type": "code",
   "execution_count": 2,
   "metadata": {
    "collapsed": true
   },
   "outputs": [],
   "source": [
    "import qcodes\n",
    "qc = qcodes"
   ]
  },
  {
   "cell_type": "code",
   "execution_count": 78,
   "metadata": {
    "collapsed": true
   },
   "outputs": [],
   "source": [
    "from stationq.mplplots.init_nb_plotting import *\n",
    "from stationq.mplplots import plots as mplplots\n",
    "from stationq.mplplots import tools as mpltools"
   ]
  },
  {
   "cell_type": "code",
   "execution_count": 4,
   "metadata": {},
   "outputs": [],
   "source": [
    "from quantum_capacitance import rf; reload(rf)\n",
    "from quantum_capacitance.rf import AlazarMeasurementExt, AWGMeasurement, AWG2DRamp"
   ]
  },
  {
   "cell_type": "markdown",
   "metadata": {
    "collapsed": true
   },
   "source": [
    "# Basic configuration"
   ]
  },
  {
   "cell_type": "code",
   "execution_count": 5,
   "metadata": {},
   "outputs": [
    {
     "name": "stderr",
     "output_type": "stream",
     "text": [
      "2018-01-12 20:11:12,766 : measurement : INFO : Logger set up!\n"
     ]
    },
    {
     "name": "stdout",
     "output_type": "stream",
     "text": [
      "Initialized IVVI-rack in 0.35s\n",
      "Connected to: Rohde&Schwarz SGS100A (serial:1416.0505k02/110525, firmware:3.1.19.15-3.50.124.67) in 0.02s\n",
      "Connected to: Rohde&Schwarz SGS100A (serial:1416.0505k02/110524, firmware:3.1.19.15-3.50.124.67) in 0.03s\n",
      "Connected to: TEKTRONIX AWG5014C (serial:B051388, firmware:SCPI:99.0 FW:4.6.0.7) in 0.07s\n",
      "Connected to: Rigol Technologies DG4062 (serial:DG4E163251554, firmware:00.01.09) in 0.05s\n"
     ]
    },
    {
     "name": "stderr",
     "output_type": "stream",
     "text": [
      "C:\\Users\\Administrator\\Code\\Qcodes\\qcodes\\instrument\\parameter.py:514: UserWarning: set_step is deprecated use step property as in `inst.step = stepvalue` instead\n",
      "  \"set_step is deprecated use step property as in `inst.step = \"\n",
      "C:\\Users\\Administrator\\Code\\Qcodes\\qcodes\\instrument\\parameter.py:526: UserWarning: set_delay is deprecated use inter_delay or post_delay property as in `inst.inter_delay = delayvalue` instead\n",
      "  \"set_delay is deprecated use inter_delay or post_delay property \"\n"
     ]
    }
   ],
   "source": [
    "%run init.py"
   ]
  },
  {
   "cell_type": "code",
   "execution_count": 6,
   "metadata": {
    "collapsed": true
   },
   "outputs": [],
   "source": [
    "from stationq.data.data_storage import Data, GridData\n",
    "Data.export_spyview = True\n",
    "GridData.export_spyview = True"
   ]
  },
  {
   "cell_type": "markdown",
   "metadata": {},
   "source": [
    "# Definitions"
   ]
  },
  {
   "cell_type": "code",
   "execution_count": null,
   "metadata": {},
   "outputs": [],
   "source": []
  },
  {
   "cell_type": "markdown",
   "metadata": {},
   "source": [
    "# Experiments"
   ]
  },
  {
   "cell_type": "markdown",
   "metadata": {},
   "source": [
    "## Test: alazar time trace"
   ]
  },
  {
   "cell_type": "code",
   "execution_count": null,
   "metadata": {
    "scrolled": false
   },
   "outputs": [],
   "source": [
    "%run -i snippets/alazar_timetrace.py"
   ]
  },
  {
   "cell_type": "markdown",
   "metadata": {},
   "source": [
    "## RF reflectometry"
   ]
  },
  {
   "cell_type": "code",
   "execution_count": 7,
   "metadata": {},
   "outputs": [
    {
     "data": {
      "text/plain": [
       "(-860, 0, -860)"
      ]
     },
     "execution_count": 7,
     "metadata": {},
     "output_type": "execute_result"
    }
   ],
   "source": [
    "t1, t2, t3 = int(station.ivvi.dac4()), int(station.ivvi.dac5()), int(station.ivvi.dac6())\n",
    "t1, t2, t3"
   ]
  },
  {
   "cell_type": "code",
   "execution_count": 63,
   "metadata": {},
   "outputs": [],
   "source": [
    "class AWGGateSweep2D(AWG2DRamp, AlazarMeasurementExt):\n",
    "    \n",
    "    data_cls = GridData\n",
    "    \n",
    "    def setup(self):\n",
    "        super().setup()\n",
    "        self.station.LO.frequency(self.station.RF.frequency() + self.IF())\n",
    "        \n",
    "        self.alazar_axes = OrderedDict({\n",
    "            'Gate 1 (V)' : np.linspace(self.ramp_min[0], self.ramp_max[0], self.ramp_pts[0]),\n",
    "            'Line Repetition' : np.arange(self.line_reps),\n",
    "            'Gate 2 (V)' : np.linspace(self.ramp_min[1], self.ramp_max[1], self.ramp_pts[1]),\n",
    "        })\n",
    "    \n",
    "    def measure(self):\n",
    "        A, B = self.acquire()\n",
    "        A2 = A[:].reshape(self.ramp_pts[1], self.line_reps, self.ramp_pts[0])\n",
    "        B2 = B[:].reshape(self.ramp_pts[1], self.line_reps, self.ramp_pts[0])\n",
    "        \n",
    "        amp = np.abs(B2)\n",
    "        phase = np.angle(A2*B2.conj(), deg=True)\n",
    "        \n",
    "        ret = OrderedDict({\n",
    "            'amp' : {'value' : amp},\n",
    "            'phase' : {'value' : phase},\n",
    "        })\n",
    "        \n",
    "        axgrid = np.meshgrid(*[v for k, v in self.alazar_axes.items()], indexing='ij')\n",
    "        for i, k in enumerate(self.alazar_axes):\n",
    "            ret[k] = {'value' : axgrid[i].T, 'independent_parameter' : True}\n",
    "            \n",
    "        self.data.add(ret)\n",
    "\n",
    "# class MultiFrqGateSweep(AWGGateSweep2D):\n",
    "    \n",
    "#     RF_frqs = [538.2e6, ]    "
   ]
  },
  {
   "cell_type": "code",
   "execution_count": 64,
   "metadata": {
    "collapsed": true
   },
   "outputs": [],
   "source": [
    "namespace.ats_settings['sample_rate'] = int(1e8)\n",
    "namespace.ats_settings['trigger_source1'] = 'EXTERNAL'\n",
    "namespace.awg_settings['sampling_rate'] = int(1e7)\n",
    "namespace.awg_settings['channel_1']['analog_amplitude'] = 4.0\n",
    "namespace.awg_settings['channel_2']['analog_amplitude'] = 0.2\n",
    "station.fg.ch1_frequency(0.5)\n",
    "station.fg.ch1_output_enabled(False)\n",
    "station.RF.frequency(538.2e6)\n",
    "station.RF.power(-65)\n",
    "station.LO.power(22)"
   ]
  },
  {
   "cell_type": "code",
   "execution_count": 65,
   "metadata": {},
   "outputs": [
    {
     "name": "stderr",
     "output_type": "stream",
     "text": [
      "2018-01-15 09:57:45,178 : measurement : INFO : Ready to measure, file location: d:\\data\\2018-01\\2018-01-15\\2018-01-15_AWGGateSweep2D-#0001_t1=-880_t2=-574_t3=-880...\n"
     ]
    },
    {
     "name": "stdout",
     "output_type": "stream",
     "text": [
      "Instrument alazar_ctl already exists.\n"
     ]
    },
    {
     "name": "stderr",
     "output_type": "stream",
     "text": [
      "delay is less than recommended for filter choice: (expect delay >= 1e-06)\n",
      "C:\\Users\\Administrator\\Code\\Qcodes\\qcodes\\instrument\\parameter.py:1097: UserWarning: MultiParameters do not support set at this time.\n",
      "  warnings.warn('MultiParameters do not support set at this time.')\n",
      "2018-01-15 09:58:13,062 : measurement : INFO : Measurement finished, cleaning up...\n",
      "2018-01-15 09:58:13,165 : measurement : INFO : All done!\n"
     ]
    }
   ],
   "source": [
    "t1 = -880.\n",
    "t2 = -574.\n",
    "t3 = -880.\n",
    "\n",
    "# for t2 in -540. + np.arange(0, -61, -2):\n",
    "\n",
    "station.ivvi.dac4(t1)\n",
    "station.ivvi.dac5(t2)\n",
    "station.ivvi.dac6(t3)\n",
    "station.fg.ch1_output_enabled(False)\n",
    "\n",
    "info = f't1={int(t1)}_t2={int(t2)}_t3={int(t3)}'\n",
    "\n",
    "m = AWGGateSweep2D(station, namespace, info_string=info)\n",
    "m.trigger_src = station.fg\n",
    "m.trigger_chan = 'ch2_m1'\n",
    "\n",
    "m.ramp_chan = (2, 1)\n",
    "m.ramp_pts = (90, 80)\n",
    "m.ramp_min = (0, 0)\n",
    "m.ramp_max = (0.1, 1)\n",
    "m.ramp_elt_len = 0.1e-3\n",
    "m.ramp_down_len = 1e-3\n",
    "m.line_reps = 2\n",
    "\n",
    "m.IF(20e6)\n",
    "m.ats_int_time(80e-6)\n",
    "m.ats_integrate_samples(True)\n",
    "m.ats_average_records(False)\n",
    "m.ats_average_buffers(False)\n",
    "m.ats_records_per_buffer(m.ramp_pts[0])\n",
    "m.ats_buffers_per_acquisition(m.ramp_pts[1] * m.line_reps)\n",
    "m.ats_demod(True)\n",
    "\n",
    "m.do_setup_awg = False\n",
    "m.run()\n",
    "\n",
    "for zname in ['amp', 'phase']:\n",
    "    # Here I use the second dimension (line reps) as a simple 50 Hz filter.\n",
    "    z, [(xname, x), (_, _), (yname, y)] = m.data[zname]\n",
    "    fig, ax = plt.subplots(1, 1)\n",
    "    im = mplplots.ppcolormesh(ax, x, y, z[:,0,:].T)\n",
    "    cb = fig.colorbar(im)\n",
    "    cb.set_label(zname)\n",
    "    ax.set_xlabel(xname)\n",
    "    ax.set_ylabel(yname)\n",
    "    ax.set_title(m.data.filepath, size='xx-small')\n",
    "    fig.savefig(m.data_prefix + f\"_{zname}.png\", dpi=300, transparent=False)\n",
    "    \n",
    "    plt.close('all')"
   ]
  },
  {
   "cell_type": "code",
   "execution_count": 81,
   "metadata": {
    "collapsed": true
   },
   "outputs": [],
   "source": [
    "m.data.save_griddata('phase')"
   ]
  },
  {
   "cell_type": "code",
   "execution_count": null,
   "metadata": {
    "collapsed": true
   },
   "outputs": [],
   "source": []
  },
  {
   "cell_type": "code",
   "execution_count": null,
   "metadata": {
    "collapsed": true
   },
   "outputs": [],
   "source": []
  },
  {
   "cell_type": "code",
   "execution_count": null,
   "metadata": {
    "collapsed": true
   },
   "outputs": [],
   "source": []
  },
  {
   "cell_type": "code",
   "execution_count": null,
   "metadata": {
    "collapsed": true
   },
   "outputs": [],
   "source": []
  },
  {
   "cell_type": "markdown",
   "metadata": {},
   "source": [
    "### Stability Diagram"
   ]
  },
  {
   "cell_type": "code",
   "execution_count": null,
   "metadata": {
    "collapsed": true
   },
   "outputs": [],
   "source": []
  },
  {
   "cell_type": "code",
   "execution_count": null,
   "metadata": {
    "collapsed": true
   },
   "outputs": [],
   "source": []
  },
  {
   "cell_type": "code",
   "execution_count": null,
   "metadata": {
    "collapsed": true
   },
   "outputs": [],
   "source": []
  },
  {
   "cell_type": "code",
   "execution_count": null,
   "metadata": {
    "collapsed": true
   },
   "outputs": [],
   "source": []
  },
  {
   "cell_type": "code",
   "execution_count": null,
   "metadata": {
    "collapsed": true
   },
   "outputs": [],
   "source": [
    "start = 0\n",
    "stop = 2000\n",
    "pts = 51\n",
    "navg = 1\n",
    "\n",
    "\n",
    "RF_frq = 538.2e6\n",
    "RF_pwr = -65\n",
    "t_int = 80e-6\n",
    "\n",
    "station.fg.ch1_frequency(50)\n",
    "\n",
    "# RF_frq = 1.040e9\n",
    "# RF_frq = 1.398e9\n",
    "# RF_pwr = -35\n",
    "# t_int = 1.2e-3\n",
    " \n",
    "# LO_pwr = 10 # use for IQ mixer\n",
    "LO_pwr = 22 # use for interferometer\n",
    "\n",
    "station.RF.frequency(RF_frq)\n",
    "station.RF.power(RF_pwr)\n",
    "station.LO.power(LO_pwr)\n",
    "\n",
    "# make sure we trigger externally\n",
    "namespace.ats_settings['trigger_source1'] = 'EXTERNAL'\n",
    "\n",
    "# set sampling rate of the alazar\n",
    "namespace.ats_settings['sample_rate'] = int(1e8)\n",
    "\n",
    "# awg as low sampling as possible\n",
    "namespace.awg_settings['sampling_rate'] = int(1e7)\n",
    "\n",
    "# limit awg output\n",
    "namespace.awg_settings['channel_2']['analog_amplitude'] = 0.2"
   ]
  },
  {
   "cell_type": "code",
   "execution_count": null,
   "metadata": {},
   "outputs": [],
   "source": [
    "t1 = -855\n",
    "t2 = -640\n",
    "t3 = -875\n",
    "station.ivvi.dac4(t1) # T1\n",
    "station.ivvi.dac5(t2) # T2\n",
    "station.ivvi.dac6(t3) # T3\n",
    "\n",
    "t1, t2, t3 = int(station.ivvi.dac4()), int(station.ivvi.dac5()), int(station.ivvi.dac6())\n",
    "t1, t2, t3"
   ]
  },
  {
   "cell_type": "code",
   "execution_count": null,
   "metadata": {
    "scrolled": false
   },
   "outputs": [],
   "source": [
    "# for RF_pwr in np.array([-50., -45., -40., -35., -30., -25., -20., -15., ]):\n",
    "# for t2 in (-700.0 - np.arange(5) * 2.0):\n",
    "info = None\n",
    "# info = f'pwr={RF_pwr}'\n",
    "# info = f'IF={IF}'\n",
    "info = f't1={int(t1)}_t2={int(t2)}_t3={int(t3)}'\n",
    "\n",
    "# create measurement class and run\n",
    "m = AWGGateSweep(station, namespace, info_string=info)\n",
    "m.awg_chan(2)\n",
    "m.ramp_pts(200)\n",
    "m.max_val(0.1)\n",
    "m.ramp_down_len(1e-3)\n",
    "m.ats_int_time(t_int)\n",
    "m.navgs(navg)\n",
    "m.IF(20e6)\n",
    "\n",
    "m.sweep = [\n",
    "    (m.station.ivvi.dac7, np.linspace(start, stop, pts))\n",
    "]\n",
    "m.run()\n",
    "\n",
    "for zname in ['delta_phase', 'chanB_abs']:\n",
    "    z, [(xname, x), (yname, y)] = m.data[zname]\n",
    "    fig, ax = plt.subplots(1,1)\n",
    "    im = mplplots.ppcolormesh(ax, x, y, z.T)\n",
    "    cb = fig.colorbar(im)\n",
    "    cb.set_label(zname)\n",
    "    ax.set_xlabel(xname)\n",
    "    ax.set_ylabel(yname)\n",
    "    ax.set_title(m.data.filepath, size='x-small')\n",
    "    fig.savefig(m.metadata_prefix + f\"_{zname}.png\", dpi=300, transparent=False)"
   ]
  },
  {
   "cell_type": "code",
   "execution_count": null,
   "metadata": {
    "collapsed": true
   },
   "outputs": [],
   "source": []
  },
  {
   "cell_type": "code",
   "execution_count": null,
   "metadata": {
    "collapsed": true
   },
   "outputs": [],
   "source": [
    "ivvi.set_dacs_zero()"
   ]
  },
  {
   "cell_type": "code",
   "execution_count": null,
   "metadata": {
    "collapsed": true
   },
   "outputs": [],
   "source": []
  },
  {
   "cell_type": "code",
   "execution_count": null,
   "metadata": {
    "collapsed": true
   },
   "outputs": [],
   "source": []
  }
 ],
 "metadata": {
  "kernelspec": {
   "display_name": "Python 3",
   "language": "python",
   "name": "python3"
  },
  "language_info": {
   "codemirror_mode": {
    "name": "ipython",
    "version": 3
   },
   "file_extension": ".py",
   "mimetype": "text/x-python",
   "name": "python",
   "nbconvert_exporter": "python",
   "pygments_lexer": "ipython3",
   "version": "3.6.2"
  }
 },
 "nbformat": 4,
 "nbformat_minor": 2
}
