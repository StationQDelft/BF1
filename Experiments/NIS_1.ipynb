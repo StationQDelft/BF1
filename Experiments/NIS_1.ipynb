{
 "cells": [
  {
   "cell_type": "code",
   "execution_count": 1,
   "metadata": {
    "collapsed": true
   },
   "outputs": [],
   "source": [
    "import time\n",
    "import sys\n",
    "import os\n",
    "from collections import OrderedDict\n",
    "from importlib import reload\n",
    "from pprint import pprint\n",
    "\n",
    "import h5py\n",
    "import numpy as np\n",
    "from matplotlib import pyplot as plt\n",
    "\n",
    "%matplotlib inline"
   ]
  },
  {
   "cell_type": "code",
   "execution_count": 2,
   "metadata": {
    "collapsed": true
   },
   "outputs": [],
   "source": [
    "import qcodes\n",
    "qc = qcodes"
   ]
  },
  {
   "cell_type": "code",
   "execution_count": 54,
   "metadata": {
    "collapsed": true
   },
   "outputs": [],
   "source": [
    "from scipy import constants\n",
    "from scipy.interpolate import interp1d\n",
    "from scipy.optimize import fmin\n",
    "from scipy.integrate import cumtrapz"
   ]
  },
  {
   "cell_type": "code",
   "execution_count": 4,
   "metadata": {
    "collapsed": true
   },
   "outputs": [],
   "source": [
    "from labtools.mplplots import init_nb_plotting\n",
    "reload(init_nb_plotting)\n",
    "from labtools.mplplots.init_nb_plotting import *\n",
    "\n",
    "from labtools.mplplots import plots as mplplots\n",
    "from labtools.mplplots import tools as mpltools"
   ]
  },
  {
   "cell_type": "code",
   "execution_count": null,
   "metadata": {
    "collapsed": true
   },
   "outputs": [],
   "source": [
    "# from quantum_capacitance import rf; reload(rf)\n",
    "# from quantum_capacitance.rf import AlazarMeasurementExt, AWGMeasurement, AWG2DRamp"
   ]
  },
  {
   "cell_type": "markdown",
   "metadata": {
    "collapsed": true
   },
   "source": [
    "# Basic configuration"
   ]
  },
  {
   "cell_type": "code",
   "execution_count": 8,
   "metadata": {},
   "outputs": [
    {
     "name": "stderr",
     "output_type": "stream",
     "text": [
      "2018-02-23 12:34:07,305 : measurement : INFO : Logger set up!\n",
      "C:\\Users\\Administrator\\Code\\Qcodes\\qcodes\\instrument\\parameter.py:209: UserWarning: Wrapping get method, original get method will not be directly accessible. It is recommended to define get_raw in your subclass instead.\n",
      "  warnings.warn('Wrapping get method, original get method will not '\n"
     ]
    },
    {
     "name": "stdout",
     "output_type": "stream",
     "text": [
      "Instrument ivvi already exists.\n",
      "Instrument sr1 already exists.\n",
      "Connected to: Keysight Technologies 34465A (serial:MY57503135, firmware:A.02.14-02.40-02.14-00.49-03-01) in 0.20s"
     ]
    },
    {
     "name": "stderr",
     "output_type": "stream",
     "text": [
      "C:\\Users\\Administrator\\Code\\Qcodes\\qcodes\\instrument\\parameter.py:514: UserWarning: set_step is deprecated use step property as in `inst.step = stepvalue` instead\n",
      "  \"set_step is deprecated use step property as in `inst.step = \"\n",
      "C:\\Users\\Administrator\\Code\\Qcodes\\qcodes\\instrument\\parameter.py:526: UserWarning: set_delay is deprecated use inter_delay or post_delay property as in `inst.inter_delay = delayvalue` instead\n",
      "  \"set_delay is deprecated use inter_delay or post_delay property \"\n",
      "C:\\Users\\Administrator\\Code\\Qcodes\\qcodes\\instrument\\parameter.py:616: UserWarning: set_validator is deprected use `inst.vals = MyValidator` instead\n",
      "  \"set_validator is deprected use `inst.vals = MyValidator` instead\")\n"
     ]
    },
    {
     "name": "stdout",
     "output_type": "stream",
     "text": [
      "\n"
     ]
    }
   ],
   "source": [
    "%run init.py"
   ]
  },
  {
   "cell_type": "code",
   "execution_count": 6,
   "metadata": {
    "collapsed": true
   },
   "outputs": [],
   "source": [
    "station.ivvi.set_dacs_zero()"
   ]
  },
  {
   "cell_type": "code",
   "execution_count": 7,
   "metadata": {
    "collapsed": true
   },
   "outputs": [],
   "source": [
    "from stationq.data.data_storage import Data, GridData\n",
    "Data.export_spyview = True\n",
    "GridData.export_spyview = True"
   ]
  },
  {
   "cell_type": "code",
   "execution_count": null,
   "metadata": {
    "collapsed": true
   },
   "outputs": [],
   "source": []
  },
  {
   "cell_type": "code",
   "execution_count": null,
   "metadata": {
    "collapsed": true
   },
   "outputs": [],
   "source": [
    "# from stationq.qctools.instruments import create_inst\n",
    "# from qcodes.instrument_drivers.Keysight.Keysight_34465A import Keysight_34465A\n",
    "# from visa import VisaIOError\n",
    "\n",
    "# def check_keys(ivvi):\n",
    "#     key1 = create_inst(Keysight_34465A, \"key1\", \"USB0::0x2A8D::0x0101::MY57503556::INSTR\", force_new_instance=True)\n",
    "#     key2 = create_inst(Keysight_34465A, \"key2\", \"USB0::0x2A8D::0x0101::MY57503135::INSTR\", force_new_instance=True)\n",
    "#     station = qc.Station(ivvi, key1, key2)\n",
    "#     return station\n",
    "\n",
    "# station = check_keys(station.ivvi)"
   ]
  },
  {
   "cell_type": "code",
   "execution_count": null,
   "metadata": {
    "collapsed": true
   },
   "outputs": [],
   "source": []
  },
  {
   "cell_type": "markdown",
   "metadata": {},
   "source": [
    "# Definitions"
   ]
  },
  {
   "cell_type": "code",
   "execution_count": null,
   "metadata": {
    "collapsed": true
   },
   "outputs": [],
   "source": []
  },
  {
   "cell_type": "markdown",
   "metadata": {},
   "source": [
    "# Experiments"
   ]
  },
  {
   "cell_type": "code",
   "execution_count": 100,
   "metadata": {
    "collapsed": true
   },
   "outputs": [],
   "source": [
    "station.ivvi.set_dacs_zero()"
   ]
  },
  {
   "cell_type": "code",
   "execution_count": null,
   "metadata": {
    "collapsed": true
   },
   "outputs": [],
   "source": [
    "station.ivvi.dac1(1000)"
   ]
  },
  {
   "cell_type": "code",
   "execution_count": 9,
   "metadata": {},
   "outputs": [
    {
     "data": {
      "text/plain": [
       "-0.00299171685"
      ]
     },
     "execution_count": 9,
     "metadata": {},
     "output_type": "execute_result"
    }
   ],
   "source": [
    "station.key2.volt()"
   ]
  },
  {
   "cell_type": "code",
   "execution_count": null,
   "metadata": {
    "collapsed": true
   },
   "outputs": [],
   "source": []
  },
  {
   "cell_type": "code",
   "execution_count": 25,
   "metadata": {
    "collapsed": true
   },
   "outputs": [],
   "source": [
    "station.sr1.time_constant(100e-3)"
   ]
  },
  {
   "cell_type": "code",
   "execution_count": null,
   "metadata": {
    "collapsed": true
   },
   "outputs": [],
   "source": [
    "station.sr1.amplitude(1e-6)"
   ]
  },
  {
   "cell_type": "code",
   "execution_count": null,
   "metadata": {
    "collapsed": true,
    "scrolled": false
   },
   "outputs": [],
   "source": [
    "station.sr1.X()"
   ]
  },
  {
   "cell_type": "code",
   "execution_count": null,
   "metadata": {
    "collapsed": true
   },
   "outputs": [],
   "source": [
    "station.sr1.X_offset()"
   ]
  },
  {
   "cell_type": "code",
   "execution_count": null,
   "metadata": {
    "collapsed": true
   },
   "outputs": [],
   "source": [
    "station.sr1.sensitivity(100e-3)"
   ]
  },
  {
   "cell_type": "code",
   "execution_count": null,
   "metadata": {
    "collapsed": true
   },
   "outputs": [],
   "source": [
    "station.sr1.input_shield('float')"
   ]
  },
  {
   "cell_type": "code",
   "execution_count": null,
   "metadata": {
    "collapsed": true
   },
   "outputs": [],
   "source": [
    "station.sr1.sine_outdc(0)"
   ]
  },
  {
   "cell_type": "code",
   "execution_count": null,
   "metadata": {
    "collapsed": true
   },
   "outputs": [],
   "source": []
  },
  {
   "cell_type": "code",
   "execution_count": null,
   "metadata": {
    "collapsed": true
   },
   "outputs": [],
   "source": []
  },
  {
   "cell_type": "code",
   "execution_count": null,
   "metadata": {
    "collapsed": true
   },
   "outputs": [],
   "source": []
  },
  {
   "cell_type": "markdown",
   "metadata": {
    "scrolled": false
   },
   "source": [
    "## DC IV traces"
   ]
  },
  {
   "cell_type": "code",
   "execution_count": 91,
   "metadata": {},
   "outputs": [],
   "source": [
    "from stationq.experiment.measurement import BaseMeasurement\n",
    "\n",
    "class IVCurve(BaseMeasurement):\n",
    "    \n",
    "    start = -150e-6\n",
    "    stop = +150e-6\n",
    "    pts = 151\n",
    "    nplc = 10\n",
    "    delay = 0.01\n",
    "    sine_amp = 0.1\n",
    "\n",
    "    def measure(self):        \n",
    "        vals = []\n",
    "        bias = np.linspace(self.start, self.stop, self.pts) * 1e6\n",
    "        \n",
    "        self.station.sr1.amplitude(self.sine_amp)\n",
    "        self.station.ivvi.dac1(bias[0])\n",
    "        time.sleep(1)\n",
    "        \n",
    "        for v in bias:\n",
    "            self.station.ivvi.dac1(v)\n",
    "            time.sleep(self.delay)\n",
    "\n",
    "            li_X = self.station.sr1.X()\n",
    "            li_Y = self.station.sr1.Y()\n",
    "            key_volt = self.station.key2.volt()\n",
    "            \n",
    "            self.data.add(\n",
    "            OrderedDict({\n",
    "                'Bias' : {'value' : v * 1e-6, \"unit\": 'V', \"independent_parameter\": True},\n",
    "                'Lockin X' : {'value' : li_X, \"unit\" : 'V'},\n",
    "                'Lockin Y' : {'value' : li_Y, \"unit\" : 'V'},\n",
    "                'DMM voltage' : {'value' : key_volt, 'unit' : 'V'},\n",
    "                })\n",
    "            )\n",
    "            "
   ]
  },
  {
   "cell_type": "code",
   "execution_count": 101,
   "metadata": {},
   "outputs": [
    {
     "name": "stderr",
     "output_type": "stream",
     "text": [
      "2018-02-23 15:45:03,374 : measurement : INFO : Ready to measure, file location: d:\\data\\2018-02\\2018-02-23\\2018-02-23_IVCurve-#0016_testing...\n",
      "2018-02-23 15:46:05,735 : measurement : INFO : Measurement finished, cleaning up...\n",
      "2018-02-23 15:46:05,834 : measurement : INFO : All done!\n"
     ]
    }
   ],
   "source": [
    "m = IVCurve(station, namespace, info_string=f'testing')\n",
    "m.start = -300e-6\n",
    "m.stop = 300e-6\n",
    "m.pts = 101\n",
    "m.delay = 0.1\n",
    "m.run()"
   ]
  },
  {
   "cell_type": "code",
   "execution_count": 102,
   "metadata": {},
   "outputs": [
    {
     "data": {
      "text/plain": [
       "[<matplotlib.lines.Line2D at 0x1f30eaa7160>]"
      ]
     },
     "execution_count": 102,
     "metadata": {},
     "output_type": "execute_result"
    },
    {
     "data": {
      "image/png": "[encoded data removed]",
      "text/plain": [
       "<matplotlib.figure.Figure at 0x1f30d93dac8>"
      ]
     },
     "metadata": {},
     "output_type": "display_data"
    }
   ],
   "source": [
    "bias = m.data['Lockin X']['Bias [V]'].reshape(-1).copy()[1:]\n",
    "X_sr = m.data['Lockin X']['Lockin X [V]'].reshape(-1).copy()[1:]\n",
    "Y_sr = m.data['Lockin Y']['Lockin Y [V]'].reshape(-1).copy()[1:]\n",
    "V_dmm = m.data['DMM voltage']['DMM voltage [V]'].reshape(-1).copy()[1:]\n",
    "\n",
    "\n",
    "I_dmm = V_dmm * 1e-7\n",
    "dIdV_dmm = np.diff(I_dmm)/np.diff(bias)\n",
    "\n",
    "dV_sr = (X_sr**2 + Y_sr**2)**.5\n",
    "dI_sr = dV_sr * 1e-7\n",
    "dIdV_sr = dI_sr/(0.1 * 1e-5)\n",
    "I_sr = cumtrapz(dIdV_sr, bias)\n",
    "\n",
    "\n",
    "fig, (ax, bx) = plt.subplots(2, 1, figsize=(3,4), sharex=True)\n",
    "# ax.plot(bias, V_sr, 'o-', ms=2)\n",
    "ax.plot(bias, I_dmm, 'o-', ms=2)\n",
    "ax.plot(bias[1:], I_sr + I_dmm[0], 'o-', ms=2)\n",
    "\n",
    "bx.plot(bias[1:], dIdV_dmm, 'o-', ms=2)\n",
    "bx.plot(bias, dIdV_sr, 'o-', ms=2)\n",
    "\n",
    "# ax.plot(bias, Int, 'o-', ms=2)\n",
    "# ax.plot(bias[1:], didv)"
   ]
  },
  {
   "cell_type": "code",
   "execution_count": 103,
   "metadata": {},
   "outputs": [
    {
     "data": {
      "text/plain": [
       "10336283.501217309"
      ]
     },
     "execution_count": 103,
     "metadata": {},
     "output_type": "execute_result"
    }
   ],
   "source": [
    "(bias.max() - bias.min()) / (I_dmm.max() - I_dmm.min())"
   ]
  },
  {
   "cell_type": "code",
   "execution_count": null,
   "metadata": {
    "collapsed": true
   },
   "outputs": [],
   "source": []
  },
  {
   "cell_type": "code",
   "execution_count": null,
   "metadata": {
    "collapsed": true
   },
   "outputs": [],
   "source": []
  },
  {
   "cell_type": "code",
   "execution_count": null,
   "metadata": {
    "collapsed": true
   },
   "outputs": [],
   "source": [
    "# T = 100\n",
    "# t0 = time.time()\n",
    "# delay = 5\n",
    "\n",
    "t0 = time.time()\n",
    "idx = 0\n",
    "# npts = 4001\n",
    "\n",
    "# while True:\n",
    "\n",
    "#     for avgs in [201, 401, 801, 1601]:\n",
    "    \n",
    "    ### measure IV trace\n",
    "m = IVCurve(station, namespace, info_string=f'{npts}_testing')\n",
    "m.start = 140\n",
    "m.stop = 240\n",
    "m.pts = 2001\n",
    "m.nplc = 10\n",
    "m.delay = 0.02\n",
    "m.run()\n",
    "\n",
    "bias = m.data['Current']['Bias [V]'].reshape(-1).copy()\n",
    "i = m.data['Current']['Current [A]'].reshape(-1).copy()\n",
    "v = m.data['Voltage']['Voltage [V]'].reshape(-1).copy()\n",
    "\n",
    "i -= i[i.size//2]\n",
    "bias *= 1e6\n",
    "i *= 1e9\n",
    "\n",
    "fig, ax = plt.subplots(1, 1)\n",
    "ax.plot(bias, i, 'o', ms=1)\n",
    "ax.set_xlabel('Bias voltage (uV)')\n",
    "ax.set_ylabel('Current (nA)')\n",
    "ax.set_title(m.datafilepath, size='x-small')\n",
    "ax.grid(dashes=[2,2])\n",
    "fig.savefig(m.data_prefix + \".png\", dpi=300)\n",
    "\n",
    "#     time.sleep(60)\n",
    "\n",
    "    ### measure current as function of time\n",
    "#     if idx in [0,1]:\n",
    "#         m = IMonitor(station, namespace)\n",
    "#         m.npts = 20000\n",
    "#         m.nplc = 1\n",
    "#         m.delay = 0.1\n",
    "#         m.bias = 190\n",
    "#         m.run()\n",
    "\n",
    "#         t = m.data['Current']['time [s]'].reshape(-1).copy()\n",
    "#         i = m.data['Current']['Current [A]'].reshape(-1).copy()\n",
    "#         v = m.data['Voltage']['Voltage [V]'].reshape(-1).copy()\n",
    "\n",
    "#         fig, (ax, bx) = plt.subplots(2, 1, sharex='all')\n",
    "#         ax.plot(t, i * 1e9, 'o', ms=2)\n",
    "#         bx.plot(t, v * 1e6, 'o', ms=2)\n",
    "#         ax.set_ylabel('I (nA)')\n",
    "#         bx.set_ylabel('V (uV)')\n",
    "#         bx.set_xlabel('time (s)')\n",
    "#         ax.grid(dashes=[2,2])\n",
    "#         bx.grid(dashes=[2,2])\n",
    "#         fig.savefig(m.data_prefix + \".png\", dpi=300)\n",
    "\n",
    "#         time.sleep(2)\n",
    "    \n",
    "#     idx+=1\n",
    "    \n",
    "#     plt.close('all')"
   ]
  },
  {
   "cell_type": "code",
   "execution_count": null,
   "metadata": {
    "collapsed": true
   },
   "outputs": [],
   "source": []
  },
  {
   "cell_type": "code",
   "execution_count": null,
   "metadata": {
    "collapsed": true
   },
   "outputs": [],
   "source": []
  },
  {
   "cell_type": "code",
   "execution_count": null,
   "metadata": {
    "collapsed": true
   },
   "outputs": [],
   "source": []
  },
  {
   "cell_type": "code",
   "execution_count": null,
   "metadata": {
    "collapsed": true
   },
   "outputs": [],
   "source": [
    "t = m.data['Current']['time [s]'].reshape(-1).copy()\n",
    "i = m.data['Current']['Current [A]'].reshape(-1).copy()\n",
    "v = m.data['Voltage']['Voltage [V]'].reshape(-1).copy()\n",
    "\n",
    "fig, (ax, bx) = plt.subplots(2, 1, sharex='all')\n",
    "ax.plot(time, i * 1e9, 'o', ms=2)\n",
    "bx.plot(time, v * 1e6, 'o', ms=2)\n",
    "ax.set_ylabel('I (nA)')\n",
    "bx.set_ylabel('V (uV)')\n",
    "bx.set_xlabel('time (s)')"
   ]
  },
  {
   "cell_type": "code",
   "execution_count": null,
   "metadata": {
    "collapsed": true
   },
   "outputs": [],
   "source": []
  },
  {
   "cell_type": "code",
   "execution_count": null,
   "metadata": {
    "collapsed": true
   },
   "outputs": [],
   "source": []
  },
  {
   "cell_type": "code",
   "execution_count": null,
   "metadata": {
    "collapsed": true
   },
   "outputs": [],
   "source": []
  },
  {
   "cell_type": "code",
   "execution_count": null,
   "metadata": {
    "collapsed": true
   },
   "outputs": [],
   "source": [
    "# bias = m.data['Current']['Bias [V]'].reshape(-1).copy()\n",
    "# i = m.data['Current']['Current [A]'].reshape(-1).copy()\n",
    "# v = m.data['Voltage']['Voltage [V]'].reshape(-1).copy()\n",
    "\n",
    "# i -= i[i.size//2]\n",
    "# v -= v[v.size//2]\n",
    "# v *= 1e6\n",
    "# i *= -1e9\n",
    "\n",
    "# i_of, v_of = find_offset(i, v, smooth_win=50)\n",
    "# i -= i_of\n",
    "# v -= v_of\n",
    "\n",
    "# fig, ax = plt.subplots(1, 1)\n",
    "# ax.plot(bias * 1e3, i * 1e6, 'o', ms=1)\n",
    "\n",
    "# fig, ax = plt.subplots(1,1)\n",
    "# ax.plot(bias * 1e3, v * 1e3, 'o', ms=1)"
   ]
  },
  {
   "cell_type": "code",
   "execution_count": null,
   "metadata": {
    "collapsed": true
   },
   "outputs": [],
   "source": []
  },
  {
   "cell_type": "code",
   "execution_count": null,
   "metadata": {
    "collapsed": true
   },
   "outputs": [],
   "source": [
    "R = 15e3 + 12e3 + 2*1.7e3\n",
    "\n",
    "bias = m.data['Current']['Bias [V]'].reshape(-1).copy()\n",
    "i = m.data['Current']['Current [A]'].reshape(-1).copy()\n",
    "v = m.data['Voltage']['Voltage [V]'].reshape(-1).copy()\n",
    "\n",
    "i -= i[i.size//2]\n",
    "# v -= v[v.size//2]\n",
    "# v = bias\n",
    "# v -= i*R\n",
    "# v -= 10e-6\n",
    "v *= -1e6\n",
    "i *= 1e9\n",
    "\n",
    "i_of, v_of = find_offset(i, v, smooth_win=50)\n",
    "i -= i_of\n",
    "v -= v_of\n",
    "\n",
    "fig, ax = plt.subplots(1, 1)\n",
    "ax.plot(v, i, 'o', ms=1)\n",
    "\n",
    "# kwarg = dict( \n",
    "#     ilim=None, vlim=(162, 185),\n",
    "# #     vlim=None, ilim=(0.015, 0.2),\n",
    "# )\n",
    "# vfit, ifit, T = fit_linslope(i, v, **kwarg)\n",
    "# ax.plot(vfit, ifit, label=f'T(fit) = {T*1e3:.1f} mK')\n",
    "# if kwarg['ilim'] is not None:\n",
    "#     ax.axhline(kwarg['ilim'][0], dashes=[1,1], lw=1, color='k')\n",
    "# if kwarg['vlim'] is not None:\n",
    "#     ax.axvline(kwarg['vlim'][0], dashes=[1,1], lw=1, color='k')\n",
    "\n",
    "# ax.set_yscale('log')\n",
    "# ax.set_xlim(100, 200)\n",
    "\n",
    "ax.set_xlabel('Bias voltage (uV)')\n",
    "ax.set_ylabel('Current (nA)')\n",
    "ax.set_title(m.datafilepath, size='x-small')\n",
    "ax.legend()\n",
    "fig.savefig(m.data_prefix + \"_fit.png\", dpi=300)"
   ]
  },
  {
   "cell_type": "code",
   "execution_count": null,
   "metadata": {
    "collapsed": true
   },
   "outputs": [],
   "source": []
  },
  {
   "cell_type": "code",
   "execution_count": null,
   "metadata": {
    "collapsed": true
   },
   "outputs": [],
   "source": [
    "station.ivvi.set_dacs_zero()"
   ]
  },
  {
   "cell_type": "code",
   "execution_count": null,
   "metadata": {
    "collapsed": true
   },
   "outputs": [],
   "source": [
    "station.ivvi.dac1()"
   ]
  },
  {
   "cell_type": "code",
   "execution_count": null,
   "metadata": {
    "collapsed": true
   },
   "outputs": [],
   "source": []
  },
  {
   "cell_type": "code",
   "execution_count": null,
   "metadata": {
    "collapsed": true
   },
   "outputs": [],
   "source": [
    "### Testing: for use with sample simulator.\n",
    "\n",
    "m = IVCurve(station, namespace)\n",
    "m.start = -200\n",
    "m.stop = 200\n",
    "m.pts = 21\n",
    "m.run()\n",
    "\n",
    "bias = m.data['Current']['Bias [V]'].reshape(-1).copy()\n",
    "i = m.data['Current']['Current [A]'].reshape(-1).copy()\n",
    "v = m.data['Voltage']['Voltage [V]'].reshape(-1).copy()\n",
    "\n",
    "fig, ax = plt.subplots(1,1)\n",
    "ax.plot(bias * 1e3, i * 1e6, 'o')\n",
    "\n",
    "fig, ax = plt.subplots(1,1)\n",
    "ax.plot(bias * 1e3, v * 1e3, 'o')\n",
    "\n",
    "fig, ax = plt.subplots(1,1)\n",
    "ax.plot(v * 1e3, i * 1e6, 'o')\n",
    "\n",
    "R = 12e3\n",
    "bias2 = bias - i*R\n",
    "fig, ax = plt.subplots(1,1)\n",
    "ax.plot(bias2 * 1e3, i * 1e6, 'o')\n",
    "\n",
    "dv = v[-1] - v[0]\n",
    "di = i[-1] - i[0]\n",
    "print(dv/di)\n",
    "\n",
    "dv = bias2[-1] - bias2[0]\n",
    "di = i[-1] - i[0]\n",
    "print(dv/di)"
   ]
  },
  {
   "cell_type": "code",
   "execution_count": null,
   "metadata": {
    "collapsed": true
   },
   "outputs": [],
   "source": []
  },
  {
   "cell_type": "code",
   "execution_count": null,
   "metadata": {
    "collapsed": true
   },
   "outputs": [],
   "source": []
  },
  {
   "cell_type": "code",
   "execution_count": null,
   "metadata": {
    "collapsed": true
   },
   "outputs": [],
   "source": []
  },
  {
   "cell_type": "code",
   "execution_count": null,
   "metadata": {
    "collapsed": true
   },
   "outputs": [],
   "source": []
  },
  {
   "cell_type": "code",
   "execution_count": null,
   "metadata": {
    "collapsed": true
   },
   "outputs": [],
   "source": [
    "100e-6 / 22e3 * 1e7"
   ]
  },
  {
   "cell_type": "code",
   "execution_count": null,
   "metadata": {
    "collapsed": true
   },
   "outputs": [],
   "source": []
  }
 ],
 "metadata": {
  "kernelspec": {
   "display_name": "Python 3",
   "language": "python",
   "name": "python3"
  },
  "language_info": {
   "codemirror_mode": {
    "name": "ipython",
    "version": 3
   },
   "file_extension": ".py",
   "mimetype": "text/x-python",
   "name": "python",
   "nbconvert_exporter": "python",
   "pygments_lexer": "ipython3",
   "version": "3.6.4"
  }
 },
 "nbformat": 4,
 "nbformat_minor": 2
}
