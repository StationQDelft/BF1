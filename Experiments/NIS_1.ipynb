{
 "cells": [
  {
   "cell_type": "code",
   "execution_count": 1,
   "metadata": {
    "collapsed": true
   },
   "outputs": [],
   "source": [
    "import time\n",
    "import sys\n",
    "import os\n",
    "from collections import OrderedDict\n",
    "from importlib import reload\n",
    "from pprint import pprint\n",
    "\n",
    "import h5py\n",
    "import numpy as np\n",
    "from matplotlib import pyplot as plt\n",
    "\n",
    "%matplotlib inline"
   ]
  },
  {
   "cell_type": "code",
   "execution_count": 41,
   "metadata": {
    "collapsed": true
   },
   "outputs": [],
   "source": [
    "import qcodes\n",
    "qc = qcodes"
   ]
  },
  {
   "cell_type": "code",
   "execution_count": 15,
   "metadata": {
    "collapsed": true
   },
   "outputs": [],
   "source": [
    "from scipy import constants\n",
    "from scipy.interpolate import interp1d\n",
    "from scipy.optimize import fmin"
   ]
  },
  {
   "cell_type": "code",
   "execution_count": 4,
   "metadata": {},
   "outputs": [],
   "source": [
    "from labtools.mplplots.init_nb_plotting import *\n",
    "from labtools.mplplots import plots as mplplots\n",
    "from labtools.mplplots import tools as mpltools"
   ]
  },
  {
   "cell_type": "code",
   "execution_count": null,
   "metadata": {
    "collapsed": true
   },
   "outputs": [],
   "source": [
    "# from quantum_capacitance import rf; reload(rf)\n",
    "# from quantum_capacitance.rf import AlazarMeasurementExt, AWGMeasurement, AWG2DRamp"
   ]
  },
  {
   "cell_type": "markdown",
   "metadata": {
    "collapsed": true
   },
   "source": [
    "# Basic configuration"
   ]
  },
  {
   "cell_type": "code",
   "execution_count": 5,
   "metadata": {},
   "outputs": [
    {
     "name": "stderr",
     "output_type": "stream",
     "text": [
      "2018-02-02 11:50:16,391 : measurement : INFO : Logger set up!\n"
     ]
    },
    {
     "name": "stdout",
     "output_type": "stream",
     "text": [
      "Initialized IVVI-rack in 0.34s\n",
      "Connected to: Keysight Technologies 34465A (serial:MY57503596, firmware:A.02.14-02.40-02.14-00.49-03-01) in 0.16s\n"
     ]
    },
    {
     "name": "stderr",
     "output_type": "stream",
     "text": [
      "C:\\Users\\Administrator\\Code\\Qcodes\\qcodes\\instrument\\parameter.py:209: UserWarning: Wrapping get method, original get method will not be directly accessible. It is recommended to define get_raw in your subclass instead.\n",
      "  warnings.warn('Wrapping get method, original get method will not '\n"
     ]
    },
    {
     "name": "stdout",
     "output_type": "stream",
     "text": [
      "Connected to: Rohde&Schwarz SGS100A (serial:1416.0505k02/110525, firmware:3.1.19.15-3.50.124.67) in 0.02s\n",
      "Connected to: Rohde&Schwarz SGS100A (serial:1416.0505k02/110524, firmware:3.1.19.15-3.50.124.67) in 0.03s\n",
      "Connected to: TEKTRONIX AWG5014C (serial:B051388, firmware:SCPI:99.0 FW:4.6.0.7) in 0.05s\n",
      "Connected to: Rigol Technologies DG4062 (serial:DG4E163251554, firmware:00.01.09) in 0.05s\n"
     ]
    },
    {
     "name": "stderr",
     "output_type": "stream",
     "text": [
      "C:\\Users\\Administrator\\Code\\Qcodes\\qcodes\\instrument\\parameter.py:514: UserWarning: set_step is deprecated use step property as in `inst.step = stepvalue` instead\n",
      "  \"set_step is deprecated use step property as in `inst.step = \"\n",
      "C:\\Users\\Administrator\\Code\\Qcodes\\qcodes\\instrument\\parameter.py:526: UserWarning: set_delay is deprecated use inter_delay or post_delay property as in `inst.inter_delay = delayvalue` instead\n",
      "  \"set_delay is deprecated use inter_delay or post_delay property \"\n"
     ]
    }
   ],
   "source": [
    "%run init.py"
   ]
  },
  {
   "cell_type": "code",
   "execution_count": 6,
   "metadata": {
    "collapsed": true
   },
   "outputs": [],
   "source": [
    "station.ivvi.set_dacs_zero()"
   ]
  },
  {
   "cell_type": "code",
   "execution_count": 7,
   "metadata": {
    "collapsed": true
   },
   "outputs": [],
   "source": [
    "from stationq.data.data_storage import Data, GridData\n",
    "Data.export_spyview = True\n",
    "GridData.export_spyview = True"
   ]
  },
  {
   "cell_type": "markdown",
   "metadata": {},
   "source": [
    "# Definitions"
   ]
  },
  {
   "cell_type": "code",
   "execution_count": null,
   "metadata": {
    "collapsed": true
   },
   "outputs": [],
   "source": []
  },
  {
   "cell_type": "markdown",
   "metadata": {},
   "source": [
    "# Experiments"
   ]
  },
  {
   "cell_type": "code",
   "execution_count": null,
   "metadata": {
    "collapsed": true,
    "scrolled": false
   },
   "outputs": [],
   "source": []
  },
  {
   "cell_type": "markdown",
   "metadata": {
    "scrolled": false
   },
   "source": [
    "## DC IV traces"
   ]
  },
  {
   "cell_type": "code",
   "execution_count": 8,
   "metadata": {
    "collapsed": true
   },
   "outputs": [],
   "source": [
    "from stationq.experiment.measurement import BaseMeasurement\n",
    "\n",
    "class IVCurve(BaseMeasurement):\n",
    "    \n",
    "    start = -150.\n",
    "    stop = +150\n",
    "    pts = 151\n",
    "    \n",
    "    \n",
    "#     def postprocess(self):\n",
    "#         bias = self.data['Current']['Bias [V]'].reshape(-1) * 1e9\n",
    "#         amp = self.data['Current']['Current [A]'].reshape(-1) * 1e6      \n",
    "        \n",
    "    \n",
    "    def measure(self):\n",
    "        self.station.key1.NPLC(1)\n",
    "        vals = []\n",
    "        bias = np.linspace(self.start, self.stop, self.pts)\n",
    "\n",
    "        self.station.ivvi.dac1(bias[0])\n",
    "        time.sleep(1)\n",
    "        \n",
    "        for v in bias:\n",
    "            self.station.ivvi.dac1(v)\n",
    "            time.sleep(0.01)\n",
    "            amp = self.station.key1.volt()\n",
    "            \n",
    "            self.data.add(\n",
    "            OrderedDict({\n",
    "                'Bias' : {'value' : v * 1e-6, \"unit\": 'V', \"independent_parameter\": True},\n",
    "                'Current' : {'value' : amp * 1e-7, \"unit\": 'A'},\n",
    "                })\n",
    "            )\n",
    "        "
   ]
  },
  {
   "cell_type": "code",
   "execution_count": null,
   "metadata": {},
   "outputs": [
    {
     "name": "stderr",
     "output_type": "stream",
     "text": [
      "2018-02-02 13:26:31,273 : measurement : INFO : Ready to measure, file location: d:\\data\\2018-02\\2018-02-02\\2018-02-02_IVCurve-#0002...\n"
     ]
    }
   ],
   "source": [
    "# T = 100\n",
    "# t0 = time.time()\n",
    "# delay = 5\n",
    "\n",
    "m = IVCurve(station, namespace)\n",
    "m.start = -200\n",
    "m.stop = 200\n",
    "m.pts = 2001\n",
    "m.run()"
   ]
  },
  {
   "cell_type": "code",
   "execution_count": 63,
   "metadata": {
    "collapsed": true
   },
   "outputs": [],
   "source": [
    "def smooth(x, window_len=10):\n",
    "    s = np.r_[x[window_len-1:0:-1], x, x[-2:-window_len-1:-1]]\n",
    "    w = np.ones(window_len,'d')\n",
    "    y = np.convolve(w/w.sum(), s, mode='valid')\n",
    "    return y[int(window_len/2-1):int(-window_len/2)]\n",
    "\n",
    "\n",
    "def find_offset(i, v, i_th=0.05, delta=1e-9, max_it=100, smooth_win=50):\n",
    "    ifunc = interp1d(v, smooth(i, smooth_win))\n",
    "    v_guess = v[np.argmin(abs(i-i_th))]\n",
    "    v_pos = v_guess\n",
    "    v_neg = -v_guess\n",
    "    v_of = 0\n",
    "    i_of = 0\n",
    "    \n",
    "    for k in range(max_it):  \n",
    "        # for each iteration:\n",
    "        # 1) using current i/v offsets, find v where i exceeds the threshold (both pos and neg side)\n",
    "        # 2) update the v-offset by adding the mean of the new found values to the current one\n",
    "        # 3) update i-offset (just the function value of i at the new 'zero' v value)\n",
    "        v_pos = fmin(lambda v: abs(ifunc(v+v_of)-i_th-i_of), v_pos, disp=0, xtol=1e-8, ftol=1e-8)\n",
    "        v_neg = fmin(lambda v: abs(ifunc(v+v_of)+i_th-i_of), v_neg, disp=0, xtol=1e-8, ftol=1e-8)\n",
    "        v_of_new = v_of + (v_pos+v_neg)/2.\n",
    "\n",
    "        if abs(v_of - v_of_new) < delta:\n",
    "            v_of = v_of_new\n",
    "            i_of = ifunc(v_of)\n",
    "            break\n",
    "\n",
    "        v_of = v_of_new\n",
    "        i_of = ifunc(v_of)\n",
    "        \n",
    "        return i_of, v_of\n",
    "    \n",
    "def fit_linslope(i, v, imin=0.005, imax=0.4):\n",
    "    i2 = i[(i>imin) & (i<imax)]\n",
    "    v2 = v[(i>imin) & (i<imax)]\n",
    "    p = np.polyfit(np.log(i2), v2, 1)\n",
    "    i_linfit = np.exp((v2-p[1])/p[0])\n",
    "    T_slope = constants.e * p[0] * 1e-6 / constants.k\n",
    "    \n",
    "    return v2, i_linfit, T_slope"
   ]
  },
  {
   "cell_type": "code",
   "execution_count": 68,
   "metadata": {},
   "outputs": [
    {
     "data": {
      "text/plain": [
       "[<matplotlib.lines.Line2D at 0x25fddd99198>]"
      ]
     },
     "execution_count": 68,
     "metadata": {},
     "output_type": "execute_result"
    },
    {
     "data": {
      "image/png": "[encoded data removed]",
      "text/plain": [
       "<matplotlib.figure.Figure at 0x25fddd99518>"
      ]
     },
     "metadata": {},
     "output_type": "display_data"
    }
   ],
   "source": [
    "R = 15e3 + 12e3 + 2*1.7e3\n",
    "\n",
    "v = m.data['Current']['Bias [V]'].reshape(-1).copy()\n",
    "i = m.data['Current']['Current [A]'].reshape(-1).copy()\n",
    "\n",
    "i -= i[i.size//2]\n",
    "v -= i*R\n",
    "v *= 1e6\n",
    "i *= 1e9\n",
    "\n",
    "i_of, v_of = find_offset(i, v)\n",
    "i -= i_of\n",
    "v -= v_of\n",
    "\n",
    "# vfit, ifit, T = fit_linslope(i, v)\n",
    "\n",
    "fig, ax = plt.subplots(1, 1)\n",
    "ax.plot(v, i, 'o', ms=1)\n",
    "# ax.plot(vfit, ifit)\n",
    "# ax.set_yscale('log')\n",
    "\n",
    "# print(T)"
   ]
  },
  {
   "cell_type": "code",
   "execution_count": null,
   "metadata": {
    "collapsed": true
   },
   "outputs": [],
   "source": []
  },
  {
   "cell_type": "code",
   "execution_count": 52,
   "metadata": {},
   "outputs": [
    {
     "data": {
      "text/plain": [
       "[<matplotlib.lines.Line2D at 0x25fdace0eb8>]"
      ]
     },
     "execution_count": 52,
     "metadata": {},
     "output_type": "execute_result"
    },
    {
     "data": {
      "image/png": "[encoded data removed]",
      "text/plain": [
       "<matplotlib.figure.Figure at 0x25fdad35b00>"
      ]
     },
     "metadata": {},
     "output_type": "display_data"
    }
   ],
   "source": [
    "difg = np.diff(i)\n",
    "\n",
    "fig, ax = plt.subplots(1, 1)\n",
    "ax.plot(v[:-1], difg, 'o', ms=1)"
   ]
  },
  {
   "cell_type": "code",
   "execution_count": 58,
   "metadata": {},
   "outputs": [
    {
     "data": {
      "text/plain": [
       "[<matplotlib.lines.Line2D at 0x25fdc581d68>]"
      ]
     },
     "execution_count": 58,
     "metadata": {},
     "output_type": "execute_result"
    },
    {
     "data": {
      "image/png": "[encoded data removed]",
      "text/plain": [
       "<matplotlib.figure.Figure at 0x25fdaf39cc0>"
      ]
     },
     "metadata": {},
     "output_type": "display_data"
    }
   ],
   "source": [
    "ismooth = smooth(i, 50)\n",
    "difg = np.diff(ismooth * 1e-9) / np.diff(v * 1e-6)\n",
    "fig, ax = plt.subplots(1, 1)\n",
    "ax.plot(v[:-1], difg * 1e6, 'o', ms=1)"
   ]
  },
  {
   "cell_type": "code",
   "execution_count": null,
   "metadata": {
    "collapsed": true
   },
   "outputs": [],
   "source": []
  },
  {
   "cell_type": "code",
   "execution_count": null,
   "metadata": {
    "collapsed": true
   },
   "outputs": [],
   "source": []
  },
  {
   "cell_type": "code",
   "execution_count": null,
   "metadata": {
    "collapsed": true
   },
   "outputs": [],
   "source": []
  },
  {
   "cell_type": "code",
   "execution_count": null,
   "metadata": {
    "collapsed": true
   },
   "outputs": [],
   "source": []
  },
  {
   "cell_type": "code",
   "execution_count": null,
   "metadata": {
    "collapsed": true
   },
   "outputs": [],
   "source": []
  },
  {
   "cell_type": "code",
   "execution_count": null,
   "metadata": {
    "collapsed": true
   },
   "outputs": [],
   "source": []
  },
  {
   "cell_type": "code",
   "execution_count": null,
   "metadata": {
    "collapsed": true
   },
   "outputs": [],
   "source": []
  },
  {
   "cell_type": "code",
   "execution_count": 42,
   "metadata": {
    "collapsed": true
   },
   "outputs": [],
   "source": [
    "S1_gain = 1 # for now \n",
    "NW_gain = 1e7 # Gain of current amp in V/A\n",
    "V_range = 1e-3 #Gain factor of voltage source module in V/V\n",
    "\n",
    "NW_res = 26400 + NW_gain*1e-4+100"
   ]
  },
  {
   "cell_type": "code",
   "execution_count": 43,
   "metadata": {
    "scrolled": true
   },
   "outputs": [
    {
     "name": "stdout",
     "output_type": "stream",
     "text": [
      "27500.0\n"
     ]
    }
   ],
   "source": [
    "print(NW_res)"
   ]
  },
  {
   "cell_type": "code",
   "execution_count": null,
   "metadata": {
    "collapsed": true
   },
   "outputs": [],
   "source": []
  },
  {
   "cell_type": "code",
   "execution_count": null,
   "metadata": {
    "collapsed": true
   },
   "outputs": [],
   "source": []
  }
 ],
 "metadata": {
  "kernelspec": {
   "display_name": "Python 3",
   "language": "python",
   "name": "python3"
  },
  "language_info": {
   "codemirror_mode": {
    "name": "ipython",
    "version": 3
   },
   "file_extension": ".py",
   "mimetype": "text/x-python",
   "name": "python",
   "nbconvert_exporter": "python",
   "pygments_lexer": "ipython3",
   "version": "3.6.2"
  }
 },
 "nbformat": 4,
 "nbformat_minor": 2
}
