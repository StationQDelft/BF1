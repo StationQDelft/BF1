{
 "cells": [
  {
   "cell_type": "code",
   "execution_count": 1,
   "metadata": {
    "collapsed": true
   },
   "outputs": [],
   "source": [
    "import time\n",
    "import sys\n",
    "import os\n",
    "from collections import OrderedDict\n",
    "from importlib import reload\n",
    "from pprint import pprint\n",
    "\n",
    "import h5py\n",
    "import numpy as np\n",
    "from matplotlib import pyplot as plt\n",
    "\n",
    "%matplotlib inline"
   ]
  },
  {
   "cell_type": "code",
   "execution_count": 2,
   "metadata": {
    "collapsed": true
   },
   "outputs": [],
   "source": [
    "import qcodes\n",
    "qc = qcodes"
   ]
  },
  {
   "cell_type": "code",
   "execution_count": 3,
   "metadata": {
    "collapsed": true
   },
   "outputs": [],
   "source": [
    "from stationq.mplplots.init_nb_plotting import *\n",
    "from stationq.mplplots import plots as mplplots\n",
    "from stationq.mplplots import tools as mpltools"
   ]
  },
  {
   "cell_type": "code",
   "execution_count": 12,
   "metadata": {
    "collapsed": true
   },
   "outputs": [],
   "source": [
    "# from quantum_capacitance import rf; reload(rf)\n",
    "# from quantum_capacitance.rf import AlazarMeasurementExt, AWGMeasurement, AWG2DRamp"
   ]
  },
  {
   "cell_type": "markdown",
   "metadata": {
    "collapsed": true
   },
   "source": [
    "# Basic configuration"
   ]
  },
  {
   "cell_type": "code",
   "execution_count": 5,
   "metadata": {},
   "outputs": [
    {
     "name": "stderr",
     "output_type": "stream",
     "text": [
      "2018-01-30 14:40:32,983 : measurement : INFO : Logger set up!\n"
     ]
    },
    {
     "name": "stdout",
     "output_type": "stream",
     "text": [
      "Initialized IVVI-rack in 0.11s\n",
      "Connected to: Keysight Technologies 34465A (serial:MY57503596, firmware:A.02.14-02.40-02.14-00.49-03-01) in 0.16s\n",
      "Connected to: Rohde&Schwarz SGS100A (serial:1416.0505k02/110525, firmware:3.1.19.15-3.50.124.67) in 0.03s\n"
     ]
    },
    {
     "name": "stderr",
     "output_type": "stream",
     "text": [
      "C:\\Users\\Administrator\\Code\\Qcodes\\qcodes\\instrument\\parameter.py:209: UserWarning: Wrapping get method, original get method will not be directly accessible. It is recommended to define get_raw in your subclass instead.\n",
      "  warnings.warn('Wrapping get method, original get method will not '\n"
     ]
    },
    {
     "name": "stdout",
     "output_type": "stream",
     "text": [
      "Connected to: Rohde&Schwarz SGS100A (serial:1416.0505k02/110524, firmware:3.1.19.15-3.50.124.67) in 0.03s\n",
      "Connected to: TEKTRONIX AWG5014C (serial:B051388, firmware:SCPI:99.0 FW:4.6.0.7) in 0.06s\n",
      "Connected to: Rigol Technologies DG4062 (serial:DG4E163251554, firmware:00.01.09) in 0.04s\n"
     ]
    },
    {
     "name": "stderr",
     "output_type": "stream",
     "text": [
      "C:\\Users\\Administrator\\Code\\Qcodes\\qcodes\\instrument\\parameter.py:514: UserWarning: set_step is deprecated use step property as in `inst.step = stepvalue` instead\n",
      "  \"set_step is deprecated use step property as in `inst.step = \"\n",
      "C:\\Users\\Administrator\\Code\\Qcodes\\qcodes\\instrument\\parameter.py:526: UserWarning: set_delay is deprecated use inter_delay or post_delay property as in `inst.inter_delay = delayvalue` instead\n",
      "  \"set_delay is deprecated use inter_delay or post_delay property \"\n"
     ]
    }
   ],
   "source": [
    "%run init.py"
   ]
  },
  {
   "cell_type": "code",
   "execution_count": 6,
   "metadata": {
    "collapsed": true
   },
   "outputs": [],
   "source": [
    "from stationq.data.data_storage import Data, GridData\n",
    "Data.export_spyview = True\n",
    "GridData.export_spyview = True"
   ]
  },
  {
   "cell_type": "markdown",
   "metadata": {},
   "source": [
    "# Definitions"
   ]
  },
  {
   "cell_type": "code",
   "execution_count": null,
   "metadata": {
    "collapsed": true
   },
   "outputs": [],
   "source": []
  },
  {
   "cell_type": "markdown",
   "metadata": {},
   "source": [
    "# Experiments"
   ]
  },
  {
   "cell_type": "code",
   "execution_count": null,
   "metadata": {
    "collapsed": true,
    "scrolled": false
   },
   "outputs": [],
   "source": []
  },
  {
   "cell_type": "markdown",
   "metadata": {
    "scrolled": false
   },
   "source": [
    "## DC IV traces"
   ]
  },
  {
   "cell_type": "code",
   "execution_count": 11,
   "metadata": {},
   "outputs": [
    {
     "data": {
      "text/plain": [
       "0.006128877"
      ]
     },
     "execution_count": 11,
     "metadata": {},
     "output_type": "execute_result"
    }
   ],
   "source": [
    "station.key1.volt()"
   ]
  },
  {
   "cell_type": "code",
   "execution_count": 10,
   "metadata": {
    "collapsed": true
   },
   "outputs": [],
   "source": [
    "station.ivvi.dac1(0)"
   ]
  },
  {
   "cell_type": "code",
   "execution_count": 42,
   "metadata": {},
   "outputs": [],
   "source": [
    "from stationq.experiment.measurement import BaseMeasurement\n",
    "\n",
    "class IVCurve(BaseMeasurement):\n",
    "    \n",
    "    start = -150.\n",
    "    stop = + 150\n",
    "    pts = 1001\n",
    "    \n",
    "    def measure(self):\n",
    "        self.station.key1.NPLC(1)\n",
    "        vals = []\n",
    "        bias = np.linspace(self.start, self.stop, self.pts)\n",
    "        for v in bias:\n",
    "            self.station.ivvi.dac1(v)\n",
    "            time.sleep(0.01)\n",
    "            amp = self.station.key1.volt()\n",
    "            \n",
    "            self.data.add(\n",
    "            OrderedDict({\n",
    "                'Bias' : {'value' : v * 1e-6, \"unit\": 'V', \"independent_parameter\": True},\n",
    "                'Current' : {'value' : amp * 1e-7, \"unit\": 'A'},\n",
    "                })\n",
    "            )\n",
    "        "
   ]
  },
  {
   "cell_type": "code",
   "execution_count": 43,
   "metadata": {},
   "outputs": [
    {
     "name": "stderr",
     "output_type": "stream",
     "text": [
      "2018-01-30 16:34:21,982 : measurement : INFO : Ready to measure, file location: d:\\data\\2018-01\\2018-01-30\\2018-01-30_IVCurve-#0005...\n",
      "2018-01-30 16:36:42,074 : measurement : INFO : Measurement finished, cleaning up...\n",
      "2018-01-30 16:36:42,154 : measurement : INFO : All done!\n"
     ]
    }
   ],
   "source": [
    "T = 100\n",
    "t0 = time.time()\n",
    "delay = 5\n",
    "\n",
    "m = IVCurve(station, namespace)\n",
    "m.run()"
   ]
  },
  {
   "cell_type": "code",
   "execution_count": 44,
   "metadata": {},
   "outputs": [
    {
     "data": {
      "text/plain": [
       "[<matplotlib.lines.Line2D at 0x1abc9ab8198>]"
      ]
     },
     "execution_count": 44,
     "metadata": {},
     "output_type": "execute_result"
    },
    {
     "data": {
      "image/png": "[encoded data removed]",
      "text/plain": [
       "<matplotlib.figure.Figure at 0x1abc9ab8160>"
      ]
     },
     "metadata": {},
     "output_type": "display_data"
    }
   ],
   "source": [
    "bias = m.data['Current']['Bias [V]'].reshape(-1)\n",
    "amp = m.data['Current']['Current [A]'].reshape(-1)\n",
    "\n",
    "fig, ax = plt.subplots(1,1)\n",
    "ax.plot(bias, amp, 'o', ms=1)\n",
    "# ax.set_yscale('log')"
   ]
  },
  {
   "cell_type": "code",
   "execution_count": 41,
   "metadata": {},
   "outputs": [
    {
     "data": {
      "text/plain": [
       "37499.99999999999"
      ]
     },
     "execution_count": 41,
     "metadata": {},
     "output_type": "execute_result"
    }
   ],
   "source": [
    "300e-6 / 8e-9"
   ]
  },
  {
   "cell_type": "markdown",
   "metadata": {},
   "source": [
    "### Stability Diagram"
   ]
  },
  {
   "cell_type": "code",
   "execution_count": null,
   "metadata": {
    "collapsed": true
   },
   "outputs": [],
   "source": []
  },
  {
   "cell_type": "code",
   "execution_count": null,
   "metadata": {
    "collapsed": true
   },
   "outputs": [],
   "source": []
  },
  {
   "cell_type": "code",
   "execution_count": null,
   "metadata": {
    "collapsed": true
   },
   "outputs": [],
   "source": []
  },
  {
   "cell_type": "code",
   "execution_count": null,
   "metadata": {
    "collapsed": true
   },
   "outputs": [],
   "source": []
  },
  {
   "cell_type": "code",
   "execution_count": null,
   "metadata": {
    "collapsed": true
   },
   "outputs": [],
   "source": [
    "start = 0\n",
    "stop = 2000\n",
    "pts = 51\n",
    "navg = 1\n",
    "\n",
    "\n",
    "RF_frq = 538.2e6\n",
    "RF_pwr = -65\n",
    "t_int = 80e-6\n",
    "\n",
    "station.fg.ch1_frequency(50)\n",
    "\n",
    "# RF_frq = 1.040e9\n",
    "# RF_frq = 1.398e9\n",
    "# RF_pwr = -35\n",
    "# t_int = 1.2e-3\n",
    " \n",
    "# LO_pwr = 10 # use for IQ mixer\n",
    "LO_pwr = 22 # use for interferometer\n",
    "\n",
    "station.RF.frequency(RF_frq)\n",
    "station.RF.power(RF_pwr)\n",
    "station.LO.power(LO_pwr)\n",
    "\n",
    "# make sure we trigger externally\n",
    "namespace.ats_settings['trigger_source1'] = 'EXTERNAL'\n",
    "\n",
    "# set sampling rate of the alazar\n",
    "namespace.ats_settings['sample_rate'] = int(1e8)\n",
    "\n",
    "# awg as low sampling as possible\n",
    "namespace.awg_settings['sampling_rate'] = int(1e7)\n",
    "\n",
    "# limit awg output\n",
    "namespace.awg_settings['channel_2']['analog_amplitude'] = 0.2"
   ]
  },
  {
   "cell_type": "code",
   "execution_count": null,
   "metadata": {
    "collapsed": true
   },
   "outputs": [],
   "source": [
    "t1 = -855\n",
    "t2 = -640\n",
    "t3 = -875\n",
    "station.ivvi.dac4(t1) # T1\n",
    "station.ivvi.dac5(t2) # T2\n",
    "station.ivvi.dac6(t3) # T3\n",
    "\n",
    "t1, t2, t3 = int(station.ivvi.dac4()), int(station.ivvi.dac5()), int(station.ivvi.dac6())\n",
    "t1, t2, t3"
   ]
  },
  {
   "cell_type": "code",
   "execution_count": null,
   "metadata": {
    "collapsed": true,
    "scrolled": false
   },
   "outputs": [],
   "source": [
    "# for RF_pwr in np.array([-50., -45., -40., -35., -30., -25., -20., -15., ]):\n",
    "# for t2 in (-700.0 - np.arange(5) * 2.0):\n",
    "info = None\n",
    "# info = f'pwr={RF_pwr}'\n",
    "# info = f'IF={IF}'\n",
    "info = f't1={int(t1)}_t2={int(t2)}_t3={int(t3)}'\n",
    "\n",
    "# create measurement class and run\n",
    "m = AWGGateSweep(station, namespace, info_string=info)\n",
    "m.awg_chan(2)\n",
    "m.ramp_pts(200)\n",
    "m.max_val(0.1)\n",
    "m.ramp_down_len(1e-3)\n",
    "m.ats_int_time(t_int)\n",
    "m.navgs(navg)\n",
    "m.IF(20e6)\n",
    "\n",
    "m.sweep = [\n",
    "    (m.station.ivvi.dac7, np.linspace(start, stop, pts))\n",
    "]\n",
    "m.run()\n",
    "\n",
    "for zname in ['delta_phase', 'chanB_abs']:\n",
    "    z, [(xname, x), (yname, y)] = m.data[zname]\n",
    "    fig, ax = plt.subplots(1,1)\n",
    "    im = mplplots.ppcolormesh(ax, x, y, z.T)\n",
    "    cb = fig.colorbar(im)\n",
    "    cb.set_label(zname)\n",
    "    ax.set_xlabel(xname)\n",
    "    ax.set_ylabel(yname)\n",
    "    ax.set_title(m.data.filepath, size='x-small')\n",
    "    fig.savefig(m.metadata_prefix + f\"_{zname}.png\", dpi=300, transparent=False)"
   ]
  },
  {
   "cell_type": "code",
   "execution_count": null,
   "metadata": {
    "collapsed": true
   },
   "outputs": [],
   "source": [
    "station.ivvi.set_dacs_zero()"
   ]
  },
  {
   "cell_type": "code",
   "execution_count": null,
   "metadata": {},
   "outputs": [],
   "source": [
    "ivvi.set_dacs_zero()"
   ]
  },
  {
   "cell_type": "code",
   "execution_count": null,
   "metadata": {
    "collapsed": true
   },
   "outputs": [],
   "source": []
  },
  {
   "cell_type": "code",
   "execution_count": null,
   "metadata": {
    "collapsed": true
   },
   "outputs": [],
   "source": [
    "80 * 90 * 2 * 80 * 100 * 2 * 2 * 1e-6"
   ]
  },
  {
   "cell_type": "code",
   "execution_count": null,
   "metadata": {
    "collapsed": true
   },
   "outputs": [],
   "source": []
  }
 ],
 "metadata": {
  "kernelspec": {
   "display_name": "Python 3",
   "language": "python",
   "name": "python3"
  },
  "language_info": {
   "codemirror_mode": {
    "name": "ipython",
    "version": 3
   },
   "file_extension": ".py",
   "mimetype": "text/x-python",
   "name": "python",
   "nbconvert_exporter": "python",
   "pygments_lexer": "ipython3",
   "version": "3.6.2"
  }
 },
 "nbformat": 4,
 "nbformat_minor": 2
}
