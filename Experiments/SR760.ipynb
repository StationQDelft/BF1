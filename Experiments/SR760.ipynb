{
 "cells": [
  {
   "cell_type": "code",
   "execution_count": 1,
   "metadata": {},
   "outputs": [],
   "source": [
    "%matplotlib inline\n",
    "\n",
    "import numpy as np\n",
    "from matplotlib import pyplot as plt\n",
    "\n",
    "import visa\n",
    "from importlib import reload\n",
    "from pytopo.mplplots.init_nb_plotting import *"
   ]
  },
  {
   "cell_type": "code",
   "execution_count": null,
   "metadata": {},
   "outputs": [],
   "source": []
  },
  {
   "cell_type": "code",
   "execution_count": 2,
   "metadata": {},
   "outputs": [
    {
     "data": {
      "text/plain": [
       "('TCPIP0::169.254.2.20::inst0::INSTR',\n",
       " 'TCPIP0::169.254.234.107::inst0::INSTR',\n",
       " 'TCPIP0::K-34465A-03135.local::hislip0::INSTR',\n",
       " 'TCPIP0::K-34465A-03135.local::inst0::INSTR',\n",
       " 'TCPIP0::K-34465A-03556.local::hislip0::INSTR',\n",
       " 'TCPIP0::K-34465A-03556.local::inst0::INSTR',\n",
       " 'ASRL1::INSTR',\n",
       " 'ASRL3::INSTR',\n",
       " 'ASRL5::INSTR',\n",
       " 'GPIB0::10::INSTR')"
      ]
     },
     "execution_count": 2,
     "metadata": {},
     "output_type": "execute_result"
    }
   ],
   "source": [
    "rm = visa.ResourceManager()\n",
    "rm.list_resources()"
   ]
  },
  {
   "cell_type": "code",
   "execution_count": 5,
   "metadata": {
    "scrolled": true
   },
   "outputs": [
    {
     "ename": "AttributeError",
     "evalue": "__enter__",
     "output_type": "error",
     "traceback": [
      "\u001b[1;31m---------------------------------------------------------------------------\u001b[0m",
      "\u001b[1;31mAttributeError\u001b[0m                            Traceback (most recent call last)",
      "\u001b[1;32m<ipython-input-5-4e6156c5a41c>\u001b[0m in \u001b[0;36m<module>\u001b[1;34m()\u001b[0m\n\u001b[1;32m----> 1\u001b[1;33m \u001b[1;32mwith\u001b[0m \u001b[0mrm\u001b[0m\u001b[1;33m.\u001b[0m\u001b[0mopen_resource\u001b[0m\u001b[1;33m(\u001b[0m\u001b[1;34m'GPIB0::10::INSTR'\u001b[0m\u001b[1;33m)\u001b[0m \u001b[1;32mas\u001b[0m \u001b[0msr\u001b[0m\u001b[1;33m:\u001b[0m\u001b[1;33m\u001b[0m\u001b[0m\n\u001b[0m\u001b[0;32m      2\u001b[0m     \u001b[0msr\u001b[0m\u001b[1;33m.\u001b[0m\u001b[0mquery\u001b[0m\u001b[1;33m(\u001b[0m\u001b[1;34mr\"*IDN?\\n\"\u001b[0m\u001b[1;33m)\u001b[0m\u001b[1;33m\u001b[0m\u001b[0m\n",
      "\u001b[1;31mAttributeError\u001b[0m: __enter__"
     ]
    }
   ],
   "source": [
    "with rm.open_resource('GPIB0::10::INSTR') as sr:\n",
    "    sr.query(r\"*IDN?\\n\")"
   ]
  },
  {
   "cell_type": "code",
   "execution_count": 6,
   "metadata": {},
   "outputs": [],
   "source": [
    "sr760 = rm.open_resource('GPIB0::10::INSTR')\n",
    "\n",
    "# \n",
    "# sr760.query(r\"*IDN?\\n\")"
   ]
  },
  {
   "cell_type": "code",
   "execution_count": 7,
   "metadata": {},
   "outputs": [],
   "source": [
    "sr760.timeout = 30000"
   ]
  },
  {
   "cell_type": "code",
   "execution_count": null,
   "metadata": {},
   "outputs": [],
   "source": []
  },
  {
   "cell_type": "code",
   "execution_count": 140,
   "metadata": {},
   "outputs": [],
   "source": [
    "sr760.write(r\"SPAN 11\\n\")\n",
    "sr760.write(r\"MEAS 1,0\\n\")\n",
    "sr760.write(r\"DISP 1,0\\n\")\n",
    "sr760.write(r\"UNIT 1,1\\n\")\n",
    "sr760.write(r\"VOEU 1,0\\n\")\n",
    "sr760.write(r\"STRF 5\\n\")\n",
    "\n",
    "fvals = []\n",
    "for i in range(400):\n",
    "    fvals.append(float(sr760.query(r\"BVAL? 1,{:d}\\n\".format(i).strip())))\n",
    "fvals = np.array(fvals)"
   ]
  },
  {
   "cell_type": "code",
   "execution_count": 141,
   "metadata": {},
   "outputs": [],
   "source": [
    "sr760.write(r\"ARNG 1\")\n",
    "\n",
    "data = sr760.query(r\"SPEC? 1\\n\").strip()\n",
    "data = np.array([float(d) for d in data.split(',')[:-1]])"
   ]
  },
  {
   "cell_type": "code",
   "execution_count": 147,
   "metadata": {},
   "outputs": [
    {
     "data": {
      "text/plain": [
       "(0, 100)"
      ]
     },
     "execution_count": 147,
     "metadata": {},
     "output_type": "execute_result"
    },
    {
     "data": {
      "image/png": "[encoded data removed]",
      "text/plain": [
       "<matplotlib.figure.Figure at 0x20e7910c3c8>"
      ]
     },
     "metadata": {},
     "output_type": "display_data"
    }
   ],
   "source": [
    "fig, ax = plt.subplots(1,1)\n",
    "ax.plot(fvals, data * 1e6)\n",
    "\n",
    "ax.set_xlabel('Frequency (Hz)')\n",
    "ax.set_ylabel('RMS Voltage (uV)')\n",
    "ax.grid(dashes=[2,2])\n",
    "ax.set_xlim([20, 40])\n",
    "ax.set_ylim([0, 100])"
   ]
  },
  {
   "cell_type": "code",
   "execution_count": null,
   "metadata": {},
   "outputs": [],
   "source": [
    "\n",
    "\n",
    "\n"
   ]
  }
 ],
 "metadata": {
  "kernelspec": {
   "display_name": "Python 3",
   "language": "python",
   "name": "python3"
  },
  "language_info": {
   "codemirror_mode": {
    "name": "ipython",
    "version": 3
   },
   "file_extension": ".py",
   "mimetype": "text/x-python",
   "name": "python",
   "nbconvert_exporter": "python",
   "pygments_lexer": "ipython3",
   "version": "3.6.5"
  }
 },
 "nbformat": 4,
 "nbformat_minor": 2
}
