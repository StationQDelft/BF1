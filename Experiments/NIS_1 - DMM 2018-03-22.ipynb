{
 "cells": [
  {
   "cell_type": "code",
   "execution_count": 1,
   "metadata": {
    "collapsed": true
   },
   "outputs": [],
   "source": [
    "import time\n",
    "import sys\n",
    "import os\n",
    "from collections import OrderedDict\n",
    "from importlib import reload\n",
    "from pprint import pprint\n",
    "\n",
    "import h5py\n",
    "import numpy as np\n",
    "from matplotlib import pyplot as plt\n",
    "\n",
    "%matplotlib inline"
   ]
  },
  {
   "cell_type": "code",
   "execution_count": 2,
   "metadata": {
    "collapsed": true
   },
   "outputs": [],
   "source": [
    "import qcodes\n",
    "qc = qcodes"
   ]
  },
  {
   "cell_type": "code",
   "execution_count": 3,
   "metadata": {
    "collapsed": true
   },
   "outputs": [],
   "source": [
    "from scipy import constants\n",
    "from scipy.interpolate import interp1d\n",
    "from scipy.optimize import fmin"
   ]
  },
  {
   "cell_type": "code",
   "execution_count": 4,
   "metadata": {
    "collapsed": true
   },
   "outputs": [],
   "source": [
    "from labtools.mplplots import init_nb_plotting\n",
    "reload(init_nb_plotting)\n",
    "from labtools.mplplots.init_nb_plotting import *\n",
    "\n",
    "from labtools.mplplots import plots as mplplots\n",
    "from labtools.mplplots import tools as mpltools"
   ]
  },
  {
   "cell_type": "code",
   "execution_count": null,
   "metadata": {
    "collapsed": true
   },
   "outputs": [],
   "source": [
    "# from quantum_capacitance import rf; reload(rf)\n",
    "# from quantum_capacitance.rf import AlazarMeasurementExt, AWGMeasurement, AWG2DRamp"
   ]
  },
  {
   "cell_type": "markdown",
   "metadata": {
    "collapsed": true
   },
   "source": [
    "# Basic configuration"
   ]
  },
  {
   "cell_type": "code",
   "execution_count": 6,
   "metadata": {},
   "outputs": [
    {
     "name": "stderr",
     "output_type": "stream",
     "text": [
      "2018-03-22 17:35:57,343 : measurement : INFO : Logger set up!\n"
     ]
    },
    {
     "name": "stdout",
     "output_type": "stream",
     "text": [
      "Instrument ivvi already exists.\n"
     ]
    },
    {
     "name": "stderr",
     "output_type": "stream",
     "text": [
      "C:\\Users\\Administrator\\Code\\Qcodes\\qcodes\\instrument\\parameter.py:209: UserWarning: Wrapping get method, original get method will not be directly accessible. It is recommended to define get_raw in your subclass instead.\n",
      "  warnings.warn('Wrapping get method, original get method will not '\n",
      "C:\\Users\\Administrator\\Code\\Qcodes\\qcodes\\instrument\\parameter.py:514: UserWarning: set_step is deprecated use step property as in `inst.step = stepvalue` instead\n",
      "  \"set_step is deprecated use step property as in `inst.step = \"\n",
      "C:\\Users\\Administrator\\Code\\Qcodes\\qcodes\\instrument\\parameter.py:526: UserWarning: set_delay is deprecated use inter_delay or post_delay property as in `inst.inter_delay = delayvalue` instead\n",
      "  \"set_delay is deprecated use inter_delay or post_delay property \"\n"
     ]
    },
    {
     "name": "stdout",
     "output_type": "stream",
     "text": [
      "Connected to: Keysight Technologies 34465A (serial:MY57503556, firmware:A.02.14-02.40-02.14-00.49-03-01) in 0.38s\n",
      "Instrument key2 already exists.\n"
     ]
    }
   ],
   "source": [
    "%run init.py"
   ]
  },
  {
   "cell_type": "code",
   "execution_count": 219,
   "metadata": {},
   "outputs": [],
   "source": [
    "station.ivvi.set_dacs_zero()"
   ]
  },
  {
   "cell_type": "code",
   "execution_count": 9,
   "metadata": {},
   "outputs": [],
   "source": [
    "from pytopo.data.data_storage import Data, GridData\n",
    "Data.export_spyview = True\n",
    "GridData.export_spyview = True"
   ]
  },
  {
   "cell_type": "code",
   "execution_count": null,
   "metadata": {
    "collapsed": true
   },
   "outputs": [],
   "source": []
  },
  {
   "cell_type": "code",
   "execution_count": 10,
   "metadata": {},
   "outputs": [
    {
     "data": {
      "text/plain": [
       "-5.73160462e-05"
      ]
     },
     "execution_count": 10,
     "metadata": {},
     "output_type": "execute_result"
    }
   ],
   "source": [
    "station.key1.volt()"
   ]
  },
  {
   "cell_type": "code",
   "execution_count": 11,
   "metadata": {},
   "outputs": [
    {
     "data": {
      "text/plain": [
       "10.0"
      ]
     },
     "execution_count": 11,
     "metadata": {},
     "output_type": "execute_result"
    }
   ],
   "source": [
    "station.key1.NPLC()"
   ]
  },
  {
   "cell_type": "code",
   "execution_count": 12,
   "metadata": {},
   "outputs": [
    {
     "data": {
      "text/plain": [
       "-0.00504753149"
      ]
     },
     "execution_count": 12,
     "metadata": {},
     "output_type": "execute_result"
    }
   ],
   "source": [
    "station.key2.volt()"
   ]
  },
  {
   "cell_type": "code",
   "execution_count": 15,
   "metadata": {},
   "outputs": [],
   "source": [
    "from pytopo.qctools.instruments import create_inst\n",
    "from qcodes.instrument_drivers.Keysight.Keysight_34465A import Keysight_34465A\n",
    "from visa import VisaIOError\n",
    "\n",
    "def check_keys(ivvi):\n",
    "    key1 = create_inst(Keysight_34465A, \"key1\", \"USB0::0x2A8D::0x0101::MY57503556::INSTR\", force_new_instance=True)\n",
    "    key2 = create_inst(Keysight_34465A, \"key2\", \"USB0::0x2A8D::0x0101::MY57503135::INSTR\", force_new_instance=True)\n",
    "    station = qc.Station(ivvi, key1, key2)\n",
    "    return station"
   ]
  },
  {
   "cell_type": "code",
   "execution_count": null,
   "metadata": {
    "collapsed": true
   },
   "outputs": [],
   "source": [
    "station = check_keys(station.ivvi)"
   ]
  },
  {
   "cell_type": "markdown",
   "metadata": {},
   "source": [
    "# Definitions"
   ]
  },
  {
   "cell_type": "code",
   "execution_count": null,
   "metadata": {
    "collapsed": true
   },
   "outputs": [],
   "source": []
  },
  {
   "cell_type": "markdown",
   "metadata": {},
   "source": [
    "# Experiments"
   ]
  },
  {
   "cell_type": "code",
   "execution_count": null,
   "metadata": {
    "collapsed": true,
    "scrolled": false
   },
   "outputs": [],
   "source": []
  },
  {
   "cell_type": "markdown",
   "metadata": {
    "scrolled": false
   },
   "source": [
    "## DC IV traces"
   ]
  },
  {
   "cell_type": "code",
   "execution_count": 194,
   "metadata": {
    "collapsed": true
   },
   "outputs": [],
   "source": [
    "from pytopo.experiment.measurement import BaseMeasurement\n",
    "\n",
    "class IVCurve(BaseMeasurement):\n",
    "    \n",
    "    start = -150.\n",
    "    stop = +150\n",
    "    pts = 151\n",
    "    nplc = 1\n",
    "    delay = 0.001\n",
    "        \n",
    "\n",
    "    def measure(self):\n",
    "        try:\n",
    "            self.station.key1.NPLC(self.nplc)\n",
    "            self.station.key2.NPLC(self.nplc)\n",
    "        except (VisaIOError, AttributeError):\n",
    "            self.station = check_keys(self.station.ivvi)\n",
    "            self.station.key1.NPLC(self.nplc)\n",
    "            self.station.key2.NPLC(self.nplc)\n",
    "        \n",
    "        vals = []\n",
    "        bias = np.linspace(self.start, self.stop, self.pts)\n",
    "\n",
    "        self.station.ivvi.dac1(bias[0])\n",
    "        time.sleep(1)\n",
    "\n",
    "        t0 = time.time()\n",
    "        \n",
    "        for i, v in enumerate(bias):\n",
    "            \n",
    "            if not i%50:\n",
    "                t1 = time.time() - t0\n",
    "                print(f\"Point {i}, t = {t1}s ...\")\n",
    "            \n",
    "            self.station.ivvi.dac1(v)\n",
    "            time.sleep(self.delay)\n",
    "            try:\n",
    "                amp = self.station.key1.volt()\n",
    "                volt = self.station.key2.volt()\n",
    "            except (VisaIOError, AttributeError):\n",
    "                self.station = check_keys(self.station.ivvi)\n",
    "                amp = self.station.key1.volt()\n",
    "                volt = self.station.key2.volt()\n",
    "            \n",
    "            self.data.add(\n",
    "            OrderedDict({\n",
    "                'Bias' : {'value' : v * 1e-6, \"unit\": 'V', \"independent_parameter\": True},\n",
    "                'Current' : {'value' : amp * 1e-7, \"unit\": 'A'},\n",
    "                'Voltage' : {'value' : volt, 'unit' : 'V'},\n",
    "                })\n",
    "            )\n",
    "            \n",
    "            \n",
    "\n",
    "# class IMonitor(BaseMeasurement):\n",
    "    \n",
    "#     npts = 100\n",
    "#     nplc = 10\n",
    "#     delay = 0.01\n",
    "#     bias = 170  \n",
    "        \n",
    "#     def measure(self):\n",
    "#         try:\n",
    "#             self.station.key1.NPLC(self.nplc)\n",
    "#             self.station.key2.NPLC(self.nplc)\n",
    "#         except (VisaIOError, AttributeError):\n",
    "#             self.station = check_keys(self.station.ivvi)\n",
    "#             self.station.key1.NPLC(self.nplc)\n",
    "#             self.station.key2.NPLC(self.nplc)\n",
    "        \n",
    "#         self.station.ivvi.dac1(self.bias)\n",
    "#         time.sleep(1)\n",
    "#         t0 = time.time()\n",
    "        \n",
    "#         for i in range(self.npts):\n",
    "#             time.sleep(self.delay)\n",
    "            \n",
    "#             try:\n",
    "#                 amp = self.station.key1.volt()\n",
    "#                 volt = self.station.key2.volt()\n",
    "#             except (VisaIOError, AttributeError):\n",
    "#                 self.station = check_keys(self.station.ivvi)\n",
    "#                 amp = self.station.key1.volt()\n",
    "#                 volt = self.station.key2.volt()\n",
    "            \n",
    "#             self.data.add(\n",
    "#                 OrderedDict({\n",
    "#                     'time' : {'value' : time.time() - t0, \"unit\": 's', \"independent_parameter\": True},\n",
    "#                     'Current' : {'value' : amp * 1e-7, \"unit\": 'A'},\n",
    "#                     'Voltage' : {'value' : volt, 'unit' : 'V'},\n",
    "#                     })\n",
    "#             )"
   ]
  },
  {
   "cell_type": "code",
   "execution_count": 187,
   "metadata": {},
   "outputs": [],
   "source": [
    "def smooth(x, window_len=10):\n",
    "    s = np.r_[x[window_len-1:0:-1], x, x[-2:-window_len-1:-1]]\n",
    "    w = np.ones(window_len,'d')\n",
    "    y = np.convolve(w/w.sum(), s, mode='valid')\n",
    "    return y[int(window_len/2-1):int(-window_len/2)]\n",
    "\n",
    "\n",
    "def process_data(bias, current, voltage, R, smooth_win=50):    \n",
    "    bias *= 1e6\n",
    "    voltage *= 1e6\n",
    "    voltage -= voltage.mean()\n",
    "    current *= 1e9\n",
    "    current -= current[current.size//2]\n",
    "\n",
    "    iof, bof = find_offset(current, bias, smooth_win=smooth_win)\n",
    "    print(iof, bof)\n",
    "    bias -= bof\n",
    "    \n",
    "    bias -= current * R * 1e-3\n",
    "\n",
    "    _, vof = find_offset(current, voltage, smooth_win=smooth_win)\n",
    "    voltage -= vof\n",
    "#     current -= iof\n",
    "    print(vof)\n",
    "    \n",
    "    return bias, current, voltage\n",
    "\n",
    "\n",
    "def find_offset(i, v, i_th=0.05, delta=1e-9, max_it=100, smooth_win=50):\n",
    "    ifunc = interp1d(v, smooth(i, smooth_win), fill_value='extrapolate')\n",
    "    v_guess = v[np.argmin(abs(i-i_th))] \n",
    "#     print(v_guess)\n",
    "    v_pos = v_guess\n",
    "    v_neg = -v_guess\n",
    "    v_of = 0\n",
    "    i_of = 0\n",
    "    \n",
    "    for k in range(max_it):\n",
    "        print(k, v_of, i_of)\n",
    "        \n",
    "        # for each iteration:\n",
    "        # 1) using current i/v offsets, find v where i exceeds the threshold (both pos and neg side)\n",
    "        # 2) update the v-offset by adding the mean of the new found values to the current one\n",
    "        # 3) update i-offset (just the function value of i at the new 'zero' v value)\n",
    "        v_pos = fmin(lambda v: abs(ifunc(v+v_of)-i_th-i_of), v_pos, disp=0, xtol=1e-8, ftol=1e-8)\n",
    "        v_neg = fmin(lambda v: abs(ifunc(v+v_of)+i_th-i_of), v_neg, disp=0, xtol=1e-8, ftol=1e-8)\n",
    "        v_of_new = v_of + (v_pos+v_neg)/2.\n",
    "        \n",
    "        if abs(v_of - v_of_new) < delta:\n",
    "            v_of = v_of_new\n",
    "            i_of = ifunc(v_of)\n",
    "            break\n",
    "\n",
    "        v_of = v_of_new\n",
    "        i_of = ifunc(v_of)\n",
    "        \n",
    "        return i_of, v_of\n",
    "    \n",
    "\n",
    "def fit_linslope(i, v, ilim=None, vlim=None):  \n",
    "    if ilim is not None:\n",
    "        fltr = (i>ilim[0]) & (i<ilim[1])\n",
    "    elif vlim is not None:\n",
    "        fltr = (v>vlim[0]) & (v<vlim[1])\n",
    "    else:\n",
    "        fltr = slice(None, None, None)\n",
    "        \n",
    "    i2 = i[fltr]\n",
    "    v2 = v[fltr]\n",
    "    \n",
    "    p = np.polyfit(np.log(i2[i2>0]), v2[i2>0], 1)\n",
    "    i_linfit = np.exp((v2-p[1])/p[0])\n",
    "    T_slope = constants.e * p[0] * 1e-6 / constants.k\n",
    "    \n",
    "    return v2, i_linfit, T_slope"
   ]
  },
  {
   "cell_type": "code",
   "execution_count": null,
   "metadata": {
    "collapsed": true
   },
   "outputs": [],
   "source": []
  },
  {
   "cell_type": "code",
   "execution_count": 210,
   "metadata": {},
   "outputs": [
    {
     "name": "stderr",
     "output_type": "stream",
     "text": [
      "2018-03-23 16:22:55,267 : measurement : INFO : Ready to measure, file location: d:\\data\\2018-03\\2018-03-23\\2018-03-23_IVCurve-#0005__NIS-1_250pts_only_positive_10NPLC...\n"
     ]
    },
    {
     "name": "stdout",
     "output_type": "stream",
     "text": [
      "Point 0, t = 0.0s ...\n",
      "Point 50, t = 43.79679536819458s ...\n",
      "Point 100, t = 87.59215140342712s ...\n",
      "Point 150, t = 131.64975094795227s ...\n",
      "Point 200, t = 175.7569136619568s ...\n",
      "Point 250, t = 219.775803565979s ...\n"
     ]
    },
    {
     "name": "stderr",
     "output_type": "stream",
     "text": [
      "2018-03-23 16:26:38,480 : measurement : INFO : Measurement finished, cleaning up...\n",
      "2018-03-23 16:26:38,661 : measurement : INFO : All done!\n"
     ]
    },
    {
     "data": {
      "image/png": "[encoded data removed]",
      "text/plain": [
       "<matplotlib.figure.Figure at 0x12b5109c898>"
      ]
     },
     "metadata": {},
     "output_type": "display_data"
    }
   ],
   "source": [
    "# T = 100\n",
    "# t0 = time.time()\n",
    "# delay = 5\n",
    "\n",
    "t0 = time.time()\n",
    "idx = 0\n",
    "\n",
    "# while True:\n",
    "\n",
    "#     for avgs in [201, 401, 801, 1601]:\n",
    "    \n",
    "### measure IV trace\n",
    "m = IVCurve(station, namespace, info_string=f'_NIS-1_250pts_only_positive_10NPLC')\n",
    "m.start = 0\n",
    "m.stop = 250\n",
    "m.pts = 251\n",
    "m.nplc = 10\n",
    "m.delay = 0.01\n",
    "m.run()\n",
    "\n",
    "bias = m.data['Current']['Bias [V]'].reshape(-1).copy()\n",
    "i = m.data['Current']['Current [A]'].reshape(-1).copy()\n",
    "v = m.data['Voltage']['Voltage [V]'].reshape(-1).copy()\n",
    "\n",
    "i -= i[i.size//2]\n",
    "bias *= 1e6\n",
    "i *= 1e9\n",
    "\n",
    "fig, ax = plt.subplots(1, 1)\n",
    "ax.plot(bias, i, 'o', ms=1)\n",
    "ax.set_xlabel('Bias voltage (uV)')\n",
    "ax.set_ylabel('Current (nA)')\n",
    "ax.set_title(m.datafilepath, size='x-small')\n",
    "ax.grid(dashes=[2,2])\n",
    "\n",
    "\n",
    "# bias = m.data['Current']['Bias [V]'].reshape(-1).copy()\n",
    "# i = m.data['Current']['Current [A]'].reshape(-1).copy()\n",
    "# v = m.data['Voltage']['Voltage [V]'].reshape(-1).copy()# fig.savefig(m.data_prefix + \".png\", dpi=300)"
   ]
  },
  {
   "cell_type": "code",
   "execution_count": 211,
   "metadata": {},
   "outputs": [
    {
     "name": "stdout",
     "output_type": "stream",
     "text": [
      "0 0 0\n",
      "[-0.00134743] [ 0.15691737]\n",
      "0 0 0\n",
      "[-4.46383737]\n"
     ]
    },
    {
     "data": {
      "image/png": "[encoded data removed]",
      "text/plain": [
       "<matplotlib.figure.Figure at 0x12b51d3eeb8>"
      ]
     },
     "metadata": {},
     "output_type": "display_data"
    },
    {
     "data": {
      "image/png": "[encoded data removed]",
      "text/plain": [
       "<matplotlib.figure.Figure at 0x12b510070b8>"
      ]
     },
     "metadata": {},
     "output_type": "display_data"
    }
   ],
   "source": [
    "R = 12e3 + 2*(5e3  + 1.7e3)\n",
    "\n",
    "bias = m.data['Current']['Bias [V]'].reshape(-1).copy()\n",
    "i = m.data['Current']['Current [A]'].reshape(-1).copy()\n",
    "v = m.data['Voltage']['Voltage [V]'].reshape(-1).copy()\n",
    "\n",
    "bias2, i2, v2 = process_data(bias, i, v, R, smooth_win=10)\n",
    "\n",
    "fig, ax = plt.subplots(1, 1)\n",
    "ax.plot(bias2, i2, 'o', ms=1)\n",
    "ax.set_xlabel('Bias voltage (uV)')\n",
    "ax.set_ylabel('Current (nA)')\n",
    "ax.set_title(m.datafilepath, size='x-small')\n",
    "ax.grid(dashes=[2,2])\n",
    "\n",
    "fig, ax = plt.subplots(1, 1)\n",
    "ax.plot(v2, i2, 'o', ms=1)\n",
    "ax.set_xlabel('Bias voltage (uV)')\n",
    "ax.set_ylabel('Current (nA)')\n",
    "ax.set_title(m.datafilepath, size='x-small')\n",
    "ax.grid(dashes=[2,2])"
   ]
  },
  {
   "cell_type": "code",
   "execution_count": 218,
   "metadata": {},
   "outputs": [
    {
     "name": "stdout",
     "output_type": "stream",
     "text": [
      "0.0847222234337\n"
     ]
    },
    {
     "data": {
      "image/png": "[encoded data removed]",
      "text/plain": [
       "<matplotlib.figure.Figure at 0x12b510b5780>"
      ]
     },
     "metadata": {},
     "output_type": "display_data"
    }
   ],
   "source": [
    "b_0, i_0 = bias2[bias2.size//2:], i2[i2.size//2:]\n",
    "b_1, i_1 = -bias2[:bias2.size//2], -i2[:i2.size//2]\n",
    "b_2, i_2 = v2[v2.size//2:], i2[i2.size//2:]\n",
    "b_3, i_3 = -v2[:v2.size//2], -i2[:i2.size//2]\n",
    "\n",
    "\n",
    "fig, ax = plt.subplots(1, 1)\n",
    "\n",
    "ax.plot(b_0, i_0, 'ko', ms=2)\n",
    "# ax.plot(b_1, i_1, 'ro', ms=2)\n",
    "# ax.plot(b_2, i_2, 'bo', ms=2)\n",
    "# ax.plot(b_3, i_3, 'go', ms=2)\n",
    "\n",
    "bfit_0, ifit_0, T_0 = fit_linslope(i_0, b_0, vlim=(160, 200))\n",
    "ax.plot(bfit_0, ifit_0, 'k-')\n",
    "print(T_0)\n",
    "\n",
    "# bfit_1, ifit_1, T_1 = fit_linslope(i_1, b_1, vlim=(160, 200))\n",
    "# ax.plot(bfit_1, ifit_1, 'r-')\n",
    "# print(T_1)\n",
    "\n",
    "# bfit_2, ifit_2, T_2 = fit_linslope(i_2, b_2, vlim=(160, 200))\n",
    "# ax.plot(bfit_2, ifit_2, 'b-')\n",
    "# print(T_2)\n",
    "\n",
    "# bfit_3, ifit_3, T_3 = fit_linslope(i_3, b_3, vlim=(160, 200))\n",
    "# ax.plot(bfit_3, ifit_3, 'b-')\n",
    "# print(T_3)\n",
    "\n",
    "ax.set_xlabel('Bias voltage (uV)')\n",
    "ax.set_ylabel('Current (nA)')\n",
    "ax.set_yscale('log')\n",
    "\n",
    "# ax.set_xlim(100, 220)\n",
    "ax.set_ylim(1e-4, 1)\n",
    "\n",
    "ax.set_title(m.datafilepath, size='x-small')\n",
    "ax.grid(dashes=[2,2])"
   ]
  },
  {
   "cell_type": "code",
   "execution_count": null,
   "metadata": {
    "collapsed": true
   },
   "outputs": [],
   "source": []
  },
  {
   "cell_type": "code",
   "execution_count": null,
   "metadata": {
    "collapsed": true
   },
   "outputs": [],
   "source": []
  },
  {
   "cell_type": "code",
   "execution_count": null,
   "metadata": {
    "collapsed": true
   },
   "outputs": [],
   "source": []
  },
  {
   "cell_type": "code",
   "execution_count": null,
   "metadata": {
    "collapsed": true
   },
   "outputs": [],
   "source": []
  },
  {
   "cell_type": "code",
   "execution_count": null,
   "metadata": {
    "collapsed": true
   },
   "outputs": [],
   "source": []
  },
  {
   "cell_type": "code",
   "execution_count": null,
   "metadata": {
    "collapsed": true
   },
   "outputs": [],
   "source": []
  },
  {
   "cell_type": "code",
   "execution_count": 192,
   "metadata": {},
   "outputs": [
    {
     "data": {
      "text/plain": [
       "500.0"
      ]
     },
     "execution_count": 192,
     "metadata": {},
     "output_type": "execute_result"
    }
   ],
   "source": [
    "100 * 1e-3 * 5000"
   ]
  },
  {
   "cell_type": "code",
   "execution_count": 193,
   "metadata": {},
   "outputs": [
    {
     "data": {
      "text/plain": [
       "49"
      ]
     },
     "execution_count": 193,
     "metadata": {},
     "output_type": "execute_result"
    }
   ],
   "source": [
    "49%50"
   ]
  },
  {
   "cell_type": "code",
   "execution_count": null,
   "metadata": {
    "collapsed": true
   },
   "outputs": [],
   "source": []
  }
 ],
 "metadata": {
  "kernelspec": {
   "display_name": "Python 3",
   "language": "python",
   "name": "python3"
  },
  "language_info": {
   "codemirror_mode": {
    "name": "ipython",
    "version": 3
   },
   "file_extension": ".py",
   "mimetype": "text/x-python",
   "name": "python",
   "nbconvert_exporter": "python",
   "pygments_lexer": "ipython3",
   "version": "3.6.2"
  }
 },
 "nbformat": 4,
 "nbformat_minor": 2
}
