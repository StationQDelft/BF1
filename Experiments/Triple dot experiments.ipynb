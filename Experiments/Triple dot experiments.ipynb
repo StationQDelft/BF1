{
 "cells": [
  {
   "cell_type": "markdown",
   "metadata": {},
   "source": [
    "# Set up NB"
   ]
  },
  {
   "cell_type": "code",
   "execution_count": null,
   "metadata": {
    "ExecuteTime": {
     "end_time": "2018-07-18T19:00:55.483658Z",
     "start_time": "2018-07-18T19:00:53.983718Z"
    }
   },
   "outputs": [],
   "source": [
    "# %gui qt\n",
    "%matplotlib notebook\n",
    "\n",
    "import sys\n",
    "import os\n",
    "import time\n",
    "import logging\n",
    "from importlib import reload\n",
    "\n",
    "import numpy as np\n",
    "from matplotlib import pyplot as plt"
   ]
  },
  {
   "cell_type": "code",
   "execution_count": null,
   "metadata": {
    "ExecuteTime": {
     "end_time": "2018-07-19T13:24:05.242082Z",
     "start_time": "2018-07-19T13:24:05.202112Z"
    }
   },
   "outputs": [],
   "source": [
    "import qcodes as qc\n",
    "\n",
    "from qcodes.instrument.parameter import Parameter\n",
    "\n",
    "from pytopo.mplplots import init_nb_plotting; reload(init_nb_plotting)\n",
    "from pytopo.mplplots.init_nb_plotting import *\n",
    "from pytopo.mplplots import plots as mplplots\n",
    "\n",
    "from pytopo.qctools import instruments as instools; reload(instools)\n",
    "from pytopo.qctools.instruments import create_inst, add2station\n",
    "from pytopo.qctools.dataset2 import select_experiment\n",
    "from pytopo.qctools.measurement import MeasurementExt\n",
    "\n",
    "from pytopo.rf import alazar_detector; reload(alazar_detector)\n",
    "from pytopo.rf.alazar_detector import AlazarDetector\n",
    "\n",
    "from plottr import qcodes_dataset; reload(qcodes_dataset)\n",
    "from plottr.qcodes_dataset import QcodesDatasetSubscriber"
   ]
  },
  {
   "cell_type": "code",
   "execution_count": null,
   "metadata": {},
   "outputs": [],
   "source": []
  },
  {
   "cell_type": "markdown",
   "metadata": {},
   "source": [
    "# Initialize"
   ]
  },
  {
   "cell_type": "markdown",
   "metadata": {},
   "source": [
    "## global settings"
   ]
  },
  {
   "cell_type": "code",
   "execution_count": null,
   "metadata": {
    "ExecuteTime": {
     "end_time": "2018-07-18T19:01:00.625463Z",
     "start_time": "2018-07-18T19:01:00.605460Z"
    }
   },
   "outputs": [],
   "source": [
    "SAMPLE = 'Cq334'\n",
    "\n",
    "qc.config['core']['db_location'] = r\"d:/OneDrive/BF1/Data/experiments.db\"\n",
    "\n",
    "qc.dataset.database.initialise_database()"
   ]
  },
  {
   "cell_type": "code",
   "execution_count": null,
   "metadata": {},
   "outputs": [],
   "source": []
  },
  {
   "cell_type": "markdown",
   "metadata": {},
   "source": [
    "## Create instruments"
   ]
  },
  {
   "cell_type": "markdown",
   "metadata": {},
   "source": [
    "### Physical instruments"
   ]
  },
  {
   "cell_type": "code",
   "execution_count": null,
   "metadata": {
    "ExecuteTime": {
     "end_time": "2018-07-31T08:23:58.301643Z",
     "start_time": "2018-07-31T08:23:55.741819Z"
    }
   },
   "outputs": [],
   "source": [
    "inst_list = []\n",
    "\n",
    "from qcodes.instrument_drivers.QuTech.IVVI import IVVI\n",
    "ivvi = create_inst(IVVI, \"ivvi\", \"ASRL5::INSTR\")\n",
    "inst_list.append(ivvi)\n",
    "\n",
    "from qcodes.instrument_drivers.Keysight.Keysight_34465A import Keysight_34465A\n",
    "key1 = create_inst(Keysight_34465A, \"key1\", \"TCPIP::169.254.4.62::INSTR\", force_new_instance=True)\n",
    "key2 = create_inst(Keysight_34465A, \"key2\", \"TCPIP::169.254.4.61::INSTR\", force_new_instance=True)\n",
    "inst_list.append(key1)\n",
    "inst_list.append(key2)\n",
    "\n",
    "from qcodes.instrument_drivers.stanford_research.SR860 import SR860\n",
    "lockin1 = create_inst(SR860, \"lockin1\", \"GPIB0::3::INSTR\")\n",
    "inst_list.append(lockin1)\n",
    "\n",
    "from qcodes.instrument_drivers.tektronix.AWG5014 import Tektronix_AWG5014\n",
    "awg = instools.create_inst(Tektronix_AWG5014, 'awg', address='TCPIP0::169.254.183.196::inst0::INSTR')\n",
    "inst_list.append(awg)\n",
    "\n",
    "for i in range(1,16):\n",
    "    ivvi.parameters['dac{}'.format(i)].set_step(2)\n",
    "    ivvi.parameters['dac{}'.format(i)].set_delay(0.001)\n",
    "\n",
    "ivvi.dac4.set_delay(0.001)\n",
    "ivvi.dac4.set_step(20)\n",
    "\n",
    "ivvi.dac7.set_delay(0.001)\n",
    "ivvi.dac7.set_step(20)\n",
    "\n",
    "station = qc.Station(*inst_list)"
   ]
  },
  {
   "cell_type": "markdown",
   "metadata": {},
   "source": [
    "### Virtual instruments"
   ]
  },
  {
   "cell_type": "markdown",
   "metadata": {},
   "source": [
    "#### IVVI Rack"
   ]
  },
  {
   "cell_type": "code",
   "execution_count": null,
   "metadata": {
    "ExecuteTime": {
     "end_time": "2018-08-01T09:49:30.562070Z",
     "start_time": "2018-08-01T09:49:30.522079Z"
    }
   },
   "outputs": [],
   "source": [
    "from pytopo import ivvi as ivvi_ext; reload(ivvi_ext)\n",
    "from pytopo.ivvi import IVVISetup\n",
    "\n",
    "SD_current_resistance = 12e3 + 10e3 + 3.4e3\n",
    "SD_dac_multiplier = 1e-2\n",
    "SD_lockin_volt_multiplier = 1e-4\n",
    "SD_current_gain = 1e7\n",
    "\n",
    "ivvi_setup = create_inst(IVVISetup, 'ivvi_setup', ivvi=ivvi, force_new_instance=True)\n",
    "station = add2station(station, ivvi_setup)\n",
    "\n",
    "\n",
    "ivvi_setup.add_dac_voltage_src('SD', \n",
    "                               dac_number=4, \n",
    "                               multiplier=SD_dac_multiplier)\n",
    "\n",
    "ivvi_setup.add_voltage_src('SD_lockin', \n",
    "                           param=lockin1.amplitude, \n",
    "                           multiplier=SD_lockin_volt_multiplier)\n",
    "\n",
    "ivvi_setup.add_current_meas('SD', \n",
    "                            voltage_param=key1.volt, \n",
    "                            gain=SD_current_gain)\n",
    "\n",
    "ivvi_setup.add_conductance_meas('SD',\n",
    "                                param=lockin1.X,\n",
    "                                gain=SD_current_gain,\n",
    "                                r_series = 13.4e3,\n",
    "                                lockin_dV = ivvi_setup.SD_lockin_voltage())\n",
    "                                \n",
    "ivvi_setup.add_dac_voltage_src('T1', \n",
    "                               dac_number=9, \n",
    "                               multiplier=1)\n",
    "ivvi_setup.add_dac_voltage_src('T2', \n",
    "                               dac_number=10, \n",
    "                               multiplier=1)\n",
    "ivvi_setup.add_dac_voltage_src('T3', \n",
    "                               dac_number=8, \n",
    "                               multiplier=1)\n",
    "ivvi_setup.add_dac_voltage_src('T4', \n",
    "                               dac_number=11, \n",
    "                               multiplier=1)\n",
    "ivvi_setup.add_dac_voltage_src('R2', \n",
    "                               dac_number=7, \n",
    "                               multiplier=0.001)\n",
    "ivvi_setup.add_dac_voltage_src('R1', \n",
    "                               dac_number=5, \n",
    "                               multiplier=0.01)\n",
    "ivvi_setup.add_dac_voltage_src('P2', \n",
    "                               dac_number=12, \n",
    "                               multiplier=1)\n",
    "ivvi_setup.add_dac_voltage_src('P1', \n",
    "                               dac_number=13, \n",
    "                               multiplier=1)\n",
    "ivvi_setup.add_dac_voltage_src('G_fine', \n",
    "                               dac_number=16, \n",
    "                               multiplier=0.01)\n",
    "ivvi_setup.add_dac_voltage_src('G_coarse', \n",
    "                               dac_number=15, \n",
    "                               multiplier=1)\n",
    "\n",
    "ivvi_setup.SD_lockin_voltage(1e-5)\n",
    "\n",
    "def print_IVVI_dac_list():\n",
    "    for i in range(16):\n",
    "        print('IVVI DAC #{} at {} mV'.format(i+1, ivvi.get('dac{}'.format(i+1))))"
   ]
  },
  {
   "cell_type": "code",
   "execution_count": null,
   "metadata": {
    "ExecuteTime": {
     "end_time": "2018-07-31T10:26:39.417238Z",
     "start_time": "2018-07-31T10:26:32.597596Z"
    }
   },
   "outputs": [],
   "source": [
    "ivvi_setup.R2_voltage(1e-3)"
   ]
  },
  {
   "cell_type": "code",
   "execution_count": null,
   "metadata": {
    "ExecuteTime": {
     "end_time": "2018-08-01T09:04:43.228612Z",
     "start_time": "2018-08-01T09:03:34.052563Z"
    }
   },
   "outputs": [],
   "source": [
    "ivvi.dac6(1000)"
   ]
  },
  {
   "cell_type": "markdown",
   "metadata": {
    "heading_collapsed": true
   },
   "source": [
    "#### Test IVVI with sample sim"
   ]
  },
  {
   "cell_type": "code",
   "execution_count": null,
   "metadata": {
    "ExecuteTime": {
     "end_time": "2018-07-19T09:04:33.423054Z",
     "start_time": "2018-07-19T09:04:05.904609Z"
    },
    "hidden": true
   },
   "outputs": [],
   "source": [
    "voltage = np.linspace(-10e-3, 10e-3, 11)\n",
    "current = np.zeros_like(voltage)\n",
    "lockin_mag = np.zeros_like(voltage)\n",
    "lockin_phase = np.zeros_like(voltage)\n",
    "\n",
    "for i, v in enumerate(voltage):\n",
    "    ivvi_setup.SD_voltage(v)\n",
    "    current[i] = ivvi_setup.SD_current()\n",
    "    z = lockin1.X() + 1j * lockin1.Y()\n",
    "    lockin_mag[i] = np.abs(z)\n",
    "    lockin_phase[i] = np.angle(z, deg=True)"
   ]
  },
  {
   "cell_type": "code",
   "execution_count": null,
   "metadata": {
    "ExecuteTime": {
     "end_time": "2018-07-19T09:16:48.979091Z",
     "start_time": "2018-07-19T09:16:48.959093Z"
    },
    "hidden": true
   },
   "outputs": [],
   "source": [
    "corr_bias = ivvi_setup.corrected_bias(\n",
    "    current, \n",
    "    voltage, \n",
    "    SD_current_resistance\n",
    ")\n",
    "\n",
    "dIdV = ivvi_setup.corrected_dIdV(\n",
    "    lockin_mag, \n",
    "    lockin_dV=1e-4, \n",
    "    current_gain=1e7,\n",
    ")"
   ]
  },
  {
   "cell_type": "code",
   "execution_count": null,
   "metadata": {
    "ExecuteTime": {
     "end_time": "2018-07-19T09:18:46.245090Z",
     "start_time": "2018-07-19T09:18:46.165102Z"
    },
    "hidden": true
   },
   "outputs": [],
   "source": [
    "fig, ax = plt.subplots(1, 1)\n",
    "ax.plot(voltage, current, 'o')\n",
    "ax.plot(corr_bias, current, 'o')\n",
    "ax.plot(voltage, voltage/100e3)\n",
    "ax.set_xlabel('Bias (V)')\n",
    "ax.set_ylabel('Current (nA)')\n",
    "ax.grid()"
   ]
  },
  {
   "cell_type": "markdown",
   "metadata": {},
   "source": [
    "## Set save Defaults"
   ]
  },
  {
   "cell_type": "code",
   "execution_count": null,
   "metadata": {
    "ExecuteTime": {
     "end_time": "2018-08-01T10:57:36.615502Z",
     "start_time": "2018-08-01T10:56:26.383538Z"
    }
   },
   "outputs": [],
   "source": [
    "ivvi.set_dacs_zero()\n",
    "# ivvi_setup.SD_lockin_voltage(1e-5)"
   ]
  },
  {
   "cell_type": "markdown",
   "metadata": {},
   "source": [
    "# Double Dot Experiment"
   ]
  },
  {
   "cell_type": "code",
   "execution_count": null,
   "metadata": {
    "ExecuteTime": {
     "end_time": "2018-08-01T08:39:14.803951Z",
     "start_time": "2018-08-01T08:39:14.463961Z"
    }
   },
   "outputs": [],
   "source": [
    "ivvi_setup.SD_voltage(0)\n",
    "ivvi_setup.T1_voltage(0)\n",
    "ivvi_setup.T2_voltage(0)\n",
    "ivvi_setup.T3_voltage(0)\n",
    "ivvi_setup.T4_voltage(0)\n",
    "ivvi_setup.R1_voltage(0)\n",
    "ivvi_setup.R2_voltage(0)\n",
    "ivvi_setup.P1_voltage(0)\n",
    "ivvi_setup.P2_voltage(0)\n",
    "ivvi_setup.G_fine_voltage(0)\n",
    "ivvi_setup.G_coarse_voltage(0)"
   ]
  },
  {
   "cell_type": "code",
   "execution_count": null,
   "metadata": {
    "ExecuteTime": {
     "end_time": "2018-08-01T10:57:36.655496Z",
     "start_time": "2018-08-01T10:57:36.615502Z"
    }
   },
   "outputs": [],
   "source": [
    "print_IVVI_dac_list()"
   ]
  },
  {
   "cell_type": "markdown",
   "metadata": {},
   "source": [
    "## Pinch-off curves"
   ]
  },
  {
   "cell_type": "code",
   "execution_count": null,
   "metadata": {
    "ExecuteTime": {
     "end_time": "2018-07-24T13:12:15.364037Z",
     "start_time": "2018-07-24T13:09:31.825240Z"
    }
   },
   "outputs": [],
   "source": [
    "voltages = np.linspace(0, -0.5, 101)\n",
    "\n",
    "ivvi_setup.SD_lockin_voltage(10e-6)\n",
    "lockin1.frequency(21.2)\n",
    "ivvi_setup.SD_voltage(1e-3)\n",
    "sweep_direction = Parameter('sweep_direction', get_cmd=None, set_cmd=None)\n",
    "exp = select_experiment('Pinchoff', SAMPLE)\n",
    "\n",
    "gates = [ivvi_setup.T1_voltage] # [ivvi_setup.R2_voltage] # [ivvi_setup.T2_voltage, ivvi_setup.T3_voltage, ivvi_setup.T4_voltage]\n",
    "\n",
    "\n",
    "for gate in gates:\n",
    "    \n",
    "    # set all gates to zero.\n",
    "    for g in [\n",
    "        ivvi_setup.T1_voltage,\n",
    "        ivvi_setup.T2_voltage, \n",
    "        ivvi_setup.T3_voltage, \n",
    "        ivvi_setup.T4_voltage,\n",
    "        ivvi_setup.R1_voltage,\n",
    "        ivvi_setup.R2_voltage,\n",
    "        ivvi_setup.G_fine_voltage,\n",
    "    ]:\n",
    "        g(0)\n",
    "    \n",
    "    # now meaure pinch-off (up and down) for each gate in gates\n",
    "    meas = MeasurementExt(station, exp=exp,\n",
    "                          soft_sweep_params=[\n",
    "                              gate,\n",
    "                              sweep_direction,\n",
    "                          ],\n",
    "                          soft_data_params=[\n",
    "                              lockin1.X,\n",
    "                              lockin1.Y,\n",
    "                              ivvi_setup.SD_current,\n",
    "                          ])\n",
    "\n",
    "    meas.write_period = 1\n",
    "\n",
    "    with meas.run() as datasaver:\n",
    "\n",
    "        datasaver.dataset.subscribe(\n",
    "            QcodesDatasetSubscriber(datasaver.dataset), \n",
    "            state=[], min_wait=0, min_count=1,\n",
    "        )\n",
    "\n",
    "        for direction in [0,1]:\n",
    "            sweep_direction(direction)\n",
    "\n",
    "            volt = voltages\n",
    "            if direction:\n",
    "                volt = voltages[::-1]\n",
    "\n",
    "            for g in volt:\n",
    "                gate(g)\n",
    "                datasaver.add_result(*meas.get_result())"
   ]
  },
  {
   "cell_type": "code",
   "execution_count": null,
   "metadata": {
    "ExecuteTime": {
     "end_time": "2018-07-24T08:19:16.728713Z",
     "start_time": "2018-07-24T08:19:16.718715Z"
    }
   },
   "outputs": [],
   "source": []
  },
  {
   "cell_type": "markdown",
   "metadata": {},
   "source": [
    "## Coulomb blockade"
   ]
  },
  {
   "cell_type": "code",
   "execution_count": null,
   "metadata": {
    "ExecuteTime": {
     "end_time": "2018-07-24T09:37:25.517456Z",
     "start_time": "2018-07-24T09:35:38.317974Z"
    }
   },
   "outputs": [],
   "source": [
    "T2_vals = np.linspace(-0.2, -0.4, 6)[:]\n",
    "T3_vals = [-0.3] # np.linspace(-0.3, -0.5, 6)\n",
    "PG_vals = np.linspace(0, 1e-1, 101)\n",
    "PG = awg.ch1_offset # ivvi_setup.R2_voltage # _fine_voltage\n",
    "\n",
    "ivvi_setup.R2_voltage(0)\n",
    "ivvi_setup.G_fine_voltage(0)\n",
    "ivvi_setup.T4_voltage(0)\n",
    "ivvi_setup.SD_voltage(250e-6)\n",
    "ivvi_setup.SD_lockin_voltage(10e-6)\n",
    "lockin1.frequency(21.2)\n",
    "\n",
    "exp = select_experiment('Coulomb_blockade_scan', SAMPLE)\n",
    "\n",
    "meas = MeasurementExt(station, exp=exp,\n",
    "                      soft_sweep_params=[\n",
    "                          ivvi_setup.T2_voltage,\n",
    "#                           ivvi_setup.T3_voltage,\n",
    "                          PG,\n",
    "                      ],\n",
    "                      soft_data_params=[\n",
    "                          lockin1.X,\n",
    "                          lockin1.Y,\n",
    "                          ivvi_setup.SD_current,\n",
    "                      ])\n",
    "\n",
    "meas.write_period = 1\n",
    "\n",
    "with meas.run() as datasaver:\n",
    "    \n",
    "    datasaver.dataset.subscribe(\n",
    "        QcodesDatasetSubscriber(datasaver.dataset), \n",
    "        state=[], min_wait=0, min_count=1,\n",
    "    )\n",
    "    \n",
    "    for t2 in T2_vals:\n",
    "        ivvi_setup.T2_voltage(t2)\n",
    "        \n",
    "        for t3 in T3_vals:\n",
    "            ivvi_setup.T3_voltage(t3)\n",
    "            \n",
    "            for pg in PG_vals:\n",
    "                PG(pg)\n",
    "                \n",
    "                datasaver.add_result(*meas.get_result())"
   ]
  },
  {
   "cell_type": "code",
   "execution_count": null,
   "metadata": {
    "ExecuteTime": {
     "end_time": "2018-07-24T11:30:14.879206Z",
     "start_time": "2018-07-24T11:22:23.420051Z"
    }
   },
   "outputs": [],
   "source": [
    "PG_vals = np.linspace(0, 1e-1, 101)\n",
    "PG = awg.ch1_offset\n",
    "\n",
    "ivvi_setup.R2_voltage(0)\n",
    "ivvi_setup.G_fine_voltage(0)\n",
    "ivvi_setup.T4_voltage(0)\n",
    "ivvi_setup.T2_voltage(-0.3)\n",
    "ivvi_setup.T3_voltage(-0.3)\n",
    "ivvi_setup.SD_voltage(250e-6)\n",
    "ivvi_setup.SD_lockin_voltage(10e-6)\n",
    "lockin1.frequency(21.2)\n",
    "\n",
    "sweep_direction = Parameter('sweep_direction', get_cmd=None, set_cmd=None)\n",
    "\n",
    "exp = select_experiment('Coulomb_blockade_scan', SAMPLE)\n",
    "\n",
    "meas = MeasurementExt(station, exp=exp,\n",
    "                      soft_sweep_params=[\n",
    "                          sweep_direction,\n",
    "                          PG,\n",
    "                      ],\n",
    "                      soft_data_params=[\n",
    "                          lockin1.X,\n",
    "                          lockin1.Y,\n",
    "                          ivvi_setup.SD_current,\n",
    "                      ])\n",
    "\n",
    "meas.write_period = 1\n",
    "\n",
    "with meas.run() as datasaver:\n",
    "    \n",
    "    datasaver.dataset.subscribe(\n",
    "        QcodesDatasetSubscriber(datasaver.dataset), \n",
    "        state=[], min_wait=0, min_count=1,\n",
    "    )\n",
    "    \n",
    "    for i in range(10):\n",
    "        sweep_direction(i)\n",
    "        vvals = PG_vals.copy()\n",
    "        if i%2 > 0:\n",
    "            vvals = vvals[::-1]\n",
    "        \n",
    "        for pg in vvals:\n",
    "            PG(pg)\n",
    "\n",
    "            datasaver.add_result(*meas.get_result())"
   ]
  },
  {
   "cell_type": "code",
   "execution_count": null,
   "metadata": {
    "ExecuteTime": {
     "end_time": "2018-07-23T08:21:52.220670Z",
     "start_time": "2018-07-23T08:20:53.221172Z"
    }
   },
   "outputs": [],
   "source": [
    "ivvi_setup.R2_voltage(0.1)"
   ]
  },
  {
   "cell_type": "code",
   "execution_count": null,
   "metadata": {
    "ExecuteTime": {
     "end_time": "2018-07-23T08:16:56.263706Z",
     "start_time": "2018-07-23T08:16:56.223680Z"
    }
   },
   "outputs": [],
   "source": []
  },
  {
   "cell_type": "markdown",
   "metadata": {},
   "source": [
    "## Diamond scan"
   ]
  },
  {
   "cell_type": "code",
   "execution_count": null,
   "metadata": {
    "ExecuteTime": {
     "end_time": "2018-07-26T14:49:28.643815Z",
     "start_time": "2018-07-26T14:48:41.351872Z"
    }
   },
   "outputs": [],
   "source": [
    "PG_vals = np.linspace(0, 0.5, 101)\n",
    "PG = ivvi_setup.P1_voltage\n",
    "bias_vals = np.linspace(-0.4e-3, 0.4e-3, 161)\n",
    "\n",
    "ivvi_setup.T1_voltage(-0.3)\n",
    "ivvi_setup.T2_voltage(-0.3)\n",
    "ivvi_setup.T3_voltage(0)\n",
    "ivvi_setup.T4_voltage(0)\n",
    "\n",
    "ivvi_setup.P1_voltage(0)\n",
    "ivvi_setup.P2_voltage(0)\n",
    "\n",
    "ivvi_setup.G_fine_voltage(0)\n",
    "ivvi_setup.SD_voltage(0)\n",
    "ivvi_setup.SD_lockin_voltage(10e-6)\n",
    "lockin1.frequency(21.2)\n",
    "\n",
    "exp = select_experiment('Diamond_scan', SAMPLE)\n",
    "\n",
    "meas = MeasurementExt(station, exp=exp,\n",
    "                      soft_sweep_params=[\n",
    "                          ivvi_setup.SD_voltage,\n",
    "                          PG,\n",
    "                      ],\n",
    "                      soft_data_params=[\n",
    "                          lockin1.X,\n",
    "                          lockin1.Y,\n",
    "                          ivvi_setup.SD_current,\n",
    "                      ])\n",
    "\n",
    "meas.write_period = 1\n",
    "\n",
    "with meas.run() as datasaver:\n",
    "    \n",
    "    datasaver.dataset.subscribe(\n",
    "        QcodesDatasetSubscriber(datasaver.dataset), \n",
    "        state=[], min_wait=0, min_count=1,\n",
    "    )\n",
    "    \n",
    "    for pg in PG_vals:\n",
    "        PG(pg)\n",
    "            \n",
    "        for bias in bias_vals:\n",
    "            ivvi_setup.SD_voltage(bias)\n",
    "\n",
    "            datasaver.add_result(*meas.get_result())"
   ]
  },
  {
   "cell_type": "code",
   "execution_count": null,
   "metadata": {},
   "outputs": [],
   "source": []
  },
  {
   "cell_type": "markdown",
   "metadata": {},
   "source": [
    "## DC CSD "
   ]
  },
  {
   "cell_type": "code",
   "execution_count": null,
   "metadata": {
    "ExecuteTime": {
     "end_time": "2018-07-30T12:38:41.781593Z",
     "start_time": "2018-07-30T12:13:46.792738Z"
    },
    "scrolled": true
   },
   "outputs": [],
   "source": [
    "ivvi_setup.R1_voltage(0)\n",
    "ivvi_setup.R2_voltage(0)\n",
    "ivvi_setup.P1_voltage(0)\n",
    "ivvi_setup.P2_voltage(0)\n",
    "\n",
    "ivvi_setup.T1_voltage(-0.3)\n",
    "ivvi_setup.T2_voltage(-0.3)\n",
    "ivvi_setup.T3_voltage(-0.44)\n",
    "ivvi_setup.T4_voltage(0)\n",
    "\n",
    "\n",
    "# TG = ivvi_setup.T4_voltage\n",
    "# TG_vals = np.linspace(-0.34,-0.37,4)\n",
    "\n",
    "ivvi_setup.SD_voltage(0e-6)\n",
    "ivvi_setup.SD_lockin_voltage(10e-6)\n",
    "lockin1.frequency(21.2)\n",
    "\n",
    "exp = select_experiment('DC_CSD_tryDD', SAMPLE)\n",
    "\n",
    "meas = MeasurementExt(station, exp=exp,\n",
    "                      soft_sweep_params=[\n",
    "                          ivvi_setup.P1_voltage,\n",
    "                          ivvi_setup.G_fine_voltage,\n",
    "                      ],\n",
    "                      soft_data_params=[\n",
    "                          lockin1.X,\n",
    "                          ivvi_setup.SD_current,         \n",
    "                      ])\n",
    "\n",
    "meas.write_period = 1\n",
    "\n",
    "with meas.run() as datasaver:\n",
    "    \n",
    "    datasaver.dataset.subscribe(\n",
    "        QcodesDatasetSubscriber(datasaver.dataset), \n",
    "        state=[], min_wait=0, min_count=1,\n",
    "    )\n",
    "\n",
    "#     for tg in TG_vals:\n",
    "#         TG(tg)\n",
    "        \n",
    "#         print(time.strftime('%Y-%m-%d %H:%M:%S') + ' setting {} to {} V'.format(TG, tg))\n",
    "    \n",
    "    for p1 in np.linspace(0, 0.5, 51):\n",
    "        ivvi_setup.P1_voltage(p1)\n",
    "\n",
    "        for pg in np.linspace(0, 1e-3, 51):\n",
    "            ivvi_setup.G_fine_voltage(pg)\n",
    "\n",
    "            datasaver.add_result(*meas.get_result())"
   ]
  },
  {
   "cell_type": "markdown",
   "metadata": {
    "ExecuteTime": {
     "end_time": "2018-07-19T11:48:34.245407Z",
     "start_time": "2018-07-19T11:48:34.225413Z"
    }
   },
   "source": [
    "### with R1"
   ]
  },
  {
   "cell_type": "code",
   "execution_count": null,
   "metadata": {
    "ExecuteTime": {
     "end_time": "2018-07-30T14:44:13.639883Z",
     "start_time": "2018-07-30T14:33:05.295047Z"
    }
   },
   "outputs": [],
   "source": [
    "ivvi_setup.R1_voltage(0)\n",
    "ivvi_setup.R2_voltage(0)\n",
    "ivvi_setup.P1_voltage(0)\n",
    "ivvi_setup.P2_voltage(0)\n",
    "\n",
    "ivvi_setup.T1_voltage(-0.3)\n",
    "ivvi_setup.T2_voltage(-0.3)\n",
    "ivvi_setup.T3_voltage(-0.44)\n",
    "ivvi_setup.T4_voltage(0)\n",
    "\n",
    "\n",
    "# TG = ivvi_setup.T4_voltage\n",
    "# TG_vals = np.linspace(-0.34,-0.37,4)\n",
    "\n",
    "ivvi_setup.SD_voltage(0e-6)\n",
    "ivvi_setup.SD_lockin_voltage(10e-6)\n",
    "lockin1.frequency(21.2)\n",
    "\n",
    "exp = select_experiment('DC_CSD_tryDD', SAMPLE)\n",
    "\n",
    "meas = MeasurementExt(station, exp=exp,\n",
    "                      soft_sweep_params=[\n",
    "                          ivvi_setup.R1_voltage,\n",
    "                          ivvi_setup.G_fine_voltage,\n",
    "                      ],\n",
    "                      soft_data_params=[\n",
    "                          lockin1.X,\n",
    "                          ivvi_setup.SD_current,         \n",
    "                      ])\n",
    "\n",
    "meas.write_period = 1\n",
    "\n",
    "with meas.run() as datasaver:\n",
    "    \n",
    "    datasaver.dataset.subscribe(\n",
    "        QcodesDatasetSubscriber(datasaver.dataset), \n",
    "        state=[], min_wait=0, min_count=1,\n",
    "    )\n",
    "\n",
    "#     for tg in TG_vals:\n",
    "#         TG(tg)\n",
    "        \n",
    "#         print(time.strftime('%Y-%m-%d %H:%M:%S') + ' setting {} to {} V'.format(TG, tg))\n",
    "    \n",
    "    for r1 in np.linspace(0, 2.5e-3, 51):\n",
    "        ivvi_setup.R1_voltage(r1)\n",
    "\n",
    "        for pg in np.linspace(0, 1e-3, 51):\n",
    "            ivvi_setup.G_fine_voltage(pg)\n",
    "\n",
    "            datasaver.add_result(*meas.get_result())"
   ]
  },
  {
   "cell_type": "markdown",
   "metadata": {
    "ExecuteTime": {
     "end_time": "2018-07-19T12:04:34.286572Z",
     "start_time": "2018-07-19T12:04:34.266546Z"
    }
   },
   "source": [
    "### with R2"
   ]
  },
  {
   "cell_type": "code",
   "execution_count": null,
   "metadata": {
    "ExecuteTime": {
     "end_time": "2018-08-01T09:53:30.962278Z",
     "start_time": "2018-08-01T09:53:30.922257Z"
    }
   },
   "outputs": [],
   "source": [
    "ivvi_setup.T3_voltage()"
   ]
  },
  {
   "cell_type": "code",
   "execution_count": null,
   "metadata": {
    "ExecuteTime": {
     "end_time": "2018-08-01T10:56:00.242514Z",
     "start_time": "2018-08-01T10:42:28.036624Z"
    }
   },
   "outputs": [],
   "source": [
    "ivvi_setup.R1_voltage(0)\n",
    "ivvi_setup.R2_voltage(0)\n",
    "ivvi_setup.P1_voltage(0)\n",
    "ivvi_setup.P2_voltage(0)\n",
    "\n",
    "ivvi_setup.T1_voltage(0)\n",
    "ivvi_setup.T2_voltage(-0.25)\n",
    "# ivvi_setup.T3_voltage(-0.45)\n",
    "ivvi_setup.T4_voltage(-0.25)\n",
    "\n",
    "ivvi_setup.SD_voltage(0e-6)\n",
    "ivvi_setup.SD_lockin_voltage(10e-6)\n",
    "lockin1.frequency(16.2)\n",
    "\n",
    "exp = select_experiment('DC_CSD_tryDD', SAMPLE)\n",
    "\n",
    "meas = MeasurementExt(station, exp=exp,\n",
    "                      soft_sweep_params=[\n",
    "                          ivvi_setup.R2_voltage,\n",
    "                          ivvi_setup.G_fine_voltage,\n",
    "                      ],\n",
    "                      soft_data_params=[\n",
    "                          lockin1.X,\n",
    "                          ivvi_setup.SD_current,\n",
    "                          ivvi_setup.SD_conductance,\n",
    "                      ])\n",
    "\n",
    "meas.write_period = 1\n",
    "\n",
    "TG_vals = [-0.37826086956521743]\n",
    "\n",
    "for tg in TG_vals:\n",
    "    ivvi_setup.T3_voltage(tg)\n",
    "    \n",
    "    with meas.run() as datasaver:\n",
    "\n",
    "        datasaver.dataset.subscribe(\n",
    "            QcodesDatasetSubscriber(datasaver.dataset), \n",
    "            state=[], min_wait=0, min_count=1,\n",
    "        )\n",
    "\n",
    "#     print(time.strftime('%Y-%m-%d %H:%M:%S') + ' setting {} to {} V'.format(TG, tg))\n",
    "\n",
    "        for r2 in np.linspace(-1e-3, 1e-3, 25):\n",
    "            ivvi_setup.R2_voltage(r2)\n",
    "\n",
    "            for pg in np.linspace(0e-3, 2e-3, 51):\n",
    "                ivvi_setup.G_fine_voltage(pg)\n",
    "\n",
    "                datasaver.add_result(*meas.get_result())"
   ]
  },
  {
   "cell_type": "code",
   "execution_count": null,
   "metadata": {
    "ExecuteTime": {
     "end_time": "2018-08-01T08:07:37.305738Z",
     "start_time": "2018-07-31T18:56:43.675Z"
    }
   },
   "outputs": [],
   "source": [
    "ivvi_setup.R1_voltage(0)\n",
    "ivvi_setup.R2_voltage(0)\n",
    "ivvi_setup.P1_voltage(0)\n",
    "ivvi_setup.P2_voltage(0)\n",
    "\n",
    "ivvi_setup.T1_voltage(0)\n",
    "ivvi_setup.T2_voltage(-0.29)\n",
    "ivvi_setup.T3_voltage(-0.40)\n",
    "ivvi_setup.T4_voltage(-0.29)\n",
    "\n",
    "ivvi_setup.SD_voltage(0e-6)\n",
    "ivvi_setup.SD_lockin_voltage(10e-6)\n",
    "lockin1.frequency(16.2)\n",
    "\n",
    "exp = select_experiment('DC_CSD_tryDD', SAMPLE)\n",
    "\n",
    "meas = MeasurementExt(station, exp=exp,\n",
    "                      soft_sweep_params=[\n",
    "                          ivvi_setup.R2_voltage,\n",
    "                          ivvi_setup.G_fine_voltage,\n",
    "                      ],\n",
    "                      soft_data_params=[\n",
    "                          lockin1.X,\n",
    "                          ivvi_setup.SD_current,\n",
    "                          ivvi_setup.SD_conductance,\n",
    "                      ])\n",
    "\n",
    "meas.write_period = 1\n",
    "\n",
    "TG_vals = np.linspace(-0.31,-0.26,12)\n",
    "\n",
    "for tg in TG_vals:\n",
    "    ivvi_setup.T2_voltage(tg)\n",
    "    \n",
    "    with meas.run() as datasaver:\n",
    "\n",
    "        datasaver.dataset.subscribe(\n",
    "            QcodesDatasetSubscriber(datasaver.dataset), \n",
    "            state=[], min_wait=0, min_count=1,\n",
    "        )\n",
    "\n",
    "#     print(time.strftime('%Y-%m-%d %H:%M:%S') + ' setting {} to {} V'.format(TG, tg))\n",
    "\n",
    "        for r2 in np.linspace(-1e-3, 1e-3, 51):\n",
    "            ivvi_setup.R2_voltage(r2)\n",
    "\n",
    "            for pg in np.linspace(0e-3, 2e-3, 101):\n",
    "                ivvi_setup.G_fine_voltage(pg)\n",
    "\n",
    "                datasaver.add_result(*meas.get_result())"
   ]
  },
  {
   "cell_type": "markdown",
   "metadata": {
    "heading_collapsed": true
   },
   "source": [
    "#### Bias scan"
   ]
  },
  {
   "cell_type": "code",
   "execution_count": null,
   "metadata": {
    "ExecuteTime": {
     "end_time": "2018-07-31T10:34:56.507262Z",
     "start_time": "2018-07-31T10:27:09.105519Z"
    },
    "hidden": true
   },
   "outputs": [],
   "source": [
    "ivvi_setup.R1_voltage(0)\n",
    "ivvi_setup.R2_voltage(0)\n",
    "ivvi_setup.P1_voltage(0)\n",
    "ivvi_setup.P2_voltage(0)\n",
    "\n",
    "ivvi_setup.T1_voltage(0)\n",
    "ivvi_setup.T2_voltage(-0.29)\n",
    "ivvi_setup.T3_voltage(-0.41)\n",
    "ivvi_setup.T4_voltage(-0.29)\n",
    "\n",
    "\n",
    "# TG = ivvi_setup.T4_voltage\n",
    "# TG_vals = np.linspace(-0.34,-0.37,4)\n",
    "\n",
    "ivvi_setup.SD_voltage(0e-6)\n",
    "ivvi_setup.SD_lockin_voltage(10e-6)\n",
    "lockin1.frequency(16.2)\n",
    "\n",
    "exp = select_experiment('DC_CSD_tryDD', SAMPLE)\n",
    "\n",
    "meas = MeasurementExt(station, exp=exp,\n",
    "                      soft_sweep_params=[\n",
    "                          ivvi_setup.R2_voltage,\n",
    "                          ivvi_setup.SD_voltage,\n",
    "                      ],\n",
    "                      soft_data_params=[\n",
    "                          lockin1.X,\n",
    "                          ivvi_setup.SD_current,\n",
    "                      ])\n",
    "\n",
    "meas.write_period = 1\n",
    "\n",
    "with meas.run() as datasaver:\n",
    "    \n",
    "    datasaver.dataset.subscribe(\n",
    "        QcodesDatasetSubscriber(datasaver.dataset), \n",
    "        state=[], min_wait=0, min_count=1,\n",
    "    )\n",
    "\n",
    "#     for tg in TG_vals:\n",
    "#         TG(tg)\n",
    "        \n",
    "#     print(time.strftime('%Y-%m-%d %H:%M:%S') + ' setting {} to {} V'.format(TG, tg))\n",
    "    \n",
    "    for r2 in np.linspace(0, 2e-3, 25):\n",
    "        ivvi_setup.R2_voltage(r2)\n",
    "\n",
    "        for bias in np.linspace(-0.5e-3, 0.5e-3, 51):\n",
    "            ivvi_setup.SD_voltage(bias)\n",
    "\n",
    "            datasaver.add_result(*meas.get_result())"
   ]
  },
  {
   "cell_type": "markdown",
   "metadata": {},
   "source": [
    "### CSD tune lockin frequency"
   ]
  },
  {
   "cell_type": "code",
   "execution_count": null,
   "metadata": {
    "ExecuteTime": {
     "end_time": "2018-07-31T07:38:16.902316Z",
     "start_time": "2018-07-31T07:33:06.333345Z"
    }
   },
   "outputs": [],
   "source": [
    "ivvi_setup.R1_voltage(0)\n",
    "ivvi_setup.R2_voltage(0)\n",
    "ivvi_setup.P1_voltage(0)\n",
    "ivvi_setup.P2_voltage(0)\n",
    "\n",
    "ivvi_setup.T1_voltage(0)\n",
    "ivvi_setup.T2_voltage(-0.3)\n",
    "ivvi_setup.T3_voltage(-0.45)\n",
    "ivvi_setup.T4_voltage(-0.3)\n",
    "\n",
    "\n",
    "# TG = ivvi_setup.T4_voltage\n",
    "# TG_vals = np.linspace(-0.34,-0.37,4)\n",
    "\n",
    "ivvi_setup.SD_voltage(0e-6)\n",
    "ivvi_setup.SD_lockin_voltage(10e-6)\n",
    "lockin1.frequency(21.2)\n",
    "\n",
    "exp = select_experiment('DC_CSD_tryDD', SAMPLE)\n",
    "\n",
    "meas = MeasurementExt(station, exp=exp,\n",
    "                      soft_sweep_params=[\n",
    "                          ivvi_setup.G_fine_voltage,\n",
    "                          lockin1.frequency,\n",
    "                      ],\n",
    "                      soft_data_params=[\n",
    "                          lockin1.X,\n",
    "                          ivvi_setup.SD_current,\n",
    "   \n",
    "                      ])\n",
    "\n",
    "meas.write_period = 1\n",
    "\n",
    "with meas.run() as datasaver:\n",
    "    \n",
    "    datasaver.dataset.subscribe(\n",
    "        QcodesDatasetSubscriber(datasaver.dataset), \n",
    "        state=[], min_wait=0, min_count=1,\n",
    "    )\n",
    "\n",
    "#     for tg in TG_vals:\n",
    "#         TG(tg)\n",
    "        \n",
    "#     print(time.strftime('%Y-%m-%d %H:%M:%S') + ' setting {} to {} V'.format(TG, tg))\n",
    "    \n",
    "    for freq in np.linspace(10,30,11):\n",
    "        lockin1.frequency(freq)\n",
    "\n",
    "        for pg in np.linspace(0, 1e-3, 51):\n",
    "            ivvi_setup.G_fine_voltage(pg)\n",
    "\n",
    "            datasaver.add_result(*meas.get_result())"
   ]
  },
  {
   "cell_type": "code",
   "execution_count": null,
   "metadata": {
    "ExecuteTime": {
     "end_time": "2018-07-19T13:24:41.810005Z",
     "start_time": "2018-07-19T13:24:41.800002Z"
    }
   },
   "outputs": [],
   "source": []
  },
  {
   "cell_type": "code",
   "execution_count": null,
   "metadata": {
    "ExecuteTime": {
     "end_time": "2018-07-20T11:44:22.032017Z",
     "start_time": "2018-07-20T11:44:16.912313Z"
    }
   },
   "outputs": [],
   "source": [
    "%%timeit\n",
    "lockin1.X()"
   ]
  },
  {
   "cell_type": "code",
   "execution_count": null,
   "metadata": {
    "ExecuteTime": {
     "end_time": "2018-07-20T11:45:37.180998Z",
     "start_time": "2018-07-20T11:45:37.160966Z"
    }
   },
   "outputs": [],
   "source": [
    "key1.NPLC(10)"
   ]
  },
  {
   "cell_type": "code",
   "execution_count": null,
   "metadata": {
    "ExecuteTime": {
     "end_time": "2018-07-20T11:45:13.579049Z",
     "start_time": "2018-07-20T11:45:09.369287Z"
    }
   },
   "outputs": [],
   "source": [
    "%%timeit\n",
    "key1.volt()"
   ]
  },
  {
   "cell_type": "code",
   "execution_count": null,
   "metadata": {
    "ExecuteTime": {
     "end_time": "2018-07-20T11:45:45.220501Z",
     "start_time": "2018-07-20T11:45:44.790526Z"
    }
   },
   "outputs": [],
   "source": [
    "key1.volt()"
   ]
  },
  {
   "cell_type": "code",
   "execution_count": null,
   "metadata": {},
   "outputs": [],
   "source": []
  }
 ],
 "metadata": {
  "kernelspec": {
   "display_name": "Python 3",
   "language": "python",
   "name": "python3"
  },
  "language_info": {
   "codemirror_mode": {
    "name": "ipython",
    "version": 3
   },
   "file_extension": ".py",
   "mimetype": "text/x-python",
   "name": "python",
   "nbconvert_exporter": "python",
   "pygments_lexer": "ipython3",
   "version": "3.6.5"
  },
  "toc": {
   "base_numbering": 1,
   "nav_menu": {},
   "number_sections": true,
   "sideBar": true,
   "skip_h1_title": false,
   "title_cell": "Table of Contents",
   "title_sidebar": "Contents",
   "toc_cell": false,
   "toc_position": {
    "height": "calc(100% - 180px)",
    "left": "10px",
    "top": "150px",
    "width": "512px"
   },
   "toc_section_display": true,
   "toc_window_display": true
  }
 },
 "nbformat": 4,
 "nbformat_minor": 2
}
