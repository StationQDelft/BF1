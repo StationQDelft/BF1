{
 "cells": [
  {
   "cell_type": "markdown",
   "metadata": {
    "toc": true
   },
   "source": [
    "<h1>Table of Contents<span class=\"tocSkip\"></span></h1>\n",
    "<div class=\"toc\"><ul class=\"toc-item\"><li><span><a href=\"#Set-up-NB\" data-toc-modified-id=\"Set-up-NB-1\"><span class=\"toc-item-num\">1&nbsp;&nbsp;</span>Set up NB</a></span></li><li><span><a href=\"#Initialize\" data-toc-modified-id=\"Initialize-2\"><span class=\"toc-item-num\">2&nbsp;&nbsp;</span>Initialize</a></span><ul class=\"toc-item\"><li><span><a href=\"#global-settings\" data-toc-modified-id=\"global-settings-2.1\"><span class=\"toc-item-num\">2.1&nbsp;&nbsp;</span>global settings</a></span></li><li><span><a href=\"#create-instruments\" data-toc-modified-id=\"create-instruments-2.2\"><span class=\"toc-item-num\">2.2&nbsp;&nbsp;</span>create instruments</a></span></li><li><span><a href=\"#Default-(instrument)-settings\" data-toc-modified-id=\"Default-(instrument)-settings-2.3\"><span class=\"toc-item-num\">2.3&nbsp;&nbsp;</span>Default (instrument) settings</a></span></li></ul></li><li><span><a href=\"#Resonator-Spectroscopy\" data-toc-modified-id=\"Resonator-Spectroscopy-3\"><span class=\"toc-item-num\">3&nbsp;&nbsp;</span>Resonator Spectroscopy</a></span></li></ul></div>"
   ]
  },
  {
   "cell_type": "markdown",
   "metadata": {},
   "source": [
    "# Set up NB"
   ]
  },
  {
   "cell_type": "code",
   "execution_count": 1,
   "metadata": {
    "ExecuteTime": {
     "end_time": "2018-08-01T13:15:09.137735Z",
     "start_time": "2018-08-01T13:15:08.797728Z"
    }
   },
   "outputs": [],
   "source": [
    "%gui qt\n",
    "%matplotlib qt\n",
    "\n",
    "import sys\n",
    "import os\n",
    "import time\n",
    "import logging\n",
    "from importlib import reload\n",
    "\n",
    "import numpy as np\n",
    "from matplotlib import pyplot as plt"
   ]
  },
  {
   "cell_type": "code",
   "execution_count": 2,
   "metadata": {
    "ExecuteTime": {
     "end_time": "2018-08-01T13:15:11.562855Z",
     "start_time": "2018-08-01T13:15:10.532437Z"
    }
   },
   "outputs": [],
   "source": [
    "import qcodes as qc\n",
    "import broadbean as bb"
   ]
  },
  {
   "cell_type": "code",
   "execution_count": 3,
   "metadata": {
    "ExecuteTime": {
     "end_time": "2018-08-01T13:15:11.577816Z",
     "start_time": "2018-08-01T13:15:11.564852Z"
    }
   },
   "outputs": [],
   "source": [
    "from pytopo.mplplots import init_nb_plotting; reload(init_nb_plotting)\n",
    "from pytopo.mplplots.init_nb_plotting import *\n",
    "from pytopo.mplplots import plots as mplplots"
   ]
  },
  {
   "cell_type": "code",
   "execution_count": 4,
   "metadata": {
    "ExecuteTime": {
     "end_time": "2018-08-01T13:15:11.878673Z",
     "start_time": "2018-08-01T13:15:11.579845Z"
    }
   },
   "outputs": [],
   "source": [
    "from pytopo.qctools import instruments as instools; reload(instools)\n",
    "from pytopo.qctools.instruments import create_inst, add2station\n",
    "from pytopo.qctools.dataset2 import select_experiment\n",
    "from pytopo.qctools.measurement import MeasurementExt\n",
    "\n",
    "from pytopo.rf import alazar_detector; reload(alazar_detector)\n",
    "from pytopo.rf.alazar_detector import AlazarDetector\n",
    "\n",
    "from plottr import qcodes_dataset; reload(qcodes_dataset)\n",
    "from plottr.qcodes_dataset import QcodesDatasetSubscriber\n",
    "\n",
    "from cqed import broadbean; reload(broadbean)\n",
    "from cqed.broadbean import BroadBeanSequence, BluePrints\n",
    "\n",
    "from cqed import bb_sequences; reload(bb_sequences)\n",
    "from cqed.bb_sequences import TriggeredReadoutSequence"
   ]
  },
  {
   "cell_type": "code",
   "execution_count": null,
   "metadata": {},
   "outputs": [],
   "source": []
  },
  {
   "cell_type": "markdown",
   "metadata": {},
   "source": [
    "# Initialize"
   ]
  },
  {
   "cell_type": "markdown",
   "metadata": {},
   "source": [
    "## global settings"
   ]
  },
  {
   "cell_type": "code",
   "execution_count": 5,
   "metadata": {
    "ExecuteTime": {
     "end_time": "2018-08-01T13:17:28.526688Z",
     "start_time": "2018-08-01T13:17:28.496660Z"
    }
   },
   "outputs": [],
   "source": [
    "SAMPLE = 'Cq334'\n",
    "\n",
    "qc.config['core']['db_location'] = r\"d:/OneDrive/BF1/Data/experiments.db\"\n",
    "\n",
    "BroadBeanSequence.chan_map = {\n",
    "    1 : ['awg_voltage', 'ro_trigger', None],\n",
    "}\n",
    "BroadBeanSequence.chan_settings[1]['Vpp'] = 2.0\n",
    "BroadBeanSequence.chan_settings[2]['Vpp'] = 2.0\n",
    "\n",
    "BroadBeanSequence.sweep_wait = None\n",
    "\n",
    "TriggeredReadoutSequence.chan_map = {\n",
    "    1 : ['FILL.1', 'ro_trigger', None],\n",
    "}\n",
    "\n",
    "qc.dataset.database.initialise_database()"
   ]
  },
  {
   "cell_type": "code",
   "execution_count": null,
   "metadata": {},
   "outputs": [],
   "source": []
  },
  {
   "cell_type": "markdown",
   "metadata": {},
   "source": [
    "## create instruments"
   ]
  },
  {
   "cell_type": "code",
   "execution_count": 6,
   "metadata": {
    "ExecuteTime": {
     "end_time": "2018-08-01T13:17:38.867012Z",
     "start_time": "2018-08-01T13:17:32.758108Z"
    }
   },
   "outputs": [
    {
     "name": "stdout",
     "output_type": "stream",
     "text": [
      "Connected to: Rohde&Schwarz SGS100A (serial:1416.0505k02/110524, firmware:3.1.19.15-3.50.124.67) in 0.08s\n",
      "Connected to: Rohde&Schwarz SGS100A (serial:1416.0505k02/110525, firmware:3.1.19.15-3.50.124.67) in 0.04s\n",
      "Connected to: TEKTRONIX AWG5014C (serial:B051388, firmware:SCPI:99.0 FW:4.6.0.7) in 0.07s\n",
      "Connected to: Mini-Circuits MN=RUDAT-13G-90 (serial:SN=11704210002, firmware:C9-2) in 0.61s\n"
     ]
    }
   ],
   "source": [
    "inst_list = []\n",
    "\n",
    "# Alazar\n",
    "# from qcodes.instrument_drivers.AlazarTech import utils; reload(utils)\n",
    "# from qcodes.instrument_drivers.AlazarTech import ATS9360; reload(ATS9360)\n",
    "from qcodes.instrument_drivers.AlazarTech.ATS9360 import AlazarTech_ATS9360\n",
    "alazar = instools.create_inst(AlazarTech_ATS9360, 'alazar', force_new_instance=True)\n",
    "inst_list.append(alazar)\n",
    "\n",
    "# Alazar aquisition controllers\n",
    "from pytopo.rf import alazar_acquisition; reload(alazar_acquisition)\n",
    "from pytopo.rf.alazar_acquisition import RawAcqCtl, AvgDemodCtl, AvgIQCtl\n",
    "\n",
    "raw_acq = instools.create_inst(RawAcqCtl, 'raw_acq', 'alazar', force_new_instance=True)\n",
    "inst_list.append(raw_acq)\n",
    "\n",
    "avgdemod_acq = instools.create_inst(AvgDemodCtl, 'avgdemod_acq', 'alazar', force_new_instance=True)\n",
    "inst_list.append(avgdemod_acq)\n",
    "\n",
    "avgiq_acq = instools.create_inst(AvgIQCtl, 'avgiq_acq', 'alazar', force_new_instance=True)\n",
    "inst_list.append(avgiq_acq)\n",
    "\n",
    "# RF sources\n",
    "from qcodes.instrument_drivers.rohde_schwarz.SGS100A import RohdeSchwarz_SGS100A\n",
    "LO = instools.create_inst(RohdeSchwarz_SGS100A, 'LO', address=\"TCPIP0::169.254.234.107\")\n",
    "RF = instools.create_inst(RohdeSchwarz_SGS100A, 'RF', address=\"TCPIP0::169.254.2.20\")\n",
    "inst_list.append(LO)\n",
    "inst_list.append(RF)\n",
    "\n",
    "from pytopo.rf.sources import HeterodyneSource\n",
    "hetsrc = instools.create_inst(HeterodyneSource, 'hetsrc', RF=RF, LO=LO, force_new_instance=True)\n",
    "inst_list.append(hetsrc)\n",
    "\n",
    "# AWG and sequences\n",
    "from qcodes.instrument_drivers.tektronix.AWG5014 import Tektronix_AWG5014\n",
    "awg = instools.create_inst(Tektronix_AWG5014, 'awg', address='TCPIP0::169.254.183.196::inst0::INSTR')\n",
    "inst_list.append(awg)\n",
    "\n",
    "from qcodes.instrument_drivers.Minicircuits.RUDAT_13G_90 import RUDAT_13G_90_USB\n",
    "ro_attenuator = instools.create_inst(RUDAT_13G_90_USB, 'ro_attenuator')\n",
    "inst_list.append(ro_attenuator)\n",
    "\n",
    "\n",
    "\n",
    "\n",
    "\n",
    "\n",
    "station = qc.Station(*inst_list)"
   ]
  },
  {
   "cell_type": "code",
   "execution_count": null,
   "metadata": {},
   "outputs": [],
   "source": []
  },
  {
   "cell_type": "markdown",
   "metadata": {},
   "source": [
    "## Default (instrument) settings"
   ]
  },
  {
   "cell_type": "code",
   "execution_count": 7,
   "metadata": {
    "ExecuteTime": {
     "end_time": "2018-08-01T13:17:41.216839Z",
     "start_time": "2018-08-01T13:17:40.996880Z"
    }
   },
   "outputs": [
    {
     "name": "stderr",
     "output_type": "stream",
     "text": [
      "d:\\onedrive\\bf1\\code\\qcodes\\qcodes\\instrument_drivers\\AlazarTech\\ATS.py:564: UserWarning: Using Internal clock but parameter external_sample_rate is set.This will have no effect and is ignored\n",
      "  warnings.warn(\"Using Internal clock but parameter external_sample_rate is set.\"\n"
     ]
    }
   ],
   "source": [
    "with alazar.syncing():\n",
    "    alazar.clock_source('INTERNAL_CLOCK')\n",
    "    alazar.sample_rate(int(0.2e9))\n",
    "    alazar.clock_edge('CLOCK_EDGE_RISING')\n",
    "    alazar.external_sample_rate(int(1e9))\n",
    "    alazar.decimation(1)\n",
    "    alazar.coupling1('DC')\n",
    "    alazar.coupling2('DC')\n",
    "    alazar.channel_range1(0.4)\n",
    "    alazar.channel_range2(0.4)\n",
    "    alazar.impedance1(50)\n",
    "    alazar.impedance2(50)\n",
    "    alazar.trigger_source1('EXTERNAL')\n",
    "    alazar.trigger_level1(128 + 5)\n",
    "    alazar.external_trigger_coupling('DC')\n",
    "    alazar.external_trigger_range('ETR_5V')\n",
    "    alazar.trigger_delay(0)\n",
    "    alazar.timeout_ticks(int(1e7))\n",
    "    \n",
    "    \n",
    "hetsrc.frequency(500e6)\n",
    "hetsrc.IF(8e6)\n",
    "hetsrc.RF.on()\n",
    "hetsrc.LO.on()\n",
    "hetsrc.RF.power(0)\n",
    "hetsrc.LO.power(15)\n",
    "RF.pulsemod_state('off')\n",
    "\n",
    "ro_attenuator.attenuation(30)"
   ]
  },
  {
   "cell_type": "code",
   "execution_count": null,
   "metadata": {},
   "outputs": [],
   "source": []
  },
  {
   "cell_type": "code",
   "execution_count": null,
   "metadata": {},
   "outputs": [],
   "source": []
  },
  {
   "cell_type": "markdown",
   "metadata": {},
   "source": [
    "# Resonator Spectroscopy"
   ]
  },
  {
   "cell_type": "code",
   "execution_count": 8,
   "metadata": {
    "ExecuteTime": {
     "end_time": "2018-08-01T13:20:21.539977Z",
     "start_time": "2018-08-01T13:17:44.935155Z"
    }
   },
   "outputs": [
    {
     "name": "stderr",
     "output_type": "stream",
     "text": [
      "No ro_gate defined in channel map. No readout gate pulse will be generated.\n",
      "No src_gate defined in channel map. No src gate pulse will be generated.\n"
     ]
    },
    {
     "name": "stdout",
     "output_type": "stream",
     "text": [
      "Starting experimental run with id: 1283\n"
     ]
    },
    {
     "ename": "KeyboardInterrupt",
     "evalue": "",
     "output_type": "error",
     "traceback": [
      "\u001b[1;31m---------------------------------------------------------------------------\u001b[0m",
      "\u001b[1;31mKeyboardInterrupt\u001b[0m                         Traceback (most recent call last)",
      "\u001b[1;32m<ipython-input-8-cc8465c0fc04>\u001b[0m in \u001b[0;36m<module>\u001b[1;34m()\u001b[0m\n\u001b[0;32m     70\u001b[0m \u001b[1;33m\u001b[0m\u001b[0m\n\u001b[0;32m     71\u001b[0m             \u001b[0mdetector\u001b[0m\u001b[1;33m.\u001b[0m\u001b[0macquisition\u001b[0m\u001b[1;33m(\u001b[0m\u001b[1;33m)\u001b[0m \u001b[1;31m# this gets the data from the alazar\u001b[0m\u001b[1;33m\u001b[0m\u001b[0m\n\u001b[1;32m---> 72\u001b[1;33m             \u001b[0mdatasaver\u001b[0m\u001b[1;33m.\u001b[0m\u001b[0madd_result\u001b[0m\u001b[1;33m(\u001b[0m\u001b[1;33m*\u001b[0m\u001b[0mmeas\u001b[0m\u001b[1;33m.\u001b[0m\u001b[0mget_result\u001b[0m\u001b[1;33m(\u001b[0m\u001b[1;33m)\u001b[0m\u001b[1;33m)\u001b[0m \u001b[1;31m# this adds all data to the datasaver.\u001b[0m\u001b[1;33m\u001b[0m\u001b[0m\n\u001b[0m",
      "\u001b[1;32md:\\onedrive\\bf1\\code\\pytopo\\pytopo\\qctools\\measurement.py\u001b[0m in \u001b[0;36mget_result\u001b[1;34m(self, **kw)\u001b[0m\n\u001b[0;32m     36\u001b[0m                 \u001b[0mvalue\u001b[0m \u001b[1;33m=\u001b[0m \u001b[0mkw\u001b[0m\u001b[1;33m[\u001b[0m\u001b[0mp\u001b[0m\u001b[1;33m]\u001b[0m\u001b[1;33m\u001b[0m\u001b[0m\n\u001b[0;32m     37\u001b[0m             \u001b[1;32melse\u001b[0m\u001b[1;33m:\u001b[0m\u001b[1;33m\u001b[0m\u001b[0m\n\u001b[1;32m---> 38\u001b[1;33m                 \u001b[0mvalue\u001b[0m \u001b[1;33m=\u001b[0m \u001b[0mp\u001b[0m\u001b[1;33m(\u001b[0m\u001b[1;33m)\u001b[0m\u001b[1;33m\u001b[0m\u001b[0m\n\u001b[0m\u001b[0;32m     39\u001b[0m             \u001b[1;32mif\u001b[0m \u001b[0misinstance\u001b[0m\u001b[1;33m(\u001b[0m\u001b[0mvalue\u001b[0m\u001b[1;33m,\u001b[0m \u001b[0mnp\u001b[0m\u001b[1;33m.\u001b[0m\u001b[0mndarray\u001b[0m\u001b[1;33m)\u001b[0m\u001b[1;33m:\u001b[0m\u001b[1;33m\u001b[0m\u001b[0m\n\u001b[0;32m     40\u001b[0m                 \u001b[0mvalue\u001b[0m \u001b[1;33m=\u001b[0m \u001b[0mvalue\u001b[0m\u001b[1;33m.\u001b[0m\u001b[0mreshape\u001b[0m\u001b[1;33m(\u001b[0m\u001b[1;33m-\u001b[0m\u001b[1;36m1\u001b[0m\u001b[1;33m)\u001b[0m\u001b[1;33m\u001b[0m\u001b[0m\n",
      "\u001b[1;32md:\\onedrive\\bf1\\code\\qcodes\\qcodes\\instrument\\parameter.py\u001b[0m in \u001b[0;36m__call__\u001b[1;34m(self, *args, **kwargs)\u001b[0m\n\u001b[0;32m    278\u001b[0m         \u001b[1;32mif\u001b[0m \u001b[0mlen\u001b[0m\u001b[1;33m(\u001b[0m\u001b[0margs\u001b[0m\u001b[1;33m)\u001b[0m \u001b[1;33m==\u001b[0m \u001b[1;36m0\u001b[0m\u001b[1;33m:\u001b[0m\u001b[1;33m\u001b[0m\u001b[0m\n\u001b[0;32m    279\u001b[0m             \u001b[1;32mif\u001b[0m \u001b[0mhasattr\u001b[0m\u001b[1;33m(\u001b[0m\u001b[0mself\u001b[0m\u001b[1;33m,\u001b[0m \u001b[1;34m'get'\u001b[0m\u001b[1;33m)\u001b[0m\u001b[1;33m:\u001b[0m\u001b[1;33m\u001b[0m\u001b[0m\n\u001b[1;32m--> 280\u001b[1;33m                 \u001b[1;32mreturn\u001b[0m \u001b[0mself\u001b[0m\u001b[1;33m.\u001b[0m\u001b[0mget\u001b[0m\u001b[1;33m(\u001b[0m\u001b[1;33m)\u001b[0m\u001b[1;33m\u001b[0m\u001b[0m\n\u001b[0m\u001b[0;32m    281\u001b[0m             \u001b[1;32melse\u001b[0m\u001b[1;33m:\u001b[0m\u001b[1;33m\u001b[0m\u001b[0m\n\u001b[0;32m    282\u001b[0m                 raise NotImplementedError('no get cmd found in' +\n",
      "\u001b[1;32md:\\onedrive\\bf1\\code\\qcodes\\qcodes\\instrument\\parameter.py\u001b[0m in \u001b[0;36mget_wrapper\u001b[1;34m(*args, **kwargs)\u001b[0m\n\u001b[0;32m    357\u001b[0m             \u001b[1;32mtry\u001b[0m\u001b[1;33m:\u001b[0m\u001b[1;33m\u001b[0m\u001b[0m\n\u001b[0;32m    358\u001b[0m                 \u001b[1;31m# There might be cases where a .get also has args/kwargs\u001b[0m\u001b[1;33m\u001b[0m\u001b[1;33m\u001b[0m\u001b[0m\n\u001b[1;32m--> 359\u001b[1;33m                 \u001b[0mvalue\u001b[0m \u001b[1;33m=\u001b[0m \u001b[0mget_function\u001b[0m\u001b[1;33m(\u001b[0m\u001b[1;33m*\u001b[0m\u001b[0margs\u001b[0m\u001b[1;33m,\u001b[0m \u001b[1;33m**\u001b[0m\u001b[0mkwargs\u001b[0m\u001b[1;33m)\u001b[0m\u001b[1;33m\u001b[0m\u001b[0m\n\u001b[0m\u001b[0;32m    360\u001b[0m                 \u001b[0mself\u001b[0m\u001b[1;33m.\u001b[0m\u001b[0mraw_value\u001b[0m \u001b[1;33m=\u001b[0m \u001b[0mvalue\u001b[0m\u001b[1;33m\u001b[0m\u001b[0m\n\u001b[0;32m    361\u001b[0m \u001b[1;33m\u001b[0m\u001b[0m\n",
      "\u001b[1;32md:\\onedrive\\bf1\\code\\qcodes\\qcodes\\utils\\command.py\u001b[0m in \u001b[0;36m__call__\u001b[1;34m(self, *args)\u001b[0m\n\u001b[0;32m    175\u001b[0m             raise TypeError(\n\u001b[0;32m    176\u001b[0m                 'command takes exactly {} args'.format(self.arg_count))\n\u001b[1;32m--> 177\u001b[1;33m         \u001b[1;32mreturn\u001b[0m \u001b[0mself\u001b[0m\u001b[1;33m.\u001b[0m\u001b[0mexec_function\u001b[0m\u001b[1;33m(\u001b[0m\u001b[1;33m*\u001b[0m\u001b[0margs\u001b[0m\u001b[1;33m)\u001b[0m\u001b[1;33m\u001b[0m\u001b[0m\n\u001b[0m",
      "\u001b[1;32md:\\onedrive\\bf1\\code\\qcodes\\qcodes\\utils\\command.py\u001b[0m in \u001b[0;36mcall_by_str\u001b[1;34m(self, *args)\u001b[0m\n\u001b[0;32m    124\u001b[0m     \u001b[1;32mdef\u001b[0m \u001b[0mcall_by_str\u001b[0m\u001b[1;33m(\u001b[0m\u001b[0mself\u001b[0m\u001b[1;33m,\u001b[0m \u001b[1;33m*\u001b[0m\u001b[0margs\u001b[0m\u001b[1;33m)\u001b[0m\u001b[1;33m:\u001b[0m\u001b[1;33m\u001b[0m\u001b[0m\n\u001b[0;32m    125\u001b[0m         \u001b[1;34m\"\"\"Execute a formatted string.\"\"\"\u001b[0m\u001b[1;33m\u001b[0m\u001b[0m\n\u001b[1;32m--> 126\u001b[1;33m         \u001b[1;32mreturn\u001b[0m \u001b[0mself\u001b[0m\u001b[1;33m.\u001b[0m\u001b[0mexec_str\u001b[0m\u001b[1;33m(\u001b[0m\u001b[0mself\u001b[0m\u001b[1;33m.\u001b[0m\u001b[0mcmd_str\u001b[0m\u001b[1;33m.\u001b[0m\u001b[0mformat\u001b[0m\u001b[1;33m(\u001b[0m\u001b[1;33m*\u001b[0m\u001b[0margs\u001b[0m\u001b[1;33m)\u001b[0m\u001b[1;33m)\u001b[0m\u001b[1;33m\u001b[0m\u001b[0m\n\u001b[0m\u001b[0;32m    127\u001b[0m \u001b[1;33m\u001b[0m\u001b[0m\n\u001b[0;32m    128\u001b[0m     \u001b[1;32mdef\u001b[0m \u001b[0mcall_by_str_parsed_out\u001b[0m\u001b[1;33m(\u001b[0m\u001b[0mself\u001b[0m\u001b[1;33m,\u001b[0m \u001b[1;33m*\u001b[0m\u001b[0margs\u001b[0m\u001b[1;33m)\u001b[0m\u001b[1;33m:\u001b[0m\u001b[1;33m\u001b[0m\u001b[0m\n",
      "\u001b[1;32md:\\onedrive\\bf1\\code\\qcodes\\qcodes\\instrument\\base.py\u001b[0m in \u001b[0;36mask\u001b[1;34m(self, cmd)\u001b[0m\n\u001b[0;32m    674\u001b[0m         \"\"\"\n\u001b[0;32m    675\u001b[0m         \u001b[1;32mtry\u001b[0m\u001b[1;33m:\u001b[0m\u001b[1;33m\u001b[0m\u001b[0m\n\u001b[1;32m--> 676\u001b[1;33m             \u001b[0manswer\u001b[0m \u001b[1;33m=\u001b[0m \u001b[0mself\u001b[0m\u001b[1;33m.\u001b[0m\u001b[0mask_raw\u001b[0m\u001b[1;33m(\u001b[0m\u001b[0mcmd\u001b[0m\u001b[1;33m)\u001b[0m\u001b[1;33m\u001b[0m\u001b[0m\n\u001b[0m\u001b[0;32m    677\u001b[0m \u001b[1;33m\u001b[0m\u001b[0m\n\u001b[0;32m    678\u001b[0m             \u001b[1;32mreturn\u001b[0m \u001b[0manswer\u001b[0m\u001b[1;33m\u001b[0m\u001b[0m\n",
      "\u001b[1;32md:\\onedrive\\bf1\\code\\qcodes\\qcodes\\instrument_drivers\\Minicircuits\\USBHIDMixin.py\u001b[0m in \u001b[0;36mask_raw\u001b[1;34m(self, cmd)\u001b[0m\n\u001b[0;32m    109\u001b[0m         \u001b[0mresponse\u001b[0m \u001b[1;33m=\u001b[0m \u001b[1;32mNone\u001b[0m\u001b[1;33m\u001b[0m\u001b[0m\n\u001b[0;32m    110\u001b[0m         \u001b[1;32mfor\u001b[0m \u001b[0m_\u001b[0m \u001b[1;32min\u001b[0m \u001b[0mrange\u001b[0m\u001b[1;33m(\u001b[0m\u001b[0mnumber_of_tries\u001b[0m\u001b[1;33m)\u001b[0m\u001b[1;33m:\u001b[0m\u001b[1;33m\u001b[0m\u001b[0m\n\u001b[1;32m--> 111\u001b[1;33m             \u001b[0mtime\u001b[0m\u001b[1;33m.\u001b[0m\u001b[0msleep\u001b[0m\u001b[1;33m(\u001b[0m\u001b[1;36m1\u001b[0m \u001b[1;33m/\u001b[0m \u001b[0mtries_per_second\u001b[0m\u001b[1;33m)\u001b[0m\u001b[1;33m\u001b[0m\u001b[0m\n\u001b[0m\u001b[0;32m    112\u001b[0m             \u001b[0mresponse\u001b[0m \u001b[1;33m=\u001b[0m \u001b[0mself\u001b[0m\u001b[1;33m.\u001b[0m\u001b[0m_get_data_buffer\u001b[0m\u001b[1;33m(\u001b[0m\u001b[1;33m)\u001b[0m\u001b[1;33m\u001b[0m\u001b[0m\n\u001b[0;32m    113\u001b[0m             \u001b[1;32mif\u001b[0m \u001b[0mresponse\u001b[0m \u001b[1;32mis\u001b[0m \u001b[1;32mnot\u001b[0m \u001b[1;32mNone\u001b[0m\u001b[1;33m:\u001b[0m\u001b[1;33m\u001b[0m\u001b[0m\n",
      "\u001b[1;31mKeyboardInterrupt\u001b[0m: "
     ]
    }
   ],
   "source": [
    "### User settings\n",
    "\n",
    "rf_frqs = np.linspace(200e6, 600e6, 401)[:] # spec frequencies\n",
    "ro_atts = np.arange(26, 42, 2)\n",
    "setup_awg = True\n",
    "int_time = 10e-3\n",
    "buffer_len = 100e-6\n",
    "\n",
    "### End User settings\n",
    "\n",
    "\n",
    "\n",
    "### Setting up instruments\n",
    "\n",
    "# set IQ acquisition controller\n",
    "acq = avgiq_acq\n",
    "acq.trigger_func = None\n",
    "\n",
    "# create new instance of sequence and detector\n",
    "sequence = create_inst(TriggeredReadoutSequence, 'sequence', awg=awg, force_new_instance=True)\n",
    "station = add2station(station, sequence)\n",
    "detector = create_inst(AlazarDetector, name='detector', acqctl=acq, force_new_instance=True)\n",
    "station = add2station(station, detector)\n",
    "\n",
    "# configure the sequence parameters\n",
    "sequence.pre_trigger_delay(1e-6) # some delay at the beginning\n",
    "sequence.trigger_len(100e-9) # short trigger for the alazar\n",
    "sequence.seq_len(10e-6) # quick rep-rate is OK here\n",
    "if setup_awg:\n",
    "    sequence.setup(program_awg=True, start_awg=True) # program and start only if something else is running before\n",
    "else:\n",
    "    sequence.setup(program_awg=False, start_awg=False)\n",
    "    \n",
    "# configure the Alazar detector\n",
    "detector.set_sweeper(sequence) # set the sequence (it's just one dummy sweep-point here)\n",
    "detector.demod_frq(hetsrc.IF()) # demod frequency from the sources\n",
    "detector.acq_time(buffer_len) # not too long integration time ber buffer\n",
    "detector.configure_alazar(\n",
    "    records_per_buffer=1,\n",
    "    buffers_per_acquisition=int(int_time/buffer_len), # set averaging by choosing the number of buffers\n",
    ")\n",
    "detector.setup() # this makes sure all params are set correctly\n",
    "\n",
    "### Set up the measurement info\n",
    "exp = select_experiment('resonator_spec', SAMPLE) # select experiment (info for the database)\n",
    "\n",
    "# need to make sure the sweep is correctly described in the beginning!\n",
    "meas = MeasurementExt(station, exp=exp, \n",
    "                      hard_sweep_detector=detector,\n",
    "                      soft_sweep_params=[\n",
    "                          hetsrc.frequency,\n",
    "                          ro_attenuator.attenuation,\n",
    "                      ])\n",
    "\n",
    "# and finally, the measurement loop\n",
    "meas.write_period = 2 # how often to write to the DB [s]\n",
    "with meas.run() as datasaver:\n",
    "    \n",
    "    # this is to connect the database to the plottr.\n",
    "    plot_subscriber = QcodesDatasetSubscriber(datasaver.dataset)\n",
    "    datasaver.dataset.subscribe(plot_subscriber, state=[])\n",
    "    \n",
    "    # the loop itself is trivial\n",
    "    for att in ro_atts:\n",
    "        ro_attenuator.attenuation(att)\n",
    "        \n",
    "        for f in rf_frqs:\n",
    "            hetsrc.frequency(f)\n",
    "            time.sleep(0.01)\n",
    "\n",
    "            detector.acquisition() # this gets the data from the alazar\n",
    "            datasaver.add_result(*meas.get_result()) # this adds all data to the datasaver."
   ]
  },
  {
   "cell_type": "code",
   "execution_count": null,
   "metadata": {},
   "outputs": [],
   "source": []
  },
  {
   "cell_type": "code",
   "execution_count": null,
   "metadata": {},
   "outputs": [],
   "source": []
  }
 ],
 "metadata": {
  "kernelspec": {
   "display_name": "Python 3",
   "language": "python",
   "name": "python3"
  },
  "language_info": {
   "codemirror_mode": {
    "name": "ipython",
    "version": 3
   },
   "file_extension": ".py",
   "mimetype": "text/x-python",
   "name": "python",
   "nbconvert_exporter": "python",
   "pygments_lexer": "ipython3",
   "version": "3.6.5"
  },
  "toc": {
   "base_numbering": 1,
   "nav_menu": {},
   "number_sections": true,
   "sideBar": true,
   "skip_h1_title": false,
   "title_cell": "Table of Contents",
   "title_sidebar": "Contents",
   "toc_cell": true,
   "toc_position": {
    "height": "calc(100% - 180px)",
    "left": "10px",
    "top": "150px",
    "width": "512px"
   },
   "toc_section_display": true,
   "toc_window_display": true
  }
 },
 "nbformat": 4,
 "nbformat_minor": 2
}
