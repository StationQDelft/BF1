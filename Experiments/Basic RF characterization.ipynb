{
 "cells": [
  {
   "cell_type": "markdown",
   "metadata": {
    "toc": true
   },
   "source": [
    "<h1>Table of Contents<span class=\"tocSkip\"></span></h1>\n",
    "<div class=\"toc\"><ul class=\"toc-item\"><li><span><a href=\"#Set-up-NB\" data-toc-modified-id=\"Set-up-NB-1\"><span class=\"toc-item-num\">1&nbsp;&nbsp;</span>Set up NB</a></span></li><li><span><a href=\"#Initialize\" data-toc-modified-id=\"Initialize-2\"><span class=\"toc-item-num\">2&nbsp;&nbsp;</span>Initialize</a></span><ul class=\"toc-item\"><li><span><a href=\"#global-settings\" data-toc-modified-id=\"global-settings-2.1\"><span class=\"toc-item-num\">2.1&nbsp;&nbsp;</span>global settings</a></span></li><li><span><a href=\"#create-instruments\" data-toc-modified-id=\"create-instruments-2.2\"><span class=\"toc-item-num\">2.2&nbsp;&nbsp;</span>create instruments</a></span></li><li><span><a href=\"#Default-(instrument)-settings\" data-toc-modified-id=\"Default-(instrument)-settings-2.3\"><span class=\"toc-item-num\">2.3&nbsp;&nbsp;</span>Default (instrument) settings</a></span></li></ul></li><li><span><a href=\"#Resonator-Spectroscopy\" data-toc-modified-id=\"Resonator-Spectroscopy-3\"><span class=\"toc-item-num\">3&nbsp;&nbsp;</span>Resonator Spectroscopy</a></span></li></ul></div>"
   ]
  },
  {
   "cell_type": "markdown",
   "metadata": {},
   "source": [
    "# Set up NB"
   ]
  },
  {
   "cell_type": "code",
   "execution_count": 1,
   "metadata": {
    "ExecuteTime": {
     "end_time": "2018-07-18T09:08:14.555557Z",
     "start_time": "2018-07-18T09:08:14.235571Z"
    }
   },
   "outputs": [],
   "source": [
    "%gui qt\n",
    "%matplotlib qt\n",
    "\n",
    "import sys\n",
    "import os\n",
    "import time\n",
    "import logging\n",
    "from importlib import reload\n",
    "\n",
    "import numpy as np\n",
    "from matplotlib import pyplot as plt"
   ]
  },
  {
   "cell_type": "code",
   "execution_count": 2,
   "metadata": {
    "ExecuteTime": {
     "end_time": "2018-07-18T09:08:15.425503Z",
     "start_time": "2018-07-18T09:08:14.565557Z"
    }
   },
   "outputs": [],
   "source": [
    "import qcodes as qc\n",
    "import broadbean as bb"
   ]
  },
  {
   "cell_type": "code",
   "execution_count": 4,
   "metadata": {
    "ExecuteTime": {
     "end_time": "2018-07-18T09:08:15.455500Z",
     "start_time": "2018-07-18T09:08:15.435502Z"
    }
   },
   "outputs": [],
   "source": [
    "from pytopo.mplplots import init_nb_plotting; reload(init_nb_plotting)\n",
    "from pytopo.mplplots.init_nb_plotting import *\n",
    "from pytopo.mplplots import plots as mplplots"
   ]
  },
  {
   "cell_type": "code",
   "execution_count": 15,
   "metadata": {
    "ExecuteTime": {
     "end_time": "2018-07-18T09:33:20.034509Z",
     "start_time": "2018-07-18T09:33:20.014500Z"
    }
   },
   "outputs": [],
   "source": [
    "from pytopo.qctools import instruments as instools; reload(instools)\n",
    "from pytopo.qctools.instruments import create_inst, add2station\n",
    "from pytopo.qctools.dataset2 import select_experiment\n",
    "from pytopo.qctools.measurement import MeasurementExt\n",
    "\n",
    "from pytopo.rf import alazar_detector; reload(alazar_detector)\n",
    "from pytopo.rf.alazar_detector import AlazarDetector\n",
    "\n",
    "from plottr import qcodes_dataset; reload(qcodes_dataset)\n",
    "from plottr.qcodes_dataset import QcodesDatasetSubscriber\n",
    "\n",
    "from cqed import broadbean; reload(broadbean)\n",
    "from cqed.broadbean import BroadBeanSequence, BluePrints\n",
    "\n",
    "from cqed import bb_sequences; reload(bb_sequences)\n",
    "from cqed.bb_sequences import TriggeredReadoutSequence"
   ]
  },
  {
   "cell_type": "code",
   "execution_count": null,
   "metadata": {},
   "outputs": [],
   "source": []
  },
  {
   "cell_type": "markdown",
   "metadata": {},
   "source": [
    "# Initialize"
   ]
  },
  {
   "cell_type": "markdown",
   "metadata": {},
   "source": [
    "## global settings"
   ]
  },
  {
   "cell_type": "code",
   "execution_count": 16,
   "metadata": {
    "ExecuteTime": {
     "end_time": "2018-07-18T09:33:22.027984Z",
     "start_time": "2018-07-18T09:33:21.988016Z"
    }
   },
   "outputs": [],
   "source": [
    "SAMPLE = 'Cq334'\n",
    "\n",
    "qc.config['core']['db_location'] = r\"d:/OneDrive/BF1/Data/experiments.db\"\n",
    "\n",
    "BroadBeanSequence.chan_map = {\n",
    "    1 : ['awg_voltage', 'ro_trigger', None],\n",
    "}\n",
    "BroadBeanSequence.chan_settings[1]['Vpp'] = 2.0\n",
    "BroadBeanSequence.chan_settings[2]['Vpp'] = 2.0\n",
    "\n",
    "BroadBeanSequence.sweep_wait = None\n",
    "\n",
    "TriggeredReadoutSequence.chan_map = {\n",
    "    1 : ['FILL.1', 'ro_trigger', None],\n",
    "}\n",
    "\n",
    "qc.dataset.database.initialise_database()"
   ]
  },
  {
   "cell_type": "code",
   "execution_count": null,
   "metadata": {},
   "outputs": [],
   "source": []
  },
  {
   "cell_type": "markdown",
   "metadata": {},
   "source": [
    "## create instruments"
   ]
  },
  {
   "cell_type": "code",
   "execution_count": 11,
   "metadata": {
    "ExecuteTime": {
     "end_time": "2018-07-18T09:30:47.634034Z",
     "start_time": "2018-07-18T09:30:43.444259Z"
    }
   },
   "outputs": [
    {
     "name": "stdout",
     "output_type": "stream",
     "text": [
      "Instrument alazar already exists.\n",
      "Instrument raw_acq already exists.\n",
      "Instrument avgdemod_acq already exists.\n",
      "Instrument avgiq_acq already exists.\n",
      "Instrument LO already exists.\n",
      "Instrument RF already exists.\n",
      "Instrument hetsrc already exists.\n",
      "Instrument awg already exists.\n",
      "Connected to: TEKTRONIX AWG5014C (serial:B051388, firmware:SCPI:99.0 FW:4.6.0.7) in 0.07s\n",
      "Instrument ro_attenuator already exists.\n"
     ]
    }
   ],
   "source": [
    "inst_list = []\n",
    "\n",
    "# Alazar\n",
    "# from qcodes.instrument_drivers.AlazarTech import utils; reload(utils)\n",
    "# from qcodes.instrument_drivers.AlazarTech import ATS9360; reload(ATS9360)\n",
    "from qcodes.instrument_drivers.AlazarTech.ATS9360 import AlazarTech_ATS9360\n",
    "alazar = instools.create_inst(AlazarTech_ATS9360, 'alazar', force_new_instance=True)\n",
    "inst_list.append(alazar)\n",
    "\n",
    "# Alazar aquisition controllers\n",
    "from pytopo.rf import alazar_acquisition; reload(alazar_acquisition)\n",
    "from pytopo.rf.alazar_acquisition import RawAcqCtl, AvgDemodCtl, AvgIQCtl\n",
    "\n",
    "raw_acq = instools.create_inst(RawAcqCtl, 'raw_acq', 'alazar', force_new_instance=True)\n",
    "inst_list.append(raw_acq)\n",
    "\n",
    "avgdemod_acq = instools.create_inst(AvgDemodCtl, 'avgdemod_acq', 'alazar', force_new_instance=True)\n",
    "inst_list.append(avgdemod_acq)\n",
    "\n",
    "avgiq_acq = instools.create_inst(AvgIQCtl, 'avgiq_acq', 'alazar', force_new_instance=True)\n",
    "inst_list.append(avgiq_acq)\n",
    "\n",
    "# RF sources\n",
    "from qcodes.instrument_drivers.rohde_schwarz.SGS100A import RohdeSchwarz_SGS100A\n",
    "LO = instools.create_inst(RohdeSchwarz_SGS100A, 'LO', address=\"TCPIP0::169.254.234.107\")\n",
    "RF = instools.create_inst(RohdeSchwarz_SGS100A, 'RF', address=\"TCPIP0::169.254.2.20\")\n",
    "inst_list.append(LO)\n",
    "inst_list.append(RF)\n",
    "\n",
    "from pytopo.rf.sources import HeterodyneSource\n",
    "hetsrc = instools.create_inst(HeterodyneSource, 'hetsrc', RF=RF, LO=LO, force_new_instance=True)\n",
    "inst_list.append(hetsrc)\n",
    "\n",
    "# AWG and sequences\n",
    "from qcodes.instrument_drivers.tektronix.AWG5014 import Tektronix_AWG5014\n",
    "awg = instools.create_inst(Tektronix_AWG5014, 'awg', address='TCPIP0::169.254.183.196::inst0::INSTR')\n",
    "inst_list.append(awg)\n",
    "\n",
    "from qcodes.instrument_drivers.Minicircuits.RUDAT_13G_90 import RUDAT_13G_90_USB\n",
    "ro_attenuator = instools.create_inst(RUDAT_13G_90_USB, 'ro_attenuator')\n",
    "inst_list.append(ro_attenuator)\n",
    "\n",
    "\n",
    "\n",
    "\n",
    "\n",
    "\n",
    "station = qc.Station(*inst_list)"
   ]
  },
  {
   "cell_type": "code",
   "execution_count": null,
   "metadata": {},
   "outputs": [],
   "source": []
  },
  {
   "cell_type": "markdown",
   "metadata": {},
   "source": [
    "## Default (instrument) settings"
   ]
  },
  {
   "cell_type": "code",
   "execution_count": 25,
   "metadata": {
    "ExecuteTime": {
     "end_time": "2018-07-18T09:41:46.372061Z",
     "start_time": "2018-07-18T09:41:46.222090Z"
    }
   },
   "outputs": [
    {
     "name": "stderr",
     "output_type": "stream",
     "text": [
      "d:\\onedrive\\bf1\\code\\qcodes\\qcodes\\instrument_drivers\\AlazarTech\\ATS.py:564: UserWarning: Using Internal clock but parameter external_sample_rate is set.This will have no effect and is ignored\n",
      "  warnings.warn(\"Using Internal clock but parameter external_sample_rate is set.\"\n"
     ]
    }
   ],
   "source": [
    "with alazar.syncing():\n",
    "    alazar.clock_source('INTERNAL_CLOCK')\n",
    "    alazar.sample_rate(int(0.2e9))\n",
    "    alazar.clock_edge('CLOCK_EDGE_RISING')\n",
    "    alazar.external_sample_rate(int(1e9))\n",
    "    alazar.decimation(1)\n",
    "    alazar.coupling1('DC')\n",
    "    alazar.coupling2('DC')\n",
    "    alazar.channel_range1(0.4)\n",
    "    alazar.channel_range2(0.4)\n",
    "    alazar.impedance1(50)\n",
    "    alazar.impedance2(50)\n",
    "    alazar.trigger_source1('EXTERNAL')\n",
    "    alazar.trigger_level1(128 + 5)\n",
    "    alazar.external_trigger_coupling('DC')\n",
    "    alazar.external_trigger_range('ETR_5V')\n",
    "    alazar.trigger_delay(0)\n",
    "    alazar.timeout_ticks(int(1e7))\n",
    "    \n",
    "    \n",
    "hetsrc.frequency(500e6)\n",
    "hetsrc.IF(8e6)\n",
    "hetsrc.RF.on()\n",
    "hetsrc.LO.on()\n",
    "hetsrc.RF.power(0)\n",
    "hetsrc.LO.power(15)\n",
    "RF.pulsemod_state('off')\n",
    "\n",
    "ro_attenuator.attenuation(30)"
   ]
  },
  {
   "cell_type": "code",
   "execution_count": null,
   "metadata": {},
   "outputs": [],
   "source": []
  },
  {
   "cell_type": "code",
   "execution_count": null,
   "metadata": {},
   "outputs": [],
   "source": []
  },
  {
   "cell_type": "markdown",
   "metadata": {},
   "source": [
    "# Resonator Spectroscopy"
   ]
  },
  {
   "cell_type": "code",
   "execution_count": 28,
   "metadata": {
    "ExecuteTime": {
     "end_time": "2018-07-18T10:20:45.860539Z",
     "start_time": "2018-07-18T10:00:27.200662Z"
    }
   },
   "outputs": [
    {
     "name": "stderr",
     "output_type": "stream",
     "text": [
      "No ro_gate defined in channel map. No readout gate pulse will be generated.\n",
      "No src_gate defined in channel map. No src gate pulse will be generated.\n"
     ]
    },
    {
     "name": "stdout",
     "output_type": "stream",
     "text": [
      "Instrument sequence already exists.\n",
      "Instrument detector already exists.\n",
      "Starting experimental run with id: 1105\n"
     ]
    }
   ],
   "source": [
    "### User settings\n",
    "\n",
    "rf_frqs = np.linspace(200e6, 600e6, 401)[:] # spec frequencies\n",
    "ro_atts = np.arange(26, 42, 2)\n",
    "setup_awg = True\n",
    "int_time = 10e-3\n",
    "buffer_len = 100e-6\n",
    "\n",
    "### End User settings\n",
    "\n",
    "\n",
    "\n",
    "### Setting up instruments\n",
    "\n",
    "# set IQ acquisition controller\n",
    "acq = avgiq_acq\n",
    "acq.trigger_func = None\n",
    "\n",
    "# create new instance of sequence and detector\n",
    "sequence = create_inst(TriggeredReadoutSequence, 'sequence', awg=awg, force_new_instance=True)\n",
    "station = add2station(station, sequence)\n",
    "detector = create_inst(AlazarDetector, name='detector', acqctl=acq, force_new_instance=True)\n",
    "station = add2station(station, detector)\n",
    "\n",
    "# configure the sequence parameters\n",
    "sequence.pre_trigger_delay(1e-6) # some delay at the beginning\n",
    "sequence.trigger_len(100e-9) # short trigger for the alazar\n",
    "sequence.seq_len(10e-6) # quick rep-rate is OK here\n",
    "if setup_awg:\n",
    "    sequence.setup(program_awg=True, start_awg=True) # program and start only if something else is running before\n",
    "else:\n",
    "    sequence.setup(program_awg=False, start_awg=False)\n",
    "    \n",
    "# configure the Alazar detector\n",
    "detector.set_sweeper(sequence) # set the sequence (it's just one dummy sweep-point here)\n",
    "detector.demod_frq(hetsrc.IF()) # demod frequency from the sources\n",
    "detector.acq_time(buffer_len) # not too long integration time ber buffer\n",
    "detector.configure_alazar(\n",
    "    records_per_buffer=1,\n",
    "    buffers_per_acquisition=int(int_time/buffer_len), # set averaging by choosing the number of buffers\n",
    ")\n",
    "detector.setup() # this makes sure all params are set correctly\n",
    "\n",
    "### Set up the measurement info\n",
    "exp = select_experiment('resonator_spec', SAMPLE) # select experiment (info for the database)\n",
    "\n",
    "# need to make sure the sweep is correctly described in the beginning!\n",
    "meas = MeasurementExt(station, exp=exp, \n",
    "                      hard_sweep_detector=detector,\n",
    "                      soft_sweep_params=[\n",
    "                          hetsrc.frequency,\n",
    "                          ro_attenuator.attenuation,\n",
    "                      ])\n",
    "\n",
    "# and finally, the measurement loop\n",
    "meas.write_period = 2 # how often to write to the DB [s]\n",
    "with meas.run() as datasaver:\n",
    "    \n",
    "    # this is to connect the database to the plottr.\n",
    "    plot_subscriber = QcodesDatasetSubscriber(datasaver.dataset)\n",
    "    datasaver.dataset.subscribe(plot_subscriber, state=[])\n",
    "    \n",
    "    # the loop itself is trivial\n",
    "    for att in ro_atts:\n",
    "        ro_attenuator.attenuation(att)\n",
    "        \n",
    "        for f in rf_frqs:\n",
    "            hetsrc.frequency(f)\n",
    "            time.sleep(0.01)\n",
    "\n",
    "            detector.acquisition() # this gets the data from the alazar\n",
    "            datasaver.add_result(*meas.get_result()) # this adds all data to the datasaver."
   ]
  },
  {
   "cell_type": "code",
   "execution_count": null,
   "metadata": {},
   "outputs": [],
   "source": []
  },
  {
   "cell_type": "code",
   "execution_count": null,
   "metadata": {},
   "outputs": [],
   "source": []
  }
 ],
 "metadata": {
  "kernelspec": {
   "display_name": "Python 3",
   "language": "python",
   "name": "python3"
  },
  "language_info": {
   "codemirror_mode": {
    "name": "ipython",
    "version": 3
   },
   "file_extension": ".py",
   "mimetype": "text/x-python",
   "name": "python",
   "nbconvert_exporter": "python",
   "pygments_lexer": "ipython3",
   "version": "3.6.5"
  },
  "toc": {
   "base_numbering": 1,
   "nav_menu": {},
   "number_sections": true,
   "sideBar": true,
   "skip_h1_title": false,
   "title_cell": "Table of Contents",
   "title_sidebar": "Contents",
   "toc_cell": true,
   "toc_position": {},
   "toc_section_display": true,
   "toc_window_display": true
  }
 },
 "nbformat": 4,
 "nbformat_minor": 2
}
