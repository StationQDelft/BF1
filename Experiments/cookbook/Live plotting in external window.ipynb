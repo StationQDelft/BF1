{
 "cells": [
  {
   "cell_type": "code",
   "execution_count": 1,
   "metadata": {},
   "outputs": [],
   "source": [
    "%gui qt5\n",
    "%matplotlib qt5"
   ]
  },
  {
   "cell_type": "code",
   "execution_count": 11,
   "metadata": {},
   "outputs": [],
   "source": [
    "import time\n",
    "import numpy as np\n",
    "import matplotlib as mpl\n",
    "\n",
    "from importlib import reload\n",
    "from matplotlib import pyplot as plt\n",
    "\n",
    "from labtools import mplplots; reload(mplplots)\n",
    "from labtools.mplplots.init_nb_plotting import *\n",
    "from labtools.mplplots import tools as mpltools\n",
    "\n",
    "import qcodes as qc\n",
    "from qcodes.dataset.measurements import Measurement\n",
    "from qcodes.instrument.parameter import ManualParameter\n",
    "from qcodes.sweep import sweep\n",
    "from qcodes.sweep.sweep import time_trace\n",
    "\n",
    "from v2_dataset_tools.experiments import do_experiment, get_results_from_db_path\n",
    "\n",
    "from qtpy.QtWidgets import QApplication\n",
    "# from qtpy.QtGui import QPixmap"
   ]
  },
  {
   "cell_type": "code",
   "execution_count": null,
   "metadata": {},
   "outputs": [],
   "source": []
  },
  {
   "cell_type": "code",
   "execution_count": 5,
   "metadata": {},
   "outputs": [],
   "source": [
    "def update_plot_window(fig=None, activate_window=True):\n",
    "    if fig is not None:\n",
    "        fig.canvas.draw()\n",
    "        if activate_window:\n",
    "            fig.canvas.manager.window.activateWindow()\n",
    "            fig.canvas.manager.window.raise_()\n",
    "    QApplication.processEvents()"
   ]
  },
  {
   "cell_type": "code",
   "execution_count": 9,
   "metadata": {},
   "outputs": [],
   "source": [
    "# the most minimal example.\n",
    "# plot window updates fine, but interacting with the window blocks the measurement. that means it's unusable.\n",
    "m = ManualParameter(\"m\", unit=\"A\")\n",
    "m.get = lambda: np.sin((time.time() - t0) * 2 * np.pi / 2)\n",
    "\n",
    "tvals = []\n",
    "mvals = []\n",
    "\n",
    "fig, ax = plt.subplots(1,1)\n",
    "\n",
    "t0 = time.time()\n",
    "for i in range(20):\n",
    "    t = time.time() - t0\n",
    "    tvals.append(t)\n",
    "    mvals.append(m())\n",
    "    \n",
    "    ax.clear()\n",
    "    ax.plot(tvals, mvals, 'ko')\n",
    "    update_plot_window(fig)\n",
    "    \n",
    "    time.sleep(0.1)"
   ]
  },
  {
   "cell_type": "code",
   "execution_count": null,
   "metadata": {},
   "outputs": [],
   "source": []
  },
  {
   "cell_type": "code",
   "execution_count": null,
   "metadata": {},
   "outputs": [],
   "source": []
  },
  {
   "cell_type": "code",
   "execution_count": 26,
   "metadata": {},
   "outputs": [
    {
     "name": "stdout",
     "output_type": "stream",
     "text": [
      "Starting experimental run with id: 42\n"
     ]
    }
   ],
   "source": [
    "# this \n",
    "\n",
    "x = ManualParameter('t', unit='s')\n",
    "x.get = lambda: time.time() - t0\n",
    "\n",
    "t0 = time.time()\n",
    "\n",
    "meas = Measurement()\n",
    "meas.register_parameter(x)\n",
    "meas.register_parameter(m, setpoints=(x, ))\n",
    "\n",
    "fig, ax = plt.subplots(1,1)\n",
    "fig2, ax2 = plt.subplots(1,1)\n",
    "\n",
    "with meas.run() as datasaver:\n",
    "    tvals = []\n",
    "    mvals = []\n",
    "    for i in range(20):\n",
    "        t = x()\n",
    "        mval = m()\n",
    "        tvals.append(t)\n",
    "        mvals.append(mval)\n",
    "        datasaver.add_result((x, t), (m, mval))\n",
    "        \n",
    "        ax.clear()\n",
    "        ax.plot(tvals, mvals, 'ko')\n",
    "        update_plot_window(fig)\n",
    "        \n",
    "        tvals2 = datasaver.dataset.get_data('t')\n",
    "        mvals2 = datasaver.dataset.get_data('m')\n",
    "        ax2.clear()\n",
    "        ax2.plot(tvals2, mvals2, 'ro')\n",
    "        update_plot_window(fig2)\n",
    "        \n",
    "        time.sleep(0.1)\n",
    "        \n",
    "tvals2 = datasaver.dataset.get_data('t')\n",
    "mvals2 = datasaver.dataset.get_data('m')\n",
    "ax2.clear()\n",
    "ax2.plot(tvals2, mvals2, 'ro')\n",
    "update_plot_window(fig2)"
   ]
  },
  {
   "cell_type": "code",
   "execution_count": null,
   "metadata": {},
   "outputs": [],
   "source": []
  },
  {
   "cell_type": "code",
   "execution_count": null,
   "metadata": {},
   "outputs": [],
   "source": []
  }
 ],
 "metadata": {
  "kernelspec": {
   "display_name": "Python 3",
   "language": "python",
   "name": "python3"
  },
  "language_info": {
   "codemirror_mode": {
    "name": "ipython",
    "version": 3
   },
   "file_extension": ".py",
   "mimetype": "text/x-python",
   "name": "python",
   "nbconvert_exporter": "python",
   "pygments_lexer": "ipython3",
   "version": "3.6.4"
  }
 },
 "nbformat": 4,
 "nbformat_minor": 2
}
