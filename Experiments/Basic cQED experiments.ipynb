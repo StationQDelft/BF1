{
 "cells": [
  {
   "cell_type": "code",
   "execution_count": null,
   "metadata": {},
   "outputs": [],
   "source": [
    "%matplotlib notebook\n",
    "\n",
    "import sys\n",
    "import os\n",
    "import time\n",
    "from importlib import reload"
   ]
  },
  {
   "cell_type": "code",
   "execution_count": null,
   "metadata": {},
   "outputs": [],
   "source": [
    "import numpy as np\n",
    "import qcodes as qc\n",
    "import broadbean as bb\n",
    "\n",
    "from matplotlib import pyplot as plt\n",
    "from broadbean.plotting import plotter"
   ]
  },
  {
   "cell_type": "code",
   "execution_count": null,
   "metadata": {},
   "outputs": [],
   "source": [
    "from qcodes.instrument.base import Instrument\n",
    "from qcodes.dataset.measurements import Measurement\n",
    "from qcodes.dataset.plotting import plot_by_id\n",
    "from qcodes.dataset.data_set import DataSet\n",
    "from qcodes.sweep import sweep, nest, chain, szip, getter, setter\n",
    "from qcodes.sweep.sweep import ParameterSweep, Nest, ParameterWrapper, FunctionWrapper, FunctionSweep, getter"
   ]
  },
  {
   "cell_type": "code",
   "execution_count": null,
   "metadata": {},
   "outputs": [],
   "source": [
    "from pytopo.qctools import instruments as instools; reload(instools)\n",
    "from pytopo.qctools.instruments import create_inst, add2station\n",
    "\n",
    "from pytopo.qctools import measurement; reload(measurement)\n",
    "from pytopo.qctools.measurement import MeasurementExt\n",
    "\n",
    "from pytopo.mplplots.init_nb_plotting import *\n",
    "from pytopo.mplplots import plots as mplplots\n",
    "from pytopo.mplplots import tools as mpltools"
   ]
  },
  {
   "cell_type": "code",
   "execution_count": null,
   "metadata": {},
   "outputs": [],
   "source": [
    "import plottr; reload(plottr)\n",
    "\n",
    "from pytopo.qctools.dataset2 import select_experiment\n",
    "from plottr.qcodes_dataset import QcodesDatasetSubscriber"
   ]
  },
  {
   "cell_type": "markdown",
   "metadata": {},
   "source": [
    "# Init"
   ]
  },
  {
   "cell_type": "markdown",
   "metadata": {},
   "source": [
    "## Tools"
   ]
  },
  {
   "cell_type": "code",
   "execution_count": null,
   "metadata": {},
   "outputs": [],
   "source": [
    "from pytopo.qctools import hard_sweep; reload(hard_sweep)\n",
    "from pytopo.qctools.hard_sweep import HardSweep, HardSweepDetector"
   ]
  },
  {
   "cell_type": "code",
   "execution_count": null,
   "metadata": {},
   "outputs": [],
   "source": [
    "# from qcodes.instrument.base import Instrument\n",
    "\n",
    "# class IFController(Instrument):\n",
    "    \n",
    "#     def __init__(self, name, rf_inst, lo_inst, **kw):\n",
    "#         super().__init__(name, **kw)\n",
    "        \n",
    "#         self.rf = rf_inst\n",
    "#         self.lo = lo_inst\n",
    "        \n",
    "#         pass"
   ]
  },
  {
   "cell_type": "markdown",
   "metadata": {},
   "source": [
    "### Pulse sequencer"
   ]
  },
  {
   "cell_type": "code",
   "execution_count": null,
   "metadata": {},
   "outputs": [],
   "source": [
    "ramp = bb.PulseAtoms.ramp\n",
    "\n",
    "class BluePrints(object):\n",
    "    \n",
    "    def __init__(self, chan_map, sample_rate=1e9):\n",
    "        self.bps = {}\n",
    "        self.map = {}\n",
    "        \n",
    "        for i, lst in chan_map.items():\n",
    "            self.bps[i] = bb.BluePrint()\n",
    "            self.bps[i].setSR(sample_rate)\n",
    "            for j, name in enumerate(lst):\n",
    "                if name is not None:\n",
    "                    self.map[name] = (i, j)\n",
    "                    \n",
    "    def __getitem__(self, name):\n",
    "        if self.map[name][1] == 0:\n",
    "            return self.bps[self.map[name][0]]\n",
    "        else:\n",
    "            return getattr(self.bps[self.map[name][0]], 'marker{}'.format(self.map[name][1]))\n",
    "        \n",
    "    def __setitem__(self, name, value):\n",
    "        if self.map[name][1] == 0:\n",
    "            self.bps[self.map[name][0]] = value\n",
    "        else:\n",
    "            setattr(self.bps[self.map[name][0]], 'marker{}'.format(self.map[name][1]), value)\n",
    "        \n",
    "    def __call__(self):\n",
    "        return list(self.bps.items())\n",
    "    \n",
    "\n",
    "class BroadBeanSequence(HardSweep):\n",
    "    \n",
    "    chan_map = {}\n",
    "    \n",
    "    def __init__(self, name, awg, chan_map, **kw):\n",
    "        self.awg = awg\n",
    "        self.chan_map = chan_map\n",
    "        \n",
    "        super().__init__(name, **kw)\n",
    "        \n",
    "        self.add_parameter('sample_rate', get_cmd=None, set_cmd=None, \n",
    "                           unit='GS/s', initial_value=1e9)\n",
    "        \n",
    "    def sequence(self):\n",
    "        raise NotImplementedError\n",
    "        \n",
    "        \n",
    "    def setup(self, program_awg=True, start_awg=True):\n",
    "        super().setup()\n",
    "        \n",
    "        self.awg.stop()\n",
    "        \n",
    "        if program_awg:\n",
    "            self.awg.clock_freq(self.sample_rate())\n",
    "            seq = self.sequence()\n",
    "            pkg = seq.outputForAWGFile()\n",
    "            self.awg.make_send_and_load_awg_file(*pkg[:])\n",
    "        \n",
    "            for ch_no, ch_desc in self.chan_map.items():\n",
    "                self.awg.set('ch{}_state'.format(ch_no), 1)\n",
    "\n",
    "        if start_awg:\n",
    "            self.awg.start()\n",
    "\n",
    "        \n",
    "class SimpleAWGSpec(BroadBeanSequence):\n",
    "\n",
    "    def __init__(self, *arg, **kw):\n",
    "        \n",
    "        kw['sweep_dims'] = ['awg_sweep_idx', ]\n",
    "        \n",
    "        super().__init__(*arg, **kw)\n",
    "        \n",
    "        self.add_parameter('initial_delay', set_cmd=None,\n",
    "                           unit='s', initial_value=1e-6)\n",
    "        self.add_parameter('alazar_trigger_len', set_cmd=None,\n",
    "                           unit='s', initial_value=1e-7)\n",
    "        self.add_parameter('alazar_trigger_delay', set_cmd=None, \n",
    "                           unit='s', initial_value=1e-6)\n",
    "        self.add_parameter('seq_len', set_cmd=None, \n",
    "                           unit='s', initial_value=1e-5)\n",
    "        self.add_parameter('final_delay', set_cmd=None,\n",
    "                           unit='s', initial_value=1e-6)\n",
    "\n",
    "    def setup(self, **kw):\n",
    "        self.awg_sweep_idx([1,])\n",
    "        super().setup(**kw)\n",
    "        \n",
    "    def sequence(self):\n",
    "        elem = bb.Element()\n",
    "        \n",
    "        bps = BluePrints(self.chan_map, sample_rate=self.sample_rate())\n",
    "        \n",
    "        bps['ro'].insertSegment(0, ramp, (0, 0), dur=self.seq_len(), name='ro_segment')\n",
    "        bps['alz_mrkr'] = [(self.initial_delay(), self.alazar_trigger_len())]\n",
    "        bps['ro_mrkr'] = [(self.initial_delay() + self.alazar_trigger_delay(), \n",
    "                           self.seq_len() - self.initial_delay() - 2 * self.alazar_trigger_delay() - self.final_delay(), )]\n",
    "        \n",
    "        bps['q'].insertSegment(0, ramp, (0, 0), dur=self.seq_len(), name='q_segment')\n",
    "        bps['q_mrkr'] = [(self.initial_delay() + self.alazar_trigger_delay(), \n",
    "                          self.seq_len() - self.initial_delay() - 2 * self.alazar_trigger_delay() - self.final_delay(), )]\n",
    "        \n",
    "        \n",
    "        for n, bp in bps():\n",
    "            elem.addBluePrint(n, bp)\n",
    "            \n",
    "        seq = bb.Sequence()\n",
    "        seq.name = 'spec'\n",
    "        seq.addElement(1, elem)\n",
    "        seq.setSR(self.sample_rate())\n",
    "        \n",
    "        seq.setChannelAmplitude(1, 1)\n",
    "        seq.setChannelOffset(1, 0)\n",
    "        seq.setChannelAmplitude(2, 1)\n",
    "        seq.setChannelOffset(2, 0)\n",
    "\n",
    "        seq.setSequencingTriggerWait(1, 0)\n",
    "        seq.setSequencingGoto(1, 1)\n",
    "        \n",
    "        return seq"
   ]
  },
  {
   "cell_type": "markdown",
   "metadata": {},
   "source": [
    "### Alazar Detector"
   ]
  },
  {
   "cell_type": "code",
   "execution_count": null,
   "metadata": {},
   "outputs": [],
   "source": [
    "class AlazarBaseDetector(HardSweepDetector):\n",
    "    \n",
    "    def __init__(self, name, acqctl, sweep_params=['buffers', 'records'], **kwargs):\n",
    "        self.acqctl = acqctl        \n",
    "        self._time = None\n",
    "        self._signal_real = None\n",
    "        self._signal_imag = None\n",
    "        self._signal_abs = None\n",
    "\n",
    "        inner_dims = []\n",
    "        for d in self.acqctl.data_dims():\n",
    "            if d not in sweep_params:\n",
    "                inner_dims.append(d)\n",
    "        \n",
    "        super().__init__(name, inner_dims=inner_dims, **kwargs)\n",
    "        \n",
    "        self.add_parameter('acquisition', get_cmd=self.do_acquisition, unit='V', snapshot_value=False)\n",
    "        self.add_parameter('signal_real', get_cmd=lambda: self._signal_real, unit='V', snapshot_value=False)\n",
    "        self.add_parameter('signal_imag', get_cmd=lambda: self._signal_imag, unit='V', snapshot_value=False)\n",
    "        self.add_parameter('signal_abs', get_cmd=lambda: self._signal_abs, unit='V', snapshot_value=False)\n",
    "        self.data_params = [self.signal_real, self.signal_imag, self.signal_abs]\n",
    "        \n",
    "        if 'samples' in self.inner_dims or 'IF_periods' in self.inner_dims:\n",
    "            self.add_parameter('time', unit='s', snapshot_value=False, \n",
    "                               get_cmd=lambda: self._time)\n",
    "\n",
    "    def setup(self):\n",
    "        ### TODO:\n",
    "        # We should have an option that it's possible to not specify all dimensions,\n",
    "        # and basically set the shape to (-1, xxx), i.e., set the first one automatic.\n",
    "        # that might then be an implicit averaging dimension, for example.\n",
    "        # then sweepers can be used for both avering over buffers, or single-shot        \n",
    "        for d in self.inner_dims:\n",
    "            idx = self.acqctl.data_dims().index(d)\n",
    "            try:\n",
    "                npts = self.acqctl.data_shape()[idx]\n",
    "            except:\n",
    "                npts = 1\n",
    "            self.set(d, np.arange(npts))\n",
    "            \n",
    "        super().setup()\n",
    "    \n",
    "    \n",
    "    def do_acquisition(self):\n",
    "        data = self.acqctl.acquisition()\n",
    "        self.setup()\n",
    "        \n",
    "        if 'samples' in self.inner_dims:\n",
    "            self._time = self.acqctl.tvals\n",
    "        elif 'IF_periods' in self.inner_dims:\n",
    "            self._time = self.acqctl.demod_tvals\n",
    "            \n",
    "        self._signal_real = np.real(data)\n",
    "        self._signal_imag = np.imag(data)\n",
    "        self._signal_abs = np.abs(data)\n",
    "        \n",
    "        return data\n",
    "\n",
    "    \n",
    "class AlazarDetector(AlazarBaseDetector):\n",
    "    \n",
    "    def __init__(self, name, acqctl, **kwargs):\n",
    "        kwargs['sweep_params'] = ['buffers', 'records']\n",
    "        \n",
    "        super().__init__(name, acqctl, **kwargs)\n",
    "        \n",
    "        self.add_parameter('avg_buffers', set_cmd=None, initial_value=True)\n",
    "        self.add_parameter('acq_time', \n",
    "                           get_cmd=lambda: self.acqctl.acq_time(), \n",
    "                           set_cmd=lambda x: self.acqctl.acq_time(x))\n",
    "        \n",
    "        if hasattr(self.acqctl, 'demod_frq'):\n",
    "            self.add_parameter('demod_frq', \n",
    "                               get_cmd=lambda: self.acqctl.demod_frq(), \n",
    "                               set_cmd=lambda x: self.acqctl.demod_frq(x))\n",
    "        \n",
    "    def configure_alazar(self, **kwargs):\n",
    "        defaults = dict(\n",
    "            buffer_timeout = 10000,\n",
    "            allocated_buffers = 1,\n",
    "        )\n",
    "        defaults.update(kwargs)\n",
    "        self.acqctl.update_acquisitionkwargs(**defaults)\n",
    "        \n",
    "    def do_acquisition(self):\n",
    "        data = super().do_acquisition()\n",
    "        \n",
    "        if self.avg_buffers():\n",
    "            bidx = self.acqctl.data_dims().index('buffers')\n",
    "            data = data.mean(axis=bidx)\n",
    "            \n",
    "            self._signal_real = np.real(data)\n",
    "            self._signal_imag = np.imag(data)\n",
    "            self._signal_abs = np.abs(data)\n",
    "            \n",
    "        return data"
   ]
  },
  {
   "cell_type": "markdown",
   "metadata": {},
   "source": [
    "### Heterodyne source"
   ]
  },
  {
   "cell_type": "code",
   "execution_count": null,
   "metadata": {
    "ExecuteTime": {
     "end_time": "2018-07-09T13:31:08.918830Z",
     "start_time": "2018-07-09T13:31:08.906832Z"
    }
   },
   "outputs": [],
   "source": [
    "class HeterodyneSource(Instrument):\n",
    "    \n",
    "    def __init__(self, name, RF, LO, *arg, **kw):\n",
    "        super().__init__(name, *arg, **kw)\n",
    "        \n",
    "        self.RF = RF\n",
    "        self.LO = LO\n",
    "        \n",
    "        self.add_parameter('IF', set_cmd=None, initial_value=20e6)\n",
    "        self.add_parameter('frequency', unit='Hz',\n",
    "                           get_cmd=self.RF.frequency, \n",
    "                           set_cmd=self._set_freq)\n",
    "        \n",
    "        self.frequency(self.frequency())\n",
    "    \n",
    "    def _set_freq(self, frq):\n",
    "        self.RF.frequency(frq)\n",
    "        self.LO.frequency(frq-self.IF())\n",
    "        "
   ]
  },
  {
   "cell_type": "markdown",
   "metadata": {},
   "source": [
    "## load instruments"
   ]
  },
  {
   "cell_type": "code",
   "execution_count": null,
   "metadata": {},
   "outputs": [],
   "source": [
    "# %run init_cQED.py"
   ]
  },
  {
   "cell_type": "code",
   "execution_count": null,
   "metadata": {},
   "outputs": [],
   "source": [
    "### Init instruments\n",
    "from pytopo.rf import alazar_acquisition; reload(alazar_acquisition)\n",
    "from pytopo.rf.alazar_acquisition import RawAcqCtl, AvgBufCtl, AvgDemodCtl, AvgIQCtl, DemodAcqCtl, IQAcqCtl\n",
    "# , DemodRelAcqCtl, IQRelAcqCtl, IQAcqCtl\n",
    "\n",
    "inst_list = []\n",
    "\n",
    "from qcodes.instrument_drivers.AlazarTech.ATS9360 import AlazarTech_ATS9360\n",
    "alazar = instools.create_inst(AlazarTech_ATS9360, 'alazar')\n",
    "inst_list.append(alazar)\n",
    "\n",
    "raw_acq = instools.create_inst(RawAcqCtl, 'raw_acq', 'alazar', force_new_instance=True)\n",
    "inst_list.append(raw_acq)\n",
    "\n",
    "avg_acq = instools.create_inst(AvgBufCtl, 'avg_acq', 'alazar', force_new_instance=True)\n",
    "inst_list.append(avg_acq)\n",
    "\n",
    "avgdemod_acq = instools.create_inst(AvgDemodCtl, 'avgdemod_acq', 'alazar', force_new_instance=True)\n",
    "inst_list.append(avgdemod_acq)\n",
    "\n",
    "avgiq_acq = instools.create_inst(AvgIQCtl, 'avgiq_acq', 'alazar', force_new_instance=True)\n",
    "inst_list.append(avgiq_acq)\n",
    "\n",
    "demod_acq = instools.create_inst(DemodAcqCtl, 'demod_acq', 'alazar', force_new_instance=True)\n",
    "inst_list.append(demod_acq)\n",
    "\n",
    "# demodrel_acq = instools.create_inst(DemodRelAcqCtl, 'rel_acq', 'alazar', force_new_instance=True)\n",
    "# inst_list.append(demodrel_acq)\n",
    "\n",
    "# iqrel_acq = instools.create_inst(IQRelAcqCtl, 'iqrel_acq', 'alazar', force_new_instance=True)\n",
    "# inst_list.append(iqrel_acq)\n",
    "\n",
    "iq_acq = instools.create_inst(IQAcqCtl, 'iq_acq', 'alazar', force_new_instance=True)\n",
    "inst_list.append(iq_acq)\n",
    "\n",
    "from qcodes.instrument_drivers.tektronix.AWG5014 import Tektronix_AWG5014\n",
    "awg5014 = instools.create_inst(Tektronix_AWG5014, 'awg5014', address=\"TCPIP0::169.254.220.147::inst0::INSTR\")\n",
    "inst_list.append(awg5014)\n",
    "\n",
    "from qcodes.instrument_drivers.rohde_schwarz.SGS100A import RohdeSchwarz_SGS100A\n",
    "LO = instools.create_inst(RohdeSchwarz_SGS100A, 'LO', address=\"TCPIP0::169.254.2.20\")\n",
    "inst_list.append(LO)\n",
    "\n",
    "RF = instools.create_inst(RohdeSchwarz_SGS100A, 'RF', address=\"TCPIP0::169.254.231.38\")\n",
    "inst_list.append(RF)\n",
    "\n",
    "qubit_gen = instools.create_inst(RohdeSchwarz_SGS100A, 'qubit_gen', address=\"TCPIP0::169.254.167.18\")\n",
    "inst_list.append(qubit_gen)\n",
    "\n",
    "het_src = instools.create_inst(HeterodyneSource, 'het_src', LO=LO, RF=RF)\n",
    "inst_list.append(het_src)\n",
    "\n",
    "# from qcodes.instrument_drivers.yokogawa.GS200 import GS200\n",
    "# yoko = instools.create_inst(GS200, 'yoko', address=\"TCPIP0::169.254.1.9::inst0::INSTR\")\n",
    "# inst_list.append(yoko)\n"
   ]
  },
  {
   "cell_type": "code",
   "execution_count": null,
   "metadata": {},
   "outputs": [],
   "source": [
    "from qcodes.instrument_drivers.Minicircuits.RUDAT_13G_90 import RUDAT_13G_90_USB\n",
    "ro_attenuator = instools.create_inst(RUDAT_13G_90_USB, 'ro_attenuator')\n",
    "inst_list.append(ro_attenuator)"
   ]
  },
  {
   "cell_type": "code",
   "execution_count": null,
   "metadata": {},
   "outputs": [],
   "source": [
    "station = qc.Station(*inst_list)"
   ]
  },
  {
   "cell_type": "markdown",
   "metadata": {},
   "source": [
    "## Global settings"
   ]
  },
  {
   "cell_type": "code",
   "execution_count": null,
   "metadata": {},
   "outputs": [],
   "source": [
    "SAMPLE = 'ref_transmon_CD20180510'\n",
    "AWG_CHANS = {\n",
    "        1 : ['ro', 'alz_mrkr', 'ro_mrkr'],\n",
    "        2 : ['q', 'q_mrkr', None],\n",
    "    }\n",
    "\n",
    "IF = 20e6\n",
    "\n",
    "het_src.IF(IF)\n",
    "het_src.frequency(het_src.frequency())\n",
    "\n",
    "LO.power(0)\n",
    "RF.power(0)"
   ]
  },
  {
   "cell_type": "markdown",
   "metadata": {},
   "source": [
    "## Meta instruments for sweeping"
   ]
  },
  {
   "cell_type": "code",
   "execution_count": null,
   "metadata": {},
   "outputs": [],
   "source": [
    "# create the meta-instrument for the sequence, add to the qcodes station.\n",
    "awg_spec_sweep = create_inst(SimpleAWGSpec, 'awg_spec_sweep', awg=awg5014, chan_map=AWG_CHANS, force_new_instance=True)\n",
    "station = add2station(station, awg_spec_sweep)\n",
    "\n",
    "# meta-instrument for the detector (i.e., alazar acquisition)\n",
    "# iqrel_detector = create_inst(AlazarDetector, name='iqrel_detector', acqctl=iqrel_acq, force_new_instance=True)\n",
    "# station = add2station(station, iqrel_detector)\n",
    "\n",
    "# demodrel_detector = create_inst(AlazarDetector, name='demodrel_detector', acqctl=demodrel_acq, force_new_instance=True)\n",
    "# station = add2station(station, demodrel_detector)\n",
    "\n",
    "avg_detector = create_inst(AlazarDetector, name='avg_detector', \n",
    "                           acqctl=avg_acq, force_new_instance=True)\n",
    "station = add2station(station, avg_detector)\n",
    "\n",
    "avgdemod_detector = create_inst(AlazarDetector, name='avgdemod_detector', \n",
    "                                acqctl=avgdemod_acq, force_new_instance=True)\n",
    "station = add2station(station, avgdemod_detector)\n",
    "\n",
    "avgiq_detector = create_inst(AlazarDetector, name='avgiq_detector', \n",
    "                             acqctl=avgiq_acq, force_new_instance=True)\n",
    "station = add2station(station, avgiq_detector)\n",
    "\n",
    "iq_detector = create_inst(AlazarDetector, name='iq_detector', acqctl=iq_acq, force_new_instance=True)\n",
    "station = add2station(station, iq_detector)"
   ]
  },
  {
   "cell_type": "markdown",
   "metadata": {},
   "source": [
    "## Default acquisition settings"
   ]
  },
  {
   "cell_type": "code",
   "execution_count": null,
   "metadata": {
    "ExecuteTime": {
     "end_time": "2018-07-09T13:30:59.478623Z",
     "start_time": "2018-07-09T13:30:59.392667Z"
    }
   },
   "outputs": [],
   "source": [
    "### Configure ATS settings\n",
    "\n",
    "ats_settings = dict(\n",
    "    clock_source='INTERNAL_CLOCK',\n",
    "    sample_rate=int(2e8),\n",
    "    clock_edge='CLOCK_EDGE_RISING',\n",
    "    decimation=1,\n",
    "    coupling=['DC','DC'],\n",
    "    channel_range=[.4, .4],\n",
    "    impedance=[50, 50],\n",
    "    trigger_operation='TRIG_ENGINE_OP_J',\n",
    "    trigger_engine1='TRIG_ENGINE_J',\n",
    "    trigger_source1='EXTERNAL',\n",
    "    trigger_slope1='TRIG_SLOPE_POSITIVE',\n",
    "    trigger_level1=128+20,\n",
    "    trigger_engine2='TRIG_ENGINE_K',\n",
    "    trigger_source2='DISABLE',\n",
    "    trigger_slope2='TRIG_SLOPE_POSITIVE',\n",
    "    trigger_level2=128+5,\n",
    "    external_trigger_coupling='DC',\n",
    "    external_trigger_range='ETR_2V5',\n",
    "    trigger_delay=0,\n",
    "    timeout_ticks=int(1e7),\n",
    "    aux_io_mode='AUX_IN_AUXILIARY',\n",
    "    aux_io_param='NONE',\n",
    ")\n",
    "\n",
    "station.alazar.config(**ats_settings)\n",
    "\n",
    "\n",
    "### Trigger the acquisition controllers\n",
    "\n",
    "def trigger_func(do_start):\n",
    "    if do_start:\n",
    "        station.awg5014.start()\n",
    "    else:\n",
    "        station.awg5014.stop()\n",
    "\n",
    "for ctl in [iq_acq, avgdemod_acq, avgiq_acq]:\n",
    "    ctl.trigger_func = trigger_func\n",
    "    ctl.demod_frq(IF)\n",
    "    \n",
    "for det in [iq_detector, avgdemod_detector, avgiq_detector]:\n",
    "    det.demod_frq(IF)"
   ]
  },
  {
   "cell_type": "markdown",
   "metadata": {},
   "source": [
    "# Signal testing"
   ]
  },
  {
   "cell_type": "markdown",
   "metadata": {},
   "source": [
    "## Transmission (time-signal)"
   ]
  },
  {
   "cell_type": "code",
   "execution_count": null,
   "metadata": {},
   "outputs": [],
   "source": [
    "awg_spec_sweep.sample_rate(1e9)\n",
    "# sequence length (in s). Up to buffers at the edges this is the integration time per AWG sweep.\n",
    "awg_spec_sweep.seq_len(10e-6)\n",
    "# and setup the sequence (will program the awg)\n",
    "awg_spec_sweep.setup()"
   ]
  },
  {
   "cell_type": "code",
   "execution_count": null,
   "metadata": {},
   "outputs": [],
   "source": [
    "### Set up the detector\n",
    "\n",
    "# set the sweeper\n",
    "det = avgdemod_detector\n",
    "det.avg_buffers(False)\n",
    "\n",
    "det.set_sweeper(awg_spec_sweep)\n",
    "# acquisition time\n",
    "det.acq_time(awg_spec_sweep.seq_len() - 1e-6)\n",
    "# demod frequency\n",
    "det.demod_frq(IF)\n",
    "# HW config, and how data is shaped.\n",
    "det.configure_alazar(\n",
    "    records_per_buffer=1,\n",
    "    buffers_per_acquisition=100,\n",
    ")\n",
    "det.setup()\n",
    "\n",
    "print(det.sweep_dims, det.sweep_shape)"
   ]
  },
  {
   "cell_type": "code",
   "execution_count": null,
   "metadata": {},
   "outputs": [],
   "source": [
    "data = det.acquisition()\n",
    "data.shape, det.sweep_shape"
   ]
  },
  {
   "cell_type": "code",
   "execution_count": null,
   "metadata": {},
   "outputs": [],
   "source": [
    "fig, axes = plt.subplots(2, 1)\n",
    "\n",
    "ax = axes[0]\n",
    "ax.plot(data[0, :, 0].real)\n",
    "ax.plot(data[0, :, 0].imag)\n",
    "\n",
    "ax = axes[1]\n",
    "ax.plot(data[0, :, 1].real)\n",
    "ax.plot(data[0, :, 1].imag)\n",
    "ax.plot(np.abs(data[0, :, 1]))"
   ]
  },
  {
   "cell_type": "markdown",
   "metadata": {},
   "source": [
    "## Noise level and spectrum"
   ]
  },
  {
   "cell_type": "code",
   "execution_count": null,
   "metadata": {},
   "outputs": [],
   "source": [
    "ro_attenuator.attenuation(40)\n",
    "het_src.frequency(7.14e9)"
   ]
  },
  {
   "cell_type": "code",
   "execution_count": null,
   "metadata": {},
   "outputs": [],
   "source": [
    "awg_spec_sweep.sample_rate(1e7)\n",
    "# sequence length (in s). Up to buffers at the edges this is the integration time per AWG sweep.\n",
    "awg_spec_sweep.seq_len(500e-3)\n",
    "# and setup the sequence (will program the awg)\n",
    "awg_spec_sweep.setup()"
   ]
  },
  {
   "cell_type": "code",
   "execution_count": null,
   "metadata": {},
   "outputs": [],
   "source": [
    "### Set up the detector\n",
    "\n",
    "# set the sweeper\n",
    "# det = avgdemod_detector\n",
    "det = avg_detector\n",
    "det.avg_buffers(False)\n",
    "\n",
    "det.set_sweeper(awg_spec_sweep)\n",
    "# acquisition time\n",
    "det.acq_time(100e-3)\n",
    "# demod frequency\n",
    "# det.demod_frq(IF)\n",
    "# HW config, and how data is shaped.\n",
    "det.configure_alazar(\n",
    "    records_per_buffer=1,\n",
    "    buffers_per_acquisition=1,\n",
    ")\n",
    "det.setup()\n",
    "\n",
    "print(det.sweep_dims, det.sweep_shape)"
   ]
  },
  {
   "cell_type": "code",
   "execution_count": null,
   "metadata": {},
   "outputs": [],
   "source": [
    "data = det.acquisition()\n",
    "data.shape, det.sweep_shape"
   ]
  },
  {
   "cell_type": "code",
   "execution_count": null,
   "metadata": {},
   "outputs": [],
   "source": [
    "fig, axes = plt.subplots(1, 1)\n",
    "\n",
    "ax = axes\n",
    "ax.plot(det.time()[:10000]*1e6, data[0, :10000, 1])\n",
    "# ax.plot(data[0, :, 1].imag)\n",
    "# ax.plot(np.abs(data[0, :, 1]))"
   ]
  },
  {
   "cell_type": "code",
   "execution_count": null,
   "metadata": {},
   "outputs": [],
   "source": [
    "ffty = np.fft.rfft(data[0, :, 1].real)\n",
    "fftx = np.fft.rfftfreq(data[0, :, 1].size, d=5e-9)\n",
    "\n",
    "PSD = abs(ffty) / (data[0, :, 1].size)**.5 / (10.)**.5\n",
    "\n",
    "fig, ax = plt.subplots(1, 1)\n",
    "ax.plot(fftx[10:] * 1e-6, PSD[10:])\n",
    "ax.set_xlabel('frequency (MHz)')\n",
    "ax.set_ylabel('FFT')"
   ]
  },
  {
   "cell_type": "code",
   "execution_count": null,
   "metadata": {},
   "outputs": [],
   "source": []
  },
  {
   "cell_type": "code",
   "execution_count": null,
   "metadata": {},
   "outputs": [],
   "source": []
  },
  {
   "cell_type": "markdown",
   "metadata": {},
   "source": [
    "# CW spec"
   ]
  },
  {
   "cell_type": "markdown",
   "metadata": {},
   "source": [
    "## RO spec"
   ]
  },
  {
   "cell_type": "markdown",
   "metadata": {},
   "source": [
    "### Experiment settings"
   ]
  },
  {
   "cell_type": "code",
   "execution_count": null,
   "metadata": {},
   "outputs": [],
   "source": [
    "# demod frequency\n",
    "IF = 20e6\n",
    "\n",
    "# experiment name\n",
    "exp = select_experiment('readout_spec', SAMPLE)\n",
    "\n",
    "# averaging\n",
    "navgs = 1000\n",
    "\n",
    "# Spectroscopy frequencies\n",
    "rf_frqs = np.linspace(7.145e9, 7.155e9, 201)[:]\n",
    "\n",
    "# power\n",
    "ro_attenuator.attenuation(0)\n",
    "\n",
    "# Flux\n",
    "# yoko.on()\n",
    "# yoko.ramp_voltage(0.0, 1e-3, 0.01)"
   ]
  },
  {
   "cell_type": "code",
   "execution_count": null,
   "metadata": {},
   "outputs": [],
   "source": [
    "### Set up the Sweeper\n",
    "\n",
    "# AWG sampling rate (in Hz)\n",
    "awg_spec_sweep.sample_rate(1e9)\n",
    "# sequence length (in s). Up to buffers at the edges this is the integration time per AWG sweep.\n",
    "awg_spec_sweep.seq_len(100e-6)\n",
    "# and setup the sequence (will program the awg)\n",
    "awg_spec_sweep.setup()"
   ]
  },
  {
   "cell_type": "code",
   "execution_count": null,
   "metadata": {},
   "outputs": [],
   "source": [
    "### Set up the detector\n",
    "\n",
    "# det = iq_detector\n",
    "# det = iqrel_detector\n",
    "det = avgiq_detector\n",
    "det.avg_buffers(False)\n",
    "\n",
    "# set the sweeper\n",
    "det.set_sweeper(awg_spec_sweep)\n",
    "# acquisition time\n",
    "det.acq_time(awg_spec_sweep.seq_len() - 2e-6)\n",
    "# demod frequency\n",
    "det.demod_frq(IF)\n",
    "# HW config, and how data is shaped.\n",
    "det.configure_alazar(\n",
    "    records_per_buffer=1,\n",
    "    buffers_per_acquisition=navgs,\n",
    ")\n",
    "det.setup()\n",
    "\n",
    "print(det.sweep_dims, det.sweep_shape)"
   ]
  },
  {
   "cell_type": "markdown",
   "metadata": {},
   "source": [
    "### Run"
   ]
  },
  {
   "cell_type": "code",
   "execution_count": null,
   "metadata": {},
   "outputs": [],
   "source": [
    "# after setting up, we can create the measurement object.\n",
    "# Note: we need to tell it ALL parameters and how they are related. \n",
    "# For simple cases, this wrapper does it.\n",
    "\n",
    "\n",
    "meas = MeasurementExt(station, exp=exp, \n",
    "                      hard_sweep_detector=det,\n",
    "                      soft_sweep_params=[\n",
    "                          het_src.frequency,\n",
    "                          ro_attenuator.attenuation,\n",
    "                      ])\n",
    "\n",
    "# the measurement loop\n",
    "meas.write_period = 1\n",
    "with meas.run() as datasaver:\n",
    "    \n",
    "    datasaver.dataset.subscribe(\n",
    "        QcodesDatasetSubscriber(datasaver.dataset), \n",
    "        state=[], min_wait=0, min_count=1,\n",
    "    )\n",
    "    \n",
    "    for att in np.arange(50, 80, 5):\n",
    "        ro_attenuator.attenuation(att)\n",
    "    \n",
    "        for f in rf_frqs:\n",
    "            het_src.frequency(f)\n",
    "            time.sleep(0.01)\n",
    "\n",
    "            det.acquisition()\n",
    "            datasaver.add_result(*meas.get_result())"
   ]
  },
  {
   "cell_type": "markdown",
   "metadata": {},
   "source": [
    "## Qubit Spec"
   ]
  },
  {
   "cell_type": "markdown",
   "metadata": {
    "heading_collapsed": true
   },
   "source": [
    "### Basic config"
   ]
  },
  {
   "cell_type": "code",
   "execution_count": null,
   "metadata": {
    "hidden": true
   },
   "outputs": [],
   "source": [
    "# demod frequency\n",
    "IF = 20e6\n",
    "# Readout frq\n",
    "het_src.frequency(7.1508e9)\n",
    "het_src.IF(20e6)\n",
    "# experiment name\n",
    "exp = select_experiment('qubit_spec', SAMPLE)\n",
    "# averages\n",
    "navgs = 1000\n",
    "# spec frqs\n",
    "q_frqs = np.linspace(5.2e9, 5.5e9, 151)\n",
    "# ro power\n",
    "ro_attenuator.attenuation(50)"
   ]
  },
  {
   "cell_type": "markdown",
   "metadata": {
    "heading_collapsed": true
   },
   "source": [
    "### Sweeper and detector"
   ]
  },
  {
   "cell_type": "code",
   "execution_count": null,
   "metadata": {
    "hidden": true
   },
   "outputs": [],
   "source": [
    "### SWEEPER\n",
    "# AWG sampling rate (in Hz)\n",
    "awg_spec_sweep.sample_rate(1e9)\n",
    "# sequence length (in s). Up to buffers at the edges this is the integration time per AWG sweep.\n",
    "awg_spec_sweep.seq_len(100e-6)\n",
    "# and setup the sequence (will program the awg)\n",
    "awg_spec_sweep.setup()\n",
    "\n",
    "\n",
    "### DETECTOR\n",
    "# det = iqrel_detector\n",
    "det = avgiq_detector\n",
    "det.avg_buffers(False)\n",
    "\n",
    "# set the sweeper\n",
    "det.set_sweeper(awg_spec_sweep)\n",
    "# acquisition time\n",
    "det.acq_time(awg_spec_sweep.seq_len() - 2e-6)\n",
    "# demod frequency\n",
    "det.demod_frq(IF)\n",
    "# HW config, and how data is shaped.\n",
    "det.configure_alazar(\n",
    "    records_per_buffer=1,\n",
    "    buffers_per_acquisition=navgs,\n",
    ")\n",
    "det.setup()\n",
    "\n",
    "print(det.sweep_dims, det.sweep_shape)"
   ]
  },
  {
   "cell_type": "markdown",
   "metadata": {
    "heading_collapsed": true
   },
   "source": [
    "### Run"
   ]
  },
  {
   "cell_type": "code",
   "execution_count": null,
   "metadata": {
    "hidden": true
   },
   "outputs": [],
   "source": [
    "meas = MeasurementExt(station, exp=exp, \n",
    "                      hard_sweep_detector=det,\n",
    "                      soft_sweep_params=[\n",
    "                          qubit_gen.frequency,\n",
    "                          ro_attenuator.attenuation,\n",
    "                      ])\n",
    "\n",
    "# the measurement loop\n",
    "meas.write_period = 1\n",
    "with meas.run() as datasaver:\n",
    "    \n",
    "    datasaver.dataset.subscribe(\n",
    "        QcodesDatasetSubscriber(datasaver.dataset), \n",
    "        state=[], min_wait=0, min_count=1,\n",
    "    )\n",
    "    \n",
    "    for att in 10 * np.log10(np.linspace(1e5, 1e6, 11)):\n",
    "        ro_attenuator.attenuation(att)\n",
    "    \n",
    "        for f in q_frqs:\n",
    "            qubit_gen.frequency(f)\n",
    "            time.sleep(0.01)\n",
    "\n",
    "            det.acquisition()\n",
    "            datasaver.add_result(*meas.get_result())"
   ]
  },
  {
   "cell_type": "code",
   "execution_count": null,
   "metadata": {
    "hidden": true
   },
   "outputs": [],
   "source": []
  },
  {
   "cell_type": "code",
   "execution_count": null,
   "metadata": {
    "hidden": true
   },
   "outputs": [],
   "source": []
  },
  {
   "cell_type": "markdown",
   "metadata": {},
   "source": [
    "# TD Experiments"
   ]
  },
  {
   "cell_type": "markdown",
   "metadata": {
    "heading_collapsed": true
   },
   "source": [
    "## Some Testing"
   ]
  },
  {
   "cell_type": "markdown",
   "metadata": {
    "heading_collapsed": true,
    "hidden": true
   },
   "source": [
    "### Define tools"
   ]
  },
  {
   "cell_type": "code",
   "execution_count": null,
   "metadata": {
    "hidden": true
   },
   "outputs": [],
   "source": [
    "class TDTestSequence(BroadBeanSequence):\n",
    "\n",
    "    def __init__(self, *arg, **kw):\n",
    "        \n",
    "        kw['sweep_dims'] = ['averages', 'ro_length', ]\n",
    "        kw['sweep_units'] = ['', 's', ]\n",
    "        \n",
    "        super().__init__(*arg, **kw)\n",
    "        \n",
    "        self.add_parameter('initial_delay', set_cmd=None,\n",
    "                           unit='s', initial_value=1e-6)\n",
    "        self.add_parameter('alazar_trigger_len', set_cmd=None,\n",
    "                           unit='s', initial_value=1e-7)\n",
    "        self.add_parameter('alazar_trigger_delay', set_cmd=None, \n",
    "                           unit='s', initial_value=1e-6)\n",
    "        self.add_parameter('seq_len', set_cmd=None, \n",
    "                           unit='s', initial_value=1e-5)\n",
    "        \n",
    "        self.add_parameter('start_len', set_cmd=None, unit='s', initial_value=1e-6)\n",
    "        self.add_parameter('stop_len', set_cmd=None, unit='s', initial_value=5e-6)\n",
    "        self.add_parameter('len_pts', set_cmd=None, initial_value=5)\n",
    "        self.add_parameter('n_averages', set_cmd=None, initial_value=1)\n",
    "\n",
    "    def setup(self, **kw):\n",
    "        self.averages(np.arange(self.n_averages()))\n",
    "        self.ro_length(np.linspace(self.start_len(), self.stop_len(), self.len_pts()))\n",
    "        super().setup(**kw)\n",
    "        \n",
    "    def sequence(self):\n",
    "        elem = bb.Element()\n",
    "        seq = bb.Sequence()\n",
    "        seq.name = 'td_test'\n",
    "        \n",
    "        for i, length in enumerate(self.ro_length()):\n",
    "            bps = BluePrints(self.chan_map, sample_rate=self.sample_rate())\n",
    "            bps['ro'].insertSegment(0, ramp, (0, 0), dur=self.seq_len(), name='ro_segment'.format(i))\n",
    "            bps['alz_mrkr'] = [(self.initial_delay(), self.alazar_trigger_len())]\n",
    "            bps['ro_mrkr'] = [(self.initial_delay() + self.alazar_trigger_delay(), length, )]\n",
    "            bps['q'].insertSegment(0, ramp, (0, 0), dur=self.seq_len(), name='q_segment'.format(i))\n",
    "\n",
    "            for n, bp in bps():\n",
    "                elem.addBluePrint(n, bp)\n",
    "        \n",
    "            seq.addElement(i+1, elem)\n",
    "            \n",
    "            seq.setSequencingTriggerWait(i+1, 0)\n",
    "            seq.setSequencingGoto(i+1, (i+2)%self.len_pts())\n",
    "        \n",
    "        \n",
    "        seq.setSR(self.sample_rate())\n",
    "        \n",
    "        seq.setChannelAmplitude(1, 1)\n",
    "        seq.setChannelOffset(1, 0)\n",
    "        seq.setChannelAmplitude(2, 1)\n",
    "        seq.setChannelOffset(2, 0)\n",
    "\n",
    "        return seq\n",
    "    \n",
    "\n",
    "# channel map. note that at this moment the analog channels are required, even if we don't do anything with them.\n",
    "awg_chan_map = {\n",
    "        1 : ['ro', 'alz_mrkr', 'ro_mrkr'],\n",
    "        2 : ['q', 'q_mrkr', None],\n",
    "    }\n",
    "\n",
    "# create the meta-instrument for the sequence, add to the qcodes station.\n",
    "td_test_sweep = create_inst(TDTestSequence, 'td_test_sweep', awg=awg5014, chan_map=awg_chan_map, force_new_instance=True)\n",
    "station = add2station(station, td_test_sweep)\n",
    "\n",
    "# create the detector instrument\n",
    "# ctl = demodrel_acq\n",
    "ctl = iqrel_acq\n",
    "td_test_detector = create_inst(AlazarDetector, name='td_test_detector', acqctl=ctl, \n",
    "                               sweep_params=['buffers', 'records',], force_new_instance=True)\n",
    "\n",
    "station = add2station(station, td_test_detector)"
   ]
  },
  {
   "cell_type": "markdown",
   "metadata": {
    "heading_collapsed": true,
    "hidden": true
   },
   "source": [
    "### Configure experiments"
   ]
  },
  {
   "cell_type": "code",
   "execution_count": null,
   "metadata": {
    "hidden": true
   },
   "outputs": [],
   "source": [
    "exp = select_experiment('TD_test', SAMPLE)\n",
    "\n",
    "# set generators to RF frq\n",
    "IF = 20e6\n",
    "RF.frequency(7.15e9)\n",
    "LO.frequency(RF.frequency() + IF)\n",
    "awg5014.stop()\n",
    "\n",
    "### Configure the AWG sweep\n",
    "\n",
    "# AWG sampling rate (in Hz)\n",
    "td_test_sweep.sample_rate(1e9)\n",
    "\n",
    "# sequence length (in s). Up to buffers at the edges this is the integration time per AWG sweep.\n",
    "td_test_sweep.seq_len(100e-6)\n",
    "td_test_sweep.start_len(10e-6)\n",
    "td_test_sweep.stop_len(50e-6)\n",
    "td_test_sweep.len_pts(6)\n",
    "td_test_sweep.n_averages(10)\n",
    "\n",
    "# and setup the sequence (will program the awg)\n",
    "td_test_sweep.setup(start_awg=False, program_awg=True)\n",
    "\n",
    "\n",
    "### Configure the detector\n",
    "td_test_detector.set_sweeper(td_test_sweep)\n",
    "\n",
    "# setup acquisition controller and detector\n",
    "def trigger_func(do_start):\n",
    "    if do_start:\n",
    "        station.awg5014.start()\n",
    "    else:\n",
    "        pass\n",
    "\n",
    "ctl.trigger_func = trigger_func\n",
    "\n",
    "# Configure Alazar acquisition controller\n",
    "# acquisition time\n",
    "ctl.acq_time(80e-6)\n",
    "\n",
    "# demod frequency\n",
    "ctl.demod_frq(IF)\n",
    "\n",
    "# HW config, and how data is shaped.\n",
    "ctl.update_acquisitionkwargs(\n",
    "    # the sweep is now encoded in the records\n",
    "    records_per_buffer=td_test_sweep.len_pts(), \n",
    "    \n",
    "    # this is for averaging by repeating the sequence; ie, number of averages per 'shot'.\n",
    "    buffers_per_acquisition=td_test_sweep.n_averages(),\n",
    "    \n",
    "    # leave as is for now.\n",
    "    buffer_timeout=10000,\n",
    "    allocated_buffers=1\n",
    ")\n",
    "\n",
    "# setup the detector\n",
    "td_test_detector.setup()"
   ]
  },
  {
   "cell_type": "code",
   "execution_count": null,
   "metadata": {
    "hidden": true
   },
   "outputs": [],
   "source": [
    "print(td_test_detector.sweep_dims, td_test_detector.sweep_shape)"
   ]
  },
  {
   "cell_type": "code",
   "execution_count": null,
   "metadata": {
    "hidden": true
   },
   "outputs": [],
   "source": [
    "# after setting up, we can create the measurement object.\n",
    "meas = hard_sweep.make_measurement('results', exp=exp, \n",
    "                                   hard_sweep_detector=td_test_detector,)\n",
    "\n",
    "# the measurement loop\n",
    "with meas.run() as datasaver:\n",
    "    td_test_detector.acquisition()\n",
    "        \n",
    "    # add to dataset\n",
    "    result = td_test_detector.get_sweep_coords()\n",
    "\n",
    "    # and add the data\n",
    "    result += [(td_test_detector.signal_real, td_test_detector.signal_real().reshape(-1).astype(float))]\n",
    "    result += [(td_test_detector.signal_imag, td_test_detector.signal_imag().reshape(-1).astype(float))]\n",
    "\n",
    "    datasaver.add_result(*result)"
   ]
  },
  {
   "cell_type": "code",
   "execution_count": null,
   "metadata": {
    "hidden": true
   },
   "outputs": [],
   "source": [
    "shape = td_test_detector.sweep_shape\n",
    "print(shape)\n",
    "ds = datasaver.dataset\n",
    "print(ds)\n",
    "\n",
    "sigr = np.array(ds.get_values('td_test_detector_signal_real')).reshape(shape)\n",
    "sigi = np.array(ds.get_values('td_test_detector_signal_imag')).reshape(shape)\n",
    "\n",
    "fig, ax = plt.subplots(1, 1)\n",
    "ax.imshow(((sigr**2 + sigi**2)**.5), aspect='auto')"
   ]
  },
  {
   "cell_type": "code",
   "execution_count": null,
   "metadata": {
    "hidden": true
   },
   "outputs": [],
   "source": []
  },
  {
   "cell_type": "markdown",
   "metadata": {},
   "source": [
    "## Pulsed qubit spec"
   ]
  },
  {
   "cell_type": "markdown",
   "metadata": {
    "heading_collapsed": true
   },
   "source": [
    "### Measurement classes"
   ]
  },
  {
   "cell_type": "code",
   "execution_count": null,
   "metadata": {
    "hidden": true
   },
   "outputs": [],
   "source": [
    "class PulsedQubitSpec(BroadBeanSequence):\n",
    "    \n",
    "    initial_delay = 1e-6\n",
    "    alz_trigger_len = 100e-9\n",
    "    alz_trigger_delay = 0\n",
    "\n",
    "    def __init__(self, *arg, **kw):\n",
    "        \n",
    "        kw['sweep_dims'] = ['awg_sweep_idx', ]\n",
    "        \n",
    "        super().__init__(*arg, **kw)\n",
    "\n",
    "        self.add_parameter('seq_len', set_cmd=None, unit='s',\n",
    "                           initial_value=1e-5)\n",
    "        self.add_parameter('readout_len', set_cmd=None, unit='s',\n",
    "                           initial_value=2e-6)\n",
    "        self.add_parameter('qubit_pulse_len', set_cmd=None, unit='s',\n",
    "                           initial_value=1e-6)\n",
    "        self.add_parameter('readout_delay', set_cmd=None, unit='s', initial_value=0)\n",
    "\n",
    "    def setup(self, **kw):\n",
    "        self.awg_sweep_idx([1,])\n",
    "        super().setup(**kw)\n",
    "        \n",
    "    def sequence(self):\n",
    "        elem = bb.Element()\n",
    "        \n",
    "        bps = BluePrints(self.chan_map, sample_rate=self.sample_rate())\n",
    "        \n",
    "        bps['ro'].insertSegment(0, ramp, (0, 0), dur=self.seq_len(), name='ro_segment')\n",
    "        bps['alz_mrkr'] = [(self.initial_delay + self.qubit_pulse_len() + self.readout_delay(), \n",
    "                            self.alz_trigger_len)]\n",
    "        bps['ro_mrkr'] = [(self.initial_delay + self.qubit_pulse_len() + \\\n",
    "                               self.readout_delay() + self.alz_trigger_len + self.alz_trigger_delay, \n",
    "                           self.readout_len())]\n",
    "        \n",
    "        bps['q'].insertSegment(0, ramp, (0, 0), dur=self.seq_len(), name='q_segment')\n",
    "        bps['q_mrkr'] = [(self.initial_delay, self.qubit_pulse_len())]\n",
    "        \n",
    "        for n, bp in bps():\n",
    "            elem.addBluePrint(n, bp)\n",
    "            \n",
    "        seq = bb.Sequence()\n",
    "        seq.name = 'spec'\n",
    "        seq.addElement(1, elem)\n",
    "        seq.setSR(self.sample_rate())\n",
    "        \n",
    "        seq.setChannelAmplitude(1, 1)\n",
    "        seq.setChannelOffset(1, 0)\n",
    "        seq.setChannelAmplitude(2, 1)\n",
    "        seq.setChannelOffset(2, 0)\n",
    "\n",
    "        seq.setSequencingTriggerWait(1, 0)\n",
    "        seq.setSequencingGoto(1, 1)\n",
    "        \n",
    "        return seq"
   ]
  },
  {
   "cell_type": "markdown",
   "metadata": {
    "heading_collapsed": true
   },
   "source": [
    "### Basic config"
   ]
  },
  {
   "cell_type": "code",
   "execution_count": null,
   "metadata": {
    "hidden": true
   },
   "outputs": [],
   "source": [
    "# demod frequency\n",
    "IF = 20e6\n",
    "\n",
    "# Readout frq\n",
    "RF.frequency(7.1508e9)\n",
    "LO.frequency(RF.frequency() + IF)\n",
    "\n",
    "# experiment name\n",
    "exp = select_experiment('qubit_spec_pulsed', SAMPLE)\n",
    "# averages\n",
    "navgs = 10000\n",
    "\n",
    "# qubit frequency list\n",
    "q_frqs = np.linspace(5.37e9, 5.42e9, 101)\n",
    "\n",
    "# ro power\n",
    "ro_attenuator.attenuation(32)\n",
    "\n",
    "# qubit power\n",
    "qubit_gen.power(-10)"
   ]
  },
  {
   "cell_type": "markdown",
   "metadata": {
    "heading_collapsed": true
   },
   "source": [
    "### Sweeper / detector"
   ]
  },
  {
   "cell_type": "code",
   "execution_count": null,
   "metadata": {
    "hidden": true
   },
   "outputs": [],
   "source": [
    "### SWEEPER\n",
    "\n",
    "# create the meta-instrument for the sequence, add to the qcodes station.\n",
    "qspec_sweep = create_inst(PulsedQubitSpec, 'qspec_sweep', awg=awg5014, chan_map=AWG_CHANS, force_new_instance=True)\n",
    "station = add2station(station, qspec_sweep)\n",
    "\n",
    "# AWG sampling rate (in Hz)\n",
    "qspec_sweep.sample_rate(1e9)\n",
    "\n",
    "# sequence length (in s). Up to buffers at the edges this is the integration time per AWG sweep.\n",
    "qspec_sweep.seq_len(25e-6)\n",
    "qspec_sweep.readout_len(8e-6)\n",
    "qspec_sweep.qubit_pulse_len(2e-6)\n",
    "qspec_sweep.readout_delay(-.1e-6)\n",
    "\n",
    "# Quasi-CW\n",
    "# qspec_sweep.seq_len(100e-6)\n",
    "# qspec_sweep.readout_len(98e-6)\n",
    "# qspec_sweep.qubit_pulse_len(98e-6)\n",
    "# qspec_sweep.readout_delay(-98.1e-6)\n",
    "\n",
    "# and setup the sequence (will program the awg)\n",
    "qspec_sweep.setup(start_awg=True)"
   ]
  },
  {
   "cell_type": "code",
   "execution_count": null,
   "metadata": {
    "hidden": true
   },
   "outputs": [],
   "source": [
    "### DETECTOR\n",
    "det = iqrel_detector\n",
    "# det = demodrel_detector\n",
    "\n",
    "# set the sweeper\n",
    "det.set_sweeper(qspec_sweep)\n",
    "\n",
    "# acquisition time\n",
    "det.acq_time(qspec_sweep.readout_len() + 1e-6)\n",
    "\n",
    "# demod frequency\n",
    "det.demod_frq(IF)\n",
    "\n",
    "# HW config, and how data is shaped.\n",
    "det.configure_alazar(\n",
    "    records_per_buffer=1,\n",
    "    buffers_per_acquisition=navgs,\n",
    "    allocated_buffers=1,\n",
    ")\n",
    "det.setup()\n",
    "\n",
    "print(det.sweep_dims, det.sweep_shape)"
   ]
  },
  {
   "cell_type": "code",
   "execution_count": null,
   "metadata": {
    "hidden": true,
    "scrolled": false
   },
   "outputs": [],
   "source": [
    "meas = MeasurementExt(station, exp=exp, \n",
    "                      hard_sweep_detector=det,\n",
    "                      soft_sweep_params=[\n",
    "                          qubit_gen.power,\n",
    "                          qubit_gen.frequency, \n",
    "                      ])\n",
    "\n",
    "# how often we write to the database\n",
    "meas.write_period = 1\n",
    "\n",
    "# the measurement loop\n",
    "with meas.run() as datasaver:\n",
    "    \n",
    "    # notify live plotter\n",
    "    datasaver.dataset.subscribe(\n",
    "        QcodesDatasetSubscriber(datasaver.dataset),\n",
    "        state=[], min_wait=0, min_count=1,\n",
    "    )\n",
    "    \n",
    "    # software sweep of RF power\n",
    "    for p in np.linspace(-10, 20, 7):\n",
    "        qubit_gen.power(p)\n",
    " \n",
    "        # software sweep of the RF frequency\n",
    "        for f in q_frqs:\n",
    "            qubit_gen.frequency(f)\n",
    "            time.sleep(0.2)\n",
    "\n",
    "            # this runs the Alazar, and returns demodulated data.\n",
    "            det.acquisition()\n",
    "            datasaver.add_result(*meas.get_result())"
   ]
  },
  {
   "cell_type": "code",
   "execution_count": null,
   "metadata": {
    "hidden": true
   },
   "outputs": [],
   "source": []
  },
  {
   "cell_type": "markdown",
   "metadata": {
    "heading_collapsed": true
   },
   "source": [
    "## Pulsed qubit spec with time dependence"
   ]
  },
  {
   "cell_type": "markdown",
   "metadata": {
    "hidden": true
   },
   "source": [
    "### Basic config"
   ]
  },
  {
   "cell_type": "code",
   "execution_count": null,
   "metadata": {
    "hidden": true
   },
   "outputs": [],
   "source": [
    "# demod frequency\n",
    "IF = 20e6\n",
    "# Readout frq\n",
    "RF.frequency(7.151e9)\n",
    "LO.frequency(RF.frequency() + IF)\n",
    "# experiment name\n",
    "exp = select_experiment('qubit_spec_pulsed_timetrace', SAMPLE)\n",
    "# averages\n",
    "navgs = 100000\n",
    "# qubit frequency list\n",
    "q_frqs = np.linspace(5.25e9, 5.35e9, 26)"
   ]
  },
  {
   "cell_type": "markdown",
   "metadata": {
    "hidden": true
   },
   "source": [
    "### Sweeper / detector"
   ]
  },
  {
   "cell_type": "code",
   "execution_count": null,
   "metadata": {
    "hidden": true
   },
   "outputs": [],
   "source": [
    "### SWEEPER\n",
    "\n",
    "# create the meta-instrument for the sequence, add to the qcodes station.\n",
    "qspec_sweep = create_inst(PulsedQubitSpec, 'qspec_sweep', awg=awg5014, chan_map=AWG_CHANS, force_new_instance=True)\n",
    "station = add2station(station, qspec_sweep)\n",
    "\n",
    "# AWG sampling rate (in Hz)\n",
    "qspec_sweep.sample_rate(1e9)\n",
    "\n",
    "# sequence length (in s). Up to buffers at the edges this is the integration time per AWG sweep.\n",
    "qspec_sweep.alz_trigger_delay = -1.1e-6\n",
    "qspec_sweep.initial_delay = 2e-6\n",
    "# qspec_sweep.seq_len(100e-6)\n",
    "# qspec_sweep.readout_len(100e-6)\n",
    "# qspec_sweep.qubit_pulse_len(20e-6)\n",
    "# qspec_sweep.readout_delay(-21e-6)\n",
    "\n",
    "# Quasi-CW\n",
    "qspec_sweep.alz_trigger_delay = 0\n",
    "qspec_sweep.initial_delay = 1e-6\n",
    "qspec_sweep.seq_len(100e-6)\n",
    "qspec_sweep.readout_len(98e-6)\n",
    "qspec_sweep.qubit_pulse_len(98e-6)\n",
    "qspec_sweep.readout_delay(-98e-6)\n",
    "\n",
    "# and setup the sequence (will program the awg)\n",
    "qspec_sweep.setup(start_awg=True)"
   ]
  },
  {
   "cell_type": "code",
   "execution_count": null,
   "metadata": {
    "hidden": true
   },
   "outputs": [],
   "source": [
    "### DETECTOR\n",
    "# det = iqrel_detector\n",
    "det = demodrel_detector\n",
    "\n",
    "# set the sweeper\n",
    "det.set_sweeper(qspec_sweep)\n",
    "# acquisition time\n",
    "det.acq_time(qspec_sweep.readout_len() + 3e-6)\n",
    "# demod frequency\n",
    "det.demod_frq(IF)\n",
    "# HW config, and how data is shaped.\n",
    "det.configure_alazar(\n",
    "    records_per_buffer=1,\n",
    "    buffers_per_acquisition=navgs,\n",
    "    allocated_buffers=1,\n",
    ")\n",
    "det.setup()\n",
    "\n",
    "print(det.sweep_dims, det.sweep_shape)"
   ]
  },
  {
   "cell_type": "code",
   "execution_count": null,
   "metadata": {
    "hidden": true
   },
   "outputs": [],
   "source": [
    "# det.add_parameter('soft_avg', get_cmd=None, set_cmd=None, initial_value=0)"
   ]
  },
  {
   "cell_type": "code",
   "execution_count": null,
   "metadata": {
    "hidden": true,
    "scrolled": false
   },
   "outputs": [],
   "source": [
    "meas = hard_sweep.make_measurement('results', exp=exp, \n",
    "                                   hard_sweep_detector=det,\n",
    "                                   soft_sweep_params=[qubit_gen.frequency, ])\n",
    "\n",
    "# how often we write to the database\n",
    "meas.write_period = 1\n",
    "\n",
    "# the measurement loop\n",
    "with meas.run() as datasaver:\n",
    "    # this enables live plotting with the plottr\n",
    "    datasaver.dataset.subscribe(\n",
    "        QcodesDatasetSubscriber(datasaver.dataset), \n",
    "        state=[], min_wait=0, min_count=1,\n",
    "    )\n",
    "    \n",
    "#     qubit_gen.on()\n",
    "        \n",
    "    # software sweep of the RF frequency\n",
    "    for f in q_frqs:\n",
    "        qubit_gen.frequency(f)\n",
    "        time.sleep(0.2)\n",
    "\n",
    "        # this runs the Alazar, and returns demodulated data.\n",
    "        det.acquisition()\n",
    "\n",
    "        # now that the data is here, we can pass the data to the dataset\n",
    "        # get all sweep params in the right format (depends on the acquisition controller we use)\n",
    "        # this is important so we know how to get data back in the right shape\n",
    "        result = det.get_sweep_coords()\n",
    "\n",
    "        # add also the soft sweep params...\n",
    "        result += [(qubit_gen.frequency, f)]\n",
    "\n",
    "        # and add the data\n",
    "        result += [(det.signal_real, det.signal_real().reshape(-1).astype(float))]\n",
    "        result += [(det.signal_imag, det.signal_imag().reshape(-1).astype(float))]\n",
    "        result += [(det.signal_abs, det.signal_abs().reshape(-1).astype(float))]\n",
    "\n",
    "        datasaver.add_result(*result)"
   ]
  },
  {
   "cell_type": "markdown",
   "metadata": {},
   "source": [
    "## Qubit Rabi"
   ]
  },
  {
   "cell_type": "markdown",
   "metadata": {
    "heading_collapsed": true
   },
   "source": [
    "### Measurement classes"
   ]
  },
  {
   "cell_type": "code",
   "execution_count": null,
   "metadata": {
    "hidden": true
   },
   "outputs": [],
   "source": [
    "class RabiSequence(BroadBeanSequence):\n",
    "    \n",
    "    initial_delay = 1e-6\n",
    "    alz_trigger_len = 100e-9\n",
    "    alz_trigger_delay = 0\n",
    "\n",
    "    def __init__(self, *arg, **kw):\n",
    "        \n",
    "        kw['sweep_dims'] = ['pulse_length', ]\n",
    "        kw['sweep_units'] = ['s', ]\n",
    "        \n",
    "        super().__init__(*arg, **kw)\n",
    "        self.add_parameter('seq_len', set_cmd=None, \n",
    "                           unit='s', initial_value=1e-5)\n",
    "        \n",
    "        self.add_parameter('start_len', set_cmd=None, unit='s', initial_value=0)\n",
    "        self.add_parameter('stop_len', set_cmd=None, unit='s', initial_value=200e-9)\n",
    "        self.add_parameter('len_pts', set_cmd=None, initial_value=21)\n",
    "        self.add_parameter('readout_len', set_cmd=None, initial_value=2e-6)\n",
    "\n",
    "    def setup(self, **kw):\n",
    "        self.pulse_length(np.linspace(self.start_len(), self.stop_len(), self.len_pts()))\n",
    "        super().setup(**kw)\n",
    "        \n",
    "    def sequence(self):\n",
    "        elem = bb.Element()\n",
    "        seq = bb.Sequence()\n",
    "        seq.name = 'rabi'\n",
    "        \n",
    "        for i, length in enumerate(self.pulse_length()):\n",
    "            bps = BluePrints(self.chan_map, sample_rate=self.sample_rate())            \n",
    "            bps['q'].insertSegment(0, ramp, (0, 0), dur=self.seq_len(), name='q_segment')\n",
    "            bps['q_mrkr'] = [(self.initial_delay, length)]            \n",
    "            bps['ro'].insertSegment(0, ramp, (0, 0), dur=self.seq_len(), name='ro_segment')\n",
    "            bps['alz_mrkr'] = [(self.initial_delay+length, \n",
    "                                self.alz_trigger_len)]\n",
    "            bps['ro_mrkr'] = [(self.initial_delay+length+self.alz_trigger_len+self.alz_trigger_delay, \n",
    "                               self.readout_len())]\n",
    "\n",
    "            for n, bp in bps():\n",
    "                elem.addBluePrint(n, bp)\n",
    "        \n",
    "            seq.addElement(i+1, elem)\n",
    "            \n",
    "            seq.setSequencingTriggerWait(i+1, 0)\n",
    "            seq.setSequencingGoto(i+1, (i+2)%self.len_pts())\n",
    "        \n",
    "        \n",
    "        seq.setSR(self.sample_rate())\n",
    "        \n",
    "        seq.setChannelAmplitude(1, 1)\n",
    "        seq.setChannelOffset(1, 0)\n",
    "        seq.setChannelAmplitude(2, 1)\n",
    "        seq.setChannelOffset(2, 0)\n",
    "\n",
    "        return seq"
   ]
  },
  {
   "cell_type": "markdown",
   "metadata": {},
   "source": [
    "### Basic config "
   ]
  },
  {
   "cell_type": "code",
   "execution_count": null,
   "metadata": {},
   "outputs": [],
   "source": [
    "# demod frequency\n",
    "IF = 20e6\n",
    "# Readout frq\n",
    "RF.frequency(7.1507e9)\n",
    "LO.frequency(RF.frequency() + IF)\n",
    "# qubit frq\n",
    "qubit_gen.frequency(5.395e9)\n",
    "qubit_gen.power(2)\n",
    "# experiment name\n",
    "exp = select_experiment('qubit_rabi', SAMPLE)\n",
    "# averages\n",
    "navgs = 10000"
   ]
  },
  {
   "cell_type": "markdown",
   "metadata": {},
   "source": [
    "### Sweeper / detector"
   ]
  },
  {
   "cell_type": "code",
   "execution_count": null,
   "metadata": {},
   "outputs": [],
   "source": [
    "### SWEEPER\n",
    "\n",
    "# create the meta-instrument for the sequence, add to the qcodes station.\n",
    "rabi_sweep = create_inst(RabiSequence, 'rabi_sweep', awg=awg5014, chan_map=AWG_CHANS, force_new_instance=True)\n",
    "station = add2station(station, rabi_sweep)\n",
    "\n",
    "# AWG sampling rate (in Hz)\n",
    "rabi_sweep.sample_rate(1e9)\n",
    "\n",
    "# sequence length (in s). Up to buffers at the edges this is the integration time per AWG sweep.\n",
    "rabi_sweep.seq_len(50e-6)\n",
    "rabi_sweep.start_len(0)\n",
    "rabi_sweep.stop_len(400e-9)\n",
    "rabi_sweep.len_pts(101)\n",
    "rabi_sweep.readout_len(8e-6)\n",
    "\n",
    "# and setup the sequence (will program the awg)\n",
    "rabi_sweep.setup(start_awg=False)"
   ]
  },
  {
   "cell_type": "code",
   "execution_count": null,
   "metadata": {},
   "outputs": [],
   "source": [
    "### DETECTOR\n",
    "\n",
    "# meta-instrument for the detector (i.e., alazar acquisition)\n",
    "det = iqrel_detector\n",
    "det.set_sweeper(rabi_sweep)\n",
    "\n",
    "# Configure Alazar acquisition controller\n",
    "# acquisition time\n",
    "det.acq_time(rabi_sweep.readout_len() + 0.2e-6)\n",
    "# demod frequency\n",
    "det.demod_frq(IF)\n",
    "\n",
    "def trigger_func(do_start):\n",
    "    if do_start:\n",
    "        station.awg5014.start()\n",
    "    else:\n",
    "        pass\n",
    "\n",
    "det.acqctl.trigger_func = trigger_func\n",
    "\n",
    "# HW config, and how data is shaped.\n",
    "det.configure_alazar(\n",
    "    records_per_buffer=rabi_sweep.len_pts(),\n",
    "    buffers_per_acquisition=navgs,\n",
    ")\n",
    "det.setup()"
   ]
  },
  {
   "cell_type": "code",
   "execution_count": null,
   "metadata": {},
   "outputs": [],
   "source": [
    "meas = MeasurementExt(station, exp=exp, \n",
    "                      hard_sweep_detector=det,\n",
    "                      soft_sweep_params=[\n",
    "                          # qubit_gen.power,\n",
    "                          # qubit_gen.frequency, \n",
    "                      ])\n",
    "\n",
    "# the measurement loop\n",
    "with meas.run() as datasaver:\n",
    "    \n",
    "    datasaver.dataset.subscribe(\n",
    "        QcodesDatasetSubscriber(datasaver.dataset), \n",
    "        state=[], min_wait=0, min_count=1,\n",
    "    )\n",
    "    \n",
    "    det.acquisition()\n",
    "    datasaver.add_result(*meas.get_result())"
   ]
  },
  {
   "cell_type": "markdown",
   "metadata": {},
   "source": [
    "## Qubit T1"
   ]
  },
  {
   "cell_type": "markdown",
   "metadata": {},
   "source": [
    "### Sweeper class"
   ]
  },
  {
   "cell_type": "code",
   "execution_count": null,
   "metadata": {},
   "outputs": [],
   "source": [
    "class T1Sequence(BroadBeanSequence):\n",
    "    \n",
    "    initial_delay = 1e-6\n",
    "    alz_trigger_len = 100e-9\n",
    "    alz_trigger_delay = 0\n",
    "\n",
    "    def __init__(self, *arg, **kw):\n",
    "        \n",
    "        kw['sweep_dims'] = ['delay', ]\n",
    "        kw['sweep_units'] = ['us', ]\n",
    "        \n",
    "        super().__init__(*arg, **kw)\n",
    "        self.add_parameter('seq_len', set_cmd=None, \n",
    "                           unit='s', initial_value=1e-5)\n",
    "        \n",
    "        self.add_parameter('qubit_pulse_len', set_cmd=None, unit='s', initial_value=100e-9)\n",
    "        self.add_parameter('start_len', set_cmd=None, unit='s', initial_value=0)\n",
    "        self.add_parameter('stop_len', set_cmd=None, unit='s', initial_value=200e-9)\n",
    "        self.add_parameter('len_pts', set_cmd=None, initial_value=21)\n",
    "        self.add_parameter('readout_len', set_cmd=None, initial_value=2e-6)\n",
    "\n",
    "    def setup(self, **kw):\n",
    "        self.delay(np.linspace(self.start_len(), self.stop_len(), self.len_pts()))\n",
    "        super().setup(**kw)\n",
    "        \n",
    "    def sequence(self):\n",
    "        elem = bb.Element()\n",
    "        seq = bb.Sequence()\n",
    "        seq.name = 'rabi'\n",
    "        \n",
    "        for i, length in enumerate(self.delay()*1e-6):\n",
    "            bps = BluePrints(self.chan_map, sample_rate=self.sample_rate())            \n",
    "            bps['q'].insertSegment(0, ramp, (0, 0), dur=self.seq_len(), name='q_segment')\n",
    "            bps['q_mrkr'] = [(self.initial_delay, self.qubit_pulse_len())]            \n",
    "            bps['ro'].insertSegment(0, ramp, (0, 0), dur=self.seq_len(), name='ro_segment')\n",
    "            bps['alz_mrkr'] = [(self.initial_delay+self.qubit_pulse_len()+length, \n",
    "                                self.alz_trigger_len)]\n",
    "            bps['ro_mrkr'] = [(self.initial_delay+self.qubit_pulse_len()+length+\\\n",
    "                                   self.alz_trigger_len+self.alz_trigger_delay, \n",
    "                               self.readout_len())]\n",
    "\n",
    "            for n, bp in bps():\n",
    "                elem.addBluePrint(n, bp)\n",
    "        \n",
    "            seq.addElement(i+1, elem)\n",
    "            \n",
    "            seq.setSequencingTriggerWait(i+1, 0)\n",
    "            seq.setSequencingGoto(i+1, (i+2)%self.len_pts())\n",
    "        \n",
    "        \n",
    "        seq.setSR(self.sample_rate())\n",
    "        \n",
    "        seq.setChannelAmplitude(1, 1)\n",
    "        seq.setChannelOffset(1, 0)\n",
    "        seq.setChannelAmplitude(2, 1)\n",
    "        seq.setChannelOffset(2, 0)\n",
    "\n",
    "        return seq"
   ]
  },
  {
   "cell_type": "markdown",
   "metadata": {},
   "source": [
    "### Configure and run"
   ]
  },
  {
   "cell_type": "code",
   "execution_count": null,
   "metadata": {
    "scrolled": true
   },
   "outputs": [],
   "source": [
    "### General settings\n",
    "\n",
    "# Readout frq\n",
    "RF.frequency(7.1508e9)\n",
    "LO.frequency(RF.frequency() + IF)\n",
    "\n",
    "# qubit ctrl\n",
    "qubit_gen.frequency(5.3955e9)\n",
    "qubit_gen.power(2)\n",
    "\n",
    "# experiment name\n",
    "exp = select_experiment('qubit_t1', SAMPLE)\n",
    "# averages\n",
    "navgs = 1000\n",
    "\n",
    "### SWEEPER\n",
    "\n",
    "# create the meta-instrument for the sequence, add to the qcodes station.\n",
    "t1_sweep = create_inst(T1Sequence, 't1_sweep', awg=awg5014, chan_map=AWG_CHANS, force_new_instance=True)\n",
    "station = add2station(station, t1_sweep)\n",
    "\n",
    "# AWG sampling rate (in Hz)\n",
    "t1_sweep.sample_rate(1e9)\n",
    "\n",
    "# qubit pulse\n",
    "t1_sweep.qubit_pulse_len(60e-9)\n",
    "\n",
    "# sequence length (in s). Up to buffers at the edges this is the integration time per AWG sweep.\n",
    "t1_sweep.seq_len(100e-6)\n",
    "t1_sweep.start_len(0.1)\n",
    "t1_sweep.stop_len(50.1)\n",
    "t1_sweep.len_pts(101)\n",
    "t1_sweep.readout_len(8e-6)\n",
    "\n",
    "# and setup the sequence (will program the awg)\n",
    "t1_sweep.setup(\n",
    "    start_awg=False,\n",
    "    program_awg=True,\n",
    ")\n",
    "\n",
    "### DETECTOR\n",
    "\n",
    "# meta-instrument for the detector (i.e., alazar acquisition)\n",
    "det = iqrel_detector\n",
    "det.set_sweeper(t1_sweep)\n",
    "\n",
    "# acquisition time\n",
    "det.acq_time(t1_sweep.readout_len() + 0.2e-6)\n",
    "\n",
    "# HW config, and how data is shaped.\n",
    "det.configure_alazar(\n",
    "    records_per_buffer=t1_sweep.len_pts(),\n",
    "    buffers_per_acquisition=navgs,\n",
    ")\n",
    "det.setup()\n",
    "\n",
    "### Setup measurement and run\n",
    "\n",
    "meas = MeasurementExt(station, exp=exp, \n",
    "                      hard_sweep_detector=det,\n",
    "                      soft_sweep_params=[\n",
    "                          det.soft_average,\n",
    "                      ])\n",
    "\n",
    "with meas.run() as datasaver:\n",
    "    \n",
    "    datasaver.dataset.subscribe(\n",
    "        QcodesDatasetSubscriber(datasaver.dataset), \n",
    "        state=[], min_wait=0, min_count=1,\n",
    "    )\n",
    "    \n",
    "    for i in range(100):\n",
    "        det.soft_average(i)\n",
    "        det.acquisition()\n",
    "        datasaver.add_result(*meas.get_result())\n",
    "        time.sleep(1)"
   ]
  },
  {
   "cell_type": "markdown",
   "metadata": {},
   "source": [
    "## Calibrate pi pulses"
   ]
  },
  {
   "cell_type": "markdown",
   "metadata": {},
   "source": [
    "### Sweeper class"
   ]
  },
  {
   "cell_type": "code",
   "execution_count": null,
   "metadata": {},
   "outputs": [],
   "source": [
    "class PiCalSequence(BroadBeanSequence):\n",
    "    \n",
    "    initial_delay = 1e-6\n",
    "    alz_trigger_len = 100e-9\n",
    "    alz_trigger_delay = 0\n",
    "\n",
    "    def __init__(self, *arg, **kw):\n",
    "        \n",
    "        kw['sweep_dims'] = ['delay', ]\n",
    "        kw['sweep_units'] = ['s', ]\n",
    "        \n",
    "        super().__init__(*arg, **kw)\n",
    "        self.add_parameter('seq_len', set_cmd=None, \n",
    "                           unit='s', initial_value=1e-5)\n",
    "        \n",
    "        self.add_parameter('start_len', set_cmd=None, unit='s', initial_value=0)\n",
    "        self.add_parameter('stop_len', set_cmd=None, unit='s', initial_value=200e-9)\n",
    "        self.add_parameter('len_pts', set_cmd=None, initial_value=21)\n",
    "        self.add_parameter('readout_len', set_cmd=None, initial_value=2e-6)\n",
    "        self.add_parameter('n_reps', set_cmd=None, initial_value=5)\n",
    "        self.add_parameter('pulse_delay', set_cmd=None, initial_value=20e-9)\n",
    "\n",
    "    def setup(self, **kw):\n",
    "        self.delay(np.linspace(self.start_len(), self.stop_len(), self.len_pts()))\n",
    "        super().setup(**kw)\n",
    "        \n",
    "    def sequence(self):\n",
    "        elem = bb.Element()\n",
    "        seq = bb.Sequence()\n",
    "        seq.name = 'rabi'\n",
    "        \n",
    "        for i, length in enumerate(self.delay()):\n",
    "            bps = BluePrints(self.chan_map, sample_rate=self.sample_rate())            \n",
    "            bps['q'].insertSegment(0, ramp, (0, 0), dur=self.seq_len(), name='q_segment')\n",
    "            \n",
    "            cur_delay = self.initial_delay\n",
    "            bps['q_mrkr'] = []\n",
    "            for j in range(self.n_reps()):\n",
    "                bps['q_mrkr'] += [(cur_delay, length)]\n",
    "                cur_delay += length + self.pulse_delay()\n",
    "         \n",
    "            bps['ro'].insertSegment(0, ramp, (0, 0), dur=self.seq_len(), name='ro_segment')\n",
    "            bps['alz_mrkr'] = [(cur_delay, self.alz_trigger_len)]\n",
    "            bps['ro_mrkr'] = [(cur_delay + self.alz_trigger_len + self.alz_trigger_delay, \n",
    "                               self.readout_len())]\n",
    "\n",
    "            for n, bp in bps():\n",
    "                elem.addBluePrint(n, bp)\n",
    "        \n",
    "            seq.addElement(i+1, elem)\n",
    "            \n",
    "            seq.setSequencingTriggerWait(i+1, 0)\n",
    "            seq.setSequencingGoto(i+1, (i+2)%self.len_pts())\n",
    "        \n",
    "        \n",
    "        seq.setSR(self.sample_rate())\n",
    "        \n",
    "        seq.setChannelAmplitude(1, 1)\n",
    "        seq.setChannelOffset(1, 0)\n",
    "        seq.setChannelAmplitude(2, 1)\n",
    "        seq.setChannelOffset(2, 0)\n",
    "\n",
    "        return seq"
   ]
  },
  {
   "cell_type": "markdown",
   "metadata": {},
   "source": [
    "### Configure and run"
   ]
  },
  {
   "cell_type": "code",
   "execution_count": null,
   "metadata": {},
   "outputs": [],
   "source": [
    "# Readout frq\n",
    "RF.frequency(7.1508e9)\n",
    "LO.frequency(RF.frequency() + IF)\n",
    "\n",
    "# qubit ctrl\n",
    "qubit_gen.frequency(5.3955e9)\n",
    "qubit_gen.power(2)\n",
    "\n",
    "# experiment name\n",
    "exp = select_experiment('qubit_pi_cal', SAMPLE)\n",
    "# averages\n",
    "navgs = 1000\n",
    "\n",
    "### SWEEPER\n",
    "\n",
    "# create the meta-instrument for the sequence, add to the qcodes station.\n",
    "pical_sweep = create_inst(PiCalSequence, 'pical_sweep', awg=awg5014, chan_map=AWG_CHANS, force_new_instance=True)\n",
    "station = add2station(station, pical_sweep)\n",
    "\n",
    "# AWG sampling rate (in Hz)\n",
    "pical_sweep.sample_rate(1e9)\n",
    "pical_sweep.seq_len(100e-6)\n",
    "\n",
    "pical_sweep.start_len(20e-9)\n",
    "pical_sweep.stop_len(100e-9)\n",
    "pical_sweep.len_pts(21)\n",
    "pical_sweep.n_reps(5)\n",
    "pical_sweep.pulse_delay(20e-9)\n",
    "pical_sweep.readout_len(8e-6)\n",
    "\n",
    "# and setup the sequence (will program the awg)\n",
    "pical_sweep.setup(\n",
    "    start_awg=False,\n",
    "    program_awg=True,\n",
    ")\n"
   ]
  },
  {
   "cell_type": "code",
   "execution_count": null,
   "metadata": {},
   "outputs": [],
   "source": []
  },
  {
   "cell_type": "markdown",
   "metadata": {},
   "source": [
    "## Qubit Ramsey"
   ]
  },
  {
   "cell_type": "markdown",
   "metadata": {},
   "source": [
    "### Sweeper class"
   ]
  },
  {
   "cell_type": "code",
   "execution_count": null,
   "metadata": {},
   "outputs": [],
   "source": [
    "class RamseySequence(BroadBeanSequence):\n",
    "    \n",
    "    initial_delay = 1e-6\n",
    "    alz_trigger_len = 100e-9\n",
    "    alz_trigger_delay = 0\n",
    "\n",
    "    def __init__(self, *arg, **kw):\n",
    "        \n",
    "        kw['sweep_dims'] = ['delay', ]\n",
    "        kw['sweep_units'] = ['s', ]\n",
    "        \n",
    "        super().__init__(*arg, **kw)\n",
    "        self.add_parameter('seq_len', set_cmd=None, \n",
    "                           unit='s', initial_value=1e-5)\n",
    "        \n",
    "        self.add_parameter('qubit_pulse_len', set_cmd=None, unit='s', initial_value=100e-9)\n",
    "        self.add_parameter('start_len', set_cmd=None, unit='s', initial_value=0)\n",
    "        self.add_parameter('stop_len', set_cmd=None, unit='s', initial_value=200e-9)\n",
    "        self.add_parameter('len_pts', set_cmd=None, initial_value=21)\n",
    "        self.add_parameter('readout_len', set_cmd=None, initial_value=2e-6)\n",
    "        self.add_parameter('readout_delay', set_cmd=None, initial_value=100e-9)\n",
    "\n",
    "    def setup(self, **kw):\n",
    "        self.delay(np.linspace(self.start_len(), self.stop_len(), self.len_pts()))\n",
    "        super().setup(**kw)\n",
    "        \n",
    "    def sequence(self):\n",
    "        elem = bb.Element()\n",
    "        seq = bb.Sequence()\n",
    "        seq.name = 'ramsey'\n",
    "        \n",
    "        for i, length in enumerate(self.delay()):\n",
    "            bps = BluePrints(self.chan_map, sample_rate=self.sample_rate())            \n",
    "            bps['q'].insertSegment(0, ramp, (0, 0), dur=self.seq_len(), name='q_segment')\n",
    "            bps['q_mrkr'] = [(self.initial_delay, self.qubit_pulse_len()),\n",
    "                             (self.initial_delay + self.qubit_pulse_len() + length, self.qubit_pulse_len())]            \n",
    "            bps['ro'].insertSegment(0, ramp, (0, 0), dur=self.seq_len(), name='ro_segment')\n",
    "            bps['alz_mrkr'] = [(self.initial_delay + 2*self.qubit_pulse_len() + length + self.readout_delay(), \n",
    "                                self.alz_trigger_len)]\n",
    "            bps['ro_mrkr'] = [(self.initial_delay+2*self.qubit_pulse_len()+length+\\\n",
    "                                   self.alz_trigger_len+self.alz_trigger_delay+self.readout_delay(), \n",
    "                               self.readout_len())]\n",
    "\n",
    "            for n, bp in bps():\n",
    "                elem.addBluePrint(n, bp)\n",
    "        \n",
    "            seq.addElement(i+1, elem)\n",
    "            \n",
    "            seq.setSequencingTriggerWait(i+1, 0)\n",
    "            seq.setSequencingGoto(i+1, (i+2)%self.len_pts())\n",
    "        \n",
    "        \n",
    "        seq.setSR(self.sample_rate())\n",
    "        \n",
    "        seq.setChannelAmplitude(1, 1)\n",
    "        seq.setChannelOffset(1, 0)\n",
    "        seq.setChannelAmplitude(2, 1)\n",
    "        seq.setChannelOffset(2, 0)\n",
    "\n",
    "        return seq"
   ]
  },
  {
   "cell_type": "markdown",
   "metadata": {},
   "source": [
    "### Configure and run"
   ]
  },
  {
   "cell_type": "code",
   "execution_count": null,
   "metadata": {
    "scrolled": true
   },
   "outputs": [],
   "source": [
    "### General settings\n",
    "\n",
    "# demod frequency\n",
    "IF = 20e6\n",
    "# Readout frq\n",
    "RF.frequency(7.1508e9)\n",
    "LO.frequency(RF.frequency() + IF)\n",
    "# qubit frq\n",
    "qubit_gen.frequency(5.395e9 - 0.5e6 + 0.1e6) # detune to get fringes\n",
    "qubit_gen.power(2)\n",
    "# experiment name\n",
    "exp = select_experiment('qubit_ramsey', SAMPLE)\n",
    "# averages\n",
    "navgs = 1000\n",
    "\n",
    "### SWEEPER\n",
    "\n",
    "# create the meta-instrument for the sequence, add to the qcodes station.\n",
    "ramsey_sweep = create_inst(RamseySequence, 'ramsey_sweep', awg=awg5014, \n",
    "                           chan_map=AWG_CHANS, force_new_instance=True)\n",
    "station = add2station(station, ramsey_sweep)\n",
    "\n",
    "# AWG sampling rate (in Hz)\n",
    "ramsey_sweep.sample_rate(1e9)\n",
    "\n",
    "# qubit pulse\n",
    "ramsey_sweep.qubit_pulse_len(30e-9)\n",
    "ramsey_sweep.readout_delay(100e-9)\n",
    "\n",
    "# sequence length (in s). Up to buffers at the edges this is the integration time per AWG sweep.\n",
    "ramsey_sweep.seq_len(100e-6)\n",
    "ramsey_sweep.start_len(0.1e-6)\n",
    "ramsey_sweep.stop_len(10.1e-6)\n",
    "ramsey_sweep.len_pts(201)\n",
    "ramsey_sweep.readout_len(8e-6)\n",
    "\n",
    "# and setup the sequence (will program the awg)\n",
    "ramsey_sweep.setup(\n",
    "    start_awg=False,\n",
    "    program_awg=True,\n",
    ")\n",
    "\n",
    "if True:\n",
    "    ### DETECTOR\n",
    "\n",
    "    # meta-instrument for the detector (i.e., alazar acquisition)\n",
    "    det = iqrel_detector\n",
    "    det.set_sweeper(ramsey_sweep)\n",
    "\n",
    "    # acquisition time\n",
    "    det.acq_time(ramsey_sweep.readout_len() + 0.2e-6)\n",
    "    # demod frequency\n",
    "    det.demod_frq(IF)\n",
    "\n",
    "    def trigger_func(do_start):\n",
    "        if do_start:\n",
    "            station.awg5014.start()\n",
    "        else:\n",
    "            station.awg5014.stop()\n",
    "\n",
    "    det.acqctl.trigger_func = trigger_func\n",
    "\n",
    "    # HW config, and how data is shaped.\n",
    "    det.configure_alazar(\n",
    "        records_per_buffer=ramsey_sweep.len_pts(),\n",
    "        buffers_per_acquisition=navgs,\n",
    "    )\n",
    "    det.setup()\n",
    "\n",
    "    ### Setup measurement and run\n",
    "\n",
    "    meas = MeasurementExt(station, exp=exp, \n",
    "                          hard_sweep_detector=det,\n",
    "                          soft_sweep_params=[\n",
    "                              det.soft_average,\n",
    "                          ])\n",
    "\n",
    "    with meas.run() as datasaver:\n",
    "\n",
    "        datasaver.dataset.subscribe(\n",
    "            QcodesDatasetSubscriber(datasaver.dataset), \n",
    "            state=[], min_wait=0, min_count=1,\n",
    "        )\n",
    "\n",
    "        for i in range(10000):\n",
    "            det.soft_average(i)\n",
    "            det.acquisition()\n",
    "            datasaver.add_result(*meas.get_result())\n",
    "            time.sleep(1)\n",
    "            "
   ]
  },
  {
   "cell_type": "code",
   "execution_count": null,
   "metadata": {},
   "outputs": [],
   "source": []
  },
  {
   "cell_type": "code",
   "execution_count": null,
   "metadata": {},
   "outputs": [],
   "source": []
  },
  {
   "cell_type": "code",
   "execution_count": null,
   "metadata": {},
   "outputs": [],
   "source": []
  },
  {
   "cell_type": "code",
   "execution_count": null,
   "metadata": {},
   "outputs": [],
   "source": []
  },
  {
   "cell_type": "code",
   "execution_count": null,
   "metadata": {},
   "outputs": [],
   "source": []
  },
  {
   "cell_type": "code",
   "execution_count": null,
   "metadata": {},
   "outputs": [],
   "source": [
    "import time\n",
    "time.localtime()"
   ]
  },
  {
   "cell_type": "markdown",
   "metadata": {
    "heading_collapsed": true
   },
   "source": [
    "# Backups / old code"
   ]
  },
  {
   "cell_type": "markdown",
   "metadata": {
    "hidden": true
   },
   "source": [
    "## Qubit spec"
   ]
  },
  {
   "cell_type": "code",
   "execution_count": null,
   "metadata": {
    "hidden": true
   },
   "outputs": [],
   "source": [
    "exp = select_experiment('qubit_spec', SAMPLE)\n",
    "\n",
    "### measurement params\n",
    "\n",
    "# ctl = iq_acq\n",
    "ctl = iqrel_acq\n",
    "ctl.acq_time = 98e-6\n",
    "ctl.demod_frq = 20e6\n",
    "ctl.update_acquisitionkwargs(\n",
    "    records_per_buffer=100, \n",
    "    buffers_per_acquisition=10,\n",
    "    buffer_timeout=10000,\n",
    "    allocated_buffers=1\n",
    ")\n",
    "\n",
    "RF.frequency(7.1507e9)\n",
    "LO.frequency(RF.frequency() + IF)"
   ]
  },
  {
   "cell_type": "code",
   "execution_count": null,
   "metadata": {
    "hidden": true
   },
   "outputs": [],
   "source": [
    "### set up expt\n",
    "meas = Measurement(exp=exp)\n",
    "meas.write_period = 5.0\n",
    "\n",
    "meas.register_parameter(qubit_gen.frequency)\n",
    "meas.register_custom_parameter('signal_real', setpoints=[qubit_gen.frequency, ])\n",
    "meas.register_custom_parameter('signal_imag', setpoints=[qubit_gen.frequency, ])\n",
    "meas.register_custom_parameter('signal_abs', setpoints=[qubit_gen.frequency, ])\n",
    "\n",
    "q_frqs = np.linspace(5.1e9, 5.4e9, 301)\n",
    "\n",
    "yoko.voltage(0)\n",
    "\n",
    "with meas.run() as datasaver:\n",
    "    datasaver.dataset.subscribe(QcodesDatasetSubscriber(datasaver.dataset), state=[],\n",
    "                                min_wait=0, min_count=1)\n",
    "    \n",
    "    for f in q_frqs:\n",
    "        qubit_gen.frequency(f)\n",
    "        time.sleep(0.2)\n",
    "        \n",
    "        data = ctl.do_acquisition()\n",
    "        if ctl == iq_acq:\n",
    "            sig = data[...,1].mean()\n",
    "            ref = data[...,0].mean()\n",
    "        elif ctl == iqrel_acq:\n",
    "            sig = data.mean()\n",
    "\n",
    "        datasaver.add_result((qubit_gen.frequency, f), \n",
    "                             ('signal_real', sig.real.astype(float)),\n",
    "                             ('signal_imag', sig.imag.astype(float)), \n",
    "                             ('signal_abs', np.abs(sig).astype(float)))"
   ]
  },
  {
   "cell_type": "code",
   "execution_count": null,
   "metadata": {
    "hidden": true
   },
   "outputs": [],
   "source": []
  },
  {
   "cell_type": "code",
   "execution_count": null,
   "metadata": {
    "hidden": true
   },
   "outputs": [],
   "source": [
    "exp = select_experiment('qubit_spec_flux', SAMPLE)\n",
    "### set up expt\n",
    "meas = Measurement(exp=exp)\n",
    "meas.write_period = 5.0\n",
    "\n",
    "meas.register_parameter(yoko.voltage)\n",
    "meas.register_parameter(qubit_gen.frequency)\n",
    "meas.register_custom_parameter('signal_real', setpoints=[yoko.voltage, qubit_gen.frequency, ])\n",
    "meas.register_custom_parameter('signal_imag', setpoints=[yoko.voltage, qubit_gen.frequency, ])\n",
    "meas.register_custom_parameter('signal_abs', setpoints=[yoko.voltage, qubit_gen.frequency, ])\n",
    "\n",
    "q_frqs = np.linspace(5.1e9, 5.4e9, 151)\n",
    "flux_vs = np.linspace(-4, 4, 21)\n",
    "yoko.on()\n",
    "\n",
    "with meas.run() as datasaver:\n",
    "    datasaver.dataset.subscribe(QcodesDatasetSubscriber(datasaver.dataset), state=[],\n",
    "                                min_wait=0, min_count=1)\n",
    "    \n",
    "    for v in flux_vs:\n",
    "        yoko.voltage(v)\n",
    "        \n",
    "        for f in q_frqs:\n",
    "            qubit_gen.frequency(f)\n",
    "            time.sleep(0.1)\n",
    "            \n",
    "            data = ctl.do_acquisition()\n",
    "            if ctl == iq_acq:\n",
    "                sig = data[...,1].mean()\n",
    "                ref = data[...,0].mean()\n",
    "            elif ctl == iqrel_acq:\n",
    "                sig = data.mean()\n",
    "\n",
    "            datasaver.add_result(\n",
    "                (yoko.voltage, v),\n",
    "                (qubit_gen.frequency, f), \n",
    "                ('signal_real', sig.real.astype(float)),\n",
    "                ('signal_imag', sig.imag.astype(float)), \n",
    "                ('signal_abs', np.abs(sig).astype(float)))"
   ]
  },
  {
   "cell_type": "code",
   "execution_count": null,
   "metadata": {
    "hidden": true
   },
   "outputs": [],
   "source": []
  },
  {
   "cell_type": "code",
   "execution_count": null,
   "metadata": {
    "hidden": true
   },
   "outputs": [],
   "source": []
  },
  {
   "cell_type": "code",
   "execution_count": null,
   "metadata": {
    "hidden": true
   },
   "outputs": [],
   "source": []
  },
  {
   "cell_type": "code",
   "execution_count": null,
   "metadata": {
    "hidden": true
   },
   "outputs": [],
   "source": []
  },
  {
   "cell_type": "code",
   "execution_count": null,
   "metadata": {
    "hidden": true
   },
   "outputs": [],
   "source": []
  },
  {
   "cell_type": "code",
   "execution_count": null,
   "metadata": {
    "hidden": true
   },
   "outputs": [],
   "source": [
    "ds = qc.load_by_id(77)\n",
    "ds"
   ]
  },
  {
   "cell_type": "code",
   "execution_count": null,
   "metadata": {
    "hidden": true
   },
   "outputs": [],
   "source": [
    "f = np.array(ds.get_values('RF_frequency')).reshape(-1)"
   ]
  },
  {
   "cell_type": "code",
   "execution_count": null,
   "metadata": {
    "hidden": true
   },
   "outputs": [],
   "source": []
  },
  {
   "cell_type": "markdown",
   "metadata": {
    "collapsed": true,
    "hidden": true
   },
   "source": []
  },
  {
   "cell_type": "code",
   "execution_count": null,
   "metadata": {
    "hidden": true
   },
   "outputs": [],
   "source": [
    "# exp = select_experiment('readout_spec_flux', SAMPLE)\n",
    "\n",
    "# ### set up expt\n",
    "# meas = Measurement(exp=exp)\n",
    "# meas.write_period = 5.0\n",
    "\n",
    "# flux_vs = np.linspace(-5, 5, 21)\n",
    "# rf_frqs = np.linspace(7.149e9, 7.152e9, 61)\n",
    "# IF = 20e6\n",
    "\n",
    "# meas.register_parameter(yoko.voltage)\n",
    "# meas.register_parameter(RF.frequency)\n",
    "# meas.register_custom_parameter('signal_real', setpoints=[yoko.voltage, RF.frequency, ])\n",
    "# meas.register_custom_parameter('signal_imag', setpoints=[yoko.voltage, RF.frequency, ])\n",
    "# meas.register_custom_parameter('signal_abs', setpoints=[yoko.voltage, RF.frequency, ])\n",
    "\n",
    "# with meas.run() as datasaver:\n",
    "#     datasaver.dataset.subscribe(QcodesDatasetSubscriber(datasaver.dataset), state=[],\n",
    "#                                 min_wait=0, min_count=1)\n",
    "    \n",
    "    \n",
    "#     for v in flux_vs:\n",
    "#         yoko.voltage(v)\n",
    "    \n",
    "#         for f in rf_frqs:\n",
    "#             RF.frequency(f)\n",
    "#             LO.frequency(f + IF)\n",
    "#             time.sleep(0.2)\n",
    "\n",
    "#             data = ctl.do_acquisition()\n",
    "#             if ctl == iq_acq:\n",
    "#                 sig = data[...,1].mean()\n",
    "#                 ref = data[...,0].mean()\n",
    "#             elif ctl == iqrel_acq:\n",
    "#                 sig = data.mean()\n",
    "\n",
    "#             datasaver.add_result(\n",
    "#                 (yoko.voltage, v), \n",
    "#                 (RF.frequency, f), \n",
    "#                 ('signal_real', sig.real.astype(float)),\n",
    "#                 ('signal_imag', sig.imag.astype(float)), \n",
    "#                 ('signal_abs', np.abs(sig).astype(float)))"
   ]
  },
  {
   "cell_type": "markdown",
   "metadata": {
    "heading_collapsed": true,
    "hidden": true
   },
   "source": [
    "## Test Alazar signal"
   ]
  },
  {
   "cell_type": "code",
   "execution_count": null,
   "metadata": {
    "hidden": true
   },
   "outputs": [],
   "source": [
    "generic_detector = create_inst(AlazarDetector, name='generic_detector', acqctl=demodrel_acq, \n",
    "                               sweep_params=[], force_new_instance=True)\n",
    "station = add2station(station, generic_detector)"
   ]
  },
  {
   "cell_type": "code",
   "execution_count": null,
   "metadata": {
    "hidden": true
   },
   "outputs": [],
   "source": [
    "demodrel_acq.acq_time(100e-6)\n",
    "demodrel_acq.demod_frq(20e6)\n",
    "demodrel_acq.update_acquisitionkwargs(records_per_buffer=10, \n",
    "                                      buffers_per_acquisition=1,\n",
    "                                      buffer_timeout=10000,\n",
    "                                      allocated_buffers=1)\n",
    "\n",
    "rawdata = generic_detector.acquisition()\n",
    "data = np.squeeze(rawdata).mean(axis=0).reshape(-1)\n",
    "\n",
    "\n",
    "fig, ax = plt.subplots(1, 1)\n",
    "ax.plot(generic_detector.time() * 1e6, data.real, label='Re')\n",
    "ax.plot(generic_detector.time() * 1e6, data.imag, label='Im')\n",
    "ax.plot(generic_detector.time() * 1e6, np.abs(data), label='Abs')\n",
    "ax.legend()\n",
    "\n",
    "ax.set_ylabel('Signal')\n",
    "ax.set_xlabel('Time (us)')\n",
    "\n",
    "fig.tight_layout()"
   ]
  }
 ],
 "metadata": {
  "kernelspec": {
   "display_name": "Python 3",
   "language": "python",
   "name": "python3"
  },
  "language_info": {
   "codemirror_mode": {
    "name": "ipython",
    "version": 3
   },
   "file_extension": ".py",
   "mimetype": "text/x-python",
   "name": "python",
   "nbconvert_exporter": "python",
   "pygments_lexer": "ipython3",
   "version": "3.6.5"
  },
  "toc": {
   "base_numbering": 1,
   "nav_menu": {},
   "number_sections": true,
   "sideBar": true,
   "skip_h1_title": false,
   "title_cell": "Table of Contents",
   "title_sidebar": "Contents",
   "toc_cell": false,
   "toc_position": {
    "height": "1074px",
    "left": "99px",
    "top": "156.717px",
    "width": "277px"
   },
   "toc_section_display": true,
   "toc_window_display": true
  }
 },
 "nbformat": 4,
 "nbformat_minor": 2
}
