{
 "cells": [
  {
   "cell_type": "markdown",
   "metadata": {},
   "source": [
    "# Setup "
   ]
  },
  {
   "cell_type": "code",
   "execution_count": null,
   "metadata": {
    "ExecuteTime": {
     "end_time": "2018-07-10T04:55:16.887817Z",
     "start_time": "2018-07-10T04:55:16.576998Z"
    }
   },
   "outputs": [],
   "source": [
    "%matplotlib notebook\n",
    "\n",
    "import sys\n",
    "import os\n",
    "import time\n",
    "import numpy as np\n",
    "import matplotlib as mpl\n",
    "\n",
    "from collections import OrderedDict\n",
    "from importlib import reload\n",
    "from matplotlib import pyplot as plt"
   ]
  },
  {
   "cell_type": "code",
   "execution_count": null,
   "metadata": {
    "ExecuteTime": {
     "end_time": "2018-07-10T04:55:17.957468Z",
     "start_time": "2018-07-10T04:55:17.007033Z"
    }
   },
   "outputs": [],
   "source": [
    "import qcodes as qc\n",
    "import broadbean as bb\n",
    "\n",
    "from broadbean.plotting import plotter"
   ]
  },
  {
   "cell_type": "code",
   "execution_count": null,
   "metadata": {
    "ExecuteTime": {
     "end_time": "2018-07-10T04:55:17.971459Z",
     "start_time": "2018-07-10T04:55:17.958467Z"
    }
   },
   "outputs": [],
   "source": [
    "from qcodes import load_by_id\n",
    "from qcodes import validators\n",
    "from qcodes.instrument.base import Instrument\n",
    "from qcodes.dataset.measurements import Measurement\n",
    "from qcodes.instrument.parameter import Parameter\n",
    "from qcodes.dataset.plotting import plot_by_id\n",
    "from qcodes.dataset.data_set import DataSet\n",
    "from qcodes.sweep import sweep, nest, chain, szip, getter, setter\n",
    "from qcodes.sweep.sweep import ParameterSweep, Nest, ParameterWrapper, FunctionWrapper, FunctionSweep, getter"
   ]
  },
  {
   "cell_type": "code",
   "execution_count": null,
   "metadata": {
    "ExecuteTime": {
     "end_time": "2018-07-10T04:55:18.230313Z",
     "start_time": "2018-07-10T04:55:17.972460Z"
    }
   },
   "outputs": [],
   "source": [
    "from pytopo.qctools import instruments as instools; reload(instools)\n",
    "from pytopo.qctools.instruments import create_inst, add2station\n",
    "\n",
    "from pytopo.qctools import measurement; reload(measurement)\n",
    "from pytopo.qctools.measurement import MeasurementExt\n",
    "\n",
    "from pytopo.mplplots.init_nb_plotting import *\n",
    "from pytopo.mplplots import plots as mplplots\n",
    "from pytopo.mplplots import tools as mpltools\n",
    "\n",
    "from pytopo.qctools.dataset2 import select_experiment\n",
    "\n",
    "import plottr; reload(plottr)\n",
    "from plottr import client\n",
    "from plottr.qcodes_dataset import QcodesDatasetSubscriber\n",
    "\n",
    "from pytopo.mplplots.init_nb_plotting import *\n",
    "\n",
    "qc.config['core']['db_location'] = r\"d:/OneDrive/BF1/Data/experiments.db\""
   ]
  },
  {
   "cell_type": "code",
   "execution_count": null,
   "metadata": {
    "ExecuteTime": {
     "end_time": "2018-07-10T04:55:18.853637Z",
     "start_time": "2018-07-10T04:55:18.847638Z"
    }
   },
   "outputs": [],
   "source": [
    "from pytopo.qctools import hard_sweep; reload(hard_sweep)\n",
    "from pytopo.qctools.hard_sweep import HardSweep, HardSweepDetector"
   ]
  },
  {
   "cell_type": "markdown",
   "metadata": {},
   "source": [
    "## Classes"
   ]
  },
  {
   "cell_type": "code",
   "execution_count": null,
   "metadata": {
    "ExecuteTime": {
     "end_time": "2018-07-10T05:19:39.058394Z",
     "start_time": "2018-07-10T05:19:39.043433Z"
    }
   },
   "outputs": [],
   "source": [
    "class ConversionParameter(Parameter):\n",
    "    \n",
    "    def __init__(self, name, src_param, get_conv, set_conv=None, **kw):\n",
    "        super().__init__(name, **kw)\n",
    "        self.src_param = src_param\n",
    "        self.get_conv = get_conv\n",
    "        self.set_conv = set_conv\n",
    "    \n",
    "    def get_raw(self):\n",
    "        return self.get_conv(self.src_param())\n",
    "    \n",
    "    def set_raw(self, value):\n",
    "        if self.set_conv is None:\n",
    "            raise NotImplementedError(\"No set conversion implemented.\")\n",
    "        \n",
    "        return self.src_param(self.set_conv(value))\n",
    "    \n",
    "\n",
    "class IVVISetup(Instrument):\n",
    "    \n",
    "    def __init__(self, name, ivvi, **kw):\n",
    "        super().__init__(name, **kw)\n",
    "        \n",
    "        self.ivvi = ivvi\n",
    "        \n",
    "        self.add_parameter('voltage_multiplier', get_cmd=None, set_cmd=None, \n",
    "                           initial_value=10e-3)\n",
    "        self.add_parameter('current_multiplier', get_cmd=None, set_cmd=None, \n",
    "                           initial_value=1e-7)\n",
    "        self.add_parameter('iso_in_multiplier', get_cmd=None, set_cmd=None,\n",
    "                           initial_value=1e-2)\n",
    "        self.add_parameter('gate_multiplier', get_cmd=None, set_cmd=None, \n",
    "                           initial_value=1)\n",
    "        \n",
    "        self.add_parameter('M1b_gain', get_cmd=None, set_cmd=None, initial_value=1e6)\n",
    "        self.add_parameter('M1b_mode', get_cmd=None, set_cmd=None, \n",
    "                           vals=validators.Enum('low_noise', 'low_R_in'), \n",
    "                           initial_value='low_noise')\n",
    "        self.add_parameter('M1b_R_in', get_cmd=self._get_M1b_R_in)\n",
    "        \n",
    "        self.add_parameter('M2m_Vgain', get_cmd=None, set_cmd=None, initial_value=1e3)\n",
    "\n",
    "        for i in range(1, self.ivvi._numdacs + 1):       \n",
    "            self.add_parameter('dac{}'.format(i), unit='V',\n",
    "                               get_cmd=self.ivvi._gen_ch_get_func(self._get_dac, i),\n",
    "                               set_cmd=self.ivvi._gen_ch_set_func(self._set_dac, i))\n",
    "            \n",
    "    def _get_M1b_R_in(self):\n",
    "        if self.M1b_mode() == 'low_noise':\n",
    "            return 2e3 + 1e-3 * self.M1b_gain()\n",
    "        elif self.M1b_mode() == 'low_R_in':\n",
    "            return 2e3 + 1e-4 * self.M1b_gain()\n",
    "            \n",
    "    def _get_dac(self, ch):\n",
    "        if ch in [8, 9, 10, 11, 12, 13, 14, 15]:\n",
    "            return self.ivvi.set('dac{}'.format(ch)) * 1e-3 * self.gate_multiplier()\n",
    "        else:\n",
    "            return self.ivvi.get('dac{}'.format(ch)) * 1e-3 * self.voltage_multiplier()\n",
    "    \n",
    "    def _set_dac(self, ch, val):\n",
    "        if ch in [8, 9, 10, 11, 12, 13, 14, 15]:\n",
    "            return self.ivvi.set('dac{}'.format(ch), val * 1e3 / self.gate_multiplier())\n",
    "        else:\n",
    "            return self.ivvi.set('dac{}'.format(ch), val * 1e3 / self.voltage_multiplier())"
   ]
  },
  {
   "cell_type": "markdown",
   "metadata": {},
   "source": []
  },
  {
   "cell_type": "markdown",
   "metadata": {},
   "source": [
    "### AWG"
   ]
  },
  {
   "cell_type": "code",
   "execution_count": null,
   "metadata": {
    "ExecuteTime": {
     "end_time": "2018-07-10T04:55:21.867709Z",
     "start_time": "2018-07-10T04:55:21.842724Z"
    }
   },
   "outputs": [],
   "source": [
    "ramp = bb.PulseAtoms.ramp\n",
    "\n",
    "class BluePrints(object):\n",
    "    \n",
    "    def __init__(self, chan_map, sample_rate=1e9):\n",
    "        self.bps = {}\n",
    "        self.map = {}\n",
    "        \n",
    "        for i, lst in chan_map.items():\n",
    "            self.bps[i] = bb.BluePrint()\n",
    "            self.bps[i].setSR(sample_rate)\n",
    "            for j, name in enumerate(lst):\n",
    "                if name is not None:\n",
    "                    self.map[name] = (i, j)\n",
    "                    \n",
    "    def __getitem__(self, name):\n",
    "        if self.map[name][1] == 0:\n",
    "            return self.bps[self.map[name][0]]\n",
    "        else:\n",
    "            return getattr(self.bps[self.map[name][0]], 'marker{}'.format(self.map[name][1]))\n",
    "        \n",
    "    def __setitem__(self, name, value):\n",
    "        if self.map[name][1] == 0:\n",
    "            self.bps[self.map[name][0]] = value\n",
    "        else:\n",
    "            setattr(self.bps[self.map[name][0]], 'marker{}'.format(self.map[name][1]), value)\n",
    "        \n",
    "    def __call__(self):\n",
    "        return list(self.bps.items())\n",
    "    \n",
    "\n",
    "class BroadBeanSequence(HardSweep):\n",
    "    \n",
    "    chan_map = {}\n",
    "    \n",
    "    def __init__(self, name, awg, chan_map, **kw):\n",
    "        self.awg = awg\n",
    "        self.chan_map = chan_map\n",
    "        \n",
    "        super().__init__(name, **kw)\n",
    "        \n",
    "        self.add_parameter('sample_rate', get_cmd=None, set_cmd=None, \n",
    "                           unit='GS/s', initial_value=1e9)\n",
    "        \n",
    "    def sequence(self):\n",
    "        raise NotImplementedError\n",
    "        \n",
    "        \n",
    "    def setup(self, program_awg=True, start_awg=True):\n",
    "        super().setup()\n",
    "        \n",
    "        self.awg.stop()\n",
    "        \n",
    "        if program_awg:\n",
    "            self.awg.clock_freq(self.sample_rate())\n",
    "            seq = self.sequence()\n",
    "            pkg = seq.outputForAWGFile()\n",
    "            self.awg.make_send_and_load_awg_file(*pkg[:])\n",
    "        \n",
    "            for ch_no, ch_desc in self.chan_map.items():\n",
    "                self.awg.set('ch{}_state'.format(ch_no), 1)\n",
    "\n",
    "        if start_awg:\n",
    "            self.awg.start()\n",
    "\n",
    "        \n",
    "class AWGGateRamp1D(BroadBeanSequence):\n",
    "    \n",
    "    trigger_delay = 100e-9\n",
    "    alazar_trigger_len = 100e-9\n",
    "    \n",
    "    def __init__(self, *arg, **kw):\n",
    "        \n",
    "        kw['sweep_dims'] = ['voltage_vals', ]\n",
    "        \n",
    "        super().__init__(*arg, **kw)\n",
    "        \n",
    "        self.add_parameter('step_len', set_cmd=None, \n",
    "                           unit='s', initial_value=10e-6)\n",
    "        self.add_parameter('start_voltage', set_cmd=None,\n",
    "                           unit='V', initial_value=0)\n",
    "        self.add_parameter('stop_voltage', set_cmd=None,\n",
    "                           unit='V', initial_value=1)\n",
    "        self.add_parameter('voltage_points', set_cmd=None,\n",
    "                           unit='', initial_value=11)\n",
    "        self.add_parameter('ramp_down_time', set_cmd=None,\n",
    "                           unit='s', initial_value=10e-6)\n",
    "        \n",
    "    def setup(self, **kw):\n",
    "        vpts = np.linspace(self.start_voltage(), self.stop_voltage(), self.voltage_points())\n",
    "        self.voltage_vals(vpts)\n",
    "        super().setup(**kw)\n",
    "        \n",
    "        \n",
    "    def sequence(self):\n",
    "        elem = bb.Element()\n",
    "        bps = BluePrints(self.chan_map, sample_rate=self.sample_rate())\n",
    "        \n",
    "        cut_t = 0\n",
    "#         bps['awg_voltage'] = []\n",
    "        bps['alz_mrkr'] = []\n",
    "        for i, v in enumerate(self.voltage_vals()):\n",
    "            bps['awg_voltage'].insertSegment(i, ramp, (v, v), \n",
    "                                             dur=self.step_len(), name='voltage')\n",
    "            bps['alz_mrkr'].append((self.step_len() * i + self.trigger_delay, self.alazar_trigger_len))\n",
    "            \n",
    "        bps['awg_voltage'].insertSegment(-1, ramp, (v, self.start_voltage()), \n",
    "                                         dur=self.ramp_down_time(), name='voltage')        \n",
    "            \n",
    "        \n",
    "        for n, bp in bps():\n",
    "            elem.addBluePrint(n, bp)\n",
    "            \n",
    "        seq = bb.Sequence()\n",
    "        seq.name = 'v_ramp'\n",
    "        seq.addElement(1, elem)\n",
    "        seq.setSR(self.sample_rate())\n",
    "        \n",
    "        seq.setChannelAmplitude(1, 1)\n",
    "        seq.setChannelOffset(1, 0)\n",
    "        seq.setChannelAmplitude(2, 1)\n",
    "        seq.setChannelOffset(2, 0)\n",
    "\n",
    "        seq.setSequencingTriggerWait(1, 0)\n",
    "        seq.setSequencingGoto(1, 1)\n",
    "        \n",
    "        return seq\n",
    "        \n",
    "        \n",
    "class SimpleAWGSpec(BroadBeanSequence):\n",
    "\n",
    "    def __init__(self, *arg, **kw):\n",
    "        \n",
    "        kw['sweep_dims'] = ['awg_sweep_idx', ]\n",
    "        \n",
    "        super().__init__(*arg, **kw)\n",
    "        \n",
    "        self.add_parameter('initial_delay', set_cmd=None,\n",
    "                           unit='s', initial_value=1e-6)\n",
    "        self.add_parameter('alazar_trigger_len', set_cmd=None,\n",
    "                           unit='s', initial_value=1e-7)\n",
    "        self.add_parameter('alazar_trigger_delay', set_cmd=None, \n",
    "                           unit='s', initial_value=1e-6)\n",
    "        self.add_parameter('seq_len', set_cmd=None, \n",
    "                           unit='s', initial_value=1e-5)\n",
    "        self.add_parameter('final_delay', set_cmd=None,\n",
    "                           unit='s', initial_value=1e-6)\n",
    "\n",
    "    def setup(self, **kw):\n",
    "        self.awg_sweep_idx([1,])\n",
    "        super().setup(**kw)\n",
    "        \n",
    "    def sequence(self):\n",
    "        elem = bb.Element()\n",
    "        \n",
    "        bps = BluePrints(self.chan_map, sample_rate=self.sample_rate())\n",
    "        \n",
    "        bps['ro'].insertSegment(0, ramp, (0, 0), dur=self.seq_len(), name='ro_segment')\n",
    "        bps['alz_mrkr'] = [(self.initial_delay(), self.alazar_trigger_len())]\n",
    "#         bps['ro_mrkr'] = [(self.initial_delay() + self.alazar_trigger_delay(), \n",
    "#                            self.seq_len() - self.initial_delay() - 2 * self.alazar_trigger_delay() - self.final_delay(), )]\n",
    "        \n",
    "#         bps['test'].insertSegment(0, ramp, (0, 0), dur=self.seq_len(), name='q_segment')\n",
    "#         bps['q_mrkr'] = [(self.initial_delay() + self.alazar_trigger_delay(), \n",
    "#                           self.seq_len() - self.initial_delay() - 2 * self.alazar_trigger_delay() - self.final_delay(), )]\n",
    "        \n",
    "        \n",
    "        for n, bp in bps():\n",
    "            elem.addBluePrint(n, bp)\n",
    "            \n",
    "        seq = bb.Sequence()\n",
    "        seq.name = 'spec'\n",
    "        seq.addElement(1, elem)\n",
    "        seq.setSR(self.sample_rate())\n",
    "        \n",
    "        seq.setChannelAmplitude(1, 1)\n",
    "        seq.setChannelOffset(1, 0)\n",
    "        seq.setChannelAmplitude(2, 1)\n",
    "        seq.setChannelOffset(2, 0)\n",
    "\n",
    "        seq.setSequencingTriggerWait(1, 0)\n",
    "        seq.setSequencingGoto(1, 1)\n",
    "        \n",
    "        return seq"
   ]
  },
  {
   "cell_type": "markdown",
   "metadata": {},
   "source": [
    "### Alazar"
   ]
  },
  {
   "cell_type": "code",
   "execution_count": null,
   "metadata": {
    "ExecuteTime": {
     "end_time": "2018-07-10T04:55:23.071646Z",
     "start_time": "2018-07-10T04:55:23.056677Z"
    }
   },
   "outputs": [],
   "source": [
    "class AlazarBaseDetector(HardSweepDetector):\n",
    "    \n",
    "    def __init__(self, name, acqctl, sweep_params=['buffers', 'records'], **kwargs):\n",
    "        self.acqctl = acqctl        \n",
    "        self._time = None\n",
    "        self._signal_real = None\n",
    "        self._signal_imag = None\n",
    "        self._signal_abs = None\n",
    "\n",
    "        inner_dims = []\n",
    "        for d in self.acqctl.data_dims():\n",
    "            if d not in sweep_params:\n",
    "                inner_dims.append(d)\n",
    "        \n",
    "        super().__init__(name, inner_dims=inner_dims, **kwargs)\n",
    "        \n",
    "        self.add_parameter('acquisition', get_cmd=self.do_acquisition, unit='V', snapshot_value=False)\n",
    "        self.add_parameter('signal_real', get_cmd=lambda: self._signal_real, unit='V', snapshot_value=False)\n",
    "        self.add_parameter('signal_imag', get_cmd=lambda: self._signal_imag, unit='V', snapshot_value=False)\n",
    "        self.add_parameter('signal_abs', get_cmd=lambda: self._signal_abs, unit='V', snapshot_value=False)\n",
    "        self.data_params = [self.signal_real, self.signal_imag, self.signal_abs]\n",
    "        \n",
    "        if 'samples' in self.inner_dims or 'IF_periods' in self.inner_dims:\n",
    "            self.add_parameter('time', unit='s', snapshot_value=False, \n",
    "                               get_cmd=lambda: self._time)\n",
    "\n",
    "    def setup(self):\n",
    "        ### TODO:\n",
    "        # We should have an option that it's possible to not specify all dimensions,\n",
    "        # and basically set the shape to (-1, xxx), i.e., set the first one automatic.\n",
    "        # that might then be an implicit averaging dimension, for example.\n",
    "        # then sweepers can be used for both avering over buffers, or single-shot        \n",
    "        for d in self.inner_dims:\n",
    "            idx = self.acqctl.data_dims().index(d)\n",
    "            try:\n",
    "                npts = self.acqctl.data_shape()[idx]\n",
    "            except:\n",
    "                npts = 1\n",
    "            self.set(d, np.arange(npts))\n",
    "            \n",
    "        super().setup()\n",
    "    \n",
    "    \n",
    "    def do_acquisition(self):\n",
    "        data = self.acqctl.acquisition()\n",
    "        self.setup()\n",
    "        \n",
    "        if 'samples' in self.inner_dims:\n",
    "            self._time = self.acqctl.tvals\n",
    "        elif 'IF_periods' in self.inner_dims:\n",
    "            self._time = self.acqctl.demod_tvals\n",
    "            \n",
    "        self._signal_real = np.real(data)\n",
    "        self._signal_imag = np.imag(data)\n",
    "        self._signal_abs = np.abs(data)\n",
    "        \n",
    "        return data\n",
    "\n",
    "    \n",
    "class AlazarDetector(AlazarBaseDetector):\n",
    "    \n",
    "    def __init__(self, name, acqctl, **kwargs):\n",
    "        kwargs['sweep_params'] = ['buffers', 'records']\n",
    "        \n",
    "        super().__init__(name, acqctl, **kwargs)\n",
    "        \n",
    "        self.add_parameter('avg_buffers', set_cmd=None, initial_value=True)\n",
    "        self.add_parameter('acq_time', \n",
    "                           get_cmd=lambda: self.acqctl.acq_time(), \n",
    "                           set_cmd=lambda x: self.acqctl.acq_time(x))\n",
    "        \n",
    "        if hasattr(self.acqctl, 'demod_frq'):\n",
    "            self.add_parameter('demod_frq', \n",
    "                               get_cmd=lambda: self.acqctl.demod_frq(), \n",
    "                               set_cmd=lambda x: self.acqctl.demod_frq(x))\n",
    "        \n",
    "    def configure_alazar(self, **kwargs):\n",
    "        defaults = dict(\n",
    "            buffer_timeout = 10000,\n",
    "            allocated_buffers = 1,\n",
    "        )\n",
    "        defaults.update(kwargs)\n",
    "        self.acqctl.update_acquisitionkwargs(**defaults)\n",
    "        \n",
    "    def do_acquisition(self):\n",
    "        data = super().do_acquisition()\n",
    "        \n",
    "        if self.avg_buffers():\n",
    "            bidx = self.acqctl.data_dims().index('buffers')\n",
    "            data = data.mean(axis=bidx)\n",
    "            \n",
    "            self._signal_real = np.real(data)\n",
    "            self._signal_imag = np.imag(data)\n",
    "            self._signal_abs = np.abs(data)\n",
    "            \n",
    "        return data"
   ]
  },
  {
   "cell_type": "code",
   "execution_count": null,
   "metadata": {
    "ExecuteTime": {
     "end_time": "2018-07-10T04:55:23.943792Z",
     "start_time": "2018-07-10T04:55:23.937818Z"
    }
   },
   "outputs": [],
   "source": [
    "class HeterodyneSource(Instrument):\n",
    "    \n",
    "    def __init__(self, name, RF, LO, *arg, **kw):\n",
    "        super().__init__(name, *arg, **kw)\n",
    "        \n",
    "        self.RF = RF\n",
    "        self.LO = LO\n",
    "        \n",
    "        self.add_parameter('IF', set_cmd=None, initial_value=8e6)\n",
    "        self.add_parameter('frequency', unit='Hz',\n",
    "                           get_cmd=self.RF.frequency, \n",
    "                           set_cmd=self._set_freq)\n",
    "        \n",
    "        self.frequency(self.frequency())\n",
    "    \n",
    "    def _set_freq(self, frq):\n",
    "        self.RF.frequency(frq)\n",
    "        self.LO.frequency(frq-self.IF())\n",
    "        "
   ]
  },
  {
   "cell_type": "markdown",
   "metadata": {},
   "source": [
    "## Init instruments"
   ]
  },
  {
   "cell_type": "code",
   "execution_count": null,
   "metadata": {
    "ExecuteTime": {
     "end_time": "2018-07-10T04:55:30.173702Z",
     "start_time": "2018-07-10T04:55:25.202100Z"
    }
   },
   "outputs": [],
   "source": [
    "from qcodes.instrument_drivers.QuTech.IVVI import IVVI\n",
    "ivvi = create_inst(IVVI, \"ivvi\", \"ASRL5::INSTR\")\n",
    "\n",
    "from qcodes.instrument_drivers.Keysight.Keysight_34465A import Keysight_34465A\n",
    "key1 = create_inst(Keysight_34465A, \"key1\", \"TCPIP::169.254.4.62::INSTR\", force_new_instance=True)\n",
    "key2 = create_inst(Keysight_34465A, \"key2\", \"TCPIP::169.254.4.61::INSTR\", force_new_instance=True)\n",
    "\n",
    "from qcodes.instrument_drivers.stanford_research.SR860 import SR860\n",
    "lockin1 = create_inst(SR860, \"lockin1\", \"GPIB0::3::INSTR\")\n",
    "\n",
    "for i in range(1,16):\n",
    "    ivvi.parameters['dac{}'.format(i)].set_step(2)\n",
    "    ivvi.parameters['dac{}'.format(i)].set_delay(0.001)\n",
    "\n",
    "ivvi.dac4.set_delay(0.001)\n",
    "ivvi.dac4.set_step(20)\n",
    "\n",
    "from qcodes.instrument_drivers.american_magnetics.AMI430 import AMI430,AMI430_3D\n",
    "ami_x = create_inst(AMI430, \"AMI430_x\", \"169.254.144.4\", port = 7180, has_current_rating=True)\n",
    "ami_y = create_inst(AMI430, \"AMI430_y\", \"169.254.97.253\", port = 7180, has_current_rating=True)\n",
    "ami_z = create_inst(AMI430, \"AMI430_z\", \"169.254.86.244\", port = 7180, has_current_rating=True)\n",
    "\n",
    "ami = create_inst(AMI430_3D, \"AMI430\", ami_x, ami_y, ami_z, 2)\n",
    "\n",
    "\n",
    "### Init instruments\n",
    "from pytopo.rf import alazar_acquisition; reload(alazar_acquisition)\n",
    "from pytopo.rf.alazar_acquisition import RawAcqCtl, AvgBufCtl, AvgDemodCtl, AvgIQCtl, DemodAcqCtl, IQAcqCtl, DemodRelAcqCtl, IQRelAcqCtl\n",
    "\n",
    "inst_list = []\n",
    "\n",
    "from qcodes.instrument_drivers.AlazarTech.ATS9360 import AlazarTech_ATS9360\n",
    "alazar = instools.create_inst(AlazarTech_ATS9360, 'alazar')\n",
    "inst_list.append(alazar)\n",
    "\n",
    "raw_acq = instools.create_inst(RawAcqCtl, 'raw_acq', 'alazar', force_new_instance=True)\n",
    "inst_list.append(raw_acq)\n",
    "\n",
    "avg_acq = instools.create_inst(AvgBufCtl, 'avg_acq', 'alazar', force_new_instance=True)\n",
    "inst_list.append(avg_acq)\n",
    "\n",
    "avgdemod_acq = instools.create_inst(AvgDemodCtl, 'avgdemod_acq', 'alazar', force_new_instance=True)\n",
    "inst_list.append(avgdemod_acq)\n",
    "\n",
    "avgiq_acq = instools.create_inst(AvgIQCtl, 'avgiq_acq', 'alazar', force_new_instance=True)\n",
    "inst_list.append(avgiq_acq)\n",
    "\n",
    "demod_acq = instools.create_inst(DemodAcqCtl, 'demod_acq', 'alazar', force_new_instance=True)\n",
    "inst_list.append(demod_acq)\n",
    "\n",
    "demodrel_acq = instools.create_inst(DemodRelAcqCtl, 'rel_acq', 'alazar', force_new_instance=True)\n",
    "inst_list.append(demodrel_acq)\n",
    "\n",
    "iqrel_acq = instools.create_inst(IQRelAcqCtl, 'iqrel_acq', 'alazar', force_new_instance=True)\n",
    "inst_list.append(iqrel_acq)\n",
    "\n",
    "iq_acq = instools.create_inst(IQAcqCtl, 'iq_acq', 'alazar', force_new_instance=True)\n",
    "inst_list.append(iq_acq)\n",
    "\n",
    "from qcodes.instrument_drivers.tektronix.AWG5014 import Tektronix_AWG5014\n",
    "awg5014 = instools.create_inst(Tektronix_AWG5014, 'awg5014', address=\"TCPIP0::169.254.183.196::inst0::INSTR\")\n",
    "inst_list.append(awg5014)\n",
    "\n",
    "from qcodes.instrument_drivers.rohde_schwarz.SGS100A import RohdeSchwarz_SGS100A\n",
    "LO = instools.create_inst(RohdeSchwarz_SGS100A, 'LO', address=\"TCPIP0::169.254.234.107\")\n",
    "RF = instools.create_inst(RohdeSchwarz_SGS100A, 'RF', address=\"TCPIP0::169.254.2.20\")\n",
    "\n",
    "het_src = instools.create_inst(HeterodyneSource, 'het_src', LO=LO, RF=RF)\n",
    "inst_list.append(het_src)\n",
    "\n",
    "inst_list.append(ivvi)\n",
    "inst_list.append(key1)\n",
    "inst_list.append(key2)\n",
    "inst_list.append(lockin1)\n",
    "inst_list.append(ami)"
   ]
  },
  {
   "cell_type": "code",
   "execution_count": null,
   "metadata": {
    "ExecuteTime": {
     "end_time": "2018-07-10T12:19:49.474881Z",
     "start_time": "2018-07-10T12:19:49.083107Z"
    }
   },
   "outputs": [],
   "source": [
    "alazar.IDN()"
   ]
  },
  {
   "cell_type": "code",
   "execution_count": null,
   "metadata": {
    "ExecuteTime": {
     "end_time": "2018-07-10T04:55:30.179698Z",
     "start_time": "2018-07-10T04:55:30.175701Z"
    }
   },
   "outputs": [],
   "source": [
    "for i in range(1,16):\n",
    "    ivvi.parameters['dac{}'.format(i)].set_step(10)\n",
    "    ivvi.parameters['dac{}'.format(i)].set_delay(0.001)\n",
    "\n",
    "ivvi.dac4.set_delay(0.001)\n",
    "ivvi.dac4.set_step(20)"
   ]
  },
  {
   "cell_type": "code",
   "execution_count": null,
   "metadata": {
    "ExecuteTime": {
     "end_time": "2018-07-10T04:55:30.852522Z",
     "start_time": "2018-07-10T04:55:30.180698Z"
    }
   },
   "outputs": [],
   "source": [
    "from qcodes.instrument_drivers.Minicircuits.RUDAT_13G_90 import RUDAT_13G_90_USB\n",
    "ro_attenuator = instools.create_inst(RUDAT_13G_90_USB, 'ro_attenuator')\n",
    "inst_list.append(ro_attenuator)"
   ]
  },
  {
   "cell_type": "code",
   "execution_count": null,
   "metadata": {
    "ExecuteTime": {
     "end_time": "2018-07-10T04:55:35.368688Z",
     "start_time": "2018-07-10T04:55:30.854516Z"
    }
   },
   "outputs": [],
   "source": [
    "station = qc.Station(*inst_list)"
   ]
  },
  {
   "cell_type": "markdown",
   "metadata": {},
   "source": [
    "### Alazar + AWG"
   ]
  },
  {
   "cell_type": "code",
   "execution_count": null,
   "metadata": {
    "ExecuteTime": {
     "end_time": "2018-07-10T05:48:18.272859Z",
     "start_time": "2018-07-10T05:48:18.258871Z"
    }
   },
   "outputs": [],
   "source": [
    "SAMPLE = 'Cq334'\n",
    "AWG_CHANS = {\n",
    "        1 : ['awg_voltage', 'alz_mrkr', None],\n",
    "#         1 : ['ro', 'alz_mrkr', None],\n",
    "    }\n",
    "\n",
    "RF.frequency(3e8)\n",
    "\n",
    "IF = 8e6\n",
    "\n",
    "het_src.IF(IF)\n",
    "het_src.frequency(het_src.frequency())\n",
    "\n",
    "\n",
    "LO.power(15)\n",
    "RF.power(-10)\n",
    "\n",
    "ro_attenuator.attenuation(30)"
   ]
  },
  {
   "cell_type": "code",
   "execution_count": null,
   "metadata": {
    "ExecuteTime": {
     "end_time": "2018-07-10T05:48:21.637449Z",
     "start_time": "2018-07-10T05:48:21.429516Z"
    }
   },
   "outputs": [],
   "source": [
    "ro_attenuator.attenuation()"
   ]
  },
  {
   "cell_type": "code",
   "execution_count": null,
   "metadata": {
    "ExecuteTime": {
     "end_time": "2018-07-10T05:48:23.991826Z",
     "start_time": "2018-07-10T05:48:23.972837Z"
    }
   },
   "outputs": [],
   "source": [
    "awg_spec_sweep = create_inst(SimpleAWGSpec, 'awg_spec_sweep', awg=awg5014, chan_map=AWG_CHANS, force_new_instance=True)\n",
    "station = add2station(station, awg_spec_sweep)\n",
    "\n",
    "avg_detector = create_inst(AlazarDetector, name='avg_detector', \n",
    "                           acqctl=avg_acq, force_new_instance=True)\n",
    "station = add2station(station, avg_detector)\n",
    "\n",
    "avgdemod_detector = create_inst(AlazarDetector, name='avgdemod_detector', \n",
    "                                acqctl=avgdemod_acq, force_new_instance=True)\n",
    "station = add2station(station, avgdemod_detector)\n",
    "\n",
    "avgiq_detector = create_inst(AlazarDetector, name='avgiq_detector', \n",
    "                             acqctl=avgiq_acq, force_new_instance=True)\n",
    "station = add2station(station, avgiq_detector)\n",
    "\n",
    "iq_detector = create_inst(AlazarDetector, name='iq_detector', acqctl=iq_acq, force_new_instance=True)\n",
    "station = add2station(station, iq_detector)"
   ]
  },
  {
   "cell_type": "code",
   "execution_count": null,
   "metadata": {
    "ExecuteTime": {
     "end_time": "2018-07-10T05:48:24.345157Z",
     "start_time": "2018-07-10T05:48:24.339158Z"
    }
   },
   "outputs": [],
   "source": [
    "awg_ramp = create_inst(AWGGateRamp1D, 'awg_ramp', awg=awg5014, chan_map=AWG_CHANS, force_new_instance=True)\n",
    "station = add2station(station, awg_ramp)"
   ]
  },
  {
   "cell_type": "code",
   "execution_count": null,
   "metadata": {
    "ExecuteTime": {
     "end_time": "2018-07-10T05:48:28.812262Z",
     "start_time": "2018-07-10T05:48:28.675810Z"
    }
   },
   "outputs": [],
   "source": [
    "### Configure ATS settings\n",
    "\n",
    "ats_settings = dict(\n",
    "    clock_source='INTERNAL_CLOCK',\n",
    "    sample_rate=int(2e8),\n",
    "    clock_edge='CLOCK_EDGE_RISING',\n",
    "    decimation=1,\n",
    "    coupling=['DC','DC'],\n",
    "    channel_range=[.4, .4],\n",
    "    impedance=[50, 50],\n",
    "    trigger_operation='TRIG_ENGINE_OP_J',\n",
    "    trigger_engine1='TRIG_ENGINE_J',\n",
    "    trigger_source1='EXTERNAL',\n",
    "    trigger_slope1='TRIG_SLOPE_POSITIVE',\n",
    "    trigger_level1=128+20,\n",
    "    trigger_engine2='TRIG_ENGINE_K',\n",
    "    trigger_source2='DISABLE',\n",
    "    trigger_slope2='TRIG_SLOPE_POSITIVE',\n",
    "    trigger_level2=128+5,\n",
    "    external_trigger_coupling='DC',\n",
    "    external_trigger_range='ETR_2V5',\n",
    "    trigger_delay=0,\n",
    "    timeout_ticks=int(1e7),\n",
    "    aux_io_mode='AUX_IN_AUXILIARY',\n",
    "    aux_io_param='NONE',\n",
    ")\n",
    "\n",
    "station.alazar.config(**ats_settings)\n",
    "\n",
    "\n",
    "### Trigger the acquisition controllers\n",
    "\n",
    "def trigger_func(do_start):\n",
    "#     print('calling trigger func with argument', do_start)\n",
    "    if do_start:\n",
    "#         print('start AWG')\n",
    "        station.awg5014.start()\n",
    "    else:\n",
    "#         print('stop AWG')\n",
    "        station.awg5014.stop()\n",
    "    \n",
    "def dummy_trigger_func(do_start):\n",
    "    pass\n",
    "\n",
    "for ctl in [iq_acq, avgdemod_acq, avgiq_acq]:\n",
    "    ctl.trigger_func = trigger_func\n",
    "    ctl.demod_frq(IF)\n",
    "    \n",
    "for det in [iq_detector, avgdemod_detector, avgiq_detector]:\n",
    "    det.demod_frq(IF)\n",
    "\n",
    "# avgiq_acq.trigger_func = dummy_trigger_func"
   ]
  },
  {
   "cell_type": "code",
   "execution_count": null,
   "metadata": {
    "ExecuteTime": {
     "end_time": "2018-07-10T05:19:44.307207Z",
     "start_time": "2018-07-10T05:19:44.292192Z"
    }
   },
   "outputs": [],
   "source": [
    "ivvi_setup = create_inst(IVVISetup, 'ivvi_setup', ivvi=ivvi, force_new_instance=True)\n",
    "ivvi_setup.voltage_multiplier(10e-3)\n",
    "ivvi_setup.gate_multiplier(1)\n",
    "\n",
    "\n",
    "dev1_line_r = 10e3 + 3.4e3 #1.7e3 from Qfilter, 5e3 for DC-only on PCB, 10e3 for RF on PCB, 3e3 for 8x MUX bias-T\n",
    "# dev1_line_r = 0\n",
    "\n",
    "\n",
    "dev1_rs = dev1_line_r + ivvi_setup.M1b_R_in()\n",
    "\n",
    "dev1_Vac = lockin1.amplitude()*ivvi_setup.iso_in_multiplier()*ivvi_setup.voltage_multiplier()\n",
    "\n",
    "ivvi_setup.add_parameter('i_measurement', parameter_class=ConversionParameter, unit='A',\n",
    "                         src_param=key1.volt, get_conv=lambda x: x / ivvi_setup.M1b_gain())\n",
    "ivvi_setup.add_parameter('ig_measurement', parameter_class=ConversionParameter, unit='A',\n",
    "                         src_param=key2.volt, get_conv=lambda x: x / ivvi_setup.M1b_gain())\n",
    "\n",
    "ivvi_setup.add_parameter('g_measurement', parameter_class=ConversionParameter, unit='2e2/h',\n",
    "                         src_param=lockin1.X, get_conv=lambda x: 12906/(dev1_Vac*ivvi_setup.M1b_gain()/x - dev1_rs))"
   ]
  },
  {
   "cell_type": "code",
   "execution_count": null,
   "metadata": {
    "ExecuteTime": {
     "end_time": "2018-07-10T05:19:44.782938Z",
     "start_time": "2018-07-10T05:19:44.751930Z"
    }
   },
   "outputs": [],
   "source": [
    "ivvi_setup.M1b_gain(1e7)\n",
    "ivvi_setup.M1b_mode('low_noise')\n",
    "\n",
    "key1.NPLC(1)\n",
    "key2.NPLC(1)\n",
    "\n",
    "print('R_in: ', ivvi_setup.M1b_R_in())\n",
    "print('Rs_1: ', dev1_rs)"
   ]
  },
  {
   "cell_type": "markdown",
   "metadata": {},
   "source": [
    "### Test Alazar acquisition"
   ]
  },
  {
   "cell_type": "code",
   "execution_count": null,
   "metadata": {
    "ExecuteTime": {
     "end_time": "2018-07-10T05:27:21.557324Z",
     "start_time": "2018-07-10T05:27:19.810777Z"
    }
   },
   "outputs": [],
   "source": [
    "awg_spec_sweep.sample_rate(1e9)\n",
    "# sequence length (in s). Up to buffers at the edges this is the integration time per AWG sweep.\n",
    "awg_spec_sweep.seq_len(100e-6)\n",
    "# and setup the sequence (will program the awg)\n",
    "awg_spec_sweep.setup()"
   ]
  },
  {
   "cell_type": "code",
   "execution_count": null,
   "metadata": {
    "ExecuteTime": {
     "end_time": "2018-07-10T05:27:21.568321Z",
     "start_time": "2018-07-10T05:27:21.560364Z"
    }
   },
   "outputs": [],
   "source": [
    "### Set up the detector\n",
    "\n",
    "# set the sweeper\n",
    "det = avgdemod_detector\n",
    "det.avg_buffers(False)\n",
    "\n",
    "det.set_sweeper(awg_spec_sweep)\n",
    "# acquisition time\n",
    "det.acq_time(awg_spec_sweep.seq_len() - 1e-6)\n",
    "# det.acq_time(100e-3)\n",
    "# demod frequency\n",
    "det.demod_frq(IF)\n",
    "# HW config, and how data is shaped.\n",
    "det.configure_alazar(\n",
    "    records_per_buffer=1,\n",
    "    buffers_per_acquisition=1,\n",
    ")\n",
    "\n",
    "det.setup()\n",
    "\n",
    "print(det.sweep_dims, det.sweep_shape)"
   ]
  },
  {
   "cell_type": "code",
   "execution_count": null,
   "metadata": {
    "ExecuteTime": {
     "end_time": "2018-07-10T05:27:21.660268Z",
     "start_time": "2018-07-10T05:27:21.571319Z"
    }
   },
   "outputs": [],
   "source": [
    "data = det.acquisition()\n",
    "data.shape, det.sweep_shape"
   ]
  },
  {
   "cell_type": "code",
   "execution_count": null,
   "metadata": {
    "ExecuteTime": {
     "end_time": "2018-07-10T05:27:21.773212Z",
     "start_time": "2018-07-10T05:27:21.666265Z"
    }
   },
   "outputs": [],
   "source": [
    "fig, axes = plt.subplots(2, 1)\n",
    "\n",
    "ax = axes[0]\n",
    "ax.plot(data[0, :, 0].real)\n",
    "ax.plot(data[0, :, 0].imag)\n",
    "\n",
    "ax = axes[1]\n",
    "ax.plot(data[0, :, 1].real)\n",
    "ax.plot(data[0, :, 1].imag)\n",
    "# ax.plot(np.abs(data[0, :, 1]))"
   ]
  },
  {
   "cell_type": "markdown",
   "metadata": {},
   "source": [
    "# Experiments"
   ]
  },
  {
   "cell_type": "markdown",
   "metadata": {},
   "source": [
    "## Setup RF"
   ]
  },
  {
   "cell_type": "code",
   "execution_count": null,
   "metadata": {
    "ExecuteTime": {
     "end_time": "2018-07-10T05:27:26.779266Z",
     "start_time": "2018-07-10T05:27:26.754254Z"
    }
   },
   "outputs": [],
   "source": [
    "# demod frequency\n",
    "IF = 8e6\n",
    "\n",
    "# experiment name\n",
    "exp = select_experiment('readout_spec', SAMPLE)\n",
    "\n",
    "# averaging\n",
    "navgs = 10\n",
    "\n",
    "# Spectroscopy frequencies\n",
    "rf_frqs = np.linspace(435e6, 450e6, 101)[:]\n"
   ]
  },
  {
   "cell_type": "code",
   "execution_count": null,
   "metadata": {
    "ExecuteTime": {
     "end_time": "2018-07-10T05:27:28.962990Z",
     "start_time": "2018-07-10T05:27:27.328925Z"
    }
   },
   "outputs": [],
   "source": [
    "### Set up the Sweeper\n",
    "\n",
    "# AWG sampling rate (in Hz)\n",
    "awg_spec_sweep.sample_rate(1e9)\n",
    "# sequence length (in s). Up to buffers at the edges this is the integration time per AWG sweep.\n",
    "awg_spec_sweep.seq_len(100e-6)\n",
    "# and setup the sequence (will program the awg)\n",
    "awg_spec_sweep.setup()"
   ]
  },
  {
   "cell_type": "code",
   "execution_count": null,
   "metadata": {
    "ExecuteTime": {
     "end_time": "2018-07-10T05:27:28.972081Z",
     "start_time": "2018-07-10T05:27:28.964988Z"
    }
   },
   "outputs": [],
   "source": [
    "### Set up the detector\n",
    "\n",
    "# det = iq_detector\n",
    "# det = iqrel_detector\n",
    "det = avgiq_detector\n",
    "det.avg_buffers(False)\n",
    "\n",
    "# set the sweeper\n",
    "det.set_sweeper(awg_spec_sweep)\n",
    "# acquisition time\n",
    "det.acq_time(awg_spec_sweep.seq_len() - 2e-6)\n",
    "# demod frequency\n",
    "det.demod_frq(IF)\n",
    "# HW config, and how data is shaped.\n",
    "det.configure_alazar(\n",
    "    records_per_buffer=1,\n",
    "    buffers_per_acquisition=navgs,\n",
    ")\n",
    "det.setup()\n",
    "\n",
    "print(det.sweep_dims, det.sweep_shape)"
   ]
  },
  {
   "cell_type": "markdown",
   "metadata": {},
   "source": [
    "## Frequency scans and RF setup"
   ]
  },
  {
   "cell_type": "markdown",
   "metadata": {
    "heading_collapsed": true
   },
   "source": [
    "### Sweep freq - resonator search"
   ]
  },
  {
   "cell_type": "code",
   "execution_count": null,
   "metadata": {
    "hidden": true
   },
   "outputs": [],
   "source": [
    "# after setting up, we can create the measurement object.\n",
    "# Note: we need to tell it ALL parameters and how they are related. \n",
    "# For simple cases, this wrapper does it.\n",
    "\n",
    "\n",
    "meas = MeasurementExt(station, exp=exp, \n",
    "                      hard_sweep_detector=det,\n",
    "                      soft_sweep_params=[\n",
    "                          het_src.frequency,\n",
    "                      ])\n",
    "\n",
    "# the measurement loop\n",
    "meas.write_period = 1\n",
    "with meas.run() as datasaver:\n",
    "    \n",
    "    datasaver.dataset.subscribe(\n",
    "        QcodesDatasetSubscriber(datasaver.dataset), \n",
    "        state=[], min_wait=0, min_count=1)\n",
    "\n",
    "    for f in rf_frqs:\n",
    "        het_src.frequency(f)\n",
    "        time.sleep(0.01)\n",
    "\n",
    "        det.acquisition()\n",
    "        datasaver.add_result(*meas.get_result())"
   ]
  },
  {
   "cell_type": "markdown",
   "metadata": {
    "heading_collapsed": true
   },
   "source": [
    "### Frequency versus gate"
   ]
  },
  {
   "cell_type": "code",
   "execution_count": null,
   "metadata": {
    "hidden": true
   },
   "outputs": [],
   "source": [
    "# after setting up, we can create the measurement object.\n",
    "# Note: we need to tell it ALL parameters and how they are related. \n",
    "# For simple cases, this wrapper does it.\n",
    "\n",
    "\n",
    "meas = MeasurementExt(station, exp=exp, \n",
    "                      hard_sweep_detector=det,\n",
    "                      soft_sweep_params=[\n",
    "                          het_src.frequency,\n",
    "                          ivvi_setup.dac7,\n",
    "                      ])\n",
    "\n",
    "lockin1.amplitude(0.004)\n",
    "ivvi_setup.dac8(-0.47) #t3\n",
    "ivvi_setup.dac10(0) #t2\n",
    "ivvi_setup.dac11(-0.345) #t4\n",
    "ivvi_setup.dac9(0) #t1\n",
    "ivvi_setup.dac4(0e-3)\n",
    "\n",
    "with meas.run() as datasaver:\n",
    "\n",
    "    datasaver.dataset.subscribe(\n",
    "        QcodesDatasetSubscriber(datasaver.dataset), \n",
    "        state=[], min_wait=0, min_count=1,\n",
    "    )\n",
    "\n",
    "    for r1 in np.linspace(-0.7e-3, 0.3e-3, 25):\n",
    "        ivvi_setup.dac7(r1)\n",
    "\n",
    "        for f in rf_frqs:\n",
    "            het_src.frequency(f)\n",
    "            time.sleep(0.01)\n",
    "\n",
    "            det.acquisition()\n",
    "            datasaver.add_result(*meas.get_result())"
   ]
  },
  {
   "cell_type": "markdown",
   "metadata": {},
   "source": [
    "### Frequency versus magnetic field"
   ]
  },
  {
   "cell_type": "code",
   "execution_count": null,
   "metadata": {
    "ExecuteTime": {
     "end_time": "2018-07-06T12:37:59.356351Z",
     "start_time": "2018-07-06T12:03:15.884173Z"
    }
   },
   "outputs": [],
   "source": [
    "ami_x.pause()\n",
    "ami_y.pause()\n",
    "ami_z.pause()\n",
    "ami.spherical([0,0,0])"
   ]
  },
  {
   "cell_type": "code",
   "execution_count": null,
   "metadata": {
    "ExecuteTime": {
     "end_time": "2018-07-06T13:37:04.703850Z",
     "start_time": "2018-07-06T12:53:15.194788Z"
    }
   },
   "outputs": [],
   "source": [
    "# after setting up, we can create the measurement object.\n",
    "# Note: we need to tell it ALL parameters and how they are related. \n",
    "# For simple cases, this wrapper does it.\n",
    "\n",
    "\n",
    "meas = MeasurementExt(station, exp=exp, \n",
    "                      hard_sweep_detector=det,\n",
    "                      soft_sweep_params=[\n",
    "                          het_src.frequency,\n",
    "                          ami.field,\n",
    "                      ])\n",
    "\n",
    "lockin1.amplitude(0.004)\n",
    "\n",
    "\n",
    "\n",
    "with meas.run() as datasaver:\n",
    "\n",
    "    datasaver.dataset.subscribe(\n",
    "        QcodesDatasetSubscriber(datasaver.dataset), \n",
    "        state=[], min_wait=0, min_count=1,\n",
    "    )\n",
    "\n",
    "    for Bfield in np.linspace(0, 1, 21):\n",
    "        ami.field(Bfield)\n",
    "\n",
    "        for f in rf_frqs:\n",
    "            het_src.frequency(f)\n",
    "            time.sleep(0.02)\n",
    "\n",
    "            det.acquisition()\n",
    "            datasaver.add_result(*meas.get_result())"
   ]
  },
  {
   "cell_type": "code",
   "execution_count": null,
   "metadata": {
    "ExecuteTime": {
     "end_time": "2018-07-06T14:11:47.178242Z",
     "start_time": "2018-07-06T13:37:04.705850Z"
    }
   },
   "outputs": [],
   "source": [
    "ami_x.pause()\n",
    "ami_y.pause()\n",
    "ami_z.pause()\n",
    "ami.spherical([0,0,0])"
   ]
  },
  {
   "cell_type": "markdown",
   "metadata": {},
   "source": [
    "### RF gate sweep "
   ]
  },
  {
   "cell_type": "code",
   "execution_count": null,
   "metadata": {
    "ExecuteTime": {
     "end_time": "2018-07-10T05:44:21.008198Z",
     "start_time": "2018-07-10T05:44:07.990750Z"
    }
   },
   "outputs": [],
   "source": [
    "# after setting up, we can create the measurement object.\n",
    "# Note: we need to tell it ALL parameters and how they are related. \n",
    "# For simple cases, this wrapper does it.\n",
    "\n",
    "\n",
    "meas = MeasurementExt(station, exp=exp, \n",
    "                      hard_sweep_detector=det,\n",
    "                      soft_sweep_params=[\n",
    "                          ivvi_setup.dac7,\n",
    "                      ])\n",
    "\n",
    "\n",
    "lockin1.amplitude(0.004)\n",
    "ivvi_setup.dac4(0e-3)\n",
    "\n",
    "ivvi_setup.dac9(0)     #t1\n",
    "ivvi_setup.dac10(0)    #t2\n",
    "ivvi_setup.dac8(-0.46) #t3\n",
    "ivvi_setup.dac11(-0.32) #t4\n",
    "\n",
    "het_src.frequency(443223813.84306061)\n",
    "\n",
    "\n",
    "# the measurement loop\n",
    "meas.write_period = 1\n",
    "with meas.run() as datasaver:\n",
    "    \n",
    "    datasaver.dataset.subscribe(\n",
    "        QcodesDatasetSubscriber(datasaver.dataset), \n",
    "        state=[], min_wait=0, min_count=1,\n",
    "    )\n",
    "    \n",
    "    for r2 in np.linspace(0, 5e-3, 16*5):\n",
    "        ivvi_setup.dac7(r2*1e-2)\n",
    "\n",
    "        det.acquisition()\n",
    "        datasaver.add_result(*meas.get_result())"
   ]
  },
  {
   "cell_type": "markdown",
   "metadata": {},
   "source": [
    "### Tune RO attenuator"
   ]
  },
  {
   "cell_type": "code",
   "execution_count": null,
   "metadata": {
    "ExecuteTime": {
     "end_time": "2018-07-10T05:46:19.086429Z",
     "start_time": "2018-07-10T05:46:16.070684Z"
    }
   },
   "outputs": [],
   "source": [
    "# after setting up, we can create the measurement object.\n",
    "# Note: we need to tell it ALL parameters and how they are related. \n",
    "# For simple cases, this wrapper does it.\n",
    "\n",
    "\n",
    "meas = MeasurementExt(station, exp=exp, \n",
    "                      hard_sweep_detector=det,\n",
    "                      soft_sweep_params=[\n",
    "                          ivvi_setup.dac7,\n",
    "                          ro_attenuator.attenuation,\n",
    "                      ])\n",
    "\n",
    "\n",
    "lockin1.amplitude(0.004)\n",
    "ivvi_setup.dac4(0e-3)\n",
    "\n",
    "ivvi_setup.dac9(0)     #t1\n",
    "ivvi_setup.dac10(0)    #t2\n",
    "ivvi_setup.dac8(-0.46) #t3\n",
    "ivvi_setup.dac11(-0.32) #t4\n",
    "\n",
    "het_src.frequency(443223813.84306061)\n",
    "\n",
    "\n",
    "# the measurement loop\n",
    "meas.write_period = 1\n",
    "with meas.run() as datasaver:\n",
    "    \n",
    "    datasaver.dataset.subscribe(\n",
    "        QcodesDatasetSubscriber(datasaver.dataset), \n",
    "        state=[], min_wait=0, min_count=1,\n",
    "    )\n",
    "    for att in np.linspace(55, 25, 31):\n",
    "        ro_attenuator.attenuation(att)\n",
    "        for r2 in np.linspace(0, 5e-3, 16*5):\n",
    "            ivvi_setup.dac7(r2*1e-2)\n",
    "\n",
    "            det.acquisition()\n",
    "            datasaver.add_result(*meas.get_result())"
   ]
  },
  {
   "cell_type": "markdown",
   "metadata": {},
   "source": [
    "## Hard sweeps"
   ]
  },
  {
   "cell_type": "code",
   "execution_count": null,
   "metadata": {},
   "outputs": [],
   "source": [
    "### Sweeper\n",
    "awg_ramp.sample_rate(1e7)\n",
    "awg_ramp.step_len(400e-6)\n",
    "awg_ramp.start_voltage(0)\n",
    "awg_ramp.stop_voltage(.01)\n",
    "awg_ramp.voltage_points(100)\n",
    "awg_ramp.setup(start_awg=False)\n",
    "\n",
    "print('frequency ' + str(1/(awg_ramp.step_len()*awg_ramp.voltage_points())) + \" Hz\")"
   ]
  },
  {
   "cell_type": "code",
   "execution_count": null,
   "metadata": {},
   "outputs": [],
   "source": [
    "### Set up the detector\n",
    "\n",
    "det1 = avgiq_detector\n",
    "det1.avg_buffers(False)\n",
    "\n",
    "det1.set_sweeper(awg_ramp)\n",
    "# acquisition time\n",
    "det1.acq_time(awg_ramp.step_len() - 1e-6)\n",
    "# demod frequency\n",
    "det1.demod_frq(IF)\n",
    "# HW config, and how data is shaped.\n",
    "det1.configure_alazar(\n",
    "    records_per_buffer=awg_ramp.voltage_points(),\n",
    "    buffers_per_acquisition=100,\n",
    ")\n",
    "\n",
    "det1.setup()\n",
    "\n",
    "print(det1.sweep_dims, det1.sweep_shape)"
   ]
  },
  {
   "cell_type": "markdown",
   "metadata": {},
   "source": [
    "### Diamonds scan"
   ]
  },
  {
   "cell_type": "code",
   "execution_count": null,
   "metadata": {
    "ExecuteTime": {
     "end_time": "2018-07-10T05:55:01.135103Z",
     "start_time": "2018-07-10T05:53:48.886592Z"
    }
   },
   "outputs": [],
   "source": [
    "# after setting up, we can create the measurement object.\n",
    "# Note: we need to tell it ALL parameters and how they are related. \n",
    "# For simple cases, this wrapper does it.\n",
    "\n",
    "\n",
    "meas = MeasurementExt(station, exp=exp, \n",
    "                      hard_sweep_detector=det1,\n",
    "                      soft_sweep_params=[\n",
    "                          ivvi_setup.dac4,\n",
    "                      ])\n",
    "\n",
    "\n",
    "lockin1.amplitude(0.004)\n",
    "ivvi_setup.dac4(0e-3)\n",
    "\n",
    "ivvi_setup.dac9(0)     #t1\n",
    "ivvi_setup.dac10(0)    #t2\n",
    "ivvi_setup.dac8(-0.46) #t3\n",
    "ivvi_setup.dac11(-0.32) #t4\n",
    "\n",
    "het_src.frequency(443223813.84306061)\n",
    "\n",
    "# the measurement loop\n",
    "meas.write_period = 1\n",
    "\n",
    "with meas.run() as datasaver:\n",
    "    \n",
    "    datasaver.dataset.subscribe(\n",
    "        QcodesDatasetSubscriber(datasaver.dataset), \n",
    "        state=[], min_wait=0, min_count=1,\n",
    "    )\n",
    "\n",
    "    for bias in np.linspace(-.5e-3, .5e-3, 51):\n",
    "        ivvi_setup.dac4(bias)\n",
    "\n",
    "        det1.acquisition()\n",
    "        datasaver.add_result(*meas.get_result())"
   ]
  },
  {
   "cell_type": "markdown",
   "metadata": {},
   "source": [
    "### Charge stability diagram"
   ]
  },
  {
   "cell_type": "code",
   "execution_count": null,
   "metadata": {
    "ExecuteTime": {
     "end_time": "2018-07-10T06:09:22.542789Z",
     "start_time": "2018-07-10T06:04:30.710145Z"
    }
   },
   "outputs": [],
   "source": [
    "# after setting up, we can create the measurement object.\n",
    "# Note: we need to tell it ALL parameters and how they are related. \n",
    "# For simple cases, this wrapper does it.\n",
    "\n",
    "\n",
    "meas = MeasurementExt(station, exp=exp, \n",
    "                      hard_sweep_detector=det1,\n",
    "                      soft_sweep_params=[\n",
    "                          ivvi_setup.dac16,\n",
    "                      ])\n",
    "\n",
    "\n",
    "lockin1.amplitude(0.004)\n",
    "ivvi_setup.dac4(0e-3)\n",
    "\n",
    "ivvi_setup.dac9(0)     #t1\n",
    "ivvi_setup.dac10(-0.3) #t2\n",
    "ivvi_setup.dac8(-0.46) #t3\n",
    "ivvi_setup.dac11(-0.5) #t4\n",
    "\n",
    "het_src.frequency(443223813.84306061)\n",
    "\n",
    "# the measurement loop\n",
    "meas.write_period = 1\n",
    "\n",
    "with meas.run() as datasaver:\n",
    "    \n",
    "    datasaver.dataset.subscribe(\n",
    "        QcodesDatasetSubscriber(datasaver.dataset), \n",
    "        state=[], min_wait=0, min_count=1,\n",
    "    )\n",
    "\n",
    "    for pg in np.linspace(0e-3, 1e-3, 51):\n",
    "        ivvi_setup.dac16(pg)\n",
    "\n",
    "        det1.acquisition()\n",
    "        datasaver.add_result(*meas.get_result())"
   ]
  },
  {
   "cell_type": "markdown",
   "metadata": {},
   "source": [
    "## RF diamond scan"
   ]
  },
  {
   "cell_type": "code",
   "execution_count": null,
   "metadata": {
    "ExecuteTime": {
     "end_time": "2018-07-10T05:27:59.299563Z",
     "start_time": "2018-07-10T05:27:38.250177Z"
    }
   },
   "outputs": [],
   "source": [
    "# after setting up, we can create the measurement object.\n",
    "# Note: we need to tell it ALL parameters and how they are related. \n",
    "# For simple cases, this wrapper does it.\n",
    "\n",
    "\n",
    "meas = MeasurementExt(station, exp=exp, \n",
    "                      hard_sweep_detector=det,\n",
    "                      soft_sweep_params=[\n",
    "                          ivvi_setup.dac4,\n",
    "                          ivvi_setup.dac7,\n",
    "                      ])\n",
    "\n",
    "\n",
    "lockin1.amplitude(0.004)\n",
    "ivvi_setup.dac4(0e-3)\n",
    "\n",
    "ivvi_setup.dac9(0)     #t1\n",
    "ivvi_setup.dac10(0)    #t2\n",
    "ivvi_setup.dac8(-0.46) #t3\n",
    "ivvi_setup.dac11(-0.32) #t4\n",
    "\n",
    "het_src.frequency(443223813.84306061)\n",
    "\n",
    "# the measurement loop\n",
    "meas.write_period = 1\n",
    "\n",
    "with meas.run() as datasaver:\n",
    "    \n",
    "    datasaver.dataset.subscribe(\n",
    "        QcodesDatasetSubscriber(datasaver.dataset), \n",
    "        state=[], min_wait=0, min_count=1,\n",
    "    )\n",
    "\n",
    "    for r2 in np.linspace(0, 2e-3, 21):\n",
    "        ivvi_setup.dac7(r2*1e-2)\n",
    "        for bias in np.linspace(-.5e-3, .5e-3, 51):\n",
    "            ivvi_setup.dac4(bias)\n",
    "\n",
    "            det.acquisition()\n",
    "            datasaver.add_result(*meas.get_result())"
   ]
  },
  {
   "cell_type": "code",
   "execution_count": null,
   "metadata": {
    "ExecuteTime": {
     "end_time": "2018-07-10T11:04:46.212455Z",
     "start_time": "2018-07-10T11:04:15.388323Z"
    }
   },
   "outputs": [],
   "source": [
    "# after setting up, we can create the measurement object.\n",
    "# Note: we need to tell it ALL parameters and how they are related. \n",
    "# For simple cases, this wrapper does it.\n",
    "\n",
    "\n",
    "meas = MeasurementExt(station, exp=exp, \n",
    "                      hard_sweep_detector=det,\n",
    "                      soft_sweep_params=[\n",
    "                          ivvi_setup.dac4,\n",
    "                          ivvi_setup.dac8,\n",
    "                      ])\n",
    "\n",
    "\n",
    "lockin1.amplitude(0.004)\n",
    "ivvi_setup.dac4(0e-3)\n",
    "\n",
    "ivvi_setup.dac9(0)     #t1\n",
    "ivvi_setup.dac10(0)    #t2\n",
    "ivvi_setup.dac8(-0.55) #t3\n",
    "ivvi_setup.dac11(-0.25) #t4\n",
    "\n",
    "het_src.frequency(443223813.84306061)\n",
    "\n",
    "# the measurement loop\n",
    "meas.write_period = 1\n",
    "\n",
    "T3 = np.linspace(-.500,-.400,6)\n",
    "T4 = np.linspace(-.350,-.300,6)\n",
    "                    \n",
    "for t4 in T4:\n",
    "    ivvi_setup.dac11(t4)\n",
    "    for t3 in T3:\n",
    "        ivvi_setup.dac8(t3)\n",
    "        with meas.run() as datasaver:\n",
    "\n",
    "            datasaver.dataset.subscribe(\n",
    "                QcodesDatasetSubscriber(datasaver.dataset), \n",
    "                state=[], min_wait=0, min_count=1,\n",
    "            )\n",
    "\n",
    "            for r2 in np.linspace(0, 5e-3, 101):\n",
    "                ivvi_setup.dac8(r2)\n",
    "                for bias in np.linspace(-.5e-3, .5e-3, 101):\n",
    "                    ivvi_setup.dac4(bias)\n",
    "\n",
    "                    det.acquisition()\n",
    "                    datasaver.add_result(*meas.get_result())"
   ]
  },
  {
   "cell_type": "code",
   "execution_count": null,
   "metadata": {
    "ExecuteTime": {
     "end_time": "2018-07-08T11:00:57.077909Z",
     "start_time": "2018-07-08T00:33:49.372493Z"
    }
   },
   "outputs": [],
   "source": [
    "# after setting up, we can create the measurement object.\n",
    "# Note: we need to tell it ALL parameters and how they are related. \n",
    "# For simple cases, this wrapper does it.\n",
    "\n",
    "\n",
    "meas = MeasurementExt(station, exp=exp, \n",
    "                      hard_sweep_detector=det,\n",
    "                      soft_sweep_params=[\n",
    "                          ivvi_setup.dac4,\n",
    "                          ivvi_setup.dac7,\n",
    "                      ])\n",
    "\n",
    "\n",
    "lockin1.amplitude(0.004)\n",
    "ivvi_setup.dac4(0e-3)\n",
    "\n",
    "ivvi_setup.dac9(0)     #t1\n",
    "ivvi_setup.dac10(0)    #t2\n",
    "ivvi_setup.dac8(-0.55) #t3\n",
    "ivvi_setup.dac11(-0.25) #t4\n",
    "\n",
    "het_src.frequency(443223813.84306061)\n",
    "\n",
    "# the measurement loop\n",
    "meas.write_period = 1\n",
    "\n",
    "T3 = [-0.4, -0.45]\n",
    "T4 = np.linspace(-.400,-.300,6)\n",
    "\n",
    "for t4 in T4:\n",
    "    ivvi_setup.dac11(t4)\n",
    "    for t3 in T3:\n",
    "        ivvi_setup.dac8(t3)\n",
    "        with meas.run() as datasaver:\n",
    "\n",
    "            datasaver.dataset.subscribe(\n",
    "                QcodesDatasetSubscriber(datasaver.dataset), \n",
    "                state=[], min_wait=0, min_count=1,\n",
    "            )\n",
    "\n",
    "            for r2 in np.linspace(0, 5e-3, 51):\n",
    "                ivvi_setup.dac7(r2)\n",
    "                for bias in np.linspace(-15e-3, 15e-3, 51):\n",
    "                    ivvi_setup.dac4(bias)\n",
    "\n",
    "                    det.acquisition()\n",
    "                    datasaver.add_result(*meas.get_result())\n",
    "                    \n",
    "for t4 in T4:\n",
    "    ivvi_setup.dac11(t4)\n",
    "    for t3 in T3:\n",
    "        ivvi_setup.dac8(t3)\n",
    "        with meas.run() as datasaver:\n",
    "\n",
    "            datasaver.dataset.subscribe(\n",
    "                QcodesDatasetSubscriber(datasaver.dataset), \n",
    "                state=[], min_wait=0, min_count=1,\n",
    "            )\n",
    "\n",
    "            for r2 in np.linspace(0, 5e-3, 101):\n",
    "                ivvi_setup.dac7(r2)\n",
    "                for bias in np.linspace(-.5e-3, .5e-3, 51):\n",
    "                    ivvi_setup.dac4(bias)\n",
    "\n",
    "                    det.acquisition()\n",
    "                    datasaver.add_result(*meas.get_result())"
   ]
  },
  {
   "cell_type": "markdown",
   "metadata": {},
   "source": [
    "### Map rf diamonds in 2D pinchoff"
   ]
  },
  {
   "cell_type": "code",
   "execution_count": null,
   "metadata": {},
   "outputs": [],
   "source": [
    "# after setting up, we can create the measurement object.\n",
    "# Note: we need to tell it ALL parameters and how they are related. \n",
    "# For simple cases, this wrapper does it.\n",
    "\n",
    "\n",
    "meas = MeasurementExt(station, exp=exp, \n",
    "                      hard_sweep_detector=det,\n",
    "                      soft_sweep_params=[\n",
    "                          ivvi_setup.dac4,\n",
    "                          ivvi_setup.dac7,\n",
    "                      ])\n",
    "\n",
    "\n",
    "lockin1.amplitude(0.004)\n",
    "ivvi_setup.dac4(0e-3)\n",
    "ivvi_setup.dac8(-0.47) #t3\n",
    "ivvi_setup.dac10(0) #t2\n",
    "ivvi_setup.dac11(-0.345) #t4\n",
    "ivvi_setup.dac9(0) #t1\n",
    "het_src.frequency(442.996e6)\n",
    "\n",
    "# the measurement loop\n",
    "meas.write_period = 1\n",
    "\n",
    "with meas.run() as datasaver:\n",
    "\n",
    "    datasaver.dataset.subscribe(\n",
    "        QcodesDatasetSubscriber(datasaver.dataset), \n",
    "        state=[], min_wait=0, min_count=1,\n",
    "    )\n",
    "\n",
    "    for r2 in np.linspace(0, 3e-3, 101):\n",
    "        ivvi_setup.dac7(r2)\n",
    "        for bias in np.linspace(-.5e-3, .5e-3, 101):\n",
    "            ivvi_setup.dac4(bias)\n",
    "\n",
    "            det.acquisition()\n",
    "            datasaver.add_result(*meas.get_result())"
   ]
  },
  {
   "cell_type": "markdown",
   "metadata": {},
   "source": [
    "## RF Charge stability diagram"
   ]
  },
  {
   "cell_type": "code",
   "execution_count": null,
   "metadata": {
    "ExecuteTime": {
     "end_time": "2018-07-06T11:55:48.128296Z",
     "start_time": "2018-07-06T11:51:48.409324Z"
    }
   },
   "outputs": [],
   "source": [
    "# after setting up, we can create the measurement object.\n",
    "# Note: we need to tell it ALL parameters and how they are related. \n",
    "# For simple cases, this wrapper does it.\n",
    "\n",
    "\n",
    "meas = MeasurementExt(station, exp=exp, \n",
    "                      hard_sweep_detector=det,\n",
    "                      soft_sweep_params=[\n",
    "                          ivvi_setup.dac16,\n",
    "                          ivvi_setup.dac7,\n",
    "                      ])\n",
    "\n",
    "\n",
    "lockin1.amplitude(0.004)\n",
    "ivvi_setup.dac4(0e-3)\n",
    "ivvi_setup.dac8(-0.46) #t3\n",
    "ivvi_setup.dac10(-0.3) #t2\n",
    "ivvi_setup.dac11(-0.5) #t4\n",
    "ivvi_setup.dac9(0) #t1\n",
    "het_src.frequency(436588983.83)\n",
    "\n",
    "# the measurement loop\n",
    "meas.write_period = 1\n",
    "\n",
    "\n",
    "with meas.run() as datasaver:\n",
    "    \n",
    "    datasaver.dataset.subscribe(\n",
    "        QcodesDatasetSubscriber(datasaver.dataset), \n",
    "        state=[], min_wait=0, min_count=1,\n",
    "    )\n",
    "\n",
    "    for r2 in np.linspace(-1e-3, 1e-3, 25):\n",
    "        ivvi_setup.dac7(r2)\n",
    "        for pg in np.linspace(0e-3, 1e-3, 51):\n",
    "            ivvi_setup.dac16(pg)\n",
    "\n",
    "            det.acquisition()\n",
    "            datasaver.add_result(*meas.get_result())"
   ]
  },
  {
   "cell_type": "markdown",
   "metadata": {},
   "source": [
    "### RF CSD vs field"
   ]
  },
  {
   "cell_type": "code",
   "execution_count": null,
   "metadata": {
    "ExecuteTime": {
     "end_time": "2018-07-05T14:51:05.960002Z",
     "start_time": "2018-07-05T14:50:54.088828Z"
    }
   },
   "outputs": [],
   "source": [
    "ami_x.pause()\n",
    "ami_y.pause()\n",
    "ami_z.pause()\n",
    "ami.spherical([0,-2,90])"
   ]
  },
  {
   "cell_type": "code",
   "execution_count": null,
   "metadata": {
    "ExecuteTime": {
     "end_time": "2018-07-06T02:54:55.268084Z",
     "start_time": "2018-07-05T14:51:41.029359Z"
    }
   },
   "outputs": [],
   "source": [
    "# after setting up, we can create the measurement object.\n",
    "# Note: we need to tell it ALL parameters and how they are related. \n",
    "# For simple cases, this wrapper does it.\n",
    "\n",
    "\n",
    "meas = MeasurementExt(station, exp=exp, \n",
    "                      hard_sweep_detector=det,\n",
    "                      soft_sweep_params=[\n",
    "                          ivvi_setup.dac16,\n",
    "                          ivvi_setup.dac7,\n",
    "                      ])\n",
    "\n",
    "\n",
    "lockin1.amplitude(0.004)\n",
    "ivvi_setup.dac4(0e-3)\n",
    "ivvi_setup.dac8(-0.46) #t3\n",
    "ivvi_setup.dac10(-0.31) #t2\n",
    "ivvi_setup.dac11(-0.41) #t4\n",
    "ivvi_setup.dac9(0) #t1\n",
    "het_src.frequency(442.996e6)\n",
    "\n",
    "# the measurement loop\n",
    "meas.write_period = 1\n",
    "\n",
    "fields = np.linspace(0,1,11)\n",
    "\n",
    "for field in fields:\n",
    "    ami.field(field)\n",
    "    \n",
    "    with meas.run() as datasaver:\n",
    "\n",
    "        datasaver.dataset.subscribe(\n",
    "            QcodesDatasetSubscriber(datasaver.dataset), \n",
    "            state=[], min_wait=0, min_count=1,\n",
    "        )\n",
    "\n",
    "        for r2 in np.linspace(-1e-3, 1e-3, 101):\n",
    "            ivvi_setup.dac7(r2)\n",
    "            for pg in np.linspace(0e-3, 1e-3, 101):\n",
    "                ivvi_setup.dac16(pg)\n",
    "\n",
    "                det.acquisition()\n",
    "                datasaver.add_result(*meas.get_result())"
   ]
  },
  {
   "cell_type": "code",
   "execution_count": null,
   "metadata": {
    "ExecuteTime": {
     "end_time": "2018-07-06T07:43:26.266375Z",
     "start_time": "2018-07-06T07:18:17.352198Z"
    }
   },
   "outputs": [],
   "source": [
    "ami_x.pause()\n",
    "ami_y.pause()\n",
    "ami_z.pause()\n",
    "ami.spherical([0,0,0])"
   ]
  },
  {
   "cell_type": "code",
   "execution_count": null,
   "metadata": {
    "ExecuteTime": {
     "end_time": "2018-07-06T07:18:11.623862Z",
     "start_time": "2018-07-06T03:29:38.730337Z"
    }
   },
   "outputs": [],
   "source": [
    "# after setting up, we can create the measurement object.\n",
    "# Note: we need to tell it ALL parameters and how they are related. \n",
    "# For simple cases, this wrapper does it.\n",
    "\n",
    "\n",
    "meas = MeasurementExt(station, exp=exp, \n",
    "                      hard_sweep_detector=det,\n",
    "                      soft_sweep_params=[\n",
    "                          ivvi_setup.dac16,\n",
    "                          ivvi_setup.dac7,\n",
    "                      ])\n",
    "\n",
    "\n",
    "lockin1.amplitude(0.004)\n",
    "ivvi_setup.dac4(0e-3)\n",
    "ivvi_setup.dac8(-0.46) #t3\n",
    "ivvi_setup.dac10(-0.31) #t2\n",
    "ivvi_setup.dac11(-0.41) #t4\n",
    "ivvi_setup.dac9(0) #t1\n",
    "het_src.frequency(442.996e6)\n",
    "\n",
    "# the measurement loop\n",
    "meas.write_period = 1\n",
    "\n",
    "fields = np.linspace(0,1,5)\n",
    "\n",
    "for field in fields:\n",
    "    ami.field(field)\n",
    "    \n",
    "    with meas.run() as datasaver:\n",
    "\n",
    "        datasaver.dataset.subscribe(\n",
    "            QcodesDatasetSubscriber(datasaver.dataset), \n",
    "            state=[], min_wait=0, min_count=1,\n",
    "        )\n",
    "\n",
    "        for r2 in np.linspace(-1e-3, 1e-3, 101):\n",
    "            ivvi_setup.dac7(r2)\n",
    "            for pg in np.linspace(0e-3, 1e-3, 101):\n",
    "                ivvi_setup.dac16(pg)\n",
    "\n",
    "                det.acquisition()\n",
    "                datasaver.add_result(*meas.get_result())"
   ]
  },
  {
   "cell_type": "markdown",
   "metadata": {},
   "source": [
    "## DC diamond scans"
   ]
  },
  {
   "cell_type": "markdown",
   "metadata": {},
   "source": [
    "### DC Diamonds SC"
   ]
  },
  {
   "cell_type": "code",
   "execution_count": null,
   "metadata": {},
   "outputs": [],
   "source": [
    "exp = select_experiment('R2', 'Cq334M')\n",
    "\n",
    "meas = Measurement(exp=exp)\n",
    "meas.write_period = 1\n",
    "meas.register_parameter(ivvi_setup.dac5)\n",
    "meas.register_parameter(ivvi_setup.dac4)\n",
    "meas.register_parameter(ivvi_setup.i_measurement, setpoints=[ivvi_setup.dac5, ivvi_setup.dac4])\n",
    "meas.register_parameter(ivvi_setup.ig_measurement, setpoints=[ivvi_setup.dac5, ivvi_setup.dac4])\n",
    "meas.register_parameter(ivvi_setup.g_measurement, setpoints=[ivvi_setup.dac5, ivvi_setup.dac4])\n",
    "\n",
    "lockin1.amplitude(0.05)\n",
    "ivvi_setup.dac8(-0.47) #t3\n",
    "ivvi_setup.dac10(-0.32) #t2\n",
    "\n",
    "pg = np.linspace(-1e-3, 1e-3, 51)\n",
    "bias_values = np.linspace(-.5e-3, .5e-3, 101)\n",
    "with meas.run() as datasaver:\n",
    "    datasaver.dataset.subscribe(QcodesDatasetSubscriber(datasaver.dataset), state=[], \n",
    "                                min_wait=0, min_count=1)\n",
    "    \n",
    "    for s1 in pg:\n",
    "        ivvi_setup.dac5(s1)\n",
    "        for s2 in bias_values:\n",
    "            ivvi_setup.dac4(s2)\n",
    "            datasaver.add_result((ivvi_setup.dac5, s1),\n",
    "                                 (ivvi_setup.dac4, s2), \n",
    "                                 (ivvi_setup.i_measurement, ivvi_setup.i_measurement()),\n",
    "                                 (ivvi_setup.ig_measurement, ivvi_setup.ig_measurement()),\n",
    "                                 (ivvi_setup.g_measurement, ivvi_setup.g_measurement()))"
   ]
  },
  {
   "cell_type": "markdown",
   "metadata": {},
   "source": [
    "### DC Diamonds dot 1"
   ]
  },
  {
   "cell_type": "code",
   "execution_count": null,
   "metadata": {},
   "outputs": [],
   "source": [
    "exp = select_experiment('R2', 'Cq334M')\n",
    "\n",
    "meas = Measurement(exp=exp)\n",
    "meas.write_period = 1\n",
    "meas.register_parameter(ivvi_setup.dac7)\n",
    "meas.register_parameter(ivvi_setup.dac4)\n",
    "meas.register_parameter(ivvi_setup.i_measurement, setpoints=[ivvi_setup.dac7, ivvi_setup.dac4])\n",
    "meas.register_parameter(ivvi_setup.ig_measurement, setpoints=[ivvi_setup.dac7, ivvi_setup.dac4])\n",
    "meas.register_parameter(ivvi_setup.g_measurement, setpoints=[ivvi_setup.dac7, ivvi_setup.dac4])\n",
    "\n",
    "\n",
    "lockin1.amplitude(0.05)\n",
    "ivvi_setup.dac8(0) #t3\n",
    "ivvi_setup.dac10(-0.32) #t2\n",
    "ivvi_setup.dac9(-0.32) #t1\n",
    "ivvi_setup.dac4(1e-3)\n",
    "\n",
    "pg = np.linspace(0, 1e-3, 25)\n",
    "bias_values = np.linspace(-.5e-3, .5e-3, 101)\n",
    "with meas.run() as datasaver:\n",
    "    datasaver.dataset.subscribe(QcodesDatasetSubscriber(datasaver.dataset), state=[], \n",
    "                                min_wait=0, min_count=1)\n",
    "    \n",
    "    for s1 in pg:\n",
    "        ivvi_setup.dac7(s1)\n",
    "        for s2 in bias_values:\n",
    "            ivvi_setup.dac4(s2)\n",
    "            datasaver.add_result((ivvi_setup.dac7, s1),\n",
    "                                 (ivvi_setup.dac4, s2), \n",
    "                                 (ivvi_setup.i_measurement, ivvi_setup.i_measurement()),\n",
    "                                 (ivvi_setup.ig_measurement, ivvi_setup.ig_measurement()),\n",
    "                                 (ivvi_setup.g_measurement, ivvi_setup.g_measurement()))"
   ]
  },
  {
   "cell_type": "markdown",
   "metadata": {},
   "source": [
    "### DC Diamonds dot 2"
   ]
  },
  {
   "cell_type": "code",
   "execution_count": null,
   "metadata": {},
   "outputs": [],
   "source": [
    "exp = select_experiment('R2', 'Cq334M')\n",
    "\n",
    "meas = Measurement(exp=exp)\n",
    "meas.write_period = 1\n",
    "meas.register_parameter(ivvi_setup.dac14)\n",
    "meas.register_parameter(ivvi_setup.dac4)\n",
    "meas.register_parameter(ivvi_setup.i_measurement, setpoints=[ivvi_setup.dac14, ivvi_setup.dac4])\n",
    "meas.register_parameter(ivvi_setup.ig_measurement, setpoints=[ivvi_setup.dac14, ivvi_setup.dac4])\n",
    "meas.register_parameter(ivvi_setup.g_measurement, setpoints=[ivvi_setup.dac14, ivvi_setup.dac4])\n",
    "\n",
    "\n",
    "lockin1.amplitude(0.05)\n",
    "lockin1.frequency(21.2)\n",
    "ivvi_setup.dac8(0) #t3\n",
    "ivvi_setup.dac10(-0.33) #t2\n",
    "ivvi_setup.dac11(-0.35) #t4\n",
    "ivvi_setup.dac9(0) #t1\n",
    "ivvi_setup.dac4(1e-3)\n",
    "\n",
    "pg = np.linspace(0, 1e-3, 16)\n",
    "bias_values = np.linspace(-.5e-3, .5e-3, 101)\n",
    "with meas.run() as datasaver:\n",
    "    datasaver.dataset.subscribe(QcodesDatasetSubscriber(datasaver.dataset), state=[], \n",
    "                                min_wait=0, min_count=1)\n",
    "    \n",
    "    for s1 in pg:\n",
    "        ivvi_setup.dac14(s1)\n",
    "        for s2 in bias_values:\n",
    "            ivvi_setup.dac4(s2)\n",
    "            datasaver.add_result((ivvi_setup.dac14, s1),\n",
    "                                 (ivvi_setup.dac4, s2), \n",
    "                                 (ivvi_setup.i_measurement, ivvi_setup.i_measurement()),\n",
    "                                 (ivvi_setup.ig_measurement, ivvi_setup.ig_measurement()),\n",
    "                                 (ivvi_setup.g_measurement, ivvi_setup.g_measurement()))"
   ]
  },
  {
   "cell_type": "markdown",
   "metadata": {},
   "source": [
    "## DC Charge stability diagram"
   ]
  },
  {
   "cell_type": "code",
   "execution_count": null,
   "metadata": {
    "ExecuteTime": {
     "end_time": "2018-07-10T06:25:05.126945Z",
     "start_time": "2018-07-10T06:19:27.153573Z"
    }
   },
   "outputs": [],
   "source": [
    "# after setting up, we can create the measurement object.\n",
    "# Note: we need to tell it ALL parameters and how they are related. \n",
    "# For simple cases, this wrapper does it.\n",
    "\n",
    "\n",
    "meas = Measurement(exp=exp)\n",
    "meas.write_period = 1\n",
    "meas.register_parameter(ivvi_setup.dac7)\n",
    "meas.register_parameter(ivvi_setup.dac16)\n",
    "meas.register_parameter(ivvi_setup.i_measurement, setpoints=[ivvi_setup.dac7, ivvi_setup.dac16])\n",
    "meas.register_parameter(ivvi_setup.ig_measurement, setpoints=[ivvi_setup.dac7, ivvi_setup.dac16])\n",
    "meas.register_parameter(ivvi_setup.g_measurement, setpoints=[ivvi_setup.dac7, ivvi_setup.dac16])\n",
    "\n",
    "\n",
    "lockin1.amplitude(0.1)\n",
    "lockin1.frequency(21.2)\n",
    "ivvi_setup.dac4(0e-3)\n",
    "\n",
    "ivvi_setup.dac9(0)     #t1\n",
    "ivvi_setup.dac10(-0.3) #t2\n",
    "ivvi_setup.dac8(-0.46) #t3\n",
    "ivvi_setup.dac11(-0.5) #t4\n",
    "\n",
    "# the measurement loop\n",
    "meas.write_period = 1\n",
    "\n",
    "\n",
    "with meas.run() as datasaver:\n",
    "    \n",
    "    datasaver.dataset.subscribe(\n",
    "        QcodesDatasetSubscriber(datasaver.dataset), \n",
    "        state=[], min_wait=0, min_count=1,\n",
    "    )\n",
    "\n",
    "    for r2 in np.linspace(0e-3, 1e-3, 16):\n",
    "        ivvi_setup.dac7(r2*1e-2)\n",
    "        for pg in np.linspace(0e-3, 1e-3, 51):\n",
    "            ivvi_setup.dac16(pg)\n",
    "            datasaver.add_result((ivvi_setup.dac7, r2),\n",
    "                                 (ivvi_setup.dac16, pg), \n",
    "                                 (ivvi_setup.i_measurement, ivvi_setup.i_measurement()),\n",
    "                                 (ivvi_setup.ig_measurement, ivvi_setup.ig_measurement()),\n",
    "                                 (ivvi_setup.g_measurement, ivvi_setup.g_measurement()))"
   ]
  },
  {
   "cell_type": "markdown",
   "metadata": {},
   "source": [
    "## DC field sweeps"
   ]
  },
  {
   "cell_type": "code",
   "execution_count": null,
   "metadata": {
    "ExecuteTime": {
     "end_time": "2018-07-10T08:06:36.198396Z",
     "start_time": "2018-07-10T08:06:35.785345Z"
    }
   },
   "outputs": [],
   "source": [
    "ivvi.set_dacs_zero()"
   ]
  },
  {
   "cell_type": "markdown",
   "metadata": {},
   "source": [
    "### Gap measurement versus punger G"
   ]
  },
  {
   "cell_type": "code",
   "execution_count": null,
   "metadata": {
    "ExecuteTime": {
     "end_time": "2018-07-09T09:17:45.569675Z",
     "start_time": "2018-07-09T09:17:32.114940Z"
    }
   },
   "outputs": [],
   "source": [
    "exp = select_experiment('Cq334L', 'Gap measurement')\n",
    "\n",
    "meas = Measurement(exp=exp)\n",
    "meas.write_period = 1\n",
    "meas.register_parameter(ivvi_setup.dac15)\n",
    "meas.register_parameter(ivvi_setup.dac4)\n",
    "meas.register_parameter(ivvi_setup.i_measurement, setpoints=[ivvi_setup.dac15, ivvi_setup.dac4])\n",
    "meas.register_parameter(ivvi_setup.ig_measurement, setpoints=[ivvi_setup.dac15, ivvi_setup.dac4])\n",
    "meas.register_parameter(ivvi_setup.g_measurement, setpoints=[ivvi_setup.dac15, ivvi_setup.dac4])\n",
    "\n",
    "\n",
    "lockin1.amplitude(0.05)\n",
    "lockin1.frequency(21.2)\n",
    "\n",
    "ivvi_setup.dac9(0)      #t1\n",
    "ivvi_setup.dac10(0) #t2\n",
    "ivvi_setup.dac8(-0.46)      #t3\n",
    "ivvi_setup.dac11(0)     #t4\n",
    "ivvi_setup.dac15(0)\n",
    "ivvi_setup.dac4(1e-3)\n",
    "\n",
    "gate_values = np.linspace(-0.045, -0.05, 51)\n",
    "bias_values = np.linspace(-0.3e-3, 0.3e-3, 101)\n",
    "with meas.run() as datasaver:\n",
    "    datasaver.dataset.subscribe(QcodesDatasetSubscriber(datasaver.dataset), state=[], \n",
    "                                min_wait=0, min_count=1)\n",
    "    \n",
    "    for s1 in gate_values:\n",
    "        ivvi_setup.dac15(s1)\n",
    "        for s2 in bias_values:\n",
    "            ivvi_setup.dac4(s2)\n",
    "            datasaver.add_result((ivvi_setup.dac15, s1),\n",
    "                                 (ivvi_setup.dac4, s2), \n",
    "                                 (ivvi_setup.i_measurement, ivvi_setup.i_measurement()),\n",
    "                                 (ivvi_setup.ig_measurement, ivvi_setup.ig_measurement()),\n",
    "                                 (ivvi_setup.g_measurement, ivvi_setup.g_measurement()))"
   ]
  },
  {
   "cell_type": "markdown",
   "metadata": {
    "heading_collapsed": true
   },
   "source": [
    "### Gap measurement versus tunnel gate"
   ]
  },
  {
   "cell_type": "markdown",
   "metadata": {
    "heading_collapsed": true,
    "hidden": true
   },
   "source": [
    "#### T3"
   ]
  },
  {
   "cell_type": "code",
   "execution_count": null,
   "metadata": {
    "ExecuteTime": {
     "end_time": "2018-07-04T13:41:16.368882Z",
     "start_time": "2018-07-04T13:37:39.515259Z"
    },
    "hidden": true
   },
   "outputs": [],
   "source": [
    "exp = select_experiment('Cq334L', 'Gap measurement')\n",
    "\n",
    "meas = Measurement(exp=exp)\n",
    "meas.write_period = 1\n",
    "meas.register_parameter(ivvi_setup.dac8)\n",
    "meas.register_parameter(ivvi_setup.dac4)\n",
    "meas.register_parameter(ivvi_setup.i_measurement, setpoints=[ivvi_setup.dac8, ivvi_setup.dac4])\n",
    "meas.register_parameter(ivvi_setup.ig_measurement, setpoints=[ivvi_setup.dac8, ivvi_setup.dac4])\n",
    "meas.register_parameter(ivvi_setup.g_measurement, setpoints=[ivvi_setup.dac8, ivvi_setup.dac4])\n",
    "\n",
    "\n",
    "lockin1.amplitude(0.05)\n",
    "lockin1.frequency(21.2)\n",
    "\n",
    "ivvi_setup.dac9(0.4)      #t1\n",
    "ivvi_setup.dac10(0.2) #t2\n",
    "ivvi_setup.dac8(-0.46)      #t3\n",
    "ivvi_setup.dac11(0.2)     #t4\n",
    "ivvi_setup.dac15(-0.75)\n",
    "ivvi_setup.dac4(1e-3)\n",
    "\n",
    "gate_values = np.linspace(-0.44, -0.46, 10)\n",
    "bias_values = np.linspace(-0.6e-3, 0.6e-3, 101)\n",
    "with meas.run() as datasaver:\n",
    "    datasaver.dataset.subscribe(QcodesDatasetSubscriber(datasaver.dataset), state=[], \n",
    "                                min_wait=0, min_count=1)\n",
    "    \n",
    "    for s1 in gate_values:\n",
    "        ivvi_setup.dac8(s1)\n",
    "        for s2 in bias_values:\n",
    "            ivvi_setup.dac4(s2)\n",
    "            datasaver.add_result((ivvi_setup.dac8, s1),\n",
    "                                 (ivvi_setup.dac4, s2), \n",
    "                                 (ivvi_setup.i_measurement, ivvi_setup.i_measurement()),\n",
    "                                 (ivvi_setup.ig_measurement, ivvi_setup.ig_measurement()),\n",
    "                                 (ivvi_setup.g_measurement, ivvi_setup.g_measurement()))"
   ]
  },
  {
   "cell_type": "markdown",
   "metadata": {
    "heading_collapsed": true,
    "hidden": true
   },
   "source": [
    "#### T2"
   ]
  },
  {
   "cell_type": "code",
   "execution_count": null,
   "metadata": {
    "ExecuteTime": {
     "end_time": "2018-07-04T13:54:43.204772Z",
     "start_time": "2018-07-04T13:50:43.822137Z"
    },
    "hidden": true
   },
   "outputs": [],
   "source": [
    "exp = select_experiment('Cq334L', 'Gap measurement')\n",
    "\n",
    "meas = Measurement(exp=exp)\n",
    "meas.write_period = 1\n",
    "meas.register_parameter(ivvi_setup.dac10)\n",
    "meas.register_parameter(ivvi_setup.dac4)\n",
    "meas.register_parameter(ivvi_setup.i_measurement, setpoints=[ivvi_setup.dac10, ivvi_setup.dac4])\n",
    "meas.register_parameter(ivvi_setup.ig_measurement, setpoints=[ivvi_setup.dac10, ivvi_setup.dac4])\n",
    "meas.register_parameter(ivvi_setup.g_measurement, setpoints=[ivvi_setup.dac10, ivvi_setup.dac4])\n",
    "\n",
    "\n",
    "lockin1.amplitude(0.05)\n",
    "lockin1.frequency(21.2)\n",
    "\n",
    "ivvi_setup.dac9(0.4)      #t1\n",
    "ivvi_setup.dac10(0.2) #t2\n",
    "ivvi_setup.dac8(-0.46)      #t3\n",
    "ivvi_setup.dac11(0.2)     #t4\n",
    "ivvi_setup.dac15(-0.75)\n",
    "ivvi_setup.dac4(1e-3)\n",
    "\n",
    "gate_values = np.linspace(0.4, 0.6, 10)\n",
    "bias_values = np.linspace(-0.6e-3, 0.6e-3, 101)\n",
    "with meas.run() as datasaver:\n",
    "    datasaver.dataset.subscribe(QcodesDatasetSubscriber(datasaver.dataset), state=[], \n",
    "                                min_wait=0, min_count=1)\n",
    "    \n",
    "    for s1 in gate_values:\n",
    "        ivvi_setup.dac10(s1)\n",
    "        for s2 in bias_values:\n",
    "            ivvi_setup.dac4(s2)\n",
    "            datasaver.add_result((ivvi_setup.dac10, s1),\n",
    "                                 (ivvi_setup.dac4, s2), \n",
    "                                 (ivvi_setup.i_measurement, ivvi_setup.i_measurement()),\n",
    "                                 (ivvi_setup.ig_measurement, ivvi_setup.ig_measurement()),\n",
    "                                 (ivvi_setup.g_measurement, ivvi_setup.g_measurement()))"
   ]
  },
  {
   "cell_type": "markdown",
   "metadata": {
    "heading_collapsed": true,
    "hidden": true
   },
   "source": [
    "#### T4"
   ]
  },
  {
   "cell_type": "code",
   "execution_count": null,
   "metadata": {
    "ExecuteTime": {
     "end_time": "2018-07-05T07:33:20.693807Z",
     "start_time": "2018-07-05T07:29:19.536217Z"
    },
    "hidden": true
   },
   "outputs": [],
   "source": [
    "exp = select_experiment('Cq334L', 'Gap measurement')\n",
    "\n",
    "meas = Measurement(exp=exp)\n",
    "meas.write_period = 1\n",
    "meas.register_parameter(ivvi_setup.dac11)\n",
    "meas.register_parameter(ivvi_setup.dac4)\n",
    "meas.register_parameter(ivvi_setup.i_measurement, setpoints=[ivvi_setup.dac11, ivvi_setup.dac4])\n",
    "meas.register_parameter(ivvi_setup.ig_measurement, setpoints=[ivvi_setup.dac11, ivvi_setup.dac4])\n",
    "meas.register_parameter(ivvi_setup.g_measurement, setpoints=[ivvi_setup.dac11, ivvi_setup.dac4])\n",
    "\n",
    "\n",
    "lockin1.amplitude(0.05)\n",
    "lockin1.frequency(21.2)\n",
    "\n",
    "ivvi_setup.dac9(0.4)      #t1\n",
    "ivvi_setup.dac10(0.6) #t2\n",
    "ivvi_setup.dac8(-0.46)      #t3\n",
    "ivvi_setup.dac11(0.2)     #t4\n",
    "ivvi_setup.dac15(-0.75)\n",
    "ivvi_setup.dac4(1e-3)\n",
    "\n",
    "gate_values = np.linspace(0.2, 0.6, 10)\n",
    "bias_values = np.linspace(-0.6e-3, 0.6e-3, 101)\n",
    "with meas.run() as datasaver:\n",
    "    datasaver.dataset.subscribe(QcodesDatasetSubscriber(datasaver.dataset), state=[], \n",
    "                                min_wait=0, min_count=1)\n",
    "    \n",
    "    for s1 in gate_values:\n",
    "        ivvi_setup.dac11(s1)\n",
    "        for s2 in bias_values:\n",
    "            ivvi_setup.dac4(s2)\n",
    "            datasaver.add_result((ivvi_setup.dac11, s1),\n",
    "                                 (ivvi_setup.dac4, s2), \n",
    "                                 (ivvi_setup.i_measurement, ivvi_setup.i_measurement()),\n",
    "                                 (ivvi_setup.ig_measurement, ivvi_setup.ig_measurement()),\n",
    "                                 (ivvi_setup.g_measurement, ivvi_setup.g_measurement()))"
   ]
  },
  {
   "cell_type": "markdown",
   "metadata": {
    "heading_collapsed": true
   },
   "source": [
    "### DC theta versus bias"
   ]
  },
  {
   "cell_type": "code",
   "execution_count": null,
   "metadata": {
    "ExecuteTime": {
     "end_time": "2018-07-04T16:31:57.411709Z",
     "start_time": "2018-07-04T16:11:55.898589Z"
    },
    "hidden": true
   },
   "outputs": [],
   "source": [
    "ami_x.pause()\n",
    "ami_y.pause()\n",
    "ami_z.pause()\n",
    "ami.spherical([0.9,20,90])"
   ]
  },
  {
   "cell_type": "code",
   "execution_count": null,
   "metadata": {
    "ExecuteTime": {
     "end_time": "2018-07-04T17:20:12.102924Z",
     "start_time": "2018-07-04T16:31:57.414708Z"
    },
    "hidden": true
   },
   "outputs": [],
   "source": [
    "exp = select_experiment('Cq334L', 'Field align')\n",
    "\n",
    "meas = Measurement(exp=exp)\n",
    "meas.write_period = 1\n",
    "meas.register_parameter(ivvi_setup.dac4)\n",
    "meas.register_parameter(ami.theta)\n",
    "meas.register_parameter(ivvi_setup.i_measurement, setpoints=[ami.theta, ivvi_setup.dac4])\n",
    "meas.register_parameter(ivvi_setup.ig_measurement, setpoints=[ami.theta, ivvi_setup.dac4])\n",
    "meas.register_parameter(ivvi_setup.g_measurement, setpoints=[ami.theta, ivvi_setup.dac4])\n",
    "\n",
    "lockin1.amplitude(0.05)\n",
    "lockin1.frequency(21.2)\n",
    "\n",
    "ivvi_setup.dac9(0.4)      #t1\n",
    "ivvi_setup.dac10(0.6) #t2\n",
    "ivvi_setup.dac8(-0.46)      #t3\n",
    "ivvi_setup.dac11(0.2)     #t4\n",
    "ivvi_setup.dac15(-0.75)\n",
    "ivvi_setup.dac4(1e-3)\n",
    "\n",
    "theta_vals = np.linspace(20, -20, 40)\n",
    "bias_values = np.linspace(-.4e-3, .4e-3, 101)\n",
    "with meas.run() as datasaver:\n",
    "    datasaver.dataset.subscribe(QcodesDatasetSubscriber(datasaver.dataset), state=[], \n",
    "                                min_wait=0, min_count=1)\n",
    "    \n",
    "    for s1 in theta_vals:\n",
    "        ami.theta(s1)\n",
    "        for s2 in bias_values:\n",
    "            ivvi_setup.dac4(s2)\n",
    "            datasaver.add_result((ami.theta, s1),\n",
    "                                 (ivvi_setup.dac4, s2), \n",
    "                                 (ivvi_setup.i_measurement, ivvi_setup.i_measurement()),\n",
    "                                 (ivvi_setup.ig_measurement, ivvi_setup.ig_measurement()),\n",
    "                                 (ivvi_setup.g_measurement, ivvi_setup.g_measurement()))"
   ]
  },
  {
   "cell_type": "markdown",
   "metadata": {
    "heading_collapsed": true
   },
   "source": [
    "### DC field magnitude versus bias"
   ]
  },
  {
   "cell_type": "code",
   "execution_count": null,
   "metadata": {
    "ExecuteTime": {
     "end_time": "2018-07-04T18:18:28.879912Z",
     "start_time": "2018-07-04T17:39:47.106714Z"
    },
    "hidden": true
   },
   "outputs": [],
   "source": [
    "ami_x.pause()\n",
    "ami_y.pause()\n",
    "ami_z.pause()\n",
    "ami.spherical([0,-2,90])"
   ]
  },
  {
   "cell_type": "code",
   "execution_count": null,
   "metadata": {
    "ExecuteTime": {
     "end_time": "2018-07-04T22:47:20.847152Z",
     "start_time": "2018-07-04T20:38:10.413484Z"
    },
    "hidden": true
   },
   "outputs": [],
   "source": [
    "exp = select_experiment('Cq334L', 'Field align')\n",
    "\n",
    "meas = Measurement(exp=exp)\n",
    "meas.write_period = 1\n",
    "meas.register_parameter(ami.field)\n",
    "meas.register_parameter(ivvi_setup.dac4)\n",
    "meas.register_parameter(ivvi_setup.i_measurement, setpoints=[ami.field, ivvi_setup.dac4])\n",
    "meas.register_parameter(ivvi_setup.ig_measurement, setpoints=[ami.field, ivvi_setup.dac4])\n",
    "meas.register_parameter(ivvi_setup.g_measurement, setpoints=[ami.field, ivvi_setup.dac4])\n",
    "\n",
    "lockin1.amplitude(0.05)\n",
    "lockin1.frequency(21.2)\n",
    "\n",
    "ivvi_setup.dac9(0.4)      #t1\n",
    "ivvi_setup.dac10(0.6) #t2\n",
    "ivvi_setup.dac8(-0.46)      #t3\n",
    "ivvi_setup.dac11(0.2)     #t4\n",
    "ivvi_setup.dac15(-0.75)\n",
    "ivvi_setup.dac4(1e-3)\n",
    "\n",
    "Br_vals = np.linspace(1.99, 0, 101)\n",
    "bias_values = np.linspace(-.4e-3, .4e-3, 101)\n",
    "with meas.run() as datasaver:\n",
    "    datasaver.dataset.subscribe(QcodesDatasetSubscriber(datasaver.dataset), state=[], \n",
    "                                min_wait=0, min_count=1)\n",
    "    \n",
    "    for s1 in Br_vals:\n",
    "        ami.field(s1)\n",
    "        for s2 in bias_values:\n",
    "            ivvi_setup.dac4(s2)\n",
    "            datasaver.add_result((ami.field, s1),\n",
    "                                 (ivvi_setup.dac4, s2), \n",
    "                                 (ivvi_setup.i_measurement, ivvi_setup.i_measurement()),\n",
    "                                 (ivvi_setup.ig_measurement, ivvi_setup.ig_measurement()),\n",
    "                                 (ivvi_setup.g_measurement, ivvi_setup.g_measurement()))"
   ]
  },
  {
   "cell_type": "markdown",
   "metadata": {},
   "source": [
    "## Gate vs gate"
   ]
  },
  {
   "cell_type": "code",
   "execution_count": null,
   "metadata": {
    "ExecuteTime": {
     "end_time": "2018-07-10T11:06:23.937951Z",
     "start_time": "2018-07-10T11:06:23.526128Z"
    }
   },
   "outputs": [],
   "source": [
    "ivvi.set_dacs_zero()"
   ]
  },
  {
   "cell_type": "markdown",
   "metadata": {
    "heading_collapsed": true
   },
   "source": [
    "### G vs T2"
   ]
  },
  {
   "cell_type": "code",
   "execution_count": null,
   "metadata": {
    "ExecuteTime": {
     "end_time": "2018-07-05T09:41:01.260424Z",
     "start_time": "2018-07-05T09:34:47.172000Z"
    },
    "hidden": true
   },
   "outputs": [],
   "source": [
    "exp = select_experiment('G vs T2', 'Cq334L')\n",
    "\n",
    "meas = Measurement(exp=exp)\n",
    "meas.write_period = 1\n",
    "meas.register_parameter(ivvi_setup.dac10)\n",
    "meas.register_parameter(ivvi_setup.dac15)\n",
    "meas.register_parameter(ivvi_setup.i_measurement, setpoints=[ivvi_setup.dac10, ivvi_setup.dac15])\n",
    "# meas.register_parameter(ivvi_setup.ig_measurement, setpoints=[ivvi_setup.dac10, ivvi_setup.dac15])\n",
    "# meas.register_parameter(ivvi_setup.g_measurement, setpoints=[ivvi_setup.dac10, ivvi_setup.dac15])\n",
    "\n",
    "\n",
    "lockin1.amplitude(0.05)\n",
    "lockin1.frequency(21.2)\n",
    "ivvi_setup.dac4(1e-3)\n",
    "\n",
    "G  = np.linspace(0, -1, 41)\n",
    "T2 = np.linspace(0, -0.35, 51)\n",
    "with meas.run() as datasaver:\n",
    "    datasaver.dataset.subscribe(QcodesDatasetSubscriber(datasaver.dataset), state=[], \n",
    "                                min_wait=0, min_count=1)\n",
    "    \n",
    "    for s1 in G:\n",
    "        ivvi_setup.dac15(s1)\n",
    "        for s2 in T2:\n",
    "            ivvi_setup.dac10(s2)\n",
    "            datasaver.add_result((ivvi_setup.dac10, s1),\n",
    "                                 (ivvi_setup.dac15, s2), \n",
    "                                 (ivvi_setup.i_measurement, ivvi_setup.i_measurement()),\n",
    "                                )\n",
    "#                                  (ivvi_setup.ig_measurement, ivvi_setup.ig_measurement()),\n",
    "#                                  (ivvi_setup.g_measurement, ivvi_setup.g_measurement()))"
   ]
  },
  {
   "cell_type": "markdown",
   "metadata": {
    "heading_collapsed": true
   },
   "source": [
    "### G vs T3"
   ]
  },
  {
   "cell_type": "code",
   "execution_count": null,
   "metadata": {
    "ExecuteTime": {
     "end_time": "2018-07-05T09:49:01.217870Z",
     "start_time": "2018-07-05T09:41:14.441897Z"
    },
    "hidden": true
   },
   "outputs": [],
   "source": [
    "ivvi.set_dacs_zero()\n",
    "\n",
    "exp = select_experiment('G vs T3', 'Cq334L')\n",
    "\n",
    "meas = Measurement(exp=exp)\n",
    "meas.write_period = 1\n",
    "meas.register_parameter(ivvi_setup.dac8)\n",
    "meas.register_parameter(ivvi_setup.dac15)\n",
    "meas.register_parameter(ivvi_setup.i_measurement, setpoints=[ivvi_setup.dac8, ivvi_setup.dac15])\n",
    "# meas.register_parameter(ivvi_setup.ig_measurement, setpoints=[ivvi_setup.dac10, ivvi_setup.dac15])\n",
    "# meas.register_parameter(ivvi_setup.g_measurement, setpoints=[ivvi_setup.dac10, ivvi_setup.dac15])\n",
    "\n",
    "\n",
    "lockin1.amplitude(0.05)\n",
    "lockin1.frequency(21.2)\n",
    "ivvi_setup.dac4(1e-3)\n",
    "\n",
    "G  = np.linspace(0, -1, 41)\n",
    "T3 = np.linspace(0, -0.5, 51)\n",
    "with meas.run() as datasaver:\n",
    "    datasaver.dataset.subscribe(QcodesDatasetSubscriber(datasaver.dataset), state=[], \n",
    "                                min_wait=0, min_count=1)\n",
    "    \n",
    "    for s1 in G:\n",
    "        ivvi_setup.dac15(s1)\n",
    "        for s2 in T3:\n",
    "            ivvi_setup.dac8(s2)\n",
    "            datasaver.add_result((ivvi_setup.dac8, s1),\n",
    "                                 (ivvi_setup.dac15, s2), \n",
    "                                 (ivvi_setup.i_measurement, ivvi_setup.i_measurement()),\n",
    "                                )\n",
    "#                                  (ivvi_setup.ig_measurement, ivvi_setup.ig_measurement()),\n",
    "#                                  (ivvi_setup.g_measurement, ivvi_setup.g_measurement()))\n"
   ]
  },
  {
   "cell_type": "markdown",
   "metadata": {
    "heading_collapsed": true
   },
   "source": [
    "### T2 vs T3"
   ]
  },
  {
   "cell_type": "code",
   "execution_count": null,
   "metadata": {
    "ExecuteTime": {
     "end_time": "2018-07-05T11:22:07.489102Z",
     "start_time": "2018-07-05T11:04:29.481367Z"
    },
    "hidden": true
   },
   "outputs": [],
   "source": [
    "ivvi.set_dacs_zero()\n",
    "\n",
    "exp = select_experiment('G vs T3', 'Cq334L')\n",
    "\n",
    "meas = Measurement(exp=exp)\n",
    "meas.write_period = 1\n",
    "meas.register_parameter(ivvi_setup.dac8)\n",
    "meas.register_parameter(ivvi_setup.dac10)\n",
    "meas.register_parameter(ivvi_setup.i_measurement, setpoints=[ivvi_setup.dac8, ivvi_setup.dac10])\n",
    "# meas.register_parameter(ivvi_setup.ig_measurement, setpoints=[ivvi_setup.dac10, ivvi_setup.dac15])\n",
    "# meas.register_parameter(ivvi_setup.g_measurement, setpoints=[ivvi_setup.dac10, ivvi_setup.dac15])\n",
    "\n",
    "\n",
    "lockin1.amplitude(0.05)\n",
    "lockin1.frequency(21.2)\n",
    "ivvi_setup.dac4(1e-3)\n",
    "ivvi_setup.dac15(0)\n",
    "\n",
    "T2 = np.linspace(1, 0, 51)\n",
    "T3 = np.linspace(0.5, -0.5, 101)\n",
    "with meas.run() as datasaver:\n",
    "    datasaver.dataset.subscribe(QcodesDatasetSubscriber(datasaver.dataset), state=[], \n",
    "                                min_wait=0, min_count=1)\n",
    "    \n",
    "    for s1 in T2:\n",
    "        ivvi_setup.dac10(s1)\n",
    "        for s2 in T3:\n",
    "            ivvi_setup.dac8(s2)\n",
    "            datasaver.add_result((ivvi_setup.dac8, s1),\n",
    "                                 (ivvi_setup.dac10, s2), \n",
    "                                 (ivvi_setup.i_measurement, ivvi_setup.i_measurement()),\n",
    "                                )\n",
    "#                                  (ivvi_setup.ig_measurement, ivvi_setup.ig_measurement()),\n",
    "#                                  (ivvi_setup.g_measurement, ivvi_setup.g_measurement()))"
   ]
  },
  {
   "cell_type": "markdown",
   "metadata": {},
   "source": [
    "### T3 vs T4"
   ]
  },
  {
   "cell_type": "code",
   "execution_count": null,
   "metadata": {
    "ExecuteTime": {
     "end_time": "2018-07-05T12:59:54.973096Z",
     "start_time": "2018-07-05T12:29:48.401288Z"
    }
   },
   "outputs": [],
   "source": [
    "ivvi.set_dacs_zero()\n",
    "\n",
    "exp = select_experiment('T4 vs T3', 'Cq334L')\n",
    "\n",
    "meas = Measurement(exp=exp)\n",
    "meas.write_period = 1\n",
    "meas.register_parameter(ivvi_setup.dac8)\n",
    "meas.register_parameter(ivvi_setup.dac11)\n",
    "meas.register_parameter(ivvi_setup.i_measurement, setpoints=[ivvi_setup.dac8, ivvi_setup.dac11])\n",
    "# meas.register_parameter(ivvi_setup.ig_measurement, setpoints=[ivvi_setup.dac10, ivvi_setup.dac15])\n",
    "# meas.register_parameter(ivvi_setup.g_measurement, setpoints=[ivvi_setup.dac10, ivvi_setup.dac15])\n",
    "\n",
    "\n",
    "lockin1.amplitude(0.05)\n",
    "lockin1.frequency(21.2)\n",
    "ivvi_setup.dac4(1e-3)\n",
    "ivvi_setup.dac15(0)\n",
    "\n",
    "T4 = np.linspace(-0.15, -0.4,  101)\n",
    "T3 = np.linspace(-0.25, -0.55, 101)\n",
    "with meas.run() as datasaver:\n",
    "    datasaver.dataset.subscribe(QcodesDatasetSubscriber(datasaver.dataset), state=[], \n",
    "                                min_wait=0, min_count=1)\n",
    "    \n",
    "    for s1 in T4:\n",
    "        ivvi_setup.dac11(s1)\n",
    "        for s2 in T3:\n",
    "            ivvi_setup.dac8(s2)\n",
    "            datasaver.add_result((ivvi_setup.dac8, s1),\n",
    "                                 (ivvi_setup.dac11, s2), \n",
    "                                 (ivvi_setup.i_measurement, ivvi_setup.i_measurement()),\n",
    "                                )\n",
    "#                                  (ivvi_setup.ig_measurement, ivvi_setup.ig_measurement()),\n",
    "#                                  (ivvi_setup.g_measurement, ivvi_setup.g_measurement()))"
   ]
  },
  {
   "cell_type": "markdown",
   "metadata": {
    "heading_collapsed": true
   },
   "source": [
    "### T2 vs T4"
   ]
  },
  {
   "cell_type": "code",
   "execution_count": null,
   "metadata": {
    "ExecuteTime": {
     "end_time": "2018-07-05T12:08:26.724878Z",
     "start_time": "2018-07-05T11:52:38.926197Z"
    },
    "hidden": true
   },
   "outputs": [],
   "source": [
    "ivvi.set_dacs_zero()\n",
    "\n",
    "exp = select_experiment('T2 vs T4', 'Cq334L')\n",
    "\n",
    "meas = Measurement(exp=exp)\n",
    "meas.write_period = 1\n",
    "meas.register_parameter(ivvi_setup.dac10)\n",
    "meas.register_parameter(ivvi_setup.dac11)\n",
    "meas.register_parameter(ivvi_setup.i_measurement, setpoints=[ivvi_setup.dac10, ivvi_setup.dac11])\n",
    "# meas.register_parameter(ivvi_setup.ig_measurement, setpoints=[ivvi_setup.dac10, ivvi_setup.dac15])\n",
    "# meas.register_parameter(ivvi_setup.g_measurement, setpoints=[ivvi_setup.dac10, ivvi_setup.dac15])\n",
    "\n",
    "\n",
    "lockin1.amplitude(0.05)\n",
    "lockin1.frequency(21.2)\n",
    "ivvi_setup.dac4(1e-3)\n",
    "ivvi_setup.dac15(0)\n",
    "\n",
    "T4 = np.linspace(0, -0.4, 51)\n",
    "T2 = np.linspace(0, -0.35, 101)\n",
    "with meas.run() as datasaver:\n",
    "    datasaver.dataset.subscribe(QcodesDatasetSubscriber(datasaver.dataset), state=[], \n",
    "                                min_wait=0, min_count=1)\n",
    "    \n",
    "    for s1 in T4:\n",
    "        ivvi_setup.dac11(s1)\n",
    "        for s2 in T2:\n",
    "            ivvi_setup.dac10(s2)\n",
    "            datasaver.add_result((ivvi_setup.dac10, s1),\n",
    "                                 (ivvi_setup.dac11, s2), \n",
    "                                 (ivvi_setup.i_measurement, ivvi_setup.i_measurement()),\n",
    "                                )\n",
    "#                                  (ivvi_setup.ig_measurement, ivvi_setup.ig_measurement()),\n",
    "#                                  (ivvi_setup.g_measurement, ivvi_setup.g_measurement()))"
   ]
  },
  {
   "cell_type": "markdown",
   "metadata": {},
   "source": [
    "### T1 vs T2"
   ]
  },
  {
   "cell_type": "code",
   "execution_count": null,
   "metadata": {
    "ExecuteTime": {
     "end_time": "2018-07-05T12:27:03.483942Z",
     "start_time": "2018-07-05T12:11:15.840254Z"
    }
   },
   "outputs": [],
   "source": [
    "ivvi.set_dacs_zero()\n",
    "\n",
    "exp = select_experiment('T2 vs T4', 'Cq334L')\n",
    "\n",
    "meas = Measurement(exp=exp)\n",
    "meas.write_period = 1\n",
    "meas.register_parameter(ivvi_setup.dac10)\n",
    "meas.register_parameter(ivvi_setup.dac9)\n",
    "meas.register_parameter(ivvi_setup.i_measurement, setpoints=[ivvi_setup.dac10, ivvi_setup.dac9])\n",
    "# meas.register_parameter(ivvi_setup.ig_measurement, setpoints=[ivvi_setup.dac10, ivvi_setup.dac15])\n",
    "# meas.register_parameter(ivvi_setup.g_measurement, setpoints=[ivvi_setup.dac10, ivvi_setup.dac15])\n",
    "\n",
    "\n",
    "lockin1.amplitude(0.05)\n",
    "lockin1.frequency(21.2)\n",
    "ivvi_setup.dac4(1e-3)\n",
    "ivvi_setup.dac15(0)\n",
    "\n",
    "T1 = np.linspace(0, -0.4, 51)\n",
    "T2 = np.linspace(0, -0.35, 101)\n",
    "with meas.run() as datasaver:\n",
    "    datasaver.dataset.subscribe(QcodesDatasetSubscriber(datasaver.dataset), state=[], \n",
    "                                min_wait=0, min_count=1)\n",
    "    \n",
    "    for s1 in T1:\n",
    "        ivvi_setup.dac9(s1)\n",
    "        for s2 in T2:\n",
    "            ivvi_setup.dac10(s2)\n",
    "            datasaver.add_result((ivvi_setup.dac10, s1),\n",
    "                                 (ivvi_setup.dac9, s2), \n",
    "                                 (ivvi_setup.i_measurement, ivvi_setup.i_measurement()),\n",
    "                                )\n",
    "#                                  (ivvi_setup.ig_measurement, ivvi_setup.ig_measurement()),\n",
    "#                                  (ivvi_setup.g_measurement, ivvi_setup.g_measurement()))"
   ]
  },
  {
   "cell_type": "code",
   "execution_count": null,
   "metadata": {},
   "outputs": [],
   "source": []
  }
 ],
 "metadata": {
  "kernelspec": {
   "display_name": "Python 3",
   "language": "python",
   "name": "python3"
  },
  "language_info": {
   "codemirror_mode": {
    "name": "ipython",
    "version": 3
   },
   "file_extension": ".py",
   "mimetype": "text/x-python",
   "name": "python",
   "nbconvert_exporter": "python",
   "pygments_lexer": "ipython3",
   "version": "3.6.5"
  },
  "toc": {
   "base_numbering": 1,
   "nav_menu": {},
   "number_sections": true,
   "sideBar": true,
   "skip_h1_title": false,
   "title_cell": "Table of Contents",
   "title_sidebar": "Contents",
   "toc_cell": false,
   "toc_position": {
    "height": "1247px",
    "left": "27px",
    "top": "111.483px",
    "width": "280px"
   },
   "toc_section_display": true,
   "toc_window_display": true
  }
 },
 "nbformat": 4,
 "nbformat_minor": 2
}
