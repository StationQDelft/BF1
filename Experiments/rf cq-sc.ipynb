{
 "cells": [
  {
   "cell_type": "markdown",
   "metadata": {},
   "source": [
    "# Setup "
   ]
  },
  {
   "cell_type": "code",
   "execution_count": 1,
   "metadata": {
    "ExecuteTime": {
     "end_time": "2018-07-10T04:55:16.887817Z",
     "start_time": "2018-07-10T04:55:16.576998Z"
    }
   },
   "outputs": [],
   "source": [
    "%matplotlib notebook\n",
    "\n",
    "import sys\n",
    "import os\n",
    "import time\n",
    "import numpy as np\n",
    "import matplotlib as mpl\n",
    "\n",
    "from collections import OrderedDict\n",
    "from importlib import reload\n",
    "from matplotlib import pyplot as plt"
   ]
  },
  {
   "cell_type": "code",
   "execution_count": 2,
   "metadata": {
    "ExecuteTime": {
     "end_time": "2018-07-10T04:55:17.957468Z",
     "start_time": "2018-07-10T04:55:17.007033Z"
    }
   },
   "outputs": [],
   "source": [
    "import qcodes as qc\n",
    "import broadbean as bb\n",
    "\n",
    "from broadbean.plotting import plotter"
   ]
  },
  {
   "cell_type": "code",
   "execution_count": 3,
   "metadata": {
    "ExecuteTime": {
     "end_time": "2018-07-10T04:55:17.971459Z",
     "start_time": "2018-07-10T04:55:17.958467Z"
    }
   },
   "outputs": [],
   "source": [
    "from qcodes import load_by_id\n",
    "from qcodes import validators\n",
    "from qcodes.instrument.base import Instrument\n",
    "from qcodes.dataset.measurements import Measurement\n",
    "from qcodes.instrument.parameter import Parameter\n",
    "from qcodes.dataset.plotting import plot_by_id\n",
    "from qcodes.dataset.data_set import DataSet\n",
    "from qcodes.sweep import sweep, nest, chain, szip, getter, setter\n",
    "from qcodes.sweep.sweep import ParameterSweep, Nest, ParameterWrapper, FunctionWrapper, FunctionSweep, getter"
   ]
  },
  {
   "cell_type": "code",
   "execution_count": 4,
   "metadata": {
    "ExecuteTime": {
     "end_time": "2018-07-10T04:55:18.230313Z",
     "start_time": "2018-07-10T04:55:17.972460Z"
    }
   },
   "outputs": [],
   "source": [
    "from pytopo.qctools import instruments as instools; reload(instools)\n",
    "from pytopo.qctools.instruments import create_inst, add2station\n",
    "\n",
    "from pytopo.qctools import measurement; reload(measurement)\n",
    "from pytopo.qctools.measurement import MeasurementExt\n",
    "\n",
    "from pytopo.mplplots.init_nb_plotting import *\n",
    "from pytopo.mplplots import plots as mplplots\n",
    "from pytopo.mplplots import tools as mpltools\n",
    "\n",
    "from pytopo.qctools.dataset2 import select_experiment\n",
    "\n",
    "import plottr; reload(plottr)\n",
    "from plottr import client\n",
    "from plottr.qcodes_dataset import QcodesDatasetSubscriber\n",
    "\n",
    "from pytopo.mplplots.init_nb_plotting import *\n",
    "\n",
    "qc.config['core']['db_location'] = r\"d:/OneDrive/BF1/Data/experiments.db\""
   ]
  },
  {
   "cell_type": "code",
   "execution_count": 5,
   "metadata": {
    "ExecuteTime": {
     "end_time": "2018-07-10T04:55:18.853637Z",
     "start_time": "2018-07-10T04:55:18.847638Z"
    }
   },
   "outputs": [],
   "source": [
    "from pytopo.qctools import hard_sweep; reload(hard_sweep)\n",
    "from pytopo.qctools.hard_sweep import HardSweep, HardSweepDetector"
   ]
  },
  {
   "cell_type": "markdown",
   "metadata": {},
   "source": [
    "## Classes"
   ]
  },
  {
   "cell_type": "code",
   "execution_count": 88,
   "metadata": {
    "ExecuteTime": {
     "end_time": "2018-07-10T05:19:39.058394Z",
     "start_time": "2018-07-10T05:19:39.043433Z"
    }
   },
   "outputs": [],
   "source": [
    "class ConversionParameter(Parameter):\n",
    "    \n",
    "    def __init__(self, name, src_param, get_conv, set_conv=None, **kw):\n",
    "        super().__init__(name, **kw)\n",
    "        self.src_param = src_param\n",
    "        self.get_conv = get_conv\n",
    "        self.set_conv = set_conv\n",
    "    \n",
    "    def get_raw(self):\n",
    "        return self.get_conv(self.src_param())\n",
    "    \n",
    "    def set_raw(self, value):\n",
    "        if self.set_conv is None:\n",
    "            raise NotImplementedError(\"No set conversion implemented.\")\n",
    "        \n",
    "        return self.src_param(self.set_conv(value))\n",
    "    \n",
    "\n",
    "class IVVISetup(Instrument):\n",
    "    \n",
    "    def __init__(self, name, ivvi, **kw):\n",
    "        super().__init__(name, **kw)\n",
    "        \n",
    "        self.ivvi = ivvi\n",
    "        \n",
    "        self.add_parameter('voltage_multiplier', get_cmd=None, set_cmd=None, \n",
    "                           initial_value=10e-3)\n",
    "        self.add_parameter('current_multiplier', get_cmd=None, set_cmd=None, \n",
    "                           initial_value=1e-7)\n",
    "        self.add_parameter('iso_in_multiplier', get_cmd=None, set_cmd=None,\n",
    "                           initial_value=1e-2)\n",
    "        self.add_parameter('gate_multiplier', get_cmd=None, set_cmd=None, \n",
    "                           initial_value=1)\n",
    "        \n",
    "        self.add_parameter('M1b_gain', get_cmd=None, set_cmd=None, initial_value=1e6)\n",
    "        self.add_parameter('M1b_mode', get_cmd=None, set_cmd=None, \n",
    "                           vals=validators.Enum('low_noise', 'low_R_in'), \n",
    "                           initial_value='low_noise')\n",
    "        self.add_parameter('M1b_R_in', get_cmd=self._get_M1b_R_in)\n",
    "        \n",
    "        self.add_parameter('M2m_Vgain', get_cmd=None, set_cmd=None, initial_value=1e3)\n",
    "\n",
    "        for i in range(1, self.ivvi._numdacs + 1):       \n",
    "            self.add_parameter('dac{}'.format(i), unit='V',\n",
    "                               get_cmd=self.ivvi._gen_ch_get_func(self._get_dac, i),\n",
    "                               set_cmd=self.ivvi._gen_ch_set_func(self._set_dac, i))\n",
    "            \n",
    "    def _get_M1b_R_in(self):\n",
    "        if self.M1b_mode() == 'low_noise':\n",
    "            return 2e3 + 1e-3 * self.M1b_gain()\n",
    "        elif self.M1b_mode() == 'low_R_in':\n",
    "            return 2e3 + 1e-4 * self.M1b_gain()\n",
    "            \n",
    "    def _get_dac(self, ch):\n",
    "        if ch in [8, 9, 10, 11, 12, 13, 14, 15]:\n",
    "            return self.ivvi.set('dac{}'.format(ch)) * 1e-3 * self.gate_multiplier()\n",
    "        else:\n",
    "            return self.ivvi.get('dac{}'.format(ch)) * 1e-3 * self.voltage_multiplier()\n",
    "    \n",
    "    def _set_dac(self, ch, val):\n",
    "        if ch in [8, 9, 10, 11, 12, 13, 14, 15]:\n",
    "            return self.ivvi.set('dac{}'.format(ch), val * 1e3 / self.gate_multiplier())\n",
    "        else:\n",
    "            return self.ivvi.set('dac{}'.format(ch), val * 1e3 / self.voltage_multiplier())"
   ]
  },
  {
   "cell_type": "markdown",
   "metadata": {},
   "source": [
    "### AWG"
   ]
  },
  {
   "cell_type": "code",
   "execution_count": 7,
   "metadata": {
    "ExecuteTime": {
     "end_time": "2018-07-10T04:55:21.867709Z",
     "start_time": "2018-07-10T04:55:21.842724Z"
    }
   },
   "outputs": [],
   "source": [
    "ramp = bb.PulseAtoms.ramp\n",
    "\n",
    "class BluePrints(object):\n",
    "    \n",
    "    def __init__(self, chan_map, sample_rate=1e9):\n",
    "        self.bps = {}\n",
    "        self.map = {}\n",
    "        \n",
    "        for i, lst in chan_map.items():\n",
    "            self.bps[i] = bb.BluePrint()\n",
    "            self.bps[i].setSR(sample_rate)\n",
    "            for j, name in enumerate(lst):\n",
    "                if name is not None:\n",
    "                    self.map[name] = (i, j)\n",
    "                    \n",
    "    def __getitem__(self, name):\n",
    "        if self.map[name][1] == 0:\n",
    "            return self.bps[self.map[name][0]]\n",
    "        else:\n",
    "            return getattr(self.bps[self.map[name][0]], 'marker{}'.format(self.map[name][1]))\n",
    "        \n",
    "    def __setitem__(self, name, value):\n",
    "        if self.map[name][1] == 0:\n",
    "            self.bps[self.map[name][0]] = value\n",
    "        else:\n",
    "            setattr(self.bps[self.map[name][0]], 'marker{}'.format(self.map[name][1]), value)\n",
    "        \n",
    "    def __call__(self):\n",
    "        return list(self.bps.items())\n",
    "    \n",
    "\n",
    "class BroadBeanSequence(HardSweep):\n",
    "    \n",
    "    chan_map = {}\n",
    "    \n",
    "    def __init__(self, name, awg, chan_map, **kw):\n",
    "        self.awg = awg\n",
    "        self.chan_map = chan_map\n",
    "        \n",
    "        super().__init__(name, **kw)\n",
    "        \n",
    "        self.add_parameter('sample_rate', get_cmd=None, set_cmd=None, \n",
    "                           unit='GS/s', initial_value=1e9)\n",
    "        \n",
    "    def sequence(self):\n",
    "        raise NotImplementedError\n",
    "        \n",
    "        \n",
    "    def setup(self, program_awg=True, start_awg=True):\n",
    "        super().setup()\n",
    "        \n",
    "        self.awg.stop()\n",
    "        \n",
    "        if program_awg:\n",
    "            self.awg.clock_freq(self.sample_rate())\n",
    "            seq = self.sequence()\n",
    "            pkg = seq.outputForAWGFile()\n",
    "            self.awg.make_send_and_load_awg_file(*pkg[:])\n",
    "        \n",
    "            for ch_no, ch_desc in self.chan_map.items():\n",
    "                self.awg.set('ch{}_state'.format(ch_no), 1)\n",
    "\n",
    "        if start_awg:\n",
    "            self.awg.start()\n",
    "\n",
    "        \n",
    "class AWGGateRamp1D(BroadBeanSequence):\n",
    "    \n",
    "    trigger_delay = 100e-9\n",
    "    alazar_trigger_len = 100e-9\n",
    "    \n",
    "    def __init__(self, *arg, **kw):\n",
    "        \n",
    "        kw['sweep_dims'] = ['voltage_vals', ]\n",
    "        \n",
    "        super().__init__(*arg, **kw)\n",
    "        \n",
    "        self.add_parameter('step_len', set_cmd=None, \n",
    "                           unit='s', initial_value=10e-6)\n",
    "        self.add_parameter('start_voltage', set_cmd=None,\n",
    "                           unit='V', initial_value=0)\n",
    "        self.add_parameter('stop_voltage', set_cmd=None,\n",
    "                           unit='V', initial_value=1)\n",
    "        self.add_parameter('voltage_points', set_cmd=None,\n",
    "                           unit='', initial_value=11)\n",
    "        self.add_parameter('ramp_down_time', set_cmd=None,\n",
    "                           unit='s', initial_value=10e-6)\n",
    "        \n",
    "    def setup(self, **kw):\n",
    "        vpts = np.linspace(self.start_voltage(), self.stop_voltage(), self.voltage_points())\n",
    "        self.voltage_vals(vpts)\n",
    "        super().setup(**kw)\n",
    "        \n",
    "        \n",
    "    def sequence(self):\n",
    "        elem = bb.Element()\n",
    "        bps = BluePrints(self.chan_map, sample_rate=self.sample_rate())\n",
    "        \n",
    "        cut_t = 0\n",
    "#         bps['awg_voltage'] = []\n",
    "        bps['alz_mrkr'] = []\n",
    "        for i, v in enumerate(self.voltage_vals()):\n",
    "            bps['awg_voltage'].insertSegment(i, ramp, (v, v), \n",
    "                                             dur=self.step_len(), name='voltage')\n",
    "            bps['alz_mrkr'].append((self.step_len() * i + self.trigger_delay, self.alazar_trigger_len))\n",
    "            \n",
    "        bps['awg_voltage'].insertSegment(-1, ramp, (v, self.start_voltage()), \n",
    "                                         dur=self.ramp_down_time(), name='voltage')        \n",
    "            \n",
    "        \n",
    "        for n, bp in bps():\n",
    "            elem.addBluePrint(n, bp)\n",
    "            \n",
    "        seq = bb.Sequence()\n",
    "        seq.name = 'v_ramp'\n",
    "        seq.addElement(1, elem)\n",
    "        seq.setSR(self.sample_rate())\n",
    "        \n",
    "        seq.setChannelAmplitude(1, 1)\n",
    "        seq.setChannelOffset(1, 0)\n",
    "        seq.setChannelAmplitude(2, 1)\n",
    "        seq.setChannelOffset(2, 0)\n",
    "\n",
    "        seq.setSequencingTriggerWait(1, 0)\n",
    "        seq.setSequencingGoto(1, 1)\n",
    "        \n",
    "        return seq\n",
    "        \n",
    "        \n",
    "class SimpleAWGSpec(BroadBeanSequence):\n",
    "\n",
    "    def __init__(self, *arg, **kw):\n",
    "        \n",
    "        kw['sweep_dims'] = ['awg_sweep_idx', ]\n",
    "        \n",
    "        super().__init__(*arg, **kw)\n",
    "        \n",
    "        self.add_parameter('initial_delay', set_cmd=None,\n",
    "                           unit='s', initial_value=1e-6)\n",
    "        self.add_parameter('alazar_trigger_len', set_cmd=None,\n",
    "                           unit='s', initial_value=1e-7)\n",
    "        self.add_parameter('alazar_trigger_delay', set_cmd=None, \n",
    "                           unit='s', initial_value=1e-6)\n",
    "        self.add_parameter('seq_len', set_cmd=None, \n",
    "                           unit='s', initial_value=1e-5)\n",
    "        self.add_parameter('final_delay', set_cmd=None,\n",
    "                           unit='s', initial_value=1e-6)\n",
    "\n",
    "    def setup(self, **kw):\n",
    "        self.awg_sweep_idx([1,])\n",
    "        super().setup(**kw)\n",
    "        \n",
    "    def sequence(self):\n",
    "        elem = bb.Element()\n",
    "        \n",
    "        bps = BluePrints(self.chan_map, sample_rate=self.sample_rate())\n",
    "        \n",
    "        bps['ro'].insertSegment(0, ramp, (0, 0), dur=self.seq_len(), name='ro_segment')\n",
    "        bps['alz_mrkr'] = [(self.initial_delay(), self.alazar_trigger_len())]\n",
    "#         bps['ro_mrkr'] = [(self.initial_delay() + self.alazar_trigger_delay(), \n",
    "#                            self.seq_len() - self.initial_delay() - 2 * self.alazar_trigger_delay() - self.final_delay(), )]\n",
    "        \n",
    "#         bps['test'].insertSegment(0, ramp, (0, 0), dur=self.seq_len(), name='q_segment')\n",
    "#         bps['q_mrkr'] = [(self.initial_delay() + self.alazar_trigger_delay(), \n",
    "#                           self.seq_len() - self.initial_delay() - 2 * self.alazar_trigger_delay() - self.final_delay(), )]\n",
    "        \n",
    "        \n",
    "        for n, bp in bps():\n",
    "            elem.addBluePrint(n, bp)\n",
    "            \n",
    "        seq = bb.Sequence()\n",
    "        seq.name = 'spec'\n",
    "        seq.addElement(1, elem)\n",
    "        seq.setSR(self.sample_rate())\n",
    "        \n",
    "        seq.setChannelAmplitude(1, 1)\n",
    "        seq.setChannelOffset(1, 0)\n",
    "        seq.setChannelAmplitude(2, 1)\n",
    "        seq.setChannelOffset(2, 0)\n",
    "\n",
    "        seq.setSequencingTriggerWait(1, 0)\n",
    "        seq.setSequencingGoto(1, 1)\n",
    "        \n",
    "        return seq"
   ]
  },
  {
   "cell_type": "markdown",
   "metadata": {},
   "source": [
    "### Alazar"
   ]
  },
  {
   "cell_type": "code",
   "execution_count": 8,
   "metadata": {
    "ExecuteTime": {
     "end_time": "2018-07-10T04:55:23.071646Z",
     "start_time": "2018-07-10T04:55:23.056677Z"
    }
   },
   "outputs": [],
   "source": [
    "class AlazarBaseDetector(HardSweepDetector):\n",
    "    \n",
    "    def __init__(self, name, acqctl, sweep_params=['buffers', 'records'], **kwargs):\n",
    "        self.acqctl = acqctl        \n",
    "        self._time = None\n",
    "        self._signal_real = None\n",
    "        self._signal_imag = None\n",
    "        self._signal_abs = None\n",
    "\n",
    "        inner_dims = []\n",
    "        for d in self.acqctl.data_dims():\n",
    "            if d not in sweep_params:\n",
    "                inner_dims.append(d)\n",
    "        \n",
    "        super().__init__(name, inner_dims=inner_dims, **kwargs)\n",
    "        \n",
    "        self.add_parameter('acquisition', get_cmd=self.do_acquisition, unit='V', snapshot_value=False)\n",
    "        self.add_parameter('signal_real', get_cmd=lambda: self._signal_real, unit='V', snapshot_value=False)\n",
    "        self.add_parameter('signal_imag', get_cmd=lambda: self._signal_imag, unit='V', snapshot_value=False)\n",
    "        self.add_parameter('signal_abs', get_cmd=lambda: self._signal_abs, unit='V', snapshot_value=False)\n",
    "        self.data_params = [self.signal_real, self.signal_imag, self.signal_abs]\n",
    "        \n",
    "        if 'samples' in self.inner_dims or 'IF_periods' in self.inner_dims:\n",
    "            self.add_parameter('time', unit='s', snapshot_value=False, \n",
    "                               get_cmd=lambda: self._time)\n",
    "\n",
    "    def setup(self):\n",
    "        ### TODO:\n",
    "        # We should have an option that it's possible to not specify all dimensions,\n",
    "        # and basically set the shape to (-1, xxx), i.e., set the first one automatic.\n",
    "        # that might then be an implicit averaging dimension, for example.\n",
    "        # then sweepers can be used for both avering over buffers, or single-shot        \n",
    "        for d in self.inner_dims:\n",
    "            idx = self.acqctl.data_dims().index(d)\n",
    "            try:\n",
    "                npts = self.acqctl.data_shape()[idx]\n",
    "            except:\n",
    "                npts = 1\n",
    "            self.set(d, np.arange(npts))\n",
    "            \n",
    "        super().setup()\n",
    "    \n",
    "    \n",
    "    def do_acquisition(self):\n",
    "        data = self.acqctl.acquisition()\n",
    "        self.setup()\n",
    "        \n",
    "        if 'samples' in self.inner_dims:\n",
    "            self._time = self.acqctl.tvals\n",
    "        elif 'IF_periods' in self.inner_dims:\n",
    "            self._time = self.acqctl.demod_tvals\n",
    "            \n",
    "        self._signal_real = np.real(data)\n",
    "        self._signal_imag = np.imag(data)\n",
    "        self._signal_abs = np.abs(data)\n",
    "        \n",
    "        return data\n",
    "\n",
    "    \n",
    "class AlazarDetector(AlazarBaseDetector):\n",
    "    \n",
    "    def __init__(self, name, acqctl, **kwargs):\n",
    "        kwargs['sweep_params'] = ['buffers', 'records']\n",
    "        \n",
    "        super().__init__(name, acqctl, **kwargs)\n",
    "        \n",
    "        self.add_parameter('avg_buffers', set_cmd=None, initial_value=True)\n",
    "        self.add_parameter('acq_time', \n",
    "                           get_cmd=lambda: self.acqctl.acq_time(), \n",
    "                           set_cmd=lambda x: self.acqctl.acq_time(x))\n",
    "        \n",
    "        if hasattr(self.acqctl, 'demod_frq'):\n",
    "            self.add_parameter('demod_frq', \n",
    "                               get_cmd=lambda: self.acqctl.demod_frq(), \n",
    "                               set_cmd=lambda x: self.acqctl.demod_frq(x))\n",
    "        \n",
    "    def configure_alazar(self, **kwargs):\n",
    "        defaults = dict(\n",
    "            buffer_timeout = 10000,\n",
    "            allocated_buffers = 1,\n",
    "        )\n",
    "        defaults.update(kwargs)\n",
    "        self.acqctl.update_acquisitionkwargs(**defaults)\n",
    "        \n",
    "    def do_acquisition(self):\n",
    "        data = super().do_acquisition()\n",
    "        \n",
    "        if self.avg_buffers():\n",
    "            bidx = self.acqctl.data_dims().index('buffers')\n",
    "            data = data.mean(axis=bidx)\n",
    "            \n",
    "            self._signal_real = np.real(data)\n",
    "            self._signal_imag = np.imag(data)\n",
    "            self._signal_abs = np.abs(data)\n",
    "            \n",
    "        return data"
   ]
  },
  {
   "cell_type": "code",
   "execution_count": 9,
   "metadata": {
    "ExecuteTime": {
     "end_time": "2018-07-10T04:55:23.943792Z",
     "start_time": "2018-07-10T04:55:23.937818Z"
    }
   },
   "outputs": [],
   "source": [
    "class HeterodyneSource(Instrument):\n",
    "    \n",
    "    def __init__(self, name, RF, LO, *arg, **kw):\n",
    "        super().__init__(name, *arg, **kw)\n",
    "        \n",
    "        self.RF = RF\n",
    "        self.LO = LO\n",
    "        \n",
    "        self.add_parameter('IF', set_cmd=None, initial_value=8e6)\n",
    "        self.add_parameter('frequency', unit='Hz',\n",
    "                           get_cmd=self.RF.frequency, \n",
    "                           set_cmd=self._set_freq)\n",
    "        \n",
    "        self.frequency(self.frequency())\n",
    "    \n",
    "    def _set_freq(self, frq):\n",
    "        self.RF.frequency(frq)\n",
    "        self.LO.frequency(frq-self.IF())\n",
    "        "
   ]
  },
  {
   "cell_type": "markdown",
   "metadata": {},
   "source": [
    "## Init instruments"
   ]
  },
  {
   "cell_type": "code",
   "execution_count": 10,
   "metadata": {
    "ExecuteTime": {
     "end_time": "2018-07-10T04:55:30.173702Z",
     "start_time": "2018-07-10T04:55:25.202100Z"
    }
   },
   "outputs": [
    {
     "name": "stdout",
     "output_type": "stream",
     "text": [
      "Initialized IVVI-rack in 0.10s\n",
      "Connected to: Keysight Technologies 34465A (serial:MY57503135, firmware:A.02.14-02.40-02.14-00.49-03-01) in 0.13s\n",
      "Connected to: Keysight Technologies 34465A (serial:MY57503556, firmware:A.02.14-02.40-02.14-00.49-03-01) in 0.12s\n",
      "Connected to: Stanford_Research_Systems SR860 (serial:003104, firmware:V1.47) in 0.07s\n"
     ]
    },
    {
     "name": "stderr",
     "output_type": "stream",
     "text": [
      "d:\\onedrive\\bf1\\code\\qcodes\\qcodes\\instrument\\parameter.py:518: UserWarning: set_step is deprecated use step property as in `inst.step = stepvalue` instead\n",
      "  \"set_step is deprecated use step property as in `inst.step = \"\n",
      "d:\\onedrive\\bf1\\code\\qcodes\\qcodes\\instrument\\parameter.py:530: UserWarning: set_delay is deprecated use inter_delay or post_delay property as in `inst.inter_delay = delayvalue` instead\n",
      "  \"set_delay is deprecated use inter_delay or post_delay property \"\n"
     ]
    },
    {
     "name": "stdout",
     "output_type": "stream",
     "text": [
      "Connected to: AMERICAN MAGNETICS INC. 430 (serial:170025, firmware:2.50) in 0.90s\n",
      "Connected to: AMERICAN MAGNETICS INC. 430 (serial:170026, firmware:2.50) in 0.82s\n",
      "Connected to: AMERICAN MAGNETICS INC. 430 (serial:170024, firmware:2.50) in 1.12s\n",
      "Connected to: TEKTRONIX AWG5014C (serial:B051388, firmware:SCPI:99.0 FW:4.6.0.7) in 0.06s\n",
      "Connected to: Rohde&Schwarz SGS100A (serial:1416.0505k02/110524, firmware:3.1.19.15-3.50.124.67) in 0.03s\n",
      "Connected to: Rohde&Schwarz SGS100A (serial:1416.0505k02/110525, firmware:3.1.19.15-3.50.124.67) in 0.04s\n"
     ]
    }
   ],
   "source": [
    "from qcodes.instrument_drivers.QuTech.IVVI import IVVI\n",
    "ivvi = create_inst(IVVI, \"ivvi\", \"ASRL5::INSTR\")\n",
    "\n",
    "from qcodes.instrument_drivers.Keysight.Keysight_34465A import Keysight_34465A\n",
    "key1 = create_inst(Keysight_34465A, \"key1\", \"TCPIP::169.254.4.62::INSTR\", force_new_instance=True)\n",
    "key2 = create_inst(Keysight_34465A, \"key2\", \"TCPIP::169.254.4.61::INSTR\", force_new_instance=True)\n",
    "\n",
    "from qcodes.instrument_drivers.stanford_research.SR860 import SR860\n",
    "lockin1 = create_inst(SR860, \"lockin1\", \"GPIB0::3::INSTR\")\n",
    "\n",
    "for i in range(1,16):\n",
    "    ivvi.parameters['dac{}'.format(i)].set_step(2)\n",
    "    ivvi.parameters['dac{}'.format(i)].set_delay(0.001)\n",
    "\n",
    "ivvi.dac4.set_delay(0.001)\n",
    "ivvi.dac4.set_step(20)\n",
    "\n",
    "from qcodes.instrument_drivers.american_magnetics.AMI430 import AMI430,AMI430_3D\n",
    "ami_x = create_inst(AMI430, \"AMI430_x\", \"169.254.144.4\", port = 7180, has_current_rating=True)\n",
    "ami_y = create_inst(AMI430, \"AMI430_y\", \"169.254.97.253\", port = 7180, has_current_rating=True)\n",
    "ami_z = create_inst(AMI430, \"AMI430_z\", \"169.254.86.244\", port = 7180, has_current_rating=True)\n",
    "\n",
    "ami = create_inst(AMI430_3D, \"AMI430\", ami_x, ami_y, ami_z, 2)\n",
    "\n",
    "\n",
    "### Init instruments\n",
    "from pytopo.rf import alazar_acquisition; reload(alazar_acquisition)\n",
    "from pytopo.rf.alazar_acquisition import RawAcqCtl, AvgBufCtl, AvgDemodCtl, AvgIQCtl, DemodAcqCtl, IQAcqCtl, DemodRelAcqCtl, IQRelAcqCtl\n",
    "\n",
    "inst_list = []\n",
    "\n",
    "from qcodes.instrument_drivers.AlazarTech.ATS9360 import AlazarTech_ATS9360\n",
    "alazar = instools.create_inst(AlazarTech_ATS9360, 'alazar')\n",
    "inst_list.append(alazar)\n",
    "\n",
    "raw_acq = instools.create_inst(RawAcqCtl, 'raw_acq', 'alazar', force_new_instance=True)\n",
    "inst_list.append(raw_acq)\n",
    "\n",
    "avg_acq = instools.create_inst(AvgBufCtl, 'avg_acq', 'alazar', force_new_instance=True)\n",
    "inst_list.append(avg_acq)\n",
    "\n",
    "avgdemod_acq = instools.create_inst(AvgDemodCtl, 'avgdemod_acq', 'alazar', force_new_instance=True)\n",
    "inst_list.append(avgdemod_acq)\n",
    "\n",
    "avgiq_acq = instools.create_inst(AvgIQCtl, 'avgiq_acq', 'alazar', force_new_instance=True)\n",
    "inst_list.append(avgiq_acq)\n",
    "\n",
    "demod_acq = instools.create_inst(DemodAcqCtl, 'demod_acq', 'alazar', force_new_instance=True)\n",
    "inst_list.append(demod_acq)\n",
    "\n",
    "demodrel_acq = instools.create_inst(DemodRelAcqCtl, 'rel_acq', 'alazar', force_new_instance=True)\n",
    "inst_list.append(demodrel_acq)\n",
    "\n",
    "iqrel_acq = instools.create_inst(IQRelAcqCtl, 'iqrel_acq', 'alazar', force_new_instance=True)\n",
    "inst_list.append(iqrel_acq)\n",
    "\n",
    "iq_acq = instools.create_inst(IQAcqCtl, 'iq_acq', 'alazar', force_new_instance=True)\n",
    "inst_list.append(iq_acq)\n",
    "\n",
    "from qcodes.instrument_drivers.tektronix.AWG5014 import Tektronix_AWG5014\n",
    "awg5014 = instools.create_inst(Tektronix_AWG5014, 'awg5014', address=\"TCPIP0::169.254.183.196::inst0::INSTR\")\n",
    "inst_list.append(awg5014)\n",
    "\n",
    "from qcodes.instrument_drivers.rohde_schwarz.SGS100A import RohdeSchwarz_SGS100A\n",
    "LO = instools.create_inst(RohdeSchwarz_SGS100A, 'LO', address=\"TCPIP0::169.254.234.107\")\n",
    "RF = instools.create_inst(RohdeSchwarz_SGS100A, 'RF', address=\"TCPIP0::169.254.2.20\")\n",
    "\n",
    "het_src = instools.create_inst(HeterodyneSource, 'het_src', LO=LO, RF=RF)\n",
    "inst_list.append(het_src)\n",
    "\n",
    "inst_list.append(ivvi)\n",
    "inst_list.append(key1)\n",
    "inst_list.append(key2)\n",
    "inst_list.append(lockin1)\n",
    "inst_list.append(ami)"
   ]
  },
  {
   "cell_type": "code",
   "execution_count": 183,
   "metadata": {
    "ExecuteTime": {
     "end_time": "2018-07-10T12:19:49.474881Z",
     "start_time": "2018-07-10T12:19:49.083107Z"
    }
   },
   "outputs": [
    {
     "data": {
      "text/plain": [
       "{'firmware': None,\n",
       " 'model': 'ATS9360',\n",
       " 'max_samples': 4294967294,\n",
       " 'bits_per_sample': 12,\n",
       " 'serial': '970363',\n",
       " 'vendor': 'AlazarTech',\n",
       " 'CPLD_version': '25.16',\n",
       " 'driver_version': '6.0.0',\n",
       " 'SDK_version': '6.0.0',\n",
       " 'latest_cal_date': '14-09-17',\n",
       " 'memory_size': '4294967294',\n",
       " 'asopc_type': '1779729248',\n",
       " 'pcie_link_speed': '0.5GB/s',\n",
       " 'pcie_link_width': '8'}"
      ]
     },
     "execution_count": 183,
     "metadata": {},
     "output_type": "execute_result"
    }
   ],
   "source": [
    "alazar.IDN()"
   ]
  },
  {
   "cell_type": "code",
   "execution_count": 11,
   "metadata": {
    "ExecuteTime": {
     "end_time": "2018-07-10T04:55:30.179698Z",
     "start_time": "2018-07-10T04:55:30.175701Z"
    }
   },
   "outputs": [
    {
     "name": "stderr",
     "output_type": "stream",
     "text": [
      "d:\\onedrive\\bf1\\code\\qcodes\\qcodes\\instrument\\parameter.py:518: UserWarning: set_step is deprecated use step property as in `inst.step = stepvalue` instead\n",
      "  \"set_step is deprecated use step property as in `inst.step = \"\n",
      "d:\\onedrive\\bf1\\code\\qcodes\\qcodes\\instrument\\parameter.py:530: UserWarning: set_delay is deprecated use inter_delay or post_delay property as in `inst.inter_delay = delayvalue` instead\n",
      "  \"set_delay is deprecated use inter_delay or post_delay property \"\n"
     ]
    }
   ],
   "source": [
    "for i in range(1,16):\n",
    "    ivvi.parameters['dac{}'.format(i)].set_step(10)\n",
    "    ivvi.parameters['dac{}'.format(i)].set_delay(0.001)\n",
    "\n",
    "ivvi.dac4.set_delay(0.001)\n",
    "ivvi.dac4.set_step(20)"
   ]
  },
  {
   "cell_type": "code",
   "execution_count": 12,
   "metadata": {
    "ExecuteTime": {
     "end_time": "2018-07-10T04:55:30.852522Z",
     "start_time": "2018-07-10T04:55:30.180698Z"
    }
   },
   "outputs": [
    {
     "name": "stdout",
     "output_type": "stream",
     "text": [
      "Connected to: Mini-Circuits MN=RUDAT-13G-90 (serial:\u0016\u001fDEC9-2210002, firmware:C9-2) in 0.60s\n"
     ]
    }
   ],
   "source": [
    "from qcodes.instrument_drivers.Minicircuits.RUDAT_13G_90 import RUDAT_13G_90_USB\n",
    "ro_attenuator = instools.create_inst(RUDAT_13G_90_USB, 'ro_attenuator')\n",
    "inst_list.append(ro_attenuator)"
   ]
  },
  {
   "cell_type": "code",
   "execution_count": 13,
   "metadata": {
    "ExecuteTime": {
     "end_time": "2018-07-10T04:55:35.368688Z",
     "start_time": "2018-07-10T04:55:30.854516Z"
    }
   },
   "outputs": [
    {
     "name": "stderr",
     "output_type": "stream",
     "text": [
      "Snapshot: Could not update parameter:clock_source\n",
      "Snapshot: Could not update parameter:external_sample_rate\n",
      "Snapshot: Could not update parameter:sample_rate\n",
      "Snapshot: Could not update parameter:clock_edge\n",
      "Snapshot: Could not update parameter:decimation\n",
      "Snapshot: Could not update parameter:coupling1\n",
      "Snapshot: Could not update parameter:channel_range1\n",
      "Snapshot: Could not update parameter:impedance1\n",
      "Snapshot: Could not update parameter:coupling2\n",
      "Snapshot: Could not update parameter:channel_range2\n",
      "Snapshot: Could not update parameter:impedance2\n",
      "Snapshot: Could not update parameter:trigger_operation\n",
      "Snapshot: Could not update parameter:trigger_engine1\n",
      "Snapshot: Could not update parameter:trigger_source1\n",
      "Snapshot: Could not update parameter:trigger_slope1\n",
      "Snapshot: Could not update parameter:trigger_level1\n",
      "Snapshot: Could not update parameter:trigger_engine2\n",
      "Snapshot: Could not update parameter:trigger_source2\n",
      "Snapshot: Could not update parameter:trigger_slope2\n",
      "Snapshot: Could not update parameter:trigger_level2\n",
      "Snapshot: Could not update parameter:external_trigger_coupling\n",
      "Snapshot: Could not update parameter:external_trigger_range\n",
      "Snapshot: Could not update parameter:trigger_delay\n",
      "Snapshot: Could not update parameter:timeout_ticks\n",
      "Snapshot: Could not update parameter:aux_io_mode\n",
      "Snapshot: Could not update parameter:aux_io_param\n",
      "Snapshot: Could not update parameter:mode\n",
      "Snapshot: Could not update parameter:samples_per_record\n",
      "Snapshot: Could not update parameter:records_per_buffer\n",
      "Snapshot: Could not update parameter:buffers_per_acquisition\n",
      "Snapshot: Could not update parameter:channel_selection\n",
      "Snapshot: Could not update parameter:transfer_offset\n",
      "Snapshot: Could not update parameter:external_startcapture\n",
      "Snapshot: Could not update parameter:enable_record_headers\n",
      "Snapshot: Could not update parameter:alloc_buffers\n",
      "Snapshot: Could not update parameter:fifo_only_streaming\n",
      "Snapshot: Could not update parameter:interleave_samples\n",
      "Snapshot: Could not update parameter:get_processed_data\n",
      "Snapshot: Could not update parameter:allocated_buffers\n",
      "Snapshot: Could not update parameter:buffer_timeout\n",
      "Snapshot: Could not update parameter:sample_rate\n",
      "Snapshot: Could not update parameter:samples_per_record\n",
      "Snapshot: Could not update parameter:records_per_buffer\n",
      "Snapshot: Could not update parameter:buffers_per_acquisition\n",
      "Snapshot: Could not update parameter:sample_rate\n",
      "Snapshot: Could not update parameter:samples_per_record\n",
      "Snapshot: Could not update parameter:records_per_buffer\n",
      "Snapshot: Could not update parameter:buffers_per_acquisition\n",
      "Snapshot: Could not update parameter:sample_rate\n",
      "Snapshot: Could not update parameter:samples_per_record\n",
      "Snapshot: Could not update parameter:records_per_buffer\n",
      "Snapshot: Could not update parameter:buffers_per_acquisition\n",
      "Snapshot: Could not update parameter:sample_rate\n",
      "Snapshot: Could not update parameter:samples_per_record\n",
      "Snapshot: Could not update parameter:records_per_buffer\n",
      "Snapshot: Could not update parameter:buffers_per_acquisition\n",
      "Snapshot: Could not update parameter:sample_rate\n",
      "Snapshot: Could not update parameter:samples_per_record\n",
      "Snapshot: Could not update parameter:records_per_buffer\n",
      "Snapshot: Could not update parameter:buffers_per_acquisition\n",
      "Snapshot: Could not update parameter:sample_rate\n",
      "Snapshot: Could not update parameter:samples_per_record\n",
      "Snapshot: Could not update parameter:records_per_buffer\n",
      "Snapshot: Could not update parameter:buffers_per_acquisition\n",
      "Snapshot: Could not update parameter:sample_rate\n",
      "Snapshot: Could not update parameter:samples_per_record\n",
      "Snapshot: Could not update parameter:records_per_buffer\n",
      "Snapshot: Could not update parameter:buffers_per_acquisition\n",
      "Snapshot: Could not update parameter:sample_rate\n",
      "Snapshot: Could not update parameter:samples_per_record\n",
      "Snapshot: Could not update parameter:records_per_buffer\n",
      "Snapshot: Could not update parameter:buffers_per_acquisition\n"
     ]
    }
   ],
   "source": [
    "station = qc.Station(*inst_list)"
   ]
  },
  {
   "cell_type": "markdown",
   "metadata": {},
   "source": [
    "### Alazar + AWG"
   ]
  },
  {
   "cell_type": "code",
   "execution_count": 147,
   "metadata": {
    "ExecuteTime": {
     "end_time": "2018-07-10T05:48:18.272859Z",
     "start_time": "2018-07-10T05:48:18.258871Z"
    }
   },
   "outputs": [],
   "source": [
    "SAMPLE = 'Cq334'\n",
    "AWG_CHANS = {\n",
    "        1 : ['awg_voltage', 'alz_mrkr', None],\n",
    "#         1 : ['ro', 'alz_mrkr', None],\n",
    "    }\n",
    "\n",
    "RF.frequency(3e8)\n",
    "\n",
    "IF = 8e6\n",
    "\n",
    "het_src.IF(IF)\n",
    "het_src.frequency(het_src.frequency())\n",
    "\n",
    "\n",
    "LO.power(15)\n",
    "RF.power(-10)\n",
    "\n",
    "ro_attenuator.attenuation(30)"
   ]
  },
  {
   "cell_type": "code",
   "execution_count": 148,
   "metadata": {
    "ExecuteTime": {
     "end_time": "2018-07-10T05:48:21.637449Z",
     "start_time": "2018-07-10T05:48:21.429516Z"
    }
   },
   "outputs": [
    {
     "data": {
      "text/plain": [
       "30.0"
      ]
     },
     "execution_count": 148,
     "metadata": {},
     "output_type": "execute_result"
    }
   ],
   "source": [
    "ro_attenuator.attenuation()"
   ]
  },
  {
   "cell_type": "code",
   "execution_count": 149,
   "metadata": {
    "ExecuteTime": {
     "end_time": "2018-07-10T05:48:23.991826Z",
     "start_time": "2018-07-10T05:48:23.972837Z"
    }
   },
   "outputs": [
    {
     "name": "stdout",
     "output_type": "stream",
     "text": [
      "Instrument awg_spec_sweep already exists.\n",
      "Instrument avg_detector already exists.\n",
      "Instrument avgdemod_detector already exists.\n",
      "Instrument avgiq_detector already exists.\n",
      "Instrument iq_detector already exists.\n"
     ]
    }
   ],
   "source": [
    "awg_spec_sweep = create_inst(SimpleAWGSpec, 'awg_spec_sweep', awg=awg5014, chan_map=AWG_CHANS, force_new_instance=True)\n",
    "station = add2station(station, awg_spec_sweep)\n",
    "\n",
    "avg_detector = create_inst(AlazarDetector, name='avg_detector', \n",
    "                           acqctl=avg_acq, force_new_instance=True)\n",
    "station = add2station(station, avg_detector)\n",
    "\n",
    "avgdemod_detector = create_inst(AlazarDetector, name='avgdemod_detector', \n",
    "                                acqctl=avgdemod_acq, force_new_instance=True)\n",
    "station = add2station(station, avgdemod_detector)\n",
    "\n",
    "avgiq_detector = create_inst(AlazarDetector, name='avgiq_detector', \n",
    "                             acqctl=avgiq_acq, force_new_instance=True)\n",
    "station = add2station(station, avgiq_detector)\n",
    "\n",
    "iq_detector = create_inst(AlazarDetector, name='iq_detector', acqctl=iq_acq, force_new_instance=True)\n",
    "station = add2station(station, iq_detector)"
   ]
  },
  {
   "cell_type": "code",
   "execution_count": 150,
   "metadata": {
    "ExecuteTime": {
     "end_time": "2018-07-10T05:48:24.345157Z",
     "start_time": "2018-07-10T05:48:24.339158Z"
    }
   },
   "outputs": [
    {
     "name": "stdout",
     "output_type": "stream",
     "text": [
      "Instrument awg_ramp already exists.\n"
     ]
    }
   ],
   "source": [
    "awg_ramp = create_inst(AWGGateRamp1D, 'awg_ramp', awg=awg5014, chan_map=AWG_CHANS, force_new_instance=True)\n",
    "station = add2station(station, awg_ramp)"
   ]
  },
  {
   "cell_type": "code",
   "execution_count": 151,
   "metadata": {
    "ExecuteTime": {
     "end_time": "2018-07-10T05:48:28.812262Z",
     "start_time": "2018-07-10T05:48:28.675810Z"
    }
   },
   "outputs": [],
   "source": [
    "### Configure ATS settings\n",
    "\n",
    "ats_settings = dict(\n",
    "    clock_source='INTERNAL_CLOCK',\n",
    "    sample_rate=int(2e8),\n",
    "    clock_edge='CLOCK_EDGE_RISING',\n",
    "    decimation=1,\n",
    "    coupling=['DC','DC'],\n",
    "    channel_range=[.4, .4],\n",
    "    impedance=[50, 50],\n",
    "    trigger_operation='TRIG_ENGINE_OP_J',\n",
    "    trigger_engine1='TRIG_ENGINE_J',\n",
    "    trigger_source1='EXTERNAL',\n",
    "    trigger_slope1='TRIG_SLOPE_POSITIVE',\n",
    "    trigger_level1=128+20,\n",
    "    trigger_engine2='TRIG_ENGINE_K',\n",
    "    trigger_source2='DISABLE',\n",
    "    trigger_slope2='TRIG_SLOPE_POSITIVE',\n",
    "    trigger_level2=128+5,\n",
    "    external_trigger_coupling='DC',\n",
    "    external_trigger_range='ETR_2V5',\n",
    "    trigger_delay=0,\n",
    "    timeout_ticks=int(1e7),\n",
    "    aux_io_mode='AUX_IN_AUXILIARY',\n",
    "    aux_io_param='NONE',\n",
    ")\n",
    "\n",
    "station.alazar.config(**ats_settings)\n",
    "\n",
    "\n",
    "### Trigger the acquisition controllers\n",
    "\n",
    "def trigger_func(do_start):\n",
    "#     print('calling trigger func with argument', do_start)\n",
    "    if do_start:\n",
    "#         print('start AWG')\n",
    "        station.awg5014.start()\n",
    "    else:\n",
    "#         print('stop AWG')\n",
    "        station.awg5014.stop()\n",
    "    \n",
    "def dummy_trigger_func(do_start):\n",
    "    pass\n",
    "\n",
    "for ctl in [iq_acq, avgdemod_acq, avgiq_acq]:\n",
    "    ctl.trigger_func = trigger_func\n",
    "    ctl.demod_frq(IF)\n",
    "    \n",
    "for det in [iq_detector, avgdemod_detector, avgiq_detector]:\n",
    "    det.demod_frq(IF)\n",
    "\n",
    "# avgiq_acq.trigger_func = dummy_trigger_func"
   ]
  },
  {
   "cell_type": "code",
   "execution_count": 89,
   "metadata": {
    "ExecuteTime": {
     "end_time": "2018-07-10T05:19:44.307207Z",
     "start_time": "2018-07-10T05:19:44.292192Z"
    }
   },
   "outputs": [
    {
     "name": "stdout",
     "output_type": "stream",
     "text": [
      "Instrument ivvi_setup already exists.\n"
     ]
    }
   ],
   "source": [
    "ivvi_setup = create_inst(IVVISetup, 'ivvi_setup', ivvi=ivvi, force_new_instance=True)\n",
    "ivvi_setup.voltage_multiplier(10e-3)\n",
    "ivvi_setup.gate_multiplier(1)\n",
    "\n",
    "\n",
    "dev1_line_r = 10e3 + 3.4e3 #1.7e3 from Qfilter, 5e3 for DC-only on PCB, 10e3 for RF on PCB, 3e3 for 8x MUX bias-T\n",
    "# dev1_line_r = 0\n",
    "\n",
    "\n",
    "dev1_rs = dev1_line_r + ivvi_setup.M1b_R_in()\n",
    "\n",
    "dev1_Vac = lockin1.amplitude()*ivvi_setup.iso_in_multiplier()*ivvi_setup.voltage_multiplier()\n",
    "\n",
    "ivvi_setup.add_parameter('i_measurement', parameter_class=ConversionParameter, unit='A',\n",
    "                         src_param=key1.volt, get_conv=lambda x: x / ivvi_setup.M1b_gain())\n",
    "ivvi_setup.add_parameter('ig_measurement', parameter_class=ConversionParameter, unit='A',\n",
    "                         src_param=key2.volt, get_conv=lambda x: x / ivvi_setup.M1b_gain())\n",
    "\n",
    "ivvi_setup.add_parameter('g_measurement', parameter_class=ConversionParameter, unit='2e2/h',\n",
    "                         src_param=lockin1.X, get_conv=lambda x: 12906/(dev1_Vac*ivvi_setup.M1b_gain()/x - dev1_rs))"
   ]
  },
  {
   "cell_type": "code",
   "execution_count": 90,
   "metadata": {
    "ExecuteTime": {
     "end_time": "2018-07-10T05:19:44.782938Z",
     "start_time": "2018-07-10T05:19:44.751930Z"
    }
   },
   "outputs": [
    {
     "name": "stdout",
     "output_type": "stream",
     "text": [
      "R_in:  12000.0\n",
      "Rs_1:  16400.0\n"
     ]
    }
   ],
   "source": [
    "ivvi_setup.M1b_gain(1e7)\n",
    "ivvi_setup.M1b_mode('low_noise')\n",
    "\n",
    "key1.NPLC(1)\n",
    "key2.NPLC(1)\n",
    "\n",
    "print('R_in: ', ivvi_setup.M1b_R_in())\n",
    "print('Rs_1: ', dev1_rs)"
   ]
  },
  {
   "cell_type": "markdown",
   "metadata": {},
   "source": [
    "### Test Alazar acquisition"
   ]
  },
  {
   "cell_type": "code",
   "execution_count": 97,
   "metadata": {
    "ExecuteTime": {
     "end_time": "2018-07-10T05:27:21.557324Z",
     "start_time": "2018-07-10T05:27:19.810777Z"
    }
   },
   "outputs": [],
   "source": [
    "awg_spec_sweep.sample_rate(1e9)\n",
    "# sequence length (in s). Up to buffers at the edges this is the integration time per AWG sweep.\n",
    "awg_spec_sweep.seq_len(100e-6)\n",
    "# and setup the sequence (will program the awg)\n",
    "awg_spec_sweep.setup()"
   ]
  },
  {
   "cell_type": "code",
   "execution_count": 98,
   "metadata": {
    "ExecuteTime": {
     "end_time": "2018-07-10T05:27:21.568321Z",
     "start_time": "2018-07-10T05:27:21.560364Z"
    }
   },
   "outputs": [
    {
     "name": "stdout",
     "output_type": "stream",
     "text": [
      "['awg_sweep_idx', 'IF_periods', 'channels'] (1, 788, 2)\n"
     ]
    }
   ],
   "source": [
    "### Set up the detector\n",
    "\n",
    "# set the sweeper\n",
    "det = avgdemod_detector\n",
    "det.avg_buffers(False)\n",
    "\n",
    "det.set_sweeper(awg_spec_sweep)\n",
    "# acquisition time\n",
    "det.acq_time(awg_spec_sweep.seq_len() - 1e-6)\n",
    "# det.acq_time(100e-3)\n",
    "# demod frequency\n",
    "det.demod_frq(IF)\n",
    "# HW config, and how data is shaped.\n",
    "det.configure_alazar(\n",
    "    records_per_buffer=1,\n",
    "    buffers_per_acquisition=1,\n",
    ")\n",
    "\n",
    "det.setup()\n",
    "\n",
    "print(det.sweep_dims, det.sweep_shape)"
   ]
  },
  {
   "cell_type": "code",
   "execution_count": 99,
   "metadata": {
    "ExecuteTime": {
     "end_time": "2018-07-10T05:27:21.660268Z",
     "start_time": "2018-07-10T05:27:21.571319Z"
    }
   },
   "outputs": [
    {
     "data": {
      "text/plain": [
       "((1, 793, 2), (1, 793, 2))"
      ]
     },
     "execution_count": 99,
     "metadata": {},
     "output_type": "execute_result"
    }
   ],
   "source": [
    "data = det.acquisition()\n",
    "data.shape, det.sweep_shape"
   ]
  },
  {
   "cell_type": "code",
   "execution_count": 100,
   "metadata": {
    "ExecuteTime": {
     "end_time": "2018-07-10T05:27:21.773212Z",
     "start_time": "2018-07-10T05:27:21.666265Z"
    }
   },
   "outputs": [
    {
     "data": {
      "application/javascript": [
       "/* Put everything inside the global mpl namespace */\n",
       "window.mpl = {};\n",
       "\n",
       "\n",
       "mpl.get_websocket_type = function() {\n",
       "    if (typeof(WebSocket) !== 'undefined') {\n",
       "        return WebSocket;\n",
       "    } else if (typeof(MozWebSocket) !== 'undefined') {\n",
       "        return MozWebSocket;\n",
       "    } else {\n",
       "        alert('Your browser does not have WebSocket support.' +\n",
       "              'Please try Chrome, Safari or Firefox ≥ 6. ' +\n",
       "              'Firefox 4 and 5 are also supported but you ' +\n",
       "              'have to enable WebSockets in about:config.');\n",
       "    };\n",
       "}\n",
       "\n",
       "mpl.figure = function(figure_id, websocket, ondownload, parent_element) {\n",
       "    this.id = figure_id;\n",
       "\n",
       "    this.ws = websocket;\n",
       "\n",
       "    this.supports_binary = (this.ws.binaryType != undefined);\n",
       "\n",
       "    if (!this.supports_binary) {\n",
       "        var warnings = document.getElementById(\"mpl-warnings\");\n",
       "        if (warnings) {\n",
       "            warnings.style.display = 'block';\n",
       "            warnings.textContent = (\n",
       "                \"This browser does not support binary websocket messages. \" +\n",
       "                    \"Performance may be slow.\");\n",
       "        }\n",
       "    }\n",
       "\n",
       "    this.imageObj = new Image();\n",
       "\n",
       "    this.context = undefined;\n",
       "    this.message = undefined;\n",
       "    this.canvas = undefined;\n",
       "    this.rubberband_canvas = undefined;\n",
       "    this.rubberband_context = undefined;\n",
       "    this.format_dropdown = undefined;\n",
       "\n",
       "    this.image_mode = 'full';\n",
       "\n",
       "    this.root = $('<div/>');\n",
       "    this._root_extra_style(this.root)\n",
       "    this.root.attr('style', 'display: inline-block');\n",
       "\n",
       "    $(parent_element).append(this.root);\n",
       "\n",
       "    this._init_header(this);\n",
       "    this._init_canvas(this);\n",
       "    this._init_toolbar(this);\n",
       "\n",
       "    var fig = this;\n",
       "\n",
       "    this.waiting = false;\n",
       "\n",
       "    this.ws.onopen =  function () {\n",
       "            fig.send_message(\"supports_binary\", {value: fig.supports_binary});\n",
       "            fig.send_message(\"send_image_mode\", {});\n",
       "            if (mpl.ratio != 1) {\n",
       "                fig.send_message(\"set_dpi_ratio\", {'dpi_ratio': mpl.ratio});\n",
       "            }\n",
       "            fig.send_message(\"refresh\", {});\n",
       "        }\n",
       "\n",
       "    this.imageObj.onload = function() {\n",
       "            if (fig.image_mode == 'full') {\n",
       "                // Full images could contain transparency (where diff images\n",
       "                // almost always do), so we need to clear the canvas so that\n",
       "                // there is no ghosting.\n",
       "                fig.context.clearRect(0, 0, fig.canvas.width, fig.canvas.height);\n",
       "            }\n",
       "            fig.context.drawImage(fig.imageObj, 0, 0);\n",
       "        };\n",
       "\n",
       "    this.imageObj.onunload = function() {\n",
       "        this.ws.close();\n",
       "    }\n",
       "\n",
       "    this.ws.onmessage = this._make_on_message_function(this);\n",
       "\n",
       "    this.ondownload = ondownload;\n",
       "}\n",
       "\n",
       "mpl.figure.prototype._init_header = function() {\n",
       "    var titlebar = $(\n",
       "        '<div class=\"ui-dialog-titlebar ui-widget-header ui-corner-all ' +\n",
       "        'ui-helper-clearfix\"/>');\n",
       "    var titletext = $(\n",
       "        '<div class=\"ui-dialog-title\" style=\"width: 100%; ' +\n",
       "        'text-align: center; padding: 3px;\"/>');\n",
       "    titlebar.append(titletext)\n",
       "    this.root.append(titlebar);\n",
       "    this.header = titletext[0];\n",
       "}\n",
       "\n",
       "\n",
       "\n",
       "mpl.figure.prototype._canvas_extra_style = function(canvas_div) {\n",
       "\n",
       "}\n",
       "\n",
       "\n",
       "mpl.figure.prototype._root_extra_style = function(canvas_div) {\n",
       "\n",
       "}\n",
       "\n",
       "mpl.figure.prototype._init_canvas = function() {\n",
       "    var fig = this;\n",
       "\n",
       "    var canvas_div = $('<div/>');\n",
       "\n",
       "    canvas_div.attr('style', 'position: relative; clear: both; outline: 0');\n",
       "\n",
       "    function canvas_keyboard_event(event) {\n",
       "        return fig.key_event(event, event['data']);\n",
       "    }\n",
       "\n",
       "    canvas_div.keydown('key_press', canvas_keyboard_event);\n",
       "    canvas_div.keyup('key_release', canvas_keyboard_event);\n",
       "    this.canvas_div = canvas_div\n",
       "    this._canvas_extra_style(canvas_div)\n",
       "    this.root.append(canvas_div);\n",
       "\n",
       "    var canvas = $('<canvas/>');\n",
       "    canvas.addClass('mpl-canvas');\n",
       "    canvas.attr('style', \"left: 0; top: 0; z-index: 0; outline: 0\")\n",
       "\n",
       "    this.canvas = canvas[0];\n",
       "    this.context = canvas[0].getContext(\"2d\");\n",
       "\n",
       "    var backingStore = this.context.backingStorePixelRatio ||\n",
       "\tthis.context.webkitBackingStorePixelRatio ||\n",
       "\tthis.context.mozBackingStorePixelRatio ||\n",
       "\tthis.context.msBackingStorePixelRatio ||\n",
       "\tthis.context.oBackingStorePixelRatio ||\n",
       "\tthis.context.backingStorePixelRatio || 1;\n",
       "\n",
       "    mpl.ratio = (window.devicePixelRatio || 1) / backingStore;\n",
       "\n",
       "    var rubberband = $('<canvas/>');\n",
       "    rubberband.attr('style', \"position: absolute; left: 0; top: 0; z-index: 1;\")\n",
       "\n",
       "    var pass_mouse_events = true;\n",
       "\n",
       "    canvas_div.resizable({\n",
       "        start: function(event, ui) {\n",
       "            pass_mouse_events = false;\n",
       "        },\n",
       "        resize: function(event, ui) {\n",
       "            fig.request_resize(ui.size.width, ui.size.height);\n",
       "        },\n",
       "        stop: function(event, ui) {\n",
       "            pass_mouse_events = true;\n",
       "            fig.request_resize(ui.size.width, ui.size.height);\n",
       "        },\n",
       "    });\n",
       "\n",
       "    function mouse_event_fn(event) {\n",
       "        if (pass_mouse_events)\n",
       "            return fig.mouse_event(event, event['data']);\n",
       "    }\n",
       "\n",
       "    rubberband.mousedown('button_press', mouse_event_fn);\n",
       "    rubberband.mouseup('button_release', mouse_event_fn);\n",
       "    // Throttle sequential mouse events to 1 every 20ms.\n",
       "    rubberband.mousemove('motion_notify', mouse_event_fn);\n",
       "\n",
       "    rubberband.mouseenter('figure_enter', mouse_event_fn);\n",
       "    rubberband.mouseleave('figure_leave', mouse_event_fn);\n",
       "\n",
       "    canvas_div.on(\"wheel\", function (event) {\n",
       "        event = event.originalEvent;\n",
       "        event['data'] = 'scroll'\n",
       "        if (event.deltaY < 0) {\n",
       "            event.step = 1;\n",
       "        } else {\n",
       "            event.step = -1;\n",
       "        }\n",
       "        mouse_event_fn(event);\n",
       "    });\n",
       "\n",
       "    canvas_div.append(canvas);\n",
       "    canvas_div.append(rubberband);\n",
       "\n",
       "    this.rubberband = rubberband;\n",
       "    this.rubberband_canvas = rubberband[0];\n",
       "    this.rubberband_context = rubberband[0].getContext(\"2d\");\n",
       "    this.rubberband_context.strokeStyle = \"#000000\";\n",
       "\n",
       "    this._resize_canvas = function(width, height) {\n",
       "        // Keep the size of the canvas, canvas container, and rubber band\n",
       "        // canvas in synch.\n",
       "        canvas_div.css('width', width)\n",
       "        canvas_div.css('height', height)\n",
       "\n",
       "        canvas.attr('width', width * mpl.ratio);\n",
       "        canvas.attr('height', height * mpl.ratio);\n",
       "        canvas.attr('style', 'width: ' + width + 'px; height: ' + height + 'px;');\n",
       "\n",
       "        rubberband.attr('width', width);\n",
       "        rubberband.attr('height', height);\n",
       "    }\n",
       "\n",
       "    // Set the figure to an initial 600x600px, this will subsequently be updated\n",
       "    // upon first draw.\n",
       "    this._resize_canvas(600, 600);\n",
       "\n",
       "    // Disable right mouse context menu.\n",
       "    $(this.rubberband_canvas).bind(\"contextmenu\",function(e){\n",
       "        return false;\n",
       "    });\n",
       "\n",
       "    function set_focus () {\n",
       "        canvas.focus();\n",
       "        canvas_div.focus();\n",
       "    }\n",
       "\n",
       "    window.setTimeout(set_focus, 100);\n",
       "}\n",
       "\n",
       "mpl.figure.prototype._init_toolbar = function() {\n",
       "    var fig = this;\n",
       "\n",
       "    var nav_element = $('<div/>')\n",
       "    nav_element.attr('style', 'width: 100%');\n",
       "    this.root.append(nav_element);\n",
       "\n",
       "    // Define a callback function for later on.\n",
       "    function toolbar_event(event) {\n",
       "        return fig.toolbar_button_onclick(event['data']);\n",
       "    }\n",
       "    function toolbar_mouse_event(event) {\n",
       "        return fig.toolbar_button_onmouseover(event['data']);\n",
       "    }\n",
       "\n",
       "    for(var toolbar_ind in mpl.toolbar_items) {\n",
       "        var name = mpl.toolbar_items[toolbar_ind][0];\n",
       "        var tooltip = mpl.toolbar_items[toolbar_ind][1];\n",
       "        var image = mpl.toolbar_items[toolbar_ind][2];\n",
       "        var method_name = mpl.toolbar_items[toolbar_ind][3];\n",
       "\n",
       "        if (!name) {\n",
       "            // put a spacer in here.\n",
       "            continue;\n",
       "        }\n",
       "        var button = $('<button/>');\n",
       "        button.addClass('ui-button ui-widget ui-state-default ui-corner-all ' +\n",
       "                        'ui-button-icon-only');\n",
       "        button.attr('role', 'button');\n",
       "        button.attr('aria-disabled', 'false');\n",
       "        button.click(method_name, toolbar_event);\n",
       "        button.mouseover(tooltip, toolbar_mouse_event);\n",
       "\n",
       "        var icon_img = $('<span/>');\n",
       "        icon_img.addClass('ui-button-icon-primary ui-icon');\n",
       "        icon_img.addClass(image);\n",
       "        icon_img.addClass('ui-corner-all');\n",
       "\n",
       "        var tooltip_span = $('<span/>');\n",
       "        tooltip_span.addClass('ui-button-text');\n",
       "        tooltip_span.html(tooltip);\n",
       "\n",
       "        button.append(icon_img);\n",
       "        button.append(tooltip_span);\n",
       "\n",
       "        nav_element.append(button);\n",
       "    }\n",
       "\n",
       "    var fmt_picker_span = $('<span/>');\n",
       "\n",
       "    var fmt_picker = $('<select/>');\n",
       "    fmt_picker.addClass('mpl-toolbar-option ui-widget ui-widget-content');\n",
       "    fmt_picker_span.append(fmt_picker);\n",
       "    nav_element.append(fmt_picker_span);\n",
       "    this.format_dropdown = fmt_picker[0];\n",
       "\n",
       "    for (var ind in mpl.extensions) {\n",
       "        var fmt = mpl.extensions[ind];\n",
       "        var option = $(\n",
       "            '<option/>', {selected: fmt === mpl.default_extension}).html(fmt);\n",
       "        fmt_picker.append(option)\n",
       "    }\n",
       "\n",
       "    // Add hover states to the ui-buttons\n",
       "    $( \".ui-button\" ).hover(\n",
       "        function() { $(this).addClass(\"ui-state-hover\");},\n",
       "        function() { $(this).removeClass(\"ui-state-hover\");}\n",
       "    );\n",
       "\n",
       "    var status_bar = $('<span class=\"mpl-message\"/>');\n",
       "    nav_element.append(status_bar);\n",
       "    this.message = status_bar[0];\n",
       "}\n",
       "\n",
       "mpl.figure.prototype.request_resize = function(x_pixels, y_pixels) {\n",
       "    // Request matplotlib to resize the figure. Matplotlib will then trigger a resize in the client,\n",
       "    // which will in turn request a refresh of the image.\n",
       "    this.send_message('resize', {'width': x_pixels, 'height': y_pixels});\n",
       "}\n",
       "\n",
       "mpl.figure.prototype.send_message = function(type, properties) {\n",
       "    properties['type'] = type;\n",
       "    properties['figure_id'] = this.id;\n",
       "    this.ws.send(JSON.stringify(properties));\n",
       "}\n",
       "\n",
       "mpl.figure.prototype.send_draw_message = function() {\n",
       "    if (!this.waiting) {\n",
       "        this.waiting = true;\n",
       "        this.ws.send(JSON.stringify({type: \"draw\", figure_id: this.id}));\n",
       "    }\n",
       "}\n",
       "\n",
       "\n",
       "mpl.figure.prototype.handle_save = function(fig, msg) {\n",
       "    var format_dropdown = fig.format_dropdown;\n",
       "    var format = format_dropdown.options[format_dropdown.selectedIndex].value;\n",
       "    fig.ondownload(fig, format);\n",
       "}\n",
       "\n",
       "\n",
       "mpl.figure.prototype.handle_resize = function(fig, msg) {\n",
       "    var size = msg['size'];\n",
       "    if (size[0] != fig.canvas.width || size[1] != fig.canvas.height) {\n",
       "        fig._resize_canvas(size[0], size[1]);\n",
       "        fig.send_message(\"refresh\", {});\n",
       "    };\n",
       "}\n",
       "\n",
       "mpl.figure.prototype.handle_rubberband = function(fig, msg) {\n",
       "    var x0 = msg['x0'] / mpl.ratio;\n",
       "    var y0 = (fig.canvas.height - msg['y0']) / mpl.ratio;\n",
       "    var x1 = msg['x1'] / mpl.ratio;\n",
       "    var y1 = (fig.canvas.height - msg['y1']) / mpl.ratio;\n",
       "    x0 = Math.floor(x0) + 0.5;\n",
       "    y0 = Math.floor(y0) + 0.5;\n",
       "    x1 = Math.floor(x1) + 0.5;\n",
       "    y1 = Math.floor(y1) + 0.5;\n",
       "    var min_x = Math.min(x0, x1);\n",
       "    var min_y = Math.min(y0, y1);\n",
       "    var width = Math.abs(x1 - x0);\n",
       "    var height = Math.abs(y1 - y0);\n",
       "\n",
       "    fig.rubberband_context.clearRect(\n",
       "        0, 0, fig.canvas.width, fig.canvas.height);\n",
       "\n",
       "    fig.rubberband_context.strokeRect(min_x, min_y, width, height);\n",
       "}\n",
       "\n",
       "mpl.figure.prototype.handle_figure_label = function(fig, msg) {\n",
       "    // Updates the figure title.\n",
       "    fig.header.textContent = msg['label'];\n",
       "}\n",
       "\n",
       "mpl.figure.prototype.handle_cursor = function(fig, msg) {\n",
       "    var cursor = msg['cursor'];\n",
       "    switch(cursor)\n",
       "    {\n",
       "    case 0:\n",
       "        cursor = 'pointer';\n",
       "        break;\n",
       "    case 1:\n",
       "        cursor = 'default';\n",
       "        break;\n",
       "    case 2:\n",
       "        cursor = 'crosshair';\n",
       "        break;\n",
       "    case 3:\n",
       "        cursor = 'move';\n",
       "        break;\n",
       "    }\n",
       "    fig.rubberband_canvas.style.cursor = cursor;\n",
       "}\n",
       "\n",
       "mpl.figure.prototype.handle_message = function(fig, msg) {\n",
       "    fig.message.textContent = msg['message'];\n",
       "}\n",
       "\n",
       "mpl.figure.prototype.handle_draw = function(fig, msg) {\n",
       "    // Request the server to send over a new figure.\n",
       "    fig.send_draw_message();\n",
       "}\n",
       "\n",
       "mpl.figure.prototype.handle_image_mode = function(fig, msg) {\n",
       "    fig.image_mode = msg['mode'];\n",
       "}\n",
       "\n",
       "mpl.figure.prototype.updated_canvas_event = function() {\n",
       "    // Called whenever the canvas gets updated.\n",
       "    this.send_message(\"ack\", {});\n",
       "}\n",
       "\n",
       "// A function to construct a web socket function for onmessage handling.\n",
       "// Called in the figure constructor.\n",
       "mpl.figure.prototype._make_on_message_function = function(fig) {\n",
       "    return function socket_on_message(evt) {\n",
       "        if (evt.data instanceof Blob) {\n",
       "            /* FIXME: We get \"Resource interpreted as Image but\n",
       "             * transferred with MIME type text/plain:\" errors on\n",
       "             * Chrome.  But how to set the MIME type?  It doesn't seem\n",
       "             * to be part of the websocket stream */\n",
       "            evt.data.type = \"image/png\";\n",
       "\n",
       "            /* Free the memory for the previous frames */\n",
       "            if (fig.imageObj.src) {\n",
       "                (window.URL || window.webkitURL).revokeObjectURL(\n",
       "                    fig.imageObj.src);\n",
       "            }\n",
       "\n",
       "            fig.imageObj.src = (window.URL || window.webkitURL).createObjectURL(\n",
       "                evt.data);\n",
       "            fig.updated_canvas_event();\n",
       "            fig.waiting = false;\n",
       "            return;\n",
       "        }\n",
       "        else if (typeof evt.data === 'string' && evt.data.slice(0, 21) == \"data:image/png;base64\") {\n",
       "            fig.imageObj.src = evt.data;\n",
       "            fig.updated_canvas_event();\n",
       "            fig.waiting = false;\n",
       "            return;\n",
       "        }\n",
       "\n",
       "        var msg = JSON.parse(evt.data);\n",
       "        var msg_type = msg['type'];\n",
       "\n",
       "        // Call the  \"handle_{type}\" callback, which takes\n",
       "        // the figure and JSON message as its only arguments.\n",
       "        try {\n",
       "            var callback = fig[\"handle_\" + msg_type];\n",
       "        } catch (e) {\n",
       "            console.log(\"No handler for the '\" + msg_type + \"' message type: \", msg);\n",
       "            return;\n",
       "        }\n",
       "\n",
       "        if (callback) {\n",
       "            try {\n",
       "                // console.log(\"Handling '\" + msg_type + \"' message: \", msg);\n",
       "                callback(fig, msg);\n",
       "            } catch (e) {\n",
       "                console.log(\"Exception inside the 'handler_\" + msg_type + \"' callback:\", e, e.stack, msg);\n",
       "            }\n",
       "        }\n",
       "    };\n",
       "}\n",
       "\n",
       "// from http://stackoverflow.com/questions/1114465/getting-mouse-location-in-canvas\n",
       "mpl.findpos = function(e) {\n",
       "    //this section is from http://www.quirksmode.org/js/events_properties.html\n",
       "    var targ;\n",
       "    if (!e)\n",
       "        e = window.event;\n",
       "    if (e.target)\n",
       "        targ = e.target;\n",
       "    else if (e.srcElement)\n",
       "        targ = e.srcElement;\n",
       "    if (targ.nodeType == 3) // defeat Safari bug\n",
       "        targ = targ.parentNode;\n",
       "\n",
       "    // jQuery normalizes the pageX and pageY\n",
       "    // pageX,Y are the mouse positions relative to the document\n",
       "    // offset() returns the position of the element relative to the document\n",
       "    var x = e.pageX - $(targ).offset().left;\n",
       "    var y = e.pageY - $(targ).offset().top;\n",
       "\n",
       "    return {\"x\": x, \"y\": y};\n",
       "};\n",
       "\n",
       "/*\n",
       " * return a copy of an object with only non-object keys\n",
       " * we need this to avoid circular references\n",
       " * http://stackoverflow.com/a/24161582/3208463\n",
       " */\n",
       "function simpleKeys (original) {\n",
       "  return Object.keys(original).reduce(function (obj, key) {\n",
       "    if (typeof original[key] !== 'object')\n",
       "        obj[key] = original[key]\n",
       "    return obj;\n",
       "  }, {});\n",
       "}\n",
       "\n",
       "mpl.figure.prototype.mouse_event = function(event, name) {\n",
       "    var canvas_pos = mpl.findpos(event)\n",
       "\n",
       "    if (name === 'button_press')\n",
       "    {\n",
       "        this.canvas.focus();\n",
       "        this.canvas_div.focus();\n",
       "    }\n",
       "\n",
       "    var x = canvas_pos.x * mpl.ratio;\n",
       "    var y = canvas_pos.y * mpl.ratio;\n",
       "\n",
       "    this.send_message(name, {x: x, y: y, button: event.button,\n",
       "                             step: event.step,\n",
       "                             guiEvent: simpleKeys(event)});\n",
       "\n",
       "    /* This prevents the web browser from automatically changing to\n",
       "     * the text insertion cursor when the button is pressed.  We want\n",
       "     * to control all of the cursor setting manually through the\n",
       "     * 'cursor' event from matplotlib */\n",
       "    event.preventDefault();\n",
       "    return false;\n",
       "}\n",
       "\n",
       "mpl.figure.prototype._key_event_extra = function(event, name) {\n",
       "    // Handle any extra behaviour associated with a key event\n",
       "}\n",
       "\n",
       "mpl.figure.prototype.key_event = function(event, name) {\n",
       "\n",
       "    // Prevent repeat events\n",
       "    if (name == 'key_press')\n",
       "    {\n",
       "        if (event.which === this._key)\n",
       "            return;\n",
       "        else\n",
       "            this._key = event.which;\n",
       "    }\n",
       "    if (name == 'key_release')\n",
       "        this._key = null;\n",
       "\n",
       "    var value = '';\n",
       "    if (event.ctrlKey && event.which != 17)\n",
       "        value += \"ctrl+\";\n",
       "    if (event.altKey && event.which != 18)\n",
       "        value += \"alt+\";\n",
       "    if (event.shiftKey && event.which != 16)\n",
       "        value += \"shift+\";\n",
       "\n",
       "    value += 'k';\n",
       "    value += event.which.toString();\n",
       "\n",
       "    this._key_event_extra(event, name);\n",
       "\n",
       "    this.send_message(name, {key: value,\n",
       "                             guiEvent: simpleKeys(event)});\n",
       "    return false;\n",
       "}\n",
       "\n",
       "mpl.figure.prototype.toolbar_button_onclick = function(name) {\n",
       "    if (name == 'download') {\n",
       "        this.handle_save(this, null);\n",
       "    } else {\n",
       "        this.send_message(\"toolbar_button\", {name: name});\n",
       "    }\n",
       "};\n",
       "\n",
       "mpl.figure.prototype.toolbar_button_onmouseover = function(tooltip) {\n",
       "    this.message.textContent = tooltip;\n",
       "};\n",
       "mpl.toolbar_items = [[\"Home\", \"Reset original view\", \"fa fa-home icon-home\", \"home\"], [\"Back\", \"Back to  previous view\", \"fa fa-arrow-left icon-arrow-left\", \"back\"], [\"Forward\", \"Forward to next view\", \"fa fa-arrow-right icon-arrow-right\", \"forward\"], [\"\", \"\", \"\", \"\"], [\"Pan\", \"Pan axes with left mouse, zoom with right\", \"fa fa-arrows icon-move\", \"pan\"], [\"Zoom\", \"Zoom to rectangle\", \"fa fa-square-o icon-check-empty\", \"zoom\"], [\"\", \"\", \"\", \"\"], [\"Download\", \"Download plot\", \"fa fa-floppy-o icon-save\", \"download\"]];\n",
       "\n",
       "mpl.extensions = [\"eps\", \"pdf\", \"png\", \"ps\", \"raw\", \"svg\"];\n",
       "\n",
       "mpl.default_extension = \"png\";var comm_websocket_adapter = function(comm) {\n",
       "    // Create a \"websocket\"-like object which calls the given IPython comm\n",
       "    // object with the appropriate methods. Currently this is a non binary\n",
       "    // socket, so there is still some room for performance tuning.\n",
       "    var ws = {};\n",
       "\n",
       "    ws.close = function() {\n",
       "        comm.close()\n",
       "    };\n",
       "    ws.send = function(m) {\n",
       "        //console.log('sending', m);\n",
       "        comm.send(m);\n",
       "    };\n",
       "    // Register the callback with on_msg.\n",
       "    comm.on_msg(function(msg) {\n",
       "        //console.log('receiving', msg['content']['data'], msg);\n",
       "        // Pass the mpl event to the overriden (by mpl) onmessage function.\n",
       "        ws.onmessage(msg['content']['data'])\n",
       "    });\n",
       "    return ws;\n",
       "}\n",
       "\n",
       "mpl.mpl_figure_comm = function(comm, msg) {\n",
       "    // This is the function which gets called when the mpl process\n",
       "    // starts-up an IPython Comm through the \"matplotlib\" channel.\n",
       "\n",
       "    var id = msg.content.data.id;\n",
       "    // Get hold of the div created by the display call when the Comm\n",
       "    // socket was opened in Python.\n",
       "    var element = $(\"#\" + id);\n",
       "    var ws_proxy = comm_websocket_adapter(comm)\n",
       "\n",
       "    function ondownload(figure, format) {\n",
       "        window.open(figure.imageObj.src);\n",
       "    }\n",
       "\n",
       "    var fig = new mpl.figure(id, ws_proxy,\n",
       "                           ondownload,\n",
       "                           element.get(0));\n",
       "\n",
       "    // Call onopen now - mpl needs it, as it is assuming we've passed it a real\n",
       "    // web socket which is closed, not our websocket->open comm proxy.\n",
       "    ws_proxy.onopen();\n",
       "\n",
       "    fig.parent_element = element.get(0);\n",
       "    fig.cell_info = mpl.find_output_cell(\"<div id='\" + id + \"'></div>\");\n",
       "    if (!fig.cell_info) {\n",
       "        console.error(\"Failed to find cell for figure\", id, fig);\n",
       "        return;\n",
       "    }\n",
       "\n",
       "    var output_index = fig.cell_info[2]\n",
       "    var cell = fig.cell_info[0];\n",
       "\n",
       "};\n",
       "\n",
       "mpl.figure.prototype.handle_close = function(fig, msg) {\n",
       "    var width = fig.canvas.width/mpl.ratio\n",
       "    fig.root.unbind('remove')\n",
       "\n",
       "    // Update the output cell to use the data from the current canvas.\n",
       "    fig.push_to_output();\n",
       "    var dataURL = fig.canvas.toDataURL();\n",
       "    // Re-enable the keyboard manager in IPython - without this line, in FF,\n",
       "    // the notebook keyboard shortcuts fail.\n",
       "    IPython.keyboard_manager.enable()\n",
       "    $(fig.parent_element).html('<img src=\"' + dataURL + '\" width=\"' + width + '\">');\n",
       "    fig.close_ws(fig, msg);\n",
       "}\n",
       "\n",
       "mpl.figure.prototype.close_ws = function(fig, msg){\n",
       "    fig.send_message('closing', msg);\n",
       "    // fig.ws.close()\n",
       "}\n",
       "\n",
       "mpl.figure.prototype.push_to_output = function(remove_interactive) {\n",
       "    // Turn the data on the canvas into data in the output cell.\n",
       "    var width = this.canvas.width/mpl.ratio\n",
       "    var dataURL = this.canvas.toDataURL();\n",
       "    this.cell_info[1]['text/html'] = '<img src=\"' + dataURL + '\" width=\"' + width + '\">';\n",
       "}\n",
       "\n",
       "mpl.figure.prototype.updated_canvas_event = function() {\n",
       "    // Tell IPython that the notebook contents must change.\n",
       "    IPython.notebook.set_dirty(true);\n",
       "    this.send_message(\"ack\", {});\n",
       "    var fig = this;\n",
       "    // Wait a second, then push the new image to the DOM so\n",
       "    // that it is saved nicely (might be nice to debounce this).\n",
       "    setTimeout(function () { fig.push_to_output() }, 1000);\n",
       "}\n",
       "\n",
       "mpl.figure.prototype._init_toolbar = function() {\n",
       "    var fig = this;\n",
       "\n",
       "    var nav_element = $('<div/>')\n",
       "    nav_element.attr('style', 'width: 100%');\n",
       "    this.root.append(nav_element);\n",
       "\n",
       "    // Define a callback function for later on.\n",
       "    function toolbar_event(event) {\n",
       "        return fig.toolbar_button_onclick(event['data']);\n",
       "    }\n",
       "    function toolbar_mouse_event(event) {\n",
       "        return fig.toolbar_button_onmouseover(event['data']);\n",
       "    }\n",
       "\n",
       "    for(var toolbar_ind in mpl.toolbar_items){\n",
       "        var name = mpl.toolbar_items[toolbar_ind][0];\n",
       "        var tooltip = mpl.toolbar_items[toolbar_ind][1];\n",
       "        var image = mpl.toolbar_items[toolbar_ind][2];\n",
       "        var method_name = mpl.toolbar_items[toolbar_ind][3];\n",
       "\n",
       "        if (!name) { continue; };\n",
       "\n",
       "        var button = $('<button class=\"btn btn-default\" href=\"#\" title=\"' + name + '\"><i class=\"fa ' + image + ' fa-lg\"></i></button>');\n",
       "        button.click(method_name, toolbar_event);\n",
       "        button.mouseover(tooltip, toolbar_mouse_event);\n",
       "        nav_element.append(button);\n",
       "    }\n",
       "\n",
       "    // Add the status bar.\n",
       "    var status_bar = $('<span class=\"mpl-message\" style=\"text-align:right; float: right;\"/>');\n",
       "    nav_element.append(status_bar);\n",
       "    this.message = status_bar[0];\n",
       "\n",
       "    // Add the close button to the window.\n",
       "    var buttongrp = $('<div class=\"btn-group inline pull-right\"></div>');\n",
       "    var button = $('<button class=\"btn btn-mini btn-primary\" href=\"#\" title=\"Stop Interaction\"><i class=\"fa fa-power-off icon-remove icon-large\"></i></button>');\n",
       "    button.click(function (evt) { fig.handle_close(fig, {}); } );\n",
       "    button.mouseover('Stop Interaction', toolbar_mouse_event);\n",
       "    buttongrp.append(button);\n",
       "    var titlebar = this.root.find($('.ui-dialog-titlebar'));\n",
       "    titlebar.prepend(buttongrp);\n",
       "}\n",
       "\n",
       "mpl.figure.prototype._root_extra_style = function(el){\n",
       "    var fig = this\n",
       "    el.on(\"remove\", function(){\n",
       "\tfig.close_ws(fig, {});\n",
       "    });\n",
       "}\n",
       "\n",
       "mpl.figure.prototype._canvas_extra_style = function(el){\n",
       "    // this is important to make the div 'focusable\n",
       "    el.attr('tabindex', 0)\n",
       "    // reach out to IPython and tell the keyboard manager to turn it's self\n",
       "    // off when our div gets focus\n",
       "\n",
       "    // location in version 3\n",
       "    if (IPython.notebook.keyboard_manager) {\n",
       "        IPython.notebook.keyboard_manager.register_events(el);\n",
       "    }\n",
       "    else {\n",
       "        // location in version 2\n",
       "        IPython.keyboard_manager.register_events(el);\n",
       "    }\n",
       "\n",
       "}\n",
       "\n",
       "mpl.figure.prototype._key_event_extra = function(event, name) {\n",
       "    var manager = IPython.notebook.keyboard_manager;\n",
       "    if (!manager)\n",
       "        manager = IPython.keyboard_manager;\n",
       "\n",
       "    // Check for shift+enter\n",
       "    if (event.shiftKey && event.which == 13) {\n",
       "        this.canvas_div.blur();\n",
       "        // select the cell after this one\n",
       "        var index = IPython.notebook.find_cell_index(this.cell_info[0]);\n",
       "        IPython.notebook.select(index + 1);\n",
       "    }\n",
       "}\n",
       "\n",
       "mpl.figure.prototype.handle_save = function(fig, msg) {\n",
       "    fig.ondownload(fig, null);\n",
       "}\n",
       "\n",
       "\n",
       "mpl.find_output_cell = function(html_output) {\n",
       "    // Return the cell and output element which can be found *uniquely* in the notebook.\n",
       "    // Note - this is a bit hacky, but it is done because the \"notebook_saving.Notebook\"\n",
       "    // IPython event is triggered only after the cells have been serialised, which for\n",
       "    // our purposes (turning an active figure into a static one), is too late.\n",
       "    var cells = IPython.notebook.get_cells();\n",
       "    var ncells = cells.length;\n",
       "    for (var i=0; i<ncells; i++) {\n",
       "        var cell = cells[i];\n",
       "        if (cell.cell_type === 'code'){\n",
       "            for (var j=0; j<cell.output_area.outputs.length; j++) {\n",
       "                var data = cell.output_area.outputs[j];\n",
       "                if (data.data) {\n",
       "                    // IPython >= 3 moved mimebundle to data attribute of output\n",
       "                    data = data.data;\n",
       "                }\n",
       "                if (data['text/html'] == html_output) {\n",
       "                    return [cell, data, j];\n",
       "                }\n",
       "            }\n",
       "        }\n",
       "    }\n",
       "}\n",
       "\n",
       "// Register the function which deals with the matplotlib target/channel.\n",
       "// The kernel may be null if the page has been refreshed.\n",
       "if (IPython.notebook.kernel != null) {\n",
       "    IPython.notebook.kernel.comm_manager.register_target('matplotlib', mpl.mpl_figure_comm);\n",
       "}\n"
      ],
      "text/plain": [
       "<IPython.core.display.Javascript object>"
      ]
     },
     "metadata": {},
     "output_type": "display_data"
    },
    {
     "data": {
      "text/html": [
       "<img src=\"data:image/png;base64,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\" width=\"674.4666666666667\">"
      ],
      "text/plain": [
       "<IPython.core.display.HTML object>"
      ]
     },
     "metadata": {},
     "output_type": "display_data"
    },
    {
     "data": {
      "text/plain": [
       "[<matplotlib.lines.Line2D at 0x28ee6a53f60>]"
      ]
     },
     "execution_count": 100,
     "metadata": {},
     "output_type": "execute_result"
    }
   ],
   "source": [
    "fig, axes = plt.subplots(2, 1)\n",
    "\n",
    "ax = axes[0]\n",
    "ax.plot(data[0, :, 0].real)\n",
    "ax.plot(data[0, :, 0].imag)\n",
    "\n",
    "ax = axes[1]\n",
    "ax.plot(data[0, :, 1].real)\n",
    "ax.plot(data[0, :, 1].imag)\n",
    "# ax.plot(np.abs(data[0, :, 1]))"
   ]
  },
  {
   "cell_type": "markdown",
   "metadata": {},
   "source": [
    "# Experiments"
   ]
  },
  {
   "cell_type": "markdown",
   "metadata": {},
   "source": [
    "## Setup RF"
   ]
  },
  {
   "cell_type": "code",
   "execution_count": 101,
   "metadata": {
    "ExecuteTime": {
     "end_time": "2018-07-10T05:27:26.779266Z",
     "start_time": "2018-07-10T05:27:26.754254Z"
    }
   },
   "outputs": [],
   "source": [
    "# demod frequency\n",
    "IF = 8e6\n",
    "\n",
    "# experiment name\n",
    "exp = select_experiment('readout_spec', SAMPLE)\n",
    "\n",
    "# averaging\n",
    "navgs = 10\n",
    "\n",
    "# Spectroscopy frequencies\n",
    "rf_frqs = np.linspace(435e6, 450e6, 101)[:]\n"
   ]
  },
  {
   "cell_type": "code",
   "execution_count": 102,
   "metadata": {
    "ExecuteTime": {
     "end_time": "2018-07-10T05:27:28.962990Z",
     "start_time": "2018-07-10T05:27:27.328925Z"
    }
   },
   "outputs": [],
   "source": [
    "### Set up the Sweeper\n",
    "\n",
    "# AWG sampling rate (in Hz)\n",
    "awg_spec_sweep.sample_rate(1e9)\n",
    "# sequence length (in s). Up to buffers at the edges this is the integration time per AWG sweep.\n",
    "awg_spec_sweep.seq_len(100e-6)\n",
    "# and setup the sequence (will program the awg)\n",
    "awg_spec_sweep.setup()"
   ]
  },
  {
   "cell_type": "code",
   "execution_count": 103,
   "metadata": {
    "ExecuteTime": {
     "end_time": "2018-07-10T05:27:28.972081Z",
     "start_time": "2018-07-10T05:27:28.964988Z"
    }
   },
   "outputs": [
    {
     "name": "stdout",
     "output_type": "stream",
     "text": [
      "['awg_sweep_idx', 'channels'] (1, 2)\n"
     ]
    }
   ],
   "source": [
    "### Set up the detector\n",
    "\n",
    "# det = iq_detector\n",
    "# det = iqrel_detector\n",
    "det = avgiq_detector\n",
    "det.avg_buffers(False)\n",
    "\n",
    "# set the sweeper\n",
    "det.set_sweeper(awg_spec_sweep)\n",
    "# acquisition time\n",
    "det.acq_time(awg_spec_sweep.seq_len() - 2e-6)\n",
    "# demod frequency\n",
    "det.demod_frq(IF)\n",
    "# HW config, and how data is shaped.\n",
    "det.configure_alazar(\n",
    "    records_per_buffer=1,\n",
    "    buffers_per_acquisition=navgs,\n",
    ")\n",
    "det.setup()\n",
    "\n",
    "print(det.sweep_dims, det.sweep_shape)"
   ]
  },
  {
   "cell_type": "markdown",
   "metadata": {},
   "source": [
    "## Frequency scans and RF setup"
   ]
  },
  {
   "cell_type": "markdown",
   "metadata": {
    "heading_collapsed": true
   },
   "source": [
    "### Sweep freq - resonator search"
   ]
  },
  {
   "cell_type": "code",
   "execution_count": null,
   "metadata": {
    "hidden": true
   },
   "outputs": [],
   "source": [
    "# after setting up, we can create the measurement object.\n",
    "# Note: we need to tell it ALL parameters and how they are related. \n",
    "# For simple cases, this wrapper does it.\n",
    "\n",
    "\n",
    "meas = MeasurementExt(station, exp=exp, \n",
    "                      hard_sweep_detector=det,\n",
    "                      soft_sweep_params=[\n",
    "                          het_src.frequency,\n",
    "                      ])\n",
    "\n",
    "# the measurement loop\n",
    "meas.write_period = 1\n",
    "with meas.run() as datasaver:\n",
    "    \n",
    "    datasaver.dataset.subscribe(\n",
    "        QcodesDatasetSubscriber(datasaver.dataset), \n",
    "        state=[], min_wait=0, min_count=1)\n",
    "\n",
    "    for f in rf_frqs:\n",
    "        het_src.frequency(f)\n",
    "        time.sleep(0.01)\n",
    "\n",
    "        det.acquisition()\n",
    "        datasaver.add_result(*meas.get_result())"
   ]
  },
  {
   "cell_type": "markdown",
   "metadata": {
    "heading_collapsed": true
   },
   "source": [
    "### Frequency versus gate"
   ]
  },
  {
   "cell_type": "code",
   "execution_count": null,
   "metadata": {
    "hidden": true
   },
   "outputs": [],
   "source": [
    "# after setting up, we can create the measurement object.\n",
    "# Note: we need to tell it ALL parameters and how they are related. \n",
    "# For simple cases, this wrapper does it.\n",
    "\n",
    "\n",
    "meas = MeasurementExt(station, exp=exp, \n",
    "                      hard_sweep_detector=det,\n",
    "                      soft_sweep_params=[\n",
    "                          het_src.frequency,\n",
    "                          ivvi_setup.dac7,\n",
    "                      ])\n",
    "\n",
    "lockin1.amplitude(0.004)\n",
    "ivvi_setup.dac8(-0.47) #t3\n",
    "ivvi_setup.dac10(0) #t2\n",
    "ivvi_setup.dac11(-0.345) #t4\n",
    "ivvi_setup.dac9(0) #t1\n",
    "ivvi_setup.dac4(0e-3)\n",
    "\n",
    "with meas.run() as datasaver:\n",
    "\n",
    "    datasaver.dataset.subscribe(\n",
    "        QcodesDatasetSubscriber(datasaver.dataset), \n",
    "        state=[], min_wait=0, min_count=1,\n",
    "    )\n",
    "\n",
    "    for r1 in np.linspace(-0.7e-3, 0.3e-3, 25):\n",
    "        ivvi_setup.dac7(r1)\n",
    "\n",
    "        for f in rf_frqs:\n",
    "            het_src.frequency(f)\n",
    "            time.sleep(0.01)\n",
    "\n",
    "            det.acquisition()\n",
    "            datasaver.add_result(*meas.get_result())"
   ]
  },
  {
   "cell_type": "markdown",
   "metadata": {},
   "source": [
    "### Frequency versus magnetic field"
   ]
  },
  {
   "cell_type": "code",
   "execution_count": null,
   "metadata": {
    "ExecuteTime": {
     "end_time": "2018-07-06T12:37:59.356351Z",
     "start_time": "2018-07-06T12:03:15.884173Z"
    }
   },
   "outputs": [],
   "source": [
    "ami_x.pause()\n",
    "ami_y.pause()\n",
    "ami_z.pause()\n",
    "ami.spherical([0,0,0])"
   ]
  },
  {
   "cell_type": "code",
   "execution_count": null,
   "metadata": {
    "ExecuteTime": {
     "end_time": "2018-07-06T13:37:04.703850Z",
     "start_time": "2018-07-06T12:53:15.194788Z"
    }
   },
   "outputs": [],
   "source": [
    "# after setting up, we can create the measurement object.\n",
    "# Note: we need to tell it ALL parameters and how they are related. \n",
    "# For simple cases, this wrapper does it.\n",
    "\n",
    "\n",
    "meas = MeasurementExt(station, exp=exp, \n",
    "                      hard_sweep_detector=det,\n",
    "                      soft_sweep_params=[\n",
    "                          het_src.frequency,\n",
    "                          ami.field,\n",
    "                      ])\n",
    "\n",
    "lockin1.amplitude(0.004)\n",
    "\n",
    "\n",
    "\n",
    "with meas.run() as datasaver:\n",
    "\n",
    "    datasaver.dataset.subscribe(\n",
    "        QcodesDatasetSubscriber(datasaver.dataset), \n",
    "        state=[], min_wait=0, min_count=1,\n",
    "    )\n",
    "\n",
    "    for Bfield in np.linspace(0, 1, 21):\n",
    "        ami.field(Bfield)\n",
    "\n",
    "        for f in rf_frqs:\n",
    "            het_src.frequency(f)\n",
    "            time.sleep(0.02)\n",
    "\n",
    "            det.acquisition()\n",
    "            datasaver.add_result(*meas.get_result())"
   ]
  },
  {
   "cell_type": "code",
   "execution_count": null,
   "metadata": {
    "ExecuteTime": {
     "end_time": "2018-07-06T14:11:47.178242Z",
     "start_time": "2018-07-06T13:37:04.705850Z"
    }
   },
   "outputs": [],
   "source": [
    "ami_x.pause()\n",
    "ami_y.pause()\n",
    "ami_z.pause()\n",
    "ami.spherical([0,0,0])"
   ]
  },
  {
   "cell_type": "markdown",
   "metadata": {},
   "source": [
    "### RF gate sweep "
   ]
  },
  {
   "cell_type": "code",
   "execution_count": 128,
   "metadata": {
    "ExecuteTime": {
     "end_time": "2018-07-10T05:44:21.008198Z",
     "start_time": "2018-07-10T05:44:07.990750Z"
    }
   },
   "outputs": [
    {
     "name": "stdout",
     "output_type": "stream",
     "text": [
      "Starting experimental run with id: 1094\n"
     ]
    }
   ],
   "source": [
    "# after setting up, we can create the measurement object.\n",
    "# Note: we need to tell it ALL parameters and how they are related. \n",
    "# For simple cases, this wrapper does it.\n",
    "\n",
    "\n",
    "meas = MeasurementExt(station, exp=exp, \n",
    "                      hard_sweep_detector=det,\n",
    "                      soft_sweep_params=[\n",
    "                          ivvi_setup.dac7,\n",
    "                      ])\n",
    "\n",
    "\n",
    "lockin1.amplitude(0.004)\n",
    "ivvi_setup.dac4(0e-3)\n",
    "\n",
    "ivvi_setup.dac9(0)     #t1\n",
    "ivvi_setup.dac10(0)    #t2\n",
    "ivvi_setup.dac8(-0.46) #t3\n",
    "ivvi_setup.dac11(-0.32) #t4\n",
    "\n",
    "het_src.frequency(443223813.84306061)\n",
    "\n",
    "\n",
    "# the measurement loop\n",
    "meas.write_period = 1\n",
    "with meas.run() as datasaver:\n",
    "    \n",
    "    datasaver.dataset.subscribe(\n",
    "        QcodesDatasetSubscriber(datasaver.dataset), \n",
    "        state=[], min_wait=0, min_count=1,\n",
    "    )\n",
    "    \n",
    "    for r2 in np.linspace(0, 5e-3, 16*5):\n",
    "        ivvi_setup.dac7(r2*1e-2)\n",
    "\n",
    "        det.acquisition()\n",
    "        datasaver.add_result(*meas.get_result())"
   ]
  },
  {
   "cell_type": "markdown",
   "metadata": {},
   "source": [
    "### Tune RO attenuator"
   ]
  },
  {
   "cell_type": "code",
   "execution_count": 146,
   "metadata": {
    "ExecuteTime": {
     "end_time": "2018-07-10T05:46:19.086429Z",
     "start_time": "2018-07-10T05:46:16.070684Z"
    }
   },
   "outputs": [
    {
     "name": "stdout",
     "output_type": "stream",
     "text": [
      "Starting experimental run with id: 1096\n"
     ]
    },
    {
     "ename": "ValueError",
     "evalue": "(\"could not convert string to float: '\\\\x16\\\\x1fDEC9-2002'\", 'getting ro_attenuator_attenuation')",
     "output_type": "error",
     "traceback": [
      "\u001b[1;31m---------------------------------------------------------------------------\u001b[0m",
      "\u001b[1;31mValueError\u001b[0m                                Traceback (most recent call last)",
      "\u001b[1;32m<ipython-input-146-f75192f81aba>\u001b[0m in \u001b[0;36m<module>\u001b[1;34m()\u001b[0m\n\u001b[0;32m     37\u001b[0m \u001b[1;33m\u001b[0m\u001b[0m\n\u001b[0;32m     38\u001b[0m             \u001b[0mdet\u001b[0m\u001b[1;33m.\u001b[0m\u001b[0macquisition\u001b[0m\u001b[1;33m(\u001b[0m\u001b[1;33m)\u001b[0m\u001b[1;33m\u001b[0m\u001b[0m\n\u001b[1;32m---> 39\u001b[1;33m             \u001b[0mdatasaver\u001b[0m\u001b[1;33m.\u001b[0m\u001b[0madd_result\u001b[0m\u001b[1;33m(\u001b[0m\u001b[1;33m*\u001b[0m\u001b[0mmeas\u001b[0m\u001b[1;33m.\u001b[0m\u001b[0mget_result\u001b[0m\u001b[1;33m(\u001b[0m\u001b[1;33m)\u001b[0m\u001b[1;33m)\u001b[0m\u001b[1;33m\u001b[0m\u001b[0m\n\u001b[0m",
      "\u001b[1;32md:\\onedrive\\bf1\\code\\pytopo\\pytopo\\qctools\\measurement.py\u001b[0m in \u001b[0;36mget_result\u001b[1;34m(self, **kw)\u001b[0m\n\u001b[0;32m     36\u001b[0m                 \u001b[0mvalue\u001b[0m \u001b[1;33m=\u001b[0m \u001b[0mkw\u001b[0m\u001b[1;33m[\u001b[0m\u001b[0mp\u001b[0m\u001b[1;33m]\u001b[0m\u001b[1;33m\u001b[0m\u001b[0m\n\u001b[0;32m     37\u001b[0m             \u001b[1;32melse\u001b[0m\u001b[1;33m:\u001b[0m\u001b[1;33m\u001b[0m\u001b[0m\n\u001b[1;32m---> 38\u001b[1;33m                 \u001b[0mvalue\u001b[0m \u001b[1;33m=\u001b[0m \u001b[0mp\u001b[0m\u001b[1;33m(\u001b[0m\u001b[1;33m)\u001b[0m\u001b[1;33m\u001b[0m\u001b[0m\n\u001b[0m\u001b[0;32m     39\u001b[0m             \u001b[1;32mif\u001b[0m \u001b[0misinstance\u001b[0m\u001b[1;33m(\u001b[0m\u001b[0mvalue\u001b[0m\u001b[1;33m,\u001b[0m \u001b[0mnp\u001b[0m\u001b[1;33m.\u001b[0m\u001b[0mndarray\u001b[0m\u001b[1;33m)\u001b[0m\u001b[1;33m:\u001b[0m\u001b[1;33m\u001b[0m\u001b[0m\n\u001b[0;32m     40\u001b[0m                 \u001b[0mvalue\u001b[0m \u001b[1;33m=\u001b[0m \u001b[0mvalue\u001b[0m\u001b[1;33m.\u001b[0m\u001b[0mreshape\u001b[0m\u001b[1;33m(\u001b[0m\u001b[1;33m-\u001b[0m\u001b[1;36m1\u001b[0m\u001b[1;33m)\u001b[0m\u001b[1;33m\u001b[0m\u001b[0m\n",
      "\u001b[1;32md:\\onedrive\\bf1\\code\\qcodes\\qcodes\\instrument\\parameter.py\u001b[0m in \u001b[0;36m__call__\u001b[1;34m(self, *args, **kwargs)\u001b[0m\n\u001b[0;32m    244\u001b[0m         \u001b[1;32mif\u001b[0m \u001b[0mlen\u001b[0m\u001b[1;33m(\u001b[0m\u001b[0margs\u001b[0m\u001b[1;33m)\u001b[0m \u001b[1;33m==\u001b[0m \u001b[1;36m0\u001b[0m\u001b[1;33m:\u001b[0m\u001b[1;33m\u001b[0m\u001b[0m\n\u001b[0;32m    245\u001b[0m             \u001b[1;32mif\u001b[0m \u001b[0mhasattr\u001b[0m\u001b[1;33m(\u001b[0m\u001b[0mself\u001b[0m\u001b[1;33m,\u001b[0m \u001b[1;34m'get'\u001b[0m\u001b[1;33m)\u001b[0m\u001b[1;33m:\u001b[0m\u001b[1;33m\u001b[0m\u001b[0m\n\u001b[1;32m--> 246\u001b[1;33m                 \u001b[1;32mreturn\u001b[0m \u001b[0mself\u001b[0m\u001b[1;33m.\u001b[0m\u001b[0mget\u001b[0m\u001b[1;33m(\u001b[0m\u001b[1;33m)\u001b[0m\u001b[1;33m\u001b[0m\u001b[0m\n\u001b[0m\u001b[0;32m    247\u001b[0m             \u001b[1;32melse\u001b[0m\u001b[1;33m:\u001b[0m\u001b[1;33m\u001b[0m\u001b[0m\n\u001b[0;32m    248\u001b[0m                 raise NotImplementedError('no get cmd found in' +\n",
      "\u001b[1;32md:\\onedrive\\bf1\\code\\qcodes\\qcodes\\instrument\\parameter.py\u001b[0m in \u001b[0;36mget_wrapper\u001b[1;34m(*args, **kwargs)\u001b[0m\n\u001b[0;32m    352\u001b[0m             \u001b[1;32mexcept\u001b[0m \u001b[0mException\u001b[0m \u001b[1;32mas\u001b[0m \u001b[0me\u001b[0m\u001b[1;33m:\u001b[0m\u001b[1;33m\u001b[0m\u001b[0m\n\u001b[0;32m    353\u001b[0m                 \u001b[0me\u001b[0m\u001b[1;33m.\u001b[0m\u001b[0margs\u001b[0m \u001b[1;33m=\u001b[0m \u001b[0me\u001b[0m\u001b[1;33m.\u001b[0m\u001b[0margs\u001b[0m \u001b[1;33m+\u001b[0m \u001b[1;33m(\u001b[0m\u001b[1;34m'getting {}'\u001b[0m\u001b[1;33m.\u001b[0m\u001b[0mformat\u001b[0m\u001b[1;33m(\u001b[0m\u001b[0mself\u001b[0m\u001b[1;33m)\u001b[0m\u001b[1;33m,\u001b[0m\u001b[1;33m)\u001b[0m\u001b[1;33m\u001b[0m\u001b[0m\n\u001b[1;32m--> 354\u001b[1;33m                 \u001b[1;32mraise\u001b[0m \u001b[0me\u001b[0m\u001b[1;33m\u001b[0m\u001b[0m\n\u001b[0m\u001b[0;32m    355\u001b[0m \u001b[1;33m\u001b[0m\u001b[0m\n\u001b[0;32m    356\u001b[0m         \u001b[1;32mreturn\u001b[0m \u001b[0mget_wrapper\u001b[0m\u001b[1;33m\u001b[0m\u001b[0m\n",
      "\u001b[1;32md:\\onedrive\\bf1\\code\\qcodes\\qcodes\\instrument\\parameter.py\u001b[0m in \u001b[0;36mget_wrapper\u001b[1;34m(*args, **kwargs)\u001b[0m\n\u001b[0;32m    326\u001b[0m \u001b[1;33m\u001b[0m\u001b[0m\n\u001b[0;32m    327\u001b[0m                 \u001b[1;32mif\u001b[0m \u001b[0mself\u001b[0m\u001b[1;33m.\u001b[0m\u001b[0mget_parser\u001b[0m \u001b[1;32mis\u001b[0m \u001b[1;32mnot\u001b[0m \u001b[1;32mNone\u001b[0m\u001b[1;33m:\u001b[0m\u001b[1;33m\u001b[0m\u001b[0m\n\u001b[1;32m--> 328\u001b[1;33m                     \u001b[0mvalue\u001b[0m \u001b[1;33m=\u001b[0m \u001b[0mself\u001b[0m\u001b[1;33m.\u001b[0m\u001b[0mget_parser\u001b[0m\u001b[1;33m(\u001b[0m\u001b[0mvalue\u001b[0m\u001b[1;33m)\u001b[0m\u001b[1;33m\u001b[0m\u001b[0m\n\u001b[0m\u001b[0;32m    329\u001b[0m \u001b[1;33m\u001b[0m\u001b[0m\n\u001b[0;32m    330\u001b[0m                 \u001b[1;32mif\u001b[0m \u001b[0mself\u001b[0m\u001b[1;33m.\u001b[0m\u001b[0mscale\u001b[0m \u001b[1;32mis\u001b[0m \u001b[1;32mnot\u001b[0m \u001b[1;32mNone\u001b[0m\u001b[1;33m:\u001b[0m\u001b[1;33m\u001b[0m\u001b[0m\n",
      "\u001b[1;31mValueError\u001b[0m: (\"could not convert string to float: '\\\\x16\\\\x1fDEC9-2002'\", 'getting ro_attenuator_attenuation')"
     ]
    }
   ],
   "source": [
    "# after setting up, we can create the measurement object.\n",
    "# Note: we need to tell it ALL parameters and how they are related. \n",
    "# For simple cases, this wrapper does it.\n",
    "\n",
    "\n",
    "meas = MeasurementExt(station, exp=exp, \n",
    "                      hard_sweep_detector=det,\n",
    "                      soft_sweep_params=[\n",
    "                          ivvi_setup.dac7,\n",
    "                          ro_attenuator.attenuation,\n",
    "                      ])\n",
    "\n",
    "\n",
    "lockin1.amplitude(0.004)\n",
    "ivvi_setup.dac4(0e-3)\n",
    "\n",
    "ivvi_setup.dac9(0)     #t1\n",
    "ivvi_setup.dac10(0)    #t2\n",
    "ivvi_setup.dac8(-0.46) #t3\n",
    "ivvi_setup.dac11(-0.32) #t4\n",
    "\n",
    "het_src.frequency(443223813.84306061)\n",
    "\n",
    "\n",
    "# the measurement loop\n",
    "meas.write_period = 1\n",
    "with meas.run() as datasaver:\n",
    "    \n",
    "    datasaver.dataset.subscribe(\n",
    "        QcodesDatasetSubscriber(datasaver.dataset), \n",
    "        state=[], min_wait=0, min_count=1,\n",
    "    )\n",
    "    for att in np.linspace(55, 25, 31):\n",
    "        ro_attenuator.attenuation(att)\n",
    "        for r2 in np.linspace(0, 5e-3, 16*5):\n",
    "            ivvi_setup.dac7(r2*1e-2)\n",
    "\n",
    "            det.acquisition()\n",
    "            datasaver.add_result(*meas.get_result())"
   ]
  },
  {
   "cell_type": "markdown",
   "metadata": {},
   "source": [
    "## Hard sweeps"
   ]
  },
  {
   "cell_type": "code",
   "execution_count": null,
   "metadata": {},
   "outputs": [],
   "source": [
    "### Sweeper\n",
    "awg_ramp.sample_rate(1e7)\n",
    "awg_ramp.step_len(400e-6)\n",
    "awg_ramp.start_voltage(0)\n",
    "awg_ramp.stop_voltage(.01)\n",
    "awg_ramp.voltage_points(100)\n",
    "awg_ramp.setup(start_awg=False)\n",
    "\n",
    "print('frequency ' + str(1/(awg_ramp.step_len()*awg_ramp.voltage_points())) + \" Hz\")"
   ]
  },
  {
   "cell_type": "code",
   "execution_count": null,
   "metadata": {},
   "outputs": [],
   "source": [
    "### Set up the detector\n",
    "\n",
    "det1 = avgiq_detector\n",
    "det1.avg_buffers(False)\n",
    "\n",
    "det1.set_sweeper(awg_ramp)\n",
    "# acquisition time\n",
    "det1.acq_time(awg_ramp.step_len() - 1e-6)\n",
    "# demod frequency\n",
    "det1.demod_frq(IF)\n",
    "# HW config, and how data is shaped.\n",
    "det1.configure_alazar(\n",
    "    records_per_buffer=awg_ramp.voltage_points(),\n",
    "    buffers_per_acquisition=100,\n",
    ")\n",
    "\n",
    "det1.setup()\n",
    "\n",
    "print(det1.sweep_dims, det1.sweep_shape)"
   ]
  },
  {
   "cell_type": "markdown",
   "metadata": {},
   "source": [
    "### Diamonds scan"
   ]
  },
  {
   "cell_type": "code",
   "execution_count": 166,
   "metadata": {
    "ExecuteTime": {
     "end_time": "2018-07-10T05:55:01.135103Z",
     "start_time": "2018-07-10T05:53:48.886592Z"
    }
   },
   "outputs": [
    {
     "name": "stdout",
     "output_type": "stream",
     "text": [
      "Starting experimental run with id: 1098\n"
     ]
    }
   ],
   "source": [
    "# after setting up, we can create the measurement object.\n",
    "# Note: we need to tell it ALL parameters and how they are related. \n",
    "# For simple cases, this wrapper does it.\n",
    "\n",
    "\n",
    "meas = MeasurementExt(station, exp=exp, \n",
    "                      hard_sweep_detector=det1,\n",
    "                      soft_sweep_params=[\n",
    "                          ivvi_setup.dac4,\n",
    "                      ])\n",
    "\n",
    "\n",
    "lockin1.amplitude(0.004)\n",
    "ivvi_setup.dac4(0e-3)\n",
    "\n",
    "ivvi_setup.dac9(0)     #t1\n",
    "ivvi_setup.dac10(0)    #t2\n",
    "ivvi_setup.dac8(-0.46) #t3\n",
    "ivvi_setup.dac11(-0.32) #t4\n",
    "\n",
    "het_src.frequency(443223813.84306061)\n",
    "\n",
    "# the measurement loop\n",
    "meas.write_period = 1\n",
    "\n",
    "with meas.run() as datasaver:\n",
    "    \n",
    "    datasaver.dataset.subscribe(\n",
    "        QcodesDatasetSubscriber(datasaver.dataset), \n",
    "        state=[], min_wait=0, min_count=1,\n",
    "    )\n",
    "\n",
    "    for bias in np.linspace(-.5e-3, .5e-3, 51):\n",
    "        ivvi_setup.dac4(bias)\n",
    "\n",
    "        det1.acquisition()\n",
    "        datasaver.add_result(*meas.get_result())"
   ]
  },
  {
   "cell_type": "markdown",
   "metadata": {},
   "source": [
    "### Charge stability diagram"
   ]
  },
  {
   "cell_type": "code",
   "execution_count": 172,
   "metadata": {
    "ExecuteTime": {
     "end_time": "2018-07-10T06:09:22.542789Z",
     "start_time": "2018-07-10T06:04:30.710145Z"
    }
   },
   "outputs": [
    {
     "name": "stdout",
     "output_type": "stream",
     "text": [
      "Starting experimental run with id: 1100\n"
     ]
    }
   ],
   "source": [
    "# after setting up, we can create the measurement object.\n",
    "# Note: we need to tell it ALL parameters and how they are related. \n",
    "# For simple cases, this wrapper does it.\n",
    "\n",
    "\n",
    "meas = MeasurementExt(station, exp=exp, \n",
    "                      hard_sweep_detector=det1,\n",
    "                      soft_sweep_params=[\n",
    "                          ivvi_setup.dac16,\n",
    "                      ])\n",
    "\n",
    "\n",
    "lockin1.amplitude(0.004)\n",
    "ivvi_setup.dac4(0e-3)\n",
    "\n",
    "ivvi_setup.dac9(0)     #t1\n",
    "ivvi_setup.dac10(-0.3) #t2\n",
    "ivvi_setup.dac8(-0.46) #t3\n",
    "ivvi_setup.dac11(-0.5) #t4\n",
    "\n",
    "het_src.frequency(443223813.84306061)\n",
    "\n",
    "# the measurement loop\n",
    "meas.write_period = 1\n",
    "\n",
    "with meas.run() as datasaver:\n",
    "    \n",
    "    datasaver.dataset.subscribe(\n",
    "        QcodesDatasetSubscriber(datasaver.dataset), \n",
    "        state=[], min_wait=0, min_count=1,\n",
    "    )\n",
    "\n",
    "    for pg in np.linspace(0e-3, 1e-3, 51):\n",
    "        ivvi_setup.dac16(pg)\n",
    "\n",
    "        det1.acquisition()\n",
    "        datasaver.add_result(*meas.get_result())"
   ]
  },
  {
   "cell_type": "markdown",
   "metadata": {},
   "source": [
    "## RF diamond scan"
   ]
  },
  {
   "cell_type": "code",
   "execution_count": 104,
   "metadata": {
    "ExecuteTime": {
     "end_time": "2018-07-10T05:27:59.299563Z",
     "start_time": "2018-07-10T05:27:38.250177Z"
    }
   },
   "outputs": [
    {
     "name": "stdout",
     "output_type": "stream",
     "text": [
      "Starting experimental run with id: 1085\n"
     ]
    },
    {
     "ename": "KeyboardInterrupt",
     "evalue": "",
     "output_type": "error",
     "traceback": [
      "\u001b[1;31m---------------------------------------------------------------------------\u001b[0m",
      "\u001b[1;31mKeyboardInterrupt\u001b[0m                         Traceback (most recent call last)",
      "\u001b[1;32m<ipython-input-104-63c7ed1f3733>\u001b[0m in \u001b[0;36m<module>\u001b[1;34m()\u001b[0m\n\u001b[0;32m     37\u001b[0m             \u001b[0mivvi_setup\u001b[0m\u001b[1;33m.\u001b[0m\u001b[0mdac4\u001b[0m\u001b[1;33m(\u001b[0m\u001b[0mbias\u001b[0m\u001b[1;33m)\u001b[0m\u001b[1;33m\u001b[0m\u001b[0m\n\u001b[0;32m     38\u001b[0m \u001b[1;33m\u001b[0m\u001b[0m\n\u001b[1;32m---> 39\u001b[1;33m             \u001b[0mdet\u001b[0m\u001b[1;33m.\u001b[0m\u001b[0macquisition\u001b[0m\u001b[1;33m(\u001b[0m\u001b[1;33m)\u001b[0m\u001b[1;33m\u001b[0m\u001b[0m\n\u001b[0m\u001b[0;32m     40\u001b[0m             \u001b[0mdatasaver\u001b[0m\u001b[1;33m.\u001b[0m\u001b[0madd_result\u001b[0m\u001b[1;33m(\u001b[0m\u001b[1;33m*\u001b[0m\u001b[0mmeas\u001b[0m\u001b[1;33m.\u001b[0m\u001b[0mget_result\u001b[0m\u001b[1;33m(\u001b[0m\u001b[1;33m)\u001b[0m\u001b[1;33m)\u001b[0m\u001b[1;33m\u001b[0m\u001b[0m\n",
      "\u001b[1;32md:\\onedrive\\bf1\\code\\qcodes\\qcodes\\instrument\\parameter.py\u001b[0m in \u001b[0;36m__call__\u001b[1;34m(self, *args, **kwargs)\u001b[0m\n\u001b[0;32m    244\u001b[0m         \u001b[1;32mif\u001b[0m \u001b[0mlen\u001b[0m\u001b[1;33m(\u001b[0m\u001b[0margs\u001b[0m\u001b[1;33m)\u001b[0m \u001b[1;33m==\u001b[0m \u001b[1;36m0\u001b[0m\u001b[1;33m:\u001b[0m\u001b[1;33m\u001b[0m\u001b[0m\n\u001b[0;32m    245\u001b[0m             \u001b[1;32mif\u001b[0m \u001b[0mhasattr\u001b[0m\u001b[1;33m(\u001b[0m\u001b[0mself\u001b[0m\u001b[1;33m,\u001b[0m \u001b[1;34m'get'\u001b[0m\u001b[1;33m)\u001b[0m\u001b[1;33m:\u001b[0m\u001b[1;33m\u001b[0m\u001b[0m\n\u001b[1;32m--> 246\u001b[1;33m                 \u001b[1;32mreturn\u001b[0m \u001b[0mself\u001b[0m\u001b[1;33m.\u001b[0m\u001b[0mget\u001b[0m\u001b[1;33m(\u001b[0m\u001b[1;33m)\u001b[0m\u001b[1;33m\u001b[0m\u001b[0m\n\u001b[0m\u001b[0;32m    247\u001b[0m             \u001b[1;32melse\u001b[0m\u001b[1;33m:\u001b[0m\u001b[1;33m\u001b[0m\u001b[0m\n\u001b[0;32m    248\u001b[0m                 raise NotImplementedError('no get cmd found in' +\n",
      "\u001b[1;32md:\\onedrive\\bf1\\code\\qcodes\\qcodes\\instrument\\parameter.py\u001b[0m in \u001b[0;36mget_wrapper\u001b[1;34m(*args, **kwargs)\u001b[0m\n\u001b[0;32m    322\u001b[0m             \u001b[1;32mtry\u001b[0m\u001b[1;33m:\u001b[0m\u001b[1;33m\u001b[0m\u001b[0m\n\u001b[0;32m    323\u001b[0m                 \u001b[1;31m# There might be cases where a .get also has args/kwargs\u001b[0m\u001b[1;33m\u001b[0m\u001b[1;33m\u001b[0m\u001b[0m\n\u001b[1;32m--> 324\u001b[1;33m                 \u001b[0mvalue\u001b[0m \u001b[1;33m=\u001b[0m \u001b[0mget_function\u001b[0m\u001b[1;33m(\u001b[0m\u001b[1;33m*\u001b[0m\u001b[0margs\u001b[0m\u001b[1;33m,\u001b[0m \u001b[1;33m**\u001b[0m\u001b[0mkwargs\u001b[0m\u001b[1;33m)\u001b[0m\u001b[1;33m\u001b[0m\u001b[0m\n\u001b[0m\u001b[0;32m    325\u001b[0m                 \u001b[0mself\u001b[0m\u001b[1;33m.\u001b[0m\u001b[0mraw_value\u001b[0m \u001b[1;33m=\u001b[0m \u001b[0mvalue\u001b[0m\u001b[1;33m\u001b[0m\u001b[0m\n\u001b[0;32m    326\u001b[0m \u001b[1;33m\u001b[0m\u001b[0m\n",
      "\u001b[1;32md:\\onedrive\\bf1\\code\\qcodes\\qcodes\\utils\\command.py\u001b[0m in \u001b[0;36m__call__\u001b[1;34m(self, *args)\u001b[0m\n\u001b[0;32m    175\u001b[0m             raise TypeError(\n\u001b[0;32m    176\u001b[0m                 'command takes exactly {} args'.format(self.arg_count))\n\u001b[1;32m--> 177\u001b[1;33m         \u001b[1;32mreturn\u001b[0m \u001b[0mself\u001b[0m\u001b[1;33m.\u001b[0m\u001b[0mexec_function\u001b[0m\u001b[1;33m(\u001b[0m\u001b[1;33m*\u001b[0m\u001b[0margs\u001b[0m\u001b[1;33m)\u001b[0m\u001b[1;33m\u001b[0m\u001b[0m\n\u001b[0m",
      "\u001b[1;32m<ipython-input-8-31f5a11ef344>\u001b[0m in \u001b[0;36mdo_acquisition\u001b[1;34m(self)\u001b[0m\n\u001b[0;32m     84\u001b[0m \u001b[1;33m\u001b[0m\u001b[0m\n\u001b[0;32m     85\u001b[0m     \u001b[1;32mdef\u001b[0m \u001b[0mdo_acquisition\u001b[0m\u001b[1;33m(\u001b[0m\u001b[0mself\u001b[0m\u001b[1;33m)\u001b[0m\u001b[1;33m:\u001b[0m\u001b[1;33m\u001b[0m\u001b[0m\n\u001b[1;32m---> 86\u001b[1;33m         \u001b[0mdata\u001b[0m \u001b[1;33m=\u001b[0m \u001b[0msuper\u001b[0m\u001b[1;33m(\u001b[0m\u001b[1;33m)\u001b[0m\u001b[1;33m.\u001b[0m\u001b[0mdo_acquisition\u001b[0m\u001b[1;33m(\u001b[0m\u001b[1;33m)\u001b[0m\u001b[1;33m\u001b[0m\u001b[0m\n\u001b[0m\u001b[0;32m     87\u001b[0m \u001b[1;33m\u001b[0m\u001b[0m\n\u001b[0;32m     88\u001b[0m         \u001b[1;32mif\u001b[0m \u001b[0mself\u001b[0m\u001b[1;33m.\u001b[0m\u001b[0mavg_buffers\u001b[0m\u001b[1;33m(\u001b[0m\u001b[1;33m)\u001b[0m\u001b[1;33m:\u001b[0m\u001b[1;33m\u001b[0m\u001b[0m\n",
      "\u001b[1;32m<ipython-input-8-31f5a11ef344>\u001b[0m in \u001b[0;36mdo_acquisition\u001b[1;34m(self)\u001b[0m\n\u001b[0;32m     43\u001b[0m \u001b[1;33m\u001b[0m\u001b[0m\n\u001b[0;32m     44\u001b[0m     \u001b[1;32mdef\u001b[0m \u001b[0mdo_acquisition\u001b[0m\u001b[1;33m(\u001b[0m\u001b[0mself\u001b[0m\u001b[1;33m)\u001b[0m\u001b[1;33m:\u001b[0m\u001b[1;33m\u001b[0m\u001b[0m\n\u001b[1;32m---> 45\u001b[1;33m         \u001b[0mdata\u001b[0m \u001b[1;33m=\u001b[0m \u001b[0mself\u001b[0m\u001b[1;33m.\u001b[0m\u001b[0macqctl\u001b[0m\u001b[1;33m.\u001b[0m\u001b[0macquisition\u001b[0m\u001b[1;33m(\u001b[0m\u001b[1;33m)\u001b[0m\u001b[1;33m\u001b[0m\u001b[0m\n\u001b[0m\u001b[0;32m     46\u001b[0m         \u001b[0mself\u001b[0m\u001b[1;33m.\u001b[0m\u001b[0msetup\u001b[0m\u001b[1;33m(\u001b[0m\u001b[1;33m)\u001b[0m\u001b[1;33m\u001b[0m\u001b[0m\n\u001b[0;32m     47\u001b[0m \u001b[1;33m\u001b[0m\u001b[0m\n",
      "\u001b[1;32md:\\onedrive\\bf1\\code\\qcodes\\qcodes\\instrument\\parameter.py\u001b[0m in \u001b[0;36m__call__\u001b[1;34m(self, *args, **kwargs)\u001b[0m\n\u001b[0;32m    244\u001b[0m         \u001b[1;32mif\u001b[0m \u001b[0mlen\u001b[0m\u001b[1;33m(\u001b[0m\u001b[0margs\u001b[0m\u001b[1;33m)\u001b[0m \u001b[1;33m==\u001b[0m \u001b[1;36m0\u001b[0m\u001b[1;33m:\u001b[0m\u001b[1;33m\u001b[0m\u001b[0m\n\u001b[0;32m    245\u001b[0m             \u001b[1;32mif\u001b[0m \u001b[0mhasattr\u001b[0m\u001b[1;33m(\u001b[0m\u001b[0mself\u001b[0m\u001b[1;33m,\u001b[0m \u001b[1;34m'get'\u001b[0m\u001b[1;33m)\u001b[0m\u001b[1;33m:\u001b[0m\u001b[1;33m\u001b[0m\u001b[0m\n\u001b[1;32m--> 246\u001b[1;33m                 \u001b[1;32mreturn\u001b[0m \u001b[0mself\u001b[0m\u001b[1;33m.\u001b[0m\u001b[0mget\u001b[0m\u001b[1;33m(\u001b[0m\u001b[1;33m)\u001b[0m\u001b[1;33m\u001b[0m\u001b[0m\n\u001b[0m\u001b[0;32m    247\u001b[0m             \u001b[1;32melse\u001b[0m\u001b[1;33m:\u001b[0m\u001b[1;33m\u001b[0m\u001b[0m\n\u001b[0;32m    248\u001b[0m                 raise NotImplementedError('no get cmd found in' +\n",
      "\u001b[1;32md:\\onedrive\\bf1\\code\\qcodes\\qcodes\\instrument\\parameter.py\u001b[0m in \u001b[0;36mget_wrapper\u001b[1;34m(*args, **kwargs)\u001b[0m\n\u001b[0;32m    322\u001b[0m             \u001b[1;32mtry\u001b[0m\u001b[1;33m:\u001b[0m\u001b[1;33m\u001b[0m\u001b[0m\n\u001b[0;32m    323\u001b[0m                 \u001b[1;31m# There might be cases where a .get also has args/kwargs\u001b[0m\u001b[1;33m\u001b[0m\u001b[1;33m\u001b[0m\u001b[0m\n\u001b[1;32m--> 324\u001b[1;33m                 \u001b[0mvalue\u001b[0m \u001b[1;33m=\u001b[0m \u001b[0mget_function\u001b[0m\u001b[1;33m(\u001b[0m\u001b[1;33m*\u001b[0m\u001b[0margs\u001b[0m\u001b[1;33m,\u001b[0m \u001b[1;33m**\u001b[0m\u001b[0mkwargs\u001b[0m\u001b[1;33m)\u001b[0m\u001b[1;33m\u001b[0m\u001b[0m\n\u001b[0m\u001b[0;32m    325\u001b[0m                 \u001b[0mself\u001b[0m\u001b[1;33m.\u001b[0m\u001b[0mraw_value\u001b[0m \u001b[1;33m=\u001b[0m \u001b[0mvalue\u001b[0m\u001b[1;33m\u001b[0m\u001b[0m\n\u001b[0;32m    326\u001b[0m \u001b[1;33m\u001b[0m\u001b[0m\n",
      "\u001b[1;32md:\\onedrive\\bf1\\code\\qcodes\\qcodes\\utils\\command.py\u001b[0m in \u001b[0;36m__call__\u001b[1;34m(self, *args)\u001b[0m\n\u001b[0;32m    175\u001b[0m             raise TypeError(\n\u001b[0;32m    176\u001b[0m                 'command takes exactly {} args'.format(self.arg_count))\n\u001b[1;32m--> 177\u001b[1;33m         \u001b[1;32mreturn\u001b[0m \u001b[0mself\u001b[0m\u001b[1;33m.\u001b[0m\u001b[0mexec_function\u001b[0m\u001b[1;33m(\u001b[0m\u001b[1;33m*\u001b[0m\u001b[0margs\u001b[0m\u001b[1;33m)\u001b[0m\u001b[1;33m\u001b[0m\u001b[0m\n\u001b[0m",
      "\u001b[1;32md:\\onedrive\\bf1\\code\\pytopo\\pytopo\\rf\\alazar_acquisition.py\u001b[0m in \u001b[0;36mdo_acquisition\u001b[1;34m(self)\u001b[0m\n\u001b[0;32m     92\u001b[0m     \u001b[1;32mdef\u001b[0m \u001b[0mdo_acquisition\u001b[0m\u001b[1;33m(\u001b[0m\u001b[0mself\u001b[0m\u001b[1;33m)\u001b[0m\u001b[1;33m:\u001b[0m\u001b[1;33m\u001b[0m\u001b[0m\n\u001b[0;32m     93\u001b[0m         \u001b[1;32mif\u001b[0m \u001b[0mself\u001b[0m\u001b[1;33m.\u001b[0m\u001b[0m_alazar\u001b[0m \u001b[1;32mis\u001b[0m \u001b[1;32mnot\u001b[0m \u001b[1;32mNone\u001b[0m\u001b[1;33m:\u001b[0m\u001b[1;33m\u001b[0m\u001b[0m\n\u001b[1;32m---> 94\u001b[1;33m             \u001b[0mvalue\u001b[0m \u001b[1;33m=\u001b[0m \u001b[0mself\u001b[0m\u001b[1;33m.\u001b[0m\u001b[0m_get_alazar\u001b[0m\u001b[1;33m(\u001b[0m\u001b[1;33m)\u001b[0m\u001b[1;33m.\u001b[0m\u001b[0macquire\u001b[0m\u001b[1;33m(\u001b[0m\u001b[0macquisition_controller\u001b[0m\u001b[1;33m=\u001b[0m\u001b[0mself\u001b[0m\u001b[1;33m,\u001b[0m \u001b[1;33m**\u001b[0m\u001b[0mself\u001b[0m\u001b[1;33m.\u001b[0m\u001b[0macquisitionkwargs\u001b[0m\u001b[1;33m)\u001b[0m\u001b[1;33m\u001b[0m\u001b[0m\n\u001b[0m\u001b[0;32m     95\u001b[0m         \u001b[1;32melse\u001b[0m\u001b[1;33m:\u001b[0m\u001b[1;33m\u001b[0m\u001b[0m\n\u001b[0;32m     96\u001b[0m             \u001b[0mvalue\u001b[0m \u001b[1;33m=\u001b[0m \u001b[1;32mNone\u001b[0m\u001b[1;33m\u001b[0m\u001b[0m\n",
      "\u001b[1;32md:\\onedrive\\bf1\\code\\qcodes\\qcodes\\instrument_drivers\\AlazarTech\\ATS.py\u001b[0m in \u001b[0;36macquire\u001b[1;34m(self, mode, samples_per_record, records_per_buffer, buffers_per_acquisition, channel_selection, transfer_offset, external_startcapture, enable_record_headers, alloc_buffers, fifo_only_streaming, interleave_samples, get_processed_data, allocated_buffers, buffer_timeout, acquisition_controller)\u001b[0m\n\u001b[0;32m    770\u001b[0m             \u001b[0mlogger\u001b[0m\u001b[1;33m.\u001b[0m\u001b[0mdebug\u001b[0m\u001b[1;33m(\u001b[0m\u001b[1;34m\"free mem took {}\"\u001b[0m\u001b[1;33m.\u001b[0m\u001b[0mformat\u001b[0m\u001b[1;33m(\u001b[0m\u001b[0mfree_mem_time\u001b[0m\u001b[1;33m)\u001b[0m\u001b[1;33m)\u001b[0m\u001b[1;33m\u001b[0m\u001b[0m\n\u001b[0;32m    771\u001b[0m         \u001b[1;31m# return result\u001b[0m\u001b[1;33m\u001b[0m\u001b[1;33m\u001b[0m\u001b[0m\n\u001b[1;32m--> 772\u001b[1;33m         \u001b[1;32mreturn\u001b[0m \u001b[0macquisition_controller\u001b[0m\u001b[1;33m.\u001b[0m\u001b[0mpost_acquire\u001b[0m\u001b[1;33m(\u001b[0m\u001b[1;33m)\u001b[0m\u001b[1;33m\u001b[0m\u001b[0m\n\u001b[0m\u001b[0;32m    773\u001b[0m \u001b[1;33m\u001b[0m\u001b[0m\n\u001b[0;32m    774\u001b[0m     \u001b[1;32mdef\u001b[0m \u001b[0m_set_if_present\u001b[0m\u001b[1;33m(\u001b[0m\u001b[0mself\u001b[0m\u001b[1;33m,\u001b[0m \u001b[0mparam_name\u001b[0m\u001b[1;33m,\u001b[0m \u001b[0mvalue\u001b[0m\u001b[1;33m)\u001b[0m\u001b[1;33m:\u001b[0m\u001b[1;33m\u001b[0m\u001b[0m\n",
      "\u001b[1;32md:\\onedrive\\bf1\\code\\pytopo\\pytopo\\rf\\alazar_acquisition.py\u001b[0m in \u001b[0;36mpost_acquire\u001b[1;34m(self)\u001b[0m\n\u001b[0;32m    202\u001b[0m \u001b[1;33m\u001b[0m\u001b[0m\n\u001b[0;32m    203\u001b[0m     \u001b[1;32mdef\u001b[0m \u001b[0mpost_acquire\u001b[0m\u001b[1;33m(\u001b[0m\u001b[0mself\u001b[0m\u001b[1;33m)\u001b[0m\u001b[1;33m:\u001b[0m\u001b[1;33m\u001b[0m\u001b[0m\n\u001b[1;32m--> 204\u001b[1;33m         \u001b[1;32mreturn\u001b[0m \u001b[0msuper\u001b[0m\u001b[1;33m(\u001b[0m\u001b[1;33m)\u001b[0m\u001b[1;33m.\u001b[0m\u001b[0mpost_acquire\u001b[0m\u001b[1;33m(\u001b[0m\u001b[1;33m)\u001b[0m\u001b[1;33m.\u001b[0m\u001b[0mmean\u001b[0m\u001b[1;33m(\u001b[0m\u001b[0maxis\u001b[0m\u001b[1;33m=\u001b[0m\u001b[1;36m1\u001b[0m\u001b[1;33m)\u001b[0m\u001b[1;33m\u001b[0m\u001b[0m\n\u001b[0m\u001b[0;32m    205\u001b[0m \u001b[1;33m\u001b[0m\u001b[0m\n\u001b[0;32m    206\u001b[0m \u001b[1;33m\u001b[0m\u001b[0m\n",
      "\u001b[1;32md:\\onedrive\\bf1\\code\\pytopo\\pytopo\\rf\\alazar_acquisition.py\u001b[0m in \u001b[0;36mpost_acquire\u001b[1;34m(self)\u001b[0m\n\u001b[0;32m    184\u001b[0m         \u001b[0mdata\u001b[0m \u001b[1;33m=\u001b[0m \u001b[0msuper\u001b[0m\u001b[1;33m(\u001b[0m\u001b[1;33m)\u001b[0m\u001b[1;33m.\u001b[0m\u001b[0mpost_acquire\u001b[0m\u001b[1;33m(\u001b[0m\u001b[1;33m)\u001b[0m\u001b[1;33m\u001b[0m\u001b[0m\n\u001b[0;32m    185\u001b[0m         real = (data * 2 * self.cosarr)[:,:self.demod_samples*self.period,:].reshape(\n\u001b[1;32m--> 186\u001b[1;33m             -1, self.demod_samples, self.period, self.number_of_channels).mean(axis=-2)\n\u001b[0m\u001b[0;32m    187\u001b[0m         imag = (data * 2 * self.sinarr)[:,:self.demod_samples*self.period,:].reshape(\n\u001b[0;32m    188\u001b[0m             -1, self.demod_samples, self.period, self.number_of_channels).mean(axis=-2)\n",
      "\u001b[1;32m~\\Anaconda3\\envs\\qcodes\\lib\\site-packages\\numpy\\core\\_methods.py\u001b[0m in \u001b[0;36m_mean\u001b[1;34m(a, axis, dtype, out, keepdims)\u001b[0m\n\u001b[0;32m     68\u001b[0m             \u001b[0mis_float16_result\u001b[0m \u001b[1;33m=\u001b[0m \u001b[1;32mTrue\u001b[0m\u001b[1;33m\u001b[0m\u001b[0m\n\u001b[0;32m     69\u001b[0m \u001b[1;33m\u001b[0m\u001b[0m\n\u001b[1;32m---> 70\u001b[1;33m     \u001b[0mret\u001b[0m \u001b[1;33m=\u001b[0m \u001b[0mumr_sum\u001b[0m\u001b[1;33m(\u001b[0m\u001b[0marr\u001b[0m\u001b[1;33m,\u001b[0m \u001b[0maxis\u001b[0m\u001b[1;33m,\u001b[0m \u001b[0mdtype\u001b[0m\u001b[1;33m,\u001b[0m \u001b[0mout\u001b[0m\u001b[1;33m,\u001b[0m \u001b[0mkeepdims\u001b[0m\u001b[1;33m)\u001b[0m\u001b[1;33m\u001b[0m\u001b[0m\n\u001b[0m\u001b[0;32m     71\u001b[0m     \u001b[1;32mif\u001b[0m \u001b[0misinstance\u001b[0m\u001b[1;33m(\u001b[0m\u001b[0mret\u001b[0m\u001b[1;33m,\u001b[0m \u001b[0mmu\u001b[0m\u001b[1;33m.\u001b[0m\u001b[0mndarray\u001b[0m\u001b[1;33m)\u001b[0m\u001b[1;33m:\u001b[0m\u001b[1;33m\u001b[0m\u001b[0m\n\u001b[0;32m     72\u001b[0m         ret = um.true_divide(\n",
      "\u001b[1;31mKeyboardInterrupt\u001b[0m: "
     ]
    }
   ],
   "source": [
    "# after setting up, we can create the measurement object.\n",
    "# Note: we need to tell it ALL parameters and how they are related. \n",
    "# For simple cases, this wrapper does it.\n",
    "\n",
    "\n",
    "meas = MeasurementExt(station, exp=exp, \n",
    "                      hard_sweep_detector=det,\n",
    "                      soft_sweep_params=[\n",
    "                          ivvi_setup.dac4,\n",
    "                          ivvi_setup.dac7,\n",
    "                      ])\n",
    "\n",
    "\n",
    "lockin1.amplitude(0.004)\n",
    "ivvi_setup.dac4(0e-3)\n",
    "\n",
    "ivvi_setup.dac9(0)     #t1\n",
    "ivvi_setup.dac10(0)    #t2\n",
    "ivvi_setup.dac8(-0.46) #t3\n",
    "ivvi_setup.dac11(-0.32) #t4\n",
    "\n",
    "het_src.frequency(443223813.84306061)\n",
    "\n",
    "# the measurement loop\n",
    "meas.write_period = 1\n",
    "\n",
    "with meas.run() as datasaver:\n",
    "    \n",
    "    datasaver.dataset.subscribe(\n",
    "        QcodesDatasetSubscriber(datasaver.dataset), \n",
    "        state=[], min_wait=0, min_count=1,\n",
    "    )\n",
    "\n",
    "    for r2 in np.linspace(0, 2e-3, 21):\n",
    "        ivvi_setup.dac7(r2*1e-2)\n",
    "        for bias in np.linspace(-.5e-3, .5e-3, 51):\n",
    "            ivvi_setup.dac4(bias)\n",
    "\n",
    "            det.acquisition()\n",
    "            datasaver.add_result(*meas.get_result())"
   ]
  },
  {
   "cell_type": "code",
   "execution_count": 180,
   "metadata": {
    "ExecuteTime": {
     "end_time": "2018-07-10T11:04:46.212455Z",
     "start_time": "2018-07-10T11:04:15.388323Z"
    }
   },
   "outputs": [
    {
     "name": "stdout",
     "output_type": "stream",
     "text": [
      "Starting experimental run with id: 1103\n"
     ]
    },
    {
     "ename": "RuntimeError",
     "evalue": "('error 579: ApiWaitTimeout: operation did not finish during timeout interval. Check your trigger. from function AlazarWaitAsyncBufferComplete with args: [2640, c_void_p(2811056095232), 10000]', 'getting avgiq_acq_acquisition', 'getting avgiq_detector_acquisition')",
     "output_type": "error",
     "traceback": [
      "\u001b[1;31m---------------------------------------------------------------------------\u001b[0m",
      "\u001b[1;31mRuntimeError\u001b[0m                              Traceback (most recent call last)",
      "\u001b[1;32m<ipython-input-180-0e42622d9c34>\u001b[0m in \u001b[0;36m<module>\u001b[1;34m()\u001b[0m\n\u001b[0;32m     44\u001b[0m                     \u001b[0mivvi_setup\u001b[0m\u001b[1;33m.\u001b[0m\u001b[0mdac4\u001b[0m\u001b[1;33m(\u001b[0m\u001b[0mbias\u001b[0m\u001b[1;33m)\u001b[0m\u001b[1;33m\u001b[0m\u001b[0m\n\u001b[0;32m     45\u001b[0m \u001b[1;33m\u001b[0m\u001b[0m\n\u001b[1;32m---> 46\u001b[1;33m                     \u001b[0mdet\u001b[0m\u001b[1;33m.\u001b[0m\u001b[0macquisition\u001b[0m\u001b[1;33m(\u001b[0m\u001b[1;33m)\u001b[0m\u001b[1;33m\u001b[0m\u001b[0m\n\u001b[0m\u001b[0;32m     47\u001b[0m                     \u001b[0mdatasaver\u001b[0m\u001b[1;33m.\u001b[0m\u001b[0madd_result\u001b[0m\u001b[1;33m(\u001b[0m\u001b[1;33m*\u001b[0m\u001b[0mmeas\u001b[0m\u001b[1;33m.\u001b[0m\u001b[0mget_result\u001b[0m\u001b[1;33m(\u001b[0m\u001b[1;33m)\u001b[0m\u001b[1;33m)\u001b[0m\u001b[1;33m\u001b[0m\u001b[0m\n",
      "\u001b[1;32md:\\onedrive\\bf1\\code\\qcodes\\qcodes\\instrument\\parameter.py\u001b[0m in \u001b[0;36m__call__\u001b[1;34m(self, *args, **kwargs)\u001b[0m\n\u001b[0;32m    244\u001b[0m         \u001b[1;32mif\u001b[0m \u001b[0mlen\u001b[0m\u001b[1;33m(\u001b[0m\u001b[0margs\u001b[0m\u001b[1;33m)\u001b[0m \u001b[1;33m==\u001b[0m \u001b[1;36m0\u001b[0m\u001b[1;33m:\u001b[0m\u001b[1;33m\u001b[0m\u001b[0m\n\u001b[0;32m    245\u001b[0m             \u001b[1;32mif\u001b[0m \u001b[0mhasattr\u001b[0m\u001b[1;33m(\u001b[0m\u001b[0mself\u001b[0m\u001b[1;33m,\u001b[0m \u001b[1;34m'get'\u001b[0m\u001b[1;33m)\u001b[0m\u001b[1;33m:\u001b[0m\u001b[1;33m\u001b[0m\u001b[0m\n\u001b[1;32m--> 246\u001b[1;33m                 \u001b[1;32mreturn\u001b[0m \u001b[0mself\u001b[0m\u001b[1;33m.\u001b[0m\u001b[0mget\u001b[0m\u001b[1;33m(\u001b[0m\u001b[1;33m)\u001b[0m\u001b[1;33m\u001b[0m\u001b[0m\n\u001b[0m\u001b[0;32m    247\u001b[0m             \u001b[1;32melse\u001b[0m\u001b[1;33m:\u001b[0m\u001b[1;33m\u001b[0m\u001b[0m\n\u001b[0;32m    248\u001b[0m                 raise NotImplementedError('no get cmd found in' +\n",
      "\u001b[1;32md:\\onedrive\\bf1\\code\\qcodes\\qcodes\\instrument\\parameter.py\u001b[0m in \u001b[0;36mget_wrapper\u001b[1;34m(*args, **kwargs)\u001b[0m\n\u001b[0;32m    352\u001b[0m             \u001b[1;32mexcept\u001b[0m \u001b[0mException\u001b[0m \u001b[1;32mas\u001b[0m \u001b[0me\u001b[0m\u001b[1;33m:\u001b[0m\u001b[1;33m\u001b[0m\u001b[0m\n\u001b[0;32m    353\u001b[0m                 \u001b[0me\u001b[0m\u001b[1;33m.\u001b[0m\u001b[0margs\u001b[0m \u001b[1;33m=\u001b[0m \u001b[0me\u001b[0m\u001b[1;33m.\u001b[0m\u001b[0margs\u001b[0m \u001b[1;33m+\u001b[0m \u001b[1;33m(\u001b[0m\u001b[1;34m'getting {}'\u001b[0m\u001b[1;33m.\u001b[0m\u001b[0mformat\u001b[0m\u001b[1;33m(\u001b[0m\u001b[0mself\u001b[0m\u001b[1;33m)\u001b[0m\u001b[1;33m,\u001b[0m\u001b[1;33m)\u001b[0m\u001b[1;33m\u001b[0m\u001b[0m\n\u001b[1;32m--> 354\u001b[1;33m                 \u001b[1;32mraise\u001b[0m \u001b[0me\u001b[0m\u001b[1;33m\u001b[0m\u001b[0m\n\u001b[0m\u001b[0;32m    355\u001b[0m \u001b[1;33m\u001b[0m\u001b[0m\n\u001b[0;32m    356\u001b[0m         \u001b[1;32mreturn\u001b[0m \u001b[0mget_wrapper\u001b[0m\u001b[1;33m\u001b[0m\u001b[0m\n",
      "\u001b[1;32md:\\onedrive\\bf1\\code\\qcodes\\qcodes\\instrument\\parameter.py\u001b[0m in \u001b[0;36mget_wrapper\u001b[1;34m(*args, **kwargs)\u001b[0m\n\u001b[0;32m    322\u001b[0m             \u001b[1;32mtry\u001b[0m\u001b[1;33m:\u001b[0m\u001b[1;33m\u001b[0m\u001b[0m\n\u001b[0;32m    323\u001b[0m                 \u001b[1;31m# There might be cases where a .get also has args/kwargs\u001b[0m\u001b[1;33m\u001b[0m\u001b[1;33m\u001b[0m\u001b[0m\n\u001b[1;32m--> 324\u001b[1;33m                 \u001b[0mvalue\u001b[0m \u001b[1;33m=\u001b[0m \u001b[0mget_function\u001b[0m\u001b[1;33m(\u001b[0m\u001b[1;33m*\u001b[0m\u001b[0margs\u001b[0m\u001b[1;33m,\u001b[0m \u001b[1;33m**\u001b[0m\u001b[0mkwargs\u001b[0m\u001b[1;33m)\u001b[0m\u001b[1;33m\u001b[0m\u001b[0m\n\u001b[0m\u001b[0;32m    325\u001b[0m                 \u001b[0mself\u001b[0m\u001b[1;33m.\u001b[0m\u001b[0mraw_value\u001b[0m \u001b[1;33m=\u001b[0m \u001b[0mvalue\u001b[0m\u001b[1;33m\u001b[0m\u001b[0m\n\u001b[0;32m    326\u001b[0m \u001b[1;33m\u001b[0m\u001b[0m\n",
      "\u001b[1;32md:\\onedrive\\bf1\\code\\qcodes\\qcodes\\utils\\command.py\u001b[0m in \u001b[0;36m__call__\u001b[1;34m(self, *args)\u001b[0m\n\u001b[0;32m    175\u001b[0m             raise TypeError(\n\u001b[0;32m    176\u001b[0m                 'command takes exactly {} args'.format(self.arg_count))\n\u001b[1;32m--> 177\u001b[1;33m         \u001b[1;32mreturn\u001b[0m \u001b[0mself\u001b[0m\u001b[1;33m.\u001b[0m\u001b[0mexec_function\u001b[0m\u001b[1;33m(\u001b[0m\u001b[1;33m*\u001b[0m\u001b[0margs\u001b[0m\u001b[1;33m)\u001b[0m\u001b[1;33m\u001b[0m\u001b[0m\n\u001b[0m",
      "\u001b[1;32m<ipython-input-8-31f5a11ef344>\u001b[0m in \u001b[0;36mdo_acquisition\u001b[1;34m(self)\u001b[0m\n\u001b[0;32m     84\u001b[0m \u001b[1;33m\u001b[0m\u001b[0m\n\u001b[0;32m     85\u001b[0m     \u001b[1;32mdef\u001b[0m \u001b[0mdo_acquisition\u001b[0m\u001b[1;33m(\u001b[0m\u001b[0mself\u001b[0m\u001b[1;33m)\u001b[0m\u001b[1;33m:\u001b[0m\u001b[1;33m\u001b[0m\u001b[0m\n\u001b[1;32m---> 86\u001b[1;33m         \u001b[0mdata\u001b[0m \u001b[1;33m=\u001b[0m \u001b[0msuper\u001b[0m\u001b[1;33m(\u001b[0m\u001b[1;33m)\u001b[0m\u001b[1;33m.\u001b[0m\u001b[0mdo_acquisition\u001b[0m\u001b[1;33m(\u001b[0m\u001b[1;33m)\u001b[0m\u001b[1;33m\u001b[0m\u001b[0m\n\u001b[0m\u001b[0;32m     87\u001b[0m \u001b[1;33m\u001b[0m\u001b[0m\n\u001b[0;32m     88\u001b[0m         \u001b[1;32mif\u001b[0m \u001b[0mself\u001b[0m\u001b[1;33m.\u001b[0m\u001b[0mavg_buffers\u001b[0m\u001b[1;33m(\u001b[0m\u001b[1;33m)\u001b[0m\u001b[1;33m:\u001b[0m\u001b[1;33m\u001b[0m\u001b[0m\n",
      "\u001b[1;32m<ipython-input-8-31f5a11ef344>\u001b[0m in \u001b[0;36mdo_acquisition\u001b[1;34m(self)\u001b[0m\n\u001b[0;32m     43\u001b[0m \u001b[1;33m\u001b[0m\u001b[0m\n\u001b[0;32m     44\u001b[0m     \u001b[1;32mdef\u001b[0m \u001b[0mdo_acquisition\u001b[0m\u001b[1;33m(\u001b[0m\u001b[0mself\u001b[0m\u001b[1;33m)\u001b[0m\u001b[1;33m:\u001b[0m\u001b[1;33m\u001b[0m\u001b[0m\n\u001b[1;32m---> 45\u001b[1;33m         \u001b[0mdata\u001b[0m \u001b[1;33m=\u001b[0m \u001b[0mself\u001b[0m\u001b[1;33m.\u001b[0m\u001b[0macqctl\u001b[0m\u001b[1;33m.\u001b[0m\u001b[0macquisition\u001b[0m\u001b[1;33m(\u001b[0m\u001b[1;33m)\u001b[0m\u001b[1;33m\u001b[0m\u001b[0m\n\u001b[0m\u001b[0;32m     46\u001b[0m         \u001b[0mself\u001b[0m\u001b[1;33m.\u001b[0m\u001b[0msetup\u001b[0m\u001b[1;33m(\u001b[0m\u001b[1;33m)\u001b[0m\u001b[1;33m\u001b[0m\u001b[0m\n\u001b[0;32m     47\u001b[0m \u001b[1;33m\u001b[0m\u001b[0m\n",
      "\u001b[1;32md:\\onedrive\\bf1\\code\\qcodes\\qcodes\\instrument\\parameter.py\u001b[0m in \u001b[0;36m__call__\u001b[1;34m(self, *args, **kwargs)\u001b[0m\n\u001b[0;32m    244\u001b[0m         \u001b[1;32mif\u001b[0m \u001b[0mlen\u001b[0m\u001b[1;33m(\u001b[0m\u001b[0margs\u001b[0m\u001b[1;33m)\u001b[0m \u001b[1;33m==\u001b[0m \u001b[1;36m0\u001b[0m\u001b[1;33m:\u001b[0m\u001b[1;33m\u001b[0m\u001b[0m\n\u001b[0;32m    245\u001b[0m             \u001b[1;32mif\u001b[0m \u001b[0mhasattr\u001b[0m\u001b[1;33m(\u001b[0m\u001b[0mself\u001b[0m\u001b[1;33m,\u001b[0m \u001b[1;34m'get'\u001b[0m\u001b[1;33m)\u001b[0m\u001b[1;33m:\u001b[0m\u001b[1;33m\u001b[0m\u001b[0m\n\u001b[1;32m--> 246\u001b[1;33m                 \u001b[1;32mreturn\u001b[0m \u001b[0mself\u001b[0m\u001b[1;33m.\u001b[0m\u001b[0mget\u001b[0m\u001b[1;33m(\u001b[0m\u001b[1;33m)\u001b[0m\u001b[1;33m\u001b[0m\u001b[0m\n\u001b[0m\u001b[0;32m    247\u001b[0m             \u001b[1;32melse\u001b[0m\u001b[1;33m:\u001b[0m\u001b[1;33m\u001b[0m\u001b[0m\n\u001b[0;32m    248\u001b[0m                 raise NotImplementedError('no get cmd found in' +\n",
      "\u001b[1;32md:\\onedrive\\bf1\\code\\qcodes\\qcodes\\instrument\\parameter.py\u001b[0m in \u001b[0;36mget_wrapper\u001b[1;34m(*args, **kwargs)\u001b[0m\n\u001b[0;32m    352\u001b[0m             \u001b[1;32mexcept\u001b[0m \u001b[0mException\u001b[0m \u001b[1;32mas\u001b[0m \u001b[0me\u001b[0m\u001b[1;33m:\u001b[0m\u001b[1;33m\u001b[0m\u001b[0m\n\u001b[0;32m    353\u001b[0m                 \u001b[0me\u001b[0m\u001b[1;33m.\u001b[0m\u001b[0margs\u001b[0m \u001b[1;33m=\u001b[0m \u001b[0me\u001b[0m\u001b[1;33m.\u001b[0m\u001b[0margs\u001b[0m \u001b[1;33m+\u001b[0m \u001b[1;33m(\u001b[0m\u001b[1;34m'getting {}'\u001b[0m\u001b[1;33m.\u001b[0m\u001b[0mformat\u001b[0m\u001b[1;33m(\u001b[0m\u001b[0mself\u001b[0m\u001b[1;33m)\u001b[0m\u001b[1;33m,\u001b[0m\u001b[1;33m)\u001b[0m\u001b[1;33m\u001b[0m\u001b[0m\n\u001b[1;32m--> 354\u001b[1;33m                 \u001b[1;32mraise\u001b[0m \u001b[0me\u001b[0m\u001b[1;33m\u001b[0m\u001b[0m\n\u001b[0m\u001b[0;32m    355\u001b[0m \u001b[1;33m\u001b[0m\u001b[0m\n\u001b[0;32m    356\u001b[0m         \u001b[1;32mreturn\u001b[0m \u001b[0mget_wrapper\u001b[0m\u001b[1;33m\u001b[0m\u001b[0m\n",
      "\u001b[1;32md:\\onedrive\\bf1\\code\\qcodes\\qcodes\\instrument\\parameter.py\u001b[0m in \u001b[0;36mget_wrapper\u001b[1;34m(*args, **kwargs)\u001b[0m\n\u001b[0;32m    322\u001b[0m             \u001b[1;32mtry\u001b[0m\u001b[1;33m:\u001b[0m\u001b[1;33m\u001b[0m\u001b[0m\n\u001b[0;32m    323\u001b[0m                 \u001b[1;31m# There might be cases where a .get also has args/kwargs\u001b[0m\u001b[1;33m\u001b[0m\u001b[1;33m\u001b[0m\u001b[0m\n\u001b[1;32m--> 324\u001b[1;33m                 \u001b[0mvalue\u001b[0m \u001b[1;33m=\u001b[0m \u001b[0mget_function\u001b[0m\u001b[1;33m(\u001b[0m\u001b[1;33m*\u001b[0m\u001b[0margs\u001b[0m\u001b[1;33m,\u001b[0m \u001b[1;33m**\u001b[0m\u001b[0mkwargs\u001b[0m\u001b[1;33m)\u001b[0m\u001b[1;33m\u001b[0m\u001b[0m\n\u001b[0m\u001b[0;32m    325\u001b[0m                 \u001b[0mself\u001b[0m\u001b[1;33m.\u001b[0m\u001b[0mraw_value\u001b[0m \u001b[1;33m=\u001b[0m \u001b[0mvalue\u001b[0m\u001b[1;33m\u001b[0m\u001b[0m\n\u001b[0;32m    326\u001b[0m \u001b[1;33m\u001b[0m\u001b[0m\n",
      "\u001b[1;32md:\\onedrive\\bf1\\code\\qcodes\\qcodes\\utils\\command.py\u001b[0m in \u001b[0;36m__call__\u001b[1;34m(self, *args)\u001b[0m\n\u001b[0;32m    175\u001b[0m             raise TypeError(\n\u001b[0;32m    176\u001b[0m                 'command takes exactly {} args'.format(self.arg_count))\n\u001b[1;32m--> 177\u001b[1;33m         \u001b[1;32mreturn\u001b[0m \u001b[0mself\u001b[0m\u001b[1;33m.\u001b[0m\u001b[0mexec_function\u001b[0m\u001b[1;33m(\u001b[0m\u001b[1;33m*\u001b[0m\u001b[0margs\u001b[0m\u001b[1;33m)\u001b[0m\u001b[1;33m\u001b[0m\u001b[0m\n\u001b[0m",
      "\u001b[1;32md:\\onedrive\\bf1\\code\\pytopo\\pytopo\\rf\\alazar_acquisition.py\u001b[0m in \u001b[0;36mdo_acquisition\u001b[1;34m(self)\u001b[0m\n\u001b[0;32m     92\u001b[0m     \u001b[1;32mdef\u001b[0m \u001b[0mdo_acquisition\u001b[0m\u001b[1;33m(\u001b[0m\u001b[0mself\u001b[0m\u001b[1;33m)\u001b[0m\u001b[1;33m:\u001b[0m\u001b[1;33m\u001b[0m\u001b[0m\n\u001b[0;32m     93\u001b[0m         \u001b[1;32mif\u001b[0m \u001b[0mself\u001b[0m\u001b[1;33m.\u001b[0m\u001b[0m_alazar\u001b[0m \u001b[1;32mis\u001b[0m \u001b[1;32mnot\u001b[0m \u001b[1;32mNone\u001b[0m\u001b[1;33m:\u001b[0m\u001b[1;33m\u001b[0m\u001b[0m\n\u001b[1;32m---> 94\u001b[1;33m             \u001b[0mvalue\u001b[0m \u001b[1;33m=\u001b[0m \u001b[0mself\u001b[0m\u001b[1;33m.\u001b[0m\u001b[0m_get_alazar\u001b[0m\u001b[1;33m(\u001b[0m\u001b[1;33m)\u001b[0m\u001b[1;33m.\u001b[0m\u001b[0macquire\u001b[0m\u001b[1;33m(\u001b[0m\u001b[0macquisition_controller\u001b[0m\u001b[1;33m=\u001b[0m\u001b[0mself\u001b[0m\u001b[1;33m,\u001b[0m \u001b[1;33m**\u001b[0m\u001b[0mself\u001b[0m\u001b[1;33m.\u001b[0m\u001b[0macquisitionkwargs\u001b[0m\u001b[1;33m)\u001b[0m\u001b[1;33m\u001b[0m\u001b[0m\n\u001b[0m\u001b[0;32m     95\u001b[0m         \u001b[1;32melse\u001b[0m\u001b[1;33m:\u001b[0m\u001b[1;33m\u001b[0m\u001b[0m\n\u001b[0;32m     96\u001b[0m             \u001b[0mvalue\u001b[0m \u001b[1;33m=\u001b[0m \u001b[1;32mNone\u001b[0m\u001b[1;33m\u001b[0m\u001b[0m\n",
      "\u001b[1;32md:\\onedrive\\bf1\\code\\qcodes\\qcodes\\instrument_drivers\\AlazarTech\\ATS.py\u001b[0m in \u001b[0;36macquire\u001b[1;34m(self, mode, samples_per_record, records_per_buffer, buffers_per_acquisition, channel_selection, transfer_offset, external_startcapture, enable_record_headers, alloc_buffers, fifo_only_streaming, interleave_samples, get_processed_data, allocated_buffers, buffer_timeout, acquisition_controller)\u001b[0m\n\u001b[0;32m    705\u001b[0m                 \u001b[0mbuf\u001b[0m \u001b[1;33m=\u001b[0m \u001b[0mself\u001b[0m\u001b[1;33m.\u001b[0m\u001b[0mbuffer_list\u001b[0m\u001b[1;33m[\u001b[0m\u001b[0mbuffers_completed\u001b[0m \u001b[1;33m%\u001b[0m \u001b[0mallocated_buffers\u001b[0m\u001b[1;33m]\u001b[0m\u001b[1;33m\u001b[0m\u001b[0m\n\u001b[0;32m    706\u001b[0m                 self._call_dll('AlazarWaitAsyncBufferComplete',\n\u001b[1;32m--> 707\u001b[1;33m                                self._handle, ctypes.cast(buf.addr, ctypes.c_void_p), buffer_timeout)\n\u001b[0m\u001b[0;32m    708\u001b[0m \u001b[1;33m\u001b[0m\u001b[0m\n\u001b[0;32m    709\u001b[0m                 \u001b[1;31m# TODO(damazter) (C) last series of buffers must be handled\u001b[0m\u001b[1;33m\u001b[0m\u001b[1;33m\u001b[0m\u001b[0m\n",
      "\u001b[1;32md:\\onedrive\\bf1\\code\\qcodes\\qcodes\\instrument_drivers\\AlazarTech\\ATS.py\u001b[0m in \u001b[0;36m_call_dll\u001b[1;34m(self, func_name, *args)\u001b[0m\n\u001b[0;32m    826\u001b[0m                 'error {}: {} from function {} with args: {}'.format(\n\u001b[0;32m    827\u001b[0m                     \u001b[0mreturn_code\u001b[0m\u001b[1;33m,\u001b[0m \u001b[0mself\u001b[0m\u001b[1;33m.\u001b[0m\u001b[0m_error_codes\u001b[0m\u001b[1;33m[\u001b[0m\u001b[0mreturn_code\u001b[0m\u001b[1;33m]\u001b[0m\u001b[1;33m,\u001b[0m \u001b[0mfunc_name\u001b[0m\u001b[1;33m,\u001b[0m\u001b[1;33m\u001b[0m\u001b[0m\n\u001b[1;32m--> 828\u001b[1;33m                     argrepr))\n\u001b[0m\u001b[0;32m    829\u001b[0m \u001b[1;33m\u001b[0m\u001b[0m\n\u001b[0;32m    830\u001b[0m         \u001b[1;31m# mark parameters updated (only after we've checked for errors)\u001b[0m\u001b[1;33m\u001b[0m\u001b[1;33m\u001b[0m\u001b[0m\n",
      "\u001b[1;31mRuntimeError\u001b[0m: ('error 579: ApiWaitTimeout: operation did not finish during timeout interval. Check your trigger. from function AlazarWaitAsyncBufferComplete with args: [2640, c_void_p(2811056095232), 10000]', 'getting avgiq_acq_acquisition', 'getting avgiq_detector_acquisition')"
     ]
    }
   ],
   "source": [
    "# after setting up, we can create the measurement object.\n",
    "# Note: we need to tell it ALL parameters and how they are related. \n",
    "# For simple cases, this wrapper does it.\n",
    "\n",
    "\n",
    "meas = MeasurementExt(station, exp=exp, \n",
    "                      hard_sweep_detector=det,\n",
    "                      soft_sweep_params=[\n",
    "                          ivvi_setup.dac4,\n",
    "                          ivvi_setup.dac8,\n",
    "                      ])\n",
    "\n",
    "\n",
    "lockin1.amplitude(0.004)\n",
    "ivvi_setup.dac4(0e-3)\n",
    "\n",
    "ivvi_setup.dac9(0)     #t1\n",
    "ivvi_setup.dac10(0)    #t2\n",
    "ivvi_setup.dac8(-0.55) #t3\n",
    "ivvi_setup.dac11(-0.25) #t4\n",
    "\n",
    "het_src.frequency(443223813.84306061)\n",
    "\n",
    "# the measurement loop\n",
    "meas.write_period = 1\n",
    "\n",
    "T3 = np.linspace(-.500,-.400,6)\n",
    "T4 = np.linspace(-.350,-.300,6)\n",
    "                    \n",
    "for t4 in T4:\n",
    "    ivvi_setup.dac11(t4)\n",
    "    for t3 in T3:\n",
    "        ivvi_setup.dac8(t3)\n",
    "        with meas.run() as datasaver:\n",
    "\n",
    "            datasaver.dataset.subscribe(\n",
    "                QcodesDatasetSubscriber(datasaver.dataset), \n",
    "                state=[], min_wait=0, min_count=1,\n",
    "            )\n",
    "\n",
    "            for r2 in np.linspace(0, 5e-3, 101):\n",
    "                ivvi_setup.dac8(r2)\n",
    "                for bias in np.linspace(-.5e-3, .5e-3, 101):\n",
    "                    ivvi_setup.dac4(bias)\n",
    "\n",
    "                    det.acquisition()\n",
    "                    datasaver.add_result(*meas.get_result())"
   ]
  },
  {
   "cell_type": "code",
   "execution_count": null,
   "metadata": {
    "ExecuteTime": {
     "end_time": "2018-07-08T11:00:57.077909Z",
     "start_time": "2018-07-08T00:33:49.372493Z"
    }
   },
   "outputs": [],
   "source": [
    "# after setting up, we can create the measurement object.\n",
    "# Note: we need to tell it ALL parameters and how they are related. \n",
    "# For simple cases, this wrapper does it.\n",
    "\n",
    "\n",
    "meas = MeasurementExt(station, exp=exp, \n",
    "                      hard_sweep_detector=det,\n",
    "                      soft_sweep_params=[\n",
    "                          ivvi_setup.dac4,\n",
    "                          ivvi_setup.dac7,\n",
    "                      ])\n",
    "\n",
    "\n",
    "lockin1.amplitude(0.004)\n",
    "ivvi_setup.dac4(0e-3)\n",
    "\n",
    "ivvi_setup.dac9(0)     #t1\n",
    "ivvi_setup.dac10(0)    #t2\n",
    "ivvi_setup.dac8(-0.55) #t3\n",
    "ivvi_setup.dac11(-0.25) #t4\n",
    "\n",
    "het_src.frequency(443223813.84306061)\n",
    "\n",
    "# the measurement loop\n",
    "meas.write_period = 1\n",
    "\n",
    "T3 = [-0.4, -0.45]\n",
    "T4 = np.linspace(-.400,-.300,6)\n",
    "\n",
    "for t4 in T4:\n",
    "    ivvi_setup.dac11(t4)\n",
    "    for t3 in T3:\n",
    "        ivvi_setup.dac8(t3)\n",
    "        with meas.run() as datasaver:\n",
    "\n",
    "            datasaver.dataset.subscribe(\n",
    "                QcodesDatasetSubscriber(datasaver.dataset), \n",
    "                state=[], min_wait=0, min_count=1,\n",
    "            )\n",
    "\n",
    "            for r2 in np.linspace(0, 5e-3, 51):\n",
    "                ivvi_setup.dac7(r2)\n",
    "                for bias in np.linspace(-15e-3, 15e-3, 51):\n",
    "                    ivvi_setup.dac4(bias)\n",
    "\n",
    "                    det.acquisition()\n",
    "                    datasaver.add_result(*meas.get_result())\n",
    "                    \n",
    "for t4 in T4:\n",
    "    ivvi_setup.dac11(t4)\n",
    "    for t3 in T3:\n",
    "        ivvi_setup.dac8(t3)\n",
    "        with meas.run() as datasaver:\n",
    "\n",
    "            datasaver.dataset.subscribe(\n",
    "                QcodesDatasetSubscriber(datasaver.dataset), \n",
    "                state=[], min_wait=0, min_count=1,\n",
    "            )\n",
    "\n",
    "            for r2 in np.linspace(0, 5e-3, 101):\n",
    "                ivvi_setup.dac7(r2)\n",
    "                for bias in np.linspace(-.5e-3, .5e-3, 51):\n",
    "                    ivvi_setup.dac4(bias)\n",
    "\n",
    "                    det.acquisition()\n",
    "                    datasaver.add_result(*meas.get_result())"
   ]
  },
  {
   "cell_type": "markdown",
   "metadata": {},
   "source": [
    "### Map rf diamonds in 2D pinchoff"
   ]
  },
  {
   "cell_type": "code",
   "execution_count": null,
   "metadata": {},
   "outputs": [],
   "source": [
    "# after setting up, we can create the measurement object.\n",
    "# Note: we need to tell it ALL parameters and how they are related. \n",
    "# For simple cases, this wrapper does it.\n",
    "\n",
    "\n",
    "meas = MeasurementExt(station, exp=exp, \n",
    "                      hard_sweep_detector=det,\n",
    "                      soft_sweep_params=[\n",
    "                          ivvi_setup.dac4,\n",
    "                          ivvi_setup.dac7,\n",
    "                      ])\n",
    "\n",
    "\n",
    "lockin1.amplitude(0.004)\n",
    "ivvi_setup.dac4(0e-3)\n",
    "ivvi_setup.dac8(-0.47) #t3\n",
    "ivvi_setup.dac10(0) #t2\n",
    "ivvi_setup.dac11(-0.345) #t4\n",
    "ivvi_setup.dac9(0) #t1\n",
    "het_src.frequency(442.996e6)\n",
    "\n",
    "# the measurement loop\n",
    "meas.write_period = 1\n",
    "\n",
    "with meas.run() as datasaver:\n",
    "\n",
    "    datasaver.dataset.subscribe(\n",
    "        QcodesDatasetSubscriber(datasaver.dataset), \n",
    "        state=[], min_wait=0, min_count=1,\n",
    "    )\n",
    "\n",
    "    for r2 in np.linspace(0, 3e-3, 101):\n",
    "        ivvi_setup.dac7(r2)\n",
    "        for bias in np.linspace(-.5e-3, .5e-3, 101):\n",
    "            ivvi_setup.dac4(bias)\n",
    "\n",
    "            det.acquisition()\n",
    "            datasaver.add_result(*meas.get_result())"
   ]
  },
  {
   "cell_type": "markdown",
   "metadata": {},
   "source": [
    "## RF Charge stability diagram"
   ]
  },
  {
   "cell_type": "code",
   "execution_count": null,
   "metadata": {
    "ExecuteTime": {
     "end_time": "2018-07-06T11:55:48.128296Z",
     "start_time": "2018-07-06T11:51:48.409324Z"
    }
   },
   "outputs": [],
   "source": [
    "# after setting up, we can create the measurement object.\n",
    "# Note: we need to tell it ALL parameters and how they are related. \n",
    "# For simple cases, this wrapper does it.\n",
    "\n",
    "\n",
    "meas = MeasurementExt(station, exp=exp, \n",
    "                      hard_sweep_detector=det,\n",
    "                      soft_sweep_params=[\n",
    "                          ivvi_setup.dac16,\n",
    "                          ivvi_setup.dac7,\n",
    "                      ])\n",
    "\n",
    "\n",
    "lockin1.amplitude(0.004)\n",
    "ivvi_setup.dac4(0e-3)\n",
    "ivvi_setup.dac8(-0.46) #t3\n",
    "ivvi_setup.dac10(-0.3) #t2\n",
    "ivvi_setup.dac11(-0.5) #t4\n",
    "ivvi_setup.dac9(0) #t1\n",
    "het_src.frequency(436588983.83)\n",
    "\n",
    "# the measurement loop\n",
    "meas.write_period = 1\n",
    "\n",
    "\n",
    "with meas.run() as datasaver:\n",
    "    \n",
    "    datasaver.dataset.subscribe(\n",
    "        QcodesDatasetSubscriber(datasaver.dataset), \n",
    "        state=[], min_wait=0, min_count=1,\n",
    "    )\n",
    "\n",
    "    for r2 in np.linspace(-1e-3, 1e-3, 25):\n",
    "        ivvi_setup.dac7(r2)\n",
    "        for pg in np.linspace(0e-3, 1e-3, 51):\n",
    "            ivvi_setup.dac16(pg)\n",
    "\n",
    "            det.acquisition()\n",
    "            datasaver.add_result(*meas.get_result())"
   ]
  },
  {
   "cell_type": "markdown",
   "metadata": {
    "heading_collapsed": true
   },
   "source": [
    "### RF CSD vs field"
   ]
  },
  {
   "cell_type": "code",
   "execution_count": null,
   "metadata": {
    "ExecuteTime": {
     "end_time": "2018-07-05T14:51:05.960002Z",
     "start_time": "2018-07-05T14:50:54.088828Z"
    },
    "hidden": true
   },
   "outputs": [],
   "source": [
    "ami_x.pause()\n",
    "ami_y.pause()\n",
    "ami_z.pause()\n",
    "ami.spherical([0,-2,90])"
   ]
  },
  {
   "cell_type": "code",
   "execution_count": null,
   "metadata": {
    "ExecuteTime": {
     "end_time": "2018-07-06T02:54:55.268084Z",
     "start_time": "2018-07-05T14:51:41.029359Z"
    },
    "hidden": true
   },
   "outputs": [],
   "source": [
    "# after setting up, we can create the measurement object.\n",
    "# Note: we need to tell it ALL parameters and how they are related. \n",
    "# For simple cases, this wrapper does it.\n",
    "\n",
    "\n",
    "meas = MeasurementExt(station, exp=exp, \n",
    "                      hard_sweep_detector=det,\n",
    "                      soft_sweep_params=[\n",
    "                          ivvi_setup.dac16,\n",
    "                          ivvi_setup.dac7,\n",
    "                      ])\n",
    "\n",
    "\n",
    "lockin1.amplitude(0.004)\n",
    "ivvi_setup.dac4(0e-3)\n",
    "ivvi_setup.dac8(-0.46) #t3\n",
    "ivvi_setup.dac10(-0.31) #t2\n",
    "ivvi_setup.dac11(-0.41) #t4\n",
    "ivvi_setup.dac9(0) #t1\n",
    "het_src.frequency(442.996e6)\n",
    "\n",
    "# the measurement loop\n",
    "meas.write_period = 1\n",
    "\n",
    "fields = np.linspace(0,1,11)\n",
    "\n",
    "for field in fields:\n",
    "    ami.field(field)\n",
    "    \n",
    "    with meas.run() as datasaver:\n",
    "\n",
    "        datasaver.dataset.subscribe(\n",
    "            QcodesDatasetSubscriber(datasaver.dataset), \n",
    "            state=[], min_wait=0, min_count=1,\n",
    "        )\n",
    "\n",
    "        for r2 in np.linspace(-1e-3, 1e-3, 101):\n",
    "            ivvi_setup.dac7(r2)\n",
    "            for pg in np.linspace(0e-3, 1e-3, 101):\n",
    "                ivvi_setup.dac16(pg)\n",
    "\n",
    "                det.acquisition()\n",
    "                datasaver.add_result(*meas.get_result())"
   ]
  },
  {
   "cell_type": "code",
   "execution_count": null,
   "metadata": {
    "ExecuteTime": {
     "end_time": "2018-07-06T07:43:26.266375Z",
     "start_time": "2018-07-06T07:18:17.352198Z"
    },
    "hidden": true
   },
   "outputs": [],
   "source": [
    "ami_x.pause()\n",
    "ami_y.pause()\n",
    "ami_z.pause()\n",
    "ami.spherical([0,0,0])"
   ]
  },
  {
   "cell_type": "code",
   "execution_count": null,
   "metadata": {
    "ExecuteTime": {
     "end_time": "2018-07-06T07:18:11.623862Z",
     "start_time": "2018-07-06T03:29:38.730337Z"
    },
    "hidden": true
   },
   "outputs": [],
   "source": [
    "# after setting up, we can create the measurement object.\n",
    "# Note: we need to tell it ALL parameters and how they are related. \n",
    "# For simple cases, this wrapper does it.\n",
    "\n",
    "\n",
    "meas = MeasurementExt(station, exp=exp, \n",
    "                      hard_sweep_detector=det,\n",
    "                      soft_sweep_params=[\n",
    "                          ivvi_setup.dac16,\n",
    "                          ivvi_setup.dac7,\n",
    "                      ])\n",
    "\n",
    "\n",
    "lockin1.amplitude(0.004)\n",
    "ivvi_setup.dac4(0e-3)\n",
    "ivvi_setup.dac8(-0.46) #t3\n",
    "ivvi_setup.dac10(-0.31) #t2\n",
    "ivvi_setup.dac11(-0.41) #t4\n",
    "ivvi_setup.dac9(0) #t1\n",
    "het_src.frequency(442.996e6)\n",
    "\n",
    "# the measurement loop\n",
    "meas.write_period = 1\n",
    "\n",
    "fields = np.linspace(0,1,5)\n",
    "\n",
    "for field in fields:\n",
    "    ami.field(field)\n",
    "    \n",
    "    with meas.run() as datasaver:\n",
    "\n",
    "        datasaver.dataset.subscribe(\n",
    "            QcodesDatasetSubscriber(datasaver.dataset), \n",
    "            state=[], min_wait=0, min_count=1,\n",
    "        )\n",
    "\n",
    "        for r2 in np.linspace(-1e-3, 1e-3, 101):\n",
    "            ivvi_setup.dac7(r2)\n",
    "            for pg in np.linspace(0e-3, 1e-3, 101):\n",
    "                ivvi_setup.dac16(pg)\n",
    "\n",
    "                det.acquisition()\n",
    "                datasaver.add_result(*meas.get_result())"
   ]
  },
  {
   "cell_type": "markdown",
   "metadata": {},
   "source": [
    "## DC diamond scans"
   ]
  },
  {
   "cell_type": "markdown",
   "metadata": {},
   "source": [
    "### DC Diamonds SC"
   ]
  },
  {
   "cell_type": "code",
   "execution_count": null,
   "metadata": {},
   "outputs": [],
   "source": [
    "exp = select_experiment('R2', 'Cq334M')\n",
    "\n",
    "meas = Measurement(exp=exp)\n",
    "meas.write_period = 1\n",
    "meas.register_parameter(ivvi_setup.dac5)\n",
    "meas.register_parameter(ivvi_setup.dac4)\n",
    "meas.register_parameter(ivvi_setup.i_measurement, setpoints=[ivvi_setup.dac5, ivvi_setup.dac4])\n",
    "meas.register_parameter(ivvi_setup.ig_measurement, setpoints=[ivvi_setup.dac5, ivvi_setup.dac4])\n",
    "meas.register_parameter(ivvi_setup.g_measurement, setpoints=[ivvi_setup.dac5, ivvi_setup.dac4])\n",
    "\n",
    "lockin1.amplitude(0.05)\n",
    "ivvi_setup.dac8(-0.47) #t3\n",
    "ivvi_setup.dac10(-0.32) #t2\n",
    "\n",
    "pg = np.linspace(-1e-3, 1e-3, 51)\n",
    "bias_values = np.linspace(-.5e-3, .5e-3, 101)\n",
    "with meas.run() as datasaver:\n",
    "    datasaver.dataset.subscribe(QcodesDatasetSubscriber(datasaver.dataset), state=[], \n",
    "                                min_wait=0, min_count=1)\n",
    "    \n",
    "    for s1 in pg:\n",
    "        ivvi_setup.dac5(s1)\n",
    "        for s2 in bias_values:\n",
    "            ivvi_setup.dac4(s2)\n",
    "            datasaver.add_result((ivvi_setup.dac5, s1),\n",
    "                                 (ivvi_setup.dac4, s2), \n",
    "                                 (ivvi_setup.i_measurement, ivvi_setup.i_measurement()),\n",
    "                                 (ivvi_setup.ig_measurement, ivvi_setup.ig_measurement()),\n",
    "                                 (ivvi_setup.g_measurement, ivvi_setup.g_measurement()))"
   ]
  },
  {
   "cell_type": "markdown",
   "metadata": {},
   "source": [
    "### DC Diamonds dot 1"
   ]
  },
  {
   "cell_type": "code",
   "execution_count": null,
   "metadata": {},
   "outputs": [],
   "source": [
    "exp = select_experiment('R2', 'Cq334M')\n",
    "\n",
    "meas = Measurement(exp=exp)\n",
    "meas.write_period = 1\n",
    "meas.register_parameter(ivvi_setup.dac7)\n",
    "meas.register_parameter(ivvi_setup.dac4)\n",
    "meas.register_parameter(ivvi_setup.i_measurement, setpoints=[ivvi_setup.dac7, ivvi_setup.dac4])\n",
    "meas.register_parameter(ivvi_setup.ig_measurement, setpoints=[ivvi_setup.dac7, ivvi_setup.dac4])\n",
    "meas.register_parameter(ivvi_setup.g_measurement, setpoints=[ivvi_setup.dac7, ivvi_setup.dac4])\n",
    "\n",
    "\n",
    "lockin1.amplitude(0.05)\n",
    "ivvi_setup.dac8(0) #t3\n",
    "ivvi_setup.dac10(-0.32) #t2\n",
    "ivvi_setup.dac9(-0.32) #t1\n",
    "ivvi_setup.dac4(1e-3)\n",
    "\n",
    "pg = np.linspace(0, 1e-3, 25)\n",
    "bias_values = np.linspace(-.5e-3, .5e-3, 101)\n",
    "with meas.run() as datasaver:\n",
    "    datasaver.dataset.subscribe(QcodesDatasetSubscriber(datasaver.dataset), state=[], \n",
    "                                min_wait=0, min_count=1)\n",
    "    \n",
    "    for s1 in pg:\n",
    "        ivvi_setup.dac7(s1)\n",
    "        for s2 in bias_values:\n",
    "            ivvi_setup.dac4(s2)\n",
    "            datasaver.add_result((ivvi_setup.dac7, s1),\n",
    "                                 (ivvi_setup.dac4, s2), \n",
    "                                 (ivvi_setup.i_measurement, ivvi_setup.i_measurement()),\n",
    "                                 (ivvi_setup.ig_measurement, ivvi_setup.ig_measurement()),\n",
    "                                 (ivvi_setup.g_measurement, ivvi_setup.g_measurement()))"
   ]
  },
  {
   "cell_type": "markdown",
   "metadata": {},
   "source": [
    "### DC Diamonds dot 2"
   ]
  },
  {
   "cell_type": "code",
   "execution_count": null,
   "metadata": {},
   "outputs": [],
   "source": [
    "exp = select_experiment('R2', 'Cq334M')\n",
    "\n",
    "meas = Measurement(exp=exp)\n",
    "meas.write_period = 1\n",
    "meas.register_parameter(ivvi_setup.dac14)\n",
    "meas.register_parameter(ivvi_setup.dac4)\n",
    "meas.register_parameter(ivvi_setup.i_measurement, setpoints=[ivvi_setup.dac14, ivvi_setup.dac4])\n",
    "meas.register_parameter(ivvi_setup.ig_measurement, setpoints=[ivvi_setup.dac14, ivvi_setup.dac4])\n",
    "meas.register_parameter(ivvi_setup.g_measurement, setpoints=[ivvi_setup.dac14, ivvi_setup.dac4])\n",
    "\n",
    "\n",
    "lockin1.amplitude(0.05)\n",
    "lockin1.frequency(21.2)\n",
    "ivvi_setup.dac8(0) #t3\n",
    "ivvi_setup.dac10(-0.33) #t2\n",
    "ivvi_setup.dac11(-0.35) #t4\n",
    "ivvi_setup.dac9(0) #t1\n",
    "ivvi_setup.dac4(1e-3)\n",
    "\n",
    "pg = np.linspace(0, 1e-3, 16)\n",
    "bias_values = np.linspace(-.5e-3, .5e-3, 101)\n",
    "with meas.run() as datasaver:\n",
    "    datasaver.dataset.subscribe(QcodesDatasetSubscriber(datasaver.dataset), state=[], \n",
    "                                min_wait=0, min_count=1)\n",
    "    \n",
    "    for s1 in pg:\n",
    "        ivvi_setup.dac14(s1)\n",
    "        for s2 in bias_values:\n",
    "            ivvi_setup.dac4(s2)\n",
    "            datasaver.add_result((ivvi_setup.dac14, s1),\n",
    "                                 (ivvi_setup.dac4, s2), \n",
    "                                 (ivvi_setup.i_measurement, ivvi_setup.i_measurement()),\n",
    "                                 (ivvi_setup.ig_measurement, ivvi_setup.ig_measurement()),\n",
    "                                 (ivvi_setup.g_measurement, ivvi_setup.g_measurement()))"
   ]
  },
  {
   "cell_type": "markdown",
   "metadata": {},
   "source": [
    "## DC Charge stability diagram"
   ]
  },
  {
   "cell_type": "code",
   "execution_count": 175,
   "metadata": {
    "ExecuteTime": {
     "end_time": "2018-07-10T06:25:05.126945Z",
     "start_time": "2018-07-10T06:19:27.153573Z"
    }
   },
   "outputs": [
    {
     "name": "stdout",
     "output_type": "stream",
     "text": [
      "Starting experimental run with id: 1102\n"
     ]
    }
   ],
   "source": [
    "# after setting up, we can create the measurement object.\n",
    "# Note: we need to tell it ALL parameters and how they are related. \n",
    "# For simple cases, this wrapper does it.\n",
    "\n",
    "\n",
    "meas = Measurement(exp=exp)\n",
    "meas.write_period = 1\n",
    "meas.register_parameter(ivvi_setup.dac7)\n",
    "meas.register_parameter(ivvi_setup.dac16)\n",
    "meas.register_parameter(ivvi_setup.i_measurement, setpoints=[ivvi_setup.dac7, ivvi_setup.dac16])\n",
    "meas.register_parameter(ivvi_setup.ig_measurement, setpoints=[ivvi_setup.dac7, ivvi_setup.dac16])\n",
    "meas.register_parameter(ivvi_setup.g_measurement, setpoints=[ivvi_setup.dac7, ivvi_setup.dac16])\n",
    "\n",
    "\n",
    "lockin1.amplitude(0.1)\n",
    "lockin1.frequency(21.2)\n",
    "ivvi_setup.dac4(0e-3)\n",
    "\n",
    "ivvi_setup.dac9(0)     #t1\n",
    "ivvi_setup.dac10(-0.3) #t2\n",
    "ivvi_setup.dac8(-0.46) #t3\n",
    "ivvi_setup.dac11(-0.5) #t4\n",
    "\n",
    "# the measurement loop\n",
    "meas.write_period = 1\n",
    "\n",
    "\n",
    "with meas.run() as datasaver:\n",
    "    \n",
    "    datasaver.dataset.subscribe(\n",
    "        QcodesDatasetSubscriber(datasaver.dataset), \n",
    "        state=[], min_wait=0, min_count=1,\n",
    "    )\n",
    "\n",
    "    for r2 in np.linspace(0e-3, 1e-3, 16):\n",
    "        ivvi_setup.dac7(r2*1e-2)\n",
    "        for pg in np.linspace(0e-3, 1e-3, 51):\n",
    "            ivvi_setup.dac16(pg)\n",
    "            datasaver.add_result((ivvi_setup.dac7, r2),\n",
    "                                 (ivvi_setup.dac16, pg), \n",
    "                                 (ivvi_setup.i_measurement, ivvi_setup.i_measurement()),\n",
    "                                 (ivvi_setup.ig_measurement, ivvi_setup.ig_measurement()),\n",
    "                                 (ivvi_setup.g_measurement, ivvi_setup.g_measurement()))"
   ]
  },
  {
   "cell_type": "markdown",
   "metadata": {},
   "source": [
    "## DC field sweeps"
   ]
  },
  {
   "cell_type": "code",
   "execution_count": 179,
   "metadata": {
    "ExecuteTime": {
     "end_time": "2018-07-10T08:06:36.198396Z",
     "start_time": "2018-07-10T08:06:35.785345Z"
    }
   },
   "outputs": [],
   "source": [
    "ivvi.set_dacs_zero()"
   ]
  },
  {
   "cell_type": "markdown",
   "metadata": {},
   "source": [
    "### Gap measurement versus punger G"
   ]
  },
  {
   "cell_type": "code",
   "execution_count": null,
   "metadata": {
    "ExecuteTime": {
     "end_time": "2018-07-09T09:17:45.569675Z",
     "start_time": "2018-07-09T09:17:32.114940Z"
    }
   },
   "outputs": [],
   "source": [
    "exp = select_experiment('Cq334L', 'Gap measurement')\n",
    "\n",
    "meas = Measurement(exp=exp)\n",
    "meas.write_period = 1\n",
    "meas.register_parameter(ivvi_setup.dac15)\n",
    "meas.register_parameter(ivvi_setup.dac4)\n",
    "meas.register_parameter(ivvi_setup.i_measurement, setpoints=[ivvi_setup.dac15, ivvi_setup.dac4])\n",
    "meas.register_parameter(ivvi_setup.ig_measurement, setpoints=[ivvi_setup.dac15, ivvi_setup.dac4])\n",
    "meas.register_parameter(ivvi_setup.g_measurement, setpoints=[ivvi_setup.dac15, ivvi_setup.dac4])\n",
    "\n",
    "\n",
    "lockin1.amplitude(0.05)\n",
    "lockin1.frequency(21.2)\n",
    "\n",
    "ivvi_setup.dac9(0)      #t1\n",
    "ivvi_setup.dac10(0) #t2\n",
    "ivvi_setup.dac8(-0.46)      #t3\n",
    "ivvi_setup.dac11(0)     #t4\n",
    "ivvi_setup.dac15(0)\n",
    "ivvi_setup.dac4(1e-3)\n",
    "\n",
    "gate_values = np.linspace(-0.045, -0.05, 51)\n",
    "bias_values = np.linspace(-0.3e-3, 0.3e-3, 101)\n",
    "with meas.run() as datasaver:\n",
    "    datasaver.dataset.subscribe(QcodesDatasetSubscriber(datasaver.dataset), state=[], \n",
    "                                min_wait=0, min_count=1)\n",
    "    \n",
    "    for s1 in gate_values:\n",
    "        ivvi_setup.dac15(s1)\n",
    "        for s2 in bias_values:\n",
    "            ivvi_setup.dac4(s2)\n",
    "            datasaver.add_result((ivvi_setup.dac15, s1),\n",
    "                                 (ivvi_setup.dac4, s2), \n",
    "                                 (ivvi_setup.i_measurement, ivvi_setup.i_measurement()),\n",
    "                                 (ivvi_setup.ig_measurement, ivvi_setup.ig_measurement()),\n",
    "                                 (ivvi_setup.g_measurement, ivvi_setup.g_measurement()))"
   ]
  },
  {
   "cell_type": "markdown",
   "metadata": {
    "heading_collapsed": true
   },
   "source": [
    "### Gap measurement versus tunnel gate"
   ]
  },
  {
   "cell_type": "markdown",
   "metadata": {
    "heading_collapsed": true,
    "hidden": true
   },
   "source": [
    "#### T3"
   ]
  },
  {
   "cell_type": "code",
   "execution_count": null,
   "metadata": {
    "ExecuteTime": {
     "end_time": "2018-07-04T13:41:16.368882Z",
     "start_time": "2018-07-04T13:37:39.515259Z"
    },
    "hidden": true
   },
   "outputs": [],
   "source": [
    "exp = select_experiment('Cq334L', 'Gap measurement')\n",
    "\n",
    "meas = Measurement(exp=exp)\n",
    "meas.write_period = 1\n",
    "meas.register_parameter(ivvi_setup.dac8)\n",
    "meas.register_parameter(ivvi_setup.dac4)\n",
    "meas.register_parameter(ivvi_setup.i_measurement, setpoints=[ivvi_setup.dac8, ivvi_setup.dac4])\n",
    "meas.register_parameter(ivvi_setup.ig_measurement, setpoints=[ivvi_setup.dac8, ivvi_setup.dac4])\n",
    "meas.register_parameter(ivvi_setup.g_measurement, setpoints=[ivvi_setup.dac8, ivvi_setup.dac4])\n",
    "\n",
    "\n",
    "lockin1.amplitude(0.05)\n",
    "lockin1.frequency(21.2)\n",
    "\n",
    "ivvi_setup.dac9(0.4)      #t1\n",
    "ivvi_setup.dac10(0.2) #t2\n",
    "ivvi_setup.dac8(-0.46)      #t3\n",
    "ivvi_setup.dac11(0.2)     #t4\n",
    "ivvi_setup.dac15(-0.75)\n",
    "ivvi_setup.dac4(1e-3)\n",
    "\n",
    "gate_values = np.linspace(-0.44, -0.46, 10)\n",
    "bias_values = np.linspace(-0.6e-3, 0.6e-3, 101)\n",
    "with meas.run() as datasaver:\n",
    "    datasaver.dataset.subscribe(QcodesDatasetSubscriber(datasaver.dataset), state=[], \n",
    "                                min_wait=0, min_count=1)\n",
    "    \n",
    "    for s1 in gate_values:\n",
    "        ivvi_setup.dac8(s1)\n",
    "        for s2 in bias_values:\n",
    "            ivvi_setup.dac4(s2)\n",
    "            datasaver.add_result((ivvi_setup.dac8, s1),\n",
    "                                 (ivvi_setup.dac4, s2), \n",
    "                                 (ivvi_setup.i_measurement, ivvi_setup.i_measurement()),\n",
    "                                 (ivvi_setup.ig_measurement, ivvi_setup.ig_measurement()),\n",
    "                                 (ivvi_setup.g_measurement, ivvi_setup.g_measurement()))"
   ]
  },
  {
   "cell_type": "markdown",
   "metadata": {
    "heading_collapsed": true,
    "hidden": true
   },
   "source": [
    "#### T2"
   ]
  },
  {
   "cell_type": "code",
   "execution_count": null,
   "metadata": {
    "ExecuteTime": {
     "end_time": "2018-07-04T13:54:43.204772Z",
     "start_time": "2018-07-04T13:50:43.822137Z"
    },
    "hidden": true
   },
   "outputs": [],
   "source": [
    "exp = select_experiment('Cq334L', 'Gap measurement')\n",
    "\n",
    "meas = Measurement(exp=exp)\n",
    "meas.write_period = 1\n",
    "meas.register_parameter(ivvi_setup.dac10)\n",
    "meas.register_parameter(ivvi_setup.dac4)\n",
    "meas.register_parameter(ivvi_setup.i_measurement, setpoints=[ivvi_setup.dac10, ivvi_setup.dac4])\n",
    "meas.register_parameter(ivvi_setup.ig_measurement, setpoints=[ivvi_setup.dac10, ivvi_setup.dac4])\n",
    "meas.register_parameter(ivvi_setup.g_measurement, setpoints=[ivvi_setup.dac10, ivvi_setup.dac4])\n",
    "\n",
    "\n",
    "lockin1.amplitude(0.05)\n",
    "lockin1.frequency(21.2)\n",
    "\n",
    "ivvi_setup.dac9(0.4)      #t1\n",
    "ivvi_setup.dac10(0.2) #t2\n",
    "ivvi_setup.dac8(-0.46)      #t3\n",
    "ivvi_setup.dac11(0.2)     #t4\n",
    "ivvi_setup.dac15(-0.75)\n",
    "ivvi_setup.dac4(1e-3)\n",
    "\n",
    "gate_values = np.linspace(0.4, 0.6, 10)\n",
    "bias_values = np.linspace(-0.6e-3, 0.6e-3, 101)\n",
    "with meas.run() as datasaver:\n",
    "    datasaver.dataset.subscribe(QcodesDatasetSubscriber(datasaver.dataset), state=[], \n",
    "                                min_wait=0, min_count=1)\n",
    "    \n",
    "    for s1 in gate_values:\n",
    "        ivvi_setup.dac10(s1)\n",
    "        for s2 in bias_values:\n",
    "            ivvi_setup.dac4(s2)\n",
    "            datasaver.add_result((ivvi_setup.dac10, s1),\n",
    "                                 (ivvi_setup.dac4, s2), \n",
    "                                 (ivvi_setup.i_measurement, ivvi_setup.i_measurement()),\n",
    "                                 (ivvi_setup.ig_measurement, ivvi_setup.ig_measurement()),\n",
    "                                 (ivvi_setup.g_measurement, ivvi_setup.g_measurement()))"
   ]
  },
  {
   "cell_type": "markdown",
   "metadata": {
    "heading_collapsed": true,
    "hidden": true
   },
   "source": [
    "#### T4"
   ]
  },
  {
   "cell_type": "code",
   "execution_count": null,
   "metadata": {
    "ExecuteTime": {
     "end_time": "2018-07-05T07:33:20.693807Z",
     "start_time": "2018-07-05T07:29:19.536217Z"
    },
    "hidden": true
   },
   "outputs": [],
   "source": [
    "exp = select_experiment('Cq334L', 'Gap measurement')\n",
    "\n",
    "meas = Measurement(exp=exp)\n",
    "meas.write_period = 1\n",
    "meas.register_parameter(ivvi_setup.dac11)\n",
    "meas.register_parameter(ivvi_setup.dac4)\n",
    "meas.register_parameter(ivvi_setup.i_measurement, setpoints=[ivvi_setup.dac11, ivvi_setup.dac4])\n",
    "meas.register_parameter(ivvi_setup.ig_measurement, setpoints=[ivvi_setup.dac11, ivvi_setup.dac4])\n",
    "meas.register_parameter(ivvi_setup.g_measurement, setpoints=[ivvi_setup.dac11, ivvi_setup.dac4])\n",
    "\n",
    "\n",
    "lockin1.amplitude(0.05)\n",
    "lockin1.frequency(21.2)\n",
    "\n",
    "ivvi_setup.dac9(0.4)      #t1\n",
    "ivvi_setup.dac10(0.6) #t2\n",
    "ivvi_setup.dac8(-0.46)      #t3\n",
    "ivvi_setup.dac11(0.2)     #t4\n",
    "ivvi_setup.dac15(-0.75)\n",
    "ivvi_setup.dac4(1e-3)\n",
    "\n",
    "gate_values = np.linspace(0.2, 0.6, 10)\n",
    "bias_values = np.linspace(-0.6e-3, 0.6e-3, 101)\n",
    "with meas.run() as datasaver:\n",
    "    datasaver.dataset.subscribe(QcodesDatasetSubscriber(datasaver.dataset), state=[], \n",
    "                                min_wait=0, min_count=1)\n",
    "    \n",
    "    for s1 in gate_values:\n",
    "        ivvi_setup.dac11(s1)\n",
    "        for s2 in bias_values:\n",
    "            ivvi_setup.dac4(s2)\n",
    "            datasaver.add_result((ivvi_setup.dac11, s1),\n",
    "                                 (ivvi_setup.dac4, s2), \n",
    "                                 (ivvi_setup.i_measurement, ivvi_setup.i_measurement()),\n",
    "                                 (ivvi_setup.ig_measurement, ivvi_setup.ig_measurement()),\n",
    "                                 (ivvi_setup.g_measurement, ivvi_setup.g_measurement()))"
   ]
  },
  {
   "cell_type": "markdown",
   "metadata": {
    "heading_collapsed": true
   },
   "source": [
    "### DC theta versus bias"
   ]
  },
  {
   "cell_type": "code",
   "execution_count": null,
   "metadata": {
    "ExecuteTime": {
     "end_time": "2018-07-04T16:31:57.411709Z",
     "start_time": "2018-07-04T16:11:55.898589Z"
    },
    "hidden": true
   },
   "outputs": [],
   "source": [
    "ami_x.pause()\n",
    "ami_y.pause()\n",
    "ami_z.pause()\n",
    "ami.spherical([0.9,20,90])"
   ]
  },
  {
   "cell_type": "code",
   "execution_count": null,
   "metadata": {
    "ExecuteTime": {
     "end_time": "2018-07-04T17:20:12.102924Z",
     "start_time": "2018-07-04T16:31:57.414708Z"
    },
    "hidden": true
   },
   "outputs": [],
   "source": [
    "exp = select_experiment('Cq334L', 'Field align')\n",
    "\n",
    "meas = Measurement(exp=exp)\n",
    "meas.write_period = 1\n",
    "meas.register_parameter(ivvi_setup.dac4)\n",
    "meas.register_parameter(ami.theta)\n",
    "meas.register_parameter(ivvi_setup.i_measurement, setpoints=[ami.theta, ivvi_setup.dac4])\n",
    "meas.register_parameter(ivvi_setup.ig_measurement, setpoints=[ami.theta, ivvi_setup.dac4])\n",
    "meas.register_parameter(ivvi_setup.g_measurement, setpoints=[ami.theta, ivvi_setup.dac4])\n",
    "\n",
    "lockin1.amplitude(0.05)\n",
    "lockin1.frequency(21.2)\n",
    "\n",
    "ivvi_setup.dac9(0.4)      #t1\n",
    "ivvi_setup.dac10(0.6) #t2\n",
    "ivvi_setup.dac8(-0.46)      #t3\n",
    "ivvi_setup.dac11(0.2)     #t4\n",
    "ivvi_setup.dac15(-0.75)\n",
    "ivvi_setup.dac4(1e-3)\n",
    "\n",
    "theta_vals = np.linspace(20, -20, 40)\n",
    "bias_values = np.linspace(-.4e-3, .4e-3, 101)\n",
    "with meas.run() as datasaver:\n",
    "    datasaver.dataset.subscribe(QcodesDatasetSubscriber(datasaver.dataset), state=[], \n",
    "                                min_wait=0, min_count=1)\n",
    "    \n",
    "    for s1 in theta_vals:\n",
    "        ami.theta(s1)\n",
    "        for s2 in bias_values:\n",
    "            ivvi_setup.dac4(s2)\n",
    "            datasaver.add_result((ami.theta, s1),\n",
    "                                 (ivvi_setup.dac4, s2), \n",
    "                                 (ivvi_setup.i_measurement, ivvi_setup.i_measurement()),\n",
    "                                 (ivvi_setup.ig_measurement, ivvi_setup.ig_measurement()),\n",
    "                                 (ivvi_setup.g_measurement, ivvi_setup.g_measurement()))"
   ]
  },
  {
   "cell_type": "markdown",
   "metadata": {
    "heading_collapsed": true
   },
   "source": [
    "### DC field magnitude versus bias"
   ]
  },
  {
   "cell_type": "code",
   "execution_count": null,
   "metadata": {
    "ExecuteTime": {
     "end_time": "2018-07-04T18:18:28.879912Z",
     "start_time": "2018-07-04T17:39:47.106714Z"
    },
    "hidden": true
   },
   "outputs": [],
   "source": [
    "ami_x.pause()\n",
    "ami_y.pause()\n",
    "ami_z.pause()\n",
    "ami.spherical([0,-2,90])"
   ]
  },
  {
   "cell_type": "code",
   "execution_count": null,
   "metadata": {
    "ExecuteTime": {
     "end_time": "2018-07-04T22:47:20.847152Z",
     "start_time": "2018-07-04T20:38:10.413484Z"
    },
    "hidden": true
   },
   "outputs": [],
   "source": [
    "exp = select_experiment('Cq334L', 'Field align')\n",
    "\n",
    "meas = Measurement(exp=exp)\n",
    "meas.write_period = 1\n",
    "meas.register_parameter(ami.field)\n",
    "meas.register_parameter(ivvi_setup.dac4)\n",
    "meas.register_parameter(ivvi_setup.i_measurement, setpoints=[ami.field, ivvi_setup.dac4])\n",
    "meas.register_parameter(ivvi_setup.ig_measurement, setpoints=[ami.field, ivvi_setup.dac4])\n",
    "meas.register_parameter(ivvi_setup.g_measurement, setpoints=[ami.field, ivvi_setup.dac4])\n",
    "\n",
    "lockin1.amplitude(0.05)\n",
    "lockin1.frequency(21.2)\n",
    "\n",
    "ivvi_setup.dac9(0.4)      #t1\n",
    "ivvi_setup.dac10(0.6) #t2\n",
    "ivvi_setup.dac8(-0.46)      #t3\n",
    "ivvi_setup.dac11(0.2)     #t4\n",
    "ivvi_setup.dac15(-0.75)\n",
    "ivvi_setup.dac4(1e-3)\n",
    "\n",
    "Br_vals = np.linspace(1.99, 0, 101)\n",
    "bias_values = np.linspace(-.4e-3, .4e-3, 101)\n",
    "with meas.run() as datasaver:\n",
    "    datasaver.dataset.subscribe(QcodesDatasetSubscriber(datasaver.dataset), state=[], \n",
    "                                min_wait=0, min_count=1)\n",
    "    \n",
    "    for s1 in Br_vals:\n",
    "        ami.field(s1)\n",
    "        for s2 in bias_values:\n",
    "            ivvi_setup.dac4(s2)\n",
    "            datasaver.add_result((ami.field, s1),\n",
    "                                 (ivvi_setup.dac4, s2), \n",
    "                                 (ivvi_setup.i_measurement, ivvi_setup.i_measurement()),\n",
    "                                 (ivvi_setup.ig_measurement, ivvi_setup.ig_measurement()),\n",
    "                                 (ivvi_setup.g_measurement, ivvi_setup.g_measurement()))"
   ]
  },
  {
   "cell_type": "markdown",
   "metadata": {},
   "source": [
    "## Gate vs gate"
   ]
  },
  {
   "cell_type": "code",
   "execution_count": 182,
   "metadata": {
    "ExecuteTime": {
     "end_time": "2018-07-10T11:06:23.937951Z",
     "start_time": "2018-07-10T11:06:23.526128Z"
    }
   },
   "outputs": [],
   "source": [
    "ivvi.set_dacs_zero()"
   ]
  },
  {
   "cell_type": "markdown",
   "metadata": {
    "heading_collapsed": true
   },
   "source": [
    "### G vs T2"
   ]
  },
  {
   "cell_type": "code",
   "execution_count": null,
   "metadata": {
    "ExecuteTime": {
     "end_time": "2018-07-05T09:41:01.260424Z",
     "start_time": "2018-07-05T09:34:47.172000Z"
    },
    "hidden": true
   },
   "outputs": [],
   "source": [
    "exp = select_experiment('G vs T2', 'Cq334L')\n",
    "\n",
    "meas = Measurement(exp=exp)\n",
    "meas.write_period = 1\n",
    "meas.register_parameter(ivvi_setup.dac10)\n",
    "meas.register_parameter(ivvi_setup.dac15)\n",
    "meas.register_parameter(ivvi_setup.i_measurement, setpoints=[ivvi_setup.dac10, ivvi_setup.dac15])\n",
    "# meas.register_parameter(ivvi_setup.ig_measurement, setpoints=[ivvi_setup.dac10, ivvi_setup.dac15])\n",
    "# meas.register_parameter(ivvi_setup.g_measurement, setpoints=[ivvi_setup.dac10, ivvi_setup.dac15])\n",
    "\n",
    "\n",
    "lockin1.amplitude(0.05)\n",
    "lockin1.frequency(21.2)\n",
    "ivvi_setup.dac4(1e-3)\n",
    "\n",
    "G  = np.linspace(0, -1, 41)\n",
    "T2 = np.linspace(0, -0.35, 51)\n",
    "with meas.run() as datasaver:\n",
    "    datasaver.dataset.subscribe(QcodesDatasetSubscriber(datasaver.dataset), state=[], \n",
    "                                min_wait=0, min_count=1)\n",
    "    \n",
    "    for s1 in G:\n",
    "        ivvi_setup.dac15(s1)\n",
    "        for s2 in T2:\n",
    "            ivvi_setup.dac10(s2)\n",
    "            datasaver.add_result((ivvi_setup.dac10, s1),\n",
    "                                 (ivvi_setup.dac15, s2), \n",
    "                                 (ivvi_setup.i_measurement, ivvi_setup.i_measurement()),\n",
    "                                )\n",
    "#                                  (ivvi_setup.ig_measurement, ivvi_setup.ig_measurement()),\n",
    "#                                  (ivvi_setup.g_measurement, ivvi_setup.g_measurement()))"
   ]
  },
  {
   "cell_type": "markdown",
   "metadata": {
    "heading_collapsed": true
   },
   "source": [
    "### G vs T3"
   ]
  },
  {
   "cell_type": "code",
   "execution_count": null,
   "metadata": {
    "ExecuteTime": {
     "end_time": "2018-07-05T09:49:01.217870Z",
     "start_time": "2018-07-05T09:41:14.441897Z"
    },
    "hidden": true
   },
   "outputs": [],
   "source": [
    "ivvi.set_dacs_zero()\n",
    "\n",
    "exp = select_experiment('G vs T3', 'Cq334L')\n",
    "\n",
    "meas = Measurement(exp=exp)\n",
    "meas.write_period = 1\n",
    "meas.register_parameter(ivvi_setup.dac8)\n",
    "meas.register_parameter(ivvi_setup.dac15)\n",
    "meas.register_parameter(ivvi_setup.i_measurement, setpoints=[ivvi_setup.dac8, ivvi_setup.dac15])\n",
    "# meas.register_parameter(ivvi_setup.ig_measurement, setpoints=[ivvi_setup.dac10, ivvi_setup.dac15])\n",
    "# meas.register_parameter(ivvi_setup.g_measurement, setpoints=[ivvi_setup.dac10, ivvi_setup.dac15])\n",
    "\n",
    "\n",
    "lockin1.amplitude(0.05)\n",
    "lockin1.frequency(21.2)\n",
    "ivvi_setup.dac4(1e-3)\n",
    "\n",
    "G  = np.linspace(0, -1, 41)\n",
    "T3 = np.linspace(0, -0.5, 51)\n",
    "with meas.run() as datasaver:\n",
    "    datasaver.dataset.subscribe(QcodesDatasetSubscriber(datasaver.dataset), state=[], \n",
    "                                min_wait=0, min_count=1)\n",
    "    \n",
    "    for s1 in G:\n",
    "        ivvi_setup.dac15(s1)\n",
    "        for s2 in T3:\n",
    "            ivvi_setup.dac8(s2)\n",
    "            datasaver.add_result((ivvi_setup.dac8, s1),\n",
    "                                 (ivvi_setup.dac15, s2), \n",
    "                                 (ivvi_setup.i_measurement, ivvi_setup.i_measurement()),\n",
    "                                )\n",
    "#                                  (ivvi_setup.ig_measurement, ivvi_setup.ig_measurement()),\n",
    "#                                  (ivvi_setup.g_measurement, ivvi_setup.g_measurement()))\n"
   ]
  },
  {
   "cell_type": "markdown",
   "metadata": {
    "heading_collapsed": true
   },
   "source": [
    "### T2 vs T3"
   ]
  },
  {
   "cell_type": "code",
   "execution_count": null,
   "metadata": {
    "ExecuteTime": {
     "end_time": "2018-07-05T11:22:07.489102Z",
     "start_time": "2018-07-05T11:04:29.481367Z"
    },
    "hidden": true
   },
   "outputs": [],
   "source": [
    "ivvi.set_dacs_zero()\n",
    "\n",
    "exp = select_experiment('G vs T3', 'Cq334L')\n",
    "\n",
    "meas = Measurement(exp=exp)\n",
    "meas.write_period = 1\n",
    "meas.register_parameter(ivvi_setup.dac8)\n",
    "meas.register_parameter(ivvi_setup.dac10)\n",
    "meas.register_parameter(ivvi_setup.i_measurement, setpoints=[ivvi_setup.dac8, ivvi_setup.dac10])\n",
    "# meas.register_parameter(ivvi_setup.ig_measurement, setpoints=[ivvi_setup.dac10, ivvi_setup.dac15])\n",
    "# meas.register_parameter(ivvi_setup.g_measurement, setpoints=[ivvi_setup.dac10, ivvi_setup.dac15])\n",
    "\n",
    "\n",
    "lockin1.amplitude(0.05)\n",
    "lockin1.frequency(21.2)\n",
    "ivvi_setup.dac4(1e-3)\n",
    "ivvi_setup.dac15(0)\n",
    "\n",
    "T2 = np.linspace(1, 0, 51)\n",
    "T3 = np.linspace(0.5, -0.5, 101)\n",
    "with meas.run() as datasaver:\n",
    "    datasaver.dataset.subscribe(QcodesDatasetSubscriber(datasaver.dataset), state=[], \n",
    "                                min_wait=0, min_count=1)\n",
    "    \n",
    "    for s1 in T2:\n",
    "        ivvi_setup.dac10(s1)\n",
    "        for s2 in T3:\n",
    "            ivvi_setup.dac8(s2)\n",
    "            datasaver.add_result((ivvi_setup.dac8, s1),\n",
    "                                 (ivvi_setup.dac10, s2), \n",
    "                                 (ivvi_setup.i_measurement, ivvi_setup.i_measurement()),\n",
    "                                )\n",
    "#                                  (ivvi_setup.ig_measurement, ivvi_setup.ig_measurement()),\n",
    "#                                  (ivvi_setup.g_measurement, ivvi_setup.g_measurement()))"
   ]
  },
  {
   "cell_type": "markdown",
   "metadata": {},
   "source": [
    "### T3 vs T4"
   ]
  },
  {
   "cell_type": "code",
   "execution_count": null,
   "metadata": {
    "ExecuteTime": {
     "end_time": "2018-07-05T12:59:54.973096Z",
     "start_time": "2018-07-05T12:29:48.401288Z"
    }
   },
   "outputs": [],
   "source": [
    "ivvi.set_dacs_zero()\n",
    "\n",
    "exp = select_experiment('T4 vs T3', 'Cq334L')\n",
    "\n",
    "meas = Measurement(exp=exp)\n",
    "meas.write_period = 1\n",
    "meas.register_parameter(ivvi_setup.dac8)\n",
    "meas.register_parameter(ivvi_setup.dac11)\n",
    "meas.register_parameter(ivvi_setup.i_measurement, setpoints=[ivvi_setup.dac8, ivvi_setup.dac11])\n",
    "# meas.register_parameter(ivvi_setup.ig_measurement, setpoints=[ivvi_setup.dac10, ivvi_setup.dac15])\n",
    "# meas.register_parameter(ivvi_setup.g_measurement, setpoints=[ivvi_setup.dac10, ivvi_setup.dac15])\n",
    "\n",
    "\n",
    "lockin1.amplitude(0.05)\n",
    "lockin1.frequency(21.2)\n",
    "ivvi_setup.dac4(1e-3)\n",
    "ivvi_setup.dac15(0)\n",
    "\n",
    "T4 = np.linspace(-0.15, -0.4,  101)\n",
    "T3 = np.linspace(-0.25, -0.55, 101)\n",
    "with meas.run() as datasaver:\n",
    "    datasaver.dataset.subscribe(QcodesDatasetSubscriber(datasaver.dataset), state=[], \n",
    "                                min_wait=0, min_count=1)\n",
    "    \n",
    "    for s1 in T4:\n",
    "        ivvi_setup.dac11(s1)\n",
    "        for s2 in T3:\n",
    "            ivvi_setup.dac8(s2)\n",
    "            datasaver.add_result((ivvi_setup.dac8, s1),\n",
    "                                 (ivvi_setup.dac11, s2), \n",
    "                                 (ivvi_setup.i_measurement, ivvi_setup.i_measurement()),\n",
    "                                )\n",
    "#                                  (ivvi_setup.ig_measurement, ivvi_setup.ig_measurement()),\n",
    "#                                  (ivvi_setup.g_measurement, ivvi_setup.g_measurement()))"
   ]
  },
  {
   "cell_type": "markdown",
   "metadata": {
    "heading_collapsed": true
   },
   "source": [
    "### T2 vs T4"
   ]
  },
  {
   "cell_type": "code",
   "execution_count": null,
   "metadata": {
    "ExecuteTime": {
     "end_time": "2018-07-05T12:08:26.724878Z",
     "start_time": "2018-07-05T11:52:38.926197Z"
    },
    "hidden": true
   },
   "outputs": [],
   "source": [
    "ivvi.set_dacs_zero()\n",
    "\n",
    "exp = select_experiment('T2 vs T4', 'Cq334L')\n",
    "\n",
    "meas = Measurement(exp=exp)\n",
    "meas.write_period = 1\n",
    "meas.register_parameter(ivvi_setup.dac10)\n",
    "meas.register_parameter(ivvi_setup.dac11)\n",
    "meas.register_parameter(ivvi_setup.i_measurement, setpoints=[ivvi_setup.dac10, ivvi_setup.dac11])\n",
    "# meas.register_parameter(ivvi_setup.ig_measurement, setpoints=[ivvi_setup.dac10, ivvi_setup.dac15])\n",
    "# meas.register_parameter(ivvi_setup.g_measurement, setpoints=[ivvi_setup.dac10, ivvi_setup.dac15])\n",
    "\n",
    "\n",
    "lockin1.amplitude(0.05)\n",
    "lockin1.frequency(21.2)\n",
    "ivvi_setup.dac4(1e-3)\n",
    "ivvi_setup.dac15(0)\n",
    "\n",
    "T4 = np.linspace(0, -0.4, 51)\n",
    "T2 = np.linspace(0, -0.35, 101)\n",
    "with meas.run() as datasaver:\n",
    "    datasaver.dataset.subscribe(QcodesDatasetSubscriber(datasaver.dataset), state=[], \n",
    "                                min_wait=0, min_count=1)\n",
    "    \n",
    "    for s1 in T4:\n",
    "        ivvi_setup.dac11(s1)\n",
    "        for s2 in T2:\n",
    "            ivvi_setup.dac10(s2)\n",
    "            datasaver.add_result((ivvi_setup.dac10, s1),\n",
    "                                 (ivvi_setup.dac11, s2), \n",
    "                                 (ivvi_setup.i_measurement, ivvi_setup.i_measurement()),\n",
    "                                )\n",
    "#                                  (ivvi_setup.ig_measurement, ivvi_setup.ig_measurement()),\n",
    "#                                  (ivvi_setup.g_measurement, ivvi_setup.g_measurement()))"
   ]
  },
  {
   "cell_type": "markdown",
   "metadata": {},
   "source": [
    "### T1 vs T2"
   ]
  },
  {
   "cell_type": "code",
   "execution_count": null,
   "metadata": {
    "ExecuteTime": {
     "end_time": "2018-07-05T12:27:03.483942Z",
     "start_time": "2018-07-05T12:11:15.840254Z"
    }
   },
   "outputs": [],
   "source": [
    "ivvi.set_dacs_zero()\n",
    "\n",
    "exp = select_experiment('T2 vs T4', 'Cq334L')\n",
    "\n",
    "meas = Measurement(exp=exp)\n",
    "meas.write_period = 1\n",
    "meas.register_parameter(ivvi_setup.dac10)\n",
    "meas.register_parameter(ivvi_setup.dac9)\n",
    "meas.register_parameter(ivvi_setup.i_measurement, setpoints=[ivvi_setup.dac10, ivvi_setup.dac9])\n",
    "# meas.register_parameter(ivvi_setup.ig_measurement, setpoints=[ivvi_setup.dac10, ivvi_setup.dac15])\n",
    "# meas.register_parameter(ivvi_setup.g_measurement, setpoints=[ivvi_setup.dac10, ivvi_setup.dac15])\n",
    "\n",
    "\n",
    "lockin1.amplitude(0.05)\n",
    "lockin1.frequency(21.2)\n",
    "ivvi_setup.dac4(1e-3)\n",
    "ivvi_setup.dac15(0)\n",
    "\n",
    "T1 = np.linspace(0, -0.4, 51)\n",
    "T2 = np.linspace(0, -0.35, 101)\n",
    "with meas.run() as datasaver:\n",
    "    datasaver.dataset.subscribe(QcodesDatasetSubscriber(datasaver.dataset), state=[], \n",
    "                                min_wait=0, min_count=1)\n",
    "    \n",
    "    for s1 in T1:\n",
    "        ivvi_setup.dac9(s1)\n",
    "        for s2 in T2:\n",
    "            ivvi_setup.dac10(s2)\n",
    "            datasaver.add_result((ivvi_setup.dac10, s1),\n",
    "                                 (ivvi_setup.dac9, s2), \n",
    "                                 (ivvi_setup.i_measurement, ivvi_setup.i_measurement()),\n",
    "                                )\n",
    "#                                  (ivvi_setup.ig_measurement, ivvi_setup.ig_measurement()),\n",
    "#                                  (ivvi_setup.g_measurement, ivvi_setup.g_measurement()))"
   ]
  },
  {
   "cell_type": "code",
   "execution_count": null,
   "metadata": {},
   "outputs": [],
   "source": []
  }
 ],
 "metadata": {
  "kernelspec": {
   "display_name": "Python 3",
   "language": "python",
   "name": "python3"
  },
  "language_info": {
   "codemirror_mode": {
    "name": "ipython",
    "version": 3
   },
   "file_extension": ".py",
   "mimetype": "text/x-python",
   "name": "python",
   "nbconvert_exporter": "python",
   "pygments_lexer": "ipython3",
   "version": "3.6.5"
  },
  "toc": {
   "base_numbering": 1,
   "nav_menu": {},
   "number_sections": true,
   "sideBar": true,
   "skip_h1_title": false,
   "title_cell": "Table of Contents",
   "title_sidebar": "Contents",
   "toc_cell": false,
   "toc_position": {
    "height": "calc(100% - 180px)",
    "left": "10px",
    "top": "150px",
    "width": "572px"
   },
   "toc_section_display": true,
   "toc_window_display": true
  }
 },
 "nbformat": 4,
 "nbformat_minor": 2
}
