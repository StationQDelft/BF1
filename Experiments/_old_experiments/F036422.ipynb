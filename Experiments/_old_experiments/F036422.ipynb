{
 "cells": [
  {
   "cell_type": "code",
   "execution_count": 1,
   "metadata": {
    "collapsed": true
   },
   "outputs": [],
   "source": [
    "%matplotlib notebook\n",
    "\n",
    "import time\n",
    "import sys\n",
    "import numpy as np\n",
    "from collections import OrderedDict\n",
    "\n",
    "# import sys\n",
    "\n",
    "paths = [\n",
    "# #     r\"C:\\Users\\Administrator\\Code\\qcodes_wp\",\n",
    "    r\"C:\\Users\\Administrator\\Code\\qcodes_jens\",\n",
    "    r\"C:\\Users\\Administrator\\Code\\pysweep2.0\",\n",
    "]\n",
    "\n",
    "for p in paths:\n",
    "    if p not in sys.path:\n",
    "        sys.path.append(p)\n",
    "\n",
    "import qcodes\n",
    "from qcodes.instrument_drivers.QuTech.IVVI import IVVI\n",
    "from qcodes.instrument_drivers.stanford_research.SR865 import SR865\n",
    "from qcodes.instrument_drivers.Keysight.Keysight_34465A import Keysight_34465A\n",
    "from qcodes.instrument_drivers.rohde_schwarz.SGS100A import RohdeSchwarz_SGS100A\n",
    "\n",
    "\n",
    "from pysweep import measurement\n",
    "from pysweep import sweep, Measurement\n",
    "from pysweep import data_plot"
   ]
  },
  {
   "cell_type": "markdown",
   "metadata": {},
   "source": [
    "## Initialization"
   ]
  },
  {
   "cell_type": "code",
   "execution_count": 2,
   "metadata": {
    "collapsed": true
   },
   "outputs": [],
   "source": [
    "#Measurement.use_storage(\"json\")\n",
    "Measurement.use_storage(\"np\")"
   ]
  },
  {
   "cell_type": "code",
   "execution_count": 3,
   "metadata": {},
   "outputs": [
    {
     "name": "stderr",
     "output_type": "stream",
     "text": [
      "C:\\Users\\Administrator\\Code\\qcodes_jens\\qcodes\\instrument\\parameter.py:182: UserWarning: Delay kwarg is deprecated. Replace with inter_delay or post_delay as needed\n",
      "  warnings.warn(\"Delay kwarg is deprecated. Replace with \"\n"
     ]
    },
    {
     "name": "stdout",
     "output_type": "stream",
     "text": [
      "Initialized IVVI-rack in 0.34s\n",
      "Connected to: Stanford_Research_Systems SR860 (serial:003104, firmware:V1.47) in 0.10s\n",
      "Connected to: Keysight Technologies 34465A (serial:MY57503596, firmware:A.02.14-02.40-02.14-00.49-03-01) in 0.16s\n"
     ]
    },
    {
     "name": "stderr",
     "output_type": "stream",
     "text": [
      "C:\\Users\\Administrator\\Code\\qcodes_jens\\qcodes\\instrument\\parameter.py:207: UserWarning: Wrapping get method, original get method will not be directly accessible. It is recommended to define get_raw in your subclass instead.\n",
      "  warnings.warn('Wrapping get method, original get method will not '\n"
     ]
    }
   ],
   "source": [
    "ivvi = IVVI(\"ivvi\", \"ASRL5::INSTR\")\n",
    "sr1 = SR865(\"sr1\", \"GPIB0::3::INSTR\")\n",
    "key = Keysight_34465A(\"key1\", \"USB0::0x2A8D::0x0101::MY57503596::INSTR\")\n",
    "# RF = RohdeSchwarz_SGS100A('RF', address=\"TCPIP0::169.254.2.20\")\n",
    "#key2 = Keysight_34465A(\"key2\", \"USB0::0x2A8D::0x0101::MY57503135::INSTR\")"
   ]
  },
  {
   "cell_type": "code",
   "execution_count": 4,
   "metadata": {},
   "outputs": [
    {
     "name": "stderr",
     "output_type": "stream",
     "text": [
      "C:\\Users\\Administrator\\Code\\qcodes_jens\\qcodes\\instrument\\parameter.py:512: UserWarning: set_step is deprecated use step property as in `inst.step = stepvalue` instead\n",
      "  \"set_step is deprecated use step property as in `inst.step = \"\n",
      "C:\\Users\\Administrator\\Code\\qcodes_jens\\qcodes\\instrument\\parameter.py:524: UserWarning: set_delay is deprecated use inter_delay or post_delay property as in `inst.inter_delay = delayvalue` instead\n",
      "  \"set_delay is deprecated use inter_delay or post_delay property \"\n"
     ]
    }
   ],
   "source": [
    "#Set some ramp rates for the DACs which aren't too painfully slow\n",
    "for i in range(1,16):\n",
    "    ivvi.parameters['dac{}'.format(i)].set_step(0.5)\n",
    "    ivvi.parameters['dac{}'.format(i)].set_delay(0.001)\n",
    "\n",
    "ivvi.dac1.set_delay(0.001)\n",
    "ivvi.dac1.set_step(20)\n",
    "ivvi.dac6.set_delay(0.001)\n",
    "ivvi.dac6.set_step(5)\n",
    "ivvi.dac8.set_delay(0.001)\n",
    "ivvi.dac8.set_step(5)\n",
    "ivvi.dac12.set_delay(0.001)\n",
    "ivvi.dac12.set_step(5)\n",
    "ivvi.dac4.set_delay(0.001)\n",
    "ivvi.dac4.set_step(5)"
   ]
  },
  {
   "cell_type": "code",
   "execution_count": 9,
   "metadata": {
    "collapsed": true
   },
   "outputs": [],
   "source": [
    "ivvi.set_dacs_zero()"
   ]
  },
  {
   "cell_type": "code",
   "execution_count": 5,
   "metadata": {
    "collapsed": true
   },
   "outputs": [],
   "source": [
    "ivvi.close()"
   ]
  },
  {
   "cell_type": "markdown",
   "metadata": {},
   "source": [
    "## Measurement definitions"
   ]
  },
  {
   "cell_type": "code",
   "execution_count": 5,
   "metadata": {
    "collapsed": true
   },
   "outputs": [],
   "source": [
    "#Set some ramp rates for the DACs which aren't too painfully slow\n",
    "def setup(station, namespace): \n",
    "#    for i in range(1,16):\n",
    "#        station.ivvi.parameters['dac{}'.format(i)].set_step(0.5)\n",
    "#        station.ivvi.parameters['dac{}'.format(i)].set_delay(0.001)\n",
    "        return {}\n",
    "\n",
    "def cleanup(station, namespace): \n",
    "    return {}\n",
    "\n",
    "#def measurement(station, namespace): \n",
    "#    \n",
    "#    volt = station.key1.volt()\n",
    "#    \n",
    "#    return {\n",
    "#        \"measurement\": {\n",
    "#            \"unit\": \" V\", \n",
    "#            \"value\": 2*volt\n",
    "#        }, \n",
    "#        \"raw_reading\": {\n",
    "#            \"unit\": \"V\",\n",
    "#            \"value\": volt\n",
    "#        }\n",
    "#    }\n",
    "\n",
    "def dc_measurement(station, namespace):\n",
    "    \n",
    "    #if hasattr(namespace, 't0'):\n",
    "        #print('time since last point: {:.3f}'.format((time.time()-namespace.t0)*1e3))\n",
    "    namespace.t0 = time.time()\n",
    "    \n",
    "    S1_gain = 1 # for now \n",
    "    NW_gain = 1e7 # Gain of current amp in V/A\n",
    "    V_range = 1e-3 #Gain factor of voltage source module in V/V\n",
    "    \n",
    "    NW_res = 11700 + NW_gain*1e-4+100\n",
    "    \n",
    "    t0 = time.time()\n",
    "    k1 = station.key1.volt()\n",
    "    t1 = time.time() - t0\n",
    "    #print(\"voltage readout took {:.3f} ms\".format(t1 * 1e3))\n",
    "    \n",
    "    k1_scaled = k1/NW_gain\n",
    "    #k2 = station.key2.volt()\n",
    "    #k2_scaled = k2/S1_gain\n",
    "   \n",
    "    t0 = time.time()\n",
    "    lockin1_x = station.sr1.X()\n",
    "    lockin1_p = station.sr1.P()\n",
    "    t1 = time.time() - t0\n",
    "    #print(\"lock-in readout took {:.3f} ms\".format(t1 * 1e3))\n",
    "    \n",
    "    if lockin1_x == 0:\n",
    "        processed1 = 1e99\n",
    "    else:\n",
    "        processed1 = station.sr1.amplitude()*V_range*0.01 / (lockin1_x/NW_gain)-NW_res\n",
    "    \n",
    "    return OrderedDict({\n",
    "        \"Current\": {\"unit\": \"A\", \"value\": k1_scaled}, \n",
    "        \"k1\": {\"unit\": \"V\", \"value\": k1},\n",
    "        #\"k2 scaled\": {\"unit\": \"V\", \"value\": k2_scaled}, \n",
    "        #\"k2\": {\"unit\": \"V\", \"value\": k2},\n",
    "        \"lockin1_x\": {\"unit\": \"V\", \"value\": lockin1_x}, \n",
    "        \"lockin1_p\": {\"unit\": \"deg\", \"value\": lockin1_p}, \n",
    "        \"processed1\": {\"unit\": \"Ohm\", \"value\": processed1}, \n",
    "        \"conductance\": {\"unit\": \"h/2e\", \"value\": 12906/processed1}\n",
    "    })\n",
    "\n",
    "def key1_measurement(station, namespace):\n",
    "    \n",
    "    S1_gain = 1 # for now \n",
    "    NW_gain = 1e7 # Gain of current amp in V/A\n",
    "    V_range = 1e-3 #Gain factor of voltage source module in V/V\n",
    "    \n",
    "    NW_res = 11700 + NW_gain*1e-4+100\n",
    "    \n",
    "    k1 = station.key1.volt()\n",
    "    k1_scaled = k1/NW_gain\n",
    "      \n",
    "       \n",
    "    return OrderedDict({\n",
    "        \"Current\": {\"unit\": \"A\", \"value\": k1_scaled}, \n",
    "        \"k1\": {\"unit\": \"V\", \"value\": k1},\n",
    "        \n",
    "           })\n",
    "\n",
    "def homodyne_measurement(station, namespace):\n",
    "   \n",
    "    k2 = station.key1.volt() \n",
    "      \n",
    "       \n",
    "    return OrderedDict({\n",
    "        \"RF\": {\"unit\": \"V\", \"value\": k2}\n",
    "        \n",
    "           })\n",
    "\n",
    "def log_time(station, namespace):\n",
    "    #print(\"Current ms:\", time.time()%1 * 1e3)\n",
    "    return {}\n",
    "\n",
    "def clr(station, namespace):\n",
    "    print(\"\")\n",
    "    return {}"
   ]
  },
  {
   "cell_type": "markdown",
   "metadata": {},
   "source": [
    "## Basic measurement loops"
   ]
  },
  {
   "cell_type": "code",
   "execution_count": 7,
   "metadata": {},
   "outputs": [
    {
     "name": "stderr",
     "output_type": "stream",
     "text": [
      "C:\\Users\\Administrator\\Code\\qcodes_jens\\qcodes\\instrument\\parameter.py:614: UserWarning: set_validator is deprected use `inst.vals = MyValidator` instead\n",
      "  \"set_validator is deprected use `inst.vals = MyValidator` instead\")\n"
     ]
    }
   ],
   "source": [
    "station = qcodes.Station(key, ivvi, sr1)\n",
    "Measurement.set_station(station)"
   ]
  },
  {
   "cell_type": "code",
   "execution_count": 12,
   "metadata": {},
   "outputs": [
    {
     "ename": "AttributeError",
     "evalue": "'Station' object and its delegates have no attribute 'RF'",
     "output_type": "error",
     "traceback": [
      "\u001b[1;31m---------------------------------------------------------------------------\u001b[0m",
      "\u001b[1;31mAttributeError\u001b[0m                            Traceback (most recent call last)",
      "\u001b[1;32m<ipython-input-12-6bbfd28664a0>\u001b[0m in \u001b[0;36m<module>\u001b[1;34m()\u001b[0m\n\u001b[0;32m      3\u001b[0m     \u001b[0mcleanup\u001b[0m\u001b[1;33m,\u001b[0m\u001b[1;33m\u001b[0m\u001b[0m\n\u001b[0;32m      4\u001b[0m     (\n\u001b[1;32m----> 5\u001b[1;33m         \u001b[0msweep\u001b[0m\u001b[1;33m(\u001b[0m\u001b[0mstation\u001b[0m\u001b[1;33m.\u001b[0m\u001b[0mRF\u001b[0m\u001b[1;33m.\u001b[0m\u001b[0mfrequency\u001b[0m\u001b[1;33m,\u001b[0m \u001b[0mnp\u001b[0m\u001b[1;33m.\u001b[0m\u001b[0mlinspace\u001b[0m\u001b[1;33m(\u001b[0m\u001b[1;36m50e6\u001b[0m\u001b[1;33m,\u001b[0m \u001b[1;36m200e6\u001b[0m\u001b[1;33m,\u001b[0m \u001b[1;36m251\u001b[0m\u001b[1;33m)\u001b[0m\u001b[1;33m)\u001b[0m\u001b[1;33m,\u001b[0m\u001b[1;33m\u001b[0m\u001b[0m\n\u001b[0m\u001b[0;32m      6\u001b[0m         [\n\u001b[0;32m      7\u001b[0m             \u001b[0mdc_measurement\u001b[0m\u001b[1;33m,\u001b[0m\u001b[1;33m\u001b[0m\u001b[0m\n",
      "\u001b[1;32m~\\Code\\qcodes_jens\\qcodes\\utils\\helpers.py\u001b[0m in \u001b[0;36m__getattr__\u001b[1;34m(self, key)\u001b[0m\n\u001b[0;32m    344\u001b[0m         raise AttributeError(\n\u001b[0;32m    345\u001b[0m             \"'{}' object and its delegates have no attribute '{}'\".format(\n\u001b[1;32m--> 346\u001b[1;33m                 self.__class__.__name__, key))\n\u001b[0m\u001b[0;32m    347\u001b[0m \u001b[1;33m\u001b[0m\u001b[0m\n\u001b[0;32m    348\u001b[0m     \u001b[1;32mdef\u001b[0m \u001b[0m__dir__\u001b[0m\u001b[1;33m(\u001b[0m\u001b[0mself\u001b[0m\u001b[1;33m)\u001b[0m\u001b[1;33m:\u001b[0m\u001b[1;33m\u001b[0m\u001b[0m\n",
      "\u001b[1;31mAttributeError\u001b[0m: 'Station' object and its delegates have no attribute 'RF'"
     ]
    }
   ],
   "source": [
    "measure = Measurement(\n",
    "    setup, \n",
    "    cleanup, \n",
    "    (\n",
    "        sweep(station.RF.frequency, np.linspace(50e6, 200e6, 251)),\n",
    "        [\n",
    "            dc_measurement,\n",
    "#             log_time, \n",
    "            #clr#, \n",
    "            #measurement\n",
    "        ]\n",
    "    )\n",
    ").run(max_buffer_size=2)"
   ]
  },
  {
   "cell_type": "code",
   "execution_count": null,
   "metadata": {
    "collapsed": true
   },
   "outputs": [],
   "source": [
    "# measure.output()"
   ]
  },
  {
   "cell_type": "code",
   "execution_count": null,
   "metadata": {
    "collapsed": true
   },
   "outputs": [],
   "source": [
    "#out = measure.output(\"Current\")"
   ]
  },
  {
   "cell_type": "code",
   "execution_count": null,
   "metadata": {
    "collapsed": true
   },
   "outputs": [],
   "source": [
    "#data_plot.DataPlot(out)"
   ]
  },
  {
   "cell_type": "code",
   "execution_count": null,
   "metadata": {
    "collapsed": true
   },
   "outputs": [],
   "source": [
    "import time \n",
    "\n",
    "def sleep(tm): \n",
    "    def inner(station, namespace): \n",
    "        time.sleep(tm)\n",
    "        return {}\n",
    "    \n",
    "    return inner "
   ]
  },
  {
   "cell_type": "code",
   "execution_count": 9,
   "metadata": {},
   "outputs": [],
   "source": [
    "measure = Measurement(\n",
    "    setup, \n",
    "    cleanup, \n",
    "    (\n",
    "        sweep(station.ivvi.dac1, np.linspace(-600, 1400, 101)),\n",
    "        sweep(station.ivvi.dac4, np.linspace(0, 50, 200)), \n",
    "        #sleep(0.001),\n",
    "        dc_measurement\n",
    "    )\n",
    ").run()"
   ]
  },
  {
   "cell_type": "code",
   "execution_count": null,
   "metadata": {
    "collapsed": true
   },
   "outputs": [],
   "source": [
    "measure = Measurement(\n",
    "    setup, \n",
    "    cleanup, \n",
    "    (\n",
    "        sweep(station.ivvi.dac1, np.linspace(-1500, 1800, 101)),\n",
    "        sweep(station.ivvi.dac9, np.linspace(0, 50, 200)), \n",
    "        #sleep(0.001),\n",
    "        key1_measurement\n",
    "    )\n",
    ").run(max_buffer_size=2)"
   ]
  },
  {
   "cell_type": "code",
   "execution_count": null,
   "metadata": {
    "collapsed": true
   },
   "outputs": [],
   "source": [
    "measure = Measurement(\n",
    "    setup, \n",
    "    cleanup, \n",
    "    (\n",
    "        sweep(station.ivvi.dac1, np.linspace(-1500, 2000, 88)),\n",
    "        sweep(station.ivvi.dac6, np.linspace(0, 400, 400)), \n",
    "        #sleep(0.001),\n",
    "        dc_measurement\n",
    "    )\n",
    ").run(max_buffer_size=2)"
   ]
  },
  {
   "cell_type": "code",
   "execution_count": null,
   "metadata": {
    "collapsed": true
   },
   "outputs": [],
   "source": [
    "measure = Measurement(\n",
    "    setup, \n",
    "    cleanup, \n",
    "    (\n",
    "        sweep(station.ivvi.dac1, np.linspace(-2000, 2000, 101)),\n",
    "        sweep(station.ivvi.dac5, np.linspace(0, 200, 200)), \n",
    "        #sleep(0.001),\n",
    "        key1_measurement\n",
    "    )\n",
    ").run(max_buffer_size=2)"
   ]
  },
  {
   "cell_type": "code",
   "execution_count": null,
   "metadata": {
    "collapsed": true
   },
   "outputs": [],
   "source": [
    "measure = Measurement(\n",
    "    setup, \n",
    "    cleanup, \n",
    "    (\n",
    "        sweep(station.ivvi.dac1, np.linspace(-1500, 2000, 201)),\n",
    "        sweep(station.ivvi.dac12, np.linspace(-50, 50, 400)), \n",
    "        #sleep(0.001),\n",
    "        dc_measurement\n",
    "    )\n",
    ").run(max_buffer_size=2)"
   ]
  },
  {
   "cell_type": "code",
   "execution_count": null,
   "metadata": {
    "collapsed": true
   },
   "outputs": [],
   "source": [
    "key.NPLC(0.2)"
   ]
  },
  {
   "cell_type": "code",
   "execution_count": 6,
   "metadata": {
    "collapsed": true
   },
   "outputs": [],
   "source": [
    "ivvi.dac1(2000)"
   ]
  },
  {
   "cell_type": "code",
   "execution_count": null,
   "metadata": {
    "collapsed": true
   },
   "outputs": [],
   "source": [
    "sr1.amplitude(.2)"
   ]
  },
  {
   "cell_type": "code",
   "execution_count": null,
   "metadata": {
    "collapsed": true
   },
   "outputs": [],
   "source": []
  },
  {
   "cell_type": "code",
   "execution_count": null,
   "metadata": {
    "collapsed": true
   },
   "outputs": [],
   "source": [
    "print((time.time() % 1) * 1e3)\n",
    "print(key.volt())\n",
    "print((time.time() % 1) * 1e3)\n"
   ]
  },
  {
   "cell_type": "code",
   "execution_count": null,
   "metadata": {
    "collapsed": true
   },
   "outputs": [],
   "source": []
  },
  {
   "cell_type": "code",
   "execution_count": null,
   "metadata": {
    "collapsed": true
   },
   "outputs": [],
   "source": [
    "4.4%1"
   ]
  },
  {
   "cell_type": "code",
   "execution_count": 6,
   "metadata": {},
   "outputs": [
    {
     "data": {
      "text/plain": [
       "150000000.0"
      ]
     },
     "execution_count": 6,
     "metadata": {},
     "output_type": "execute_result"
    }
   ],
   "source": [
    "RF.frequency()"
   ]
  },
  {
   "cell_type": "code",
   "execution_count": 7,
   "metadata": {},
   "outputs": [
    {
     "data": {
      "text/plain": [
       "-0.000721189177"
      ]
     },
     "execution_count": 7,
     "metadata": {},
     "output_type": "execute_result"
    }
   ],
   "source": [
    "key.volt()"
   ]
  },
  {
   "cell_type": "code",
   "execution_count": null,
   "metadata": {
    "collapsed": true
   },
   "outputs": [],
   "source": []
  }
 ],
 "metadata": {
  "kernelspec": {
   "display_name": "Python 3",
   "language": "python",
   "name": "python3"
  },
  "language_info": {
   "codemirror_mode": {
    "name": "ipython",
    "version": 3
   },
   "file_extension": ".py",
   "mimetype": "text/x-python",
   "name": "python",
   "nbconvert_exporter": "python",
   "pygments_lexer": "ipython3",
   "version": "3.6.2"
  }
 },
 "nbformat": 4,
 "nbformat_minor": 2
}
