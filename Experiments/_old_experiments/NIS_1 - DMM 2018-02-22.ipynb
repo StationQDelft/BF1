{
 "cells": [
  {
   "cell_type": "code",
   "execution_count": 1,
   "metadata": {
    "collapsed": true
   },
   "outputs": [],
   "source": [
    "import time\n",
    "import sys\n",
    "import os\n",
    "from collections import OrderedDict\n",
    "from importlib import reload\n",
    "from pprint import pprint\n",
    "\n",
    "import h5py\n",
    "import numpy as np\n",
    "from matplotlib import pyplot as plt\n",
    "\n",
    "%matplotlib inline"
   ]
  },
  {
   "cell_type": "code",
   "execution_count": 2,
   "metadata": {
    "collapsed": true
   },
   "outputs": [],
   "source": [
    "import qcodes\n",
    "qc = qcodes"
   ]
  },
  {
   "cell_type": "code",
   "execution_count": 3,
   "metadata": {
    "collapsed": true
   },
   "outputs": [],
   "source": [
    "from scipy import constants\n",
    "from scipy.interpolate import interp1d\n",
    "from scipy.optimize import fmin"
   ]
  },
  {
   "cell_type": "code",
   "execution_count": 4,
   "metadata": {
    "collapsed": true
   },
   "outputs": [],
   "source": [
    "from labtools.mplplots import init_nb_plotting\n",
    "reload(init_nb_plotting)\n",
    "from labtools.mplplots.init_nb_plotting import *\n",
    "\n",
    "from labtools.mplplots import plots as mplplots\n",
    "from labtools.mplplots import tools as mpltools"
   ]
  },
  {
   "cell_type": "code",
   "execution_count": null,
   "metadata": {
    "collapsed": true
   },
   "outputs": [],
   "source": [
    "# from quantum_capacitance import rf; reload(rf)\n",
    "# from quantum_capacitance.rf import AlazarMeasurementExt, AWGMeasurement, AWG2DRamp"
   ]
  },
  {
   "cell_type": "markdown",
   "metadata": {
    "collapsed": true
   },
   "source": [
    "# Basic configuration"
   ]
  },
  {
   "cell_type": "code",
   "execution_count": 5,
   "metadata": {},
   "outputs": [
    {
     "name": "stderr",
     "output_type": "stream",
     "text": [
      "2018-02-21 09:20:53,486 : measurement : INFO : Logger set up!\n"
     ]
    },
    {
     "name": "stdout",
     "output_type": "stream",
     "text": [
      "Initialized IVVI-rack in 0.09s\n",
      "Connected to: Keysight Technologies 34465A (serial:MY57503556, firmware:A.02.14-02.40-02.14-00.49-03-01) in 0.16s\n"
     ]
    },
    {
     "name": "stderr",
     "output_type": "stream",
     "text": [
      "C:\\Users\\Administrator\\Code\\Qcodes\\qcodes\\instrument\\parameter.py:209: UserWarning: Wrapping get method, original get method will not be directly accessible. It is recommended to define get_raw in your subclass instead.\n",
      "  warnings.warn('Wrapping get method, original get method will not '\n",
      "C:\\Users\\Administrator\\Code\\Qcodes\\qcodes\\instrument\\parameter.py:514: UserWarning: set_step is deprecated use step property as in `inst.step = stepvalue` instead\n",
      "  \"set_step is deprecated use step property as in `inst.step = \"\n",
      "C:\\Users\\Administrator\\Code\\Qcodes\\qcodes\\instrument\\parameter.py:526: UserWarning: set_delay is deprecated use inter_delay or post_delay property as in `inst.inter_delay = delayvalue` instead\n",
      "  \"set_delay is deprecated use inter_delay or post_delay property \"\n"
     ]
    },
    {
     "name": "stdout",
     "output_type": "stream",
     "text": [
      "Connected to: Keysight Technologies 34465A (serial:MY57503135, firmware:A.02.14-02.40-02.14-00.49-03-01) in 0.16s\n"
     ]
    }
   ],
   "source": [
    "%run init.py"
   ]
  },
  {
   "cell_type": "code",
   "execution_count": 35,
   "metadata": {
    "collapsed": true
   },
   "outputs": [],
   "source": [
    "station.ivvi.set_dacs_zero()"
   ]
  },
  {
   "cell_type": "code",
   "execution_count": 7,
   "metadata": {
    "collapsed": true
   },
   "outputs": [],
   "source": [
    "from stationq.data.data_storage import Data, GridData\n",
    "Data.export_spyview = True\n",
    "GridData.export_spyview = True"
   ]
  },
  {
   "cell_type": "code",
   "execution_count": null,
   "metadata": {
    "collapsed": true
   },
   "outputs": [],
   "source": []
  },
  {
   "cell_type": "code",
   "execution_count": 8,
   "metadata": {},
   "outputs": [
    {
     "data": {
      "text/plain": [
       "0.000999083318"
      ]
     },
     "execution_count": 8,
     "metadata": {},
     "output_type": "execute_result"
    }
   ],
   "source": [
    "station.key1.volt()"
   ]
  },
  {
   "cell_type": "code",
   "execution_count": 9,
   "metadata": {},
   "outputs": [
    {
     "data": {
      "text/plain": [
       "1.0"
      ]
     },
     "execution_count": 9,
     "metadata": {},
     "output_type": "execute_result"
    }
   ],
   "source": [
    "station.key1.NPLC()"
   ]
  },
  {
   "cell_type": "code",
   "execution_count": 10,
   "metadata": {},
   "outputs": [
    {
     "data": {
      "text/plain": [
       "0.00129438811"
      ]
     },
     "execution_count": 10,
     "metadata": {},
     "output_type": "execute_result"
    }
   ],
   "source": [
    "station.key2.volt()"
   ]
  },
  {
   "cell_type": "code",
   "execution_count": 11,
   "metadata": {},
   "outputs": [],
   "source": [
    "from stationq.qctools.instruments import create_inst\n",
    "from qcodes.instrument_drivers.Keysight.Keysight_34465A import Keysight_34465A\n",
    "from visa import VisaIOError\n",
    "\n",
    "def check_keys(ivvi):\n",
    "    key1 = create_inst(Keysight_34465A, \"key1\", \"USB0::0x2A8D::0x0101::MY57503556::INSTR\", force_new_instance=True)\n",
    "    key2 = create_inst(Keysight_34465A, \"key2\", \"USB0::0x2A8D::0x0101::MY57503135::INSTR\", force_new_instance=True)\n",
    "    station = qc.Station(ivvi, key1, key2)\n",
    "    return station"
   ]
  },
  {
   "cell_type": "code",
   "execution_count": 12,
   "metadata": {},
   "outputs": [
    {
     "name": "stdout",
     "output_type": "stream",
     "text": [
      "Instrument key1 already exists.\n",
      "Connected to: Keysight Technologies 34465A (serial:MY57503556, firmware:A.02.14-02.40-02.14-00.49-03-01) in 0.16s\n",
      "Instrument key2 already exists.\n"
     ]
    },
    {
     "name": "stderr",
     "output_type": "stream",
     "text": [
      "C:\\Users\\Administrator\\Code\\Qcodes\\qcodes\\instrument\\parameter.py:209: UserWarning: Wrapping get method, original get method will not be directly accessible. It is recommended to define get_raw in your subclass instead.\n",
      "  warnings.warn('Wrapping get method, original get method will not '\n"
     ]
    },
    {
     "name": "stdout",
     "output_type": "stream",
     "text": [
      "Connected to: Keysight Technologies 34465A (serial:MY57503135, firmware:A.02.14-02.40-02.14-00.49-03-01) in 0.16s\n"
     ]
    }
   ],
   "source": [
    "station = check_keys(station.ivvi)"
   ]
  },
  {
   "cell_type": "markdown",
   "metadata": {},
   "source": [
    "# Definitions"
   ]
  },
  {
   "cell_type": "code",
   "execution_count": null,
   "metadata": {
    "collapsed": true
   },
   "outputs": [],
   "source": []
  },
  {
   "cell_type": "markdown",
   "metadata": {},
   "source": [
    "# Experiments"
   ]
  },
  {
   "cell_type": "code",
   "execution_count": null,
   "metadata": {
    "collapsed": true,
    "scrolled": false
   },
   "outputs": [],
   "source": []
  },
  {
   "cell_type": "markdown",
   "metadata": {
    "scrolled": false
   },
   "source": [
    "## DC IV traces"
   ]
  },
  {
   "cell_type": "code",
   "execution_count": 13,
   "metadata": {
    "collapsed": true
   },
   "outputs": [],
   "source": [
    "from stationq.experiment.measurement import BaseMeasurement\n",
    "\n",
    "class IVCurve(BaseMeasurement):\n",
    "    \n",
    "    start = -150.\n",
    "    stop = +150\n",
    "    pts = 151\n",
    "    nplc = 1\n",
    "    delay = 0.001\n",
    "        \n",
    "\n",
    "    def measure(self):\n",
    "        try:\n",
    "            self.station.key1.NPLC(self.nplc)\n",
    "            self.station.key2.NPLC(self.nplc)\n",
    "        except (VisaIOError, AttributeError):\n",
    "            self.station = check_keys(self.station.ivvi)\n",
    "            self.station.key1.NPLC(self.nplc)\n",
    "            self.station.key2.NPLC(self.nplc)\n",
    "        \n",
    "        vals = []\n",
    "        bias = np.linspace(self.start, self.stop, self.pts)\n",
    "\n",
    "        self.station.ivvi.dac1(bias[0])\n",
    "        time.sleep(1)\n",
    "        \n",
    "        for v in bias:\n",
    "            self.station.ivvi.dac1(v)\n",
    "            time.sleep(self.delay)\n",
    "            try:\n",
    "                amp = self.station.key1.volt()\n",
    "                volt = self.station.key2.volt()\n",
    "            except (VisaIOError, AttributeError):\n",
    "                self.station = check_keys(self.station.ivvi)\n",
    "                amp = self.station.key1.volt()\n",
    "                volt = self.station.key2.volt()\n",
    "            \n",
    "            self.data.add(\n",
    "            OrderedDict({\n",
    "                'Bias' : {'value' : v * 1e-6, \"unit\": 'V', \"independent_parameter\": True},\n",
    "                'Current' : {'value' : amp * 1e-7, \"unit\": 'A'},\n",
    "                'Voltage' : {'value' : volt, 'unit' : 'V'},\n",
    "                })\n",
    "            )\n",
    "            \n",
    "            \n",
    "\n",
    "class IMonitor(BaseMeasurement):\n",
    "    \n",
    "    npts = 100\n",
    "    nplc = 10\n",
    "    delay = 0.01\n",
    "    bias = 170  \n",
    "        \n",
    "    def measure(self):\n",
    "        try:\n",
    "            self.station.key1.NPLC(self.nplc)\n",
    "            self.station.key2.NPLC(self.nplc)\n",
    "        except (VisaIOError, AttributeError):\n",
    "            self.station = check_keys(self.station.ivvi)\n",
    "            self.station.key1.NPLC(self.nplc)\n",
    "            self.station.key2.NPLC(self.nplc)\n",
    "        \n",
    "        self.station.ivvi.dac1(self.bias)\n",
    "        time.sleep(1)\n",
    "        t0 = time.time()\n",
    "        \n",
    "        for i in range(self.npts):\n",
    "            time.sleep(self.delay)\n",
    "            \n",
    "            try:\n",
    "                amp = self.station.key1.volt()\n",
    "                volt = self.station.key2.volt()\n",
    "            except (VisaIOError, AttributeError):\n",
    "                self.station = check_keys(self.station.ivvi)\n",
    "                amp = self.station.key1.volt()\n",
    "                volt = self.station.key2.volt()\n",
    "            \n",
    "            self.data.add(\n",
    "                OrderedDict({\n",
    "                    'time' : {'value' : time.time() - t0, \"unit\": 's', \"independent_parameter\": True},\n",
    "                    'Current' : {'value' : amp * 1e-7, \"unit\": 'A'},\n",
    "                    'Voltage' : {'value' : volt, 'unit' : 'V'},\n",
    "                    })\n",
    "            )"
   ]
  },
  {
   "cell_type": "code",
   "execution_count": 14,
   "metadata": {
    "collapsed": true
   },
   "outputs": [],
   "source": [
    "def smooth(x, window_len=10):\n",
    "    s = np.r_[x[window_len-1:0:-1], x, x[-2:-window_len-1:-1]]\n",
    "    w = np.ones(window_len,'d')\n",
    "    y = np.convolve(w/w.sum(), s, mode='valid')\n",
    "    return y[int(window_len/2-1):int(-window_len/2)]\n",
    "\n",
    "\n",
    "def find_offset(i, v, i_th=0.05, delta=1e-9, max_it=100, smooth_win=50):\n",
    "    ifunc = interp1d(v, smooth(i, smooth_win), fill_value='extrapolate')\n",
    "    v_guess = v[np.argmin(abs(i-i_th))] \n",
    "#     print(v_guess)\n",
    "    v_pos = v_guess\n",
    "    v_neg = -v_guess\n",
    "    v_of = 0\n",
    "    i_of = 0\n",
    "    \n",
    "    for k in range(max_it):\n",
    "        print(k, v_of, i_of)\n",
    "        \n",
    "        # for each iteration:\n",
    "        # 1) using current i/v offsets, find v where i exceeds the threshold (both pos and neg side)\n",
    "        # 2) update the v-offset by adding the mean of the new found values to the current one\n",
    "        # 3) update i-offset (just the function value of i at the new 'zero' v value)\n",
    "        v_pos = fmin(lambda v: abs(ifunc(v+v_of)-i_th-i_of), v_pos, disp=0, xtol=1e-8, ftol=1e-8)\n",
    "        v_neg = fmin(lambda v: abs(ifunc(v+v_of)+i_th-i_of), v_neg, disp=0, xtol=1e-8, ftol=1e-8)\n",
    "        v_of_new = v_of + (v_pos+v_neg)/2.\n",
    "        \n",
    "        if abs(v_of - v_of_new) < delta:\n",
    "            v_of = v_of_new\n",
    "            i_of = ifunc(v_of)\n",
    "            break\n",
    "\n",
    "        v_of = v_of_new\n",
    "        i_of = ifunc(v_of)\n",
    "        \n",
    "        return i_of, v_of\n",
    "    \n",
    "def fit_linslope(i, v, ilim=(0.01, 0.25), vlim=None):\n",
    "    if ilim is not None:\n",
    "        fltr = (i>ilim[0]) & (i<ilim[1])\n",
    "    elif vlim is not None:\n",
    "        fltr = (v>vlim[0]) & (v<vlim[1])\n",
    "    else:\n",
    "        raise ValueError('must specify limits!')\n",
    "        \n",
    "    i2 = i[fltr]\n",
    "    v2 = v[fltr]\n",
    "    p = np.polyfit(np.log(i2[i2>0]), v2[i2>0], 1)\n",
    "    i_linfit = np.exp((v2-p[1])/p[0])\n",
    "    T_slope = constants.e * p[0] * 1e-6 / constants.k\n",
    "    \n",
    "    return v2, i_linfit, T_slope"
   ]
  },
  {
   "cell_type": "code",
   "execution_count": null,
   "metadata": {
    "collapsed": true
   },
   "outputs": [],
   "source": []
  },
  {
   "cell_type": "code",
   "execution_count": 34,
   "metadata": {},
   "outputs": [
    {
     "name": "stderr",
     "output_type": "stream",
     "text": [
      "2018-02-22 16:07:23,037 : measurement : INFO : Ready to measure, file location: d:\\data\\2018-02\\2018-02-22\\2018-02-22_IVCurve-#0192_4001pts_testing...\n",
      "C:\\Users\\Administrator\\Code\\Qcodes\\qcodes\\instrument\\parameter.py:209: UserWarning: Wrapping get method, original get method will not be directly accessible. It is recommended to define get_raw in your subclass instead.\n",
      "  warnings.warn('Wrapping get method, original get method will not '\n"
     ]
    },
    {
     "name": "stdout",
     "output_type": "stream",
     "text": [
      "Instrument key1 already exists.\n",
      "Connected to: Keysight Technologies 34465A (serial:MY57503556, firmware:A.02.14-02.40-02.14-00.49-03-01) in 0.16s\n",
      "Instrument key2 already exists.\n",
      "Connected to: Keysight Technologies 34465A (serial:MY57503135, firmware:A.02.14-02.40-02.14-00.49-03-01) in 0.16s\n"
     ]
    },
    {
     "name": "stderr",
     "output_type": "stream",
     "text": [
      "2018-02-22 16:37:10,993 : measurement : INFO : Measurement finished, cleaning up...\n",
      "2018-02-22 16:37:11,043 : measurement : INFO : All done!\n"
     ]
    },
    {
     "data": {
      "image/png": "[encoded data removed]",
      "text/plain": [
       "<matplotlib.figure.Figure at 0x2775663d400>"
      ]
     },
     "metadata": {},
     "output_type": "display_data"
    }
   ],
   "source": [
    "# T = 100\n",
    "# t0 = time.time()\n",
    "# delay = 5\n",
    "\n",
    "t0 = time.time()\n",
    "idx = 0\n",
    "# npts = 4001\n",
    "\n",
    "# while True:\n",
    "\n",
    "#     for avgs in [201, 401, 801, 1601]:\n",
    "    \n",
    "    ### measure IV trace\n",
    "m = IVCurve(station, namespace, info_string=f'{npts}_testing')\n",
    "m.start = 140\n",
    "m.stop = 240\n",
    "m.pts = 2001\n",
    "m.nplc = 10\n",
    "m.delay = 0.02\n",
    "m.run()\n",
    "\n",
    "bias = m.data['Current']['Bias [V]'].reshape(-1).copy()\n",
    "i = m.data['Current']['Current [A]'].reshape(-1).copy()\n",
    "v = m.data['Voltage']['Voltage [V]'].reshape(-1).copy()\n",
    "\n",
    "i -= i[i.size//2]\n",
    "bias *= 1e6\n",
    "i *= 1e9\n",
    "\n",
    "fig, ax = plt.subplots(1, 1)\n",
    "ax.plot(bias, i, 'o', ms=1)\n",
    "ax.set_xlabel('Bias voltage (uV)')\n",
    "ax.set_ylabel('Current (nA)')\n",
    "ax.set_title(m.datafilepath, size='x-small')\n",
    "ax.grid(dashes=[2,2])\n",
    "fig.savefig(m.data_prefix + \".png\", dpi=300)\n",
    "\n",
    "#     time.sleep(60)\n",
    "\n",
    "    ### measure current as function of time\n",
    "#     if idx in [0,1]:\n",
    "#         m = IMonitor(station, namespace)\n",
    "#         m.npts = 20000\n",
    "#         m.nplc = 1\n",
    "#         m.delay = 0.1\n",
    "#         m.bias = 190\n",
    "#         m.run()\n",
    "\n",
    "#         t = m.data['Current']['time [s]'].reshape(-1).copy()\n",
    "#         i = m.data['Current']['Current [A]'].reshape(-1).copy()\n",
    "#         v = m.data['Voltage']['Voltage [V]'].reshape(-1).copy()\n",
    "\n",
    "#         fig, (ax, bx) = plt.subplots(2, 1, sharex='all')\n",
    "#         ax.plot(t, i * 1e9, 'o', ms=2)\n",
    "#         bx.plot(t, v * 1e6, 'o', ms=2)\n",
    "#         ax.set_ylabel('I (nA)')\n",
    "#         bx.set_ylabel('V (uV)')\n",
    "#         bx.set_xlabel('time (s)')\n",
    "#         ax.grid(dashes=[2,2])\n",
    "#         bx.grid(dashes=[2,2])\n",
    "#         fig.savefig(m.data_prefix + \".png\", dpi=300)\n",
    "\n",
    "#         time.sleep(2)\n",
    "    \n",
    "#     idx+=1\n",
    "    \n",
    "#     plt.close('all')"
   ]
  },
  {
   "cell_type": "code",
   "execution_count": null,
   "metadata": {
    "collapsed": true
   },
   "outputs": [],
   "source": []
  },
  {
   "cell_type": "code",
   "execution_count": null,
   "metadata": {
    "collapsed": true
   },
   "outputs": [],
   "source": []
  },
  {
   "cell_type": "code",
   "execution_count": null,
   "metadata": {
    "collapsed": true
   },
   "outputs": [],
   "source": []
  },
  {
   "cell_type": "code",
   "execution_count": null,
   "metadata": {},
   "outputs": [],
   "source": [
    "t = m.data['Current']['time [s]'].reshape(-1).copy()\n",
    "i = m.data['Current']['Current [A]'].reshape(-1).copy()\n",
    "v = m.data['Voltage']['Voltage [V]'].reshape(-1).copy()\n",
    "\n",
    "fig, (ax, bx) = plt.subplots(2, 1, sharex='all')\n",
    "ax.plot(time, i * 1e9, 'o', ms=2)\n",
    "bx.plot(time, v * 1e6, 'o', ms=2)\n",
    "ax.set_ylabel('I (nA)')\n",
    "bx.set_ylabel('V (uV)')\n",
    "bx.set_xlabel('time (s)')"
   ]
  },
  {
   "cell_type": "code",
   "execution_count": null,
   "metadata": {
    "collapsed": true
   },
   "outputs": [],
   "source": []
  },
  {
   "cell_type": "code",
   "execution_count": null,
   "metadata": {
    "collapsed": true
   },
   "outputs": [],
   "source": []
  },
  {
   "cell_type": "code",
   "execution_count": null,
   "metadata": {
    "collapsed": true
   },
   "outputs": [],
   "source": []
  },
  {
   "cell_type": "code",
   "execution_count": null,
   "metadata": {},
   "outputs": [],
   "source": [
    "# bias = m.data['Current']['Bias [V]'].reshape(-1).copy()\n",
    "# i = m.data['Current']['Current [A]'].reshape(-1).copy()\n",
    "# v = m.data['Voltage']['Voltage [V]'].reshape(-1).copy()\n",
    "\n",
    "# i -= i[i.size//2]\n",
    "# v -= v[v.size//2]\n",
    "# v *= 1e6\n",
    "# i *= -1e9\n",
    "\n",
    "# i_of, v_of = find_offset(i, v, smooth_win=50)\n",
    "# i -= i_of\n",
    "# v -= v_of\n",
    "\n",
    "# fig, ax = plt.subplots(1, 1)\n",
    "# ax.plot(bias * 1e3, i * 1e6, 'o', ms=1)\n",
    "\n",
    "# fig, ax = plt.subplots(1,1)\n",
    "# ax.plot(bias * 1e3, v * 1e3, 'o', ms=1)"
   ]
  },
  {
   "cell_type": "code",
   "execution_count": null,
   "metadata": {
    "collapsed": true
   },
   "outputs": [],
   "source": []
  },
  {
   "cell_type": "code",
   "execution_count": null,
   "metadata": {},
   "outputs": [],
   "source": [
    "R = 15e3 + 12e3 + 2*1.7e3\n",
    "\n",
    "bias = m.data['Current']['Bias [V]'].reshape(-1).copy()\n",
    "i = m.data['Current']['Current [A]'].reshape(-1).copy()\n",
    "v = m.data['Voltage']['Voltage [V]'].reshape(-1).copy()\n",
    "\n",
    "i -= i[i.size//2]\n",
    "# v -= v[v.size//2]\n",
    "# v = bias\n",
    "# v -= i*R\n",
    "# v -= 10e-6\n",
    "v *= -1e6\n",
    "i *= 1e9\n",
    "\n",
    "i_of, v_of = find_offset(i, v, smooth_win=50)\n",
    "i -= i_of\n",
    "v -= v_of\n",
    "\n",
    "fig, ax = plt.subplots(1, 1)\n",
    "ax.plot(v, i, 'o', ms=1)\n",
    "\n",
    "# kwarg = dict( \n",
    "#     ilim=None, vlim=(162, 185),\n",
    "# #     vlim=None, ilim=(0.015, 0.2),\n",
    "# )\n",
    "# vfit, ifit, T = fit_linslope(i, v, **kwarg)\n",
    "# ax.plot(vfit, ifit, label=f'T(fit) = {T*1e3:.1f} mK')\n",
    "# if kwarg['ilim'] is not None:\n",
    "#     ax.axhline(kwarg['ilim'][0], dashes=[1,1], lw=1, color='k')\n",
    "# if kwarg['vlim'] is not None:\n",
    "#     ax.axvline(kwarg['vlim'][0], dashes=[1,1], lw=1, color='k')\n",
    "\n",
    "# ax.set_yscale('log')\n",
    "# ax.set_xlim(100, 200)\n",
    "\n",
    "ax.set_xlabel('Bias voltage (uV)')\n",
    "ax.set_ylabel('Current (nA)')\n",
    "ax.set_title(m.datafilepath, size='x-small')\n",
    "ax.legend()\n",
    "fig.savefig(m.data_prefix + \"_fit.png\", dpi=300)"
   ]
  },
  {
   "cell_type": "code",
   "execution_count": null,
   "metadata": {
    "collapsed": true
   },
   "outputs": [],
   "source": []
  },
  {
   "cell_type": "code",
   "execution_count": null,
   "metadata": {
    "collapsed": true
   },
   "outputs": [],
   "source": [
    "station.ivvi.set_dacs_zero()"
   ]
  },
  {
   "cell_type": "code",
   "execution_count": null,
   "metadata": {
    "collapsed": true
   },
   "outputs": [],
   "source": [
    "station.ivvi.dac1()"
   ]
  },
  {
   "cell_type": "code",
   "execution_count": null,
   "metadata": {
    "collapsed": true
   },
   "outputs": [],
   "source": []
  },
  {
   "cell_type": "code",
   "execution_count": null,
   "metadata": {
    "collapsed": true
   },
   "outputs": [],
   "source": [
    "### Testing: for use with sample simulator.\n",
    "\n",
    "m = IVCurve(station, namespace)\n",
    "m.start = -200\n",
    "m.stop = 200\n",
    "m.pts = 21\n",
    "m.run()\n",
    "\n",
    "bias = m.data['Current']['Bias [V]'].reshape(-1).copy()\n",
    "i = m.data['Current']['Current [A]'].reshape(-1).copy()\n",
    "v = m.data['Voltage']['Voltage [V]'].reshape(-1).copy()\n",
    "\n",
    "fig, ax = plt.subplots(1,1)\n",
    "ax.plot(bias * 1e3, i * 1e6, 'o')\n",
    "\n",
    "fig, ax = plt.subplots(1,1)\n",
    "ax.plot(bias * 1e3, v * 1e3, 'o')\n",
    "\n",
    "fig, ax = plt.subplots(1,1)\n",
    "ax.plot(v * 1e3, i * 1e6, 'o')\n",
    "\n",
    "R = 12e3\n",
    "bias2 = bias - i*R\n",
    "fig, ax = plt.subplots(1,1)\n",
    "ax.plot(bias2 * 1e3, i * 1e6, 'o')\n",
    "\n",
    "dv = v[-1] - v[0]\n",
    "di = i[-1] - i[0]\n",
    "print(dv/di)\n",
    "\n",
    "dv = bias2[-1] - bias2[0]\n",
    "di = i[-1] - i[0]\n",
    "print(dv/di)"
   ]
  },
  {
   "cell_type": "code",
   "execution_count": null,
   "metadata": {
    "collapsed": true
   },
   "outputs": [],
   "source": []
  },
  {
   "cell_type": "code",
   "execution_count": null,
   "metadata": {
    "collapsed": true
   },
   "outputs": [],
   "source": []
  },
  {
   "cell_type": "code",
   "execution_count": null,
   "metadata": {
    "collapsed": true
   },
   "outputs": [],
   "source": []
  },
  {
   "cell_type": "code",
   "execution_count": null,
   "metadata": {
    "collapsed": true
   },
   "outputs": [],
   "source": []
  },
  {
   "cell_type": "code",
   "execution_count": 38,
   "metadata": {},
   "outputs": [
    {
     "data": {
      "text/plain": [
       "0.045454545454545456"
      ]
     },
     "execution_count": 38,
     "metadata": {},
     "output_type": "execute_result"
    }
   ],
   "source": [
    "100e-6 / 22e3 * 1e7"
   ]
  },
  {
   "cell_type": "code",
   "execution_count": null,
   "metadata": {
    "collapsed": true
   },
   "outputs": [],
   "source": []
  }
 ],
 "metadata": {
  "kernelspec": {
   "display_name": "Python 3",
   "language": "python",
   "name": "python3"
  },
  "language_info": {
   "codemirror_mode": {
    "name": "ipython",
    "version": 3
   },
   "file_extension": ".py",
   "mimetype": "text/x-python",
   "name": "python",
   "nbconvert_exporter": "python",
   "pygments_lexer": "ipython3",
   "version": "3.6.4"
  }
 },
 "nbformat": 4,
 "nbformat_minor": 2
}
