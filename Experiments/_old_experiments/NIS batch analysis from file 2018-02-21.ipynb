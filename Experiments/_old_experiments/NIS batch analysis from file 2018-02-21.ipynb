{
 "cells": [
  {
   "cell_type": "code",
   "execution_count": 19,
   "metadata": {
    "collapsed": true
   },
   "outputs": [],
   "source": [
    "%matplotlib inline"
   ]
  },
  {
   "cell_type": "code",
   "execution_count": 184,
   "metadata": {
    "collapsed": true
   },
   "outputs": [],
   "source": [
    "import os\n",
    "import numpy as np\n",
    "import h5py\n",
    "import pandas as pd\n",
    "\n",
    "from importlib import reload\n",
    "from matplotlib import pyplot as plt\n",
    "\n",
    "from scipy import constants\n",
    "from scipy.interpolate import interp1d\n",
    "from scipy.optimize import fmin\n",
    "\n",
    "from labtools.mplplots import init_nb_plotting\n",
    "reload(init_nb_plotting)\n",
    "from labtools.mplplots.init_nb_plotting import *\n",
    "\n",
    "from labtools.mplplots import plots as mplplots\n",
    "from labtools.mplplots import tools as mpltools"
   ]
  },
  {
   "cell_type": "code",
   "execution_count": null,
   "metadata": {
    "collapsed": true
   },
   "outputs": [],
   "source": []
  },
  {
   "cell_type": "code",
   "execution_count": null,
   "metadata": {
    "collapsed": true
   },
   "outputs": [],
   "source": []
  },
  {
   "cell_type": "code",
   "execution_count": null,
   "metadata": {
    "collapsed": true
   },
   "outputs": [],
   "source": []
  },
  {
   "cell_type": "code",
   "execution_count": 4,
   "metadata": {
    "collapsed": true
   },
   "outputs": [],
   "source": [
    "folder = r\"D:\\Data\\2018-02\\2018-02-21\""
   ]
  },
  {
   "cell_type": "code",
   "execution_count": 1,
   "metadata": {
    "collapsed": true
   },
   "outputs": [],
   "source": [
    "def get_data(fp):\n",
    "    with h5py.File(fp, 'r') as f:\n",
    "        g = f['raw']\n",
    "        bias = g['Current']['Bias [V]'][:].reshape(-1)\n",
    "        current = g['Current']['Current [A]'][:].reshape(-1)\n",
    "        voltage = g['Voltage']['Voltage [V]'][:].reshape(-1)\n",
    "    return bias, current, voltage\n",
    "\n",
    "\n",
    "def smooth(x, window_len=10):\n",
    "    s = np.r_[x[window_len-1:0:-1], x, x[-2:-window_len-1:-1]]\n",
    "    w = np.ones(window_len,'d')\n",
    "    y = np.convolve(w/w.sum(), s, mode='valid')\n",
    "    return y[int(window_len/2-1):int(-window_len/2)]\n",
    "\n",
    "\n",
    "def process_data(bias, current, voltage, R):    \n",
    "    bias *= 1e6\n",
    "    voltage *= -1e6\n",
    "    current *= 1e9\n",
    "    \n",
    "    voltage -= voltage.mean()\n",
    "    current -= current[current.size//2]\n",
    "\n",
    "    iof, bof = find_offset(current, bias)\n",
    "    bias -= bof\n",
    "    current -= iof\n",
    "    \n",
    "    bias -= current * R * 1e-3\n",
    "\n",
    "    _, vof = find_offset(current, voltage)\n",
    "    voltage -= vof\n",
    "    \n",
    "    return bias, current, voltage\n",
    "\n",
    "\n",
    "def find_offset(i, v, i_th=0.05, delta=1e-9, max_it=100, smooth_win=50):\n",
    "    ifunc = interp1d(v, smooth(i, smooth_win), fill_value='extrapolate')\n",
    "    v_guess = v[np.argmin(abs(i-i_th))] \n",
    "#     print(v_guess)\n",
    "    v_pos = v_guess\n",
    "    v_neg = -v_guess\n",
    "    v_of = 0\n",
    "    i_of = 0\n",
    "    \n",
    "    for k in range(max_it):\n",
    "#         print(k, v_of, i_of)        \n",
    "        # for each iteration:\n",
    "        # 1) using current i/v offsets, find v where i exceeds the threshold (both pos and neg side)\n",
    "        # 2) update the v-offset by adding the mean of the new found values to the current one\n",
    "        # 3) update i-offset (just the function value of i at the new 'zero' v value)\n",
    "        v_pos = fmin(lambda v: abs(ifunc(v+v_of)-i_th-i_of), v_pos, disp=0, xtol=1e-8, ftol=1e-8)\n",
    "        v_neg = fmin(lambda v: abs(ifunc(v+v_of)+i_th-i_of), v_neg, disp=0, xtol=1e-8, ftol=1e-8)\n",
    "        v_of_new = v_of + (v_pos+v_neg)/2.\n",
    "        \n",
    "        if abs(v_of - v_of_new) < delta:\n",
    "            v_of = v_of_new\n",
    "            i_of = ifunc(v_of)\n",
    "            break\n",
    "\n",
    "        v_of = v_of_new\n",
    "        i_of = ifunc(v_of)\n",
    "        \n",
    "        return i_of, v_of\n",
    "\n",
    "\n",
    "def get_fit_lims(current, smoothwin=25):\n",
    "    di = np.diff(smooth(current, smoothwin))[smoothwin//2:-smoothwin//2]\n",
    "    base = di[di.size//4:-di.size//4]\n",
    "    std = np.std(base)\n",
    "    th = base.mean() + 8 * std\n",
    "    idx0 = np.argmin(abs(di[:di.size//2]-th)) + smoothwin//2\n",
    "    idx1 = np.argmin(abs(di[di.size//2:]-th)) + di.size//2 + smoothwin//2\n",
    "    return idx0, idx1\n",
    "\n",
    "\n",
    "def fit_linslope(i, v, ilim=None, vlim=None):\n",
    "    if ilim is not None:\n",
    "        fltr = (i>ilim[0]) & (i<ilim[1])\n",
    "    elif vlim is not None:\n",
    "        fltr = (v>vlim[0]) & (v<vlim[1])\n",
    "    else:\n",
    "        fltr = slice(None, None, None)\n",
    "        \n",
    "    i2 = i[fltr]\n",
    "    v2 = v[fltr]\n",
    "    p = np.polyfit(np.log(i2[i2>0]), v2[i2>0], 1)\n",
    "    i_linfit = np.exp((v2-p[1])/p[0])\n",
    "    T_slope = constants.e * p[0] * 1e-6 / constants.k\n",
    "    \n",
    "    return v2, i_linfit, T_slope\n",
    "\n",
    "\n",
    "def fit_temperature(fp, plot=True, save_plot=True):\n",
    "    bias, current, voltage = process_data(*get_data(fp), R=R)\n",
    "    idx0, idx1 = get_fit_lims(current)\n",
    "\n",
    "    bias_vfit1, bias_ifit1, bias_T1 = fit_linslope(current[idx1:], bias[idx1:], ilim=(0, 0.1))\n",
    "    bias_vfit0, bias_ifit0, bias_T0 = fit_linslope(-current[:idx0], -bias[:idx0], ilim=(0, 0.1))\n",
    "    bias_T = (bias_T0 + bias_T1) / 2. * 1e3\n",
    "\n",
    "    v_vfit1, v_ifit1, v_T1 = fit_linslope(current[idx1:], voltage[idx1:], ilim=(0, 0.1))\n",
    "    v_vfit0, v_ifit0, v_T0 = fit_linslope(-current[:idx0], -voltage[:idx0], ilim=(0, 0.1))\n",
    "    v_T = (v_T0 + v_T1) / 2. * 1e3\n",
    "\n",
    "    \n",
    "    if plot:\n",
    "        fig, ax = plt.subplots(1, 1, figsize=(4,3))\n",
    "        ax.plot(bias, current, 'ro', ms=1, alpha=0.5, label=f'T = {bias_T:.0f} mK')\n",
    "        ax.plot(voltage + v_ofs[0], current + v_ofs[1], 'bo', ms=1, alpha=0.5, label=f'T = {v_T:.0f} mK')\n",
    "\n",
    "        # ax.axvline(bias[idx0], color='r', lw=1, dashes=[3,3])\n",
    "        # ax.axvline(bias[idx1], color='r', lw=1, dashes=[3,3])\n",
    "        # ax.axvline(voltage[idx0] + v_ofs[0], color='b', lw=1, dashes=[3,3])\n",
    "        # ax.axvline(voltage[idx1] + v_ofs[0], color='b', lw=1, dashes=[3,3])\n",
    "\n",
    "        ax.plot(bias_vfit1, bias_ifit1, 'k-')\n",
    "        ax.plot(-bias_vfit0, -bias_ifit0, 'k-')\n",
    "\n",
    "        ax.plot(v_vfit1 + v_ofs[0], v_ifit1 + v_ofs[1], 'k-')\n",
    "        ax.plot(-v_vfit0 + v_ofs[0], -v_ifit0 + v_ofs[1], 'k-')\n",
    "\n",
    "        ax.grid(dashes=[1,1])\n",
    "        ax.legend(loc='lower right')\n",
    "        ax.set_xlabel('Bias voltage (uV)')\n",
    "        ax.set_ylabel('Current (nA)')\n",
    "        ax.set_title(fp, size='small')\n",
    "        \n",
    "        if save_plot:\n",
    "            figpath = os.path.splitext(fp)[0] + \"_Tfit.png\"\n",
    "#             print(figpath)\n",
    "            fig.savefig(figpath, dpi=300)\n",
    "    \n",
    "    return bias_T, v_T"
   ]
  },
  {
   "cell_type": "code",
   "execution_count": 182,
   "metadata": {},
   "outputs": [
    {
     "name": "stdout",
     "output_type": "stream",
     "text": [
      "D:\\Data\\2018-02\\2018-02-21\\2018-02-21_IVCurve-#0023_401pts_Tfit.png\n",
      "D:\\Data\\2018-02\\2018-02-21\\2018-02-21_IVCurve-#0024_801pts_Tfit.png\n",
      "D:\\Data\\2018-02\\2018-02-21\\2018-02-21_IVCurve-#0025_1601pts_Tfit.png\n",
      "D:\\Data\\2018-02\\2018-02-21\\2018-02-21_IVCurve-#0026_401pts_Tfit.png\n",
      "D:\\Data\\2018-02\\2018-02-21\\2018-02-21_IVCurve-#0027_801pts_Tfit.png\n",
      "D:\\Data\\2018-02\\2018-02-21\\2018-02-21_IVCurve-#0028_1601pts_Tfit.png\n",
      "D:\\Data\\2018-02\\2018-02-21\\2018-02-21_IVCurve-#0029_401pts_Tfit.png\n",
      "D:\\Data\\2018-02\\2018-02-21\\2018-02-21_IVCurve-#0030_801pts_Tfit.png\n",
      "D:\\Data\\2018-02\\2018-02-21\\2018-02-21_IVCurve-#0031_1601pts_Tfit.png\n",
      "D:\\Data\\2018-02\\2018-02-21\\2018-02-21_IVCurve-#0032_401pts_Tfit.png\n",
      "D:\\Data\\2018-02\\2018-02-21\\2018-02-21_IVCurve-#0033_801pts_Tfit.png\n",
      "D:\\Data\\2018-02\\2018-02-21\\2018-02-21_IVCurve-#0034_1601pts_Tfit.png\n",
      "D:\\Data\\2018-02\\2018-02-21\\2018-02-21_IVCurve-#0035_401pts_Tfit.png\n",
      "D:\\Data\\2018-02\\2018-02-21\\2018-02-21_IVCurve-#0036_801pts_Tfit.png\n",
      "D:\\Data\\2018-02\\2018-02-21\\2018-02-21_IVCurve-#0037_1601pts_Tfit.png\n",
      "D:\\Data\\2018-02\\2018-02-21\\2018-02-21_IVCurve-#0038_401pts_Tfit.png\n",
      "D:\\Data\\2018-02\\2018-02-21\\2018-02-21_IVCurve-#0039_801pts_Tfit.png\n",
      "D:\\Data\\2018-02\\2018-02-21\\2018-02-21_IVCurve-#0040_1601pts_Tfit.png\n",
      "D:\\Data\\2018-02\\2018-02-21\\2018-02-21_IVCurve-#0041_401pts_Tfit.png\n",
      "D:\\Data\\2018-02\\2018-02-21\\2018-02-21_IVCurve-#0042_801pts_Tfit.png\n",
      "D:\\Data\\2018-02\\2018-02-21\\2018-02-21_IVCurve-#0043_1601pts_Tfit.png\n",
      "D:\\Data\\2018-02\\2018-02-21\\2018-02-21_IVCurve-#0044_401pts_Tfit.png\n",
      "D:\\Data\\2018-02\\2018-02-21\\2018-02-21_IVCurve-#0045_801pts_Tfit.png\n",
      "D:\\Data\\2018-02\\2018-02-21\\2018-02-21_IVCurve-#0046_1601pts_Tfit.png\n",
      "D:\\Data\\2018-02\\2018-02-21\\2018-02-21_IVCurve-#0047_401pts_Tfit.png\n",
      "D:\\Data\\2018-02\\2018-02-21\\2018-02-21_IVCurve-#0048_801pts_Tfit.png\n",
      "D:\\Data\\2018-02\\2018-02-21\\2018-02-21_IVCurve-#0049_1601pts_Tfit.png\n",
      "D:\\Data\\2018-02\\2018-02-21\\2018-02-21_IVCurve-#0050_401pts_Tfit.png\n",
      "D:\\Data\\2018-02\\2018-02-21\\2018-02-21_IVCurve-#0051_801pts_Tfit.png\n",
      "D:\\Data\\2018-02\\2018-02-21\\2018-02-21_IVCurve-#0052_1601pts_Tfit.png\n",
      "D:\\Data\\2018-02\\2018-02-21\\2018-02-21_IVCurve-#0053_401pts_Tfit.png\n",
      "D:\\Data\\2018-02\\2018-02-21\\2018-02-21_IVCurve-#0054_801pts_Tfit.png\n",
      "D:\\Data\\2018-02\\2018-02-21\\2018-02-21_IVCurve-#0055_1601pts_Tfit.png\n",
      "D:\\Data\\2018-02\\2018-02-21\\2018-02-21_IVCurve-#0056_401pts_Tfit.png\n",
      "D:\\Data\\2018-02\\2018-02-21\\2018-02-21_IVCurve-#0057_801pts_Tfit.png\n",
      "D:\\Data\\2018-02\\2018-02-21\\2018-02-21_IVCurve-#0058_1601pts_Tfit.png\n",
      "D:\\Data\\2018-02\\2018-02-21\\2018-02-21_IVCurve-#0060_201pts_Tfit.png\n",
      "D:\\Data\\2018-02\\2018-02-21\\2018-02-21_IVCurve-#0061_401pts_Tfit.png\n",
      "D:\\Data\\2018-02\\2018-02-21\\2018-02-21_IVCurve-#0062_801pts_Tfit.png\n",
      "D:\\Data\\2018-02\\2018-02-21\\2018-02-21_IVCurve-#0063_1601pts_Tfit.png\n",
      "D:\\Data\\2018-02\\2018-02-21\\2018-02-21_IVCurve-#0064_201pts_Tfit.png\n",
      "D:\\Data\\2018-02\\2018-02-21\\2018-02-21_IVCurve-#0065_401pts_Tfit.png\n",
      "D:\\Data\\2018-02\\2018-02-21\\2018-02-21_IVCurve-#0066_801pts_Tfit.png\n",
      "D:\\Data\\2018-02\\2018-02-21\\2018-02-21_IVCurve-#0067_1601pts_Tfit.png\n",
      "D:\\Data\\2018-02\\2018-02-21\\2018-02-21_IVCurve-#0068_201pts_Tfit.png\n",
      "D:\\Data\\2018-02\\2018-02-21\\2018-02-21_IVCurve-#0069_401pts_Tfit.png\n",
      "D:\\Data\\2018-02\\2018-02-21\\2018-02-21_IVCurve-#0070_801pts_Tfit.png\n",
      "D:\\Data\\2018-02\\2018-02-21\\2018-02-21_IVCurve-#0071_1601pts_Tfit.png\n",
      "D:\\Data\\2018-02\\2018-02-21\\2018-02-21_IVCurve-#0072_201pts_Tfit.png\n",
      "D:\\Data\\2018-02\\2018-02-21\\2018-02-21_IVCurve-#0073_401pts_Tfit.png\n",
      "D:\\Data\\2018-02\\2018-02-21\\2018-02-21_IVCurve-#0074_801pts_Tfit.png\n",
      "D:\\Data\\2018-02\\2018-02-21\\2018-02-21_IVCurve-#0075_1601pts_Tfit.png\n",
      "D:\\Data\\2018-02\\2018-02-21\\2018-02-21_IVCurve-#0076_201pts_Tfit.png\n",
      "D:\\Data\\2018-02\\2018-02-21\\2018-02-21_IVCurve-#0077_401pts_Tfit.png\n",
      "D:\\Data\\2018-02\\2018-02-21\\2018-02-21_IVCurve-#0078_801pts_Tfit.png\n",
      "D:\\Data\\2018-02\\2018-02-21\\2018-02-21_IVCurve-#0079_1601pts_Tfit.png\n",
      "D:\\Data\\2018-02\\2018-02-21\\2018-02-21_IVCurve-#0080_201pts_Tfit.png\n",
      "D:\\Data\\2018-02\\2018-02-21\\2018-02-21_IVCurve-#0081_401pts_Tfit.png\n",
      "D:\\Data\\2018-02\\2018-02-21\\2018-02-21_IVCurve-#0082_801pts_Tfit.png\n",
      "D:\\Data\\2018-02\\2018-02-21\\2018-02-21_IVCurve-#0083_1601pts_Tfit.png\n",
      "D:\\Data\\2018-02\\2018-02-21\\2018-02-21_IVCurve-#0084_201pts_Tfit.png\n",
      "D:\\Data\\2018-02\\2018-02-21\\2018-02-21_IVCurve-#0085_401pts_Tfit.png\n",
      "D:\\Data\\2018-02\\2018-02-21\\2018-02-21_IVCurve-#0086_801pts_Tfit.png\n",
      "D:\\Data\\2018-02\\2018-02-21\\2018-02-21_IVCurve-#0087_1601pts_Tfit.png\n",
      "D:\\Data\\2018-02\\2018-02-21\\2018-02-21_IVCurve-#0088_201pts_Tfit.png\n",
      "D:\\Data\\2018-02\\2018-02-21\\2018-02-21_IVCurve-#0089_401pts_Tfit.png\n",
      "D:\\Data\\2018-02\\2018-02-21\\2018-02-21_IVCurve-#0090_801pts_Tfit.png\n",
      "D:\\Data\\2018-02\\2018-02-21\\2018-02-21_IVCurve-#0091_1601pts_Tfit.png\n",
      "D:\\Data\\2018-02\\2018-02-21\\2018-02-21_IVCurve-#0092_201pts_Tfit.png\n",
      "D:\\Data\\2018-02\\2018-02-21\\2018-02-21_IVCurve-#0093_401pts_Tfit.png\n",
      "D:\\Data\\2018-02\\2018-02-21\\2018-02-21_IVCurve-#0094_801pts_Tfit.png\n",
      "D:\\Data\\2018-02\\2018-02-21\\2018-02-21_IVCurve-#0095_1601pts_Tfit.png\n",
      "D:\\Data\\2018-02\\2018-02-21\\2018-02-21_IVCurve-#0096_201pts_Tfit.png\n",
      "D:\\Data\\2018-02\\2018-02-21\\2018-02-21_IVCurve-#0097_401pts_Tfit.png\n",
      "D:\\Data\\2018-02\\2018-02-21\\2018-02-21_IVCurve-#0098_801pts_Tfit.png\n",
      "D:\\Data\\2018-02\\2018-02-21\\2018-02-21_IVCurve-#0099_1601pts_Tfit.png\n",
      "D:\\Data\\2018-02\\2018-02-21\\2018-02-21_IVCurve-#0100_201pts_Tfit.png\n",
      "D:\\Data\\2018-02\\2018-02-21\\2018-02-21_IVCurve-#0101_401pts_Tfit.png\n",
      "D:\\Data\\2018-02\\2018-02-21\\2018-02-21_IVCurve-#0102_801pts_Tfit.png\n",
      "D:\\Data\\2018-02\\2018-02-21\\2018-02-21_IVCurve-#0103_1601pts_Tfit.png\n",
      "D:\\Data\\2018-02\\2018-02-21\\2018-02-21_IVCurve-#0104_201pts_Tfit.png\n",
      "D:\\Data\\2018-02\\2018-02-21\\2018-02-21_IVCurve-#0105_401pts_Tfit.png\n",
      "D:\\Data\\2018-02\\2018-02-21\\2018-02-21_IVCurve-#0106_801pts_Tfit.png\n",
      "D:\\Data\\2018-02\\2018-02-21\\2018-02-21_IVCurve-#0107_1601pts_Tfit.png\n",
      "D:\\Data\\2018-02\\2018-02-21\\2018-02-21_IVCurve-#0108_201pts_Tfit.png\n",
      "D:\\Data\\2018-02\\2018-02-21\\2018-02-21_IVCurve-#0109_401pts_Tfit.png\n",
      "D:\\Data\\2018-02\\2018-02-21\\2018-02-21_IVCurve-#0110_801pts_Tfit.png\n",
      "D:\\Data\\2018-02\\2018-02-21\\2018-02-21_IVCurve-#0111_1601pts_Tfit.png\n",
      "D:\\Data\\2018-02\\2018-02-21\\2018-02-21_IVCurve-#0112_201pts_Tfit.png\n",
      "D:\\Data\\2018-02\\2018-02-21\\2018-02-21_IVCurve-#0113_401pts_Tfit.png\n",
      "D:\\Data\\2018-02\\2018-02-21\\2018-02-21_IVCurve-#0114_801pts_Tfit.png\n",
      "D:\\Data\\2018-02\\2018-02-21\\2018-02-21_IVCurve-#0115_1601pts_Tfit.png\n",
      "D:\\Data\\2018-02\\2018-02-21\\2018-02-21_IVCurve-#0116_201pts_Tfit.png\n",
      "D:\\Data\\2018-02\\2018-02-21\\2018-02-21_IVCurve-#0117_401pts_Tfit.png\n",
      "D:\\Data\\2018-02\\2018-02-21\\2018-02-21_IVCurve-#0118_801pts_Tfit.png\n",
      "D:\\Data\\2018-02\\2018-02-21\\2018-02-21_IVCurve-#0119_1601pts_Tfit.png\n",
      "D:\\Data\\2018-02\\2018-02-21\\2018-02-21_IVCurve-#0120_201pts_Tfit.png\n",
      "D:\\Data\\2018-02\\2018-02-21\\2018-02-21_IVCurve-#0121_401pts_Tfit.png\n",
      "D:\\Data\\2018-02\\2018-02-21\\2018-02-21_IVCurve-#0122_801pts_Tfit.png\n",
      "D:\\Data\\2018-02\\2018-02-21\\2018-02-21_IVCurve-#0123_1601pts_Tfit.png\n",
      "D:\\Data\\2018-02\\2018-02-21\\2018-02-21_IVCurve-#0124_201pts_Tfit.png\n",
      "D:\\Data\\2018-02\\2018-02-21\\2018-02-21_IVCurve-#0125_401pts_Tfit.png\n",
      "D:\\Data\\2018-02\\2018-02-21\\2018-02-21_IVCurve-#0126_801pts_Tfit.png\n",
      "D:\\Data\\2018-02\\2018-02-21\\2018-02-21_IVCurve-#0127_1601pts_Tfit.png\n",
      "D:\\Data\\2018-02\\2018-02-21\\2018-02-21_IVCurve-#0128_201pts_Tfit.png\n",
      "D:\\Data\\2018-02\\2018-02-21\\2018-02-21_IVCurve-#0129_401pts_Tfit.png\n",
      "D:\\Data\\2018-02\\2018-02-21\\2018-02-21_IVCurve-#0130_801pts_Tfit.png\n",
      "D:\\Data\\2018-02\\2018-02-21\\2018-02-21_IVCurve-#0131_1601pts_Tfit.png\n",
      "D:\\Data\\2018-02\\2018-02-21\\2018-02-21_IVCurve-#0132_201pts_Tfit.png\n",
      "D:\\Data\\2018-02\\2018-02-21\\2018-02-21_IVCurve-#0133_401pts_Tfit.png\n",
      "D:\\Data\\2018-02\\2018-02-21\\2018-02-21_IVCurve-#0134_801pts_Tfit.png\n",
      "D:\\Data\\2018-02\\2018-02-21\\2018-02-21_IVCurve-#0135_1601pts_Tfit.png\n",
      "D:\\Data\\2018-02\\2018-02-21\\2018-02-21_IVCurve-#0136_201pts_Tfit.png\n",
      "D:\\Data\\2018-02\\2018-02-21\\2018-02-21_IVCurve-#0137_401pts_Tfit.png\n",
      "D:\\Data\\2018-02\\2018-02-21\\2018-02-21_IVCurve-#0138_801pts_Tfit.png\n",
      "D:\\Data\\2018-02\\2018-02-21\\2018-02-21_IVCurve-#0139_1601pts_Tfit.png\n",
      "D:\\Data\\2018-02\\2018-02-21\\2018-02-21_IVCurve-#0140_201pts_Tfit.png\n",
      "D:\\Data\\2018-02\\2018-02-21\\2018-02-21_IVCurve-#0141_401pts_Tfit.png\n",
      "D:\\Data\\2018-02\\2018-02-21\\2018-02-21_IVCurve-#0142_801pts_Tfit.png\n",
      "D:\\Data\\2018-02\\2018-02-21\\2018-02-21_IVCurve-#0143_1601pts_Tfit.png\n"
     ]
    },
    {
     "name": "stdout",
     "output_type": "stream",
     "text": [
      "D:\\Data\\2018-02\\2018-02-21\\2018-02-21_IVCurve-#0144_201pts_Tfit.png\n",
      "D:\\Data\\2018-02\\2018-02-21\\2018-02-21_IVCurve-#0145_401pts_Tfit.png\n",
      "D:\\Data\\2018-02\\2018-02-21\\2018-02-21_IVCurve-#0146_801pts_Tfit.png\n"
     ]
    }
   ],
   "source": [
    "R = 15e3 + 12e3 + 2*1.7e3\n",
    "v_ofs = (-10, 0.05)\n",
    "\n",
    "\n",
    "l_idx = []\n",
    "l_pts = []\n",
    "l_Tb = []\n",
    "l_Tv = []\n",
    "\n",
    "allfiles = [ f for f in os.listdir(folder) if ('IVCurve' in f and f[-5:] == '.hdf5') ]\n",
    "for f in allfiles[:]:\n",
    "    idx = int(os.path.splitext(f)[0].split('#')[-1].split('_')[0])\n",
    "    if idx > 20 and idx < 147:\n",
    "        pts = int(f.split('pts')[0].split('_')[-1])\n",
    "        \n",
    "        fp = os.path.join(folder, f)\n",
    "        Tb, Tv = fit_temperature(fp)\n",
    "        \n",
    "        l_idx.append(idx)\n",
    "        l_pts.append(pts)\n",
    "        l_Tb.append(Tb)\n",
    "        l_Tv.append(Tv)\n",
    "        \n",
    "        plt.close('all')"
   ]
  },
  {
   "cell_type": "code",
   "execution_count": 187,
   "metadata": {
    "collapsed": true
   },
   "outputs": [],
   "source": [
    "df = pd.DataFrame(data=dict(idx=l_idx, npts=l_pts, T_bias=l_Tb, T_voltage=l_Tv))"
   ]
  },
  {
   "cell_type": "code",
   "execution_count": 209,
   "metadata": {},
   "outputs": [
    {
     "name": "stdout",
     "output_type": "stream",
     "text": [
      "45.970425541123916 5.216089854033266\n",
      "50.65237116348934 4.962773984664244\n",
      "59.833984581863675 6.184523225831554\n"
     ]
    },
    {
     "data": {
      "image/png": "[encoded data removed]",
      "text/plain": [
       "<matplotlib.figure.Figure at 0x1694ec68ba8>"
      ]
     },
     "metadata": {},
     "output_type": "display_data"
    }
   ],
   "source": [
    "fig, ax = plt.subplots(1,1)\n",
    "\n",
    "fltr201 = (df['npts'] == 201) & (df['T_bias'] < 80)\n",
    "fltr401 = (df['npts'] == 401) & (df['T_bias'] < 80)\n",
    "fltr801 = (df['npts'] == 801) & (df['T_bias'] < 80)\n",
    "fltr1601 = (df['npts'] == 1601) & (df['T_bias'] < 80)\n",
    "\n",
    "# ax.plot(df[fltr201]['idx'], df[fltr201]['T_bias'], 'o-', ms=2, label='200 pts')\n",
    "ax.plot(df[fltr401]['idx'], df[fltr401]['T_bias'], 'o-', ms=2, label='400 pts')\n",
    "ax.plot(df[fltr801]['idx'], df[fltr801]['T_bias'], 'o-', ms=2, label='800 pts')\n",
    "ax.plot(df[fltr1601]['idx'], df[fltr1601]['T_bias'], 'o-', ms=2, label='1600 pts')\n",
    "\n",
    "\n",
    "ax.legend()\n",
    "ax.set_ylabel('T (mK)')\n",
    "ax.set_xlabel('Run number')\n",
    "\n",
    "# print(df[fltr201]['T_bias'].mean(), df[fltr201]['T_bias'].std())\n",
    "print(df[fltr401]['T_bias'].mean(), df[fltr401]['T_bias'].std())\n",
    "print(df[fltr801]['T_bias'].mean(), df[fltr801]['T_bias'].std())\n",
    "print(df[fltr1601]['T_bias'].mean(), df[fltr1601]['T_bias'].std())"
   ]
  },
  {
   "cell_type": "code",
   "execution_count": null,
   "metadata": {
    "collapsed": true
   },
   "outputs": [],
   "source": []
  },
  {
   "cell_type": "code",
   "execution_count": null,
   "metadata": {
    "collapsed": true
   },
   "outputs": [],
   "source": []
  },
  {
   "cell_type": "code",
   "execution_count": null,
   "metadata": {
    "collapsed": true
   },
   "outputs": [],
   "source": []
  },
  {
   "cell_type": "code",
   "execution_count": 179,
   "metadata": {
    "collapsed": true
   },
   "outputs": [],
   "source": []
  },
  {
   "cell_type": "code",
   "execution_count": null,
   "metadata": {
    "collapsed": true
   },
   "outputs": [],
   "source": []
  }
 ],
 "metadata": {
  "kernelspec": {
   "display_name": "Python 3",
   "language": "python",
   "name": "python3"
  },
  "language_info": {
   "codemirror_mode": {
    "name": "ipython",
    "version": 3
   },
   "file_extension": ".py",
   "mimetype": "text/x-python",
   "name": "python",
   "nbconvert_exporter": "python",
   "pygments_lexer": "ipython3",
   "version": "3.6.2"
  }
 },
 "nbformat": 4,
 "nbformat_minor": 2
}
