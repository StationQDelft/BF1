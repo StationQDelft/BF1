{
 "cells": [
  {
   "cell_type": "code",
   "execution_count": 1,
   "metadata": {},
   "outputs": [],
   "source": [
    "import numpy as np"
   ]
  },
  {
   "cell_type": "code",
   "execution_count": 17,
   "metadata": {},
   "outputs": [
    {
     "name": "stdout",
     "output_type": "stream",
     "text": [
      "549.136724134  639.181632909\n"
     ]
    }
   ],
   "source": [
    "L1 = 420e-9\n",
    "L2 = 310e-9\n",
    "C  = 0.2e-12\n",
    "f1 = 1/(2*np.pi*np.sqrt(L1*C))\n",
    "f2 = 1/(2*np.pi*np.sqrt(L2*C))\n",
    "print(\"{!s}  {!s}\".format(f1*1e-6, f2*1e-6))"
   ]
  },
  {
   "cell_type": "code",
   "execution_count": null,
   "metadata": {},
   "outputs": [],
   "source": []
  }
 ],
 "metadata": {
  "kernelspec": {
   "display_name": "Python 3",
   "language": "python",
   "name": "python3"
  },
  "language_info": {
   "codemirror_mode": {
    "name": "ipython",
    "version": 3
   },
   "file_extension": ".py",
   "mimetype": "text/x-python",
   "name": "python",
   "nbconvert_exporter": "python",
   "pygments_lexer": "ipython3",
   "version": "3.6.4"
  }
 },
 "nbformat": 4,
 "nbformat_minor": 2
}
