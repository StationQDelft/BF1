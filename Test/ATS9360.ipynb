{
 "cells": [
  {
   "cell_type": "code",
   "execution_count": null,
   "metadata": {
    "collapsed": true
   },
   "outputs": [],
   "source": [
    "import time\n",
    "import sys\n",
    "import os\n",
    "from collections import OrderedDict\n",
    "from importlib import reload\n",
    "\n",
    "import h5py\n",
    "import numpy as np\n",
    "from matplotlib import pyplot as plt\n",
    "\n",
    "%matplotlib notebook"
   ]
  },
  {
   "cell_type": "code",
   "execution_count": null,
   "metadata": {
    "collapsed": true
   },
   "outputs": [],
   "source": [
    "import qcodes\n",
    "qc = qcodes"
   ]
  },
  {
   "cell_type": "code",
   "execution_count": null,
   "metadata": {
    "collapsed": true
   },
   "outputs": [],
   "source": [
    "from stationq.experiment import ATS; reload(ATS)\n",
    "from stationq.experiment.ATS import AlazarMeasurement, AlzTimeTrace"
   ]
  },
  {
   "cell_type": "code",
   "execution_count": null,
   "metadata": {},
   "outputs": [],
   "source": [
    "%run -n ../Experiments/init_vars.py\n",
    "%run -n ../Experiments/init_defs.py"
   ]
  },
  {
   "cell_type": "code",
   "execution_count": null,
   "metadata": {},
   "outputs": [],
   "source": [
    "from stationq.qctools import instruments as instools\n",
    "\n",
    "from qcodes.instrument_drivers.AlazarTech.ATS9360 import AlazarTech_ATS9360\n",
    "alazar = instools.create_inst(AlazarTech_ATS9360, 'alazar')\n",
    "\n",
    "from qcodes.instrument_drivers.rigol.DG4000 import Rigol_DG4000\n",
    "fg = instools.create_inst(Rigol_DG4000, 'fg', address=\"TCPIP0::169.254.190.44::inst0::INSTR\")\n",
    "\n",
    "from qcodes.instrument_drivers.tektronix.AWG5014 import Tektronix_AWG5014\n",
    "awg = instools.create_inst(Tektronix_AWG5014, 'awg', address=\"TCPIP0::169.254.183.196::inst0::INSTR\")\n",
    "\n",
    "station = qc.Station(fg, alazar, awg)"
   ]
  },
  {
   "cell_type": "code",
   "execution_count": null,
   "metadata": {
    "collapsed": true
   },
   "outputs": [],
   "source": []
  },
  {
   "cell_type": "code",
   "execution_count": null,
   "metadata": {},
   "outputs": [],
   "source": [
    "class AlazarDCMeasurement(AlazarMeasurementExt):\n",
    "    \n",
    "    def __init__(self, *arg, **kw):\n",
    "        super().__init__(*arg, **kw)\n",
    "        \n",
    "        \n",
    "class AWGMultiRamp(AWGMeasurement):\n",
    "    \n",
    "    trigger_chan = 'ch2_m1'\n",
    "    ramp_chan = (2, 1)\n",
    "    ramp_pts = (3, 3)\n",
    "    ramp_min = (0, 0)\n",
    "    ramp_max = (0.1, 0.1)\n",
    "    ramp_elt_len = 10e-6\n",
    "    \n",
    "    def awg_sequence(self):\n",
    "        h = self.awghandler\n",
    "        \n",
    "        chans = list(self.ramp_chan)\n",
    "        if int(self.trigger_chan[2]) not in chans:\n",
    "            chans.append(int(self.trigger_chan[2]))\n",
    "        chans.sort()\n",
    "    \n",
    "        dt = h.get_awg_wf_dtype(chans=chans)\n",
    "        nsamples = int(h.time_to_samples(self.ramp_elt_len))\n",
    "        nreps = 1\n",
    "        wfs = []\n",
    "        \n",
    "        idxs = np.meshgrid(*[np.arange(n) for n in self.ramp_pts], indexing='ij')\n",
    "        vals = np.meshgrid(*[np.linspace(self.ramp_min[i], self.ramp_max[i], self.ramp_pts[i]) for i in range(len(self.ramp_chan))])\n",
    "        \n",
    "        for i in range(idxs[0].size):\n",
    "            _vals = [v.reshape(-1)[i] for v in vals]\n",
    "            _idxs = [idx.reshape(-1)[i] for idx in idxs]\n",
    "            wf = np.zeros(nsamples, dtype=dt)\n",
    "            for j, c in enumerate(self.ramp_chan):\n",
    "                wf[f'ch{c}_wf'] = _vals[j]\n",
    "            wf[self.trigger_chan][1:2] = 1\n",
    "            \n",
    "            wf_dict = dict(wf=wf, name='wf_{}'.format('-'.join([str(k) for k in _idxs])),\n",
    "                           nreps=nreps)\n",
    "            \n",
    "            wfs.append(wf_dict)\n",
    "\n",
    "        return wfs\n",
    "\n",
    "\n",
    "class AlazarMultiRampTest(AlazarDCMeasurement, AWGMultiRamp):\n",
    "    def __init__(self, *arg, **kw):\n",
    "        super().__init__(*arg, **kw)\n",
    "        \n",
    "\n",
    "class AWG2DRamp(AWGMeasurement):\n",
    "    \n",
    "    trigger_chan = 'ch2_m1'\n",
    "    ramp_chan = (2, 1)\n",
    "    ramp_pts = (3, 3)\n",
    "    ramp_min = (0, 0)\n",
    "    ramp_max = (1, 0.1)\n",
    "    ramp_elt_len = 10e-6\n",
    "    ramp_down_len = 1e-3\n",
    "    \n",
    "    def awg_sequence(self):\n",
    "        h = self.awghandler\n",
    "        \n",
    "        chans = list(self.ramp_chan)\n",
    "        if int(self.trigger_chan[2]) not in chans:\n",
    "            chans.append(int(self.trigger_chan[2]))\n",
    "        chans.sort()\n",
    "        \n",
    "        dt = h.get_awg_wf_dtype(chans=chans)\n",
    "        samples_per_val = int(h.time_to_samples(self.ramp_elt_len))\n",
    "        samples_down = h.time_to_samples(self.ramp_down_len)\n",
    "        samples_per_line = samples_per_val * self.ramp_pts[0] + samples_down\n",
    "        \n",
    "        wfs = []\n",
    "        for i, v in enumerate(np.linspace(h.voltage_to_wfscale()[self.ramp_chan[1]-1] * self.ramp_min[1], \n",
    "                                          h.voltage_to_wfscale()[self.ramp_chan[1]-1] * self.ramp_max[1], \n",
    "                                          self.ramp_pts[1])):            \n",
    "            wf = np.zeros(samples_per_line, dtype=dt)\n",
    "            \n",
    "            for j, w in enumerate(np.linspace(h.voltage_to_wfscale()[self.ramp_chan[0]-1] * self.ramp_min[0], \n",
    "                                              h.voltage_to_wfscale()[self.ramp_chan[0]-1] * self.ramp_max[0], \n",
    "                                              self.ramp_pts[0])):                \n",
    "                wf[f'ch{self.ramp_chan[0]}_wf'][j*samples_per_val:(j+1)*samples_per_val] = w\n",
    "                wf[f'{self.trigger_chan}'][j*samples_per_val+1:j*samples_per_val+2] = 1\n",
    "            \n",
    "            dn = np.linspace(h.voltage_to_wfscale()[self.ramp_chan[0]-1] * self.ramp_max[0], \n",
    "                             h.voltage_to_wfscale()[self.ramp_chan[0]-1] * self.ramp_min[0], \n",
    "                             samples_down)\n",
    "            \n",
    "            wf[f'ch{self.ramp_chan[0]}_wf'][-samples_down:] = dn\n",
    "            wf[f'ch{self.ramp_chan[1]}_wf'][:] = v\n",
    "            \n",
    "            wfs.append(dict(wf=wf, name=f'wf_{i}'))\n",
    "            \n",
    "        # ramp outer value down as well\n",
    "        wf = np.zeros(samples_down, dtype=dt)\n",
    "        dn = np.linspace(h.voltage_to_wfscale()[self.ramp_chan[1]-1] * self.ramp_max[1], \n",
    "                         h.voltage_to_wfscale()[self.ramp_chan[1]-1] * self.ramp_min[1], \n",
    "                         samples_down)\n",
    "        wf[f'ch{self.ramp_chan[1]}_wf'][:] = dn\n",
    "        wfs.append(dict(wf=wf, name=f'wf_{i+1}'))\n",
    "        \n",
    "        return wfs\n",
    "    \n",
    "\n",
    "class Alazar2DRampTest(AlazarMeasurementExt, AWG2DRamp):\n",
    "    def __init__(self, *arg, **kw):\n",
    "        super().__init__(*arg, **kw)"
   ]
  },
  {
   "cell_type": "code",
   "execution_count": null,
   "metadata": {
    "collapsed": true
   },
   "outputs": [],
   "source": []
  },
  {
   "cell_type": "code",
   "execution_count": null,
   "metadata": {
    "collapsed": true
   },
   "outputs": [],
   "source": []
  },
  {
   "cell_type": "code",
   "execution_count": null,
   "metadata": {},
   "outputs": [],
   "source": [
    "namespace.ats_settings['sample_rate'] = int(1e8)\n",
    "namespace.ats_settings['trigger_source1'] = 'EXTERNAL'\n",
    "namespace.awg_settings['sampling_rate'] = int(1e7)\n",
    "namespace.awg_settings['channel_1']['analog_amplitude'] = 0.2\n",
    "namespace.awg_settings['channel_2']['analog_amplitude'] = 0.2\n",
    "fg.ch1_frequency(50)\n",
    "fg.ch1_output_enabled(False)\n",
    "\n",
    "m = Alazar2DRampTest(station, namespace)\n",
    "m.trigger_src = fg\n",
    "m.trigger_chan = 'ch2_m1'\n",
    "\n",
    "m.ramp_chan = (2, 1)\n",
    "m.ramp_pts = (101, 101)\n",
    "m.ramp_min = (0, 0)\n",
    "m.ramp_max = (0.1, 0.1)\n",
    "m.ramp_elt_len = 85e-6\n",
    "m.ramp_down_len = 100e-6\n",
    "\n",
    "m.ats_int_time(80e-6)\n",
    "m.ats_integrate_samples(True)\n",
    "m.ats_average_records(False)\n",
    "m.ats_average_buffers(False)\n",
    "m.ats_records_per_buffer(m.ramp_pts[0])\n",
    "m.ats_buffers_per_acquisition(m.ramp_pts[1])\n",
    "m.ats_demod(True)\n",
    "m.IF(10e6)\n",
    "\n",
    "m.do_setup_awg = False\n",
    "m.setup()\n",
    "\n",
    "print(m.samples_per_record)"
   ]
  },
  {
   "cell_type": "code",
   "execution_count": null,
   "metadata": {},
   "outputs": [],
   "source": [
    "data = m.acquire()"
   ]
  },
  {
   "cell_type": "code",
   "execution_count": null,
   "metadata": {},
   "outputs": [],
   "source": [
    "A = data[0].reshape(101, 101)\n",
    "B = data[1].reshape(101, 101)\n",
    "A.dtype"
   ]
  },
  {
   "cell_type": "code",
   "execution_count": null,
   "metadata": {},
   "outputs": [],
   "source": [
    "fig, ax = plt.subplots(1, 1)\n",
    "im = ax.imshow(A.real, aspect='auto')\n",
    "fig.colorbar(im)\n",
    "\n",
    "fig, ax = plt.subplots(1, 1)\n",
    "ax.imshow(B.real, aspect='auto')\n",
    "fig.colorbar(im)"
   ]
  },
  {
   "cell_type": "code",
   "execution_count": null,
   "metadata": {},
   "outputs": [],
   "source": [
    "2 * 2 * 82e2 * 101 * 101 * 1e-6"
   ]
  },
  {
   "cell_type": "code",
   "execution_count": null,
   "metadata": {
    "collapsed": true
   },
   "outputs": [],
   "source": []
  }
 ],
 "metadata": {
  "kernelspec": {
   "display_name": "Python 3",
   "language": "python",
   "name": "python3"
  },
  "language_info": {
   "codemirror_mode": {
    "name": "ipython",
    "version": 3
   },
   "file_extension": ".py",
   "mimetype": "text/x-python",
   "name": "python",
   "nbconvert_exporter": "python",
   "pygments_lexer": "ipython3",
   "version": "3.6.2"
  }
 },
 "nbformat": 4,
 "nbformat_minor": 2
}
